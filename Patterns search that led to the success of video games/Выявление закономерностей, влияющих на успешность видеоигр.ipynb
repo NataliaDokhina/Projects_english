{
 "cells": [
  {
   "cell_type": "markdown",
   "metadata": {},
   "source": [
    "# Выявление закономерностей, влияющих на успешность видеоигр"
   ]
  },
  {
   "cell_type": "markdown",
   "metadata": {},
   "source": [
    "## Цель исследования:\n",
    "Выявить закономерности, влияющие на успешность игр. \n",
    "Определить потенциально успешный продукт, на основании чего дать рекомендации о проведении рекламных команий. \n",
    "\n",
    "## Ход исследования:\n",
    "Обзор данных\n",
    "\n",
    "Подготовка данных\n",
    "\n",
    "Исследовательский анализ данных\n",
    "\n",
    "Составление портрета пользователей каждого региона\n",
    "\n",
    "Проверка гипотез"
   ]
  },
  {
   "cell_type": "code",
   "execution_count": 1,
   "metadata": {},
   "outputs": [],
   "source": [
    "#импортируем необходимые для исследования библиотеки: pandas, matplotlib, seaborn, scipy, numpy\n",
    "import pandas as pd\n",
    "import matplotlib.pyplot as plt\n",
    "import seaborn as sns\n",
    "from scipy import stats as st\n",
    "import numpy as np"
   ]
  },
  {
   "cell_type": "code",
   "execution_count": 2,
   "metadata": {},
   "outputs": [],
   "source": [
    "# читаем csv-файл\n",
    "data = pd.read_csv('/datasets/games.csv')"
   ]
  },
  {
   "cell_type": "markdown",
   "metadata": {},
   "source": [
    "## Подготовка данных"
   ]
  },
  {
   "cell_type": "code",
   "execution_count": 3,
   "metadata": {},
   "outputs": [
    {
     "name": "stdout",
     "output_type": "stream",
     "text": [
      "<class 'pandas.core.frame.DataFrame'>\n",
      "RangeIndex: 16715 entries, 0 to 16714\n",
      "Data columns (total 11 columns):\n",
      " #   Column           Non-Null Count  Dtype  \n",
      "---  ------           --------------  -----  \n",
      " 0   Name             16713 non-null  object \n",
      " 1   Platform         16715 non-null  object \n",
      " 2   Year_of_Release  16446 non-null  float64\n",
      " 3   Genre            16713 non-null  object \n",
      " 4   NA_sales         16715 non-null  float64\n",
      " 5   EU_sales         16715 non-null  float64\n",
      " 6   JP_sales         16715 non-null  float64\n",
      " 7   Other_sales      16715 non-null  float64\n",
      " 8   Critic_Score     8137 non-null   float64\n",
      " 9   User_Score       10014 non-null  object \n",
      " 10  Rating           9949 non-null   object \n",
      "dtypes: float64(6), object(5)\n",
      "memory usage: 1.4+ MB\n"
     ]
    }
   ],
   "source": [
    "data.info()"
   ]
  },
  {
   "cell_type": "markdown",
   "metadata": {},
   "source": [
    "###  Обработка названий столбцов"
   ]
  },
  {
   "cell_type": "code",
   "execution_count": 4,
   "metadata": {},
   "outputs": [],
   "source": [
    "# Приводим названия столбцов к нижнему регистру\n",
    "data.columns = data.columns.str.lower()"
   ]
  },
  {
   "cell_type": "code",
   "execution_count": 5,
   "metadata": {},
   "outputs": [
    {
     "data": {
      "text/html": [
       "<div>\n",
       "<style scoped>\n",
       "    .dataframe tbody tr th:only-of-type {\n",
       "        vertical-align: middle;\n",
       "    }\n",
       "\n",
       "    .dataframe tbody tr th {\n",
       "        vertical-align: top;\n",
       "    }\n",
       "\n",
       "    .dataframe thead th {\n",
       "        text-align: right;\n",
       "    }\n",
       "</style>\n",
       "<table border=\"1\" class=\"dataframe\">\n",
       "  <thead>\n",
       "    <tr style=\"text-align: right;\">\n",
       "      <th></th>\n",
       "      <th>name</th>\n",
       "      <th>platform</th>\n",
       "      <th>year_of_release</th>\n",
       "      <th>genre</th>\n",
       "      <th>na_sales</th>\n",
       "      <th>eu_sales</th>\n",
       "      <th>jp_sales</th>\n",
       "      <th>other_sales</th>\n",
       "      <th>critic_score</th>\n",
       "      <th>user_score</th>\n",
       "      <th>rating</th>\n",
       "    </tr>\n",
       "  </thead>\n",
       "  <tbody>\n",
       "    <tr>\n",
       "      <th>0</th>\n",
       "      <td>Wii Sports</td>\n",
       "      <td>Wii</td>\n",
       "      <td>2006.0</td>\n",
       "      <td>Sports</td>\n",
       "      <td>41.36</td>\n",
       "      <td>28.96</td>\n",
       "      <td>3.77</td>\n",
       "      <td>8.45</td>\n",
       "      <td>76.0</td>\n",
       "      <td>8</td>\n",
       "      <td>E</td>\n",
       "    </tr>\n",
       "    <tr>\n",
       "      <th>1</th>\n",
       "      <td>Super Mario Bros.</td>\n",
       "      <td>NES</td>\n",
       "      <td>1985.0</td>\n",
       "      <td>Platform</td>\n",
       "      <td>29.08</td>\n",
       "      <td>3.58</td>\n",
       "      <td>6.81</td>\n",
       "      <td>0.77</td>\n",
       "      <td>NaN</td>\n",
       "      <td>NaN</td>\n",
       "      <td>NaN</td>\n",
       "    </tr>\n",
       "    <tr>\n",
       "      <th>2</th>\n",
       "      <td>Mario Kart Wii</td>\n",
       "      <td>Wii</td>\n",
       "      <td>2008.0</td>\n",
       "      <td>Racing</td>\n",
       "      <td>15.68</td>\n",
       "      <td>12.76</td>\n",
       "      <td>3.79</td>\n",
       "      <td>3.29</td>\n",
       "      <td>82.0</td>\n",
       "      <td>8.3</td>\n",
       "      <td>E</td>\n",
       "    </tr>\n",
       "    <tr>\n",
       "      <th>3</th>\n",
       "      <td>Wii Sports Resort</td>\n",
       "      <td>Wii</td>\n",
       "      <td>2009.0</td>\n",
       "      <td>Sports</td>\n",
       "      <td>15.61</td>\n",
       "      <td>10.93</td>\n",
       "      <td>3.28</td>\n",
       "      <td>2.95</td>\n",
       "      <td>80.0</td>\n",
       "      <td>8</td>\n",
       "      <td>E</td>\n",
       "    </tr>\n",
       "    <tr>\n",
       "      <th>4</th>\n",
       "      <td>Pokemon Red/Pokemon Blue</td>\n",
       "      <td>GB</td>\n",
       "      <td>1996.0</td>\n",
       "      <td>Role-Playing</td>\n",
       "      <td>11.27</td>\n",
       "      <td>8.89</td>\n",
       "      <td>10.22</td>\n",
       "      <td>1.00</td>\n",
       "      <td>NaN</td>\n",
       "      <td>NaN</td>\n",
       "      <td>NaN</td>\n",
       "    </tr>\n",
       "  </tbody>\n",
       "</table>\n",
       "</div>"
      ],
      "text/plain": [
       "                       name platform  year_of_release         genre  na_sales  \\\n",
       "0                Wii Sports      Wii           2006.0        Sports     41.36   \n",
       "1         Super Mario Bros.      NES           1985.0      Platform     29.08   \n",
       "2            Mario Kart Wii      Wii           2008.0        Racing     15.68   \n",
       "3         Wii Sports Resort      Wii           2009.0        Sports     15.61   \n",
       "4  Pokemon Red/Pokemon Blue       GB           1996.0  Role-Playing     11.27   \n",
       "\n",
       "   eu_sales  jp_sales  other_sales  critic_score user_score rating  \n",
       "0     28.96      3.77         8.45          76.0          8      E  \n",
       "1      3.58      6.81         0.77           NaN        NaN    NaN  \n",
       "2     12.76      3.79         3.29          82.0        8.3      E  \n",
       "3     10.93      3.28         2.95          80.0          8      E  \n",
       "4      8.89     10.22         1.00           NaN        NaN    NaN  "
      ]
     },
     "execution_count": 5,
     "metadata": {},
     "output_type": "execute_result"
    }
   ],
   "source": [
    "data.head()"
   ]
  },
  {
   "cell_type": "markdown",
   "metadata": {},
   "source": [
    "###  Изменение типов данных\n",
    "Изменение типов данных необходимо провести в следующих столбцах: year_of_release и user_score.\n",
    "Изменение типов данных возможно только после обработки пустых строк. "
   ]
  },
  {
   "cell_type": "markdown",
   "metadata": {},
   "source": [
    "### Обработка пропусков"
   ]
  },
  {
   "cell_type": "code",
   "execution_count": 6,
   "metadata": {},
   "outputs": [
    {
     "name": "stdout",
     "output_type": "stream",
     "text": [
      "name                  2\n",
      "platform              0\n",
      "year_of_release     269\n",
      "genre                 2\n",
      "na_sales              0\n",
      "eu_sales              0\n",
      "jp_sales              0\n",
      "other_sales           0\n",
      "critic_score       8578\n",
      "user_score         6701\n",
      "rating             6766\n",
      "dtype: int64\n"
     ]
    }
   ],
   "source": [
    " # посчитаем количество пропущенных значений для каждого столбца\n",
    "print(data.isna().sum())"
   ]
  },
  {
   "cell_type": "code",
   "execution_count": 7,
   "metadata": {},
   "outputs": [
    {
     "data": {
      "text/html": [
       "<style  type=\"text/css\" >\n",
       "#T_515c7_row0_col0,#T_515c7_row1_col0,#T_515c7_row3_col0,#T_515c7_row4_col0,#T_515c7_row5_col0,#T_515c7_row6_col0,#T_515c7_row7_col0{\n",
       "            background-color:  #3b4cc0;\n",
       "            color:  #f1f1f1;\n",
       "        }#T_515c7_row2_col0{\n",
       "            background-color:  #4358cb;\n",
       "            color:  #f1f1f1;\n",
       "        }#T_515c7_row8_col0{\n",
       "            background-color:  #b40426;\n",
       "            color:  #f1f1f1;\n",
       "        }#T_515c7_row9_col0{\n",
       "            background-color:  #f08b6e;\n",
       "            color:  #000000;\n",
       "        }#T_515c7_row10_col0{\n",
       "            background-color:  #ef886b;\n",
       "            color:  #000000;\n",
       "        }</style><table id=\"T_515c7_\" ><thead>    <tr>        <th class=\"blank level0\" ></th>        <th class=\"col_heading level0 col0\" >0</th>    </tr></thead><tbody>\n",
       "                <tr>\n",
       "                        <th id=\"T_515c7_level0_row0\" class=\"row_heading level0 row0\" >name</th>\n",
       "                        <td id=\"T_515c7_row0_col0\" class=\"data row0 col0\" >0.000000</td>\n",
       "            </tr>\n",
       "            <tr>\n",
       "                        <th id=\"T_515c7_level0_row1\" class=\"row_heading level0 row1\" >platform</th>\n",
       "                        <td id=\"T_515c7_row1_col0\" class=\"data row1 col0\" >0.000000</td>\n",
       "            </tr>\n",
       "            <tr>\n",
       "                        <th id=\"T_515c7_level0_row2\" class=\"row_heading level0 row2\" >year_of_release</th>\n",
       "                        <td id=\"T_515c7_row2_col0\" class=\"data row2 col0\" >1.600000</td>\n",
       "            </tr>\n",
       "            <tr>\n",
       "                        <th id=\"T_515c7_level0_row3\" class=\"row_heading level0 row3\" >genre</th>\n",
       "                        <td id=\"T_515c7_row3_col0\" class=\"data row3 col0\" >0.000000</td>\n",
       "            </tr>\n",
       "            <tr>\n",
       "                        <th id=\"T_515c7_level0_row4\" class=\"row_heading level0 row4\" >na_sales</th>\n",
       "                        <td id=\"T_515c7_row4_col0\" class=\"data row4 col0\" >0.000000</td>\n",
       "            </tr>\n",
       "            <tr>\n",
       "                        <th id=\"T_515c7_level0_row5\" class=\"row_heading level0 row5\" >eu_sales</th>\n",
       "                        <td id=\"T_515c7_row5_col0\" class=\"data row5 col0\" >0.000000</td>\n",
       "            </tr>\n",
       "            <tr>\n",
       "                        <th id=\"T_515c7_level0_row6\" class=\"row_heading level0 row6\" >jp_sales</th>\n",
       "                        <td id=\"T_515c7_row6_col0\" class=\"data row6 col0\" >0.000000</td>\n",
       "            </tr>\n",
       "            <tr>\n",
       "                        <th id=\"T_515c7_level0_row7\" class=\"row_heading level0 row7\" >other_sales</th>\n",
       "                        <td id=\"T_515c7_row7_col0\" class=\"data row7 col0\" >0.000000</td>\n",
       "            </tr>\n",
       "            <tr>\n",
       "                        <th id=\"T_515c7_level0_row8\" class=\"row_heading level0 row8\" >critic_score</th>\n",
       "                        <td id=\"T_515c7_row8_col0\" class=\"data row8 col0\" >51.300000</td>\n",
       "            </tr>\n",
       "            <tr>\n",
       "                        <th id=\"T_515c7_level0_row9\" class=\"row_heading level0 row9\" >user_score</th>\n",
       "                        <td id=\"T_515c7_row9_col0\" class=\"data row9 col0\" >40.100000</td>\n",
       "            </tr>\n",
       "            <tr>\n",
       "                        <th id=\"T_515c7_level0_row10\" class=\"row_heading level0 row10\" >rating</th>\n",
       "                        <td id=\"T_515c7_row10_col0\" class=\"data row10 col0\" >40.500000</td>\n",
       "            </tr>\n",
       "    </tbody></table>"
      ],
      "text/plain": [
       "<pandas.io.formats.style.Styler at 0x7f1aba130430>"
      ]
     },
     "execution_count": 7,
     "metadata": {},
     "output_type": "execute_result"
    }
   ],
   "source": [
    "# для дальнейшего принятия решения об обработке пропусков определим долю пропущенных значений в столбце\n",
    "pd.DataFrame(round(data.isna().mean()*100,1)).style.background_gradient('coolwarm')"
   ]
  },
  {
   "cell_type": "markdown",
   "metadata": {},
   "source": [
    "Обнаружены пропуски в следующих столбцах: year_of_release, critic_score, user_score, rating.\n",
    "Доля пропусков в столбце year_of_release незначительная, поэтому принято решение пропуски в данном столбце удалить. \n",
    "Пропуски в других столбцах удалить будет некорректно, так как они занимают большую долю. Заменять их медианным значением также некорректно, так как оценки, и критиков и пользователей, а также рейтинг для каждой конкретной игры могут сильно отличаться от медианного значения. \n",
    "Пропуски в столбцах critic_score решено оставить без изменений. \n",
    "Пропуски в столбце rating заполнены значением unknown.\n",
    "\n",
    "В столбце user_score также встречается значение 'tbd', что означает 'to be determined'- в настоящее время оценки не определена, возможно, данные добавятся позже. В настоящее время принято решение значения 'tbd' заменить на np.nan.\n"
   ]
  },
  {
   "cell_type": "code",
   "execution_count": 8,
   "metadata": {},
   "outputs": [],
   "source": [
    "# удаляем пропуски в столбце year_of_release\n",
    "data = data.dropna(subset=['year_of_release'])"
   ]
  },
  {
   "cell_type": "code",
   "execution_count": 9,
   "metadata": {},
   "outputs": [],
   "source": [
    "# обработка значений 'tbd'\n",
    "data['user_score'] = data['user_score'].replace ('tbd', np.nan)"
   ]
  },
  {
   "cell_type": "code",
   "execution_count": 10,
   "metadata": {},
   "outputs": [],
   "source": [
    "# обработка пропусков в столбце rating\n",
    "data['rating'] = data['rating']. fillna('Unknown')"
   ]
  },
  {
   "cell_type": "markdown",
   "metadata": {},
   "source": [
    "Причины, которые могли привести к пропускам: не всегда пользователи ставят оценки, не все игры оценены критиками и прошли оценку ESRB.\n",
    "Также могли возникнуть технические ошибки при выгрузке данных. "
   ]
  },
  {
   "cell_type": "markdown",
   "metadata": {},
   "source": [
    "### Изменение типов данных (продолжение)"
   ]
  },
  {
   "cell_type": "code",
   "execution_count": 11,
   "metadata": {},
   "outputs": [],
   "source": [
    "data['year_of_release'] = data['year_of_release'].astype('int')"
   ]
  },
  {
   "cell_type": "code",
   "execution_count": 12,
   "metadata": {},
   "outputs": [],
   "source": [
    "data['user_score'] = data['user_score'].astype('float')"
   ]
  },
  {
   "cell_type": "markdown",
   "metadata": {},
   "source": [
    "### Суммарные продажи во всех регионах"
   ]
  },
  {
   "cell_type": "code",
   "execution_count": 13,
   "metadata": {},
   "outputs": [],
   "source": [
    "data['sales_total'] = data['na_sales']+data['eu_sales']+data['jp_sales']+data['other_sales']"
   ]
  },
  {
   "cell_type": "markdown",
   "metadata": {},
   "source": [
    "### Обработка дубликатов"
   ]
  },
  {
   "cell_type": "code",
   "execution_count": 14,
   "metadata": {},
   "outputs": [
    {
     "data": {
      "text/plain": [
       "0"
      ]
     },
     "execution_count": 14,
     "metadata": {},
     "output_type": "execute_result"
    }
   ],
   "source": [
    "# поиск явных дубликатов\n",
    "data.duplicated().sum()"
   ]
  },
  {
   "cell_type": "markdown",
   "metadata": {},
   "source": [
    "##  Исследовательский анализ данных"
   ]
  },
  {
   "cell_type": "markdown",
   "metadata": {},
   "source": [
    "### Количество игр, выпускавшееся в разные годы"
   ]
  },
  {
   "cell_type": "code",
   "execution_count": 15,
   "metadata": {},
   "outputs": [
    {
     "data": {
      "image/png": "[encoded data removed]",
      "text/plain": [
       "<Figure size 432x288 with 1 Axes>"
      ]
     },
     "metadata": {
      "needs_background": "light"
     },
     "output_type": "display_data"
    }
   ],
   "source": [
    "games_per_year = data.pivot_table (index='year_of_release', values='name', aggfunc='count').plot(legend=False,)\n",
    "plt.title ('Количество игр в разные годы')\n",
    "plt.ylabel ('Количество игр')\n",
    "plt.xlabel ('Год выпуска');"
   ]
  },
  {
   "cell_type": "markdown",
   "metadata": {},
   "source": [
    "После 2000 года количество выпускавшихся игр значительно больше, чем до,  с пиковыми значениями 2008-2010 гг. "
   ]
  },
  {
   "cell_type": "markdown",
   "metadata": {},
   "source": [
    "### Изменение продаж по платформам"
   ]
  },
  {
   "cell_type": "code",
   "execution_count": 16,
   "metadata": {},
   "outputs": [
    {
     "data": {
      "text/html": [
       "<div>\n",
       "<style scoped>\n",
       "    .dataframe tbody tr th:only-of-type {\n",
       "        vertical-align: middle;\n",
       "    }\n",
       "\n",
       "    .dataframe tbody tr th {\n",
       "        vertical-align: top;\n",
       "    }\n",
       "\n",
       "    .dataframe thead th {\n",
       "        text-align: right;\n",
       "    }\n",
       "</style>\n",
       "<table border=\"1\" class=\"dataframe\">\n",
       "  <thead>\n",
       "    <tr style=\"text-align: right;\">\n",
       "      <th></th>\n",
       "      <th>sales_total</th>\n",
       "    </tr>\n",
       "    <tr>\n",
       "      <th>platform</th>\n",
       "      <th></th>\n",
       "    </tr>\n",
       "  </thead>\n",
       "  <tbody>\n",
       "    <tr>\n",
       "      <th>PS2</th>\n",
       "      <td>1233.56</td>\n",
       "    </tr>\n",
       "    <tr>\n",
       "      <th>X360</th>\n",
       "      <td>961.24</td>\n",
       "    </tr>\n",
       "    <tr>\n",
       "      <th>PS3</th>\n",
       "      <td>931.34</td>\n",
       "    </tr>\n",
       "    <tr>\n",
       "      <th>Wii</th>\n",
       "      <td>891.18</td>\n",
       "    </tr>\n",
       "    <tr>\n",
       "      <th>DS</th>\n",
       "      <td>802.78</td>\n",
       "    </tr>\n",
       "    <tr>\n",
       "      <th>PS</th>\n",
       "      <td>727.58</td>\n",
       "    </tr>\n",
       "    <tr>\n",
       "      <th>PS4</th>\n",
       "      <td>314.14</td>\n",
       "    </tr>\n",
       "    <tr>\n",
       "      <th>GBA</th>\n",
       "      <td>312.88</td>\n",
       "    </tr>\n",
       "    <tr>\n",
       "      <th>PSP</th>\n",
       "      <td>289.53</td>\n",
       "    </tr>\n",
       "    <tr>\n",
       "      <th>3DS</th>\n",
       "      <td>257.81</td>\n",
       "    </tr>\n",
       "  </tbody>\n",
       "</table>\n",
       "</div>"
      ],
      "text/plain": [
       "          sales_total\n",
       "platform             \n",
       "PS2           1233.56\n",
       "X360           961.24\n",
       "PS3            931.34\n",
       "Wii            891.18\n",
       "DS             802.78\n",
       "PS             727.58\n",
       "PS4            314.14\n",
       "GBA            312.88\n",
       "PSP            289.53\n",
       "3DS            257.81"
      ]
     },
     "metadata": {},
     "output_type": "display_data"
    }
   ],
   "source": [
    "# определим платформы с наибольшими продажами (топ 10)\n",
    "sales_per_platform_max = data.pivot_table(index= 'platform', values='sales_total', aggfunc='sum').sort_values(by='sales_total', ascending=False).head(10)\n",
    "display (sales_per_platform_max)"
   ]
  },
  {
   "cell_type": "code",
   "execution_count": 17,
   "metadata": {},
   "outputs": [
    {
     "name": "stdout",
     "output_type": "stream",
     "text": [
      "Index(['PS2', 'X360', 'PS3', 'Wii', 'DS', 'PS', 'PS4', 'GBA', 'PSP', '3DS'], dtype='object', name='platform')\n"
     ]
    }
   ],
   "source": [
    "# выведем имена платформ с наибольшими суммарными продажами\n",
    "top_pl = sales_per_platform_max .index\n",
    "print(top_pl)"
   ]
  },
  {
   "cell_type": "code",
   "execution_count": 18,
   "metadata": {},
   "outputs": [],
   "source": [
    "# проведём фильтрацию датасета по платформам с наибольшими суммарными продажами\n",
    "games = data[data['platform'].isin(top_pl)]"
   ]
  },
  {
   "cell_type": "code",
   "execution_count": 19,
   "metadata": {},
   "outputs": [
    {
     "data": {
      "image/png": "[encoded data removed]",
      "text/plain": [
       "<Figure size 1080x504 with 1 Axes>"
      ]
     },
     "metadata": {
      "needs_background": "light"
     },
     "output_type": "display_data"
    }
   ],
   "source": [
    "# построим график, на котором отображены продажи по годам среди платформ с наибольшими суммарными продажами\n",
    "games .pivot_table(index = 'year_of_release', columns = 'platform', aggfunc = 'sum', values = 'sales_total').plot(figsize = (15,7));\n",
    "plt.title ('Общие продажи по годам среди платформ лидеров рынка')\n",
    "plt.ylabel ('Общие продажи')\n",
    "plt.xlabel ('Год выпуска');"
   ]
  },
  {
   "cell_type": "markdown",
   "metadata": {},
   "source": [
    "На графике видно, что в среднем одна платформа активна в течение 5-10 лет, затем происходит замена на новую платформу."
   ]
  },
  {
   "cell_type": "markdown",
   "metadata": {},
   "source": [
    "###  Определение актуального периода"
   ]
  },
  {
   "cell_type": "markdown",
   "metadata": {},
   "source": [
    "Для дальнейшего исследования принято решение определить актульный период как 2014-2016 гг."
   ]
  },
  {
   "cell_type": "markdown",
   "metadata": {},
   "source": [
    "### Определение нескольких потенциально прибыльных платформ"
   ]
  },
  {
   "cell_type": "code",
   "execution_count": 20,
   "metadata": {},
   "outputs": [
    {
     "data": {
      "text/html": [
       "<div>\n",
       "<style scoped>\n",
       "    .dataframe tbody tr th:only-of-type {\n",
       "        vertical-align: middle;\n",
       "    }\n",
       "\n",
       "    .dataframe tbody tr th {\n",
       "        vertical-align: top;\n",
       "    }\n",
       "\n",
       "    .dataframe thead th {\n",
       "        text-align: right;\n",
       "    }\n",
       "</style>\n",
       "<table border=\"1\" class=\"dataframe\">\n",
       "  <thead>\n",
       "    <tr style=\"text-align: right;\">\n",
       "      <th></th>\n",
       "      <th>sales_total</th>\n",
       "    </tr>\n",
       "    <tr>\n",
       "      <th>platform</th>\n",
       "      <th></th>\n",
       "    </tr>\n",
       "  </thead>\n",
       "  <tbody>\n",
       "    <tr>\n",
       "      <th>PS4</th>\n",
       "      <td>288.15</td>\n",
       "    </tr>\n",
       "    <tr>\n",
       "      <th>XOne</th>\n",
       "      <td>140.36</td>\n",
       "    </tr>\n",
       "    <tr>\n",
       "      <th>3DS</th>\n",
       "      <td>86.68</td>\n",
       "    </tr>\n",
       "    <tr>\n",
       "      <th>PS3</th>\n",
       "      <td>68.18</td>\n",
       "    </tr>\n",
       "    <tr>\n",
       "      <th>X360</th>\n",
       "      <td>48.22</td>\n",
       "    </tr>\n",
       "    <tr>\n",
       "      <th>WiiU</th>\n",
       "      <td>42.98</td>\n",
       "    </tr>\n",
       "    <tr>\n",
       "      <th>PC</th>\n",
       "      <td>27.05</td>\n",
       "    </tr>\n",
       "    <tr>\n",
       "      <th>PSV</th>\n",
       "      <td>22.40</td>\n",
       "    </tr>\n",
       "    <tr>\n",
       "      <th>Wii</th>\n",
       "      <td>5.07</td>\n",
       "    </tr>\n",
       "    <tr>\n",
       "      <th>PSP</th>\n",
       "      <td>0.36</td>\n",
       "    </tr>\n",
       "  </tbody>\n",
       "</table>\n",
       "</div>"
      ],
      "text/plain": [
       "          sales_total\n",
       "platform             \n",
       "PS4            288.15\n",
       "XOne           140.36\n",
       "3DS             86.68\n",
       "PS3             68.18\n",
       "X360            48.22\n",
       "WiiU            42.98\n",
       "PC              27.05\n",
       "PSV             22.40\n",
       "Wii              5.07\n",
       "PSP              0.36"
      ]
     },
     "metadata": {},
     "output_type": "display_data"
    }
   ],
   "source": [
    "# определим общие продажи платформ для актуального периода (2014-2016 гг)\n",
    "platforms_actual = data.query('year_of_release>=2014').pivot_table(index='platform', values='sales_total', aggfunc='sum').sort_values(by='sales_total', ascending=False)\n",
    "display(platforms_actual)"
   ]
  },
  {
   "cell_type": "code",
   "execution_count": 21,
   "metadata": {},
   "outputs": [
    {
     "name": "stdout",
     "output_type": "stream",
     "text": [
      "Index(['PS4', 'XOne', '3DS', 'PS3', 'X360', 'WiiU', 'PC', 'PSV', 'Wii', 'PSP'], dtype='object', name='platform')\n"
     ]
    }
   ],
   "source": [
    "# выведем имена платформ изучаемого актуального периода\n",
    "actual_pl = platforms_actual .index\n",
    "print(actual_pl)"
   ]
  },
  {
   "cell_type": "code",
   "execution_count": 22,
   "metadata": {},
   "outputs": [],
   "source": [
    "# проведём последовательную фильтрацию датасета по платформам для актуального периода\n",
    "data_actual_pre= data[data['platform'].isin(actual_pl)]\n",
    "data_actual=data_actual_pre.query('year_of_release>=2014')"
   ]
  },
  {
   "cell_type": "code",
   "execution_count": 23,
   "metadata": {},
   "outputs": [
    {
     "data": {
      "image/png": "[encoded data removed]",
      "text/plain": [
       "<Figure size 1080x504 with 1 Axes>"
      ]
     },
     "metadata": {
      "needs_background": "light"
     },
     "output_type": "display_data"
    }
   ],
   "source": [
    "# построим график, на котором отображены продажи по годам среди платформ с наибольшими суммарными продажами\n",
    "data_actual .pivot_table(index = 'year_of_release', columns = 'platform', aggfunc = 'sum', values = 'sales_total').plot(figsize = (15,7));\n",
    "plt.title ('Общие продажи по годам среди платформ лидеров рынка для актульного периода')\n",
    "plt.ylabel ('Общие продажи')\n",
    "plt.xlabel ('Год выпуска');\n",
    "\n"
   ]
  },
  {
   "cell_type": "markdown",
   "metadata": {},
   "source": [
    "Изучив данные за актуальный период мы видим, что платформы с наибольшими общими продажами в начале изучаемого периода (Wii, X360, PS3) к 2016 году становятся практически не актуальны. \n",
    "\n",
    "К потенциально прибыльным платформам можно отнести PS4 и XOne."
   ]
  },
  {
   "cell_type": "markdown",
   "metadata": {},
   "source": [
    "### Глобальные продажи по платформам"
   ]
  },
  {
   "cell_type": "code",
   "execution_count": 24,
   "metadata": {},
   "outputs": [
    {
     "data": {
      "image/png": "[encoded data removed]",
      "text/plain": [
       "<Figure size 432x288 with 1 Axes>"
      ]
     },
     "metadata": {
      "needs_background": "light"
     },
     "output_type": "display_data"
    }
   ],
   "source": [
    "sns.boxplot(data = data_actual, x = 'platform', y = 'sales_total');\n",
    "plt.ylim(0, 2)\n",
    "plt.title ('Диаграмма размаха: общие продажи по годам среди платформ для актульного периода')\n",
    "plt.ylabel ('Общие продажи')\n",
    "plt.xlabel ('Платформы');\n"
   ]
  },
  {
   "cell_type": "markdown",
   "metadata": {},
   "source": [
    "На графике мы видим, что как по общим продажам, так и по их медианным значениям лидируют платформы X360, PS4, XOne, WiiU, Wii."
   ]
  },
  {
   "cell_type": "markdown",
   "metadata": {},
   "source": [
    "###  Корреляция между отзывами (критиков и игроков) и общими продажами для лидера рынка (PS4) изучаемого периода"
   ]
  },
  {
   "cell_type": "code",
   "execution_count": 25,
   "metadata": {},
   "outputs": [],
   "source": [
    "# проведём срез данных для одной из лидирующих платформ изучаемого периода\n",
    "data_actual_for_ps4= data_actual.query('platform == \"PS4\"')"
   ]
  },
  {
   "cell_type": "code",
   "execution_count": 26,
   "metadata": {},
   "outputs": [
    {
     "name": "stdout",
     "output_type": "stream",
     "text": [
      "Оценка критиков-общие продажи 0.40266141068104083\n"
     ]
    }
   ],
   "source": [
    "# посчитаем коэффициент Пирсона с целью определения зависимости между оценками критиков и общими продажами\n",
    "print('Оценка критиков-общие продажи', data_actual_for_ps4.loc[~data_actual_for_ps4['critic_score'].isnull(), 'sales_total'].corr(data_actual_for_ps4.loc[~data_actual_for_ps4['critic_score'].isnull(), 'critic_score']))\n"
   ]
  },
  {
   "cell_type": "code",
   "execution_count": 27,
   "metadata": {},
   "outputs": [
    {
     "data": {
      "image/png": "[encoded data removed]",
      "text/plain": [
       "<Figure size 432x288 with 1 Axes>"
      ]
     },
     "metadata": {
      "needs_background": "light"
     },
     "output_type": "display_data"
    }
   ],
   "source": [
    "# визуализируем полученные данные\n",
    "data_actual_for_ps4.plot(x='sales_total', y='critic_score', kind='scatter')\n",
    "plt.title ('Диаграмма рассеяния: общие продажи-оценка критиков')\n",
    "plt.ylabel ('Оценка критиков')\n",
    "plt.xlabel ('Общие продажи');"
   ]
  },
  {
   "cell_type": "code",
   "execution_count": 28,
   "metadata": {},
   "outputs": [
    {
     "name": "stdout",
     "output_type": "stream",
     "text": [
      "Оценка игроков-общие продажи -0.040131589472697356\n"
     ]
    }
   ],
   "source": [
    "# оценка корреляции между оценкой игроков и общими продажами\n",
    "print('Оценка игроков-общие продажи', data_actual_for_ps4.loc[~data_actual_for_ps4['user_score'].isnull(), 'sales_total'].corr(data_actual_for_ps4.loc[~data_actual_for_ps4['user_score'].isnull(), 'user_score']))"
   ]
  },
  {
   "cell_type": "code",
   "execution_count": 29,
   "metadata": {},
   "outputs": [
    {
     "data": {
      "image/png": "[encoded data removed]",
      "text/plain": [
       "<Figure size 432x288 with 1 Axes>"
      ]
     },
     "metadata": {
      "needs_background": "light"
     },
     "output_type": "display_data"
    }
   ],
   "source": [
    "data_actual_for_ps4.plot(x='sales_total', y='user_score', kind='scatter')\n",
    "plt.title ('Диаграмма рассеяния: общие продажи-оценка игроков')\n",
    "plt.ylabel ('Оценка игроков')\n",
    "plt.xlabel ('Общие продажи');"
   ]
  },
  {
   "cell_type": "markdown",
   "metadata": {},
   "source": [
    "Изучив данные о корреляции между оценками критиков и игроков и общими продажами для одной из платформ (PS3) выяснили, что значимой зависимости между оценками и продажами нет, однако на общие продажи оценки критиков влияют больше, чем оценки игроков (положительная корреляция выражена сильнее-коэффициент Пирсона ближе к 1). "
   ]
  },
  {
   "cell_type": "markdown",
   "metadata": {},
   "source": [
    "### Оценка корреляции для других платформ"
   ]
  },
  {
   "cell_type": "code",
   "execution_count": 30,
   "metadata": {
    "scrolled": true
   },
   "outputs": [
    {
     "data": {
      "image/png": "[encoded data removed]",
      "text/plain": [
       "<Figure size 1080x360 with 2 Axes>"
      ]
     },
     "metadata": {
      "needs_background": "light"
     },
     "output_type": "display_data"
    },
    {
     "data": {
      "image/png": "[encoded data removed]",
      "text/plain": [
       "<Figure size 1080x360 with 2 Axes>"
      ]
     },
     "metadata": {
      "needs_background": "light"
     },
     "output_type": "display_data"
    },
    {
     "data": {
      "image/png": "[encoded data removed]",
      "text/plain": [
       "<Figure size 1080x360 with 2 Axes>"
      ]
     },
     "metadata": {
      "needs_background": "light"
     },
     "output_type": "display_data"
    },
    {
     "data": {
      "image/png": "[encoded data removed]",
      "text/plain": [
       "<Figure size 1080x360 with 2 Axes>"
      ]
     },
     "metadata": {
      "needs_background": "light"
     },
     "output_type": "display_data"
    },
    {
     "data": {
      "image/png": "[encoded data removed]",
      "text/plain": [
       "<Figure size 1080x360 with 2 Axes>"
      ]
     },
     "metadata": {
      "needs_background": "light"
     },
     "output_type": "display_data"
    },
    {
     "data": {
      "image/png": "[encoded data removed]",
      "text/plain": [
       "<Figure size 1080x360 with 2 Axes>"
      ]
     },
     "metadata": {
      "needs_background": "light"
     },
     "output_type": "display_data"
    },
    {
     "data": {
      "image/png": "[encoded data removed]",
      "text/plain": [
       "<Figure size 1080x360 with 2 Axes>"
      ]
     },
     "metadata": {
      "needs_background": "light"
     },
     "output_type": "display_data"
    },
    {
     "data": {
      "image/png": "[encoded data removed]",
      "text/plain": [
       "<Figure size 1080x360 with 2 Axes>"
      ]
     },
     "metadata": {
      "needs_background": "light"
     },
     "output_type": "display_data"
    },
    {
     "data": {
      "image/png": "[encoded data removed]",
      "text/plain": [
       "<Figure size 1080x360 with 2 Axes>"
      ]
     },
     "metadata": {
      "needs_background": "light"
     },
     "output_type": "display_data"
    }
   ],
   "source": [
    "for pl in ['XOne', '3DS', 'PS3', 'X360', 'WiiU', 'PC', 'PSV', 'Wii', 'PSP']:\n",
    "    fig, ax = plt.subplots(1,2, figsize = (15,5))\n",
    "    ax = ax.ravel()\n",
    "    data_actual.query('platform == @pl').plot(kind='scatter', x='critic_score', y='sales_total', ax = ax[0])\n",
    "    data_actual.query('user_score != \"tbd\" and user_score != -10 and platform == @pl').plot(kind='scatter', x='user_score', y='sales_total', ax = ax[1])\n",
    "    fig.suptitle(pl)"
   ]
  },
  {
   "cell_type": "markdown",
   "metadata": {},
   "source": [
    "На представленных графиках также можно отметить, что явной корреляции между оценками игроков и критиков и общими продажами для остальных платформ актуального периода  не выявлено."
   ]
  },
  {
   "cell_type": "code",
   "execution_count": 31,
   "metadata": {},
   "outputs": [
    {
     "name": "stdout",
     "output_type": "stream",
     "text": [
      "PS4\n",
      "Оценка игроков-общие продажи -0.040131589472697356\n",
      "Оценка критиков-общие продажи 0.40266141068104083\n",
      "XOne\n",
      "Оценка игроков-общие продажи -0.0703839280647581\n",
      "Оценка критиков-общие продажи 0.42867694370333226\n",
      "3DS\n",
      "Оценка игроков-общие продажи 0.2151932718527028\n",
      "Оценка критиков-общие продажи 0.31411749286905105\n",
      "PS3\n",
      "Оценка игроков-общие продажи -0.16676141347662116\n",
      "Оценка критиков-общие продажи 0.44657460493190704\n",
      "X360\n",
      "Оценка игроков-общие продажи -0.138444570945665\n",
      "Оценка критиков-общие продажи 0.5257228356581523\n",
      "WiiU\n",
      "Оценка игроков-общие продажи 0.4079264579217078\n",
      "Оценка критиков-общие продажи 0.370201412480884\n",
      "PC\n",
      "Оценка игроков-общие продажи -0.07159665703472452\n",
      "Оценка критиков-общие продажи 0.17463413769350036\n",
      "PSV\n",
      "Оценка игроков-общие продажи -0.16845504978064446\n",
      "Оценка критиков-общие продажи 0.04266490657009526\n",
      "Wii\n",
      "Оценка игроков-общие продажи 1.0\n",
      "Оценка критиков-общие продажи nan\n",
      "PSP\n",
      "Оценка игроков-общие продажи nan\n",
      "Оценка критиков-общие продажи nan\n"
     ]
    }
   ],
   "source": [
    "platforms = ['PS4', 'XOne', '3DS', 'PS3', 'X360', 'WiiU', 'PC', 'PSV', 'Wii', 'PSP']\n",
    "for pl in platforms:\n",
    "    print(pl)\n",
    "    print( 'Оценка игроков-общие продажи', data_actual.query ('platform ==@pl and critic_score != \"nan\"')['sales_total'].corr(data_actual.query ('platform ==@pl')['user_score']))\n",
    "    print('Оценка критиков-общие продажи', data_actual.query ('platform ==@pl')['sales_total'].corr(data_actual.query ('platform ==@pl')['critic_score']))"
   ]
  },
  {
   "cell_type": "markdown",
   "metadata": {},
   "source": [
    "При подсчёте корреляций для других платформ также определяется то, что оценки критиктов больше влияют на продажи, чем оценки игроков. "
   ]
  },
  {
   "cell_type": "markdown",
   "metadata": {},
   "source": [
    "### Общее распределение игр по жанрам"
   ]
  },
  {
   "cell_type": "code",
   "execution_count": 32,
   "metadata": {},
   "outputs": [
    {
     "data": {
      "image/png": "[encoded data removed]",
      "text/plain": [
       "<Figure size 432x288 with 1 Axes>"
      ]
     },
     "metadata": {
      "needs_background": "light"
     },
     "output_type": "display_data"
    }
   ],
   "source": [
    "sns.boxplot(data = data_actual, x = 'genre', y = 'sales_total');\n",
    "plt.ylim(0, 2.5)\n",
    "plt.title ('Диаграмма размаха: общие продажи по жанрам для актуального периода')\n",
    "plt.ylabel ('Общие продажи')\n",
    "plt.xlabel ('Жанры')\n",
    "plt.xticks(rotation=90);\n"
   ]
  },
  {
   "cell_type": "markdown",
   "metadata": {},
   "source": [
    "Изучив данные о медианных продажах к самому прибыльному жанру можно отнести Shooter.\n",
    "\n",
    "Жанр с минимальным значением медианной продажи - Adventure."
   ]
  },
  {
   "cell_type": "markdown",
   "metadata": {},
   "source": [
    "## Портрет пользователя каждого региона"
   ]
  },
  {
   "cell_type": "markdown",
   "metadata": {},
   "source": [
    "### самые популярные платформы в Северной Америке (топ-5)"
   ]
  },
  {
   "cell_type": "code",
   "execution_count": 33,
   "metadata": {},
   "outputs": [
    {
     "data": {
      "text/html": [
       "<div>\n",
       "<style scoped>\n",
       "    .dataframe tbody tr th:only-of-type {\n",
       "        vertical-align: middle;\n",
       "    }\n",
       "\n",
       "    .dataframe tbody tr th {\n",
       "        vertical-align: top;\n",
       "    }\n",
       "\n",
       "    .dataframe thead th {\n",
       "        text-align: right;\n",
       "    }\n",
       "</style>\n",
       "<table border=\"1\" class=\"dataframe\">\n",
       "  <thead>\n",
       "    <tr style=\"text-align: right;\">\n",
       "      <th></th>\n",
       "      <th>na_sales</th>\n",
       "    </tr>\n",
       "    <tr>\n",
       "      <th>platform</th>\n",
       "      <th></th>\n",
       "    </tr>\n",
       "  </thead>\n",
       "  <tbody>\n",
       "    <tr>\n",
       "      <th>PS4</th>\n",
       "      <td>98.61</td>\n",
       "    </tr>\n",
       "    <tr>\n",
       "      <th>XOne</th>\n",
       "      <td>81.27</td>\n",
       "    </tr>\n",
       "    <tr>\n",
       "      <th>X360</th>\n",
       "      <td>28.30</td>\n",
       "    </tr>\n",
       "    <tr>\n",
       "      <th>3DS</th>\n",
       "      <td>22.64</td>\n",
       "    </tr>\n",
       "    <tr>\n",
       "      <th>PS3</th>\n",
       "      <td>22.05</td>\n",
       "    </tr>\n",
       "  </tbody>\n",
       "</table>\n",
       "</div>"
      ],
      "text/plain": [
       "          na_sales\n",
       "platform          \n",
       "PS4          98.61\n",
       "XOne         81.27\n",
       "X360         28.30\n",
       "3DS          22.64\n",
       "PS3          22.05"
      ]
     },
     "execution_count": 33,
     "metadata": {},
     "output_type": "execute_result"
    }
   ],
   "source": [
    "platforms_in_na = data_actual.pivot_table (index='platform', values='na_sales', aggfunc='sum'). sort_values(by='na_sales', ascending=False)\n",
    "platforms_in_na.head()"
   ]
  },
  {
   "cell_type": "code",
   "execution_count": 34,
   "metadata": {},
   "outputs": [
    {
     "data": {
      "text/html": [
       "<div>\n",
       "<style scoped>\n",
       "    .dataframe tbody tr th:only-of-type {\n",
       "        vertical-align: middle;\n",
       "    }\n",
       "\n",
       "    .dataframe tbody tr th {\n",
       "        vertical-align: top;\n",
       "    }\n",
       "\n",
       "    .dataframe thead th {\n",
       "        text-align: right;\n",
       "    }\n",
       "</style>\n",
       "<table border=\"1\" class=\"dataframe\">\n",
       "  <thead>\n",
       "    <tr style=\"text-align: right;\">\n",
       "      <th></th>\n",
       "      <th>na_sales</th>\n",
       "    </tr>\n",
       "    <tr>\n",
       "      <th>platform</th>\n",
       "      <th></th>\n",
       "    </tr>\n",
       "  </thead>\n",
       "  <tbody>\n",
       "    <tr>\n",
       "      <th>PS4</th>\n",
       "      <td>98.61</td>\n",
       "    </tr>\n",
       "    <tr>\n",
       "      <th>XOne</th>\n",
       "      <td>81.27</td>\n",
       "    </tr>\n",
       "    <tr>\n",
       "      <th>X360</th>\n",
       "      <td>28.30</td>\n",
       "    </tr>\n",
       "    <tr>\n",
       "      <th>3DS</th>\n",
       "      <td>22.64</td>\n",
       "    </tr>\n",
       "    <tr>\n",
       "      <th>PS3</th>\n",
       "      <td>22.05</td>\n",
       "    </tr>\n",
       "    <tr>\n",
       "      <th>WiiU</th>\n",
       "      <td>19.36</td>\n",
       "    </tr>\n",
       "    <tr>\n",
       "      <th>PC</th>\n",
       "      <td>7.23</td>\n",
       "    </tr>\n",
       "    <tr>\n",
       "      <th>PSV</th>\n",
       "      <td>2.52</td>\n",
       "    </tr>\n",
       "    <tr>\n",
       "      <th>Wii</th>\n",
       "      <td>2.08</td>\n",
       "    </tr>\n",
       "    <tr>\n",
       "      <th>PSP</th>\n",
       "      <td>0.00</td>\n",
       "    </tr>\n",
       "    <tr>\n",
       "      <th>Other</th>\n",
       "      <td>31.19</td>\n",
       "    </tr>\n",
       "  </tbody>\n",
       "</table>\n",
       "</div>"
      ],
      "text/plain": [
       "          na_sales\n",
       "platform          \n",
       "PS4          98.61\n",
       "XOne         81.27\n",
       "X360         28.30\n",
       "3DS          22.64\n",
       "PS3          22.05\n",
       "WiiU         19.36\n",
       "PC            7.23\n",
       "PSV           2.52\n",
       "Wii           2.08\n",
       "PSP           0.00\n",
       "Other        31.19"
      ]
     },
     "metadata": {},
     "output_type": "display_data"
    }
   ],
   "source": [
    "# объединим платформы, не вошедние в топ-5  в 'others' и посчитаем общую для них сумму продаж\n",
    "platforms_in_na.loc['Other', 'na_sales'] = platforms_in_na.iloc[5:].sum()[0]\n",
    "display(platforms_in_na)"
   ]
  },
  {
   "cell_type": "code",
   "execution_count": 35,
   "metadata": {},
   "outputs": [
    {
     "name": "stdout",
     "output_type": "stream",
     "text": [
      "11\n"
     ]
    }
   ],
   "source": [
    "print(len(platforms_in_na))"
   ]
  },
  {
   "cell_type": "code",
   "execution_count": 36,
   "metadata": {},
   "outputs": [],
   "source": [
    "# оставим с таблице только топ-5 и others\n",
    "platforms_in_na = platforms_in_na.iloc [[0,1, 2, 3, 4, 10]]"
   ]
  },
  {
   "cell_type": "code",
   "execution_count": 37,
   "metadata": {},
   "outputs": [
    {
     "data": {
      "text/html": [
       "<div>\n",
       "<style scoped>\n",
       "    .dataframe tbody tr th:only-of-type {\n",
       "        vertical-align: middle;\n",
       "    }\n",
       "\n",
       "    .dataframe tbody tr th {\n",
       "        vertical-align: top;\n",
       "    }\n",
       "\n",
       "    .dataframe thead th {\n",
       "        text-align: right;\n",
       "    }\n",
       "</style>\n",
       "<table border=\"1\" class=\"dataframe\">\n",
       "  <thead>\n",
       "    <tr style=\"text-align: right;\">\n",
       "      <th></th>\n",
       "      <th>na_sales</th>\n",
       "    </tr>\n",
       "    <tr>\n",
       "      <th>platform</th>\n",
       "      <th></th>\n",
       "    </tr>\n",
       "  </thead>\n",
       "  <tbody>\n",
       "    <tr>\n",
       "      <th>PS4</th>\n",
       "      <td>98.61</td>\n",
       "    </tr>\n",
       "    <tr>\n",
       "      <th>XOne</th>\n",
       "      <td>81.27</td>\n",
       "    </tr>\n",
       "    <tr>\n",
       "      <th>X360</th>\n",
       "      <td>28.30</td>\n",
       "    </tr>\n",
       "    <tr>\n",
       "      <th>3DS</th>\n",
       "      <td>22.64</td>\n",
       "    </tr>\n",
       "    <tr>\n",
       "      <th>PS3</th>\n",
       "      <td>22.05</td>\n",
       "    </tr>\n",
       "    <tr>\n",
       "      <th>Other</th>\n",
       "      <td>31.19</td>\n",
       "    </tr>\n",
       "  </tbody>\n",
       "</table>\n",
       "</div>"
      ],
      "text/plain": [
       "          na_sales\n",
       "platform          \n",
       "PS4          98.61\n",
       "XOne         81.27\n",
       "X360         28.30\n",
       "3DS          22.64\n",
       "PS3          22.05\n",
       "Other        31.19"
      ]
     },
     "metadata": {},
     "output_type": "display_data"
    }
   ],
   "source": [
    "display(platforms_in_na)"
   ]
  },
  {
   "cell_type": "code",
   "execution_count": 38,
   "metadata": {},
   "outputs": [
    {
     "data": {
      "text/plain": [
       "284.0"
      ]
     },
     "execution_count": 38,
     "metadata": {},
     "output_type": "execute_result"
    }
   ],
   "source": [
    "# посчитаем общую сумму продаж платформ по региону\n",
    "platforms_in_na['na_sales']. sum ().round(0)"
   ]
  },
  {
   "cell_type": "code",
   "execution_count": 39,
   "metadata": {},
   "outputs": [],
   "source": [
    "# определим процентное соотношение продаж топ-5 платформ и остальных к общим продажам по региону\n",
    "platforms_in_na['percent_sales'] = (platforms_in_na['na_sales']/284.0*100).round(0)"
   ]
  },
  {
   "cell_type": "code",
   "execution_count": 40,
   "metadata": {},
   "outputs": [
    {
     "data": {
      "text/html": [
       "<div>\n",
       "<style scoped>\n",
       "    .dataframe tbody tr th:only-of-type {\n",
       "        vertical-align: middle;\n",
       "    }\n",
       "\n",
       "    .dataframe tbody tr th {\n",
       "        vertical-align: top;\n",
       "    }\n",
       "\n",
       "    .dataframe thead th {\n",
       "        text-align: right;\n",
       "    }\n",
       "</style>\n",
       "<table border=\"1\" class=\"dataframe\">\n",
       "  <thead>\n",
       "    <tr style=\"text-align: right;\">\n",
       "      <th></th>\n",
       "      <th>na_sales</th>\n",
       "      <th>percent_sales</th>\n",
       "    </tr>\n",
       "    <tr>\n",
       "      <th>platform</th>\n",
       "      <th></th>\n",
       "      <th></th>\n",
       "    </tr>\n",
       "  </thead>\n",
       "  <tbody>\n",
       "    <tr>\n",
       "      <th>PS4</th>\n",
       "      <td>98.61</td>\n",
       "      <td>35.0</td>\n",
       "    </tr>\n",
       "    <tr>\n",
       "      <th>XOne</th>\n",
       "      <td>81.27</td>\n",
       "      <td>29.0</td>\n",
       "    </tr>\n",
       "    <tr>\n",
       "      <th>X360</th>\n",
       "      <td>28.30</td>\n",
       "      <td>10.0</td>\n",
       "    </tr>\n",
       "    <tr>\n",
       "      <th>3DS</th>\n",
       "      <td>22.64</td>\n",
       "      <td>8.0</td>\n",
       "    </tr>\n",
       "    <tr>\n",
       "      <th>PS3</th>\n",
       "      <td>22.05</td>\n",
       "      <td>8.0</td>\n",
       "    </tr>\n",
       "    <tr>\n",
       "      <th>Other</th>\n",
       "      <td>31.19</td>\n",
       "      <td>11.0</td>\n",
       "    </tr>\n",
       "  </tbody>\n",
       "</table>\n",
       "</div>"
      ],
      "text/plain": [
       "          na_sales  percent_sales\n",
       "platform                         \n",
       "PS4          98.61           35.0\n",
       "XOne         81.27           29.0\n",
       "X360         28.30           10.0\n",
       "3DS          22.64            8.0\n",
       "PS3          22.05            8.0\n",
       "Other        31.19           11.0"
      ]
     },
     "metadata": {},
     "output_type": "display_data"
    }
   ],
   "source": [
    "display(platforms_in_na)"
   ]
  },
  {
   "cell_type": "code",
   "execution_count": 42,
   "metadata": {},
   "outputs": [
    {
     "data": {
      "image/png": "[encoded data removed]",
      "text/plain": [
       "<Figure size 288x288 with 1 Axes>"
      ]
     },
     "metadata": {},
     "output_type": "display_data"
    }
   ],
   "source": [
    "# визуализируем полученные данные\n",
    "platforms_in_na.plot(kind='pie',y='percent_sales', legend=False, figsize=(4,4), autopct='%.0f%%')\n",
    "plt.title ('Популярные платформы в Северной Америке')\n",
    "plt.ylabel ('Процент продаж')\n",
    "plt.xlabel ('Платформы');"
   ]
  },
  {
   "cell_type": "markdown",
   "metadata": {},
   "source": [
    "### самые популярные платформы в Европе (топ-5)"
   ]
  },
  {
   "cell_type": "code",
   "execution_count": 43,
   "metadata": {},
   "outputs": [
    {
     "data": {
      "text/html": [
       "<div>\n",
       "<style scoped>\n",
       "    .dataframe tbody tr th:only-of-type {\n",
       "        vertical-align: middle;\n",
       "    }\n",
       "\n",
       "    .dataframe tbody tr th {\n",
       "        vertical-align: top;\n",
       "    }\n",
       "\n",
       "    .dataframe thead th {\n",
       "        text-align: right;\n",
       "    }\n",
       "</style>\n",
       "<table border=\"1\" class=\"dataframe\">\n",
       "  <thead>\n",
       "    <tr style=\"text-align: right;\">\n",
       "      <th></th>\n",
       "      <th>eu_sales</th>\n",
       "    </tr>\n",
       "    <tr>\n",
       "      <th>platform</th>\n",
       "      <th></th>\n",
       "    </tr>\n",
       "  </thead>\n",
       "  <tbody>\n",
       "    <tr>\n",
       "      <th>PS4</th>\n",
       "      <td>130.04</td>\n",
       "    </tr>\n",
       "    <tr>\n",
       "      <th>XOne</th>\n",
       "      <td>46.25</td>\n",
       "    </tr>\n",
       "    <tr>\n",
       "      <th>PS3</th>\n",
       "      <td>25.54</td>\n",
       "    </tr>\n",
       "    <tr>\n",
       "      <th>PC</th>\n",
       "      <td>17.97</td>\n",
       "    </tr>\n",
       "    <tr>\n",
       "      <th>3DS</th>\n",
       "      <td>16.12</td>\n",
       "    </tr>\n",
       "  </tbody>\n",
       "</table>\n",
       "</div>"
      ],
      "text/plain": [
       "          eu_sales\n",
       "platform          \n",
       "PS4         130.04\n",
       "XOne         46.25\n",
       "PS3          25.54\n",
       "PC           17.97\n",
       "3DS          16.12"
      ]
     },
     "execution_count": 43,
     "metadata": {},
     "output_type": "execute_result"
    }
   ],
   "source": [
    "platforms_in_eu = data_actual.pivot_table (index='platform', values='eu_sales', aggfunc='sum'). sort_values(by='eu_sales', ascending=False)\n",
    "platforms_in_eu.head()"
   ]
  },
  {
   "cell_type": "code",
   "execution_count": 44,
   "metadata": {},
   "outputs": [
    {
     "data": {
      "text/html": [
       "<div>\n",
       "<style scoped>\n",
       "    .dataframe tbody tr th:only-of-type {\n",
       "        vertical-align: middle;\n",
       "    }\n",
       "\n",
       "    .dataframe tbody tr th {\n",
       "        vertical-align: top;\n",
       "    }\n",
       "\n",
       "    .dataframe thead th {\n",
       "        text-align: right;\n",
       "    }\n",
       "</style>\n",
       "<table border=\"1\" class=\"dataframe\">\n",
       "  <thead>\n",
       "    <tr style=\"text-align: right;\">\n",
       "      <th></th>\n",
       "      <th>eu_sales</th>\n",
       "    </tr>\n",
       "    <tr>\n",
       "      <th>platform</th>\n",
       "      <th></th>\n",
       "    </tr>\n",
       "  </thead>\n",
       "  <tbody>\n",
       "    <tr>\n",
       "      <th>PS4</th>\n",
       "      <td>130.04</td>\n",
       "    </tr>\n",
       "    <tr>\n",
       "      <th>XOne</th>\n",
       "      <td>46.25</td>\n",
       "    </tr>\n",
       "    <tr>\n",
       "      <th>PS3</th>\n",
       "      <td>25.54</td>\n",
       "    </tr>\n",
       "    <tr>\n",
       "      <th>PC</th>\n",
       "      <td>17.97</td>\n",
       "    </tr>\n",
       "    <tr>\n",
       "      <th>3DS</th>\n",
       "      <td>16.12</td>\n",
       "    </tr>\n",
       "    <tr>\n",
       "      <th>X360</th>\n",
       "      <td>15.49</td>\n",
       "    </tr>\n",
       "    <tr>\n",
       "      <th>WiiU</th>\n",
       "      <td>13.15</td>\n",
       "    </tr>\n",
       "    <tr>\n",
       "      <th>PSV</th>\n",
       "      <td>3.53</td>\n",
       "    </tr>\n",
       "    <tr>\n",
       "      <th>Wii</th>\n",
       "      <td>2.59</td>\n",
       "    </tr>\n",
       "    <tr>\n",
       "      <th>PSP</th>\n",
       "      <td>0.00</td>\n",
       "    </tr>\n",
       "    <tr>\n",
       "      <th>Other</th>\n",
       "      <td>34.76</td>\n",
       "    </tr>\n",
       "  </tbody>\n",
       "</table>\n",
       "</div>"
      ],
      "text/plain": [
       "          eu_sales\n",
       "platform          \n",
       "PS4         130.04\n",
       "XOne         46.25\n",
       "PS3          25.54\n",
       "PC           17.97\n",
       "3DS          16.12\n",
       "X360         15.49\n",
       "WiiU         13.15\n",
       "PSV           3.53\n",
       "Wii           2.59\n",
       "PSP           0.00\n",
       "Other        34.76"
      ]
     },
     "metadata": {},
     "output_type": "display_data"
    }
   ],
   "source": [
    "# объединяем платформы, не вошедние в топ-5  в 'others' и посчитаем общую для них сумму продаж\n",
    "platforms_in_eu.loc['Other', 'eu_sales'] = platforms_in_eu.iloc[5:].sum()[0]\n",
    "display(platforms_in_eu)"
   ]
  },
  {
   "cell_type": "code",
   "execution_count": 45,
   "metadata": {},
   "outputs": [
    {
     "name": "stdout",
     "output_type": "stream",
     "text": [
      "11\n"
     ]
    }
   ],
   "source": [
    "print(len(platforms_in_eu))"
   ]
  },
  {
   "cell_type": "code",
   "execution_count": 46,
   "metadata": {},
   "outputs": [
    {
     "data": {
      "text/html": [
       "<div>\n",
       "<style scoped>\n",
       "    .dataframe tbody tr th:only-of-type {\n",
       "        vertical-align: middle;\n",
       "    }\n",
       "\n",
       "    .dataframe tbody tr th {\n",
       "        vertical-align: top;\n",
       "    }\n",
       "\n",
       "    .dataframe thead th {\n",
       "        text-align: right;\n",
       "    }\n",
       "</style>\n",
       "<table border=\"1\" class=\"dataframe\">\n",
       "  <thead>\n",
       "    <tr style=\"text-align: right;\">\n",
       "      <th></th>\n",
       "      <th>eu_sales</th>\n",
       "    </tr>\n",
       "    <tr>\n",
       "      <th>platform</th>\n",
       "      <th></th>\n",
       "    </tr>\n",
       "  </thead>\n",
       "  <tbody>\n",
       "    <tr>\n",
       "      <th>PS4</th>\n",
       "      <td>130.04</td>\n",
       "    </tr>\n",
       "    <tr>\n",
       "      <th>XOne</th>\n",
       "      <td>46.25</td>\n",
       "    </tr>\n",
       "    <tr>\n",
       "      <th>PS3</th>\n",
       "      <td>25.54</td>\n",
       "    </tr>\n",
       "    <tr>\n",
       "      <th>PC</th>\n",
       "      <td>17.97</td>\n",
       "    </tr>\n",
       "    <tr>\n",
       "      <th>3DS</th>\n",
       "      <td>16.12</td>\n",
       "    </tr>\n",
       "    <tr>\n",
       "      <th>Other</th>\n",
       "      <td>34.76</td>\n",
       "    </tr>\n",
       "  </tbody>\n",
       "</table>\n",
       "</div>"
      ],
      "text/plain": [
       "          eu_sales\n",
       "platform          \n",
       "PS4         130.04\n",
       "XOne         46.25\n",
       "PS3          25.54\n",
       "PC           17.97\n",
       "3DS          16.12\n",
       "Other        34.76"
      ]
     },
     "metadata": {},
     "output_type": "display_data"
    }
   ],
   "source": [
    "# оставим с таблице только топ-5 и others\n",
    "platforms_in_eu = platforms_in_eu.iloc [[0,1, 2, 3, 4, 10]]\n",
    "display(platforms_in_eu)"
   ]
  },
  {
   "cell_type": "code",
   "execution_count": 47,
   "metadata": {},
   "outputs": [
    {
     "data": {
      "text/plain": [
       "271.0"
      ]
     },
     "execution_count": 47,
     "metadata": {},
     "output_type": "execute_result"
    }
   ],
   "source": [
    "# посчитаем общую сумму продаж платформ по региону\n",
    "platforms_in_eu['eu_sales']. sum ().round(0)"
   ]
  },
  {
   "cell_type": "code",
   "execution_count": 48,
   "metadata": {},
   "outputs": [],
   "source": [
    "# определим процентное соотношение продаж платформ к общим продажам по региону\n",
    "platforms_in_eu['percent_sales'] = (platforms_in_eu['eu_sales']/271.0*100).round(0)"
   ]
  },
  {
   "cell_type": "code",
   "execution_count": 49,
   "metadata": {},
   "outputs": [
    {
     "data": {
      "text/html": [
       "<div>\n",
       "<style scoped>\n",
       "    .dataframe tbody tr th:only-of-type {\n",
       "        vertical-align: middle;\n",
       "    }\n",
       "\n",
       "    .dataframe tbody tr th {\n",
       "        vertical-align: top;\n",
       "    }\n",
       "\n",
       "    .dataframe thead th {\n",
       "        text-align: right;\n",
       "    }\n",
       "</style>\n",
       "<table border=\"1\" class=\"dataframe\">\n",
       "  <thead>\n",
       "    <tr style=\"text-align: right;\">\n",
       "      <th></th>\n",
       "      <th>eu_sales</th>\n",
       "      <th>percent_sales</th>\n",
       "    </tr>\n",
       "    <tr>\n",
       "      <th>platform</th>\n",
       "      <th></th>\n",
       "      <th></th>\n",
       "    </tr>\n",
       "  </thead>\n",
       "  <tbody>\n",
       "    <tr>\n",
       "      <th>PS4</th>\n",
       "      <td>130.04</td>\n",
       "      <td>48.0</td>\n",
       "    </tr>\n",
       "    <tr>\n",
       "      <th>XOne</th>\n",
       "      <td>46.25</td>\n",
       "      <td>17.0</td>\n",
       "    </tr>\n",
       "    <tr>\n",
       "      <th>PS3</th>\n",
       "      <td>25.54</td>\n",
       "      <td>9.0</td>\n",
       "    </tr>\n",
       "    <tr>\n",
       "      <th>PC</th>\n",
       "      <td>17.97</td>\n",
       "      <td>7.0</td>\n",
       "    </tr>\n",
       "    <tr>\n",
       "      <th>3DS</th>\n",
       "      <td>16.12</td>\n",
       "      <td>6.0</td>\n",
       "    </tr>\n",
       "    <tr>\n",
       "      <th>Other</th>\n",
       "      <td>34.76</td>\n",
       "      <td>13.0</td>\n",
       "    </tr>\n",
       "  </tbody>\n",
       "</table>\n",
       "</div>"
      ],
      "text/plain": [
       "          eu_sales  percent_sales\n",
       "platform                         \n",
       "PS4         130.04           48.0\n",
       "XOne         46.25           17.0\n",
       "PS3          25.54            9.0\n",
       "PC           17.97            7.0\n",
       "3DS          16.12            6.0\n",
       "Other        34.76           13.0"
      ]
     },
     "metadata": {},
     "output_type": "display_data"
    }
   ],
   "source": [
    "display(platforms_in_eu)"
   ]
  },
  {
   "cell_type": "code",
   "execution_count": 50,
   "metadata": {},
   "outputs": [
    {
     "data": {
      "image/png": "[encoded data removed]",
      "text/plain": [
       "<Figure size 288x288 with 1 Axes>"
      ]
     },
     "metadata": {},
     "output_type": "display_data"
    }
   ],
   "source": [
    "# визуализируем полученные данные\n",
    "platforms_in_eu.plot(kind='pie',y='percent_sales', legend=False, figsize=(4,4), autopct='%.0f%%')\n",
    "plt.title ('Популярные платформы в Европе')\n",
    "plt.ylabel ('Процент продаж')\n",
    "plt.xlabel ('Платформы');"
   ]
  },
  {
   "cell_type": "markdown",
   "metadata": {},
   "source": [
    "### самые популярные платформы в Японии (топ-5)"
   ]
  },
  {
   "cell_type": "code",
   "execution_count": 51,
   "metadata": {},
   "outputs": [
    {
     "data": {
      "text/html": [
       "<div>\n",
       "<style scoped>\n",
       "    .dataframe tbody tr th:only-of-type {\n",
       "        vertical-align: middle;\n",
       "    }\n",
       "\n",
       "    .dataframe tbody tr th {\n",
       "        vertical-align: top;\n",
       "    }\n",
       "\n",
       "    .dataframe thead th {\n",
       "        text-align: right;\n",
       "    }\n",
       "</style>\n",
       "<table border=\"1\" class=\"dataframe\">\n",
       "  <thead>\n",
       "    <tr style=\"text-align: right;\">\n",
       "      <th></th>\n",
       "      <th>jp_sales</th>\n",
       "    </tr>\n",
       "    <tr>\n",
       "      <th>platform</th>\n",
       "      <th></th>\n",
       "    </tr>\n",
       "  </thead>\n",
       "  <tbody>\n",
       "    <tr>\n",
       "      <th>3DS</th>\n",
       "      <td>44.24</td>\n",
       "    </tr>\n",
       "    <tr>\n",
       "      <th>PS4</th>\n",
       "      <td>15.02</td>\n",
       "    </tr>\n",
       "    <tr>\n",
       "      <th>PSV</th>\n",
       "      <td>14.54</td>\n",
       "    </tr>\n",
       "    <tr>\n",
       "      <th>PS3</th>\n",
       "      <td>11.22</td>\n",
       "    </tr>\n",
       "    <tr>\n",
       "      <th>WiiU</th>\n",
       "      <td>7.31</td>\n",
       "    </tr>\n",
       "  </tbody>\n",
       "</table>\n",
       "</div>"
      ],
      "text/plain": [
       "          jp_sales\n",
       "platform          \n",
       "3DS          44.24\n",
       "PS4          15.02\n",
       "PSV          14.54\n",
       "PS3          11.22\n",
       "WiiU          7.31"
      ]
     },
     "execution_count": 51,
     "metadata": {},
     "output_type": "execute_result"
    }
   ],
   "source": [
    "platforms_in_jp = data_actual.pivot_table (index='platform', values='jp_sales', aggfunc='sum'). sort_values(by='jp_sales', ascending=False)\n",
    "platforms_in_jp.head()"
   ]
  },
  {
   "cell_type": "code",
   "execution_count": 52,
   "metadata": {},
   "outputs": [
    {
     "data": {
      "text/html": [
       "<div>\n",
       "<style scoped>\n",
       "    .dataframe tbody tr th:only-of-type {\n",
       "        vertical-align: middle;\n",
       "    }\n",
       "\n",
       "    .dataframe tbody tr th {\n",
       "        vertical-align: top;\n",
       "    }\n",
       "\n",
       "    .dataframe thead th {\n",
       "        text-align: right;\n",
       "    }\n",
       "</style>\n",
       "<table border=\"1\" class=\"dataframe\">\n",
       "  <thead>\n",
       "    <tr style=\"text-align: right;\">\n",
       "      <th></th>\n",
       "      <th>jp_sales</th>\n",
       "    </tr>\n",
       "    <tr>\n",
       "      <th>platform</th>\n",
       "      <th></th>\n",
       "    </tr>\n",
       "  </thead>\n",
       "  <tbody>\n",
       "    <tr>\n",
       "      <th>3DS</th>\n",
       "      <td>44.24</td>\n",
       "    </tr>\n",
       "    <tr>\n",
       "      <th>PS4</th>\n",
       "      <td>15.02</td>\n",
       "    </tr>\n",
       "    <tr>\n",
       "      <th>PSV</th>\n",
       "      <td>14.54</td>\n",
       "    </tr>\n",
       "    <tr>\n",
       "      <th>PS3</th>\n",
       "      <td>11.22</td>\n",
       "    </tr>\n",
       "    <tr>\n",
       "      <th>WiiU</th>\n",
       "      <td>7.31</td>\n",
       "    </tr>\n",
       "    <tr>\n",
       "      <th>PSP</th>\n",
       "      <td>0.36</td>\n",
       "    </tr>\n",
       "    <tr>\n",
       "      <th>XOne</th>\n",
       "      <td>0.32</td>\n",
       "    </tr>\n",
       "    <tr>\n",
       "      <th>X360</th>\n",
       "      <td>0.08</td>\n",
       "    </tr>\n",
       "    <tr>\n",
       "      <th>PC</th>\n",
       "      <td>0.00</td>\n",
       "    </tr>\n",
       "    <tr>\n",
       "      <th>Wii</th>\n",
       "      <td>0.00</td>\n",
       "    </tr>\n",
       "    <tr>\n",
       "      <th>Other</th>\n",
       "      <td>0.76</td>\n",
       "    </tr>\n",
       "  </tbody>\n",
       "</table>\n",
       "</div>"
      ],
      "text/plain": [
       "          jp_sales\n",
       "platform          \n",
       "3DS          44.24\n",
       "PS4          15.02\n",
       "PSV          14.54\n",
       "PS3          11.22\n",
       "WiiU          7.31\n",
       "PSP           0.36\n",
       "XOne          0.32\n",
       "X360          0.08\n",
       "PC            0.00\n",
       "Wii           0.00\n",
       "Other         0.76"
      ]
     },
     "metadata": {},
     "output_type": "display_data"
    }
   ],
   "source": [
    "# объединяем платформы, не вошедние в топ-5  в 'others' и посчитаем общую для них сумму продаж\n",
    "platforms_in_jp.loc['Other', 'jp_sales'] = platforms_in_jp.iloc[5:].sum()[0]\n",
    "display(platforms_in_jp)"
   ]
  },
  {
   "cell_type": "code",
   "execution_count": 53,
   "metadata": {},
   "outputs": [
    {
     "data": {
      "text/html": [
       "<div>\n",
       "<style scoped>\n",
       "    .dataframe tbody tr th:only-of-type {\n",
       "        vertical-align: middle;\n",
       "    }\n",
       "\n",
       "    .dataframe tbody tr th {\n",
       "        vertical-align: top;\n",
       "    }\n",
       "\n",
       "    .dataframe thead th {\n",
       "        text-align: right;\n",
       "    }\n",
       "</style>\n",
       "<table border=\"1\" class=\"dataframe\">\n",
       "  <thead>\n",
       "    <tr style=\"text-align: right;\">\n",
       "      <th></th>\n",
       "      <th>jp_sales</th>\n",
       "    </tr>\n",
       "    <tr>\n",
       "      <th>platform</th>\n",
       "      <th></th>\n",
       "    </tr>\n",
       "  </thead>\n",
       "  <tbody>\n",
       "    <tr>\n",
       "      <th>3DS</th>\n",
       "      <td>44.24</td>\n",
       "    </tr>\n",
       "    <tr>\n",
       "      <th>PS4</th>\n",
       "      <td>15.02</td>\n",
       "    </tr>\n",
       "    <tr>\n",
       "      <th>PSV</th>\n",
       "      <td>14.54</td>\n",
       "    </tr>\n",
       "    <tr>\n",
       "      <th>PS3</th>\n",
       "      <td>11.22</td>\n",
       "    </tr>\n",
       "    <tr>\n",
       "      <th>WiiU</th>\n",
       "      <td>7.31</td>\n",
       "    </tr>\n",
       "    <tr>\n",
       "      <th>Other</th>\n",
       "      <td>0.76</td>\n",
       "    </tr>\n",
       "  </tbody>\n",
       "</table>\n",
       "</div>"
      ],
      "text/plain": [
       "          jp_sales\n",
       "platform          \n",
       "3DS          44.24\n",
       "PS4          15.02\n",
       "PSV          14.54\n",
       "PS3          11.22\n",
       "WiiU          7.31\n",
       "Other         0.76"
      ]
     },
     "metadata": {},
     "output_type": "display_data"
    }
   ],
   "source": [
    "# оставим с таблице только топ-5 и others\n",
    "platforms_in_jp = platforms_in_jp.iloc [[0,1, 2, 3, 4, 10]]\n",
    "display(platforms_in_jp)"
   ]
  },
  {
   "cell_type": "code",
   "execution_count": 54,
   "metadata": {},
   "outputs": [
    {
     "data": {
      "text/plain": [
       "93.0"
      ]
     },
     "execution_count": 54,
     "metadata": {},
     "output_type": "execute_result"
    }
   ],
   "source": [
    "# посчитаем общую сумму продаж платформ по региону\n",
    "platforms_in_jp['jp_sales']. sum ().round(0)"
   ]
  },
  {
   "cell_type": "code",
   "execution_count": 55,
   "metadata": {},
   "outputs": [],
   "source": [
    "# определим процентное соотношение продаж платформ к общим продажам по региону\n",
    "platforms_in_jp['percent_sales'] = (platforms_in_jp['jp_sales']/93.0*100).round(0)"
   ]
  },
  {
   "cell_type": "code",
   "execution_count": 56,
   "metadata": {},
   "outputs": [
    {
     "data": {
      "text/html": [
       "<div>\n",
       "<style scoped>\n",
       "    .dataframe tbody tr th:only-of-type {\n",
       "        vertical-align: middle;\n",
       "    }\n",
       "\n",
       "    .dataframe tbody tr th {\n",
       "        vertical-align: top;\n",
       "    }\n",
       "\n",
       "    .dataframe thead th {\n",
       "        text-align: right;\n",
       "    }\n",
       "</style>\n",
       "<table border=\"1\" class=\"dataframe\">\n",
       "  <thead>\n",
       "    <tr style=\"text-align: right;\">\n",
       "      <th></th>\n",
       "      <th>jp_sales</th>\n",
       "      <th>percent_sales</th>\n",
       "    </tr>\n",
       "    <tr>\n",
       "      <th>platform</th>\n",
       "      <th></th>\n",
       "      <th></th>\n",
       "    </tr>\n",
       "  </thead>\n",
       "  <tbody>\n",
       "    <tr>\n",
       "      <th>3DS</th>\n",
       "      <td>44.24</td>\n",
       "      <td>48.0</td>\n",
       "    </tr>\n",
       "    <tr>\n",
       "      <th>PS4</th>\n",
       "      <td>15.02</td>\n",
       "      <td>16.0</td>\n",
       "    </tr>\n",
       "    <tr>\n",
       "      <th>PSV</th>\n",
       "      <td>14.54</td>\n",
       "      <td>16.0</td>\n",
       "    </tr>\n",
       "    <tr>\n",
       "      <th>PS3</th>\n",
       "      <td>11.22</td>\n",
       "      <td>12.0</td>\n",
       "    </tr>\n",
       "    <tr>\n",
       "      <th>WiiU</th>\n",
       "      <td>7.31</td>\n",
       "      <td>8.0</td>\n",
       "    </tr>\n",
       "    <tr>\n",
       "      <th>Other</th>\n",
       "      <td>0.76</td>\n",
       "      <td>1.0</td>\n",
       "    </tr>\n",
       "  </tbody>\n",
       "</table>\n",
       "</div>"
      ],
      "text/plain": [
       "          jp_sales  percent_sales\n",
       "platform                         \n",
       "3DS          44.24           48.0\n",
       "PS4          15.02           16.0\n",
       "PSV          14.54           16.0\n",
       "PS3          11.22           12.0\n",
       "WiiU          7.31            8.0\n",
       "Other         0.76            1.0"
      ]
     },
     "metadata": {},
     "output_type": "display_data"
    }
   ],
   "source": [
    "display(platforms_in_jp)"
   ]
  },
  {
   "cell_type": "code",
   "execution_count": 57,
   "metadata": {},
   "outputs": [
    {
     "data": {
      "image/png": "[encoded data removed]",
      "text/plain": [
       "<Figure size 288x288 with 1 Axes>"
      ]
     },
     "metadata": {},
     "output_type": "display_data"
    }
   ],
   "source": [
    "# визуализируем полученные данные\n",
    "platforms_in_jp.plot(kind='pie',y='percent_sales', legend=False, figsize=(4,4), autopct='%.0f%%')\n",
    "plt.title ('Популярные платформы в Японии')\n",
    "plt.ylabel ('Процент продаж')\n",
    "plt.xlabel ('Платформы');"
   ]
  },
  {
   "cell_type": "markdown",
   "metadata": {},
   "source": [
    "Проанализировав популярность платформ для разных регионов, мы видим, что лидеры рынка отличаются. \n",
    "В каждом регионе лидируют разные платформы с заметным преобладанием:\n",
    "\n",
    "в Северной Америке - PS4 (35%) и XOne (29%)\n",
    "\n",
    "в Европе - PS3\t(48%)\n",
    "\n",
    "в Японии - 3DS (48%).\n",
    "\n",
    "Также обращает внимание, что платформа PS3 входит в топ-5 популярных платформ во всех регионах.\n",
    "\n",
    "Напротив, есть и те платформы, которые представлены не во всех регионах.\n",
    "Например, XOne популярна в Северной Америке и в Европе, но при этом не попала в топ-5 популярных платформ в Японии. \n"
   ]
  },
  {
   "cell_type": "markdown",
   "metadata": {},
   "source": [
    "### самые популярные жанры в Северной Америке (топ-5)"
   ]
  },
  {
   "cell_type": "code",
   "execution_count": 58,
   "metadata": {},
   "outputs": [
    {
     "data": {
      "text/html": [
       "<div>\n",
       "<style scoped>\n",
       "    .dataframe tbody tr th:only-of-type {\n",
       "        vertical-align: middle;\n",
       "    }\n",
       "\n",
       "    .dataframe tbody tr th {\n",
       "        vertical-align: top;\n",
       "    }\n",
       "\n",
       "    .dataframe thead th {\n",
       "        text-align: right;\n",
       "    }\n",
       "</style>\n",
       "<table border=\"1\" class=\"dataframe\">\n",
       "  <thead>\n",
       "    <tr style=\"text-align: right;\">\n",
       "      <th></th>\n",
       "      <th>na_sales</th>\n",
       "    </tr>\n",
       "    <tr>\n",
       "      <th>genre</th>\n",
       "      <th></th>\n",
       "    </tr>\n",
       "  </thead>\n",
       "  <tbody>\n",
       "    <tr>\n",
       "      <th>Shooter</th>\n",
       "      <td>79.02</td>\n",
       "    </tr>\n",
       "    <tr>\n",
       "      <th>Action</th>\n",
       "      <td>72.53</td>\n",
       "    </tr>\n",
       "    <tr>\n",
       "      <th>Sports</th>\n",
       "      <td>46.13</td>\n",
       "    </tr>\n",
       "    <tr>\n",
       "      <th>Role-Playing</th>\n",
       "      <td>33.47</td>\n",
       "    </tr>\n",
       "    <tr>\n",
       "      <th>Misc</th>\n",
       "      <td>15.05</td>\n",
       "    </tr>\n",
       "  </tbody>\n",
       "</table>\n",
       "</div>"
      ],
      "text/plain": [
       "              na_sales\n",
       "genre                 \n",
       "Shooter          79.02\n",
       "Action           72.53\n",
       "Sports           46.13\n",
       "Role-Playing     33.47\n",
       "Misc             15.05"
      ]
     },
     "execution_count": 58,
     "metadata": {},
     "output_type": "execute_result"
    }
   ],
   "source": [
    "genres_in_na = data_actual.pivot_table (index='genre', values='na_sales', aggfunc='sum'). sort_values(by='na_sales', ascending=False)\n",
    "genres_in_na.head()"
   ]
  },
  {
   "cell_type": "markdown",
   "metadata": {},
   "source": [
    "### самые популярные жанры в Европе (топ-5)"
   ]
  },
  {
   "cell_type": "code",
   "execution_count": 59,
   "metadata": {},
   "outputs": [
    {
     "data": {
      "text/html": [
       "<div>\n",
       "<style scoped>\n",
       "    .dataframe tbody tr th:only-of-type {\n",
       "        vertical-align: middle;\n",
       "    }\n",
       "\n",
       "    .dataframe tbody tr th {\n",
       "        vertical-align: top;\n",
       "    }\n",
       "\n",
       "    .dataframe thead th {\n",
       "        text-align: right;\n",
       "    }\n",
       "</style>\n",
       "<table border=\"1\" class=\"dataframe\">\n",
       "  <thead>\n",
       "    <tr style=\"text-align: right;\">\n",
       "      <th></th>\n",
       "      <th>eu_sales</th>\n",
       "    </tr>\n",
       "    <tr>\n",
       "      <th>genre</th>\n",
       "      <th></th>\n",
       "    </tr>\n",
       "  </thead>\n",
       "  <tbody>\n",
       "    <tr>\n",
       "      <th>Action</th>\n",
       "      <td>74.68</td>\n",
       "    </tr>\n",
       "    <tr>\n",
       "      <th>Shooter</th>\n",
       "      <td>65.52</td>\n",
       "    </tr>\n",
       "    <tr>\n",
       "      <th>Sports</th>\n",
       "      <td>45.73</td>\n",
       "    </tr>\n",
       "    <tr>\n",
       "      <th>Role-Playing</th>\n",
       "      <td>28.17</td>\n",
       "    </tr>\n",
       "    <tr>\n",
       "      <th>Racing</th>\n",
       "      <td>14.13</td>\n",
       "    </tr>\n",
       "  </tbody>\n",
       "</table>\n",
       "</div>"
      ],
      "text/plain": [
       "              eu_sales\n",
       "genre                 \n",
       "Action           74.68\n",
       "Shooter          65.52\n",
       "Sports           45.73\n",
       "Role-Playing     28.17\n",
       "Racing           14.13"
      ]
     },
     "execution_count": 59,
     "metadata": {},
     "output_type": "execute_result"
    }
   ],
   "source": [
    "genres_in_eu = data_actual.pivot_table (index='genre', values='eu_sales', aggfunc='sum'). sort_values(by='eu_sales', ascending=False)\n",
    "genres_in_eu.head()"
   ]
  },
  {
   "cell_type": "markdown",
   "metadata": {},
   "source": [
    "### самые популярные жанры в Японии (топ-5)"
   ]
  },
  {
   "cell_type": "code",
   "execution_count": 60,
   "metadata": {},
   "outputs": [
    {
     "data": {
      "text/html": [
       "<div>\n",
       "<style scoped>\n",
       "    .dataframe tbody tr th:only-of-type {\n",
       "        vertical-align: middle;\n",
       "    }\n",
       "\n",
       "    .dataframe tbody tr th {\n",
       "        vertical-align: top;\n",
       "    }\n",
       "\n",
       "    .dataframe thead th {\n",
       "        text-align: right;\n",
       "    }\n",
       "</style>\n",
       "<table border=\"1\" class=\"dataframe\">\n",
       "  <thead>\n",
       "    <tr style=\"text-align: right;\">\n",
       "      <th></th>\n",
       "      <th>jp_sales</th>\n",
       "    </tr>\n",
       "    <tr>\n",
       "      <th>genre</th>\n",
       "      <th></th>\n",
       "    </tr>\n",
       "  </thead>\n",
       "  <tbody>\n",
       "    <tr>\n",
       "      <th>Role-Playing</th>\n",
       "      <td>31.16</td>\n",
       "    </tr>\n",
       "    <tr>\n",
       "      <th>Action</th>\n",
       "      <td>29.58</td>\n",
       "    </tr>\n",
       "    <tr>\n",
       "      <th>Fighting</th>\n",
       "      <td>6.37</td>\n",
       "    </tr>\n",
       "    <tr>\n",
       "      <th>Misc</th>\n",
       "      <td>5.61</td>\n",
       "    </tr>\n",
       "    <tr>\n",
       "      <th>Shooter</th>\n",
       "      <td>4.87</td>\n",
       "    </tr>\n",
       "  </tbody>\n",
       "</table>\n",
       "</div>"
      ],
      "text/plain": [
       "              jp_sales\n",
       "genre                 \n",
       "Role-Playing     31.16\n",
       "Action           29.58\n",
       "Fighting          6.37\n",
       "Misc              5.61\n",
       "Shooter           4.87"
      ]
     },
     "execution_count": 60,
     "metadata": {},
     "output_type": "execute_result"
    }
   ],
   "source": [
    "genres_in_jp = data_actual.pivot_table (index='genre', values='jp_sales', aggfunc='sum'). sort_values(by='jp_sales', ascending=False)\n",
    "genres_in_jp.head()"
   ]
  },
  {
   "cell_type": "markdown",
   "metadata": {},
   "source": [
    "Обращает внимание, что в Северной Америке и Европе, в основном, популярны одни и те же жанры, в то время как в Японии популярность жанров распределена иначе. "
   ]
  },
  {
   "cell_type": "markdown",
   "metadata": {},
   "source": [
    "## Влияние рейтинга ESRB на продажи в отдельном регионе"
   ]
  },
  {
   "cell_type": "code",
   "execution_count": 61,
   "metadata": {},
   "outputs": [
    {
     "data": {
      "text/html": [
       "<div>\n",
       "<style scoped>\n",
       "    .dataframe tbody tr th:only-of-type {\n",
       "        vertical-align: middle;\n",
       "    }\n",
       "\n",
       "    .dataframe tbody tr th {\n",
       "        vertical-align: top;\n",
       "    }\n",
       "\n",
       "    .dataframe thead th {\n",
       "        text-align: right;\n",
       "    }\n",
       "</style>\n",
       "<table border=\"1\" class=\"dataframe\">\n",
       "  <thead>\n",
       "    <tr style=\"text-align: right;\">\n",
       "      <th></th>\n",
       "      <th>na_sales</th>\n",
       "    </tr>\n",
       "    <tr>\n",
       "      <th>rating</th>\n",
       "      <th></th>\n",
       "    </tr>\n",
       "  </thead>\n",
       "  <tbody>\n",
       "    <tr>\n",
       "      <th>M</th>\n",
       "      <td>96.42</td>\n",
       "    </tr>\n",
       "    <tr>\n",
       "      <th>Unknown</th>\n",
       "      <td>64.72</td>\n",
       "    </tr>\n",
       "    <tr>\n",
       "      <th>E</th>\n",
       "      <td>50.74</td>\n",
       "    </tr>\n",
       "    <tr>\n",
       "      <th>T</th>\n",
       "      <td>38.95</td>\n",
       "    </tr>\n",
       "    <tr>\n",
       "      <th>E10+</th>\n",
       "      <td>33.23</td>\n",
       "    </tr>\n",
       "  </tbody>\n",
       "</table>\n",
       "</div>"
      ],
      "text/plain": [
       "         na_sales\n",
       "rating           \n",
       "M           96.42\n",
       "Unknown     64.72\n",
       "E           50.74\n",
       "T           38.95\n",
       "E10+        33.23"
      ]
     },
     "metadata": {},
     "output_type": "display_data"
    }
   ],
   "source": [
    "rating_in_na = data_actual.pivot_table (index='rating', values='na_sales', aggfunc='sum'). sort_values(by='na_sales', ascending=False)\n",
    "display(rating_in_na)"
   ]
  },
  {
   "cell_type": "code",
   "execution_count": 62,
   "metadata": {},
   "outputs": [
    {
     "data": {
      "text/html": [
       "<div>\n",
       "<style scoped>\n",
       "    .dataframe tbody tr th:only-of-type {\n",
       "        vertical-align: middle;\n",
       "    }\n",
       "\n",
       "    .dataframe tbody tr th {\n",
       "        vertical-align: top;\n",
       "    }\n",
       "\n",
       "    .dataframe thead th {\n",
       "        text-align: right;\n",
       "    }\n",
       "</style>\n",
       "<table border=\"1\" class=\"dataframe\">\n",
       "  <thead>\n",
       "    <tr style=\"text-align: right;\">\n",
       "      <th></th>\n",
       "      <th>eu_sales</th>\n",
       "    </tr>\n",
       "    <tr>\n",
       "      <th>rating</th>\n",
       "      <th></th>\n",
       "    </tr>\n",
       "  </thead>\n",
       "  <tbody>\n",
       "    <tr>\n",
       "      <th>M</th>\n",
       "      <td>93.44</td>\n",
       "    </tr>\n",
       "    <tr>\n",
       "      <th>Unknown</th>\n",
       "      <td>58.95</td>\n",
       "    </tr>\n",
       "    <tr>\n",
       "      <th>E</th>\n",
       "      <td>58.06</td>\n",
       "    </tr>\n",
       "    <tr>\n",
       "      <th>T</th>\n",
       "      <td>34.07</td>\n",
       "    </tr>\n",
       "    <tr>\n",
       "      <th>E10+</th>\n",
       "      <td>26.16</td>\n",
       "    </tr>\n",
       "  </tbody>\n",
       "</table>\n",
       "</div>"
      ],
      "text/plain": [
       "         eu_sales\n",
       "rating           \n",
       "M           93.44\n",
       "Unknown     58.95\n",
       "E           58.06\n",
       "T           34.07\n",
       "E10+        26.16"
      ]
     },
     "metadata": {},
     "output_type": "display_data"
    }
   ],
   "source": [
    "rating_in_eu = data_actual.pivot_table (index='rating', values='eu_sales', aggfunc='sum'). sort_values(by='eu_sales', ascending=False)\n",
    "display(rating_in_eu)"
   ]
  },
  {
   "cell_type": "code",
   "execution_count": 63,
   "metadata": {},
   "outputs": [
    {
     "data": {
      "text/html": [
       "<div>\n",
       "<style scoped>\n",
       "    .dataframe tbody tr th:only-of-type {\n",
       "        vertical-align: middle;\n",
       "    }\n",
       "\n",
       "    .dataframe tbody tr th {\n",
       "        vertical-align: top;\n",
       "    }\n",
       "\n",
       "    .dataframe thead th {\n",
       "        text-align: right;\n",
       "    }\n",
       "</style>\n",
       "<table border=\"1\" class=\"dataframe\">\n",
       "  <thead>\n",
       "    <tr style=\"text-align: right;\">\n",
       "      <th></th>\n",
       "      <th>jp_sales</th>\n",
       "    </tr>\n",
       "    <tr>\n",
       "      <th>rating</th>\n",
       "      <th></th>\n",
       "    </tr>\n",
       "  </thead>\n",
       "  <tbody>\n",
       "    <tr>\n",
       "      <th>Unknown</th>\n",
       "      <td>56.90</td>\n",
       "    </tr>\n",
       "    <tr>\n",
       "      <th>T</th>\n",
       "      <td>14.78</td>\n",
       "    </tr>\n",
       "    <tr>\n",
       "      <th>E</th>\n",
       "      <td>8.94</td>\n",
       "    </tr>\n",
       "    <tr>\n",
       "      <th>M</th>\n",
       "      <td>8.01</td>\n",
       "    </tr>\n",
       "    <tr>\n",
       "      <th>E10+</th>\n",
       "      <td>4.46</td>\n",
       "    </tr>\n",
       "  </tbody>\n",
       "</table>\n",
       "</div>"
      ],
      "text/plain": [
       "         jp_sales\n",
       "rating           \n",
       "Unknown     56.90\n",
       "T           14.78\n",
       "E            8.94\n",
       "M            8.01\n",
       "E10+         4.46"
      ]
     },
     "metadata": {},
     "output_type": "display_data"
    }
   ],
   "source": [
    "rating_in_jp = data_actual.pivot_table (index='rating', values='jp_sales', aggfunc='sum'). sort_values(by='jp_sales', ascending=False)\n",
    "display(rating_in_jp)"
   ]
  },
  {
   "cell_type": "markdown",
   "metadata": {},
   "source": [
    "При оценке влияния рейтинга ESRB на общие продажи выявлено, что данные сильно отличаются по регионам. \n",
    "\n",
    "Например, в Японии большая часть проданных игр не имеет маркировку ESRB. Возможно, это связано с тем, что маркировка игр в данном регионе не обязательна и проводится не всегда. \n",
    "\n",
    "В Европе и Северной Америке большая часть проданных игр имеет маркировку M (подходит для игроков 17 и страше лет)."
   ]
  },
  {
   "cell_type": "markdown",
   "metadata": {},
   "source": [
    "## Проверка гипотез"
   ]
  },
  {
   "cell_type": "markdown",
   "metadata": {},
   "source": [
    "Формулировака гипотезы"
   ]
  },
  {
   "cell_type": "markdown",
   "metadata": {},
   "source": [
    "H0- средние пользовательские рейтинги платформ Xbox One и PC равны\n",
    "\n",
    "H1- средние пользовательские рейтинги платформ Xbox One и PC не равны"
   ]
  },
  {
   "cell_type": "code",
   "execution_count": 64,
   "metadata": {},
   "outputs": [
    {
     "name": "stdout",
     "output_type": "stream",
     "text": [
      "p-значение: 0.10450507919348415\n",
      "Не получилось отвергнуть нулевую гипотезу\n"
     ]
    }
   ],
   "source": [
    "sample_1 = data_actual.loc[(data_actual['platform'] == 'XOne') & ~data_actual['user_score'].isnull()]['user_score']\n",
    "                           \n",
    "sample_2 = data_actual.loc[(data_actual['platform'] == 'PC') & ~data_actual['user_score'].isnull()]['user_score']\n",
    "alpha = 0.05 # уровень статистической значимости\n",
    "# если p-value окажется меньше него, отвергнем гипотезу\n",
    "\n",
    "results = st.ttest_ind(sample_1, sample_2)\n",
    "\n",
    "print('p-значение:', results.pvalue)\n",
    "\n",
    "if results.pvalue < alpha:\n",
    "    print('Отвергаем нулевую гипотезу')\n",
    "else:\n",
    "    print('Не получилось отвергнуть нулевую гипотезу') "
   ]
  },
  {
   "cell_type": "markdown",
   "metadata": {},
   "source": [
    "Средние пользовательские рейтинги жанров Action и Sports разные."
   ]
  },
  {
   "cell_type": "markdown",
   "metadata": {},
   "source": [
    "H0- средние пользовательские рейтинги жанров Action  и Sports равны.\n",
    "\n",
    "H1- средние пользовательские рейтинги жанров Action  и Sports не равны."
   ]
  },
  {
   "cell_type": "code",
   "execution_count": 65,
   "metadata": {},
   "outputs": [
    {
     "name": "stdout",
     "output_type": "stream",
     "text": [
      "p-значение: 2.8711147985105864e-19\n",
      "Отвергаем нулевую гипотезу\n"
     ]
    }
   ],
   "source": [
    "sample_1 = data_actual.loc[(data_actual['genre'] == 'Action') & ~data_actual['user_score'].isnull()]['user_score']\n",
    "                           \n",
    "sample_2 = data_actual.loc[(data_actual['genre'] == 'Sports') & ~data_actual['user_score'].isnull()]['user_score']\n",
    "\n",
    "alpha = 0.05 # уровень статистической значимости\n",
    "# если p-value окажется меньше него, отвергнем гипотезу\n",
    "\n",
    "results = st.ttest_ind(sample_1, sample_2)\n",
    "\n",
    "print('p-значение:', results.pvalue)\n",
    "\n",
    "if results.pvalue < alpha:\n",
    "    print('Отвергаем нулевую гипотезу')\n",
    "else:\n",
    "    print('Не получилось отвергнуть нулевую гипотезу') "
   ]
  },
  {
   "cell_type": "markdown",
   "metadata": {},
   "source": [
    "## ВЫВОД "
   ]
  },
  {
   "cell_type": "markdown",
   "metadata": {},
   "source": [
    "###  Цель исследования:"
   ]
  },
  {
   "cell_type": "markdown",
   "metadata": {},
   "source": [
    "Выявить закономерности, влияющие на успешность игр. Определить потенциально успешный продукт, на основании чего дать рекомендации о проведении рекламных команий."
   ]
  },
  {
   "cell_type": "markdown",
   "metadata": {},
   "source": [
    "### Ход исследования:"
   ]
  },
  {
   "cell_type": "markdown",
   "metadata": {},
   "source": [
    "#### Этап предобработки данных\n",
    "\n",
    "На этапе предобработки данных были выявлены и обработаны пропуски, внесены новые данные об общих продажах, названия столбцов приведены к нижнему регистру. \n"
   ]
  },
  {
   "cell_type": "markdown",
   "metadata": {},
   "source": [
    "#### Исследовательский анализ данных\n",
    "\n",
    "В ходе исследовательского анализа данных выявлено, что после 2000 года количество выпускавшихся игр значительно больше, чем до,  с пиковыми значениями 2008-2010 гг.\n",
    "\n",
    "В среднем, одна платформа активна в течение 5-10 лет. \n",
    "\n",
    "Для  исследования принятно решение определить актуальный период как период с 2014 по 2016 гг. \n",
    "\n",
    "Изучив данные за актуальный период мы видим, что платформы с наибольшими общими продажами в начале изучаемого периода (Wii, X360, PS3) к 2016 году становятся практически не актуальны. \n",
    "\n",
    "К потенциально прибыльным платформам можно отнести PS4 и XOne.\n",
    "\n",
    "После изучения данных о медианных продажах выявлено, что  лидируют платформы X360, PS4, XOne, WiiU, Wii.\n",
    "\n",
    "Изучив данные о корреляции между оценками критиков и игроков и общими продажами для одной из платформ (PS3) выяснили, что значимой зависимости между оценками и продажами нет, однако на общие продажи оценки критиков влияют больше, чем оценки игроков. \n",
    "\n",
    "\n",
    "\n",
    "\n",
    "#### Составление портрета пользователей каждого региона\n",
    "\n",
    "Проанализировав популярность платформ для разных регионов, мы видим, что лидеры рынка отличаются. \n",
    "В каждом регионе лидируют разные платформы с заметным преобладанием:\n",
    "\n",
    "в Северной Америке - PS4 (35%) и XOne (29%)\n",
    "\n",
    "в Европе - PS3\t(48%)\n",
    "\n",
    "в Японии - 3DS (48%).\n",
    "\n",
    "Также обращает внимание, что платформа PS3 входит в топ-5 популярных платформ во всех регионах.\n",
    "\n",
    "Напротив, есть и те платформы, которые представлены не во всех регионах.\n",
    "Например, XOne популярна в Северной Америке и в Европе, но при этом не попала в топ-5 популярных платформ в Японии. \n",
    "\n",
    "Обращает внимание, что в Северной Америке и Европе, в основном, популярны одни и те же жанры, в то время как в Японии популярность жанров распределена иначе. \n",
    "\n",
    "\n",
    "При оценке влияния рейтинга ESRB на общие продажи выявлено, что данные сильно отличаются по регионам. \n",
    "\n",
    "Например, в Японии большая часть проданных игр не имеет маркировку ESRB. Возможно, это связано с тем, что маркировка игр в данном регионе не обязательна и проводится не всегда. \n",
    "\n",
    "В Европе и Северной Америке большая часть проданных игр имеет маркировку M (подходит для игроков 17 и страше лет).\n",
    "\n",
    "\n",
    "#### Проверка гипотез\n",
    "В ходе статистического анализа данных были получены следующие данные:\n",
    "\n",
    "Cредние пользовательские рейтинги платформ Xbox One и PC равны.\n",
    "\n",
    "Средние пользовательские рейтинги жанров Action и Sports не равны.\n",
    "\n"
   ]
  },
  {
   "cell_type": "markdown",
   "metadata": {},
   "source": [
    "### Рекомендации: "
   ]
  },
  {
   "cell_type": "markdown",
   "metadata": {},
   "source": [
    "При разработке продукта и проведении рекламных компаний необходимо обратить внимание на регион, в котором они проводятся.\n",
    "\n",
    "В США и Европе наиболее популярны жанры Action и Shooter, в то время как в Японии более популярны Role-Playing и Action.\n",
    "\n",
    "К потенциально прибыльным платформам можно отнести PS4 и XOne.\n"
   ]
  }
 ],
 "metadata": {
  "ExecuteTimeLog": [
   {
    "duration": 1142,
    "start_time": "2023-03-19T18:10:47.039Z"
   },
   {
    "duration": 190,
    "start_time": "2023-03-19T18:14:44.075Z"
   },
   {
    "duration": 13,
    "start_time": "2023-03-19T18:17:18.558Z"
   },
   {
    "duration": 8,
    "start_time": "2023-03-19T18:20:16.075Z"
   },
   {
    "duration": 12,
    "start_time": "2023-03-19T18:20:23.943Z"
   },
   {
    "duration": 795,
    "start_time": "2023-03-19T18:20:40.405Z"
   },
   {
    "duration": 8,
    "start_time": "2023-03-19T18:20:52.346Z"
   },
   {
    "duration": 12,
    "start_time": "2023-03-19T18:20:53.676Z"
   },
   {
    "duration": 3,
    "start_time": "2023-03-19T18:21:31.442Z"
   },
   {
    "duration": 45,
    "start_time": "2023-03-19T18:21:32.309Z"
   },
   {
    "duration": 11,
    "start_time": "2023-03-19T18:21:34.182Z"
   },
   {
    "duration": 7,
    "start_time": "2023-03-19T18:21:35.339Z"
   },
   {
    "duration": 11,
    "start_time": "2023-03-19T18:21:37.442Z"
   },
   {
    "duration": 1005,
    "start_time": "2023-03-19T18:21:51.867Z"
   },
   {
    "duration": 46,
    "start_time": "2023-03-19T18:21:52.874Z"
   },
   {
    "duration": 11,
    "start_time": "2023-03-19T18:21:52.922Z"
   },
   {
    "duration": 8,
    "start_time": "2023-03-19T18:21:52.935Z"
   },
   {
    "duration": 13,
    "start_time": "2023-03-19T18:21:52.944Z"
   },
   {
    "duration": 8,
    "start_time": "2023-03-19T18:22:58.759Z"
   },
   {
    "duration": 12,
    "start_time": "2023-03-19T18:23:01.260Z"
   },
   {
    "duration": 46,
    "start_time": "2023-03-19T19:33:04.716Z"
   },
   {
    "duration": 12,
    "start_time": "2023-03-19T19:33:05.464Z"
   },
   {
    "duration": 8,
    "start_time": "2023-03-19T19:33:06.248Z"
   },
   {
    "duration": 12,
    "start_time": "2023-03-19T19:33:07.047Z"
   },
   {
    "duration": 752,
    "start_time": "2023-03-19T19:33:32.191Z"
   },
   {
    "duration": 13,
    "start_time": "2023-03-19T19:33:43.391Z"
   },
   {
    "duration": 3,
    "start_time": "2023-03-19T19:35:32.007Z"
   },
   {
    "duration": 15,
    "start_time": "2023-03-19T19:35:32.848Z"
   },
   {
    "duration": 12,
    "start_time": "2023-03-19T19:42:44.964Z"
   },
   {
    "duration": 16,
    "start_time": "2023-03-19T19:45:21.053Z"
   },
   {
    "duration": 20,
    "start_time": "2023-03-19T19:45:50.044Z"
   },
   {
    "duration": 22,
    "start_time": "2023-03-19T19:47:36.115Z"
   },
   {
    "duration": 7,
    "start_time": "2023-03-19T19:55:15.149Z"
   },
   {
    "duration": 8,
    "start_time": "2023-03-19T19:55:43.700Z"
   },
   {
    "duration": 48,
    "start_time": "2023-03-19T19:55:54.565Z"
   },
   {
    "duration": 12,
    "start_time": "2023-03-19T19:57:55.845Z"
   },
   {
    "duration": 4,
    "start_time": "2023-03-19T20:10:27.751Z"
   },
   {
    "duration": 7,
    "start_time": "2023-03-19T20:10:39.951Z"
   },
   {
    "duration": 1025,
    "start_time": "2023-03-19T20:10:59.879Z"
   },
   {
    "duration": 51,
    "start_time": "2023-03-19T20:11:00.907Z"
   },
   {
    "duration": 17,
    "start_time": "2023-03-19T20:11:00.959Z"
   },
   {
    "duration": 16,
    "start_time": "2023-03-19T20:11:00.977Z"
   },
   {
    "duration": 31,
    "start_time": "2023-03-19T20:11:00.995Z"
   },
   {
    "duration": 74,
    "start_time": "2023-03-19T20:11:01.029Z"
   },
   {
    "duration": 7,
    "start_time": "2023-03-19T20:11:01.105Z"
   },
   {
    "duration": 43,
    "start_time": "2023-03-19T20:11:01.114Z"
   },
   {
    "duration": 20,
    "start_time": "2023-03-19T20:11:01.159Z"
   },
   {
    "duration": 8,
    "start_time": "2023-03-19T20:11:05.831Z"
   },
   {
    "duration": 5,
    "start_time": "2023-03-19T20:11:11.634Z"
   },
   {
    "duration": 20,
    "start_time": "2023-03-19T20:11:12.726Z"
   },
   {
    "duration": 6,
    "start_time": "2023-03-19T20:11:13.735Z"
   },
   {
    "duration": 10,
    "start_time": "2023-03-19T20:13:34.481Z"
   },
   {
    "duration": 19,
    "start_time": "2023-03-19T20:13:35.763Z"
   },
   {
    "duration": 9,
    "start_time": "2023-03-19T20:13:37.885Z"
   },
   {
    "duration": 7,
    "start_time": "2023-03-19T20:20:53.413Z"
   },
   {
    "duration": 5,
    "start_time": "2023-03-19T20:21:55.454Z"
   },
   {
    "duration": 14,
    "start_time": "2023-03-19T20:21:56.777Z"
   },
   {
    "duration": 7,
    "start_time": "2023-03-19T20:26:24.786Z"
   },
   {
    "duration": 4,
    "start_time": "2023-03-19T20:27:11.675Z"
   },
   {
    "duration": 3,
    "start_time": "2023-03-19T20:27:21.913Z"
   },
   {
    "duration": 11,
    "start_time": "2023-03-19T20:27:22.667Z"
   },
   {
    "duration": 89,
    "start_time": "2023-03-19T20:28:27.236Z"
   },
   {
    "duration": 4,
    "start_time": "2023-03-19T20:28:51.803Z"
   },
   {
    "duration": 4,
    "start_time": "2023-03-19T20:28:54.109Z"
   },
   {
    "duration": 12,
    "start_time": "2023-03-19T20:28:55.187Z"
   },
   {
    "duration": 3,
    "start_time": "2023-03-19T20:31:15.182Z"
   },
   {
    "duration": 1029,
    "start_time": "2023-03-19T20:31:22.701Z"
   },
   {
    "duration": 48,
    "start_time": "2023-03-19T20:31:23.732Z"
   },
   {
    "duration": 13,
    "start_time": "2023-03-19T20:31:23.781Z"
   },
   {
    "duration": 3,
    "start_time": "2023-03-19T20:31:23.795Z"
   },
   {
    "duration": 10,
    "start_time": "2023-03-19T20:31:23.800Z"
   },
   {
    "duration": 49,
    "start_time": "2023-03-19T20:31:23.811Z"
   },
   {
    "duration": 6,
    "start_time": "2023-03-19T20:31:23.861Z"
   },
   {
    "duration": 4,
    "start_time": "2023-03-19T20:31:23.869Z"
   },
   {
    "duration": 4,
    "start_time": "2023-03-19T20:31:23.875Z"
   },
   {
    "duration": 104,
    "start_time": "2023-03-19T20:31:23.880Z"
   },
   {
    "duration": 0,
    "start_time": "2023-03-19T20:31:23.986Z"
   },
   {
    "duration": 0,
    "start_time": "2023-03-19T20:31:23.987Z"
   },
   {
    "duration": 3,
    "start_time": "2023-03-19T20:31:30.619Z"
   },
   {
    "duration": 13,
    "start_time": "2023-03-19T20:31:31.435Z"
   },
   {
    "duration": 4,
    "start_time": "2023-03-19T20:31:50.186Z"
   },
   {
    "duration": 3,
    "start_time": "2023-03-19T20:31:52.636Z"
   },
   {
    "duration": 13,
    "start_time": "2023-03-19T20:31:53.535Z"
   },
   {
    "duration": 3,
    "start_time": "2023-03-19T20:32:05.753Z"
   },
   {
    "duration": 3,
    "start_time": "2023-03-19T20:32:07.765Z"
   },
   {
    "duration": 12,
    "start_time": "2023-03-19T20:32:08.453Z"
   },
   {
    "duration": 13,
    "start_time": "2023-03-19T20:32:13.574Z"
   },
   {
    "duration": 7,
    "start_time": "2023-03-19T20:32:38.454Z"
   },
   {
    "duration": 5,
    "start_time": "2023-03-19T20:32:39.319Z"
   },
   {
    "duration": 4,
    "start_time": "2023-03-19T20:32:42.320Z"
   },
   {
    "duration": 13,
    "start_time": "2023-03-19T20:32:43.237Z"
   },
   {
    "duration": 4,
    "start_time": "2023-03-19T20:32:52.853Z"
   },
   {
    "duration": 4,
    "start_time": "2023-03-19T20:32:55.686Z"
   },
   {
    "duration": 12,
    "start_time": "2023-03-19T20:32:56.459Z"
   },
   {
    "duration": 999,
    "start_time": "2023-03-19T20:33:10.676Z"
   },
   {
    "duration": 49,
    "start_time": "2023-03-19T20:33:11.677Z"
   },
   {
    "duration": 19,
    "start_time": "2023-03-19T20:33:12.536Z"
   },
   {
    "duration": 3,
    "start_time": "2023-03-19T20:33:14.005Z"
   },
   {
    "duration": 7,
    "start_time": "2023-03-19T20:33:16.055Z"
   },
   {
    "duration": 46,
    "start_time": "2023-03-19T20:33:16.920Z"
   },
   {
    "duration": 6,
    "start_time": "2023-03-19T20:33:18.620Z"
   },
   {
    "duration": 4,
    "start_time": "2023-03-19T20:33:19.641Z"
   },
   {
    "duration": 4,
    "start_time": "2023-03-19T20:33:24.104Z"
   },
   {
    "duration": 91,
    "start_time": "2023-03-19T20:33:24.988Z"
   },
   {
    "duration": 12,
    "start_time": "2023-03-19T20:33:26.739Z"
   },
   {
    "duration": 3,
    "start_time": "2023-03-19T20:35:49.205Z"
   },
   {
    "duration": 8,
    "start_time": "2023-03-19T20:35:50.037Z"
   },
   {
    "duration": 13,
    "start_time": "2023-03-19T20:35:50.951Z"
   },
   {
    "duration": 12,
    "start_time": "2023-03-19T20:35:54.644Z"
   },
   {
    "duration": 9,
    "start_time": "2023-03-19T20:36:09.451Z"
   },
   {
    "duration": 13,
    "start_time": "2023-03-19T20:36:10.337Z"
   },
   {
    "duration": 11,
    "start_time": "2023-03-19T20:36:12.054Z"
   },
   {
    "duration": 3,
    "start_time": "2023-03-19T20:36:18.181Z"
   },
   {
    "duration": 8,
    "start_time": "2023-03-19T20:36:19.787Z"
   },
   {
    "duration": 11,
    "start_time": "2023-03-19T20:36:20.713Z"
   },
   {
    "duration": 8,
    "start_time": "2023-03-19T20:37:01.337Z"
   },
   {
    "duration": 11,
    "start_time": "2023-03-19T20:37:02.104Z"
   },
   {
    "duration": 12,
    "start_time": "2023-03-19T20:37:03.389Z"
   },
   {
    "duration": 4,
    "start_time": "2023-03-19T20:37:15.191Z"
   },
   {
    "duration": 6,
    "start_time": "2023-03-19T20:37:15.937Z"
   },
   {
    "duration": 11,
    "start_time": "2023-03-19T20:37:17.137Z"
   },
   {
    "duration": 3,
    "start_time": "2023-03-19T20:45:12.788Z"
   },
   {
    "duration": 3,
    "start_time": "2023-03-19T20:45:13.338Z"
   },
   {
    "duration": 3,
    "start_time": "2023-03-19T20:45:14.057Z"
   },
   {
    "duration": 11,
    "start_time": "2023-03-19T20:45:15.295Z"
   },
   {
    "duration": 7,
    "start_time": "2023-03-19T20:45:16.405Z"
   },
   {
    "duration": 3,
    "start_time": "2023-03-19T20:46:43.022Z"
   },
   {
    "duration": 3,
    "start_time": "2023-03-19T20:46:54.555Z"
   },
   {
    "duration": 12,
    "start_time": "2023-03-19T20:46:55.672Z"
   },
   {
    "duration": 7,
    "start_time": "2023-03-19T20:47:01.846Z"
   },
   {
    "duration": 6,
    "start_time": "2023-03-19T20:47:13.821Z"
   },
   {
    "duration": 6,
    "start_time": "2023-03-19T20:47:20.672Z"
   },
   {
    "duration": 4,
    "start_time": "2023-03-19T20:47:22.889Z"
   },
   {
    "duration": 4,
    "start_time": "2023-03-19T20:47:24.205Z"
   },
   {
    "duration": 5,
    "start_time": "2023-03-19T20:47:24.772Z"
   },
   {
    "duration": 12,
    "start_time": "2023-03-19T20:47:25.357Z"
   },
   {
    "duration": 7,
    "start_time": "2023-03-19T20:47:26.063Z"
   },
   {
    "duration": 989,
    "start_time": "2023-03-19T20:47:41.090Z"
   },
   {
    "duration": 48,
    "start_time": "2023-03-19T20:47:42.081Z"
   },
   {
    "duration": 13,
    "start_time": "2023-03-19T20:47:42.954Z"
   },
   {
    "duration": 3,
    "start_time": "2023-03-19T20:47:44.297Z"
   },
   {
    "duration": 7,
    "start_time": "2023-03-19T20:47:46.346Z"
   },
   {
    "duration": 46,
    "start_time": "2023-03-19T20:47:47.100Z"
   },
   {
    "duration": 6,
    "start_time": "2023-03-19T20:47:48.408Z"
   },
   {
    "duration": 4,
    "start_time": "2023-03-19T20:47:49.113Z"
   },
   {
    "duration": 5,
    "start_time": "2023-03-19T20:47:51.063Z"
   },
   {
    "duration": 4,
    "start_time": "2023-03-19T20:47:52.290Z"
   },
   {
    "duration": 5,
    "start_time": "2023-03-19T20:47:52.904Z"
   },
   {
    "duration": 11,
    "start_time": "2023-03-19T20:47:53.605Z"
   },
   {
    "duration": 7,
    "start_time": "2023-03-19T20:47:54.755Z"
   },
   {
    "duration": 6,
    "start_time": "2023-03-19T20:48:37.522Z"
   },
   {
    "duration": 5,
    "start_time": "2023-03-19T20:48:38.254Z"
   },
   {
    "duration": 3,
    "start_time": "2023-03-19T20:48:40.338Z"
   },
   {
    "duration": 4,
    "start_time": "2023-03-19T20:48:42.091Z"
   },
   {
    "duration": 5,
    "start_time": "2023-03-19T20:48:43.005Z"
   },
   {
    "duration": 15,
    "start_time": "2023-03-19T20:48:44.222Z"
   },
   {
    "duration": 7,
    "start_time": "2023-03-19T20:48:45.270Z"
   },
   {
    "duration": 1021,
    "start_time": "2023-03-19T20:48:58.971Z"
   },
   {
    "duration": 49,
    "start_time": "2023-03-19T20:48:59.996Z"
   },
   {
    "duration": 12,
    "start_time": "2023-03-19T20:49:01.205Z"
   },
   {
    "duration": 3,
    "start_time": "2023-03-19T20:49:02.771Z"
   },
   {
    "duration": 7,
    "start_time": "2023-03-19T20:49:05.254Z"
   },
   {
    "duration": 46,
    "start_time": "2023-03-19T20:49:06.105Z"
   },
   {
    "duration": 6,
    "start_time": "2023-03-19T20:49:07.729Z"
   },
   {
    "duration": 3,
    "start_time": "2023-03-19T20:49:08.845Z"
   },
   {
    "duration": 5,
    "start_time": "2023-03-19T20:49:12.440Z"
   },
   {
    "duration": 3,
    "start_time": "2023-03-19T20:49:14.525Z"
   },
   {
    "duration": 4,
    "start_time": "2023-03-19T20:49:19.491Z"
   },
   {
    "duration": 11,
    "start_time": "2023-03-19T20:49:20.304Z"
   },
   {
    "duration": 7,
    "start_time": "2023-03-19T20:49:21.144Z"
   },
   {
    "duration": 6,
    "start_time": "2023-03-19T20:50:09.905Z"
   },
   {
    "duration": 3,
    "start_time": "2023-03-19T20:50:42.172Z"
   },
   {
    "duration": 3,
    "start_time": "2023-03-19T20:50:43.406Z"
   },
   {
    "duration": 3,
    "start_time": "2023-03-19T20:50:44.205Z"
   },
   {
    "duration": 12,
    "start_time": "2023-03-19T20:50:44.857Z"
   },
   {
    "duration": 7,
    "start_time": "2023-03-19T20:50:49.171Z"
   },
   {
    "duration": 8,
    "start_time": "2023-03-19T20:55:09.541Z"
   },
   {
    "duration": 4,
    "start_time": "2023-03-19T20:55:10.195Z"
   },
   {
    "duration": 3,
    "start_time": "2023-03-19T20:55:15.980Z"
   },
   {
    "duration": 3,
    "start_time": "2023-03-19T20:55:17.062Z"
   },
   {
    "duration": 14,
    "start_time": "2023-03-19T20:55:18.222Z"
   },
   {
    "duration": 7,
    "start_time": "2023-03-19T20:55:25.644Z"
   },
   {
    "duration": 22,
    "start_time": "2023-03-19T21:01:53.989Z"
   },
   {
    "duration": 87,
    "start_time": "2023-03-19T21:03:57.524Z"
   },
   {
    "duration": 4,
    "start_time": "2023-03-19T21:04:20.281Z"
   },
   {
    "duration": 4,
    "start_time": "2023-03-19T21:05:21.973Z"
   },
   {
    "duration": 24,
    "start_time": "2023-03-19T21:05:28.525Z"
   },
   {
    "duration": 3,
    "start_time": "2023-03-19T21:05:47.646Z"
   },
   {
    "duration": 4,
    "start_time": "2023-03-19T21:05:48.410Z"
   },
   {
    "duration": 4,
    "start_time": "2023-03-19T21:05:49.280Z"
   },
   {
    "duration": 4,
    "start_time": "2023-03-19T21:05:50.174Z"
   },
   {
    "duration": 5,
    "start_time": "2023-03-19T21:07:33.456Z"
   },
   {
    "duration": 27,
    "start_time": "2023-03-19T21:07:36.487Z"
   },
   {
    "duration": 4,
    "start_time": "2023-03-19T21:08:29.390Z"
   },
   {
    "duration": 982,
    "start_time": "2023-03-19T21:08:38.910Z"
   },
   {
    "duration": 48,
    "start_time": "2023-03-19T21:08:39.894Z"
   },
   {
    "duration": 13,
    "start_time": "2023-03-19T21:08:39.944Z"
   },
   {
    "duration": 5,
    "start_time": "2023-03-19T21:08:39.958Z"
   },
   {
    "duration": 10,
    "start_time": "2023-03-19T21:08:39.965Z"
   },
   {
    "duration": 53,
    "start_time": "2023-03-19T21:08:39.976Z"
   },
   {
    "duration": 5,
    "start_time": "2023-03-19T21:08:40.031Z"
   },
   {
    "duration": 6,
    "start_time": "2023-03-19T21:08:40.038Z"
   },
   {
    "duration": 15,
    "start_time": "2023-03-19T21:08:40.045Z"
   },
   {
    "duration": 7,
    "start_time": "2023-03-19T21:08:40.061Z"
   },
   {
    "duration": 9,
    "start_time": "2023-03-19T21:08:40.069Z"
   },
   {
    "duration": 29,
    "start_time": "2023-03-19T21:08:40.079Z"
   },
   {
    "duration": 2,
    "start_time": "2023-03-19T21:11:07.300Z"
   },
   {
    "duration": 53,
    "start_time": "2023-03-19T21:11:07.304Z"
   },
   {
    "duration": 13,
    "start_time": "2023-03-19T21:11:07.358Z"
   },
   {
    "duration": 4,
    "start_time": "2023-03-19T21:11:07.372Z"
   },
   {
    "duration": 29,
    "start_time": "2023-03-19T21:11:07.377Z"
   },
   {
    "duration": 17,
    "start_time": "2023-03-19T21:11:07.408Z"
   },
   {
    "duration": 6,
    "start_time": "2023-03-19T21:11:07.427Z"
   },
   {
    "duration": 5,
    "start_time": "2023-03-19T21:11:07.435Z"
   },
   {
    "duration": 6,
    "start_time": "2023-03-19T21:11:07.442Z"
   },
   {
    "duration": 8,
    "start_time": "2023-03-19T21:11:07.449Z"
   },
   {
    "duration": 6,
    "start_time": "2023-03-19T21:11:07.458Z"
   },
   {
    "duration": 9,
    "start_time": "2023-03-19T21:20:07.795Z"
   },
   {
    "duration": 4,
    "start_time": "2023-03-19T21:20:20.019Z"
   },
   {
    "duration": 6,
    "start_time": "2023-03-19T21:20:36.561Z"
   },
   {
    "duration": 129,
    "start_time": "2023-03-19T21:21:53.578Z"
   },
   {
    "duration": 121,
    "start_time": "2023-03-19T21:22:14.979Z"
   },
   {
    "duration": 13,
    "start_time": "2023-03-19T21:27:55.434Z"
   },
   {
    "duration": 88,
    "start_time": "2023-03-19T21:35:05.303Z"
   },
   {
    "duration": 13,
    "start_time": "2023-03-19T21:35:48.930Z"
   },
   {
    "duration": 457,
    "start_time": "2023-03-19T21:40:45.314Z"
   },
   {
    "duration": 405,
    "start_time": "2023-03-19T21:41:09.856Z"
   },
   {
    "duration": 44,
    "start_time": "2023-03-19T21:45:59.967Z"
   },
   {
    "duration": 20,
    "start_time": "2023-03-19T21:48:23.064Z"
   },
   {
    "duration": 20,
    "start_time": "2023-03-19T21:48:38.016Z"
   },
   {
    "duration": 11,
    "start_time": "2023-03-19T21:49:56.735Z"
   },
   {
    "duration": 5,
    "start_time": "2023-03-19T21:53:58.607Z"
   },
   {
    "duration": 4,
    "start_time": "2023-03-19T21:54:01.132Z"
   },
   {
    "duration": 10,
    "start_time": "2023-03-19T21:54:23.866Z"
   },
   {
    "duration": 5,
    "start_time": "2023-03-19T21:54:32.313Z"
   },
   {
    "duration": 6,
    "start_time": "2023-03-19T21:54:44.183Z"
   },
   {
    "duration": 9,
    "start_time": "2023-03-19T21:57:39.654Z"
   },
   {
    "duration": 9,
    "start_time": "2023-03-19T21:57:51.179Z"
   },
   {
    "duration": 13,
    "start_time": "2023-03-19T21:58:08.383Z"
   },
   {
    "duration": 14,
    "start_time": "2023-03-19T21:58:40.485Z"
   },
   {
    "duration": 15,
    "start_time": "2023-03-19T21:59:06.272Z"
   },
   {
    "duration": 12,
    "start_time": "2023-03-19T21:59:33.389Z"
   },
   {
    "duration": 12,
    "start_time": "2023-03-19T22:00:18.567Z"
   },
   {
    "duration": 124,
    "start_time": "2023-03-19T22:00:56.224Z"
   },
   {
    "duration": 1345,
    "start_time": "2023-03-20T01:58:56.755Z"
   },
   {
    "duration": 108,
    "start_time": "2023-03-20T01:58:58.103Z"
   },
   {
    "duration": 16,
    "start_time": "2023-03-20T01:58:58.213Z"
   },
   {
    "duration": 4,
    "start_time": "2023-03-20T01:58:58.882Z"
   },
   {
    "duration": 8,
    "start_time": "2023-03-20T01:59:00.115Z"
   },
   {
    "duration": 57,
    "start_time": "2023-03-20T01:59:00.576Z"
   },
   {
    "duration": 8,
    "start_time": "2023-03-20T01:59:01.466Z"
   },
   {
    "duration": 5,
    "start_time": "2023-03-20T01:59:01.909Z"
   },
   {
    "duration": 4,
    "start_time": "2023-03-20T01:59:03.248Z"
   },
   {
    "duration": 6,
    "start_time": "2023-03-20T01:59:03.640Z"
   },
   {
    "duration": 5,
    "start_time": "2023-03-20T01:59:04.540Z"
   },
   {
    "duration": 15,
    "start_time": "2023-03-20T01:59:05.758Z"
   },
   {
    "duration": 9,
    "start_time": "2023-03-20T01:59:06.175Z"
   },
   {
    "duration": 147,
    "start_time": "2023-03-20T01:59:06.647Z"
   },
   {
    "duration": 17,
    "start_time": "2023-03-20T01:59:08.159Z"
   },
   {
    "duration": 125,
    "start_time": "2023-03-20T01:59:08.808Z"
   },
   {
    "duration": 104,
    "start_time": "2023-03-20T02:00:02.575Z"
   },
   {
    "duration": 20,
    "start_time": "2023-03-20T02:00:19.374Z"
   },
   {
    "duration": 199,
    "start_time": "2023-03-20T02:01:15.658Z"
   },
   {
    "duration": 309,
    "start_time": "2023-03-20T02:01:39.350Z"
   },
   {
    "duration": 304,
    "start_time": "2023-03-20T02:03:06.800Z"
   },
   {
    "duration": 20,
    "start_time": "2023-03-20T02:03:24.909Z"
   },
   {
    "duration": 19,
    "start_time": "2023-03-20T02:03:36.092Z"
   },
   {
    "duration": 19,
    "start_time": "2023-03-20T02:03:43.992Z"
   },
   {
    "duration": 414,
    "start_time": "2023-03-20T02:04:10.038Z"
   },
   {
    "duration": 13,
    "start_time": "2023-03-20T02:04:26.308Z"
   },
   {
    "duration": 298,
    "start_time": "2023-03-20T02:04:41.337Z"
   },
   {
    "duration": 15,
    "start_time": "2023-03-20T02:18:45.510Z"
   },
   {
    "duration": 16,
    "start_time": "2023-03-20T02:19:00.566Z"
   },
   {
    "duration": 130,
    "start_time": "2023-03-20T02:19:13.634Z"
   },
   {
    "duration": 836,
    "start_time": "2023-03-20T02:19:27.803Z"
   },
   {
    "duration": 344,
    "start_time": "2023-03-20T02:19:47.894Z"
   },
   {
    "duration": 20,
    "start_time": "2023-03-20T02:20:01.394Z"
   },
   {
    "duration": 102,
    "start_time": "2023-03-20T02:20:09.643Z"
   },
   {
    "duration": 10762,
    "start_time": "2023-03-20T02:20:19.003Z"
   },
   {
    "duration": 1337,
    "start_time": "2023-03-20T02:21:00.343Z"
   },
   {
    "duration": 1319,
    "start_time": "2023-03-20T02:24:16.912Z"
   },
   {
    "duration": 132,
    "start_time": "2023-03-20T02:24:47.360Z"
   },
   {
    "duration": 1256,
    "start_time": "2023-03-20T02:26:04.535Z"
   },
   {
    "duration": 20,
    "start_time": "2023-03-20T02:27:51.741Z"
   },
   {
    "duration": 1327,
    "start_time": "2023-03-20T02:27:58.660Z"
   },
   {
    "duration": 120,
    "start_time": "2023-03-20T02:28:14.340Z"
   },
   {
    "duration": 17,
    "start_time": "2023-03-20T02:28:27.010Z"
   },
   {
    "duration": 12,
    "start_time": "2023-03-20T02:29:00.495Z"
   },
   {
    "duration": 220,
    "start_time": "2023-03-20T02:31:06.260Z"
   },
   {
    "duration": 15,
    "start_time": "2023-03-20T02:32:56.969Z"
   },
   {
    "duration": 1256,
    "start_time": "2023-03-20T02:33:36.280Z"
   },
   {
    "duration": 1373,
    "start_time": "2023-03-20T02:34:08.561Z"
   },
   {
    "duration": 11,
    "start_time": "2023-03-20T02:34:21.938Z"
   },
   {
    "duration": 11,
    "start_time": "2023-03-20T02:34:29.984Z"
   },
   {
    "duration": 142,
    "start_time": "2023-03-20T02:43:54.677Z"
   },
   {
    "duration": 9,
    "start_time": "2023-03-20T02:44:09.061Z"
   },
   {
    "duration": 229,
    "start_time": "2023-03-20T02:49:36.964Z"
   },
   {
    "duration": 9,
    "start_time": "2023-03-20T02:50:21.685Z"
   },
   {
    "duration": 215,
    "start_time": "2023-03-20T02:50:31.512Z"
   },
   {
    "duration": 16,
    "start_time": "2023-03-20T02:52:52.617Z"
   },
   {
    "duration": 12,
    "start_time": "2023-03-20T02:53:03.571Z"
   },
   {
    "duration": 12,
    "start_time": "2023-03-20T02:53:16.438Z"
   },
   {
    "duration": 147,
    "start_time": "2023-03-20T03:01:22.112Z"
   },
   {
    "duration": 4,
    "start_time": "2023-03-20T03:03:53.004Z"
   },
   {
    "duration": 381,
    "start_time": "2023-03-20T03:04:00.828Z"
   },
   {
    "duration": 11,
    "start_time": "2023-03-20T03:04:58.537Z"
   },
   {
    "duration": 10,
    "start_time": "2023-03-20T03:05:07.396Z"
   },
   {
    "duration": 11,
    "start_time": "2023-03-20T03:05:18.012Z"
   },
   {
    "duration": 159,
    "start_time": "2023-03-20T03:05:29.364Z"
   },
   {
    "duration": 14,
    "start_time": "2023-03-20T03:07:06.264Z"
   },
   {
    "duration": 4,
    "start_time": "2023-03-20T03:07:41.313Z"
   },
   {
    "duration": 2346,
    "start_time": "2023-03-20T03:07:48.346Z"
   },
   {
    "duration": 1614,
    "start_time": "2023-03-20T03:08:17.530Z"
   },
   {
    "duration": 1489,
    "start_time": "2023-03-20T03:08:32.299Z"
   },
   {
    "duration": 23,
    "start_time": "2023-03-20T03:09:01.576Z"
   },
   {
    "duration": 122,
    "start_time": "2023-03-20T03:09:32.814Z"
   },
   {
    "duration": 117,
    "start_time": "2023-03-20T03:13:30.798Z"
   },
   {
    "duration": 4,
    "start_time": "2023-03-20T03:14:14.597Z"
   },
   {
    "duration": 130,
    "start_time": "2023-03-20T03:14:26.837Z"
   },
   {
    "duration": 141,
    "start_time": "2023-03-20T03:14:54.445Z"
   },
   {
    "duration": 145,
    "start_time": "2023-03-20T04:09:52.182Z"
   },
   {
    "duration": 71,
    "start_time": "2023-03-20T14:36:24.982Z"
   },
   {
    "duration": 1589,
    "start_time": "2023-03-20T14:36:44.767Z"
   },
   {
    "duration": 123,
    "start_time": "2023-03-20T14:36:46.359Z"
   },
   {
    "duration": 17,
    "start_time": "2023-03-20T14:36:46.484Z"
   },
   {
    "duration": 3,
    "start_time": "2023-03-20T14:36:46.504Z"
   },
   {
    "duration": 19,
    "start_time": "2023-03-20T14:36:46.510Z"
   },
   {
    "duration": 77,
    "start_time": "2023-03-20T14:36:46.531Z"
   },
   {
    "duration": 8,
    "start_time": "2023-03-20T14:36:46.610Z"
   },
   {
    "duration": 7,
    "start_time": "2023-03-20T14:36:46.620Z"
   },
   {
    "duration": 14,
    "start_time": "2023-03-20T14:36:46.629Z"
   },
   {
    "duration": 18,
    "start_time": "2023-03-20T14:36:46.645Z"
   },
   {
    "duration": 22,
    "start_time": "2023-03-20T14:36:46.666Z"
   },
   {
    "duration": 16,
    "start_time": "2023-03-20T14:36:46.690Z"
   },
   {
    "duration": 10,
    "start_time": "2023-03-20T14:36:46.708Z"
   },
   {
    "duration": 185,
    "start_time": "2023-03-20T14:36:46.721Z"
   },
   {
    "duration": 21,
    "start_time": "2023-03-20T14:36:46.909Z"
   },
   {
    "duration": 53,
    "start_time": "2023-03-20T19:53:32.922Z"
   },
   {
    "duration": 1690,
    "start_time": "2023-03-20T19:53:40.126Z"
   },
   {
    "duration": 121,
    "start_time": "2023-03-20T19:53:41.818Z"
   },
   {
    "duration": 18,
    "start_time": "2023-03-20T19:53:41.941Z"
   },
   {
    "duration": 3,
    "start_time": "2023-03-20T19:53:41.961Z"
   },
   {
    "duration": 31,
    "start_time": "2023-03-20T19:53:41.966Z"
   },
   {
    "duration": 65,
    "start_time": "2023-03-20T19:53:41.999Z"
   },
   {
    "duration": 9,
    "start_time": "2023-03-20T19:53:42.066Z"
   },
   {
    "duration": 23,
    "start_time": "2023-03-20T19:53:42.076Z"
   },
   {
    "duration": 25,
    "start_time": "2023-03-20T19:53:42.101Z"
   },
   {
    "duration": 21,
    "start_time": "2023-03-20T19:53:42.128Z"
   },
   {
    "duration": 17,
    "start_time": "2023-03-20T19:53:42.151Z"
   },
   {
    "duration": 17,
    "start_time": "2023-03-20T19:53:42.170Z"
   },
   {
    "duration": 11,
    "start_time": "2023-03-20T19:53:42.189Z"
   },
   {
    "duration": 202,
    "start_time": "2023-03-20T19:53:42.202Z"
   },
   {
    "duration": 18,
    "start_time": "2023-03-20T19:53:42.406Z"
   },
   {
    "duration": 16,
    "start_time": "2023-03-20T19:54:09.494Z"
   },
   {
    "duration": 12,
    "start_time": "2023-03-20T19:54:13.841Z"
   },
   {
    "duration": 8,
    "start_time": "2023-03-20T19:54:14.561Z"
   },
   {
    "duration": 21,
    "start_time": "2023-03-20T19:55:05.977Z"
   },
   {
    "duration": 14,
    "start_time": "2023-03-20T19:55:11.694Z"
   },
   {
    "duration": 2,
    "start_time": "2023-03-20T19:55:32.376Z"
   },
   {
    "duration": 2,
    "start_time": "2023-03-20T19:55:37.111Z"
   },
   {
    "duration": 4,
    "start_time": "2023-03-20T19:55:48.343Z"
   },
   {
    "duration": 98,
    "start_time": "2023-03-20T19:56:20.076Z"
   },
   {
    "duration": 11,
    "start_time": "2023-03-20T19:57:35.560Z"
   },
   {
    "duration": 7,
    "start_time": "2023-03-20T19:57:45.243Z"
   },
   {
    "duration": 31,
    "start_time": "2023-03-20T19:58:07.227Z"
   },
   {
    "duration": 284,
    "start_time": "2023-03-20T19:58:24.627Z"
   },
   {
    "duration": 12,
    "start_time": "2023-03-20T19:59:41.259Z"
   },
   {
    "duration": 4,
    "start_time": "2023-03-20T19:59:52.512Z"
   },
   {
    "duration": 6,
    "start_time": "2023-03-20T20:00:02.264Z"
   },
   {
    "duration": 264,
    "start_time": "2023-03-20T20:00:17.630Z"
   },
   {
    "duration": 1316,
    "start_time": "2023-03-21T01:40:14.756Z"
   },
   {
    "duration": 223,
    "start_time": "2023-03-21T01:40:16.074Z"
   },
   {
    "duration": 17,
    "start_time": "2023-03-21T01:40:16.299Z"
   },
   {
    "duration": 3,
    "start_time": "2023-03-21T01:40:16.318Z"
   },
   {
    "duration": 8,
    "start_time": "2023-03-21T01:40:16.324Z"
   },
   {
    "duration": 59,
    "start_time": "2023-03-21T01:40:16.334Z"
   },
   {
    "duration": 7,
    "start_time": "2023-03-21T01:40:16.395Z"
   },
   {
    "duration": 4,
    "start_time": "2023-03-21T01:40:16.404Z"
   },
   {
    "duration": 5,
    "start_time": "2023-03-21T01:40:16.410Z"
   },
   {
    "duration": 5,
    "start_time": "2023-03-21T01:40:16.417Z"
   },
   {
    "duration": 5,
    "start_time": "2023-03-21T01:40:16.423Z"
   },
   {
    "duration": 189,
    "start_time": "2023-03-21T01:40:16.430Z"
   },
   {
    "duration": 113,
    "start_time": "2023-03-21T01:40:16.621Z"
   },
   {
    "duration": 0,
    "start_time": "2023-03-21T01:40:16.735Z"
   },
   {
    "duration": 0,
    "start_time": "2023-03-21T01:40:16.737Z"
   },
   {
    "duration": 0,
    "start_time": "2023-03-21T01:40:16.738Z"
   },
   {
    "duration": 0,
    "start_time": "2023-03-21T01:40:16.739Z"
   },
   {
    "duration": 0,
    "start_time": "2023-03-21T01:40:16.740Z"
   },
   {
    "duration": 0,
    "start_time": "2023-03-21T01:40:16.741Z"
   },
   {
    "duration": 156,
    "start_time": "2023-03-21T01:40:21.609Z"
   },
   {
    "duration": 12,
    "start_time": "2023-03-21T01:40:50.195Z"
   },
   {
    "duration": 9,
    "start_time": "2023-03-21T01:40:50.975Z"
   },
   {
    "duration": 10,
    "start_time": "2023-03-21T01:40:58.164Z"
   },
   {
    "duration": 8,
    "start_time": "2023-03-21T01:40:59.080Z"
   },
   {
    "duration": 146,
    "start_time": "2023-03-21T02:10:44.750Z"
   },
   {
    "duration": 4,
    "start_time": "2023-03-21T02:11:08.766Z"
   },
   {
    "duration": 10,
    "start_time": "2023-03-21T02:11:41.267Z"
   },
   {
    "duration": 9,
    "start_time": "2023-03-21T02:11:42.742Z"
   },
   {
    "duration": 9,
    "start_time": "2023-03-21T02:12:00.092Z"
   },
   {
    "duration": 3,
    "start_time": "2023-03-21T02:12:00.951Z"
   },
   {
    "duration": 6,
    "start_time": "2023-03-21T02:12:02.542Z"
   },
   {
    "duration": 304,
    "start_time": "2023-03-21T02:12:03.692Z"
   },
   {
    "duration": 42,
    "start_time": "2023-03-21T22:49:38.298Z"
   },
   {
    "duration": 1136,
    "start_time": "2023-03-21T22:49:50.653Z"
   },
   {
    "duration": 97,
    "start_time": "2023-03-21T22:49:51.791Z"
   },
   {
    "duration": 14,
    "start_time": "2023-03-21T22:49:51.890Z"
   },
   {
    "duration": 9,
    "start_time": "2023-03-21T22:49:51.905Z"
   },
   {
    "duration": 11,
    "start_time": "2023-03-21T22:49:51.916Z"
   },
   {
    "duration": 51,
    "start_time": "2023-03-21T22:49:51.928Z"
   },
   {
    "duration": 5,
    "start_time": "2023-03-21T22:49:51.981Z"
   },
   {
    "duration": 13,
    "start_time": "2023-03-21T22:49:51.988Z"
   },
   {
    "duration": 6,
    "start_time": "2023-03-21T22:49:52.002Z"
   },
   {
    "duration": 29,
    "start_time": "2023-03-21T22:49:52.009Z"
   },
   {
    "duration": 16,
    "start_time": "2023-03-21T22:49:52.040Z"
   },
   {
    "duration": 148,
    "start_time": "2023-03-21T22:49:52.058Z"
   },
   {
    "duration": 9,
    "start_time": "2023-03-21T22:49:52.207Z"
   },
   {
    "duration": 15,
    "start_time": "2023-03-21T22:49:52.218Z"
   },
   {
    "duration": 10,
    "start_time": "2023-03-21T22:49:52.234Z"
   },
   {
    "duration": 260,
    "start_time": "2023-03-21T22:49:52.245Z"
   },
   {
    "duration": 12,
    "start_time": "2023-03-21T22:49:52.506Z"
   },
   {
    "duration": 12,
    "start_time": "2023-03-21T22:50:04.650Z"
   },
   {
    "duration": 113,
    "start_time": "2023-03-21T22:50:28.344Z"
   },
   {
    "duration": 13,
    "start_time": "2023-03-21T22:51:17.615Z"
   },
   {
    "duration": 14,
    "start_time": "2023-03-21T22:51:31.931Z"
   },
   {
    "duration": 105,
    "start_time": "2023-03-21T22:52:01.665Z"
   },
   {
    "duration": 17,
    "start_time": "2023-03-21T22:52:21.306Z"
   },
   {
    "duration": 4,
    "start_time": "2023-03-21T22:53:09.986Z"
   },
   {
    "duration": 120,
    "start_time": "2023-03-21T22:55:35.342Z"
   },
   {
    "duration": 15,
    "start_time": "2023-03-21T22:56:22.484Z"
   },
   {
    "duration": 12,
    "start_time": "2023-03-21T22:56:51.846Z"
   },
   {
    "duration": 12,
    "start_time": "2023-03-21T22:57:36.486Z"
   },
   {
    "duration": 20,
    "start_time": "2023-03-21T22:58:14.293Z"
   },
   {
    "duration": 21,
    "start_time": "2023-03-21T22:58:20.084Z"
   },
   {
    "duration": 12,
    "start_time": "2023-03-21T22:58:40.214Z"
   },
   {
    "duration": 142,
    "start_time": "2023-03-21T22:58:54.977Z"
   },
   {
    "duration": 20,
    "start_time": "2023-03-21T22:59:01.207Z"
   },
   {
    "duration": 21,
    "start_time": "2023-03-21T22:59:10.061Z"
   },
   {
    "duration": 159,
    "start_time": "2023-03-21T22:59:13.166Z"
   },
   {
    "duration": 1036,
    "start_time": "2023-03-21T23:02:58.846Z"
   },
   {
    "duration": 48,
    "start_time": "2023-03-21T23:02:59.884Z"
   },
   {
    "duration": 13,
    "start_time": "2023-03-21T23:02:59.934Z"
   },
   {
    "duration": 7,
    "start_time": "2023-03-21T23:02:59.949Z"
   },
   {
    "duration": 15,
    "start_time": "2023-03-21T23:02:59.958Z"
   },
   {
    "duration": 59,
    "start_time": "2023-03-21T23:02:59.974Z"
   },
   {
    "duration": 6,
    "start_time": "2023-03-21T23:03:00.036Z"
   },
   {
    "duration": 15,
    "start_time": "2023-03-21T23:03:00.043Z"
   },
   {
    "duration": 8,
    "start_time": "2023-03-21T23:03:00.060Z"
   },
   {
    "duration": 6,
    "start_time": "2023-03-21T23:03:00.070Z"
   },
   {
    "duration": 8,
    "start_time": "2023-03-21T23:03:00.078Z"
   },
   {
    "duration": 151,
    "start_time": "2023-03-21T23:03:00.087Z"
   },
   {
    "duration": 10,
    "start_time": "2023-03-21T23:03:00.239Z"
   },
   {
    "duration": 24,
    "start_time": "2023-03-21T23:03:00.251Z"
   },
   {
    "duration": 35,
    "start_time": "2023-03-21T23:03:00.277Z"
   },
   {
    "duration": 271,
    "start_time": "2023-03-21T23:03:00.314Z"
   },
   {
    "duration": 115,
    "start_time": "2023-03-21T23:03:00.586Z"
   },
   {
    "duration": 0,
    "start_time": "2023-03-21T23:03:00.703Z"
   },
   {
    "duration": 5,
    "start_time": "2023-03-21T23:03:03.287Z"
   },
   {
    "duration": 60,
    "start_time": "2023-03-21T23:03:03.294Z"
   },
   {
    "duration": 13,
    "start_time": "2023-03-21T23:03:03.355Z"
   },
   {
    "duration": 9,
    "start_time": "2023-03-21T23:03:03.369Z"
   },
   {
    "duration": 39,
    "start_time": "2023-03-21T23:03:03.380Z"
   },
   {
    "duration": 30,
    "start_time": "2023-03-21T23:03:03.420Z"
   },
   {
    "duration": 8,
    "start_time": "2023-03-21T23:03:03.451Z"
   },
   {
    "duration": 4,
    "start_time": "2023-03-21T23:03:03.460Z"
   },
   {
    "duration": 26,
    "start_time": "2023-03-21T23:03:03.466Z"
   },
   {
    "duration": 25,
    "start_time": "2023-03-21T23:03:03.493Z"
   },
   {
    "duration": 9,
    "start_time": "2023-03-21T23:03:03.519Z"
   },
   {
    "duration": 127,
    "start_time": "2023-03-21T23:03:03.529Z"
   },
   {
    "duration": 10,
    "start_time": "2023-03-21T23:03:03.657Z"
   },
   {
    "duration": 6,
    "start_time": "2023-03-21T23:03:03.669Z"
   },
   {
    "duration": 6,
    "start_time": "2023-03-21T23:03:03.676Z"
   },
   {
    "duration": 239,
    "start_time": "2023-03-21T23:03:03.684Z"
   },
   {
    "duration": 19,
    "start_time": "2023-03-21T23:03:03.924Z"
   },
   {
    "duration": 1,
    "start_time": "2023-03-21T23:03:03.944Z"
   },
   {
    "duration": 3,
    "start_time": "2023-03-21T23:03:28.645Z"
   },
   {
    "duration": 45,
    "start_time": "2023-03-21T23:03:29.291Z"
   },
   {
    "duration": 12,
    "start_time": "2023-03-21T23:03:30.968Z"
   },
   {
    "duration": 3,
    "start_time": "2023-03-21T23:03:32.125Z"
   },
   {
    "duration": 7,
    "start_time": "2023-03-21T23:03:34.291Z"
   },
   {
    "duration": 13,
    "start_time": "2023-03-21T23:03:35.012Z"
   },
   {
    "duration": 6,
    "start_time": "2023-03-21T23:03:36.372Z"
   },
   {
    "duration": 4,
    "start_time": "2023-03-21T23:03:37.446Z"
   },
   {
    "duration": 4,
    "start_time": "2023-03-21T23:03:39.930Z"
   },
   {
    "duration": 5,
    "start_time": "2023-03-21T23:03:40.619Z"
   },
   {
    "duration": 5,
    "start_time": "2023-03-21T23:03:41.925Z"
   },
   {
    "duration": 149,
    "start_time": "2023-03-21T23:03:44.124Z"
   },
   {
    "duration": 10,
    "start_time": "2023-03-21T23:03:46.325Z"
   },
   {
    "duration": 4,
    "start_time": "2023-03-21T23:03:47.084Z"
   },
   {
    "duration": 5,
    "start_time": "2023-03-21T23:03:47.804Z"
   },
   {
    "duration": 234,
    "start_time": "2023-03-21T23:03:48.764Z"
   },
   {
    "duration": 19,
    "start_time": "2023-03-21T23:03:53.685Z"
   },
   {
    "duration": 9,
    "start_time": "2023-03-21T23:03:54.650Z"
   },
   {
    "duration": 21,
    "start_time": "2023-03-21T23:04:33.318Z"
   },
   {
    "duration": 217,
    "start_time": "2023-03-21T23:04:45.999Z"
   },
   {
    "duration": 8,
    "start_time": "2023-03-21T23:09:30.753Z"
   },
   {
    "duration": 13,
    "start_time": "2023-03-21T23:09:56.195Z"
   },
   {
    "duration": 15,
    "start_time": "2023-03-21T23:11:04.754Z"
   },
   {
    "duration": 3,
    "start_time": "2023-03-21T23:11:32.555Z"
   },
   {
    "duration": 72,
    "start_time": "2023-03-21T23:12:56.835Z"
   },
   {
    "duration": 5,
    "start_time": "2023-03-21T23:13:20.153Z"
   },
   {
    "duration": 286,
    "start_time": "2023-03-21T23:13:37.555Z"
   },
   {
    "duration": 19,
    "start_time": "2023-03-21T23:13:56.583Z"
   },
   {
    "duration": 3,
    "start_time": "2023-03-21T23:13:59.701Z"
   },
   {
    "duration": 5,
    "start_time": "2023-03-21T23:14:11.304Z"
   },
   {
    "duration": 225,
    "start_time": "2023-03-21T23:14:12.875Z"
   },
   {
    "duration": 993,
    "start_time": "2023-03-21T23:14:33.276Z"
   },
   {
    "duration": 53,
    "start_time": "2023-03-21T23:14:34.271Z"
   },
   {
    "duration": 13,
    "start_time": "2023-03-21T23:14:34.325Z"
   },
   {
    "duration": 2,
    "start_time": "2023-03-21T23:14:34.340Z"
   },
   {
    "duration": 10,
    "start_time": "2023-03-21T23:14:34.344Z"
   },
   {
    "duration": 49,
    "start_time": "2023-03-21T23:14:34.355Z"
   },
   {
    "duration": 21,
    "start_time": "2023-03-21T23:14:34.405Z"
   },
   {
    "duration": 5,
    "start_time": "2023-03-21T23:14:34.427Z"
   },
   {
    "duration": 5,
    "start_time": "2023-03-21T23:14:34.433Z"
   },
   {
    "duration": 5,
    "start_time": "2023-03-21T23:14:34.440Z"
   },
   {
    "duration": 5,
    "start_time": "2023-03-21T23:14:34.446Z"
   },
   {
    "duration": 151,
    "start_time": "2023-03-21T23:14:34.452Z"
   },
   {
    "duration": 19,
    "start_time": "2023-03-21T23:14:34.605Z"
   },
   {
    "duration": 3,
    "start_time": "2023-03-21T23:14:34.626Z"
   },
   {
    "duration": 9,
    "start_time": "2023-03-21T23:14:34.630Z"
   },
   {
    "duration": 261,
    "start_time": "2023-03-21T23:14:34.640Z"
   },
   {
    "duration": 101,
    "start_time": "2023-03-21T23:14:34.902Z"
   },
   {
    "duration": 0,
    "start_time": "2023-03-21T23:14:35.004Z"
   },
   {
    "duration": 0,
    "start_time": "2023-03-21T23:14:35.005Z"
   },
   {
    "duration": 0,
    "start_time": "2023-03-21T23:14:35.006Z"
   },
   {
    "duration": 22,
    "start_time": "2023-03-21T23:15:11.747Z"
   },
   {
    "duration": 14,
    "start_time": "2023-03-21T23:15:28.672Z"
   },
   {
    "duration": 4,
    "start_time": "2023-03-21T23:15:31.274Z"
   },
   {
    "duration": 5,
    "start_time": "2023-03-21T23:15:33.273Z"
   },
   {
    "duration": 228,
    "start_time": "2023-03-21T23:15:37.712Z"
   },
   {
    "duration": 3,
    "start_time": "2023-03-21T23:16:29.985Z"
   },
   {
    "duration": 5,
    "start_time": "2023-03-21T23:16:30.904Z"
   },
   {
    "duration": 226,
    "start_time": "2023-03-21T23:16:32.262Z"
   },
   {
    "duration": 1027,
    "start_time": "2023-03-21T23:18:34.853Z"
   },
   {
    "duration": 111,
    "start_time": "2023-03-21T23:18:35.882Z"
   },
   {
    "duration": 15,
    "start_time": "2023-03-21T23:18:35.995Z"
   },
   {
    "duration": 7,
    "start_time": "2023-03-21T23:18:36.013Z"
   },
   {
    "duration": 11,
    "start_time": "2023-03-21T23:18:36.022Z"
   },
   {
    "duration": 70,
    "start_time": "2023-03-21T23:18:36.034Z"
   },
   {
    "duration": 7,
    "start_time": "2023-03-21T23:18:36.106Z"
   },
   {
    "duration": 14,
    "start_time": "2023-03-21T23:18:36.114Z"
   },
   {
    "duration": 21,
    "start_time": "2023-03-21T23:18:36.129Z"
   },
   {
    "duration": 9,
    "start_time": "2023-03-21T23:18:36.152Z"
   },
   {
    "duration": 14,
    "start_time": "2023-03-21T23:18:36.162Z"
   },
   {
    "duration": 158,
    "start_time": "2023-03-21T23:18:36.178Z"
   },
   {
    "duration": 14,
    "start_time": "2023-03-21T23:18:36.337Z"
   },
   {
    "duration": 3,
    "start_time": "2023-03-21T23:18:36.353Z"
   },
   {
    "duration": 26,
    "start_time": "2023-03-21T23:18:36.357Z"
   },
   {
    "duration": 261,
    "start_time": "2023-03-21T23:18:36.384Z"
   },
   {
    "duration": 15,
    "start_time": "2023-03-21T23:18:36.646Z"
   },
   {
    "duration": 3,
    "start_time": "2023-03-21T23:18:36.662Z"
   },
   {
    "duration": 1097,
    "start_time": "2023-03-21T23:18:41.035Z"
   },
   {
    "duration": 95,
    "start_time": "2023-03-21T23:18:42.134Z"
   },
   {
    "duration": 14,
    "start_time": "2023-03-21T23:18:42.231Z"
   },
   {
    "duration": 32,
    "start_time": "2023-03-21T23:18:42.246Z"
   },
   {
    "duration": 22,
    "start_time": "2023-03-21T23:18:42.280Z"
   },
   {
    "duration": 54,
    "start_time": "2023-03-21T23:18:42.304Z"
   },
   {
    "duration": 6,
    "start_time": "2023-03-21T23:18:42.360Z"
   },
   {
    "duration": 60,
    "start_time": "2023-03-21T23:18:42.367Z"
   },
   {
    "duration": 14,
    "start_time": "2023-03-21T23:18:42.428Z"
   },
   {
    "duration": 24,
    "start_time": "2023-03-21T23:18:42.443Z"
   },
   {
    "duration": 19,
    "start_time": "2023-03-21T23:18:42.468Z"
   },
   {
    "duration": 138,
    "start_time": "2023-03-21T23:18:42.488Z"
   },
   {
    "duration": 13,
    "start_time": "2023-03-21T23:18:42.628Z"
   },
   {
    "duration": 3,
    "start_time": "2023-03-21T23:18:42.643Z"
   },
   {
    "duration": 7,
    "start_time": "2023-03-21T23:18:42.647Z"
   },
   {
    "duration": 249,
    "start_time": "2023-03-21T23:18:42.656Z"
   },
   {
    "duration": 14,
    "start_time": "2023-03-21T23:18:42.906Z"
   },
   {
    "duration": 10,
    "start_time": "2023-03-21T23:18:42.922Z"
   },
   {
    "duration": 43,
    "start_time": "2023-03-21T23:19:07.814Z"
   },
   {
    "duration": 1161,
    "start_time": "2023-03-21T23:19:15.853Z"
   },
   {
    "duration": 97,
    "start_time": "2023-03-21T23:19:17.016Z"
   },
   {
    "duration": 13,
    "start_time": "2023-03-21T23:19:17.115Z"
   },
   {
    "duration": 8,
    "start_time": "2023-03-21T23:19:17.129Z"
   },
   {
    "duration": 9,
    "start_time": "2023-03-21T23:19:17.140Z"
   },
   {
    "duration": 53,
    "start_time": "2023-03-21T23:19:17.150Z"
   },
   {
    "duration": 18,
    "start_time": "2023-03-21T23:19:17.204Z"
   },
   {
    "duration": 4,
    "start_time": "2023-03-21T23:19:17.223Z"
   },
   {
    "duration": 7,
    "start_time": "2023-03-21T23:19:17.228Z"
   },
   {
    "duration": 8,
    "start_time": "2023-03-21T23:19:17.237Z"
   },
   {
    "duration": 7,
    "start_time": "2023-03-21T23:19:17.246Z"
   },
   {
    "duration": 178,
    "start_time": "2023-03-21T23:19:17.254Z"
   },
   {
    "duration": 18,
    "start_time": "2023-03-21T23:19:17.434Z"
   },
   {
    "duration": 4,
    "start_time": "2023-03-21T23:19:17.456Z"
   },
   {
    "duration": 5,
    "start_time": "2023-03-21T23:19:17.461Z"
   },
   {
    "duration": 305,
    "start_time": "2023-03-21T23:19:17.468Z"
   },
   {
    "duration": 18,
    "start_time": "2023-03-21T23:19:17.774Z"
   },
   {
    "duration": 3,
    "start_time": "2023-03-21T23:19:17.794Z"
   },
   {
    "duration": 45,
    "start_time": "2023-03-21T23:26:36.252Z"
   },
   {
    "duration": 6,
    "start_time": "2023-03-21T23:26:41.012Z"
   },
   {
    "duration": 1079,
    "start_time": "2023-03-21T23:26:56.005Z"
   },
   {
    "duration": 95,
    "start_time": "2023-03-21T23:26:57.085Z"
   },
   {
    "duration": 12,
    "start_time": "2023-03-21T23:26:57.181Z"
   },
   {
    "duration": 4,
    "start_time": "2023-03-21T23:26:57.194Z"
   },
   {
    "duration": 9,
    "start_time": "2023-03-21T23:26:57.200Z"
   },
   {
    "duration": 47,
    "start_time": "2023-03-21T23:26:57.210Z"
   },
   {
    "duration": 5,
    "start_time": "2023-03-21T23:26:57.259Z"
   },
   {
    "duration": 7,
    "start_time": "2023-03-21T23:26:57.265Z"
   },
   {
    "duration": 4,
    "start_time": "2023-03-21T23:26:57.273Z"
   },
   {
    "duration": 6,
    "start_time": "2023-03-21T23:26:57.278Z"
   },
   {
    "duration": 7,
    "start_time": "2023-03-21T23:26:57.285Z"
   },
   {
    "duration": 147,
    "start_time": "2023-03-21T23:26:57.293Z"
   },
   {
    "duration": 15,
    "start_time": "2023-03-21T23:26:57.442Z"
   },
   {
    "duration": 3,
    "start_time": "2023-03-21T23:26:57.459Z"
   },
   {
    "duration": 7,
    "start_time": "2023-03-21T23:26:57.464Z"
   },
   {
    "duration": 264,
    "start_time": "2023-03-21T23:26:57.473Z"
   },
   {
    "duration": 14,
    "start_time": "2023-03-21T23:26:57.739Z"
   },
   {
    "duration": 3,
    "start_time": "2023-03-21T23:26:57.755Z"
   },
   {
    "duration": 44,
    "start_time": "2023-03-21T23:29:40.932Z"
   },
   {
    "duration": 999,
    "start_time": "2023-03-21T23:29:55.971Z"
   },
   {
    "duration": 95,
    "start_time": "2023-03-21T23:29:56.972Z"
   },
   {
    "duration": 12,
    "start_time": "2023-03-21T23:29:57.069Z"
   },
   {
    "duration": 4,
    "start_time": "2023-03-21T23:29:57.082Z"
   },
   {
    "duration": 10,
    "start_time": "2023-03-21T23:29:57.088Z"
   },
   {
    "duration": 54,
    "start_time": "2023-03-21T23:29:57.099Z"
   },
   {
    "duration": 6,
    "start_time": "2023-03-21T23:29:57.154Z"
   },
   {
    "duration": 7,
    "start_time": "2023-03-21T23:29:57.161Z"
   },
   {
    "duration": 10,
    "start_time": "2023-03-21T23:29:57.169Z"
   },
   {
    "duration": 12,
    "start_time": "2023-03-21T23:29:57.180Z"
   },
   {
    "duration": 6,
    "start_time": "2023-03-21T23:29:57.193Z"
   },
   {
    "duration": 142,
    "start_time": "2023-03-21T23:29:57.200Z"
   },
   {
    "duration": 13,
    "start_time": "2023-03-21T23:29:57.343Z"
   },
   {
    "duration": 5,
    "start_time": "2023-03-21T23:29:57.358Z"
   },
   {
    "duration": 11,
    "start_time": "2023-03-21T23:29:57.364Z"
   },
   {
    "duration": 269,
    "start_time": "2023-03-21T23:29:57.376Z"
   },
   {
    "duration": 16,
    "start_time": "2023-03-21T23:29:57.646Z"
   },
   {
    "duration": 3,
    "start_time": "2023-03-21T23:29:57.663Z"
   },
   {
    "duration": 103,
    "start_time": "2023-03-21T23:29:57.667Z"
   },
   {
    "duration": 0,
    "start_time": "2023-03-21T23:29:57.771Z"
   },
   {
    "duration": 21,
    "start_time": "2023-03-21T23:35:32.019Z"
   },
   {
    "duration": 3,
    "start_time": "2023-03-21T23:35:33.179Z"
   },
   {
    "duration": 366,
    "start_time": "2023-03-21T23:35:34.979Z"
   },
   {
    "duration": 4,
    "start_time": "2023-03-21T23:37:02.101Z"
   },
   {
    "duration": 27,
    "start_time": "2023-03-21T23:37:47.980Z"
   },
   {
    "duration": 5,
    "start_time": "2023-03-21T23:39:58.461Z"
   },
   {
    "duration": 235,
    "start_time": "2023-03-21T23:40:08.417Z"
   },
   {
    "duration": 5,
    "start_time": "2023-03-21T23:41:37.460Z"
   },
   {
    "duration": 8,
    "start_time": "2023-03-21T23:42:15.060Z"
   },
   {
    "duration": 232,
    "start_time": "2023-03-21T23:42:16.740Z"
   },
   {
    "duration": 8,
    "start_time": "2023-03-21T23:42:27.619Z"
   },
   {
    "duration": 239,
    "start_time": "2023-03-21T23:42:29.021Z"
   },
   {
    "duration": 18,
    "start_time": "2023-03-21T23:42:39.579Z"
   },
   {
    "duration": 4,
    "start_time": "2023-03-21T23:42:41.299Z"
   },
   {
    "duration": 8,
    "start_time": "2023-03-21T23:42:43.340Z"
   },
   {
    "duration": 20,
    "start_time": "2023-03-21T23:52:59.121Z"
   },
   {
    "duration": 19,
    "start_time": "2023-03-21T23:53:25.720Z"
   },
   {
    "duration": 17,
    "start_time": "2023-03-21T23:54:27.240Z"
   },
   {
    "duration": 276,
    "start_time": "2023-03-21T23:54:48.320Z"
   },
   {
    "duration": 19,
    "start_time": "2023-03-21T23:55:48.322Z"
   },
   {
    "duration": 7,
    "start_time": "2023-03-22T00:05:21.450Z"
   },
   {
    "duration": 11,
    "start_time": "2023-03-22T00:05:31.321Z"
   },
   {
    "duration": 7,
    "start_time": "2023-03-22T00:05:32.982Z"
   },
   {
    "duration": 3,
    "start_time": "2023-03-22T00:06:01.433Z"
   },
   {
    "duration": 7,
    "start_time": "2023-03-22T00:06:03.362Z"
   },
   {
    "duration": 2,
    "start_time": "2023-03-22T00:08:29.552Z"
   },
   {
    "duration": 8,
    "start_time": "2023-03-22T00:08:30.871Z"
   },
   {
    "duration": 14,
    "start_time": "2023-03-22T00:09:06.003Z"
   },
   {
    "duration": 281,
    "start_time": "2023-03-22T00:13:40.244Z"
   },
   {
    "duration": 16,
    "start_time": "2023-03-22T00:13:40.526Z"
   },
   {
    "duration": 11,
    "start_time": "2023-03-22T00:13:40.543Z"
   },
   {
    "duration": 39,
    "start_time": "2023-03-22T00:13:40.555Z"
   },
   {
    "duration": 285,
    "start_time": "2023-03-22T00:13:40.595Z"
   },
   {
    "duration": 102,
    "start_time": "2023-03-22T00:13:40.881Z"
   },
   {
    "duration": 1044,
    "start_time": "2023-03-22T00:14:17.710Z"
   },
   {
    "duration": 902,
    "start_time": "2023-03-22T00:14:27.682Z"
   },
   {
    "duration": 60,
    "start_time": "2023-03-22T00:15:07.960Z"
   },
   {
    "duration": 9,
    "start_time": "2023-03-22T00:15:35.553Z"
   },
   {
    "duration": 10,
    "start_time": "2023-03-22T00:16:51.838Z"
   },
   {
    "duration": 3,
    "start_time": "2023-03-22T00:17:17.285Z"
   },
   {
    "duration": 8,
    "start_time": "2023-03-22T00:17:32.597Z"
   },
   {
    "duration": 8,
    "start_time": "2023-03-22T00:18:35.756Z"
   },
   {
    "duration": 3,
    "start_time": "2023-03-22T00:22:25.198Z"
   },
   {
    "duration": 11,
    "start_time": "2023-03-22T00:22:37.977Z"
   },
   {
    "duration": 3,
    "start_time": "2023-03-22T00:24:23.817Z"
   },
   {
    "duration": 13,
    "start_time": "2023-03-22T00:24:24.705Z"
   },
   {
    "duration": 3,
    "start_time": "2023-03-22T00:25:10.022Z"
   },
   {
    "duration": 12,
    "start_time": "2023-03-22T00:25:10.902Z"
   },
   {
    "duration": 2,
    "start_time": "2023-03-22T00:28:53.061Z"
   },
   {
    "duration": 10,
    "start_time": "2023-03-22T00:28:53.728Z"
   },
   {
    "duration": 2,
    "start_time": "2023-03-22T00:33:41.165Z"
   },
   {
    "duration": 4,
    "start_time": "2023-03-22T00:33:58.939Z"
   },
   {
    "duration": 4,
    "start_time": "2023-03-22T00:34:18.043Z"
   },
   {
    "duration": 3,
    "start_time": "2023-03-22T00:34:27.042Z"
   },
   {
    "duration": 37,
    "start_time": "2023-03-22T00:45:56.491Z"
   },
   {
    "duration": 22,
    "start_time": "2023-03-22T00:46:52.742Z"
   },
   {
    "duration": 1045,
    "start_time": "2023-03-22T00:47:02.523Z"
   },
   {
    "duration": 49,
    "start_time": "2023-03-22T00:47:03.570Z"
   },
   {
    "duration": 11,
    "start_time": "2023-03-22T00:47:03.621Z"
   },
   {
    "duration": 3,
    "start_time": "2023-03-22T00:47:03.634Z"
   },
   {
    "duration": 10,
    "start_time": "2023-03-22T00:47:03.638Z"
   },
   {
    "duration": 50,
    "start_time": "2023-03-22T00:47:03.650Z"
   },
   {
    "duration": 23,
    "start_time": "2023-03-22T00:47:03.702Z"
   },
   {
    "duration": 3,
    "start_time": "2023-03-22T00:47:03.726Z"
   },
   {
    "duration": 15,
    "start_time": "2023-03-22T00:47:03.731Z"
   },
   {
    "duration": 7,
    "start_time": "2023-03-22T00:47:03.749Z"
   },
   {
    "duration": 6,
    "start_time": "2023-03-22T00:47:03.758Z"
   },
   {
    "duration": 141,
    "start_time": "2023-03-22T00:47:03.765Z"
   },
   {
    "duration": 19,
    "start_time": "2023-03-22T00:47:03.908Z"
   },
   {
    "duration": 3,
    "start_time": "2023-03-22T00:47:03.928Z"
   },
   {
    "duration": 23,
    "start_time": "2023-03-22T00:47:03.932Z"
   },
   {
    "duration": 265,
    "start_time": "2023-03-22T00:47:03.956Z"
   },
   {
    "duration": 16,
    "start_time": "2023-03-22T00:47:04.222Z"
   },
   {
    "duration": 3,
    "start_time": "2023-03-22T00:47:04.239Z"
   },
   {
    "duration": 17,
    "start_time": "2023-03-22T00:47:04.243Z"
   },
   {
    "duration": 272,
    "start_time": "2023-03-22T00:47:04.261Z"
   },
   {
    "duration": 2,
    "start_time": "2023-03-22T00:47:04.535Z"
   },
   {
    "duration": 106,
    "start_time": "2023-03-22T00:47:04.539Z"
   },
   {
    "duration": 0,
    "start_time": "2023-03-22T00:47:04.646Z"
   },
   {
    "duration": 29,
    "start_time": "2023-03-22T00:47:10.890Z"
   },
   {
    "duration": 6,
    "start_time": "2023-03-22T00:47:55.207Z"
   },
   {
    "duration": 6,
    "start_time": "2023-03-22T00:50:01.846Z"
   },
   {
    "duration": 79,
    "start_time": "2023-03-22T00:51:13.597Z"
   },
   {
    "duration": 72,
    "start_time": "2023-03-22T00:51:21.677Z"
   },
   {
    "duration": 3,
    "start_time": "2023-03-22T00:52:09.637Z"
   },
   {
    "duration": 4,
    "start_time": "2023-03-22T00:53:20.239Z"
   },
   {
    "duration": 5,
    "start_time": "2023-03-22T00:53:51.515Z"
   },
   {
    "duration": 49,
    "start_time": "2023-03-22T17:56:49.847Z"
   },
   {
    "duration": 1369,
    "start_time": "2023-03-22T17:56:58.671Z"
   },
   {
    "duration": 198,
    "start_time": "2023-03-22T17:57:00.042Z"
   },
   {
    "duration": 20,
    "start_time": "2023-03-22T17:57:00.242Z"
   },
   {
    "duration": 29,
    "start_time": "2023-03-22T17:57:00.264Z"
   },
   {
    "duration": 44,
    "start_time": "2023-03-22T17:57:00.295Z"
   },
   {
    "duration": 90,
    "start_time": "2023-03-22T17:57:00.340Z"
   },
   {
    "duration": 9,
    "start_time": "2023-03-22T17:57:00.433Z"
   },
   {
    "duration": 35,
    "start_time": "2023-03-22T17:57:00.445Z"
   },
   {
    "duration": 18,
    "start_time": "2023-03-22T17:57:00.482Z"
   },
   {
    "duration": 21,
    "start_time": "2023-03-22T17:57:00.503Z"
   },
   {
    "duration": 28,
    "start_time": "2023-03-22T17:57:00.526Z"
   },
   {
    "duration": 194,
    "start_time": "2023-03-22T17:57:00.555Z"
   },
   {
    "duration": 24,
    "start_time": "2023-03-22T17:57:00.751Z"
   },
   {
    "duration": 7,
    "start_time": "2023-03-22T17:57:00.778Z"
   },
   {
    "duration": 30,
    "start_time": "2023-03-22T17:57:00.788Z"
   },
   {
    "duration": 339,
    "start_time": "2023-03-22T17:57:00.821Z"
   },
   {
    "duration": 25,
    "start_time": "2023-03-22T17:57:01.162Z"
   },
   {
    "duration": 14,
    "start_time": "2023-03-22T17:57:01.189Z"
   },
   {
    "duration": 38,
    "start_time": "2023-03-22T17:57:01.205Z"
   },
   {
    "duration": 387,
    "start_time": "2023-03-22T17:57:01.245Z"
   },
   {
    "duration": 4,
    "start_time": "2023-03-22T17:57:01.635Z"
   },
   {
    "duration": 191,
    "start_time": "2023-03-22T17:57:01.641Z"
   },
   {
    "duration": 0,
    "start_time": "2023-03-22T17:57:01.834Z"
   },
   {
    "duration": 0,
    "start_time": "2023-03-22T17:57:01.835Z"
   },
   {
    "duration": 3,
    "start_time": "2023-03-22T17:57:04.082Z"
   },
   {
    "duration": 72,
    "start_time": "2023-03-22T17:57:04.088Z"
   },
   {
    "duration": 20,
    "start_time": "2023-03-22T17:57:04.163Z"
   },
   {
    "duration": 6,
    "start_time": "2023-03-22T17:57:04.185Z"
   },
   {
    "duration": 14,
    "start_time": "2023-03-22T17:57:04.194Z"
   },
   {
    "duration": 25,
    "start_time": "2023-03-22T17:57:04.210Z"
   },
   {
    "duration": 10,
    "start_time": "2023-03-22T17:57:04.263Z"
   },
   {
    "duration": 7,
    "start_time": "2023-03-22T17:57:04.278Z"
   },
   {
    "duration": 14,
    "start_time": "2023-03-22T17:57:04.287Z"
   },
   {
    "duration": 31,
    "start_time": "2023-03-22T17:57:04.304Z"
   },
   {
    "duration": 7,
    "start_time": "2023-03-22T17:57:04.338Z"
   },
   {
    "duration": 232,
    "start_time": "2023-03-22T17:57:04.347Z"
   },
   {
    "duration": 23,
    "start_time": "2023-03-22T17:57:04.582Z"
   },
   {
    "duration": 4,
    "start_time": "2023-03-22T17:57:04.613Z"
   },
   {
    "duration": 10,
    "start_time": "2023-03-22T17:57:04.619Z"
   },
   {
    "duration": 345,
    "start_time": "2023-03-22T17:57:04.631Z"
   },
   {
    "duration": 25,
    "start_time": "2023-03-22T17:57:04.980Z"
   },
   {
    "duration": 5,
    "start_time": "2023-03-22T17:57:05.007Z"
   },
   {
    "duration": 13,
    "start_time": "2023-03-22T17:57:05.014Z"
   },
   {
    "duration": 443,
    "start_time": "2023-03-22T17:57:05.029Z"
   },
   {
    "duration": 4,
    "start_time": "2023-03-22T17:57:05.474Z"
   },
   {
    "duration": 20,
    "start_time": "2023-03-22T17:57:05.480Z"
   },
   {
    "duration": 0,
    "start_time": "2023-03-22T17:57:05.502Z"
   },
   {
    "duration": 0,
    "start_time": "2023-03-22T17:57:05.504Z"
   },
   {
    "duration": 5,
    "start_time": "2023-03-22T17:57:12.483Z"
   },
   {
    "duration": 15,
    "start_time": "2023-03-22T17:57:17.171Z"
   },
   {
    "duration": 15,
    "start_time": "2023-03-22T18:00:29.731Z"
   },
   {
    "duration": 4,
    "start_time": "2023-03-22T18:00:39.031Z"
   },
   {
    "duration": 13,
    "start_time": "2023-03-22T18:00:40.685Z"
   },
   {
    "duration": 5,
    "start_time": "2023-03-22T18:00:44.633Z"
   },
   {
    "duration": 16,
    "start_time": "2023-03-22T18:00:45.393Z"
   },
   {
    "duration": 13,
    "start_time": "2023-03-22T18:01:40.141Z"
   },
   {
    "duration": 1220,
    "start_time": "2023-03-22T18:02:41.397Z"
   },
   {
    "duration": 54,
    "start_time": "2023-03-22T18:02:42.619Z"
   },
   {
    "duration": 16,
    "start_time": "2023-03-22T18:02:42.675Z"
   },
   {
    "duration": 3,
    "start_time": "2023-03-22T18:02:42.693Z"
   },
   {
    "duration": 11,
    "start_time": "2023-03-22T18:02:42.698Z"
   },
   {
    "duration": 84,
    "start_time": "2023-03-22T18:02:42.710Z"
   },
   {
    "duration": 8,
    "start_time": "2023-03-22T18:02:42.796Z"
   },
   {
    "duration": 8,
    "start_time": "2023-03-22T18:02:42.805Z"
   },
   {
    "duration": 16,
    "start_time": "2023-03-22T18:02:42.815Z"
   },
   {
    "duration": 7,
    "start_time": "2023-03-22T18:02:42.834Z"
   },
   {
    "duration": 22,
    "start_time": "2023-03-22T18:02:42.843Z"
   },
   {
    "duration": 191,
    "start_time": "2023-03-22T18:02:42.867Z"
   },
   {
    "duration": 18,
    "start_time": "2023-03-22T18:02:43.061Z"
   },
   {
    "duration": 3,
    "start_time": "2023-03-22T18:02:43.081Z"
   },
   {
    "duration": 7,
    "start_time": "2023-03-22T18:02:43.086Z"
   },
   {
    "duration": 357,
    "start_time": "2023-03-22T18:02:43.095Z"
   },
   {
    "duration": 20,
    "start_time": "2023-03-22T18:02:43.454Z"
   },
   {
    "duration": 4,
    "start_time": "2023-03-22T18:02:43.476Z"
   },
   {
    "duration": 33,
    "start_time": "2023-03-22T18:02:43.483Z"
   },
   {
    "duration": 391,
    "start_time": "2023-03-22T18:02:43.519Z"
   },
   {
    "duration": 6,
    "start_time": "2023-03-22T18:02:43.913Z"
   },
   {
    "duration": 161,
    "start_time": "2023-03-22T18:02:43.921Z"
   },
   {
    "duration": 0,
    "start_time": "2023-03-22T18:02:44.085Z"
   },
   {
    "duration": 0,
    "start_time": "2023-03-22T18:02:44.087Z"
   },
   {
    "duration": 6,
    "start_time": "2023-03-22T18:02:49.395Z"
   },
   {
    "duration": 12,
    "start_time": "2023-03-22T18:02:50.262Z"
   },
   {
    "duration": 14,
    "start_time": "2023-03-22T18:03:06.245Z"
   },
   {
    "duration": 13,
    "start_time": "2023-03-22T18:11:02.700Z"
   },
   {
    "duration": 11,
    "start_time": "2023-03-22T18:11:32.346Z"
   },
   {
    "duration": 12,
    "start_time": "2023-03-22T18:12:02.095Z"
   },
   {
    "duration": 14,
    "start_time": "2023-03-22T19:58:36.501Z"
   },
   {
    "duration": 736,
    "start_time": "2023-03-22T19:58:50.668Z"
   },
   {
    "duration": 8,
    "start_time": "2023-03-22T19:59:48.288Z"
   },
   {
    "duration": 7,
    "start_time": "2023-03-22T19:59:50.998Z"
   },
   {
    "duration": 5,
    "start_time": "2023-03-22T20:01:06.702Z"
   },
   {
    "duration": 4,
    "start_time": "2023-03-22T20:01:07.399Z"
   },
   {
    "duration": 4,
    "start_time": "2023-03-22T20:01:16.438Z"
   },
   {
    "duration": 16,
    "start_time": "2023-03-22T20:01:22.631Z"
   },
   {
    "duration": 9,
    "start_time": "2023-03-22T20:01:45.826Z"
   },
   {
    "duration": 7,
    "start_time": "2023-03-22T20:02:06.228Z"
   },
   {
    "duration": 7,
    "start_time": "2023-03-22T20:02:12.141Z"
   },
   {
    "duration": 13,
    "start_time": "2023-03-22T20:05:14.588Z"
   },
   {
    "duration": 18,
    "start_time": "2023-03-22T20:05:48.689Z"
   },
   {
    "duration": 12,
    "start_time": "2023-03-22T20:09:33.275Z"
   },
   {
    "duration": 586,
    "start_time": "2023-03-22T20:09:44.491Z"
   },
   {
    "duration": 18,
    "start_time": "2023-03-22T20:10:21.143Z"
   },
   {
    "duration": 370,
    "start_time": "2023-03-22T20:10:40.895Z"
   },
   {
    "duration": 263,
    "start_time": "2023-03-22T20:12:33.467Z"
   },
   {
    "duration": 305,
    "start_time": "2023-03-22T20:12:42.472Z"
   },
   {
    "duration": 291,
    "start_time": "2023-03-22T20:13:07.814Z"
   },
   {
    "duration": 343,
    "start_time": "2023-03-22T20:13:17.213Z"
   },
   {
    "duration": 253,
    "start_time": "2023-03-22T20:14:53.325Z"
   },
   {
    "duration": 311,
    "start_time": "2023-03-22T20:15:06.599Z"
   },
   {
    "duration": 19,
    "start_time": "2023-03-22T20:15:51.583Z"
   },
   {
    "duration": 15,
    "start_time": "2023-03-22T20:16:23.825Z"
   },
   {
    "duration": 156,
    "start_time": "2023-03-22T20:20:42.236Z"
   },
   {
    "duration": 5,
    "start_time": "2023-03-22T20:21:28.444Z"
   },
   {
    "duration": 5,
    "start_time": "2023-03-22T20:22:32.563Z"
   },
   {
    "duration": 171,
    "start_time": "2023-03-22T20:22:53.120Z"
   },
   {
    "duration": 18,
    "start_time": "2023-03-22T20:31:32.227Z"
   },
   {
    "duration": 4264,
    "start_time": "2023-03-22T20:34:57.955Z"
   },
   {
    "duration": 4212,
    "start_time": "2023-03-22T20:35:55.077Z"
   },
   {
    "duration": 18,
    "start_time": "2023-03-22T20:47:01.889Z"
   },
   {
    "duration": 9,
    "start_time": "2023-03-22T20:47:15.512Z"
   },
   {
    "duration": 12,
    "start_time": "2023-03-22T20:47:33.735Z"
   },
   {
    "duration": 7,
    "start_time": "2023-03-22T20:47:50.464Z"
   },
   {
    "duration": 13,
    "start_time": "2023-03-22T20:48:50.879Z"
   },
   {
    "duration": 6,
    "start_time": "2023-03-22T20:48:52.993Z"
   },
   {
    "duration": 58,
    "start_time": "2023-03-22T22:46:00.748Z"
   },
   {
    "duration": 1708,
    "start_time": "2023-03-22T22:46:11.183Z"
   },
   {
    "duration": 161,
    "start_time": "2023-03-22T22:46:12.894Z"
   },
   {
    "duration": 16,
    "start_time": "2023-03-22T22:46:13.061Z"
   },
   {
    "duration": 3,
    "start_time": "2023-03-22T22:46:13.080Z"
   },
   {
    "duration": 23,
    "start_time": "2023-03-22T22:46:13.085Z"
   },
   {
    "duration": 88,
    "start_time": "2023-03-22T22:46:13.110Z"
   },
   {
    "duration": 8,
    "start_time": "2023-03-22T22:46:13.200Z"
   },
   {
    "duration": 5,
    "start_time": "2023-03-22T22:46:13.210Z"
   },
   {
    "duration": 50,
    "start_time": "2023-03-22T22:46:13.217Z"
   },
   {
    "duration": 14,
    "start_time": "2023-03-22T22:46:13.270Z"
   },
   {
    "duration": 21,
    "start_time": "2023-03-22T22:46:13.285Z"
   },
   {
    "duration": 196,
    "start_time": "2023-03-22T22:46:13.310Z"
   },
   {
    "duration": 26,
    "start_time": "2023-03-22T22:46:13.508Z"
   },
   {
    "duration": 18,
    "start_time": "2023-03-22T22:46:13.536Z"
   },
   {
    "duration": 17,
    "start_time": "2023-03-22T22:46:13.567Z"
   },
   {
    "duration": 419,
    "start_time": "2023-03-22T22:46:13.586Z"
   },
   {
    "duration": 29,
    "start_time": "2023-03-22T22:46:14.007Z"
   },
   {
    "duration": 31,
    "start_time": "2023-03-22T22:46:14.038Z"
   },
   {
    "duration": 11,
    "start_time": "2023-03-22T22:46:14.071Z"
   },
   {
    "duration": 434,
    "start_time": "2023-03-22T22:46:14.084Z"
   },
   {
    "duration": 23,
    "start_time": "2023-03-22T22:46:14.520Z"
   },
   {
    "duration": 191,
    "start_time": "2023-03-22T22:46:14.560Z"
   },
   {
    "duration": 0,
    "start_time": "2023-03-22T22:46:14.754Z"
   },
   {
    "duration": 0,
    "start_time": "2023-03-22T22:46:14.755Z"
   },
   {
    "duration": 0,
    "start_time": "2023-03-22T22:46:14.756Z"
   },
   {
    "duration": 0,
    "start_time": "2023-03-22T22:46:14.757Z"
   },
   {
    "duration": 0,
    "start_time": "2023-03-22T22:46:14.758Z"
   },
   {
    "duration": 0,
    "start_time": "2023-03-22T22:46:14.759Z"
   },
   {
    "duration": 0,
    "start_time": "2023-03-22T22:46:14.761Z"
   },
   {
    "duration": 0,
    "start_time": "2023-03-22T22:46:14.762Z"
   },
   {
    "duration": 0,
    "start_time": "2023-03-22T22:46:14.763Z"
   },
   {
    "duration": 5,
    "start_time": "2023-03-22T22:48:34.829Z"
   },
   {
    "duration": 80,
    "start_time": "2023-03-22T22:48:34.836Z"
   },
   {
    "duration": 22,
    "start_time": "2023-03-22T22:48:34.917Z"
   },
   {
    "duration": 26,
    "start_time": "2023-03-22T22:48:34.941Z"
   },
   {
    "duration": 27,
    "start_time": "2023-03-22T22:48:34.970Z"
   },
   {
    "duration": 33,
    "start_time": "2023-03-22T22:48:35.000Z"
   },
   {
    "duration": 27,
    "start_time": "2023-03-22T22:48:35.052Z"
   },
   {
    "duration": 25,
    "start_time": "2023-03-22T22:48:35.081Z"
   },
   {
    "duration": 42,
    "start_time": "2023-03-22T22:48:35.109Z"
   },
   {
    "duration": 36,
    "start_time": "2023-03-22T22:48:35.157Z"
   },
   {
    "duration": 23,
    "start_time": "2023-03-22T22:48:35.195Z"
   },
   {
    "duration": 336,
    "start_time": "2023-03-22T22:48:35.220Z"
   },
   {
    "duration": 20,
    "start_time": "2023-03-22T22:48:35.558Z"
   },
   {
    "duration": 10,
    "start_time": "2023-03-22T22:48:35.582Z"
   },
   {
    "duration": 28,
    "start_time": "2023-03-22T22:48:35.594Z"
   },
   {
    "duration": 358,
    "start_time": "2023-03-22T22:48:35.624Z"
   },
   {
    "duration": 25,
    "start_time": "2023-03-22T22:48:35.985Z"
   },
   {
    "duration": 143,
    "start_time": "2023-03-22T22:48:36.011Z"
   },
   {
    "duration": 52,
    "start_time": "2023-03-22T22:48:36.157Z"
   },
   {
    "duration": 540,
    "start_time": "2023-03-22T22:48:36.211Z"
   },
   {
    "duration": 14,
    "start_time": "2023-03-22T22:48:36.758Z"
   },
   {
    "duration": 33,
    "start_time": "2023-03-22T22:48:36.779Z"
   },
   {
    "duration": 0,
    "start_time": "2023-03-22T22:48:36.814Z"
   },
   {
    "duration": 0,
    "start_time": "2023-03-22T22:48:36.815Z"
   },
   {
    "duration": 0,
    "start_time": "2023-03-22T22:48:36.817Z"
   },
   {
    "duration": 1,
    "start_time": "2023-03-22T22:48:36.818Z"
   },
   {
    "duration": 0,
    "start_time": "2023-03-22T22:48:36.820Z"
   },
   {
    "duration": 0,
    "start_time": "2023-03-22T22:48:36.821Z"
   },
   {
    "duration": 0,
    "start_time": "2023-03-22T22:48:36.822Z"
   },
   {
    "duration": 0,
    "start_time": "2023-03-22T22:48:36.823Z"
   },
   {
    "duration": 0,
    "start_time": "2023-03-22T22:48:36.823Z"
   },
   {
    "duration": 22,
    "start_time": "2023-03-22T22:48:38.459Z"
   },
   {
    "duration": 14,
    "start_time": "2023-03-22T22:49:23.453Z"
   },
   {
    "duration": 35,
    "start_time": "2023-03-22T22:49:41.960Z"
   },
   {
    "duration": 6,
    "start_time": "2023-03-22T22:49:52.425Z"
   },
   {
    "duration": 113,
    "start_time": "2023-03-22T22:49:52.434Z"
   },
   {
    "duration": 24,
    "start_time": "2023-03-22T22:49:52.552Z"
   },
   {
    "duration": 5,
    "start_time": "2023-03-22T22:49:52.579Z"
   },
   {
    "duration": 28,
    "start_time": "2023-03-22T22:49:52.588Z"
   },
   {
    "duration": 87,
    "start_time": "2023-03-22T22:49:52.619Z"
   },
   {
    "duration": 14,
    "start_time": "2023-03-22T22:49:52.709Z"
   },
   {
    "duration": 48,
    "start_time": "2023-03-22T22:49:52.733Z"
   },
   {
    "duration": 12,
    "start_time": "2023-03-22T22:49:52.784Z"
   },
   {
    "duration": 19,
    "start_time": "2023-03-22T22:49:52.798Z"
   },
   {
    "duration": 140,
    "start_time": "2023-03-22T22:49:52.819Z"
   },
   {
    "duration": 197,
    "start_time": "2023-03-22T22:49:52.961Z"
   },
   {
    "duration": 18,
    "start_time": "2023-03-22T22:49:53.159Z"
   },
   {
    "duration": 39,
    "start_time": "2023-03-22T22:49:53.179Z"
   },
   {
    "duration": 37,
    "start_time": "2023-03-22T22:49:53.220Z"
   },
   {
    "duration": 316,
    "start_time": "2023-03-22T22:49:53.260Z"
   },
   {
    "duration": 26,
    "start_time": "2023-03-22T22:49:53.578Z"
   },
   {
    "duration": 8,
    "start_time": "2023-03-22T22:49:53.606Z"
   },
   {
    "duration": 98,
    "start_time": "2023-03-22T22:49:53.616Z"
   },
   {
    "duration": 511,
    "start_time": "2023-03-22T22:49:53.716Z"
   },
   {
    "duration": 15,
    "start_time": "2023-03-22T22:49:54.231Z"
   },
   {
    "duration": 30,
    "start_time": "2023-03-22T22:49:54.253Z"
   },
   {
    "duration": 0,
    "start_time": "2023-03-22T22:49:54.286Z"
   },
   {
    "duration": 0,
    "start_time": "2023-03-22T22:49:54.287Z"
   },
   {
    "duration": 0,
    "start_time": "2023-03-22T22:49:54.288Z"
   },
   {
    "duration": 0,
    "start_time": "2023-03-22T22:49:54.289Z"
   },
   {
    "duration": 0,
    "start_time": "2023-03-22T22:49:54.290Z"
   },
   {
    "duration": 0,
    "start_time": "2023-03-22T22:49:54.291Z"
   },
   {
    "duration": 0,
    "start_time": "2023-03-22T22:49:54.293Z"
   },
   {
    "duration": 1,
    "start_time": "2023-03-22T22:49:54.294Z"
   },
   {
    "duration": 0,
    "start_time": "2023-03-22T22:49:54.296Z"
   },
   {
    "duration": 26,
    "start_time": "2023-03-22T22:49:57.083Z"
   },
   {
    "duration": 15,
    "start_time": "2023-03-22T22:50:04.800Z"
   },
   {
    "duration": 6,
    "start_time": "2023-03-22T22:50:08.900Z"
   },
   {
    "duration": 30,
    "start_time": "2023-03-22T22:50:11.752Z"
   },
   {
    "duration": 32,
    "start_time": "2023-03-22T22:50:32.836Z"
   },
   {
    "duration": 3,
    "start_time": "2023-03-22T22:50:50.859Z"
   },
   {
    "duration": 84,
    "start_time": "2023-03-22T22:50:50.864Z"
   },
   {
    "duration": 15,
    "start_time": "2023-03-22T22:50:50.951Z"
   },
   {
    "duration": 50,
    "start_time": "2023-03-22T22:50:50.968Z"
   },
   {
    "duration": 73,
    "start_time": "2023-03-22T22:50:51.020Z"
   },
   {
    "duration": 101,
    "start_time": "2023-03-22T22:50:51.096Z"
   },
   {
    "duration": 8,
    "start_time": "2023-03-22T22:50:51.200Z"
   },
   {
    "duration": 56,
    "start_time": "2023-03-22T22:50:51.210Z"
   },
   {
    "duration": 27,
    "start_time": "2023-03-22T22:50:51.269Z"
   },
   {
    "duration": 22,
    "start_time": "2023-03-22T22:50:51.298Z"
   },
   {
    "duration": 42,
    "start_time": "2023-03-22T22:50:51.332Z"
   },
   {
    "duration": 208,
    "start_time": "2023-03-22T22:50:51.376Z"
   },
   {
    "duration": 15,
    "start_time": "2023-03-22T22:50:51.587Z"
   },
   {
    "duration": 16,
    "start_time": "2023-03-22T22:50:51.604Z"
   },
   {
    "duration": 54,
    "start_time": "2023-03-22T22:50:51.625Z"
   },
   {
    "duration": 339,
    "start_time": "2023-03-22T22:50:51.681Z"
   },
   {
    "duration": 26,
    "start_time": "2023-03-22T22:50:52.022Z"
   },
   {
    "duration": 76,
    "start_time": "2023-03-22T22:50:52.049Z"
   },
   {
    "duration": 48,
    "start_time": "2023-03-22T22:50:52.132Z"
   },
   {
    "duration": 443,
    "start_time": "2023-03-22T22:50:52.183Z"
   },
   {
    "duration": 7,
    "start_time": "2023-03-22T22:50:52.631Z"
   },
   {
    "duration": 59,
    "start_time": "2023-03-22T22:50:52.640Z"
   },
   {
    "duration": 0,
    "start_time": "2023-03-22T22:50:52.702Z"
   },
   {
    "duration": 0,
    "start_time": "2023-03-22T22:50:52.704Z"
   },
   {
    "duration": 0,
    "start_time": "2023-03-22T22:50:52.705Z"
   },
   {
    "duration": 0,
    "start_time": "2023-03-22T22:50:52.707Z"
   },
   {
    "duration": 0,
    "start_time": "2023-03-22T22:50:52.709Z"
   },
   {
    "duration": 0,
    "start_time": "2023-03-22T22:50:52.710Z"
   },
   {
    "duration": 0,
    "start_time": "2023-03-22T22:50:52.712Z"
   },
   {
    "duration": 0,
    "start_time": "2023-03-22T22:50:52.713Z"
   },
   {
    "duration": 31,
    "start_time": "2023-03-22T22:50:52.883Z"
   },
   {
    "duration": 18,
    "start_time": "2023-03-22T22:51:13.853Z"
   },
   {
    "duration": 25,
    "start_time": "2023-03-22T22:51:37.377Z"
   },
   {
    "duration": 19,
    "start_time": "2023-03-22T22:52:18.355Z"
   },
   {
    "duration": 17,
    "start_time": "2023-03-22T22:57:43.716Z"
   },
   {
    "duration": 15,
    "start_time": "2023-03-22T23:01:25.164Z"
   },
   {
    "duration": 12,
    "start_time": "2023-03-22T23:06:23.944Z"
   },
   {
    "duration": 7,
    "start_time": "2023-03-22T23:06:43.180Z"
   },
   {
    "duration": 21,
    "start_time": "2023-03-22T23:09:03.106Z"
   },
   {
    "duration": 9,
    "start_time": "2023-03-22T23:10:07.155Z"
   },
   {
    "duration": 21,
    "start_time": "2023-03-22T23:10:26.061Z"
   },
   {
    "duration": 23,
    "start_time": "2023-03-22T23:10:41.840Z"
   },
   {
    "duration": 12,
    "start_time": "2023-03-22T23:13:03.353Z"
   },
   {
    "duration": 9,
    "start_time": "2023-03-22T23:13:19.285Z"
   },
   {
    "duration": 4,
    "start_time": "2023-03-22T23:13:37.714Z"
   },
   {
    "duration": 83,
    "start_time": "2023-03-22T23:13:56.386Z"
   },
   {
    "duration": 5,
    "start_time": "2023-03-22T23:14:16.815Z"
   },
   {
    "duration": 30,
    "start_time": "2023-03-22T23:16:30.123Z"
   },
   {
    "duration": 26,
    "start_time": "2023-03-22T23:16:45.619Z"
   },
   {
    "duration": 6,
    "start_time": "2023-03-22T23:16:46.249Z"
   },
   {
    "duration": 8,
    "start_time": "2023-03-22T23:16:46.969Z"
   },
   {
    "duration": 35,
    "start_time": "2023-03-22T23:22:34.019Z"
   },
   {
    "duration": 6,
    "start_time": "2023-03-22T23:22:42.352Z"
   },
   {
    "duration": 18,
    "start_time": "2023-03-22T23:23:36.157Z"
   },
   {
    "duration": 1639,
    "start_time": "2023-03-22T23:25:34.914Z"
   },
   {
    "duration": 3,
    "start_time": "2023-03-22T23:29:46.565Z"
   },
   {
    "duration": 9,
    "start_time": "2023-03-22T23:29:58.647Z"
   },
   {
    "duration": 15,
    "start_time": "2023-03-22T23:30:37.252Z"
   },
   {
    "duration": 5,
    "start_time": "2023-03-22T23:33:38.503Z"
   },
   {
    "duration": 3,
    "start_time": "2023-03-22T23:34:10.667Z"
   },
   {
    "duration": 8,
    "start_time": "2023-03-22T23:34:27.863Z"
   },
   {
    "duration": 6,
    "start_time": "2023-03-22T23:34:49.548Z"
   },
   {
    "duration": 14,
    "start_time": "2023-03-22T23:34:55.449Z"
   },
   {
    "duration": 9,
    "start_time": "2023-03-22T23:34:56.352Z"
   },
   {
    "duration": 4,
    "start_time": "2023-03-22T23:34:58.248Z"
   },
   {
    "duration": 3,
    "start_time": "2023-03-22T23:35:04.778Z"
   },
   {
    "duration": 19,
    "start_time": "2023-03-22T23:35:48.831Z"
   },
   {
    "duration": 4,
    "start_time": "2023-03-22T23:37:14.015Z"
   },
   {
    "duration": 4,
    "start_time": "2023-03-22T23:38:10.261Z"
   },
   {
    "duration": 4,
    "start_time": "2023-03-22T23:38:17.549Z"
   },
   {
    "duration": 4,
    "start_time": "2023-03-22T23:39:21.678Z"
   },
   {
    "duration": 6,
    "start_time": "2023-03-22T23:39:34.408Z"
   },
   {
    "duration": 3,
    "start_time": "2023-03-22T23:39:49.047Z"
   },
   {
    "duration": 23,
    "start_time": "2023-03-22T23:39:51.116Z"
   },
   {
    "duration": 3,
    "start_time": "2023-03-22T23:40:13.496Z"
   },
   {
    "duration": 7,
    "start_time": "2023-03-22T23:40:14.260Z"
   },
   {
    "duration": 12,
    "start_time": "2023-03-22T23:42:44.797Z"
   },
   {
    "duration": 8,
    "start_time": "2023-03-22T23:43:07.599Z"
   },
   {
    "duration": 204,
    "start_time": "2023-03-22T23:43:18.951Z"
   },
   {
    "duration": 12,
    "start_time": "2023-03-23T00:01:38.357Z"
   },
   {
    "duration": 2,
    "start_time": "2023-03-23T00:27:08.389Z"
   },
   {
    "duration": 77,
    "start_time": "2023-03-23T00:27:08.394Z"
   },
   {
    "duration": 12,
    "start_time": "2023-03-23T00:27:08.472Z"
   },
   {
    "duration": 3,
    "start_time": "2023-03-23T00:27:08.485Z"
   },
   {
    "duration": 10,
    "start_time": "2023-03-23T00:27:08.490Z"
   },
   {
    "duration": 46,
    "start_time": "2023-03-23T00:27:08.502Z"
   },
   {
    "duration": 13,
    "start_time": "2023-03-23T00:27:08.550Z"
   },
   {
    "duration": 4,
    "start_time": "2023-03-23T00:27:08.565Z"
   },
   {
    "duration": 4,
    "start_time": "2023-03-23T00:27:08.571Z"
   },
   {
    "duration": 8,
    "start_time": "2023-03-23T00:27:08.577Z"
   },
   {
    "duration": 7,
    "start_time": "2023-03-23T00:27:08.586Z"
   },
   {
    "duration": 154,
    "start_time": "2023-03-23T00:27:08.594Z"
   },
   {
    "duration": 14,
    "start_time": "2023-03-23T00:27:08.756Z"
   },
   {
    "duration": 3,
    "start_time": "2023-03-23T00:27:08.773Z"
   },
   {
    "duration": 7,
    "start_time": "2023-03-23T00:27:08.777Z"
   },
   {
    "duration": 286,
    "start_time": "2023-03-23T00:27:08.785Z"
   },
   {
    "duration": 15,
    "start_time": "2023-03-23T00:27:09.073Z"
   },
   {
    "duration": 3,
    "start_time": "2023-03-23T00:27:09.089Z"
   },
   {
    "duration": 10,
    "start_time": "2023-03-23T00:27:09.093Z"
   },
   {
    "duration": 331,
    "start_time": "2023-03-23T00:27:09.104Z"
   },
   {
    "duration": 7,
    "start_time": "2023-03-23T00:27:09.452Z"
   },
   {
    "duration": 12,
    "start_time": "2023-03-23T00:27:09.460Z"
   },
   {
    "duration": 0,
    "start_time": "2023-03-23T00:27:09.474Z"
   },
   {
    "duration": 0,
    "start_time": "2023-03-23T00:27:09.475Z"
   },
   {
    "duration": 0,
    "start_time": "2023-03-23T00:27:09.476Z"
   },
   {
    "duration": 0,
    "start_time": "2023-03-23T00:27:09.477Z"
   },
   {
    "duration": 0,
    "start_time": "2023-03-23T00:27:09.478Z"
   },
   {
    "duration": 0,
    "start_time": "2023-03-23T00:27:09.479Z"
   },
   {
    "duration": 0,
    "start_time": "2023-03-23T00:27:09.480Z"
   },
   {
    "duration": 0,
    "start_time": "2023-03-23T00:27:09.481Z"
   },
   {
    "duration": 0,
    "start_time": "2023-03-23T00:27:09.483Z"
   },
   {
    "duration": 0,
    "start_time": "2023-03-23T00:27:09.484Z"
   },
   {
    "duration": 0,
    "start_time": "2023-03-23T00:27:09.485Z"
   },
   {
    "duration": 0,
    "start_time": "2023-03-23T00:27:09.486Z"
   },
   {
    "duration": 0,
    "start_time": "2023-03-23T00:27:09.487Z"
   },
   {
    "duration": 0,
    "start_time": "2023-03-23T00:27:09.488Z"
   },
   {
    "duration": 0,
    "start_time": "2023-03-23T00:27:09.488Z"
   },
   {
    "duration": 0,
    "start_time": "2023-03-23T00:27:09.489Z"
   },
   {
    "duration": 0,
    "start_time": "2023-03-23T00:27:09.490Z"
   },
   {
    "duration": 14,
    "start_time": "2023-03-23T00:28:27.758Z"
   },
   {
    "duration": 13,
    "start_time": "2023-03-23T00:28:49.170Z"
   },
   {
    "duration": 11,
    "start_time": "2023-03-23T00:29:04.499Z"
   },
   {
    "duration": 12,
    "start_time": "2023-03-23T00:30:25.048Z"
   },
   {
    "duration": 12,
    "start_time": "2023-03-23T00:30:37.153Z"
   },
   {
    "duration": 10,
    "start_time": "2023-03-23T00:31:10.049Z"
   },
   {
    "duration": 1141,
    "start_time": "2023-03-23T00:31:42.268Z"
   },
   {
    "duration": 73,
    "start_time": "2023-03-23T00:31:43.411Z"
   },
   {
    "duration": 13,
    "start_time": "2023-03-23T00:31:43.485Z"
   },
   {
    "duration": 8,
    "start_time": "2023-03-23T00:31:43.500Z"
   },
   {
    "duration": 17,
    "start_time": "2023-03-23T00:31:43.510Z"
   },
   {
    "duration": 64,
    "start_time": "2023-03-23T00:31:43.539Z"
   },
   {
    "duration": 6,
    "start_time": "2023-03-23T00:31:43.604Z"
   },
   {
    "duration": 9,
    "start_time": "2023-03-23T00:31:43.611Z"
   },
   {
    "duration": 38,
    "start_time": "2023-03-23T00:31:43.621Z"
   },
   {
    "duration": 13,
    "start_time": "2023-03-23T00:31:43.661Z"
   },
   {
    "duration": 20,
    "start_time": "2023-03-23T00:31:43.675Z"
   },
   {
    "duration": 161,
    "start_time": "2023-03-23T00:31:43.697Z"
   },
   {
    "duration": 15,
    "start_time": "2023-03-23T00:31:43.859Z"
   },
   {
    "duration": 3,
    "start_time": "2023-03-23T00:31:43.876Z"
   },
   {
    "duration": 10,
    "start_time": "2023-03-23T00:31:43.881Z"
   },
   {
    "duration": 293,
    "start_time": "2023-03-23T00:31:43.892Z"
   },
   {
    "duration": 17,
    "start_time": "2023-03-23T00:31:44.186Z"
   },
   {
    "duration": 3,
    "start_time": "2023-03-23T00:31:44.204Z"
   },
   {
    "duration": 12,
    "start_time": "2023-03-23T00:31:44.208Z"
   },
   {
    "duration": 316,
    "start_time": "2023-03-23T00:31:44.221Z"
   },
   {
    "duration": 12,
    "start_time": "2023-03-23T00:31:44.538Z"
   },
   {
    "duration": 124,
    "start_time": "2023-03-23T00:31:44.553Z"
   },
   {
    "duration": 0,
    "start_time": "2023-03-23T00:31:44.679Z"
   },
   {
    "duration": 0,
    "start_time": "2023-03-23T00:31:44.680Z"
   },
   {
    "duration": 0,
    "start_time": "2023-03-23T00:31:44.681Z"
   },
   {
    "duration": 0,
    "start_time": "2023-03-23T00:31:44.682Z"
   },
   {
    "duration": 0,
    "start_time": "2023-03-23T00:31:44.683Z"
   },
   {
    "duration": 0,
    "start_time": "2023-03-23T00:31:44.684Z"
   },
   {
    "duration": 0,
    "start_time": "2023-03-23T00:31:44.685Z"
   },
   {
    "duration": 0,
    "start_time": "2023-03-23T00:31:44.686Z"
   },
   {
    "duration": 0,
    "start_time": "2023-03-23T00:31:44.687Z"
   },
   {
    "duration": 0,
    "start_time": "2023-03-23T00:31:44.688Z"
   },
   {
    "duration": 0,
    "start_time": "2023-03-23T00:31:44.689Z"
   },
   {
    "duration": 0,
    "start_time": "2023-03-23T00:31:44.690Z"
   },
   {
    "duration": 0,
    "start_time": "2023-03-23T00:31:44.691Z"
   },
   {
    "duration": 0,
    "start_time": "2023-03-23T00:31:44.691Z"
   },
   {
    "duration": 0,
    "start_time": "2023-03-23T00:31:44.693Z"
   },
   {
    "duration": 1,
    "start_time": "2023-03-23T00:31:44.727Z"
   },
   {
    "duration": 0,
    "start_time": "2023-03-23T00:31:44.730Z"
   },
   {
    "duration": 0,
    "start_time": "2023-03-23T00:31:44.732Z"
   },
   {
    "duration": 0,
    "start_time": "2023-03-23T00:31:44.733Z"
   },
   {
    "duration": 15,
    "start_time": "2023-03-23T00:31:45.949Z"
   },
   {
    "duration": 8,
    "start_time": "2023-03-23T00:31:47.212Z"
   },
   {
    "duration": 8,
    "start_time": "2023-03-23T00:32:02.862Z"
   },
   {
    "duration": 4,
    "start_time": "2023-03-23T00:32:12.053Z"
   },
   {
    "duration": 3,
    "start_time": "2023-03-23T00:32:45.079Z"
   },
   {
    "duration": 5,
    "start_time": "2023-03-23T00:33:17.492Z"
   },
   {
    "duration": 4,
    "start_time": "2023-03-23T00:36:06.211Z"
   },
   {
    "duration": 16,
    "start_time": "2023-03-23T00:36:11.678Z"
   },
   {
    "duration": 9,
    "start_time": "2023-03-23T00:36:18.892Z"
   },
   {
    "duration": 3,
    "start_time": "2023-03-23T00:36:20.752Z"
   },
   {
    "duration": 2,
    "start_time": "2023-03-23T00:36:24.594Z"
   },
   {
    "duration": 14,
    "start_time": "2023-03-23T00:36:51.094Z"
   },
   {
    "duration": 1107,
    "start_time": "2023-03-23T00:37:03.937Z"
   },
   {
    "duration": 50,
    "start_time": "2023-03-23T00:37:05.053Z"
   },
   {
    "duration": 12,
    "start_time": "2023-03-23T00:37:05.104Z"
   },
   {
    "duration": 3,
    "start_time": "2023-03-23T00:37:05.118Z"
   },
   {
    "duration": 31,
    "start_time": "2023-03-23T00:37:05.134Z"
   },
   {
    "duration": 51,
    "start_time": "2023-03-23T00:37:05.166Z"
   },
   {
    "duration": 21,
    "start_time": "2023-03-23T00:37:05.219Z"
   },
   {
    "duration": 16,
    "start_time": "2023-03-23T00:37:05.242Z"
   },
   {
    "duration": 8,
    "start_time": "2023-03-23T00:37:05.260Z"
   },
   {
    "duration": 7,
    "start_time": "2023-03-23T00:37:05.270Z"
   },
   {
    "duration": 6,
    "start_time": "2023-03-23T00:37:05.278Z"
   },
   {
    "duration": 179,
    "start_time": "2023-03-23T00:37:05.285Z"
   },
   {
    "duration": 15,
    "start_time": "2023-03-23T00:37:05.465Z"
   },
   {
    "duration": 3,
    "start_time": "2023-03-23T00:37:05.482Z"
   },
   {
    "duration": 8,
    "start_time": "2023-03-23T00:37:05.486Z"
   },
   {
    "duration": 301,
    "start_time": "2023-03-23T00:37:05.496Z"
   },
   {
    "duration": 16,
    "start_time": "2023-03-23T00:37:05.798Z"
   },
   {
    "duration": 3,
    "start_time": "2023-03-23T00:37:05.815Z"
   },
   {
    "duration": 34,
    "start_time": "2023-03-23T00:37:05.820Z"
   },
   {
    "duration": 397,
    "start_time": "2023-03-23T00:37:05.855Z"
   },
   {
    "duration": 6,
    "start_time": "2023-03-23T00:37:06.254Z"
   },
   {
    "duration": 115,
    "start_time": "2023-03-23T00:37:06.262Z"
   },
   {
    "duration": 0,
    "start_time": "2023-03-23T00:37:06.379Z"
   },
   {
    "duration": 0,
    "start_time": "2023-03-23T00:37:06.380Z"
   },
   {
    "duration": 0,
    "start_time": "2023-03-23T00:37:06.381Z"
   },
   {
    "duration": 0,
    "start_time": "2023-03-23T00:37:06.382Z"
   },
   {
    "duration": 0,
    "start_time": "2023-03-23T00:37:06.383Z"
   },
   {
    "duration": 0,
    "start_time": "2023-03-23T00:37:06.384Z"
   },
   {
    "duration": 0,
    "start_time": "2023-03-23T00:37:06.385Z"
   },
   {
    "duration": 0,
    "start_time": "2023-03-23T00:37:06.386Z"
   },
   {
    "duration": 0,
    "start_time": "2023-03-23T00:37:06.387Z"
   },
   {
    "duration": 0,
    "start_time": "2023-03-23T00:37:06.387Z"
   },
   {
    "duration": 0,
    "start_time": "2023-03-23T00:37:06.389Z"
   },
   {
    "duration": 0,
    "start_time": "2023-03-23T00:37:06.389Z"
   },
   {
    "duration": 0,
    "start_time": "2023-03-23T00:37:06.390Z"
   },
   {
    "duration": 0,
    "start_time": "2023-03-23T00:37:06.391Z"
   },
   {
    "duration": 0,
    "start_time": "2023-03-23T00:37:06.392Z"
   },
   {
    "duration": 0,
    "start_time": "2023-03-23T00:37:06.393Z"
   },
   {
    "duration": 0,
    "start_time": "2023-03-23T00:37:06.394Z"
   },
   {
    "duration": 0,
    "start_time": "2023-03-23T00:37:06.394Z"
   },
   {
    "duration": 0,
    "start_time": "2023-03-23T00:37:06.396Z"
   },
   {
    "duration": 0,
    "start_time": "2023-03-23T00:37:06.396Z"
   },
   {
    "duration": 0,
    "start_time": "2023-03-23T00:37:06.397Z"
   },
   {
    "duration": 0,
    "start_time": "2023-03-23T00:37:06.398Z"
   },
   {
    "duration": 0,
    "start_time": "2023-03-23T00:37:06.398Z"
   },
   {
    "duration": 18,
    "start_time": "2023-03-23T00:37:10.807Z"
   },
   {
    "duration": 9,
    "start_time": "2023-03-23T00:37:14.768Z"
   },
   {
    "duration": 7,
    "start_time": "2023-03-23T00:37:31.203Z"
   },
   {
    "duration": 4,
    "start_time": "2023-03-23T00:37:44.607Z"
   },
   {
    "duration": 4,
    "start_time": "2023-03-23T00:37:45.690Z"
   },
   {
    "duration": 30,
    "start_time": "2023-03-23T00:37:48.622Z"
   },
   {
    "duration": 289,
    "start_time": "2023-03-23T00:37:53.797Z"
   },
   {
    "duration": 134,
    "start_time": "2023-03-23T00:38:38.969Z"
   },
   {
    "duration": 150,
    "start_time": "2023-03-23T00:39:01.293Z"
   },
   {
    "duration": 17,
    "start_time": "2023-03-23T00:39:16.283Z"
   },
   {
    "duration": 12,
    "start_time": "2023-03-23T00:39:18.063Z"
   },
   {
    "duration": 10,
    "start_time": "2023-03-23T00:40:19.260Z"
   },
   {
    "duration": 3,
    "start_time": "2023-03-23T00:40:24.170Z"
   },
   {
    "duration": 4,
    "start_time": "2023-03-23T00:40:39.582Z"
   },
   {
    "duration": 19,
    "start_time": "2023-03-23T00:40:50.286Z"
   },
   {
    "duration": 6,
    "start_time": "2023-03-23T00:41:13.449Z"
   },
   {
    "duration": 14,
    "start_time": "2023-03-23T00:41:15.068Z"
   },
   {
    "duration": 22,
    "start_time": "2023-03-23T00:41:28.449Z"
   },
   {
    "duration": 7,
    "start_time": "2023-03-23T00:41:41.621Z"
   },
   {
    "duration": 101,
    "start_time": "2023-03-23T00:41:41.630Z"
   },
   {
    "duration": 19,
    "start_time": "2023-03-23T00:41:41.732Z"
   },
   {
    "duration": 17,
    "start_time": "2023-03-23T00:41:41.753Z"
   },
   {
    "duration": 10,
    "start_time": "2023-03-23T00:41:41.771Z"
   },
   {
    "duration": 102,
    "start_time": "2023-03-23T00:41:41.782Z"
   },
   {
    "duration": 7,
    "start_time": "2023-03-23T00:41:41.886Z"
   },
   {
    "duration": 17,
    "start_time": "2023-03-23T00:41:41.895Z"
   },
   {
    "duration": 58,
    "start_time": "2023-03-23T00:41:41.914Z"
   },
   {
    "duration": 15,
    "start_time": "2023-03-23T00:41:41.973Z"
   },
   {
    "duration": 5,
    "start_time": "2023-03-23T00:41:41.989Z"
   },
   {
    "duration": 183,
    "start_time": "2023-03-23T00:41:41.995Z"
   },
   {
    "duration": 13,
    "start_time": "2023-03-23T00:41:42.180Z"
   },
   {
    "duration": 11,
    "start_time": "2023-03-23T00:41:42.194Z"
   },
   {
    "duration": 57,
    "start_time": "2023-03-23T00:41:42.206Z"
   },
   {
    "duration": 282,
    "start_time": "2023-03-23T00:41:42.265Z"
   },
   {
    "duration": 17,
    "start_time": "2023-03-23T00:41:42.563Z"
   },
   {
    "duration": 4,
    "start_time": "2023-03-23T00:41:42.582Z"
   },
   {
    "duration": 10,
    "start_time": "2023-03-23T00:41:42.587Z"
   },
   {
    "duration": 318,
    "start_time": "2023-03-23T00:41:42.599Z"
   },
   {
    "duration": 25,
    "start_time": "2023-03-23T00:41:42.918Z"
   },
   {
    "duration": 34,
    "start_time": "2023-03-23T00:41:42.945Z"
   },
   {
    "duration": 0,
    "start_time": "2023-03-23T00:41:42.982Z"
   },
   {
    "duration": 0,
    "start_time": "2023-03-23T00:41:42.983Z"
   },
   {
    "duration": 0,
    "start_time": "2023-03-23T00:41:42.984Z"
   },
   {
    "duration": 0,
    "start_time": "2023-03-23T00:41:42.986Z"
   },
   {
    "duration": 0,
    "start_time": "2023-03-23T00:41:42.987Z"
   },
   {
    "duration": 0,
    "start_time": "2023-03-23T00:41:42.988Z"
   },
   {
    "duration": 0,
    "start_time": "2023-03-23T00:41:42.989Z"
   },
   {
    "duration": 0,
    "start_time": "2023-03-23T00:41:42.990Z"
   },
   {
    "duration": 0,
    "start_time": "2023-03-23T00:41:42.991Z"
   },
   {
    "duration": 0,
    "start_time": "2023-03-23T00:41:42.992Z"
   },
   {
    "duration": 0,
    "start_time": "2023-03-23T00:41:42.993Z"
   },
   {
    "duration": 0,
    "start_time": "2023-03-23T00:41:42.994Z"
   },
   {
    "duration": 0,
    "start_time": "2023-03-23T00:41:42.995Z"
   },
   {
    "duration": 0,
    "start_time": "2023-03-23T00:41:42.996Z"
   },
   {
    "duration": 0,
    "start_time": "2023-03-23T00:41:42.998Z"
   },
   {
    "duration": 0,
    "start_time": "2023-03-23T00:41:42.999Z"
   },
   {
    "duration": 0,
    "start_time": "2023-03-23T00:41:43.000Z"
   },
   {
    "duration": 0,
    "start_time": "2023-03-23T00:41:43.001Z"
   },
   {
    "duration": 0,
    "start_time": "2023-03-23T00:41:43.002Z"
   },
   {
    "duration": 0,
    "start_time": "2023-03-23T00:41:43.003Z"
   },
   {
    "duration": 0,
    "start_time": "2023-03-23T00:41:43.004Z"
   },
   {
    "duration": 0,
    "start_time": "2023-03-23T00:41:43.005Z"
   },
   {
    "duration": 0,
    "start_time": "2023-03-23T00:41:43.006Z"
   },
   {
    "duration": 17,
    "start_time": "2023-03-23T00:41:51.198Z"
   },
   {
    "duration": 12,
    "start_time": "2023-03-23T00:41:53.368Z"
   },
   {
    "duration": 4,
    "start_time": "2023-03-23T00:42:01.597Z"
   },
   {
    "duration": 9,
    "start_time": "2023-03-23T00:42:06.150Z"
   },
   {
    "duration": 16,
    "start_time": "2023-03-23T00:42:08.252Z"
   },
   {
    "duration": 10,
    "start_time": "2023-03-23T00:42:11.517Z"
   },
   {
    "duration": 4,
    "start_time": "2023-03-23T00:42:42.072Z"
   },
   {
    "duration": 16,
    "start_time": "2023-03-23T00:42:43.052Z"
   },
   {
    "duration": 116,
    "start_time": "2023-03-23T00:42:47.765Z"
   },
   {
    "duration": 82,
    "start_time": "2023-03-23T00:43:01.404Z"
   },
   {
    "duration": 14,
    "start_time": "2023-03-23T00:43:19.171Z"
   },
   {
    "duration": 10,
    "start_time": "2023-03-23T00:43:30.564Z"
   },
   {
    "duration": 8,
    "start_time": "2023-03-23T00:43:34.761Z"
   },
   {
    "duration": 11,
    "start_time": "2023-03-23T00:43:40.252Z"
   },
   {
    "duration": 33,
    "start_time": "2023-03-23T00:43:48.518Z"
   },
   {
    "duration": 15,
    "start_time": "2023-03-23T00:43:59.459Z"
   },
   {
    "duration": 9,
    "start_time": "2023-03-23T00:44:00.289Z"
   },
   {
    "duration": 3,
    "start_time": "2023-03-23T00:44:01.293Z"
   },
   {
    "duration": 7,
    "start_time": "2023-03-23T00:44:02.299Z"
   },
   {
    "duration": 15,
    "start_time": "2023-03-23T00:44:03.618Z"
   },
   {
    "duration": 5,
    "start_time": "2023-03-23T00:44:07.793Z"
   },
   {
    "duration": 14,
    "start_time": "2023-03-23T00:44:45.651Z"
   },
   {
    "duration": 8,
    "start_time": "2023-03-23T00:45:07.698Z"
   },
   {
    "duration": 8,
    "start_time": "2023-03-23T00:45:14.697Z"
   },
   {
    "duration": 90,
    "start_time": "2023-03-23T00:45:40.769Z"
   },
   {
    "duration": 11,
    "start_time": "2023-03-23T00:47:28.804Z"
   },
   {
    "duration": 8,
    "start_time": "2023-03-23T00:47:59.976Z"
   },
   {
    "duration": 20,
    "start_time": "2023-03-23T00:48:21.243Z"
   },
   {
    "duration": 17,
    "start_time": "2023-03-23T00:48:29.110Z"
   },
   {
    "duration": 14,
    "start_time": "2023-03-23T00:48:30.456Z"
   },
   {
    "duration": 3,
    "start_time": "2023-03-23T00:48:35.214Z"
   },
   {
    "duration": 2,
    "start_time": "2023-03-23T00:48:39.400Z"
   },
   {
    "duration": 81,
    "start_time": "2023-03-23T00:48:39.406Z"
   },
   {
    "duration": 12,
    "start_time": "2023-03-23T00:48:39.489Z"
   },
   {
    "duration": 3,
    "start_time": "2023-03-23T00:48:39.503Z"
   },
   {
    "duration": 36,
    "start_time": "2023-03-23T00:48:39.507Z"
   },
   {
    "duration": 28,
    "start_time": "2023-03-23T00:48:39.553Z"
   },
   {
    "duration": 5,
    "start_time": "2023-03-23T00:48:39.583Z"
   },
   {
    "duration": 5,
    "start_time": "2023-03-23T00:48:39.590Z"
   },
   {
    "duration": 4,
    "start_time": "2023-03-23T00:48:39.597Z"
   },
   {
    "duration": 5,
    "start_time": "2023-03-23T00:48:39.603Z"
   },
   {
    "duration": 11,
    "start_time": "2023-03-23T00:48:39.609Z"
   },
   {
    "duration": 192,
    "start_time": "2023-03-23T00:48:39.621Z"
   },
   {
    "duration": 31,
    "start_time": "2023-03-23T00:48:39.815Z"
   },
   {
    "duration": 19,
    "start_time": "2023-03-23T00:48:39.856Z"
   },
   {
    "duration": 10,
    "start_time": "2023-03-23T00:48:39.877Z"
   },
   {
    "duration": 300,
    "start_time": "2023-03-23T00:48:39.889Z"
   },
   {
    "duration": 17,
    "start_time": "2023-03-23T00:48:40.190Z"
   },
   {
    "duration": 4,
    "start_time": "2023-03-23T00:48:40.209Z"
   },
   {
    "duration": 37,
    "start_time": "2023-03-23T00:48:40.214Z"
   },
   {
    "duration": 333,
    "start_time": "2023-03-23T00:48:40.260Z"
   },
   {
    "duration": 5,
    "start_time": "2023-03-23T00:48:40.595Z"
   },
   {
    "duration": 49,
    "start_time": "2023-03-23T00:48:40.602Z"
   },
   {
    "duration": 0,
    "start_time": "2023-03-23T00:48:40.654Z"
   },
   {
    "duration": 0,
    "start_time": "2023-03-23T00:48:40.655Z"
   },
   {
    "duration": 0,
    "start_time": "2023-03-23T00:48:40.659Z"
   },
   {
    "duration": 0,
    "start_time": "2023-03-23T00:48:40.660Z"
   },
   {
    "duration": 0,
    "start_time": "2023-03-23T00:48:40.661Z"
   },
   {
    "duration": 0,
    "start_time": "2023-03-23T00:48:40.662Z"
   },
   {
    "duration": 0,
    "start_time": "2023-03-23T00:48:40.663Z"
   },
   {
    "duration": 0,
    "start_time": "2023-03-23T00:48:40.663Z"
   },
   {
    "duration": 0,
    "start_time": "2023-03-23T00:48:40.665Z"
   },
   {
    "duration": 0,
    "start_time": "2023-03-23T00:48:40.666Z"
   },
   {
    "duration": 0,
    "start_time": "2023-03-23T00:48:40.667Z"
   },
   {
    "duration": 0,
    "start_time": "2023-03-23T00:48:40.668Z"
   },
   {
    "duration": 0,
    "start_time": "2023-03-23T00:48:40.669Z"
   },
   {
    "duration": 0,
    "start_time": "2023-03-23T00:48:40.670Z"
   },
   {
    "duration": 0,
    "start_time": "2023-03-23T00:48:40.671Z"
   },
   {
    "duration": 0,
    "start_time": "2023-03-23T00:48:40.672Z"
   },
   {
    "duration": 0,
    "start_time": "2023-03-23T00:48:40.673Z"
   },
   {
    "duration": 0,
    "start_time": "2023-03-23T00:48:40.673Z"
   },
   {
    "duration": 0,
    "start_time": "2023-03-23T00:48:40.674Z"
   },
   {
    "duration": 0,
    "start_time": "2023-03-23T00:48:40.675Z"
   },
   {
    "duration": 0,
    "start_time": "2023-03-23T00:48:40.676Z"
   },
   {
    "duration": 0,
    "start_time": "2023-03-23T00:48:40.677Z"
   },
   {
    "duration": 0,
    "start_time": "2023-03-23T00:48:40.678Z"
   },
   {
    "duration": 1,
    "start_time": "2023-03-23T00:48:40.679Z"
   },
   {
    "duration": 0,
    "start_time": "2023-03-23T00:48:40.680Z"
   },
   {
    "duration": 0,
    "start_time": "2023-03-23T00:48:40.681Z"
   },
   {
    "duration": 0,
    "start_time": "2023-03-23T00:48:40.682Z"
   },
   {
    "duration": 0,
    "start_time": "2023-03-23T00:48:40.683Z"
   },
   {
    "duration": 3,
    "start_time": "2023-03-23T00:48:42.964Z"
   },
   {
    "duration": 35,
    "start_time": "2023-03-23T00:48:48.536Z"
   },
   {
    "duration": 21,
    "start_time": "2023-03-23T00:48:57.820Z"
   },
   {
    "duration": 3,
    "start_time": "2023-03-23T00:49:06.366Z"
   },
   {
    "duration": 7,
    "start_time": "2023-03-23T00:49:33.211Z"
   },
   {
    "duration": 4,
    "start_time": "2023-03-23T00:49:55.710Z"
   },
   {
    "duration": 3,
    "start_time": "2023-03-23T00:50:16.778Z"
   },
   {
    "duration": 16,
    "start_time": "2023-03-23T00:50:29.447Z"
   },
   {
    "duration": 4,
    "start_time": "2023-03-23T00:50:45.709Z"
   },
   {
    "duration": 7,
    "start_time": "2023-03-23T00:50:46.567Z"
   },
   {
    "duration": 107,
    "start_time": "2023-03-23T00:51:04.014Z"
   },
   {
    "duration": 14,
    "start_time": "2023-03-23T00:52:44.852Z"
   },
   {
    "duration": 6,
    "start_time": "2023-03-23T00:52:45.685Z"
   },
   {
    "duration": 7,
    "start_time": "2023-03-23T00:52:46.577Z"
   },
   {
    "duration": 13,
    "start_time": "2023-03-23T01:03:49.463Z"
   },
   {
    "duration": 12,
    "start_time": "2023-03-23T01:04:00.868Z"
   },
   {
    "duration": 16,
    "start_time": "2023-03-23T01:06:21.377Z"
   },
   {
    "duration": 13,
    "start_time": "2023-03-23T01:06:36.868Z"
   },
   {
    "duration": 13,
    "start_time": "2023-03-23T01:07:23.587Z"
   },
   {
    "duration": 3,
    "start_time": "2023-03-23T01:07:32.060Z"
   },
   {
    "duration": 70,
    "start_time": "2023-03-23T01:07:32.065Z"
   },
   {
    "duration": 15,
    "start_time": "2023-03-23T01:07:32.137Z"
   },
   {
    "duration": 25,
    "start_time": "2023-03-23T01:07:32.154Z"
   },
   {
    "duration": 32,
    "start_time": "2023-03-23T01:07:32.180Z"
   },
   {
    "duration": 79,
    "start_time": "2023-03-23T01:07:32.213Z"
   },
   {
    "duration": 6,
    "start_time": "2023-03-23T01:07:32.294Z"
   },
   {
    "duration": 17,
    "start_time": "2023-03-23T01:07:32.302Z"
   },
   {
    "duration": 56,
    "start_time": "2023-03-23T01:07:32.321Z"
   },
   {
    "duration": 13,
    "start_time": "2023-03-23T01:07:32.381Z"
   },
   {
    "duration": 6,
    "start_time": "2023-03-23T01:07:32.395Z"
   },
   {
    "duration": 152,
    "start_time": "2023-03-23T01:07:32.402Z"
   },
   {
    "duration": 16,
    "start_time": "2023-03-23T01:07:32.555Z"
   },
   {
    "duration": 4,
    "start_time": "2023-03-23T01:07:32.573Z"
   },
   {
    "duration": 10,
    "start_time": "2023-03-23T01:07:32.578Z"
   },
   {
    "duration": 397,
    "start_time": "2023-03-23T01:07:32.590Z"
   },
   {
    "duration": 15,
    "start_time": "2023-03-23T01:07:32.988Z"
   },
   {
    "duration": 2,
    "start_time": "2023-03-23T01:07:33.005Z"
   },
   {
    "duration": 30,
    "start_time": "2023-03-23T01:07:33.009Z"
   },
   {
    "duration": 324,
    "start_time": "2023-03-23T01:07:33.050Z"
   },
   {
    "duration": 7,
    "start_time": "2023-03-23T01:07:33.375Z"
   },
   {
    "duration": 12,
    "start_time": "2023-03-23T01:07:33.383Z"
   },
   {
    "duration": 0,
    "start_time": "2023-03-23T01:07:33.397Z"
   },
   {
    "duration": 0,
    "start_time": "2023-03-23T01:07:33.398Z"
   },
   {
    "duration": 0,
    "start_time": "2023-03-23T01:07:33.399Z"
   },
   {
    "duration": 0,
    "start_time": "2023-03-23T01:07:33.400Z"
   },
   {
    "duration": 0,
    "start_time": "2023-03-23T01:07:33.401Z"
   },
   {
    "duration": 0,
    "start_time": "2023-03-23T01:07:33.402Z"
   },
   {
    "duration": 0,
    "start_time": "2023-03-23T01:07:33.403Z"
   },
   {
    "duration": 0,
    "start_time": "2023-03-23T01:07:33.404Z"
   },
   {
    "duration": 0,
    "start_time": "2023-03-23T01:07:33.436Z"
   },
   {
    "duration": 0,
    "start_time": "2023-03-23T01:07:33.437Z"
   },
   {
    "duration": 0,
    "start_time": "2023-03-23T01:07:33.438Z"
   },
   {
    "duration": 0,
    "start_time": "2023-03-23T01:07:33.438Z"
   },
   {
    "duration": 0,
    "start_time": "2023-03-23T01:07:33.439Z"
   },
   {
    "duration": 0,
    "start_time": "2023-03-23T01:07:33.440Z"
   },
   {
    "duration": 0,
    "start_time": "2023-03-23T01:07:33.440Z"
   },
   {
    "duration": 0,
    "start_time": "2023-03-23T01:07:33.441Z"
   },
   {
    "duration": 0,
    "start_time": "2023-03-23T01:07:33.442Z"
   },
   {
    "duration": 0,
    "start_time": "2023-03-23T01:07:33.442Z"
   },
   {
    "duration": 0,
    "start_time": "2023-03-23T01:07:33.443Z"
   },
   {
    "duration": 0,
    "start_time": "2023-03-23T01:07:33.444Z"
   },
   {
    "duration": 0,
    "start_time": "2023-03-23T01:07:33.445Z"
   },
   {
    "duration": 0,
    "start_time": "2023-03-23T01:07:33.445Z"
   },
   {
    "duration": 0,
    "start_time": "2023-03-23T01:07:33.446Z"
   },
   {
    "duration": 0,
    "start_time": "2023-03-23T01:07:33.447Z"
   },
   {
    "duration": 0,
    "start_time": "2023-03-23T01:07:33.447Z"
   },
   {
    "duration": 0,
    "start_time": "2023-03-23T01:07:33.448Z"
   },
   {
    "duration": 0,
    "start_time": "2023-03-23T01:07:33.449Z"
   },
   {
    "duration": 0,
    "start_time": "2023-03-23T01:07:33.449Z"
   },
   {
    "duration": 0,
    "start_time": "2023-03-23T01:07:33.450Z"
   },
   {
    "duration": 0,
    "start_time": "2023-03-23T01:07:33.451Z"
   },
   {
    "duration": 0,
    "start_time": "2023-03-23T01:07:33.451Z"
   },
   {
    "duration": 0,
    "start_time": "2023-03-23T01:07:33.452Z"
   },
   {
    "duration": 0,
    "start_time": "2023-03-23T01:07:33.453Z"
   },
   {
    "duration": 0,
    "start_time": "2023-03-23T01:07:33.453Z"
   },
   {
    "duration": 0,
    "start_time": "2023-03-23T01:07:33.454Z"
   },
   {
    "duration": 15,
    "start_time": "2023-03-23T01:07:34.983Z"
   },
   {
    "duration": 12,
    "start_time": "2023-03-23T01:07:40.469Z"
   },
   {
    "duration": 11,
    "start_time": "2023-03-23T01:07:53.403Z"
   },
   {
    "duration": 162,
    "start_time": "2023-03-23T01:14:21.344Z"
   },
   {
    "duration": 177,
    "start_time": "2023-03-23T01:14:37.189Z"
   },
   {
    "duration": 86,
    "start_time": "2023-03-23T01:15:12.653Z"
   },
   {
    "duration": 1216,
    "start_time": "2023-03-23T01:15:27.747Z"
   },
   {
    "duration": 52,
    "start_time": "2023-03-23T01:15:28.967Z"
   },
   {
    "duration": 32,
    "start_time": "2023-03-23T01:15:29.021Z"
   },
   {
    "duration": 11,
    "start_time": "2023-03-23T01:15:29.062Z"
   },
   {
    "duration": 10,
    "start_time": "2023-03-23T01:15:29.075Z"
   },
   {
    "duration": 84,
    "start_time": "2023-03-23T01:15:29.086Z"
   },
   {
    "duration": 8,
    "start_time": "2023-03-23T01:15:29.171Z"
   },
   {
    "duration": 8,
    "start_time": "2023-03-23T01:15:29.181Z"
   },
   {
    "duration": 6,
    "start_time": "2023-03-23T01:15:29.191Z"
   },
   {
    "duration": 11,
    "start_time": "2023-03-23T01:15:29.199Z"
   },
   {
    "duration": 8,
    "start_time": "2023-03-23T01:15:29.211Z"
   },
   {
    "duration": 192,
    "start_time": "2023-03-23T01:15:29.220Z"
   },
   {
    "duration": 37,
    "start_time": "2023-03-23T01:15:29.413Z"
   },
   {
    "duration": 17,
    "start_time": "2023-03-23T01:15:29.454Z"
   },
   {
    "duration": 9,
    "start_time": "2023-03-23T01:15:29.473Z"
   },
   {
    "duration": 292,
    "start_time": "2023-03-23T01:15:29.484Z"
   },
   {
    "duration": 15,
    "start_time": "2023-03-23T01:15:29.778Z"
   },
   {
    "duration": 3,
    "start_time": "2023-03-23T01:15:29.795Z"
   },
   {
    "duration": 41,
    "start_time": "2023-03-23T01:15:29.800Z"
   },
   {
    "duration": 334,
    "start_time": "2023-03-23T01:15:29.852Z"
   },
   {
    "duration": 6,
    "start_time": "2023-03-23T01:15:30.188Z"
   },
   {
    "duration": 148,
    "start_time": "2023-03-23T01:15:30.195Z"
   },
   {
    "duration": 0,
    "start_time": "2023-03-23T01:15:30.345Z"
   },
   {
    "duration": 0,
    "start_time": "2023-03-23T01:15:30.346Z"
   },
   {
    "duration": 0,
    "start_time": "2023-03-23T01:15:30.347Z"
   },
   {
    "duration": 0,
    "start_time": "2023-03-23T01:15:30.351Z"
   },
   {
    "duration": 0,
    "start_time": "2023-03-23T01:15:30.359Z"
   },
   {
    "duration": 0,
    "start_time": "2023-03-23T01:15:30.360Z"
   },
   {
    "duration": 0,
    "start_time": "2023-03-23T01:15:30.361Z"
   },
   {
    "duration": 0,
    "start_time": "2023-03-23T01:15:30.361Z"
   },
   {
    "duration": 0,
    "start_time": "2023-03-23T01:15:30.362Z"
   },
   {
    "duration": 0,
    "start_time": "2023-03-23T01:15:30.362Z"
   },
   {
    "duration": 0,
    "start_time": "2023-03-23T01:15:30.363Z"
   },
   {
    "duration": 0,
    "start_time": "2023-03-23T01:15:30.363Z"
   },
   {
    "duration": 0,
    "start_time": "2023-03-23T01:15:30.368Z"
   },
   {
    "duration": 0,
    "start_time": "2023-03-23T01:15:30.369Z"
   },
   {
    "duration": 0,
    "start_time": "2023-03-23T01:15:30.370Z"
   },
   {
    "duration": 0,
    "start_time": "2023-03-23T01:15:30.371Z"
   },
   {
    "duration": 0,
    "start_time": "2023-03-23T01:15:30.372Z"
   },
   {
    "duration": 0,
    "start_time": "2023-03-23T01:15:30.373Z"
   },
   {
    "duration": 0,
    "start_time": "2023-03-23T01:15:30.374Z"
   },
   {
    "duration": 0,
    "start_time": "2023-03-23T01:15:30.375Z"
   },
   {
    "duration": 0,
    "start_time": "2023-03-23T01:15:30.376Z"
   },
   {
    "duration": 0,
    "start_time": "2023-03-23T01:15:30.376Z"
   },
   {
    "duration": 0,
    "start_time": "2023-03-23T01:15:30.377Z"
   },
   {
    "duration": 0,
    "start_time": "2023-03-23T01:15:30.378Z"
   },
   {
    "duration": 0,
    "start_time": "2023-03-23T01:15:30.379Z"
   },
   {
    "duration": 0,
    "start_time": "2023-03-23T01:15:30.380Z"
   },
   {
    "duration": 0,
    "start_time": "2023-03-23T01:15:30.381Z"
   },
   {
    "duration": 0,
    "start_time": "2023-03-23T01:15:30.382Z"
   },
   {
    "duration": 0,
    "start_time": "2023-03-23T01:15:30.383Z"
   },
   {
    "duration": 0,
    "start_time": "2023-03-23T01:15:30.384Z"
   },
   {
    "duration": 0,
    "start_time": "2023-03-23T01:15:30.385Z"
   },
   {
    "duration": 0,
    "start_time": "2023-03-23T01:15:30.385Z"
   },
   {
    "duration": 0,
    "start_time": "2023-03-23T01:15:30.386Z"
   },
   {
    "duration": 0,
    "start_time": "2023-03-23T01:15:30.387Z"
   },
   {
    "duration": 0,
    "start_time": "2023-03-23T01:15:30.388Z"
   },
   {
    "duration": 0,
    "start_time": "2023-03-23T01:15:30.389Z"
   },
   {
    "duration": 2,
    "start_time": "2023-03-23T01:15:35.396Z"
   },
   {
    "duration": 146,
    "start_time": "2023-03-23T01:15:35.400Z"
   },
   {
    "duration": 12,
    "start_time": "2023-03-23T01:15:35.565Z"
   },
   {
    "duration": 4,
    "start_time": "2023-03-23T01:15:35.579Z"
   },
   {
    "duration": 13,
    "start_time": "2023-03-23T01:15:35.586Z"
   },
   {
    "duration": 64,
    "start_time": "2023-03-23T01:15:35.600Z"
   },
   {
    "duration": 7,
    "start_time": "2023-03-23T01:15:35.666Z"
   },
   {
    "duration": 6,
    "start_time": "2023-03-23T01:15:35.675Z"
   },
   {
    "duration": 7,
    "start_time": "2023-03-23T01:15:35.683Z"
   },
   {
    "duration": 8,
    "start_time": "2023-03-23T01:15:35.691Z"
   },
   {
    "duration": 4,
    "start_time": "2023-03-23T01:15:35.702Z"
   },
   {
    "duration": 186,
    "start_time": "2023-03-23T01:15:35.708Z"
   },
   {
    "duration": 16,
    "start_time": "2023-03-23T01:15:35.897Z"
   },
   {
    "duration": 47,
    "start_time": "2023-03-23T01:15:35.915Z"
   },
   {
    "duration": 46,
    "start_time": "2023-03-23T01:15:35.968Z"
   },
   {
    "duration": 361,
    "start_time": "2023-03-23T01:15:36.015Z"
   },
   {
    "duration": 17,
    "start_time": "2023-03-23T01:15:36.377Z"
   },
   {
    "duration": 3,
    "start_time": "2023-03-23T01:15:36.395Z"
   },
   {
    "duration": 11,
    "start_time": "2023-03-23T01:15:36.399Z"
   },
   {
    "duration": 355,
    "start_time": "2023-03-23T01:15:36.411Z"
   },
   {
    "duration": 8,
    "start_time": "2023-03-23T01:15:36.767Z"
   },
   {
    "duration": 18,
    "start_time": "2023-03-23T01:15:36.776Z"
   },
   {
    "duration": 0,
    "start_time": "2023-03-23T01:15:36.796Z"
   },
   {
    "duration": 0,
    "start_time": "2023-03-23T01:15:36.797Z"
   },
   {
    "duration": 0,
    "start_time": "2023-03-23T01:15:36.798Z"
   },
   {
    "duration": 0,
    "start_time": "2023-03-23T01:15:36.799Z"
   },
   {
    "duration": 0,
    "start_time": "2023-03-23T01:15:36.800Z"
   },
   {
    "duration": 0,
    "start_time": "2023-03-23T01:15:36.802Z"
   },
   {
    "duration": 0,
    "start_time": "2023-03-23T01:15:36.803Z"
   },
   {
    "duration": 0,
    "start_time": "2023-03-23T01:15:36.804Z"
   },
   {
    "duration": 0,
    "start_time": "2023-03-23T01:15:36.805Z"
   },
   {
    "duration": 0,
    "start_time": "2023-03-23T01:15:36.879Z"
   },
   {
    "duration": 0,
    "start_time": "2023-03-23T01:15:36.880Z"
   },
   {
    "duration": 0,
    "start_time": "2023-03-23T01:15:36.880Z"
   },
   {
    "duration": 0,
    "start_time": "2023-03-23T01:15:36.881Z"
   },
   {
    "duration": 0,
    "start_time": "2023-03-23T01:15:36.882Z"
   },
   {
    "duration": 0,
    "start_time": "2023-03-23T01:15:36.883Z"
   },
   {
    "duration": 0,
    "start_time": "2023-03-23T01:15:36.883Z"
   },
   {
    "duration": 0,
    "start_time": "2023-03-23T01:15:36.884Z"
   },
   {
    "duration": 0,
    "start_time": "2023-03-23T01:15:36.885Z"
   },
   {
    "duration": 0,
    "start_time": "2023-03-23T01:15:36.886Z"
   },
   {
    "duration": 0,
    "start_time": "2023-03-23T01:15:36.886Z"
   },
   {
    "duration": 0,
    "start_time": "2023-03-23T01:15:36.887Z"
   },
   {
    "duration": 0,
    "start_time": "2023-03-23T01:15:36.888Z"
   },
   {
    "duration": 0,
    "start_time": "2023-03-23T01:15:36.889Z"
   },
   {
    "duration": 0,
    "start_time": "2023-03-23T01:15:36.889Z"
   },
   {
    "duration": 0,
    "start_time": "2023-03-23T01:15:36.890Z"
   },
   {
    "duration": 0,
    "start_time": "2023-03-23T01:15:36.891Z"
   },
   {
    "duration": 0,
    "start_time": "2023-03-23T01:15:36.892Z"
   },
   {
    "duration": 0,
    "start_time": "2023-03-23T01:15:36.892Z"
   },
   {
    "duration": 0,
    "start_time": "2023-03-23T01:15:36.893Z"
   },
   {
    "duration": 0,
    "start_time": "2023-03-23T01:15:36.894Z"
   },
   {
    "duration": 0,
    "start_time": "2023-03-23T01:15:36.895Z"
   },
   {
    "duration": 0,
    "start_time": "2023-03-23T01:15:36.895Z"
   },
   {
    "duration": 0,
    "start_time": "2023-03-23T01:15:36.896Z"
   },
   {
    "duration": 0,
    "start_time": "2023-03-23T01:15:36.897Z"
   },
   {
    "duration": 0,
    "start_time": "2023-03-23T01:15:36.898Z"
   },
   {
    "duration": 0,
    "start_time": "2023-03-23T01:15:36.899Z"
   },
   {
    "duration": 189,
    "start_time": "2023-03-23T01:15:39.284Z"
   },
   {
    "duration": 98,
    "start_time": "2023-03-23T01:15:52.043Z"
   },
   {
    "duration": 13,
    "start_time": "2023-03-23T01:16:08.865Z"
   },
   {
    "duration": 13,
    "start_time": "2023-03-23T01:16:55.262Z"
   },
   {
    "duration": 12,
    "start_time": "2023-03-23T01:17:29.100Z"
   },
   {
    "duration": 12,
    "start_time": "2023-03-23T01:17:29.896Z"
   },
   {
    "duration": 14,
    "start_time": "2023-03-23T01:17:30.761Z"
   },
   {
    "duration": 2,
    "start_time": "2023-03-23T01:28:39.876Z"
   },
   {
    "duration": 3,
    "start_time": "2023-03-23T01:37:15.252Z"
   },
   {
    "duration": 16,
    "start_time": "2023-03-23T01:37:56.984Z"
   },
   {
    "duration": 4,
    "start_time": "2023-03-23T02:29:24.985Z"
   },
   {
    "duration": 65,
    "start_time": "2023-03-23T02:29:24.991Z"
   },
   {
    "duration": 12,
    "start_time": "2023-03-23T02:29:25.058Z"
   },
   {
    "duration": 6,
    "start_time": "2023-03-23T02:29:25.071Z"
   },
   {
    "duration": 10,
    "start_time": "2023-03-23T02:29:25.079Z"
   },
   {
    "duration": 13,
    "start_time": "2023-03-23T02:29:25.147Z"
   },
   {
    "duration": 5,
    "start_time": "2023-03-23T02:29:25.162Z"
   },
   {
    "duration": 6,
    "start_time": "2023-03-23T02:29:25.169Z"
   },
   {
    "duration": 6,
    "start_time": "2023-03-23T02:29:25.177Z"
   },
   {
    "duration": 13,
    "start_time": "2023-03-23T02:29:25.186Z"
   },
   {
    "duration": 6,
    "start_time": "2023-03-23T02:29:25.200Z"
   },
   {
    "duration": 139,
    "start_time": "2023-03-23T02:29:25.207Z"
   },
   {
    "duration": 13,
    "start_time": "2023-03-23T02:29:25.347Z"
   },
   {
    "duration": 3,
    "start_time": "2023-03-23T02:29:25.361Z"
   },
   {
    "duration": 5,
    "start_time": "2023-03-23T02:29:25.365Z"
   },
   {
    "duration": 246,
    "start_time": "2023-03-23T02:29:25.373Z"
   },
   {
    "duration": 24,
    "start_time": "2023-03-23T02:29:25.623Z"
   },
   {
    "duration": 3,
    "start_time": "2023-03-23T02:29:25.648Z"
   },
   {
    "duration": 7,
    "start_time": "2023-03-23T02:29:25.653Z"
   },
   {
    "duration": 299,
    "start_time": "2023-03-23T02:29:25.662Z"
   },
   {
    "duration": 6,
    "start_time": "2023-03-23T02:29:25.963Z"
   },
   {
    "duration": 30,
    "start_time": "2023-03-23T02:29:25.971Z"
   },
   {
    "duration": 0,
    "start_time": "2023-03-23T02:29:26.004Z"
   },
   {
    "duration": 0,
    "start_time": "2023-03-23T02:29:26.005Z"
   },
   {
    "duration": 0,
    "start_time": "2023-03-23T02:29:26.006Z"
   },
   {
    "duration": 0,
    "start_time": "2023-03-23T02:29:26.008Z"
   },
   {
    "duration": 0,
    "start_time": "2023-03-23T02:29:26.009Z"
   },
   {
    "duration": 0,
    "start_time": "2023-03-23T02:29:26.011Z"
   },
   {
    "duration": 1,
    "start_time": "2023-03-23T02:29:26.022Z"
   },
   {
    "duration": 0,
    "start_time": "2023-03-23T02:29:26.024Z"
   },
   {
    "duration": 0,
    "start_time": "2023-03-23T02:29:26.025Z"
   },
   {
    "duration": 0,
    "start_time": "2023-03-23T02:29:26.026Z"
   },
   {
    "duration": 0,
    "start_time": "2023-03-23T02:29:26.028Z"
   },
   {
    "duration": 0,
    "start_time": "2023-03-23T02:29:26.029Z"
   },
   {
    "duration": 0,
    "start_time": "2023-03-23T02:29:26.030Z"
   },
   {
    "duration": 0,
    "start_time": "2023-03-23T02:29:26.038Z"
   },
   {
    "duration": 0,
    "start_time": "2023-03-23T02:29:26.039Z"
   },
   {
    "duration": 0,
    "start_time": "2023-03-23T02:29:26.044Z"
   },
   {
    "duration": 0,
    "start_time": "2023-03-23T02:29:26.045Z"
   },
   {
    "duration": 0,
    "start_time": "2023-03-23T02:29:26.045Z"
   },
   {
    "duration": 0,
    "start_time": "2023-03-23T02:29:26.046Z"
   },
   {
    "duration": 0,
    "start_time": "2023-03-23T02:29:26.047Z"
   },
   {
    "duration": 0,
    "start_time": "2023-03-23T02:29:26.052Z"
   },
   {
    "duration": 0,
    "start_time": "2023-03-23T02:29:26.053Z"
   },
   {
    "duration": 0,
    "start_time": "2023-03-23T02:29:26.055Z"
   },
   {
    "duration": 0,
    "start_time": "2023-03-23T02:29:26.056Z"
   },
   {
    "duration": 0,
    "start_time": "2023-03-23T02:29:26.058Z"
   },
   {
    "duration": 0,
    "start_time": "2023-03-23T02:29:26.059Z"
   },
   {
    "duration": 0,
    "start_time": "2023-03-23T02:29:26.060Z"
   },
   {
    "duration": 0,
    "start_time": "2023-03-23T02:29:26.061Z"
   },
   {
    "duration": 0,
    "start_time": "2023-03-23T02:29:26.062Z"
   },
   {
    "duration": 0,
    "start_time": "2023-03-23T02:29:26.064Z"
   },
   {
    "duration": 0,
    "start_time": "2023-03-23T02:29:26.065Z"
   },
   {
    "duration": 0,
    "start_time": "2023-03-23T02:29:26.066Z"
   },
   {
    "duration": 0,
    "start_time": "2023-03-23T02:29:26.067Z"
   },
   {
    "duration": 0,
    "start_time": "2023-03-23T02:29:26.068Z"
   },
   {
    "duration": 0,
    "start_time": "2023-03-23T02:29:26.069Z"
   },
   {
    "duration": 0,
    "start_time": "2023-03-23T02:29:26.070Z"
   },
   {
    "duration": 0,
    "start_time": "2023-03-23T02:29:26.071Z"
   },
   {
    "duration": 0,
    "start_time": "2023-03-23T02:29:26.072Z"
   },
   {
    "duration": 0,
    "start_time": "2023-03-23T02:29:26.073Z"
   },
   {
    "duration": 2,
    "start_time": "2023-03-23T02:32:38.279Z"
   },
   {
    "duration": 54,
    "start_time": "2023-03-23T02:32:38.283Z"
   },
   {
    "duration": 11,
    "start_time": "2023-03-23T02:32:38.339Z"
   },
   {
    "duration": 2,
    "start_time": "2023-03-23T02:32:38.352Z"
   },
   {
    "duration": 9,
    "start_time": "2023-03-23T02:32:38.356Z"
   },
   {
    "duration": 12,
    "start_time": "2023-03-23T02:32:38.366Z"
   },
   {
    "duration": 11,
    "start_time": "2023-03-23T02:32:38.379Z"
   },
   {
    "duration": 5,
    "start_time": "2023-03-23T02:32:38.391Z"
   },
   {
    "duration": 8,
    "start_time": "2023-03-23T02:32:38.398Z"
   },
   {
    "duration": 19,
    "start_time": "2023-03-23T02:32:38.408Z"
   },
   {
    "duration": 11,
    "start_time": "2023-03-23T02:32:38.429Z"
   },
   {
    "duration": 140,
    "start_time": "2023-03-23T02:32:38.441Z"
   },
   {
    "duration": 13,
    "start_time": "2023-03-23T02:32:38.582Z"
   },
   {
    "duration": 3,
    "start_time": "2023-03-23T02:32:38.597Z"
   },
   {
    "duration": 8,
    "start_time": "2023-03-23T02:32:38.602Z"
   },
   {
    "duration": 253,
    "start_time": "2023-03-23T02:32:38.622Z"
   },
   {
    "duration": 18,
    "start_time": "2023-03-23T02:32:38.877Z"
   },
   {
    "duration": 7,
    "start_time": "2023-03-23T02:32:38.897Z"
   },
   {
    "duration": 33,
    "start_time": "2023-03-23T02:32:38.906Z"
   },
   {
    "duration": 298,
    "start_time": "2023-03-23T02:32:38.941Z"
   },
   {
    "duration": 5,
    "start_time": "2023-03-23T02:32:39.241Z"
   },
   {
    "duration": 18,
    "start_time": "2023-03-23T02:32:39.248Z"
   },
   {
    "duration": 0,
    "start_time": "2023-03-23T02:32:39.268Z"
   },
   {
    "duration": 0,
    "start_time": "2023-03-23T02:32:39.269Z"
   },
   {
    "duration": 0,
    "start_time": "2023-03-23T02:32:39.270Z"
   },
   {
    "duration": 0,
    "start_time": "2023-03-23T02:32:39.271Z"
   },
   {
    "duration": 0,
    "start_time": "2023-03-23T02:32:39.272Z"
   },
   {
    "duration": 0,
    "start_time": "2023-03-23T02:32:39.273Z"
   },
   {
    "duration": 0,
    "start_time": "2023-03-23T02:32:39.274Z"
   },
   {
    "duration": 0,
    "start_time": "2023-03-23T02:32:39.275Z"
   },
   {
    "duration": 0,
    "start_time": "2023-03-23T02:32:39.276Z"
   },
   {
    "duration": 0,
    "start_time": "2023-03-23T02:32:39.277Z"
   },
   {
    "duration": 0,
    "start_time": "2023-03-23T02:32:39.278Z"
   },
   {
    "duration": 0,
    "start_time": "2023-03-23T02:32:39.279Z"
   },
   {
    "duration": 0,
    "start_time": "2023-03-23T02:32:39.280Z"
   },
   {
    "duration": 0,
    "start_time": "2023-03-23T02:32:39.281Z"
   },
   {
    "duration": 0,
    "start_time": "2023-03-23T02:32:39.281Z"
   },
   {
    "duration": 0,
    "start_time": "2023-03-23T02:32:39.282Z"
   },
   {
    "duration": 0,
    "start_time": "2023-03-23T02:32:39.283Z"
   },
   {
    "duration": 0,
    "start_time": "2023-03-23T02:32:39.283Z"
   },
   {
    "duration": 0,
    "start_time": "2023-03-23T02:32:39.284Z"
   },
   {
    "duration": 0,
    "start_time": "2023-03-23T02:32:39.285Z"
   },
   {
    "duration": 0,
    "start_time": "2023-03-23T02:32:39.285Z"
   },
   {
    "duration": 0,
    "start_time": "2023-03-23T02:32:39.286Z"
   },
   {
    "duration": 0,
    "start_time": "2023-03-23T02:32:39.287Z"
   },
   {
    "duration": 0,
    "start_time": "2023-03-23T02:32:39.288Z"
   },
   {
    "duration": 0,
    "start_time": "2023-03-23T02:32:39.288Z"
   },
   {
    "duration": 0,
    "start_time": "2023-03-23T02:32:39.289Z"
   },
   {
    "duration": 0,
    "start_time": "2023-03-23T02:32:39.290Z"
   },
   {
    "duration": 0,
    "start_time": "2023-03-23T02:32:39.290Z"
   },
   {
    "duration": 0,
    "start_time": "2023-03-23T02:32:39.291Z"
   },
   {
    "duration": 0,
    "start_time": "2023-03-23T02:32:39.322Z"
   },
   {
    "duration": 0,
    "start_time": "2023-03-23T02:32:39.322Z"
   },
   {
    "duration": 0,
    "start_time": "2023-03-23T02:32:39.323Z"
   },
   {
    "duration": 0,
    "start_time": "2023-03-23T02:32:39.323Z"
   },
   {
    "duration": 0,
    "start_time": "2023-03-23T02:32:39.324Z"
   },
   {
    "duration": 0,
    "start_time": "2023-03-23T02:32:39.324Z"
   },
   {
    "duration": 0,
    "start_time": "2023-03-23T02:32:39.325Z"
   },
   {
    "duration": 0,
    "start_time": "2023-03-23T02:32:39.325Z"
   },
   {
    "duration": 0,
    "start_time": "2023-03-23T02:32:39.326Z"
   },
   {
    "duration": 105,
    "start_time": "2023-03-23T02:32:40.370Z"
   },
   {
    "duration": 111,
    "start_time": "2023-03-23T02:35:05.098Z"
   },
   {
    "duration": 129,
    "start_time": "2023-03-23T02:35:39.084Z"
   },
   {
    "duration": 77,
    "start_time": "2023-03-23T02:36:29.937Z"
   },
   {
    "duration": 1003,
    "start_time": "2023-03-23T02:36:38.177Z"
   },
   {
    "duration": 57,
    "start_time": "2023-03-23T02:36:39.184Z"
   },
   {
    "duration": 12,
    "start_time": "2023-03-23T02:36:39.242Z"
   },
   {
    "duration": 3,
    "start_time": "2023-03-23T02:36:39.256Z"
   },
   {
    "duration": 12,
    "start_time": "2023-03-23T02:36:39.261Z"
   },
   {
    "duration": 66,
    "start_time": "2023-03-23T02:36:39.274Z"
   },
   {
    "duration": 6,
    "start_time": "2023-03-23T02:36:39.342Z"
   },
   {
    "duration": 6,
    "start_time": "2023-03-23T02:36:39.349Z"
   },
   {
    "duration": 5,
    "start_time": "2023-03-23T02:36:39.356Z"
   },
   {
    "duration": 4,
    "start_time": "2023-03-23T02:36:39.363Z"
   },
   {
    "duration": 7,
    "start_time": "2023-03-23T02:36:39.368Z"
   },
   {
    "duration": 167,
    "start_time": "2023-03-23T02:36:39.376Z"
   },
   {
    "duration": 14,
    "start_time": "2023-03-23T02:36:39.545Z"
   },
   {
    "duration": 4,
    "start_time": "2023-03-23T02:36:39.561Z"
   },
   {
    "duration": 8,
    "start_time": "2023-03-23T02:36:39.566Z"
   },
   {
    "duration": 273,
    "start_time": "2023-03-23T02:36:39.576Z"
   },
   {
    "duration": 16,
    "start_time": "2023-03-23T02:36:39.850Z"
   },
   {
    "duration": 3,
    "start_time": "2023-03-23T02:36:39.868Z"
   },
   {
    "duration": 13,
    "start_time": "2023-03-23T02:36:39.872Z"
   },
   {
    "duration": 302,
    "start_time": "2023-03-23T02:36:39.886Z"
   },
   {
    "duration": 6,
    "start_time": "2023-03-23T02:36:40.189Z"
   },
   {
    "duration": 114,
    "start_time": "2023-03-23T02:36:40.197Z"
   },
   {
    "duration": 0,
    "start_time": "2023-03-23T02:36:40.313Z"
   },
   {
    "duration": 0,
    "start_time": "2023-03-23T02:36:40.314Z"
   },
   {
    "duration": 0,
    "start_time": "2023-03-23T02:36:40.324Z"
   },
   {
    "duration": 0,
    "start_time": "2023-03-23T02:36:40.324Z"
   },
   {
    "duration": 0,
    "start_time": "2023-03-23T02:36:40.325Z"
   },
   {
    "duration": 0,
    "start_time": "2023-03-23T02:36:40.326Z"
   },
   {
    "duration": 0,
    "start_time": "2023-03-23T02:36:40.326Z"
   },
   {
    "duration": 0,
    "start_time": "2023-03-23T02:36:40.327Z"
   },
   {
    "duration": 0,
    "start_time": "2023-03-23T02:36:40.328Z"
   },
   {
    "duration": 0,
    "start_time": "2023-03-23T02:36:40.328Z"
   },
   {
    "duration": 0,
    "start_time": "2023-03-23T02:36:40.329Z"
   },
   {
    "duration": 0,
    "start_time": "2023-03-23T02:36:40.329Z"
   },
   {
    "duration": 0,
    "start_time": "2023-03-23T02:36:40.330Z"
   },
   {
    "duration": 0,
    "start_time": "2023-03-23T02:36:40.331Z"
   },
   {
    "duration": 0,
    "start_time": "2023-03-23T02:36:40.332Z"
   },
   {
    "duration": 0,
    "start_time": "2023-03-23T02:36:40.332Z"
   },
   {
    "duration": 0,
    "start_time": "2023-03-23T02:36:40.333Z"
   },
   {
    "duration": 0,
    "start_time": "2023-03-23T02:36:40.334Z"
   },
   {
    "duration": 0,
    "start_time": "2023-03-23T02:36:40.334Z"
   },
   {
    "duration": 0,
    "start_time": "2023-03-23T02:36:40.335Z"
   },
   {
    "duration": 0,
    "start_time": "2023-03-23T02:36:40.336Z"
   },
   {
    "duration": 0,
    "start_time": "2023-03-23T02:36:40.336Z"
   },
   {
    "duration": 0,
    "start_time": "2023-03-23T02:36:40.337Z"
   },
   {
    "duration": 0,
    "start_time": "2023-03-23T02:36:40.339Z"
   },
   {
    "duration": 0,
    "start_time": "2023-03-23T02:36:40.340Z"
   },
   {
    "duration": 0,
    "start_time": "2023-03-23T02:36:40.342Z"
   },
   {
    "duration": 0,
    "start_time": "2023-03-23T02:36:40.343Z"
   },
   {
    "duration": 0,
    "start_time": "2023-03-23T02:36:40.344Z"
   },
   {
    "duration": 0,
    "start_time": "2023-03-23T02:36:40.346Z"
   },
   {
    "duration": 0,
    "start_time": "2023-03-23T02:36:40.347Z"
   },
   {
    "duration": 0,
    "start_time": "2023-03-23T02:36:40.348Z"
   },
   {
    "duration": 0,
    "start_time": "2023-03-23T02:36:40.350Z"
   },
   {
    "duration": 0,
    "start_time": "2023-03-23T02:36:40.351Z"
   },
   {
    "duration": 0,
    "start_time": "2023-03-23T02:36:40.353Z"
   },
   {
    "duration": 0,
    "start_time": "2023-03-23T02:36:40.354Z"
   },
   {
    "duration": 1,
    "start_time": "2023-03-23T02:36:40.355Z"
   },
   {
    "duration": 0,
    "start_time": "2023-03-23T02:36:40.356Z"
   },
   {
    "duration": 0,
    "start_time": "2023-03-23T02:36:40.358Z"
   },
   {
    "duration": 0,
    "start_time": "2023-03-23T02:36:40.359Z"
   },
   {
    "duration": 8,
    "start_time": "2023-03-23T02:36:47.834Z"
   },
   {
    "duration": 51,
    "start_time": "2023-03-23T02:36:47.844Z"
   },
   {
    "duration": 12,
    "start_time": "2023-03-23T02:36:47.896Z"
   },
   {
    "duration": 3,
    "start_time": "2023-03-23T02:36:47.910Z"
   },
   {
    "duration": 25,
    "start_time": "2023-03-23T02:36:47.914Z"
   },
   {
    "duration": 14,
    "start_time": "2023-03-23T02:36:47.941Z"
   },
   {
    "duration": 13,
    "start_time": "2023-03-23T02:36:47.956Z"
   },
   {
    "duration": 42,
    "start_time": "2023-03-23T02:36:47.970Z"
   },
   {
    "duration": 30,
    "start_time": "2023-03-23T02:36:48.013Z"
   },
   {
    "duration": 7,
    "start_time": "2023-03-23T02:36:48.046Z"
   },
   {
    "duration": 13,
    "start_time": "2023-03-23T02:36:48.054Z"
   },
   {
    "duration": 141,
    "start_time": "2023-03-23T02:36:48.069Z"
   },
   {
    "duration": 25,
    "start_time": "2023-03-23T02:36:48.212Z"
   },
   {
    "duration": 4,
    "start_time": "2023-03-23T02:36:48.239Z"
   },
   {
    "duration": 8,
    "start_time": "2023-03-23T02:36:48.244Z"
   },
   {
    "duration": 261,
    "start_time": "2023-03-23T02:36:48.253Z"
   },
   {
    "duration": 26,
    "start_time": "2023-03-23T02:36:48.515Z"
   },
   {
    "duration": 7,
    "start_time": "2023-03-23T02:36:48.543Z"
   },
   {
    "duration": 13,
    "start_time": "2023-03-23T02:36:48.552Z"
   },
   {
    "duration": 336,
    "start_time": "2023-03-23T02:36:48.567Z"
   },
   {
    "duration": 6,
    "start_time": "2023-03-23T02:36:48.904Z"
   },
   {
    "duration": 26,
    "start_time": "2023-03-23T02:36:48.911Z"
   },
   {
    "duration": 0,
    "start_time": "2023-03-23T02:36:48.940Z"
   },
   {
    "duration": 0,
    "start_time": "2023-03-23T02:36:48.941Z"
   },
   {
    "duration": 0,
    "start_time": "2023-03-23T02:36:48.942Z"
   },
   {
    "duration": 0,
    "start_time": "2023-03-23T02:36:48.943Z"
   },
   {
    "duration": 0,
    "start_time": "2023-03-23T02:36:48.944Z"
   },
   {
    "duration": 0,
    "start_time": "2023-03-23T02:36:48.945Z"
   },
   {
    "duration": 0,
    "start_time": "2023-03-23T02:36:48.946Z"
   },
   {
    "duration": 0,
    "start_time": "2023-03-23T02:36:49.002Z"
   },
   {
    "duration": 0,
    "start_time": "2023-03-23T02:36:49.003Z"
   },
   {
    "duration": 0,
    "start_time": "2023-03-23T02:36:49.005Z"
   },
   {
    "duration": 0,
    "start_time": "2023-03-23T02:36:49.006Z"
   },
   {
    "duration": 0,
    "start_time": "2023-03-23T02:36:49.007Z"
   },
   {
    "duration": 0,
    "start_time": "2023-03-23T02:36:49.022Z"
   },
   {
    "duration": 0,
    "start_time": "2023-03-23T02:36:49.022Z"
   },
   {
    "duration": 0,
    "start_time": "2023-03-23T02:36:49.023Z"
   },
   {
    "duration": 0,
    "start_time": "2023-03-23T02:36:49.028Z"
   },
   {
    "duration": 0,
    "start_time": "2023-03-23T02:36:49.029Z"
   },
   {
    "duration": 0,
    "start_time": "2023-03-23T02:36:49.030Z"
   },
   {
    "duration": 0,
    "start_time": "2023-03-23T02:36:49.031Z"
   },
   {
    "duration": 0,
    "start_time": "2023-03-23T02:36:49.034Z"
   },
   {
    "duration": 0,
    "start_time": "2023-03-23T02:36:49.035Z"
   },
   {
    "duration": 0,
    "start_time": "2023-03-23T02:36:49.038Z"
   },
   {
    "duration": 0,
    "start_time": "2023-03-23T02:36:49.040Z"
   },
   {
    "duration": 0,
    "start_time": "2023-03-23T02:36:49.041Z"
   },
   {
    "duration": 0,
    "start_time": "2023-03-23T02:36:49.042Z"
   },
   {
    "duration": 0,
    "start_time": "2023-03-23T02:36:49.042Z"
   },
   {
    "duration": 0,
    "start_time": "2023-03-23T02:36:49.043Z"
   },
   {
    "duration": 0,
    "start_time": "2023-03-23T02:36:49.044Z"
   },
   {
    "duration": 0,
    "start_time": "2023-03-23T02:36:49.045Z"
   },
   {
    "duration": 0,
    "start_time": "2023-03-23T02:36:49.046Z"
   },
   {
    "duration": 0,
    "start_time": "2023-03-23T02:36:49.047Z"
   },
   {
    "duration": 0,
    "start_time": "2023-03-23T02:36:49.048Z"
   },
   {
    "duration": 0,
    "start_time": "2023-03-23T02:36:49.049Z"
   },
   {
    "duration": 0,
    "start_time": "2023-03-23T02:36:49.051Z"
   },
   {
    "duration": 0,
    "start_time": "2023-03-23T02:36:49.052Z"
   },
   {
    "duration": 0,
    "start_time": "2023-03-23T02:36:49.053Z"
   },
   {
    "duration": 0,
    "start_time": "2023-03-23T02:36:49.055Z"
   },
   {
    "duration": 0,
    "start_time": "2023-03-23T02:36:49.056Z"
   },
   {
    "duration": 0,
    "start_time": "2023-03-23T02:36:49.057Z"
   },
   {
    "duration": 140,
    "start_time": "2023-03-23T02:36:54.164Z"
   },
   {
    "duration": 412,
    "start_time": "2023-03-23T02:37:14.789Z"
   },
   {
    "duration": 158,
    "start_time": "2023-03-23T02:37:54.156Z"
   },
   {
    "duration": 121,
    "start_time": "2023-03-23T02:38:06.016Z"
   },
   {
    "duration": 135,
    "start_time": "2023-03-23T02:38:34.957Z"
   },
   {
    "duration": 129,
    "start_time": "2023-03-23T02:39:04.842Z"
   },
   {
    "duration": 238,
    "start_time": "2023-03-23T02:39:55.104Z"
   },
   {
    "duration": 626,
    "start_time": "2023-03-23T02:40:04.984Z"
   },
   {
    "duration": 98,
    "start_time": "2023-03-23T02:40:35.466Z"
   },
   {
    "duration": 94,
    "start_time": "2023-03-23T02:41:35.437Z"
   },
   {
    "duration": 118,
    "start_time": "2023-03-23T02:42:13.443Z"
   },
   {
    "duration": 130,
    "start_time": "2023-03-23T02:43:07.146Z"
   },
   {
    "duration": 92,
    "start_time": "2023-03-23T02:43:14.707Z"
   },
   {
    "duration": 100,
    "start_time": "2023-03-23T02:43:35.942Z"
   },
   {
    "duration": 79,
    "start_time": "2023-03-23T02:43:52.414Z"
   },
   {
    "duration": 101,
    "start_time": "2023-03-23T02:44:06.134Z"
   },
   {
    "duration": 1017,
    "start_time": "2023-03-23T02:44:32.987Z"
   },
   {
    "duration": 57,
    "start_time": "2023-03-23T02:44:34.006Z"
   },
   {
    "duration": 13,
    "start_time": "2023-03-23T02:44:34.065Z"
   },
   {
    "duration": 3,
    "start_time": "2023-03-23T02:44:34.080Z"
   },
   {
    "duration": 16,
    "start_time": "2023-03-23T02:44:34.085Z"
   },
   {
    "duration": 71,
    "start_time": "2023-03-23T02:44:34.103Z"
   },
   {
    "duration": 7,
    "start_time": "2023-03-23T02:44:34.176Z"
   },
   {
    "duration": 9,
    "start_time": "2023-03-23T02:44:34.184Z"
   },
   {
    "duration": 8,
    "start_time": "2023-03-23T02:44:34.194Z"
   },
   {
    "duration": 7,
    "start_time": "2023-03-23T02:44:34.205Z"
   },
   {
    "duration": 14,
    "start_time": "2023-03-23T02:44:34.213Z"
   },
   {
    "duration": 156,
    "start_time": "2023-03-23T02:44:34.228Z"
   },
   {
    "duration": 15,
    "start_time": "2023-03-23T02:44:34.385Z"
   },
   {
    "duration": 3,
    "start_time": "2023-03-23T02:44:34.402Z"
   },
   {
    "duration": 6,
    "start_time": "2023-03-23T02:44:34.406Z"
   },
   {
    "duration": 313,
    "start_time": "2023-03-23T02:44:34.422Z"
   },
   {
    "duration": 17,
    "start_time": "2023-03-23T02:44:34.737Z"
   },
   {
    "duration": 3,
    "start_time": "2023-03-23T02:44:34.756Z"
   },
   {
    "duration": 12,
    "start_time": "2023-03-23T02:44:34.760Z"
   },
   {
    "duration": 315,
    "start_time": "2023-03-23T02:44:34.773Z"
   },
   {
    "duration": 6,
    "start_time": "2023-03-23T02:44:35.090Z"
   },
   {
    "duration": 111,
    "start_time": "2023-03-23T02:44:35.098Z"
   },
   {
    "duration": 0,
    "start_time": "2023-03-23T02:44:35.211Z"
   },
   {
    "duration": 0,
    "start_time": "2023-03-23T02:44:35.212Z"
   },
   {
    "duration": 0,
    "start_time": "2023-03-23T02:44:35.213Z"
   },
   {
    "duration": 0,
    "start_time": "2023-03-23T02:44:35.214Z"
   },
   {
    "duration": 0,
    "start_time": "2023-03-23T02:44:35.215Z"
   },
   {
    "duration": 0,
    "start_time": "2023-03-23T02:44:35.231Z"
   },
   {
    "duration": 0,
    "start_time": "2023-03-23T02:44:35.232Z"
   },
   {
    "duration": 0,
    "start_time": "2023-03-23T02:44:35.232Z"
   },
   {
    "duration": 0,
    "start_time": "2023-03-23T02:44:35.233Z"
   },
   {
    "duration": 0,
    "start_time": "2023-03-23T02:44:35.233Z"
   },
   {
    "duration": 0,
    "start_time": "2023-03-23T02:44:35.234Z"
   },
   {
    "duration": 0,
    "start_time": "2023-03-23T02:44:35.234Z"
   },
   {
    "duration": 0,
    "start_time": "2023-03-23T02:44:35.234Z"
   },
   {
    "duration": 0,
    "start_time": "2023-03-23T02:44:35.235Z"
   },
   {
    "duration": 0,
    "start_time": "2023-03-23T02:44:35.235Z"
   },
   {
    "duration": 0,
    "start_time": "2023-03-23T02:44:35.237Z"
   },
   {
    "duration": 0,
    "start_time": "2023-03-23T02:44:35.238Z"
   },
   {
    "duration": 0,
    "start_time": "2023-03-23T02:44:35.239Z"
   },
   {
    "duration": 0,
    "start_time": "2023-03-23T02:44:35.240Z"
   },
   {
    "duration": 0,
    "start_time": "2023-03-23T02:44:35.241Z"
   },
   {
    "duration": 0,
    "start_time": "2023-03-23T02:44:35.242Z"
   },
   {
    "duration": 0,
    "start_time": "2023-03-23T02:44:35.243Z"
   },
   {
    "duration": 0,
    "start_time": "2023-03-23T02:44:35.244Z"
   },
   {
    "duration": 0,
    "start_time": "2023-03-23T02:44:35.244Z"
   },
   {
    "duration": 0,
    "start_time": "2023-03-23T02:44:35.245Z"
   },
   {
    "duration": 0,
    "start_time": "2023-03-23T02:44:35.246Z"
   },
   {
    "duration": 0,
    "start_time": "2023-03-23T02:44:35.247Z"
   },
   {
    "duration": 0,
    "start_time": "2023-03-23T02:44:35.247Z"
   },
   {
    "duration": 0,
    "start_time": "2023-03-23T02:44:35.248Z"
   },
   {
    "duration": 0,
    "start_time": "2023-03-23T02:44:35.249Z"
   },
   {
    "duration": 0,
    "start_time": "2023-03-23T02:44:35.250Z"
   },
   {
    "duration": 0,
    "start_time": "2023-03-23T02:44:35.251Z"
   },
   {
    "duration": 0,
    "start_time": "2023-03-23T02:44:35.252Z"
   },
   {
    "duration": 0,
    "start_time": "2023-03-23T02:44:35.252Z"
   },
   {
    "duration": 0,
    "start_time": "2023-03-23T02:44:35.253Z"
   },
   {
    "duration": 0,
    "start_time": "2023-03-23T02:44:35.254Z"
   },
   {
    "duration": 0,
    "start_time": "2023-03-23T02:44:35.255Z"
   },
   {
    "duration": 0,
    "start_time": "2023-03-23T02:44:35.255Z"
   },
   {
    "duration": 0,
    "start_time": "2023-03-23T02:44:35.256Z"
   },
   {
    "duration": 3,
    "start_time": "2023-03-23T02:44:36.835Z"
   },
   {
    "duration": 50,
    "start_time": "2023-03-23T02:44:36.840Z"
   },
   {
    "duration": 13,
    "start_time": "2023-03-23T02:44:36.891Z"
   },
   {
    "duration": 2,
    "start_time": "2023-03-23T02:44:36.906Z"
   },
   {
    "duration": 28,
    "start_time": "2023-03-23T02:44:36.910Z"
   },
   {
    "duration": 14,
    "start_time": "2023-03-23T02:44:36.939Z"
   },
   {
    "duration": 11,
    "start_time": "2023-03-23T02:44:36.954Z"
   },
   {
    "duration": 7,
    "start_time": "2023-03-23T02:44:36.967Z"
   },
   {
    "duration": 6,
    "start_time": "2023-03-23T02:44:36.976Z"
   },
   {
    "duration": 11,
    "start_time": "2023-03-23T02:44:36.983Z"
   },
   {
    "duration": 9,
    "start_time": "2023-03-23T02:44:36.995Z"
   },
   {
    "duration": 140,
    "start_time": "2023-03-23T02:44:37.005Z"
   },
   {
    "duration": 14,
    "start_time": "2023-03-23T02:44:37.147Z"
   },
   {
    "duration": 3,
    "start_time": "2023-03-23T02:44:37.164Z"
   },
   {
    "duration": 23,
    "start_time": "2023-03-23T02:44:37.168Z"
   },
   {
    "duration": 242,
    "start_time": "2023-03-23T02:44:37.193Z"
   },
   {
    "duration": 17,
    "start_time": "2023-03-23T02:44:37.441Z"
   },
   {
    "duration": 4,
    "start_time": "2023-03-23T02:44:37.460Z"
   },
   {
    "duration": 12,
    "start_time": "2023-03-23T02:44:37.465Z"
   },
   {
    "duration": 310,
    "start_time": "2023-03-23T02:44:37.478Z"
   },
   {
    "duration": 7,
    "start_time": "2023-03-23T02:44:37.790Z"
   },
   {
    "duration": 29,
    "start_time": "2023-03-23T02:44:37.798Z"
   },
   {
    "duration": 0,
    "start_time": "2023-03-23T02:44:37.829Z"
   },
   {
    "duration": 0,
    "start_time": "2023-03-23T02:44:37.829Z"
   },
   {
    "duration": 0,
    "start_time": "2023-03-23T02:44:37.830Z"
   },
   {
    "duration": 0,
    "start_time": "2023-03-23T02:44:37.830Z"
   },
   {
    "duration": 0,
    "start_time": "2023-03-23T02:44:37.830Z"
   },
   {
    "duration": 0,
    "start_time": "2023-03-23T02:44:37.831Z"
   },
   {
    "duration": 0,
    "start_time": "2023-03-23T02:44:37.831Z"
   },
   {
    "duration": 0,
    "start_time": "2023-03-23T02:44:37.832Z"
   },
   {
    "duration": 0,
    "start_time": "2023-03-23T02:44:37.832Z"
   },
   {
    "duration": 0,
    "start_time": "2023-03-23T02:44:37.833Z"
   },
   {
    "duration": 0,
    "start_time": "2023-03-23T02:44:37.886Z"
   },
   {
    "duration": 0,
    "start_time": "2023-03-23T02:44:37.888Z"
   },
   {
    "duration": 0,
    "start_time": "2023-03-23T02:44:37.888Z"
   },
   {
    "duration": 0,
    "start_time": "2023-03-23T02:44:37.889Z"
   },
   {
    "duration": 0,
    "start_time": "2023-03-23T02:44:37.890Z"
   },
   {
    "duration": 0,
    "start_time": "2023-03-23T02:44:37.891Z"
   },
   {
    "duration": 0,
    "start_time": "2023-03-23T02:44:37.891Z"
   },
   {
    "duration": 0,
    "start_time": "2023-03-23T02:44:37.892Z"
   },
   {
    "duration": 0,
    "start_time": "2023-03-23T02:44:37.893Z"
   },
   {
    "duration": 0,
    "start_time": "2023-03-23T02:44:37.894Z"
   },
   {
    "duration": 0,
    "start_time": "2023-03-23T02:44:37.895Z"
   },
   {
    "duration": 0,
    "start_time": "2023-03-23T02:44:37.896Z"
   },
   {
    "duration": 0,
    "start_time": "2023-03-23T02:44:37.896Z"
   },
   {
    "duration": 0,
    "start_time": "2023-03-23T02:44:37.897Z"
   },
   {
    "duration": 0,
    "start_time": "2023-03-23T02:44:37.927Z"
   },
   {
    "duration": 0,
    "start_time": "2023-03-23T02:44:37.928Z"
   },
   {
    "duration": 0,
    "start_time": "2023-03-23T02:44:37.929Z"
   },
   {
    "duration": 0,
    "start_time": "2023-03-23T02:44:37.929Z"
   },
   {
    "duration": 0,
    "start_time": "2023-03-23T02:44:37.930Z"
   },
   {
    "duration": 0,
    "start_time": "2023-03-23T02:44:37.930Z"
   },
   {
    "duration": 0,
    "start_time": "2023-03-23T02:44:37.931Z"
   },
   {
    "duration": 0,
    "start_time": "2023-03-23T02:44:37.932Z"
   },
   {
    "duration": 0,
    "start_time": "2023-03-23T02:44:37.932Z"
   },
   {
    "duration": 0,
    "start_time": "2023-03-23T02:44:37.933Z"
   },
   {
    "duration": 0,
    "start_time": "2023-03-23T02:44:37.933Z"
   },
   {
    "duration": 0,
    "start_time": "2023-03-23T02:44:37.934Z"
   },
   {
    "duration": 0,
    "start_time": "2023-03-23T02:44:37.934Z"
   },
   {
    "duration": 0,
    "start_time": "2023-03-23T02:44:37.939Z"
   },
   {
    "duration": 0,
    "start_time": "2023-03-23T02:44:37.940Z"
   },
   {
    "duration": 3,
    "start_time": "2023-03-23T02:44:45.765Z"
   },
   {
    "duration": 67,
    "start_time": "2023-03-23T02:44:45.770Z"
   },
   {
    "duration": 13,
    "start_time": "2023-03-23T02:44:45.840Z"
   },
   {
    "duration": 3,
    "start_time": "2023-03-23T02:44:45.854Z"
   },
   {
    "duration": 12,
    "start_time": "2023-03-23T02:44:45.860Z"
   },
   {
    "duration": 15,
    "start_time": "2023-03-23T02:44:45.873Z"
   },
   {
    "duration": 5,
    "start_time": "2023-03-23T02:44:45.890Z"
   },
   {
    "duration": 4,
    "start_time": "2023-03-23T02:44:45.897Z"
   },
   {
    "duration": 34,
    "start_time": "2023-03-23T02:44:45.902Z"
   },
   {
    "duration": 16,
    "start_time": "2023-03-23T02:44:45.937Z"
   },
   {
    "duration": 17,
    "start_time": "2023-03-23T02:44:45.956Z"
   },
   {
    "duration": 168,
    "start_time": "2023-03-23T02:44:45.974Z"
   },
   {
    "duration": 13,
    "start_time": "2023-03-23T02:44:46.144Z"
   },
   {
    "duration": 3,
    "start_time": "2023-03-23T02:44:46.159Z"
   },
   {
    "duration": 6,
    "start_time": "2023-03-23T02:44:46.164Z"
   },
   {
    "duration": 289,
    "start_time": "2023-03-23T02:44:46.171Z"
   },
   {
    "duration": 16,
    "start_time": "2023-03-23T02:44:46.461Z"
   },
   {
    "duration": 3,
    "start_time": "2023-03-23T02:44:46.478Z"
   },
   {
    "duration": 8,
    "start_time": "2023-03-23T02:44:46.483Z"
   },
   {
    "duration": 361,
    "start_time": "2023-03-23T02:44:46.492Z"
   },
   {
    "duration": 6,
    "start_time": "2023-03-23T02:44:46.854Z"
   },
   {
    "duration": 13,
    "start_time": "2023-03-23T02:44:46.861Z"
   },
   {
    "duration": 0,
    "start_time": "2023-03-23T02:44:46.877Z"
   },
   {
    "duration": 0,
    "start_time": "2023-03-23T02:44:46.877Z"
   },
   {
    "duration": 0,
    "start_time": "2023-03-23T02:44:46.878Z"
   },
   {
    "duration": 0,
    "start_time": "2023-03-23T02:44:46.880Z"
   },
   {
    "duration": 0,
    "start_time": "2023-03-23T02:44:46.880Z"
   },
   {
    "duration": 0,
    "start_time": "2023-03-23T02:44:46.881Z"
   },
   {
    "duration": 0,
    "start_time": "2023-03-23T02:44:46.882Z"
   },
   {
    "duration": 0,
    "start_time": "2023-03-23T02:44:46.883Z"
   },
   {
    "duration": 0,
    "start_time": "2023-03-23T02:44:46.885Z"
   },
   {
    "duration": 0,
    "start_time": "2023-03-23T02:44:46.886Z"
   },
   {
    "duration": 0,
    "start_time": "2023-03-23T02:44:46.887Z"
   },
   {
    "duration": 0,
    "start_time": "2023-03-23T02:44:46.888Z"
   },
   {
    "duration": 0,
    "start_time": "2023-03-23T02:44:46.931Z"
   },
   {
    "duration": 0,
    "start_time": "2023-03-23T02:44:46.932Z"
   },
   {
    "duration": 0,
    "start_time": "2023-03-23T02:44:46.933Z"
   },
   {
    "duration": 0,
    "start_time": "2023-03-23T02:44:46.933Z"
   },
   {
    "duration": 0,
    "start_time": "2023-03-23T02:44:46.934Z"
   },
   {
    "duration": 0,
    "start_time": "2023-03-23T02:44:46.934Z"
   },
   {
    "duration": 0,
    "start_time": "2023-03-23T02:44:46.935Z"
   },
   {
    "duration": 0,
    "start_time": "2023-03-23T02:44:46.937Z"
   },
   {
    "duration": 0,
    "start_time": "2023-03-23T02:44:46.938Z"
   },
   {
    "duration": 0,
    "start_time": "2023-03-23T02:44:46.939Z"
   },
   {
    "duration": 0,
    "start_time": "2023-03-23T02:44:46.941Z"
   },
   {
    "duration": 0,
    "start_time": "2023-03-23T02:44:46.942Z"
   },
   {
    "duration": 0,
    "start_time": "2023-03-23T02:44:46.944Z"
   },
   {
    "duration": 0,
    "start_time": "2023-03-23T02:44:46.945Z"
   },
   {
    "duration": 0,
    "start_time": "2023-03-23T02:44:46.946Z"
   },
   {
    "duration": 0,
    "start_time": "2023-03-23T02:44:46.947Z"
   },
   {
    "duration": 0,
    "start_time": "2023-03-23T02:44:46.948Z"
   },
   {
    "duration": 0,
    "start_time": "2023-03-23T02:44:46.950Z"
   },
   {
    "duration": 0,
    "start_time": "2023-03-23T02:44:46.951Z"
   },
   {
    "duration": 0,
    "start_time": "2023-03-23T02:44:46.952Z"
   },
   {
    "duration": 0,
    "start_time": "2023-03-23T02:44:46.953Z"
   },
   {
    "duration": 0,
    "start_time": "2023-03-23T02:44:46.954Z"
   },
   {
    "duration": 0,
    "start_time": "2023-03-23T02:44:46.956Z"
   },
   {
    "duration": 0,
    "start_time": "2023-03-23T02:44:46.957Z"
   },
   {
    "duration": 0,
    "start_time": "2023-03-23T02:44:46.958Z"
   },
   {
    "duration": 0,
    "start_time": "2023-03-23T02:44:46.959Z"
   },
   {
    "duration": 76,
    "start_time": "2023-03-23T02:44:49.617Z"
   },
   {
    "duration": 11,
    "start_time": "2023-03-23T02:46:29.885Z"
   },
   {
    "duration": 3,
    "start_time": "2023-03-23T02:46:41.408Z"
   },
   {
    "duration": 51,
    "start_time": "2023-03-23T02:46:41.412Z"
   },
   {
    "duration": 13,
    "start_time": "2023-03-23T02:46:41.465Z"
   },
   {
    "duration": 6,
    "start_time": "2023-03-23T02:46:41.479Z"
   },
   {
    "duration": 8,
    "start_time": "2023-03-23T02:46:41.488Z"
   },
   {
    "duration": 37,
    "start_time": "2023-03-23T02:46:41.498Z"
   },
   {
    "duration": 7,
    "start_time": "2023-03-23T02:46:41.537Z"
   },
   {
    "duration": 4,
    "start_time": "2023-03-23T02:46:41.546Z"
   },
   {
    "duration": 4,
    "start_time": "2023-03-23T02:46:41.552Z"
   },
   {
    "duration": 6,
    "start_time": "2023-03-23T02:46:41.558Z"
   },
   {
    "duration": 5,
    "start_time": "2023-03-23T02:46:41.566Z"
   },
   {
    "duration": 143,
    "start_time": "2023-03-23T02:46:41.573Z"
   },
   {
    "duration": 27,
    "start_time": "2023-03-23T02:46:41.718Z"
   },
   {
    "duration": 3,
    "start_time": "2023-03-23T02:46:41.747Z"
   },
   {
    "duration": 7,
    "start_time": "2023-03-23T02:46:41.751Z"
   },
   {
    "duration": 255,
    "start_time": "2023-03-23T02:46:41.759Z"
   },
   {
    "duration": 24,
    "start_time": "2023-03-23T02:46:42.016Z"
   },
   {
    "duration": 24,
    "start_time": "2023-03-23T02:46:42.041Z"
   },
   {
    "duration": 13,
    "start_time": "2023-03-23T02:46:42.066Z"
   },
   {
    "duration": 289,
    "start_time": "2023-03-23T02:46:42.080Z"
   },
   {
    "duration": 6,
    "start_time": "2023-03-23T02:46:42.371Z"
   },
   {
    "duration": 25,
    "start_time": "2023-03-23T02:46:42.378Z"
   },
   {
    "duration": 0,
    "start_time": "2023-03-23T02:46:42.405Z"
   },
   {
    "duration": 0,
    "start_time": "2023-03-23T02:46:42.406Z"
   },
   {
    "duration": 0,
    "start_time": "2023-03-23T02:46:42.407Z"
   },
   {
    "duration": 0,
    "start_time": "2023-03-23T02:46:42.408Z"
   },
   {
    "duration": 0,
    "start_time": "2023-03-23T02:46:42.409Z"
   },
   {
    "duration": 0,
    "start_time": "2023-03-23T02:46:42.409Z"
   },
   {
    "duration": 0,
    "start_time": "2023-03-23T02:46:42.422Z"
   },
   {
    "duration": 0,
    "start_time": "2023-03-23T02:46:42.422Z"
   },
   {
    "duration": 0,
    "start_time": "2023-03-23T02:46:42.423Z"
   },
   {
    "duration": 0,
    "start_time": "2023-03-23T02:46:42.424Z"
   },
   {
    "duration": 0,
    "start_time": "2023-03-23T02:46:42.425Z"
   },
   {
    "duration": 0,
    "start_time": "2023-03-23T02:46:42.425Z"
   },
   {
    "duration": 0,
    "start_time": "2023-03-23T02:46:42.426Z"
   },
   {
    "duration": 0,
    "start_time": "2023-03-23T02:46:42.427Z"
   },
   {
    "duration": 0,
    "start_time": "2023-03-23T02:46:42.428Z"
   },
   {
    "duration": 0,
    "start_time": "2023-03-23T02:46:42.429Z"
   },
   {
    "duration": 0,
    "start_time": "2023-03-23T02:46:42.429Z"
   },
   {
    "duration": 0,
    "start_time": "2023-03-23T02:46:42.430Z"
   },
   {
    "duration": 0,
    "start_time": "2023-03-23T02:46:42.431Z"
   },
   {
    "duration": 0,
    "start_time": "2023-03-23T02:46:42.431Z"
   },
   {
    "duration": 0,
    "start_time": "2023-03-23T02:46:42.432Z"
   },
   {
    "duration": 0,
    "start_time": "2023-03-23T02:46:42.433Z"
   },
   {
    "duration": 0,
    "start_time": "2023-03-23T02:46:42.433Z"
   },
   {
    "duration": 0,
    "start_time": "2023-03-23T02:46:42.434Z"
   },
   {
    "duration": 0,
    "start_time": "2023-03-23T02:46:42.435Z"
   },
   {
    "duration": 0,
    "start_time": "2023-03-23T02:46:42.435Z"
   },
   {
    "duration": 0,
    "start_time": "2023-03-23T02:46:42.436Z"
   },
   {
    "duration": 0,
    "start_time": "2023-03-23T02:46:42.437Z"
   },
   {
    "duration": 0,
    "start_time": "2023-03-23T02:46:42.437Z"
   },
   {
    "duration": 0,
    "start_time": "2023-03-23T02:46:42.438Z"
   },
   {
    "duration": 0,
    "start_time": "2023-03-23T02:46:42.439Z"
   },
   {
    "duration": 0,
    "start_time": "2023-03-23T02:46:42.440Z"
   },
   {
    "duration": 0,
    "start_time": "2023-03-23T02:46:42.440Z"
   },
   {
    "duration": 0,
    "start_time": "2023-03-23T02:46:42.441Z"
   },
   {
    "duration": 0,
    "start_time": "2023-03-23T02:46:42.442Z"
   },
   {
    "duration": 0,
    "start_time": "2023-03-23T02:46:42.443Z"
   },
   {
    "duration": 0,
    "start_time": "2023-03-23T02:46:42.445Z"
   },
   {
    "duration": 0,
    "start_time": "2023-03-23T02:46:42.445Z"
   },
   {
    "duration": 0,
    "start_time": "2023-03-23T02:46:42.446Z"
   },
   {
    "duration": 15,
    "start_time": "2023-03-23T02:46:47.234Z"
   },
   {
    "duration": 8,
    "start_time": "2023-03-23T02:49:12.851Z"
   },
   {
    "duration": 9,
    "start_time": "2023-03-23T02:49:17.600Z"
   },
   {
    "duration": 1012,
    "start_time": "2023-03-23T02:51:34.380Z"
   },
   {
    "duration": 53,
    "start_time": "2023-03-23T02:51:35.394Z"
   },
   {
    "duration": 11,
    "start_time": "2023-03-23T02:51:35.449Z"
   },
   {
    "duration": 13,
    "start_time": "2023-03-23T02:51:35.462Z"
   },
   {
    "duration": 14,
    "start_time": "2023-03-23T02:51:35.477Z"
   },
   {
    "duration": 63,
    "start_time": "2023-03-23T02:51:35.493Z"
   },
   {
    "duration": 6,
    "start_time": "2023-03-23T02:51:35.557Z"
   },
   {
    "duration": 15,
    "start_time": "2023-03-23T02:51:35.564Z"
   },
   {
    "duration": 14,
    "start_time": "2023-03-23T02:51:35.581Z"
   },
   {
    "duration": 6,
    "start_time": "2023-03-23T02:51:35.597Z"
   },
   {
    "duration": 10,
    "start_time": "2023-03-23T02:51:35.604Z"
   },
   {
    "duration": 167,
    "start_time": "2023-03-23T02:51:35.616Z"
   },
   {
    "duration": 13,
    "start_time": "2023-03-23T02:51:35.785Z"
   },
   {
    "duration": 3,
    "start_time": "2023-03-23T02:51:35.800Z"
   },
   {
    "duration": 9,
    "start_time": "2023-03-23T02:51:35.804Z"
   },
   {
    "duration": 303,
    "start_time": "2023-03-23T02:51:35.814Z"
   },
   {
    "duration": 20,
    "start_time": "2023-03-23T02:51:36.118Z"
   },
   {
    "duration": 17,
    "start_time": "2023-03-23T02:51:36.139Z"
   },
   {
    "duration": 17,
    "start_time": "2023-03-23T02:51:36.158Z"
   },
   {
    "duration": 282,
    "start_time": "2023-03-23T02:51:36.176Z"
   },
   {
    "duration": 5,
    "start_time": "2023-03-23T02:51:36.460Z"
   },
   {
    "duration": 113,
    "start_time": "2023-03-23T02:51:36.467Z"
   },
   {
    "duration": 0,
    "start_time": "2023-03-23T02:51:36.582Z"
   },
   {
    "duration": 0,
    "start_time": "2023-03-23T02:51:36.583Z"
   },
   {
    "duration": 0,
    "start_time": "2023-03-23T02:51:36.584Z"
   },
   {
    "duration": 0,
    "start_time": "2023-03-23T02:51:36.585Z"
   },
   {
    "duration": 0,
    "start_time": "2023-03-23T02:51:36.586Z"
   },
   {
    "duration": 0,
    "start_time": "2023-03-23T02:51:36.586Z"
   },
   {
    "duration": 0,
    "start_time": "2023-03-23T02:51:36.587Z"
   },
   {
    "duration": 0,
    "start_time": "2023-03-23T02:51:36.588Z"
   },
   {
    "duration": 0,
    "start_time": "2023-03-23T02:51:36.589Z"
   },
   {
    "duration": 0,
    "start_time": "2023-03-23T02:51:36.589Z"
   },
   {
    "duration": 0,
    "start_time": "2023-03-23T02:51:36.590Z"
   },
   {
    "duration": 0,
    "start_time": "2023-03-23T02:51:36.591Z"
   },
   {
    "duration": 0,
    "start_time": "2023-03-23T02:51:36.592Z"
   },
   {
    "duration": 0,
    "start_time": "2023-03-23T02:51:36.593Z"
   },
   {
    "duration": 0,
    "start_time": "2023-03-23T02:51:36.594Z"
   },
   {
    "duration": 0,
    "start_time": "2023-03-23T02:51:36.594Z"
   },
   {
    "duration": 0,
    "start_time": "2023-03-23T02:51:36.595Z"
   },
   {
    "duration": 0,
    "start_time": "2023-03-23T02:51:36.596Z"
   },
   {
    "duration": 0,
    "start_time": "2023-03-23T02:51:36.622Z"
   },
   {
    "duration": 0,
    "start_time": "2023-03-23T02:51:36.623Z"
   },
   {
    "duration": 0,
    "start_time": "2023-03-23T02:51:36.624Z"
   },
   {
    "duration": 0,
    "start_time": "2023-03-23T02:51:36.632Z"
   },
   {
    "duration": 0,
    "start_time": "2023-03-23T02:51:36.632Z"
   },
   {
    "duration": 0,
    "start_time": "2023-03-23T02:51:36.633Z"
   },
   {
    "duration": 0,
    "start_time": "2023-03-23T02:51:36.633Z"
   },
   {
    "duration": 0,
    "start_time": "2023-03-23T02:51:36.634Z"
   },
   {
    "duration": 0,
    "start_time": "2023-03-23T02:51:36.634Z"
   },
   {
    "duration": 0,
    "start_time": "2023-03-23T02:51:36.634Z"
   },
   {
    "duration": 0,
    "start_time": "2023-03-23T02:51:36.635Z"
   },
   {
    "duration": 0,
    "start_time": "2023-03-23T02:51:36.636Z"
   },
   {
    "duration": 0,
    "start_time": "2023-03-23T02:51:36.636Z"
   },
   {
    "duration": 0,
    "start_time": "2023-03-23T02:51:36.643Z"
   },
   {
    "duration": 0,
    "start_time": "2023-03-23T02:51:36.644Z"
   },
   {
    "duration": 0,
    "start_time": "2023-03-23T02:51:36.645Z"
   },
   {
    "duration": 0,
    "start_time": "2023-03-23T02:51:36.646Z"
   },
   {
    "duration": 0,
    "start_time": "2023-03-23T02:51:36.648Z"
   },
   {
    "duration": 0,
    "start_time": "2023-03-23T02:51:36.648Z"
   },
   {
    "duration": 1,
    "start_time": "2023-03-23T02:51:36.649Z"
   },
   {
    "duration": 0,
    "start_time": "2023-03-23T02:51:36.650Z"
   },
   {
    "duration": 4,
    "start_time": "2023-03-23T02:51:38.809Z"
   },
   {
    "duration": 87,
    "start_time": "2023-03-23T02:51:38.815Z"
   },
   {
    "duration": 17,
    "start_time": "2023-03-23T02:51:38.903Z"
   },
   {
    "duration": 18,
    "start_time": "2023-03-23T02:51:38.922Z"
   },
   {
    "duration": 13,
    "start_time": "2023-03-23T02:51:38.942Z"
   },
   {
    "duration": 13,
    "start_time": "2023-03-23T02:51:38.956Z"
   },
   {
    "duration": 6,
    "start_time": "2023-03-23T02:51:38.970Z"
   },
   {
    "duration": 5,
    "start_time": "2023-03-23T02:51:38.977Z"
   },
   {
    "duration": 6,
    "start_time": "2023-03-23T02:51:38.984Z"
   },
   {
    "duration": 6,
    "start_time": "2023-03-23T02:51:38.992Z"
   },
   {
    "duration": 32,
    "start_time": "2023-03-23T02:51:38.999Z"
   },
   {
    "duration": 140,
    "start_time": "2023-03-23T02:51:39.039Z"
   },
   {
    "duration": 16,
    "start_time": "2023-03-23T02:51:39.182Z"
   },
   {
    "duration": 12,
    "start_time": "2023-03-23T02:51:39.201Z"
   },
   {
    "duration": 39,
    "start_time": "2023-03-23T02:51:39.215Z"
   },
   {
    "duration": 241,
    "start_time": "2023-03-23T02:51:39.256Z"
   },
   {
    "duration": 41,
    "start_time": "2023-03-23T02:51:39.499Z"
   },
   {
    "duration": 4,
    "start_time": "2023-03-23T02:51:39.542Z"
   },
   {
    "duration": 11,
    "start_time": "2023-03-23T02:51:39.548Z"
   },
   {
    "duration": 308,
    "start_time": "2023-03-23T02:51:39.561Z"
   },
   {
    "duration": 7,
    "start_time": "2023-03-23T02:51:39.871Z"
   },
   {
    "duration": 15,
    "start_time": "2023-03-23T02:51:39.880Z"
   },
   {
    "duration": 0,
    "start_time": "2023-03-23T02:51:39.898Z"
   },
   {
    "duration": 0,
    "start_time": "2023-03-23T02:51:39.899Z"
   },
   {
    "duration": 0,
    "start_time": "2023-03-23T02:51:39.900Z"
   },
   {
    "duration": 0,
    "start_time": "2023-03-23T02:51:39.901Z"
   },
   {
    "duration": 0,
    "start_time": "2023-03-23T02:51:39.903Z"
   },
   {
    "duration": 0,
    "start_time": "2023-03-23T02:51:39.904Z"
   },
   {
    "duration": 0,
    "start_time": "2023-03-23T02:51:39.905Z"
   },
   {
    "duration": 0,
    "start_time": "2023-03-23T02:51:39.906Z"
   },
   {
    "duration": 1,
    "start_time": "2023-03-23T02:51:39.921Z"
   },
   {
    "duration": 0,
    "start_time": "2023-03-23T02:51:39.922Z"
   },
   {
    "duration": 0,
    "start_time": "2023-03-23T02:51:39.923Z"
   },
   {
    "duration": 0,
    "start_time": "2023-03-23T02:51:39.930Z"
   },
   {
    "duration": 0,
    "start_time": "2023-03-23T02:51:39.931Z"
   },
   {
    "duration": 0,
    "start_time": "2023-03-23T02:51:39.932Z"
   },
   {
    "duration": 0,
    "start_time": "2023-03-23T02:51:39.932Z"
   },
   {
    "duration": 0,
    "start_time": "2023-03-23T02:51:39.933Z"
   },
   {
    "duration": 0,
    "start_time": "2023-03-23T02:51:39.934Z"
   },
   {
    "duration": 0,
    "start_time": "2023-03-23T02:51:39.935Z"
   },
   {
    "duration": 0,
    "start_time": "2023-03-23T02:51:39.986Z"
   },
   {
    "duration": 0,
    "start_time": "2023-03-23T02:51:39.987Z"
   },
   {
    "duration": 0,
    "start_time": "2023-03-23T02:51:39.988Z"
   },
   {
    "duration": 0,
    "start_time": "2023-03-23T02:51:40.035Z"
   },
   {
    "duration": 0,
    "start_time": "2023-03-23T02:51:40.036Z"
   },
   {
    "duration": 0,
    "start_time": "2023-03-23T02:51:40.036Z"
   },
   {
    "duration": 0,
    "start_time": "2023-03-23T02:51:40.037Z"
   },
   {
    "duration": 0,
    "start_time": "2023-03-23T02:51:40.037Z"
   },
   {
    "duration": 0,
    "start_time": "2023-03-23T02:51:40.038Z"
   },
   {
    "duration": 0,
    "start_time": "2023-03-23T02:51:40.038Z"
   },
   {
    "duration": 0,
    "start_time": "2023-03-23T02:51:40.039Z"
   },
   {
    "duration": 0,
    "start_time": "2023-03-23T02:51:40.039Z"
   },
   {
    "duration": 0,
    "start_time": "2023-03-23T02:51:40.040Z"
   },
   {
    "duration": 0,
    "start_time": "2023-03-23T02:51:40.044Z"
   },
   {
    "duration": 0,
    "start_time": "2023-03-23T02:51:40.045Z"
   },
   {
    "duration": 0,
    "start_time": "2023-03-23T02:51:40.046Z"
   },
   {
    "duration": 0,
    "start_time": "2023-03-23T02:51:40.047Z"
   },
   {
    "duration": 0,
    "start_time": "2023-03-23T02:51:40.048Z"
   },
   {
    "duration": 0,
    "start_time": "2023-03-23T02:51:40.049Z"
   },
   {
    "duration": 0,
    "start_time": "2023-03-23T02:51:40.049Z"
   },
   {
    "duration": 0,
    "start_time": "2023-03-23T02:51:40.051Z"
   },
   {
    "duration": 74,
    "start_time": "2023-03-23T02:51:45.842Z"
   },
   {
    "duration": 5,
    "start_time": "2023-03-23T02:52:45.563Z"
   },
   {
    "duration": 86,
    "start_time": "2023-03-23T02:53:05.022Z"
   },
   {
    "duration": 5,
    "start_time": "2023-03-23T02:53:17.714Z"
   },
   {
    "duration": 77,
    "start_time": "2023-03-23T02:53:51.604Z"
   },
   {
    "duration": 3,
    "start_time": "2023-03-23T02:56:58.544Z"
   },
   {
    "duration": 57,
    "start_time": "2023-03-23T02:56:58.551Z"
   },
   {
    "duration": 15,
    "start_time": "2023-03-23T02:56:58.610Z"
   },
   {
    "duration": 17,
    "start_time": "2023-03-23T02:56:58.626Z"
   },
   {
    "duration": 10,
    "start_time": "2023-03-23T02:56:58.645Z"
   },
   {
    "duration": 21,
    "start_time": "2023-03-23T02:56:58.656Z"
   },
   {
    "duration": 6,
    "start_time": "2023-03-23T02:56:58.678Z"
   },
   {
    "duration": 5,
    "start_time": "2023-03-23T02:56:58.685Z"
   },
   {
    "duration": 5,
    "start_time": "2023-03-23T02:56:58.691Z"
   },
   {
    "duration": 4,
    "start_time": "2023-03-23T02:56:58.697Z"
   },
   {
    "duration": 4,
    "start_time": "2023-03-23T02:56:58.704Z"
   },
   {
    "duration": 160,
    "start_time": "2023-03-23T02:56:58.710Z"
   },
   {
    "duration": 13,
    "start_time": "2023-03-23T02:56:58.871Z"
   },
   {
    "duration": 2,
    "start_time": "2023-03-23T02:56:58.886Z"
   },
   {
    "duration": 7,
    "start_time": "2023-03-23T02:56:58.890Z"
   },
   {
    "duration": 260,
    "start_time": "2023-03-23T02:56:58.900Z"
   },
   {
    "duration": 15,
    "start_time": "2023-03-23T02:56:59.161Z"
   },
   {
    "duration": 5,
    "start_time": "2023-03-23T02:56:59.178Z"
   },
   {
    "duration": 10,
    "start_time": "2023-03-23T02:56:59.184Z"
   },
   {
    "duration": 313,
    "start_time": "2023-03-23T02:56:59.195Z"
   },
   {
    "duration": 5,
    "start_time": "2023-03-23T02:56:59.510Z"
   },
   {
    "duration": 25,
    "start_time": "2023-03-23T02:56:59.516Z"
   },
   {
    "duration": 0,
    "start_time": "2023-03-23T02:56:59.545Z"
   },
   {
    "duration": 0,
    "start_time": "2023-03-23T02:56:59.546Z"
   },
   {
    "duration": 0,
    "start_time": "2023-03-23T02:56:59.547Z"
   },
   {
    "duration": 0,
    "start_time": "2023-03-23T02:56:59.548Z"
   },
   {
    "duration": 0,
    "start_time": "2023-03-23T02:56:59.550Z"
   },
   {
    "duration": 0,
    "start_time": "2023-03-23T02:56:59.551Z"
   },
   {
    "duration": 0,
    "start_time": "2023-03-23T02:56:59.552Z"
   },
   {
    "duration": 0,
    "start_time": "2023-03-23T02:56:59.553Z"
   },
   {
    "duration": 0,
    "start_time": "2023-03-23T02:56:59.554Z"
   },
   {
    "duration": 0,
    "start_time": "2023-03-23T02:56:59.555Z"
   },
   {
    "duration": 0,
    "start_time": "2023-03-23T02:56:59.556Z"
   },
   {
    "duration": 0,
    "start_time": "2023-03-23T02:56:59.557Z"
   },
   {
    "duration": 0,
    "start_time": "2023-03-23T02:56:59.559Z"
   },
   {
    "duration": 0,
    "start_time": "2023-03-23T02:56:59.560Z"
   },
   {
    "duration": 0,
    "start_time": "2023-03-23T02:56:59.561Z"
   },
   {
    "duration": 0,
    "start_time": "2023-03-23T02:56:59.562Z"
   },
   {
    "duration": 0,
    "start_time": "2023-03-23T02:56:59.562Z"
   },
   {
    "duration": 0,
    "start_time": "2023-03-23T02:56:59.563Z"
   },
   {
    "duration": 0,
    "start_time": "2023-03-23T02:56:59.565Z"
   },
   {
    "duration": 0,
    "start_time": "2023-03-23T02:56:59.565Z"
   },
   {
    "duration": 0,
    "start_time": "2023-03-23T02:56:59.566Z"
   },
   {
    "duration": 0,
    "start_time": "2023-03-23T02:56:59.567Z"
   },
   {
    "duration": 0,
    "start_time": "2023-03-23T02:56:59.568Z"
   },
   {
    "duration": 0,
    "start_time": "2023-03-23T02:56:59.569Z"
   },
   {
    "duration": 0,
    "start_time": "2023-03-23T02:56:59.570Z"
   },
   {
    "duration": 0,
    "start_time": "2023-03-23T02:56:59.571Z"
   },
   {
    "duration": 0,
    "start_time": "2023-03-23T02:56:59.573Z"
   },
   {
    "duration": 0,
    "start_time": "2023-03-23T02:56:59.574Z"
   },
   {
    "duration": 0,
    "start_time": "2023-03-23T02:56:59.577Z"
   },
   {
    "duration": 0,
    "start_time": "2023-03-23T02:56:59.578Z"
   },
   {
    "duration": 0,
    "start_time": "2023-03-23T02:56:59.579Z"
   },
   {
    "duration": 0,
    "start_time": "2023-03-23T02:56:59.624Z"
   },
   {
    "duration": 0,
    "start_time": "2023-03-23T02:56:59.625Z"
   },
   {
    "duration": 0,
    "start_time": "2023-03-23T02:56:59.626Z"
   },
   {
    "duration": 0,
    "start_time": "2023-03-23T02:56:59.626Z"
   },
   {
    "duration": 0,
    "start_time": "2023-03-23T02:56:59.627Z"
   },
   {
    "duration": 0,
    "start_time": "2023-03-23T02:56:59.627Z"
   },
   {
    "duration": 0,
    "start_time": "2023-03-23T02:56:59.628Z"
   },
   {
    "duration": 0,
    "start_time": "2023-03-23T02:56:59.629Z"
   },
   {
    "duration": 80,
    "start_time": "2023-03-23T02:57:04.771Z"
   },
   {
    "duration": 3,
    "start_time": "2023-03-23T02:59:40.402Z"
   },
   {
    "duration": 67,
    "start_time": "2023-03-23T02:59:40.407Z"
   },
   {
    "duration": 13,
    "start_time": "2023-03-23T02:59:40.476Z"
   },
   {
    "duration": 4,
    "start_time": "2023-03-23T02:59:40.491Z"
   },
   {
    "duration": 9,
    "start_time": "2023-03-23T02:59:40.497Z"
   },
   {
    "duration": 29,
    "start_time": "2023-03-23T02:59:40.507Z"
   },
   {
    "duration": 6,
    "start_time": "2023-03-23T02:59:40.537Z"
   },
   {
    "duration": 7,
    "start_time": "2023-03-23T02:59:40.545Z"
   },
   {
    "duration": 5,
    "start_time": "2023-03-23T02:59:40.553Z"
   },
   {
    "duration": 12,
    "start_time": "2023-03-23T02:59:40.560Z"
   },
   {
    "duration": 17,
    "start_time": "2023-03-23T02:59:40.574Z"
   },
   {
    "duration": 160,
    "start_time": "2023-03-23T02:59:40.593Z"
   },
   {
    "duration": 15,
    "start_time": "2023-03-23T02:59:40.755Z"
   },
   {
    "duration": 3,
    "start_time": "2023-03-23T02:59:40.772Z"
   },
   {
    "duration": 7,
    "start_time": "2023-03-23T02:59:40.777Z"
   },
   {
    "duration": 282,
    "start_time": "2023-03-23T02:59:40.786Z"
   },
   {
    "duration": 18,
    "start_time": "2023-03-23T02:59:41.069Z"
   },
   {
    "duration": 4,
    "start_time": "2023-03-23T02:59:41.088Z"
   },
   {
    "duration": 11,
    "start_time": "2023-03-23T02:59:41.093Z"
   },
   {
    "duration": 284,
    "start_time": "2023-03-23T02:59:41.131Z"
   },
   {
    "duration": 24,
    "start_time": "2023-03-23T02:59:41.416Z"
   },
   {
    "duration": 14,
    "start_time": "2023-03-23T02:59:41.442Z"
   },
   {
    "duration": 0,
    "start_time": "2023-03-23T02:59:41.459Z"
   },
   {
    "duration": 0,
    "start_time": "2023-03-23T02:59:41.460Z"
   },
   {
    "duration": 0,
    "start_time": "2023-03-23T02:59:41.461Z"
   },
   {
    "duration": 0,
    "start_time": "2023-03-23T02:59:41.462Z"
   },
   {
    "duration": 0,
    "start_time": "2023-03-23T02:59:41.463Z"
   },
   {
    "duration": 0,
    "start_time": "2023-03-23T02:59:41.464Z"
   },
   {
    "duration": 0,
    "start_time": "2023-03-23T02:59:41.464Z"
   },
   {
    "duration": 0,
    "start_time": "2023-03-23T02:59:41.465Z"
   },
   {
    "duration": 0,
    "start_time": "2023-03-23T02:59:41.466Z"
   },
   {
    "duration": 0,
    "start_time": "2023-03-23T02:59:41.467Z"
   },
   {
    "duration": 0,
    "start_time": "2023-03-23T02:59:41.468Z"
   },
   {
    "duration": 0,
    "start_time": "2023-03-23T02:59:41.468Z"
   },
   {
    "duration": 0,
    "start_time": "2023-03-23T02:59:41.469Z"
   },
   {
    "duration": 0,
    "start_time": "2023-03-23T02:59:41.470Z"
   },
   {
    "duration": 0,
    "start_time": "2023-03-23T02:59:41.471Z"
   },
   {
    "duration": 0,
    "start_time": "2023-03-23T02:59:41.472Z"
   },
   {
    "duration": 0,
    "start_time": "2023-03-23T02:59:41.473Z"
   },
   {
    "duration": 0,
    "start_time": "2023-03-23T02:59:41.474Z"
   },
   {
    "duration": 0,
    "start_time": "2023-03-23T02:59:41.474Z"
   },
   {
    "duration": 0,
    "start_time": "2023-03-23T02:59:41.475Z"
   },
   {
    "duration": 0,
    "start_time": "2023-03-23T02:59:41.476Z"
   },
   {
    "duration": 0,
    "start_time": "2023-03-23T02:59:41.477Z"
   },
   {
    "duration": 0,
    "start_time": "2023-03-23T02:59:41.478Z"
   },
   {
    "duration": 0,
    "start_time": "2023-03-23T02:59:41.479Z"
   },
   {
    "duration": 0,
    "start_time": "2023-03-23T02:59:41.480Z"
   },
   {
    "duration": 0,
    "start_time": "2023-03-23T02:59:41.481Z"
   },
   {
    "duration": 0,
    "start_time": "2023-03-23T02:59:41.482Z"
   },
   {
    "duration": 0,
    "start_time": "2023-03-23T02:59:41.482Z"
   },
   {
    "duration": 0,
    "start_time": "2023-03-23T02:59:41.483Z"
   },
   {
    "duration": 0,
    "start_time": "2023-03-23T02:59:41.528Z"
   },
   {
    "duration": 0,
    "start_time": "2023-03-23T02:59:41.529Z"
   },
   {
    "duration": 0,
    "start_time": "2023-03-23T02:59:41.529Z"
   },
   {
    "duration": 0,
    "start_time": "2023-03-23T02:59:41.530Z"
   },
   {
    "duration": 0,
    "start_time": "2023-03-23T02:59:41.531Z"
   },
   {
    "duration": 0,
    "start_time": "2023-03-23T02:59:41.532Z"
   },
   {
    "duration": 0,
    "start_time": "2023-03-23T02:59:41.533Z"
   },
   {
    "duration": 0,
    "start_time": "2023-03-23T02:59:41.533Z"
   },
   {
    "duration": 0,
    "start_time": "2023-03-23T02:59:41.534Z"
   },
   {
    "duration": 0,
    "start_time": "2023-03-23T02:59:41.534Z"
   },
   {
    "duration": 84,
    "start_time": "2023-03-23T02:59:43.503Z"
   },
   {
    "duration": 85,
    "start_time": "2023-03-23T03:01:53.263Z"
   },
   {
    "duration": 87,
    "start_time": "2023-03-23T03:03:50.180Z"
   },
   {
    "duration": 76,
    "start_time": "2023-03-23T03:04:30.242Z"
   },
   {
    "duration": 3,
    "start_time": "2023-03-23T03:06:34.594Z"
   },
   {
    "duration": 77,
    "start_time": "2023-03-23T03:06:34.602Z"
   },
   {
    "duration": 16,
    "start_time": "2023-03-23T03:06:34.681Z"
   },
   {
    "duration": 3,
    "start_time": "2023-03-23T03:06:34.699Z"
   },
   {
    "duration": 19,
    "start_time": "2023-03-23T03:06:34.704Z"
   },
   {
    "duration": 48,
    "start_time": "2023-03-23T03:06:34.726Z"
   },
   {
    "duration": 6,
    "start_time": "2023-03-23T03:06:34.776Z"
   },
   {
    "duration": 9,
    "start_time": "2023-03-23T03:06:34.784Z"
   },
   {
    "duration": 7,
    "start_time": "2023-03-23T03:06:34.795Z"
   },
   {
    "duration": 8,
    "start_time": "2023-03-23T03:06:34.803Z"
   },
   {
    "duration": 37,
    "start_time": "2023-03-23T03:06:34.813Z"
   },
   {
    "duration": 213,
    "start_time": "2023-03-23T03:06:34.854Z"
   },
   {
    "duration": 19,
    "start_time": "2023-03-23T03:06:35.069Z"
   },
   {
    "duration": 7,
    "start_time": "2023-03-23T03:06:35.089Z"
   },
   {
    "duration": 31,
    "start_time": "2023-03-23T03:06:35.099Z"
   },
   {
    "duration": 274,
    "start_time": "2023-03-23T03:06:35.131Z"
   },
   {
    "duration": 36,
    "start_time": "2023-03-23T03:06:35.407Z"
   },
   {
    "duration": 4,
    "start_time": "2023-03-23T03:06:35.444Z"
   },
   {
    "duration": 10,
    "start_time": "2023-03-23T03:06:35.450Z"
   },
   {
    "duration": 342,
    "start_time": "2023-03-23T03:06:35.462Z"
   },
   {
    "duration": 6,
    "start_time": "2023-03-23T03:06:35.805Z"
   },
   {
    "duration": 28,
    "start_time": "2023-03-23T03:06:35.813Z"
   },
   {
    "duration": 1,
    "start_time": "2023-03-23T03:06:35.843Z"
   },
   {
    "duration": 0,
    "start_time": "2023-03-23T03:06:35.846Z"
   },
   {
    "duration": 0,
    "start_time": "2023-03-23T03:06:35.848Z"
   },
   {
    "duration": 0,
    "start_time": "2023-03-23T03:06:35.849Z"
   },
   {
    "duration": 0,
    "start_time": "2023-03-23T03:06:35.850Z"
   },
   {
    "duration": 0,
    "start_time": "2023-03-23T03:06:35.851Z"
   },
   {
    "duration": 0,
    "start_time": "2023-03-23T03:06:35.853Z"
   },
   {
    "duration": 0,
    "start_time": "2023-03-23T03:06:35.853Z"
   },
   {
    "duration": 0,
    "start_time": "2023-03-23T03:06:35.854Z"
   },
   {
    "duration": 0,
    "start_time": "2023-03-23T03:06:35.856Z"
   },
   {
    "duration": 0,
    "start_time": "2023-03-23T03:06:35.857Z"
   },
   {
    "duration": 0,
    "start_time": "2023-03-23T03:06:35.858Z"
   },
   {
    "duration": 0,
    "start_time": "2023-03-23T03:06:35.859Z"
   },
   {
    "duration": 0,
    "start_time": "2023-03-23T03:06:35.860Z"
   },
   {
    "duration": 0,
    "start_time": "2023-03-23T03:06:35.862Z"
   },
   {
    "duration": 0,
    "start_time": "2023-03-23T03:06:35.863Z"
   },
   {
    "duration": 0,
    "start_time": "2023-03-23T03:06:35.864Z"
   },
   {
    "duration": 0,
    "start_time": "2023-03-23T03:06:35.865Z"
   },
   {
    "duration": 0,
    "start_time": "2023-03-23T03:06:35.867Z"
   },
   {
    "duration": 0,
    "start_time": "2023-03-23T03:06:35.868Z"
   },
   {
    "duration": 0,
    "start_time": "2023-03-23T03:06:35.870Z"
   },
   {
    "duration": 0,
    "start_time": "2023-03-23T03:06:35.870Z"
   },
   {
    "duration": 0,
    "start_time": "2023-03-23T03:06:35.872Z"
   },
   {
    "duration": 0,
    "start_time": "2023-03-23T03:06:35.873Z"
   },
   {
    "duration": 0,
    "start_time": "2023-03-23T03:06:35.874Z"
   },
   {
    "duration": 0,
    "start_time": "2023-03-23T03:06:35.875Z"
   },
   {
    "duration": 0,
    "start_time": "2023-03-23T03:06:35.876Z"
   },
   {
    "duration": 0,
    "start_time": "2023-03-23T03:06:35.877Z"
   },
   {
    "duration": 0,
    "start_time": "2023-03-23T03:06:35.932Z"
   },
   {
    "duration": 0,
    "start_time": "2023-03-23T03:06:35.934Z"
   },
   {
    "duration": 0,
    "start_time": "2023-03-23T03:06:35.935Z"
   },
   {
    "duration": 0,
    "start_time": "2023-03-23T03:06:35.936Z"
   },
   {
    "duration": 0,
    "start_time": "2023-03-23T03:06:35.937Z"
   },
   {
    "duration": 0,
    "start_time": "2023-03-23T03:06:35.937Z"
   },
   {
    "duration": 0,
    "start_time": "2023-03-23T03:06:35.938Z"
   },
   {
    "duration": 0,
    "start_time": "2023-03-23T03:06:35.939Z"
   },
   {
    "duration": 0,
    "start_time": "2023-03-23T03:06:35.940Z"
   },
   {
    "duration": 0,
    "start_time": "2023-03-23T03:06:35.941Z"
   },
   {
    "duration": 0,
    "start_time": "2023-03-23T03:06:35.942Z"
   },
   {
    "duration": 0,
    "start_time": "2023-03-23T03:06:35.943Z"
   },
   {
    "duration": 103,
    "start_time": "2023-03-23T03:06:41.960Z"
   },
   {
    "duration": 95,
    "start_time": "2023-03-23T03:06:45.448Z"
   },
   {
    "duration": 6,
    "start_time": "2023-03-23T03:09:03.538Z"
   },
   {
    "duration": 6,
    "start_time": "2023-03-23T03:09:39.871Z"
   },
   {
    "duration": 1089,
    "start_time": "2023-03-23T03:09:48.961Z"
   },
   {
    "duration": 49,
    "start_time": "2023-03-23T03:09:50.052Z"
   },
   {
    "duration": 15,
    "start_time": "2023-03-23T03:09:50.102Z"
   },
   {
    "duration": 3,
    "start_time": "2023-03-23T03:09:50.118Z"
   },
   {
    "duration": 19,
    "start_time": "2023-03-23T03:09:50.141Z"
   },
   {
    "duration": 80,
    "start_time": "2023-03-23T03:09:50.161Z"
   },
   {
    "duration": 6,
    "start_time": "2023-03-23T03:09:50.243Z"
   },
   {
    "duration": 11,
    "start_time": "2023-03-23T03:09:50.250Z"
   },
   {
    "duration": 9,
    "start_time": "2023-03-23T03:09:50.263Z"
   },
   {
    "duration": 6,
    "start_time": "2023-03-23T03:09:50.274Z"
   },
   {
    "duration": 12,
    "start_time": "2023-03-23T03:09:50.281Z"
   },
   {
    "duration": 158,
    "start_time": "2023-03-23T03:09:50.294Z"
   },
   {
    "duration": 14,
    "start_time": "2023-03-23T03:09:50.454Z"
   },
   {
    "duration": 3,
    "start_time": "2023-03-23T03:09:50.470Z"
   },
   {
    "duration": 8,
    "start_time": "2023-03-23T03:09:50.474Z"
   },
   {
    "duration": 317,
    "start_time": "2023-03-23T03:09:50.484Z"
   },
   {
    "duration": 17,
    "start_time": "2023-03-23T03:09:50.802Z"
   },
   {
    "duration": 29,
    "start_time": "2023-03-23T03:09:50.821Z"
   },
   {
    "duration": 16,
    "start_time": "2023-03-23T03:09:50.851Z"
   },
   {
    "duration": 318,
    "start_time": "2023-03-23T03:09:50.868Z"
   },
   {
    "duration": 6,
    "start_time": "2023-03-23T03:09:51.187Z"
   },
   {
    "duration": 121,
    "start_time": "2023-03-23T03:09:51.194Z"
   },
   {
    "duration": 0,
    "start_time": "2023-03-23T03:09:51.317Z"
   },
   {
    "duration": 0,
    "start_time": "2023-03-23T03:09:51.319Z"
   },
   {
    "duration": 0,
    "start_time": "2023-03-23T03:09:51.320Z"
   },
   {
    "duration": 0,
    "start_time": "2023-03-23T03:09:51.320Z"
   },
   {
    "duration": 0,
    "start_time": "2023-03-23T03:09:51.324Z"
   },
   {
    "duration": 0,
    "start_time": "2023-03-23T03:09:51.324Z"
   },
   {
    "duration": 0,
    "start_time": "2023-03-23T03:09:51.325Z"
   },
   {
    "duration": 1,
    "start_time": "2023-03-23T03:09:51.325Z"
   },
   {
    "duration": 0,
    "start_time": "2023-03-23T03:09:51.326Z"
   },
   {
    "duration": 0,
    "start_time": "2023-03-23T03:09:51.327Z"
   },
   {
    "duration": 0,
    "start_time": "2023-03-23T03:09:51.327Z"
   },
   {
    "duration": 0,
    "start_time": "2023-03-23T03:09:51.329Z"
   },
   {
    "duration": 0,
    "start_time": "2023-03-23T03:09:51.330Z"
   },
   {
    "duration": 0,
    "start_time": "2023-03-23T03:09:51.330Z"
   },
   {
    "duration": 0,
    "start_time": "2023-03-23T03:09:51.331Z"
   },
   {
    "duration": 0,
    "start_time": "2023-03-23T03:09:51.331Z"
   },
   {
    "duration": 0,
    "start_time": "2023-03-23T03:09:51.332Z"
   },
   {
    "duration": 0,
    "start_time": "2023-03-23T03:09:51.333Z"
   },
   {
    "duration": 0,
    "start_time": "2023-03-23T03:09:51.333Z"
   },
   {
    "duration": 0,
    "start_time": "2023-03-23T03:09:51.334Z"
   },
   {
    "duration": 0,
    "start_time": "2023-03-23T03:09:51.334Z"
   },
   {
    "duration": 0,
    "start_time": "2023-03-23T03:09:51.335Z"
   },
   {
    "duration": 0,
    "start_time": "2023-03-23T03:09:51.335Z"
   },
   {
    "duration": 0,
    "start_time": "2023-03-23T03:09:51.339Z"
   },
   {
    "duration": 0,
    "start_time": "2023-03-23T03:09:51.343Z"
   },
   {
    "duration": 0,
    "start_time": "2023-03-23T03:09:51.344Z"
   },
   {
    "duration": 0,
    "start_time": "2023-03-23T03:09:51.345Z"
   },
   {
    "duration": 0,
    "start_time": "2023-03-23T03:09:51.346Z"
   },
   {
    "duration": 0,
    "start_time": "2023-03-23T03:09:51.347Z"
   },
   {
    "duration": 0,
    "start_time": "2023-03-23T03:09:51.347Z"
   },
   {
    "duration": 0,
    "start_time": "2023-03-23T03:09:51.349Z"
   },
   {
    "duration": 0,
    "start_time": "2023-03-23T03:09:51.350Z"
   },
   {
    "duration": 0,
    "start_time": "2023-03-23T03:09:51.351Z"
   },
   {
    "duration": 0,
    "start_time": "2023-03-23T03:09:51.351Z"
   },
   {
    "duration": 0,
    "start_time": "2023-03-23T03:09:51.352Z"
   },
   {
    "duration": 0,
    "start_time": "2023-03-23T03:09:51.353Z"
   },
   {
    "duration": 0,
    "start_time": "2023-03-23T03:09:51.354Z"
   },
   {
    "duration": 0,
    "start_time": "2023-03-23T03:09:51.355Z"
   },
   {
    "duration": 0,
    "start_time": "2023-03-23T03:09:51.355Z"
   },
   {
    "duration": 0,
    "start_time": "2023-03-23T03:09:51.357Z"
   },
   {
    "duration": 4,
    "start_time": "2023-03-23T03:09:52.115Z"
   },
   {
    "duration": 3,
    "start_time": "2023-03-23T03:12:06.580Z"
   },
   {
    "duration": 63,
    "start_time": "2023-03-23T03:12:06.585Z"
   },
   {
    "duration": 17,
    "start_time": "2023-03-23T03:12:06.650Z"
   },
   {
    "duration": 3,
    "start_time": "2023-03-23T03:12:06.669Z"
   },
   {
    "duration": 15,
    "start_time": "2023-03-23T03:12:06.674Z"
   },
   {
    "duration": 33,
    "start_time": "2023-03-23T03:12:06.690Z"
   },
   {
    "duration": 6,
    "start_time": "2023-03-23T03:12:06.725Z"
   },
   {
    "duration": 6,
    "start_time": "2023-03-23T03:12:06.733Z"
   },
   {
    "duration": 11,
    "start_time": "2023-03-23T03:12:06.740Z"
   },
   {
    "duration": 19,
    "start_time": "2023-03-23T03:12:06.752Z"
   },
   {
    "duration": 5,
    "start_time": "2023-03-23T03:12:06.772Z"
   },
   {
    "duration": 176,
    "start_time": "2023-03-23T03:12:06.779Z"
   },
   {
    "duration": 15,
    "start_time": "2023-03-23T03:12:06.957Z"
   },
   {
    "duration": 4,
    "start_time": "2023-03-23T03:12:06.975Z"
   },
   {
    "duration": 9,
    "start_time": "2023-03-23T03:12:06.981Z"
   },
   {
    "duration": 248,
    "start_time": "2023-03-23T03:12:06.991Z"
   },
   {
    "duration": 16,
    "start_time": "2023-03-23T03:12:07.241Z"
   },
   {
    "duration": 4,
    "start_time": "2023-03-23T03:12:07.258Z"
   },
   {
    "duration": 29,
    "start_time": "2023-03-23T03:12:07.264Z"
   },
   {
    "duration": 282,
    "start_time": "2023-03-23T03:12:07.295Z"
   },
   {
    "duration": 6,
    "start_time": "2023-03-23T03:12:07.579Z"
   },
   {
    "duration": 13,
    "start_time": "2023-03-23T03:12:07.587Z"
   },
   {
    "duration": 0,
    "start_time": "2023-03-23T03:12:07.602Z"
   },
   {
    "duration": 0,
    "start_time": "2023-03-23T03:12:07.604Z"
   },
   {
    "duration": 0,
    "start_time": "2023-03-23T03:12:07.623Z"
   },
   {
    "duration": 0,
    "start_time": "2023-03-23T03:12:07.624Z"
   },
   {
    "duration": 0,
    "start_time": "2023-03-23T03:12:07.625Z"
   },
   {
    "duration": 0,
    "start_time": "2023-03-23T03:12:07.627Z"
   },
   {
    "duration": 0,
    "start_time": "2023-03-23T03:12:07.629Z"
   },
   {
    "duration": 0,
    "start_time": "2023-03-23T03:12:07.630Z"
   },
   {
    "duration": 0,
    "start_time": "2023-03-23T03:12:07.631Z"
   },
   {
    "duration": 0,
    "start_time": "2023-03-23T03:12:07.633Z"
   },
   {
    "duration": 0,
    "start_time": "2023-03-23T03:12:07.634Z"
   },
   {
    "duration": 0,
    "start_time": "2023-03-23T03:12:07.636Z"
   },
   {
    "duration": 0,
    "start_time": "2023-03-23T03:12:07.637Z"
   },
   {
    "duration": 0,
    "start_time": "2023-03-23T03:12:07.639Z"
   },
   {
    "duration": 0,
    "start_time": "2023-03-23T03:12:07.640Z"
   },
   {
    "duration": 0,
    "start_time": "2023-03-23T03:12:07.748Z"
   },
   {
    "duration": 0,
    "start_time": "2023-03-23T03:12:07.749Z"
   },
   {
    "duration": 0,
    "start_time": "2023-03-23T03:12:07.751Z"
   },
   {
    "duration": 0,
    "start_time": "2023-03-23T03:12:07.752Z"
   },
   {
    "duration": 0,
    "start_time": "2023-03-23T03:12:07.754Z"
   },
   {
    "duration": 0,
    "start_time": "2023-03-23T03:12:07.755Z"
   },
   {
    "duration": 0,
    "start_time": "2023-03-23T03:12:07.756Z"
   },
   {
    "duration": 0,
    "start_time": "2023-03-23T03:12:07.757Z"
   },
   {
    "duration": 0,
    "start_time": "2023-03-23T03:12:07.758Z"
   },
   {
    "duration": 0,
    "start_time": "2023-03-23T03:12:07.760Z"
   },
   {
    "duration": 0,
    "start_time": "2023-03-23T03:12:07.761Z"
   },
   {
    "duration": 0,
    "start_time": "2023-03-23T03:12:07.762Z"
   },
   {
    "duration": 0,
    "start_time": "2023-03-23T03:12:07.762Z"
   },
   {
    "duration": 0,
    "start_time": "2023-03-23T03:12:07.764Z"
   },
   {
    "duration": 0,
    "start_time": "2023-03-23T03:12:07.766Z"
   },
   {
    "duration": 0,
    "start_time": "2023-03-23T03:12:07.767Z"
   },
   {
    "duration": 1,
    "start_time": "2023-03-23T03:12:07.768Z"
   },
   {
    "duration": 0,
    "start_time": "2023-03-23T03:12:07.769Z"
   },
   {
    "duration": 0,
    "start_time": "2023-03-23T03:12:07.770Z"
   },
   {
    "duration": 0,
    "start_time": "2023-03-23T03:12:07.771Z"
   },
   {
    "duration": 0,
    "start_time": "2023-03-23T03:12:07.773Z"
   },
   {
    "duration": 0,
    "start_time": "2023-03-23T03:12:07.774Z"
   },
   {
    "duration": 0,
    "start_time": "2023-03-23T03:12:07.775Z"
   },
   {
    "duration": 0,
    "start_time": "2023-03-23T03:12:07.776Z"
   },
   {
    "duration": 0,
    "start_time": "2023-03-23T03:12:07.777Z"
   },
   {
    "duration": 99,
    "start_time": "2023-03-23T03:12:11.249Z"
   },
   {
    "duration": 6,
    "start_time": "2023-03-23T03:14:16.035Z"
   },
   {
    "duration": 4,
    "start_time": "2023-03-23T03:15:30.253Z"
   },
   {
    "duration": 5,
    "start_time": "2023-03-23T03:15:45.848Z"
   },
   {
    "duration": 4,
    "start_time": "2023-03-23T03:16:00.919Z"
   },
   {
    "duration": 14,
    "start_time": "2023-03-23T03:16:18.023Z"
   },
   {
    "duration": 7,
    "start_time": "2023-03-23T03:17:55.890Z"
   },
   {
    "duration": 10,
    "start_time": "2023-03-23T03:18:40.332Z"
   },
   {
    "duration": 112,
    "start_time": "2023-03-23T03:19:49.552Z"
   },
   {
    "duration": 4,
    "start_time": "2023-03-23T03:20:41.557Z"
   },
   {
    "duration": 80,
    "start_time": "2023-03-23T03:21:03.155Z"
   },
   {
    "duration": 77,
    "start_time": "2023-03-23T03:21:16.630Z"
   },
   {
    "duration": 71,
    "start_time": "2023-03-23T03:21:27.355Z"
   },
   {
    "duration": 76,
    "start_time": "2023-03-23T03:21:49.275Z"
   },
   {
    "duration": 86,
    "start_time": "2023-03-23T03:26:56.531Z"
   },
   {
    "duration": 118,
    "start_time": "2023-03-23T03:27:28.689Z"
   },
   {
    "duration": 99,
    "start_time": "2023-03-23T03:27:44.306Z"
   },
   {
    "duration": 76,
    "start_time": "2023-03-23T03:27:50.860Z"
   },
   {
    "duration": 644,
    "start_time": "2023-03-23T03:29:38.438Z"
   },
   {
    "duration": 5,
    "start_time": "2023-03-23T03:34:58.987Z"
   },
   {
    "duration": 5,
    "start_time": "2023-03-23T03:35:27.644Z"
   },
   {
    "duration": 21,
    "start_time": "2023-03-23T03:39:15.484Z"
   },
   {
    "duration": 12,
    "start_time": "2023-03-23T03:41:57.012Z"
   },
   {
    "duration": 5,
    "start_time": "2023-03-23T03:42:13.920Z"
   },
   {
    "duration": 75,
    "start_time": "2023-03-23T03:42:32.235Z"
   },
   {
    "duration": 25,
    "start_time": "2023-03-23T03:43:32.696Z"
   },
   {
    "duration": 5,
    "start_time": "2023-03-23T03:43:37.694Z"
   },
   {
    "duration": 4,
    "start_time": "2023-03-23T03:43:39.971Z"
   },
   {
    "duration": 20,
    "start_time": "2023-03-23T03:46:15.557Z"
   },
   {
    "duration": 9,
    "start_time": "2023-03-23T03:47:22.090Z"
   },
   {
    "duration": 8,
    "start_time": "2023-03-23T03:47:53.580Z"
   },
   {
    "duration": 19,
    "start_time": "2023-03-23T03:50:19.630Z"
   },
   {
    "duration": 14,
    "start_time": "2023-03-23T03:52:56.058Z"
   },
   {
    "duration": 12,
    "start_time": "2023-03-23T03:57:15.761Z"
   },
   {
    "duration": 11,
    "start_time": "2023-03-23T03:58:31.184Z"
   },
   {
    "duration": 12,
    "start_time": "2023-03-23T03:58:45.688Z"
   },
   {
    "duration": 6,
    "start_time": "2023-03-23T04:00:55.040Z"
   },
   {
    "duration": 7,
    "start_time": "2023-03-23T04:01:01.610Z"
   },
   {
    "duration": 4,
    "start_time": "2023-03-23T04:01:27.660Z"
   },
   {
    "duration": 5,
    "start_time": "2023-03-23T04:01:48.014Z"
   },
   {
    "duration": 14,
    "start_time": "2023-03-23T04:01:48.898Z"
   },
   {
    "duration": 11,
    "start_time": "2023-03-23T04:02:01.470Z"
   },
   {
    "duration": 7,
    "start_time": "2023-03-23T04:02:17.742Z"
   },
   {
    "duration": 250,
    "start_time": "2023-03-23T04:04:09.020Z"
   },
   {
    "duration": 5,
    "start_time": "2023-03-23T04:09:24.149Z"
   },
   {
    "duration": 11,
    "start_time": "2023-03-23T04:10:31.020Z"
   },
   {
    "duration": 9,
    "start_time": "2023-03-23T04:11:25.088Z"
   },
   {
    "duration": 16,
    "start_time": "2023-03-23T04:15:19.726Z"
   },
   {
    "duration": 95,
    "start_time": "2023-03-23T04:15:59.056Z"
   },
   {
    "duration": 7,
    "start_time": "2023-03-23T04:16:03.866Z"
   },
   {
    "duration": 18,
    "start_time": "2023-03-23T04:16:13.441Z"
   },
   {
    "duration": 6,
    "start_time": "2023-03-23T04:16:23.142Z"
   },
   {
    "duration": 11,
    "start_time": "2023-03-23T04:16:56.475Z"
   },
   {
    "duration": 11,
    "start_time": "2023-03-23T04:19:05.709Z"
   },
   {
    "duration": 271,
    "start_time": "2023-03-23T04:19:48.871Z"
   },
   {
    "duration": 19,
    "start_time": "2023-03-23T04:20:05.667Z"
   },
   {
    "duration": 4,
    "start_time": "2023-03-23T04:21:32.960Z"
   },
   {
    "duration": 267,
    "start_time": "2023-03-23T04:21:58.811Z"
   },
   {
    "duration": 9,
    "start_time": "2023-03-23T04:31:13.184Z"
   },
   {
    "duration": 5,
    "start_time": "2023-03-23T04:34:14.584Z"
   },
   {
    "duration": 6,
    "start_time": "2023-03-23T04:34:43.034Z"
   },
   {
    "duration": 10,
    "start_time": "2023-03-23T04:35:14.785Z"
   },
   {
    "duration": 261,
    "start_time": "2023-03-23T04:35:48.289Z"
   },
   {
    "duration": 218,
    "start_time": "2023-03-23T04:36:25.198Z"
   },
   {
    "duration": 3,
    "start_time": "2023-03-23T04:53:05.005Z"
   },
   {
    "duration": 57,
    "start_time": "2023-03-23T04:53:06.073Z"
   },
   {
    "duration": 50,
    "start_time": "2023-03-23T04:53:12.506Z"
   },
   {
    "duration": 14,
    "start_time": "2023-03-23T04:53:14.827Z"
   },
   {
    "duration": 4,
    "start_time": "2023-03-23T04:53:20.025Z"
   },
   {
    "duration": 14,
    "start_time": "2023-03-23T05:12:53.488Z"
   },
   {
    "duration": 12,
    "start_time": "2023-03-23T05:12:57.857Z"
   },
   {
    "duration": 13,
    "start_time": "2023-03-23T05:13:03.369Z"
   },
   {
    "duration": 76,
    "start_time": "2023-03-23T05:16:01.932Z"
   },
   {
    "duration": 3,
    "start_time": "2023-03-23T05:16:12.838Z"
   },
   {
    "duration": 71,
    "start_time": "2023-03-23T05:16:12.843Z"
   },
   {
    "duration": 23,
    "start_time": "2023-03-23T05:16:12.916Z"
   },
   {
    "duration": 7,
    "start_time": "2023-03-23T05:16:12.941Z"
   },
   {
    "duration": 11,
    "start_time": "2023-03-23T05:16:12.951Z"
   },
   {
    "duration": 15,
    "start_time": "2023-03-23T05:16:12.963Z"
   },
   {
    "duration": 5,
    "start_time": "2023-03-23T05:16:12.980Z"
   },
   {
    "duration": 5,
    "start_time": "2023-03-23T05:16:12.986Z"
   },
   {
    "duration": 11,
    "start_time": "2023-03-23T05:16:12.992Z"
   },
   {
    "duration": 30,
    "start_time": "2023-03-23T05:16:13.005Z"
   },
   {
    "duration": 7,
    "start_time": "2023-03-23T05:16:13.036Z"
   },
   {
    "duration": 133,
    "start_time": "2023-03-23T05:16:13.045Z"
   },
   {
    "duration": 12,
    "start_time": "2023-03-23T05:16:13.179Z"
   },
   {
    "duration": 3,
    "start_time": "2023-03-23T05:16:13.194Z"
   },
   {
    "duration": 8,
    "start_time": "2023-03-23T05:16:13.198Z"
   },
   {
    "duration": 358,
    "start_time": "2023-03-23T05:16:13.207Z"
   },
   {
    "duration": 15,
    "start_time": "2023-03-23T05:16:13.566Z"
   },
   {
    "duration": 3,
    "start_time": "2023-03-23T05:16:13.582Z"
   },
   {
    "duration": 16,
    "start_time": "2023-03-23T05:16:13.586Z"
   },
   {
    "duration": 293,
    "start_time": "2023-03-23T05:16:13.604Z"
   },
   {
    "duration": 254,
    "start_time": "2023-03-23T05:16:13.898Z"
   },
   {
    "duration": 6,
    "start_time": "2023-03-23T05:16:14.154Z"
   },
   {
    "duration": 9,
    "start_time": "2023-03-23T05:16:14.161Z"
   },
   {
    "duration": 118,
    "start_time": "2023-03-23T05:16:14.171Z"
   },
   {
    "duration": 4,
    "start_time": "2023-03-23T05:16:14.290Z"
   },
   {
    "duration": 143,
    "start_time": "2023-03-23T05:16:14.296Z"
   },
   {
    "duration": 3532,
    "start_time": "2023-03-23T05:16:14.440Z"
   },
   {
    "duration": 11,
    "start_time": "2023-03-23T05:16:17.974Z"
   },
   {
    "duration": 4,
    "start_time": "2023-03-23T05:16:17.986Z"
   },
   {
    "duration": 47,
    "start_time": "2023-03-23T05:16:17.992Z"
   },
   {
    "duration": 9,
    "start_time": "2023-03-23T05:16:18.041Z"
   },
   {
    "duration": 11,
    "start_time": "2023-03-23T05:16:18.051Z"
   },
   {
    "duration": 11,
    "start_time": "2023-03-23T05:16:18.064Z"
   },
   {
    "duration": 12,
    "start_time": "2023-03-23T05:16:18.076Z"
   },
   {
    "duration": 16,
    "start_time": "2023-03-23T05:16:18.089Z"
   },
   {
    "duration": 10,
    "start_time": "2023-03-23T05:16:18.107Z"
   },
   {
    "duration": 29,
    "start_time": "2023-03-23T05:16:18.119Z"
   },
   {
    "duration": 88,
    "start_time": "2023-03-23T05:16:18.150Z"
   },
   {
    "duration": 15,
    "start_time": "2023-03-23T05:16:18.239Z"
   },
   {
    "duration": 15,
    "start_time": "2023-03-23T05:16:18.256Z"
   },
   {
    "duration": 6,
    "start_time": "2023-03-23T05:16:18.276Z"
   },
   {
    "duration": 17,
    "start_time": "2023-03-23T05:16:18.284Z"
   },
   {
    "duration": 13,
    "start_time": "2023-03-23T05:16:18.302Z"
   },
   {
    "duration": 24,
    "start_time": "2023-03-23T05:16:18.322Z"
   },
   {
    "duration": 11,
    "start_time": "2023-03-23T05:16:18.348Z"
   },
   {
    "duration": 92,
    "start_time": "2023-03-23T05:16:18.361Z"
   },
   {
    "duration": 17,
    "start_time": "2023-03-23T05:16:18.455Z"
   },
   {
    "duration": 9,
    "start_time": "2023-03-23T05:16:18.474Z"
   },
   {
    "duration": 11,
    "start_time": "2023-03-23T05:16:18.485Z"
   },
   {
    "duration": 15,
    "start_time": "2023-03-23T05:16:18.497Z"
   },
   {
    "duration": 15,
    "start_time": "2023-03-23T05:16:18.522Z"
   },
   {
    "duration": 18,
    "start_time": "2023-03-23T05:16:18.538Z"
   },
   {
    "duration": 93,
    "start_time": "2023-03-23T05:16:18.558Z"
   },
   {
    "duration": 14,
    "start_time": "2023-03-23T05:16:18.653Z"
   },
   {
    "duration": 13,
    "start_time": "2023-03-23T05:16:18.668Z"
   },
   {
    "duration": 12,
    "start_time": "2023-03-23T05:16:18.683Z"
   },
   {
    "duration": 34,
    "start_time": "2023-03-23T05:16:18.697Z"
   },
   {
    "duration": 15,
    "start_time": "2023-03-23T05:16:18.737Z"
   },
   {
    "duration": 12,
    "start_time": "2023-03-23T05:16:18.754Z"
   },
   {
    "duration": 11,
    "start_time": "2023-03-23T05:16:18.768Z"
   },
   {
    "duration": 9,
    "start_time": "2023-03-23T05:16:18.781Z"
   },
   {
    "duration": 1219,
    "start_time": "2023-03-23T05:27:46.877Z"
   },
   {
    "duration": 55,
    "start_time": "2023-03-23T05:27:48.098Z"
   },
   {
    "duration": 18,
    "start_time": "2023-03-23T05:27:48.155Z"
   },
   {
    "duration": 3,
    "start_time": "2023-03-23T05:27:48.175Z"
   },
   {
    "duration": 11,
    "start_time": "2023-03-23T05:27:48.181Z"
   },
   {
    "duration": 86,
    "start_time": "2023-03-23T05:27:48.195Z"
   },
   {
    "duration": 8,
    "start_time": "2023-03-23T05:27:48.283Z"
   },
   {
    "duration": 6,
    "start_time": "2023-03-23T05:27:48.292Z"
   },
   {
    "duration": 5,
    "start_time": "2023-03-23T05:27:48.300Z"
   },
   {
    "duration": 6,
    "start_time": "2023-03-23T05:27:48.307Z"
   },
   {
    "duration": 29,
    "start_time": "2023-03-23T05:27:48.315Z"
   },
   {
    "duration": 181,
    "start_time": "2023-03-23T05:27:48.345Z"
   },
   {
    "duration": 24,
    "start_time": "2023-03-23T05:27:48.528Z"
   },
   {
    "duration": 4,
    "start_time": "2023-03-23T05:27:48.555Z"
   },
   {
    "duration": 8,
    "start_time": "2023-03-23T05:27:48.561Z"
   },
   {
    "duration": 293,
    "start_time": "2023-03-23T05:27:48.571Z"
   },
   {
    "duration": 19,
    "start_time": "2023-03-23T05:27:48.866Z"
   },
   {
    "duration": 3,
    "start_time": "2023-03-23T05:27:48.887Z"
   },
   {
    "duration": 11,
    "start_time": "2023-03-23T05:27:48.892Z"
   },
   {
    "duration": 358,
    "start_time": "2023-03-23T05:27:48.904Z"
   },
   {
    "duration": 306,
    "start_time": "2023-03-23T05:27:49.264Z"
   },
   {
    "duration": 7,
    "start_time": "2023-03-23T05:27:49.572Z"
   },
   {
    "duration": 7,
    "start_time": "2023-03-23T05:27:49.581Z"
   },
   {
    "duration": 144,
    "start_time": "2023-03-23T05:27:49.590Z"
   },
   {
    "duration": 9,
    "start_time": "2023-03-23T05:27:49.735Z"
   },
   {
    "duration": 258,
    "start_time": "2023-03-23T05:27:49.746Z"
   },
   {
    "duration": 4074,
    "start_time": "2023-03-23T05:27:50.006Z"
   },
   {
    "duration": 14,
    "start_time": "2023-03-23T05:27:54.082Z"
   },
   {
    "duration": 19,
    "start_time": "2023-03-23T05:27:54.098Z"
   },
   {
    "duration": 27,
    "start_time": "2023-03-23T05:27:54.119Z"
   },
   {
    "duration": 17,
    "start_time": "2023-03-23T05:27:54.148Z"
   },
   {
    "duration": 21,
    "start_time": "2023-03-23T05:27:54.167Z"
   },
   {
    "duration": 16,
    "start_time": "2023-03-23T05:27:54.190Z"
   },
   {
    "duration": 30,
    "start_time": "2023-03-23T05:27:54.207Z"
   },
   {
    "duration": 26,
    "start_time": "2023-03-23T05:27:54.239Z"
   },
   {
    "duration": 35,
    "start_time": "2023-03-23T05:27:54.268Z"
   },
   {
    "duration": 23,
    "start_time": "2023-03-23T05:27:54.305Z"
   },
   {
    "duration": 189,
    "start_time": "2023-03-23T05:27:54.330Z"
   },
   {
    "duration": 27,
    "start_time": "2023-03-23T05:27:54.520Z"
   },
   {
    "duration": 10,
    "start_time": "2023-03-23T05:27:54.549Z"
   },
   {
    "duration": 14,
    "start_time": "2023-03-23T05:27:54.564Z"
   },
   {
    "duration": 28,
    "start_time": "2023-03-23T05:27:54.580Z"
   },
   {
    "duration": 17,
    "start_time": "2023-03-23T05:27:54.610Z"
   },
   {
    "duration": 14,
    "start_time": "2023-03-23T05:27:54.630Z"
   },
   {
    "duration": 19,
    "start_time": "2023-03-23T05:27:54.646Z"
   },
   {
    "duration": 95,
    "start_time": "2023-03-23T05:27:54.666Z"
   },
   {
    "duration": 16,
    "start_time": "2023-03-23T05:27:54.763Z"
   },
   {
    "duration": 10,
    "start_time": "2023-03-23T05:27:54.780Z"
   },
   {
    "duration": 13,
    "start_time": "2023-03-23T05:27:54.792Z"
   },
   {
    "duration": 34,
    "start_time": "2023-03-23T05:27:54.807Z"
   },
   {
    "duration": 13,
    "start_time": "2023-03-23T05:27:54.843Z"
   },
   {
    "duration": 12,
    "start_time": "2023-03-23T05:27:54.858Z"
   },
   {
    "duration": 101,
    "start_time": "2023-03-23T05:27:54.872Z"
   },
   {
    "duration": 15,
    "start_time": "2023-03-23T05:27:54.975Z"
   },
   {
    "duration": 13,
    "start_time": "2023-03-23T05:27:54.992Z"
   },
   {
    "duration": 39,
    "start_time": "2023-03-23T05:27:55.008Z"
   },
   {
    "duration": 36,
    "start_time": "2023-03-23T05:27:55.050Z"
   },
   {
    "duration": 22,
    "start_time": "2023-03-23T05:27:55.088Z"
   },
   {
    "duration": 39,
    "start_time": "2023-03-23T05:27:55.112Z"
   },
   {
    "duration": 49,
    "start_time": "2023-03-23T05:27:55.153Z"
   },
   {
    "duration": 41,
    "start_time": "2023-03-23T05:27:55.204Z"
   },
   {
    "duration": 41,
    "start_time": "2023-03-23T13:26:51.993Z"
   },
   {
    "duration": 41,
    "start_time": "2023-03-23T13:27:25.532Z"
   },
   {
    "duration": 42,
    "start_time": "2023-03-23T13:27:53.650Z"
   },
   {
    "duration": 48,
    "start_time": "2023-03-23T13:28:05.990Z"
   },
   {
    "duration": 36,
    "start_time": "2023-03-23T13:29:24.622Z"
   },
   {
    "duration": 1141,
    "start_time": "2023-03-23T13:29:29.111Z"
   },
   {
    "duration": 445,
    "start_time": "2023-03-23T13:29:30.254Z"
   },
   {
    "duration": 14,
    "start_time": "2023-03-23T13:29:30.701Z"
   },
   {
    "duration": 29,
    "start_time": "2023-03-23T13:29:30.717Z"
   },
   {
    "duration": 36,
    "start_time": "2023-03-23T13:29:30.748Z"
   },
   {
    "duration": 86,
    "start_time": "2023-03-23T13:29:30.785Z"
   },
   {
    "duration": 6,
    "start_time": "2023-03-23T13:29:30.872Z"
   },
   {
    "duration": 12,
    "start_time": "2023-03-23T13:29:30.880Z"
   },
   {
    "duration": 23,
    "start_time": "2023-03-23T13:29:30.894Z"
   },
   {
    "duration": 21,
    "start_time": "2023-03-23T13:29:30.921Z"
   },
   {
    "duration": 30,
    "start_time": "2023-03-23T13:29:30.943Z"
   },
   {
    "duration": 32,
    "start_time": "2023-03-23T13:29:30.975Z"
   },
   {
    "duration": 136,
    "start_time": "2023-03-23T13:29:31.009Z"
   },
   {
    "duration": 22,
    "start_time": "2023-03-23T13:29:31.147Z"
   },
   {
    "duration": 9,
    "start_time": "2023-03-23T13:29:31.171Z"
   },
   {
    "duration": 30,
    "start_time": "2023-03-23T13:29:31.181Z"
   },
   {
    "duration": 239,
    "start_time": "2023-03-23T13:29:31.212Z"
   },
   {
    "duration": 15,
    "start_time": "2023-03-23T13:29:31.452Z"
   },
   {
    "duration": 5,
    "start_time": "2023-03-23T13:29:31.469Z"
   },
   {
    "duration": 41,
    "start_time": "2023-03-23T13:29:31.475Z"
   },
   {
    "duration": 335,
    "start_time": "2023-03-23T13:29:31.517Z"
   },
   {
    "duration": 246,
    "start_time": "2023-03-23T13:29:31.853Z"
   },
   {
    "duration": 5,
    "start_time": "2023-03-23T13:29:32.101Z"
   },
   {
    "duration": 6,
    "start_time": "2023-03-23T13:29:32.107Z"
   },
   {
    "duration": 110,
    "start_time": "2023-03-23T13:29:32.115Z"
   },
   {
    "duration": 3,
    "start_time": "2023-03-23T13:29:32.227Z"
   },
   {
    "duration": 189,
    "start_time": "2023-03-23T13:29:32.232Z"
   },
   {
    "duration": 3303,
    "start_time": "2023-03-23T13:29:32.424Z"
   },
   {
    "duration": 10,
    "start_time": "2023-03-23T13:29:35.728Z"
   },
   {
    "duration": 7,
    "start_time": "2023-03-23T13:29:35.739Z"
   },
   {
    "duration": 22,
    "start_time": "2023-03-23T13:29:35.748Z"
   },
   {
    "duration": 8,
    "start_time": "2023-03-23T13:29:35.772Z"
   },
   {
    "duration": 9,
    "start_time": "2023-03-23T13:29:35.782Z"
   },
   {
    "duration": 4,
    "start_time": "2023-03-23T13:29:35.792Z"
   },
   {
    "duration": 7,
    "start_time": "2023-03-23T13:29:35.798Z"
   },
   {
    "duration": 16,
    "start_time": "2023-03-23T13:29:35.806Z"
   },
   {
    "duration": 18,
    "start_time": "2023-03-23T13:29:35.823Z"
   },
   {
    "duration": 9,
    "start_time": "2023-03-23T13:29:35.842Z"
   },
   {
    "duration": 84,
    "start_time": "2023-03-23T13:29:35.852Z"
   },
   {
    "duration": 12,
    "start_time": "2023-03-23T13:29:35.937Z"
   },
   {
    "duration": 8,
    "start_time": "2023-03-23T13:29:35.950Z"
   },
   {
    "duration": 6,
    "start_time": "2023-03-23T13:29:35.968Z"
   },
   {
    "duration": 13,
    "start_time": "2023-03-23T13:29:35.975Z"
   },
   {
    "duration": 7,
    "start_time": "2023-03-23T13:29:35.989Z"
   },
   {
    "duration": 6,
    "start_time": "2023-03-23T13:29:35.997Z"
   },
   {
    "duration": 10,
    "start_time": "2023-03-23T13:29:36.004Z"
   },
   {
    "duration": 78,
    "start_time": "2023-03-23T13:29:36.015Z"
   },
   {
    "duration": 11,
    "start_time": "2023-03-23T13:29:36.094Z"
   },
   {
    "duration": 8,
    "start_time": "2023-03-23T13:29:36.106Z"
   },
   {
    "duration": 8,
    "start_time": "2023-03-23T13:29:36.115Z"
   },
   {
    "duration": 9,
    "start_time": "2023-03-23T13:29:36.124Z"
   },
   {
    "duration": 4,
    "start_time": "2023-03-23T13:29:36.134Z"
   },
   {
    "duration": 9,
    "start_time": "2023-03-23T13:29:36.139Z"
   },
   {
    "duration": 67,
    "start_time": "2023-03-23T13:29:36.168Z"
   },
   {
    "duration": 11,
    "start_time": "2023-03-23T13:29:36.236Z"
   },
   {
    "duration": 29,
    "start_time": "2023-03-23T13:29:36.248Z"
   },
   {
    "duration": 15,
    "start_time": "2023-03-23T13:29:36.278Z"
   },
   {
    "duration": 14,
    "start_time": "2023-03-23T13:29:36.295Z"
   },
   {
    "duration": 21,
    "start_time": "2023-03-23T13:29:36.311Z"
   },
   {
    "duration": 11,
    "start_time": "2023-03-23T13:29:36.333Z"
   },
   {
    "duration": 27,
    "start_time": "2023-03-23T13:29:36.345Z"
   },
   {
    "duration": 9,
    "start_time": "2023-03-23T13:29:36.374Z"
   },
   {
    "duration": 12,
    "start_time": "2023-03-23T13:29:39.683Z"
   },
   {
    "duration": 56,
    "start_time": "2023-03-23T13:30:47.971Z"
   },
   {
    "duration": 9,
    "start_time": "2023-03-23T13:36:50.287Z"
   },
   {
    "duration": 126,
    "start_time": "2023-03-23T13:37:06.961Z"
   },
   {
    "duration": 132,
    "start_time": "2023-03-23T13:37:25.561Z"
   },
   {
    "duration": 14,
    "start_time": "2023-03-23T13:40:26.131Z"
   },
   {
    "duration": 3,
    "start_time": "2023-03-23T13:43:31.648Z"
   },
   {
    "duration": 9,
    "start_time": "2023-03-23T13:43:49.778Z"
   },
   {
    "duration": 256,
    "start_time": "2023-03-23T13:43:55.137Z"
   },
   {
    "duration": 245,
    "start_time": "2023-03-23T13:44:34.130Z"
   },
   {
    "duration": 252,
    "start_time": "2023-03-23T13:44:56.135Z"
   },
   {
    "duration": 219,
    "start_time": "2023-03-23T13:45:18.093Z"
   },
   {
    "duration": 221,
    "start_time": "2023-03-23T13:47:46.051Z"
   },
   {
    "duration": 8,
    "start_time": "2023-03-23T13:48:23.913Z"
   },
   {
    "duration": 252,
    "start_time": "2023-03-23T13:48:25.248Z"
   },
   {
    "duration": 268,
    "start_time": "2023-03-23T13:49:50.831Z"
   },
   {
    "duration": 342,
    "start_time": "2023-03-23T13:50:04.217Z"
   },
   {
    "duration": 229,
    "start_time": "2023-03-23T13:50:29.247Z"
   },
   {
    "duration": 2,
    "start_time": "2023-03-23T13:50:35.314Z"
   },
   {
    "duration": 141,
    "start_time": "2023-03-23T13:50:35.318Z"
   },
   {
    "duration": 13,
    "start_time": "2023-03-23T13:50:35.460Z"
   },
   {
    "duration": 2,
    "start_time": "2023-03-23T13:50:35.475Z"
   },
   {
    "duration": 14,
    "start_time": "2023-03-23T13:50:35.479Z"
   },
   {
    "duration": 15,
    "start_time": "2023-03-23T13:50:35.494Z"
   },
   {
    "duration": 5,
    "start_time": "2023-03-23T13:50:35.511Z"
   },
   {
    "duration": 6,
    "start_time": "2023-03-23T13:50:35.517Z"
   },
   {
    "duration": 4,
    "start_time": "2023-03-23T13:50:35.525Z"
   },
   {
    "duration": 7,
    "start_time": "2023-03-23T13:50:35.530Z"
   },
   {
    "duration": 10,
    "start_time": "2023-03-23T13:50:35.538Z"
   },
   {
    "duration": 27,
    "start_time": "2023-03-23T13:50:35.549Z"
   },
   {
    "duration": 129,
    "start_time": "2023-03-23T13:50:35.578Z"
   },
   {
    "duration": 12,
    "start_time": "2023-03-23T13:50:35.708Z"
   },
   {
    "duration": 2,
    "start_time": "2023-03-23T13:50:35.722Z"
   },
   {
    "duration": 5,
    "start_time": "2023-03-23T13:50:35.726Z"
   },
   {
    "duration": 238,
    "start_time": "2023-03-23T13:50:35.733Z"
   },
   {
    "duration": 16,
    "start_time": "2023-03-23T13:50:35.972Z"
   },
   {
    "duration": 3,
    "start_time": "2023-03-23T13:50:35.990Z"
   },
   {
    "duration": 30,
    "start_time": "2023-03-23T13:50:35.995Z"
   },
   {
    "duration": 264,
    "start_time": "2023-03-23T13:50:36.026Z"
   },
   {
    "duration": 225,
    "start_time": "2023-03-23T13:50:39.356Z"
   },
   {
    "duration": 44,
    "start_time": "2023-03-23T13:51:34.899Z"
   },
   {
    "duration": 5,
    "start_time": "2023-03-23T13:52:01.127Z"
   },
   {
    "duration": 4,
    "start_time": "2023-03-23T13:52:01.952Z"
   },
   {
    "duration": 97,
    "start_time": "2023-03-23T13:52:03.919Z"
   },
   {
    "duration": 4,
    "start_time": "2023-03-23T13:52:05.061Z"
   },
   {
    "duration": 116,
    "start_time": "2023-03-23T13:52:06.334Z"
   },
   {
    "duration": 323,
    "start_time": "2023-03-23T13:58:00.069Z"
   },
   {
    "duration": 5,
    "start_time": "2023-03-23T14:01:24.845Z"
   },
   {
    "duration": 49,
    "start_time": "2023-03-23T14:01:28.048Z"
   },
   {
    "duration": 45,
    "start_time": "2023-03-23T14:01:52.484Z"
   },
   {
    "duration": 44,
    "start_time": "2023-03-23T14:02:35.608Z"
   },
   {
    "duration": 565,
    "start_time": "2023-03-23T14:02:54.727Z"
   },
   {
    "duration": 5,
    "start_time": "2023-03-23T14:03:19.499Z"
   },
   {
    "duration": 482,
    "start_time": "2023-03-23T14:03:20.252Z"
   },
   {
    "duration": 1028,
    "start_time": "2023-03-23T14:03:37.577Z"
   },
   {
    "duration": 46,
    "start_time": "2023-03-23T14:03:38.607Z"
   },
   {
    "duration": 13,
    "start_time": "2023-03-23T14:03:38.654Z"
   },
   {
    "duration": 3,
    "start_time": "2023-03-23T14:03:38.668Z"
   },
   {
    "duration": 8,
    "start_time": "2023-03-23T14:03:38.672Z"
   },
   {
    "duration": 44,
    "start_time": "2023-03-23T14:03:38.681Z"
   },
   {
    "duration": 5,
    "start_time": "2023-03-23T14:03:38.727Z"
   },
   {
    "duration": 4,
    "start_time": "2023-03-23T14:03:38.733Z"
   },
   {
    "duration": 3,
    "start_time": "2023-03-23T14:03:38.738Z"
   },
   {
    "duration": 26,
    "start_time": "2023-03-23T14:03:38.743Z"
   },
   {
    "duration": 5,
    "start_time": "2023-03-23T14:03:38.770Z"
   },
   {
    "duration": 12,
    "start_time": "2023-03-23T14:03:38.777Z"
   },
   {
    "duration": 142,
    "start_time": "2023-03-23T14:03:38.790Z"
   },
   {
    "duration": 14,
    "start_time": "2023-03-23T14:03:38.934Z"
   },
   {
    "duration": 3,
    "start_time": "2023-03-23T14:03:38.949Z"
   },
   {
    "duration": 17,
    "start_time": "2023-03-23T14:03:38.953Z"
   },
   {
    "duration": 268,
    "start_time": "2023-03-23T14:03:38.971Z"
   },
   {
    "duration": 15,
    "start_time": "2023-03-23T14:03:39.240Z"
   },
   {
    "duration": 3,
    "start_time": "2023-03-23T14:03:39.256Z"
   },
   {
    "duration": 9,
    "start_time": "2023-03-23T14:03:39.260Z"
   },
   {
    "duration": 285,
    "start_time": "2023-03-23T14:03:39.270Z"
   },
   {
    "duration": 247,
    "start_time": "2023-03-23T14:03:39.556Z"
   },
   {
    "duration": 7,
    "start_time": "2023-03-23T14:03:39.804Z"
   },
   {
    "duration": 577,
    "start_time": "2023-03-23T14:03:39.812Z"
   },
   {
    "duration": 0,
    "start_time": "2023-03-23T14:03:40.391Z"
   },
   {
    "duration": 0,
    "start_time": "2023-03-23T14:03:40.392Z"
   },
   {
    "duration": 0,
    "start_time": "2023-03-23T14:03:40.393Z"
   },
   {
    "duration": 0,
    "start_time": "2023-03-23T14:03:40.394Z"
   },
   {
    "duration": 0,
    "start_time": "2023-03-23T14:03:40.395Z"
   },
   {
    "duration": 0,
    "start_time": "2023-03-23T14:03:40.395Z"
   },
   {
    "duration": 0,
    "start_time": "2023-03-23T14:03:40.396Z"
   },
   {
    "duration": 0,
    "start_time": "2023-03-23T14:03:40.397Z"
   },
   {
    "duration": 0,
    "start_time": "2023-03-23T14:03:40.398Z"
   },
   {
    "duration": 0,
    "start_time": "2023-03-23T14:03:40.399Z"
   },
   {
    "duration": 0,
    "start_time": "2023-03-23T14:03:40.399Z"
   },
   {
    "duration": 0,
    "start_time": "2023-03-23T14:03:40.400Z"
   },
   {
    "duration": 0,
    "start_time": "2023-03-23T14:03:40.401Z"
   },
   {
    "duration": 0,
    "start_time": "2023-03-23T14:03:40.402Z"
   },
   {
    "duration": 0,
    "start_time": "2023-03-23T14:03:40.402Z"
   },
   {
    "duration": 0,
    "start_time": "2023-03-23T14:03:40.403Z"
   },
   {
    "duration": 0,
    "start_time": "2023-03-23T14:03:40.404Z"
   },
   {
    "duration": 0,
    "start_time": "2023-03-23T14:03:40.405Z"
   },
   {
    "duration": 0,
    "start_time": "2023-03-23T14:03:40.406Z"
   },
   {
    "duration": 0,
    "start_time": "2023-03-23T14:03:40.407Z"
   },
   {
    "duration": 0,
    "start_time": "2023-03-23T14:03:40.407Z"
   },
   {
    "duration": 0,
    "start_time": "2023-03-23T14:03:40.408Z"
   },
   {
    "duration": 0,
    "start_time": "2023-03-23T14:03:40.409Z"
   },
   {
    "duration": 0,
    "start_time": "2023-03-23T14:03:40.410Z"
   },
   {
    "duration": 0,
    "start_time": "2023-03-23T14:03:40.411Z"
   },
   {
    "duration": 0,
    "start_time": "2023-03-23T14:03:40.411Z"
   },
   {
    "duration": 0,
    "start_time": "2023-03-23T14:03:40.412Z"
   },
   {
    "duration": 0,
    "start_time": "2023-03-23T14:03:40.413Z"
   },
   {
    "duration": 0,
    "start_time": "2023-03-23T14:03:40.414Z"
   },
   {
    "duration": 0,
    "start_time": "2023-03-23T14:03:40.414Z"
   },
   {
    "duration": 0,
    "start_time": "2023-03-23T14:03:40.415Z"
   },
   {
    "duration": 0,
    "start_time": "2023-03-23T14:03:40.416Z"
   },
   {
    "duration": 0,
    "start_time": "2023-03-23T14:03:40.416Z"
   },
   {
    "duration": 0,
    "start_time": "2023-03-23T14:03:40.417Z"
   },
   {
    "duration": 0,
    "start_time": "2023-03-23T14:03:40.418Z"
   },
   {
    "duration": 0,
    "start_time": "2023-03-23T14:03:40.419Z"
   },
   {
    "duration": 0,
    "start_time": "2023-03-23T14:03:40.420Z"
   },
   {
    "duration": 0,
    "start_time": "2023-03-23T14:03:40.421Z"
   },
   {
    "duration": 5,
    "start_time": "2023-03-23T14:03:46.377Z"
   },
   {
    "duration": 614,
    "start_time": "2023-03-23T14:03:47.080Z"
   },
   {
    "duration": 49,
    "start_time": "2023-03-23T14:05:32.186Z"
   },
   {
    "duration": 41,
    "start_time": "2023-03-23T14:05:55.833Z"
   },
   {
    "duration": 52,
    "start_time": "2023-03-23T14:06:32.750Z"
   },
   {
    "duration": 49,
    "start_time": "2023-03-23T14:08:21.303Z"
   },
   {
    "duration": 99,
    "start_time": "2023-03-23T14:08:24.155Z"
   },
   {
    "duration": 11,
    "start_time": "2023-03-23T14:42:45.288Z"
   },
   {
    "duration": 14,
    "start_time": "2023-03-23T14:44:20.888Z"
   },
   {
    "duration": 13,
    "start_time": "2023-03-23T14:46:02.158Z"
   },
   {
    "duration": 12,
    "start_time": "2023-03-23T14:48:03.588Z"
   },
   {
    "duration": 16,
    "start_time": "2023-03-23T14:48:37.035Z"
   },
   {
    "duration": 11,
    "start_time": "2023-03-23T14:50:24.429Z"
   },
   {
    "duration": 11,
    "start_time": "2023-03-23T14:50:43.457Z"
   },
   {
    "duration": 5,
    "start_time": "2023-03-23T14:50:52.942Z"
   },
   {
    "duration": 47,
    "start_time": "2023-03-23T14:51:30.150Z"
   },
   {
    "duration": 23,
    "start_time": "2023-03-23T14:51:44.706Z"
   },
   {
    "duration": 20,
    "start_time": "2023-03-23T14:52:03.494Z"
   },
   {
    "duration": 16,
    "start_time": "2023-03-23T14:52:17.439Z"
   },
   {
    "duration": 38,
    "start_time": "2023-03-23T14:52:59.308Z"
   },
   {
    "duration": 45,
    "start_time": "2023-03-23T14:53:06.810Z"
   },
   {
    "duration": 15,
    "start_time": "2023-03-23T14:54:22.770Z"
   },
   {
    "duration": 8,
    "start_time": "2023-03-23T14:56:02.198Z"
   },
   {
    "duration": 15,
    "start_time": "2023-03-23T14:56:11.682Z"
   },
   {
    "duration": 47,
    "start_time": "2023-03-23T14:56:35.137Z"
   },
   {
    "duration": 3,
    "start_time": "2023-03-23T14:56:39.734Z"
   },
   {
    "duration": 5,
    "start_time": "2023-03-23T14:56:44.938Z"
   },
   {
    "duration": 9,
    "start_time": "2023-03-23T14:58:05.969Z"
   },
   {
    "duration": 10,
    "start_time": "2023-03-23T14:58:16.117Z"
   },
   {
    "duration": 270,
    "start_time": "2023-03-23T14:59:50.740Z"
   },
   {
    "duration": 224,
    "start_time": "2023-03-23T15:00:46.471Z"
   },
   {
    "duration": 225,
    "start_time": "2023-03-23T15:00:59.817Z"
   },
   {
    "duration": 95,
    "start_time": "2023-03-23T15:01:20.560Z"
   },
   {
    "duration": 228,
    "start_time": "2023-03-23T15:01:31.657Z"
   },
   {
    "duration": 220,
    "start_time": "2023-03-23T15:02:02.008Z"
   },
   {
    "duration": 94,
    "start_time": "2023-03-23T15:04:33.649Z"
   },
   {
    "duration": 289,
    "start_time": "2023-03-23T15:04:46.224Z"
   },
   {
    "duration": 235,
    "start_time": "2023-03-23T15:05:30.174Z"
   },
   {
    "duration": 235,
    "start_time": "2023-03-23T15:05:41.195Z"
   },
   {
    "duration": 224,
    "start_time": "2023-03-23T15:09:13.419Z"
   },
   {
    "duration": 244,
    "start_time": "2023-03-23T15:11:17.026Z"
   },
   {
    "duration": 360,
    "start_time": "2023-03-23T15:11:44.455Z"
   },
   {
    "duration": 239,
    "start_time": "2023-03-23T15:12:55.593Z"
   },
   {
    "duration": 265,
    "start_time": "2023-03-23T15:13:00.688Z"
   },
   {
    "duration": 288,
    "start_time": "2023-03-23T15:15:15.209Z"
   },
   {
    "duration": 229,
    "start_time": "2023-03-23T15:15:50.760Z"
   },
   {
    "duration": 9,
    "start_time": "2023-03-23T15:17:13.876Z"
   },
   {
    "duration": 28,
    "start_time": "2023-03-23T15:17:39.973Z"
   },
   {
    "duration": 234,
    "start_time": "2023-03-23T15:18:50.428Z"
   },
   {
    "duration": 3,
    "start_time": "2023-03-23T15:25:07.590Z"
   },
   {
    "duration": 58,
    "start_time": "2023-03-23T15:25:07.595Z"
   },
   {
    "duration": 12,
    "start_time": "2023-03-23T15:25:07.655Z"
   },
   {
    "duration": 3,
    "start_time": "2023-03-23T15:25:07.669Z"
   },
   {
    "duration": 7,
    "start_time": "2023-03-23T15:25:07.674Z"
   },
   {
    "duration": 13,
    "start_time": "2023-03-23T15:25:07.682Z"
   },
   {
    "duration": 5,
    "start_time": "2023-03-23T15:25:07.696Z"
   },
   {
    "duration": 4,
    "start_time": "2023-03-23T15:25:07.702Z"
   },
   {
    "duration": 6,
    "start_time": "2023-03-23T15:25:07.707Z"
   },
   {
    "duration": 4,
    "start_time": "2023-03-23T15:25:07.716Z"
   },
   {
    "duration": 6,
    "start_time": "2023-03-23T15:25:07.721Z"
   },
   {
    "duration": 136,
    "start_time": "2023-03-23T15:25:07.729Z"
   },
   {
    "duration": 139,
    "start_time": "2023-03-23T15:25:07.867Z"
   },
   {
    "duration": 13,
    "start_time": "2023-03-23T15:25:08.009Z"
   },
   {
    "duration": 3,
    "start_time": "2023-03-23T15:25:08.024Z"
   },
   {
    "duration": 7,
    "start_time": "2023-03-23T15:25:08.028Z"
   },
   {
    "duration": 247,
    "start_time": "2023-03-23T15:25:08.036Z"
   },
   {
    "duration": 15,
    "start_time": "2023-03-23T15:25:08.285Z"
   },
   {
    "duration": 3,
    "start_time": "2023-03-23T15:25:08.301Z"
   },
   {
    "duration": 7,
    "start_time": "2023-03-23T15:25:08.305Z"
   },
   {
    "duration": 293,
    "start_time": "2023-03-23T15:25:08.313Z"
   },
   {
    "duration": 235,
    "start_time": "2023-03-23T15:25:08.608Z"
   },
   {
    "duration": 6,
    "start_time": "2023-03-23T15:25:08.845Z"
   },
   {
    "duration": 44,
    "start_time": "2023-03-23T15:25:08.853Z"
   },
   {
    "duration": 0,
    "start_time": "2023-03-23T15:25:08.899Z"
   },
   {
    "duration": 0,
    "start_time": "2023-03-23T15:25:08.900Z"
   },
   {
    "duration": 0,
    "start_time": "2023-03-23T15:25:08.901Z"
   },
   {
    "duration": 0,
    "start_time": "2023-03-23T15:25:08.902Z"
   },
   {
    "duration": 0,
    "start_time": "2023-03-23T15:25:08.903Z"
   },
   {
    "duration": 0,
    "start_time": "2023-03-23T15:25:08.904Z"
   },
   {
    "duration": 0,
    "start_time": "2023-03-23T15:25:08.905Z"
   },
   {
    "duration": 0,
    "start_time": "2023-03-23T15:25:08.906Z"
   },
   {
    "duration": 0,
    "start_time": "2023-03-23T15:25:08.907Z"
   },
   {
    "duration": 0,
    "start_time": "2023-03-23T15:25:08.908Z"
   },
   {
    "duration": 0,
    "start_time": "2023-03-23T15:25:08.908Z"
   },
   {
    "duration": 0,
    "start_time": "2023-03-23T15:25:08.909Z"
   },
   {
    "duration": 0,
    "start_time": "2023-03-23T15:25:08.910Z"
   },
   {
    "duration": 0,
    "start_time": "2023-03-23T15:25:08.911Z"
   },
   {
    "duration": 0,
    "start_time": "2023-03-23T15:25:08.912Z"
   },
   {
    "duration": 0,
    "start_time": "2023-03-23T15:25:08.913Z"
   },
   {
    "duration": 0,
    "start_time": "2023-03-23T15:25:08.914Z"
   },
   {
    "duration": 0,
    "start_time": "2023-03-23T15:25:08.915Z"
   },
   {
    "duration": 0,
    "start_time": "2023-03-23T15:25:08.915Z"
   },
   {
    "duration": 0,
    "start_time": "2023-03-23T15:25:08.917Z"
   },
   {
    "duration": 0,
    "start_time": "2023-03-23T15:25:08.917Z"
   },
   {
    "duration": 0,
    "start_time": "2023-03-23T15:25:08.918Z"
   },
   {
    "duration": 0,
    "start_time": "2023-03-23T15:25:08.919Z"
   },
   {
    "duration": 0,
    "start_time": "2023-03-23T15:25:08.920Z"
   },
   {
    "duration": 0,
    "start_time": "2023-03-23T15:25:08.921Z"
   },
   {
    "duration": 1,
    "start_time": "2023-03-23T15:25:08.921Z"
   },
   {
    "duration": 0,
    "start_time": "2023-03-23T15:25:08.922Z"
   },
   {
    "duration": 0,
    "start_time": "2023-03-23T15:25:08.923Z"
   },
   {
    "duration": 0,
    "start_time": "2023-03-23T15:25:08.924Z"
   },
   {
    "duration": 0,
    "start_time": "2023-03-23T15:25:08.925Z"
   },
   {
    "duration": 0,
    "start_time": "2023-03-23T15:25:08.925Z"
   },
   {
    "duration": 0,
    "start_time": "2023-03-23T15:25:08.926Z"
   },
   {
    "duration": 0,
    "start_time": "2023-03-23T15:25:08.927Z"
   },
   {
    "duration": 0,
    "start_time": "2023-03-23T15:25:08.928Z"
   },
   {
    "duration": 0,
    "start_time": "2023-03-23T15:25:08.929Z"
   },
   {
    "duration": 0,
    "start_time": "2023-03-23T15:25:08.930Z"
   },
   {
    "duration": 1,
    "start_time": "2023-03-23T15:25:08.930Z"
   },
   {
    "duration": 12,
    "start_time": "2023-03-23T15:25:16.507Z"
   },
   {
    "duration": 8,
    "start_time": "2023-03-23T15:25:29.624Z"
   },
   {
    "duration": 3,
    "start_time": "2023-03-23T15:25:33.861Z"
   },
   {
    "duration": 16,
    "start_time": "2023-03-23T15:25:35.907Z"
   },
   {
    "duration": 3,
    "start_time": "2023-03-23T15:25:43.275Z"
   },
   {
    "duration": 6,
    "start_time": "2023-03-23T15:25:45.119Z"
   },
   {
    "duration": 4,
    "start_time": "2023-03-23T15:25:49.506Z"
   },
   {
    "duration": 4,
    "start_time": "2023-03-23T15:25:52.976Z"
   },
   {
    "duration": 4,
    "start_time": "2023-03-23T15:26:01.011Z"
   },
   {
    "duration": 4,
    "start_time": "2023-03-23T15:26:25.191Z"
   },
   {
    "duration": 1052,
    "start_time": "2023-03-23T15:27:08.417Z"
   },
   {
    "duration": 62,
    "start_time": "2023-03-23T15:27:09.471Z"
   },
   {
    "duration": 13,
    "start_time": "2023-03-23T15:27:09.535Z"
   },
   {
    "duration": 3,
    "start_time": "2023-03-23T15:27:09.550Z"
   },
   {
    "duration": 8,
    "start_time": "2023-03-23T15:27:09.554Z"
   },
   {
    "duration": 54,
    "start_time": "2023-03-23T15:27:09.563Z"
   },
   {
    "duration": 7,
    "start_time": "2023-03-23T15:27:09.618Z"
   },
   {
    "duration": 4,
    "start_time": "2023-03-23T15:27:09.626Z"
   },
   {
    "duration": 4,
    "start_time": "2023-03-23T15:27:09.631Z"
   },
   {
    "duration": 4,
    "start_time": "2023-03-23T15:27:09.638Z"
   },
   {
    "duration": 27,
    "start_time": "2023-03-23T15:27:09.643Z"
   },
   {
    "duration": 26,
    "start_time": "2023-03-23T15:27:09.671Z"
   },
   {
    "duration": 155,
    "start_time": "2023-03-23T15:27:09.698Z"
   },
   {
    "duration": 34,
    "start_time": "2023-03-23T15:27:09.854Z"
   },
   {
    "duration": 3,
    "start_time": "2023-03-23T15:27:09.893Z"
   },
   {
    "duration": 5,
    "start_time": "2023-03-23T15:27:09.898Z"
   },
   {
    "duration": 288,
    "start_time": "2023-03-23T15:27:09.905Z"
   },
   {
    "duration": 17,
    "start_time": "2023-03-23T15:27:10.195Z"
   },
   {
    "duration": 3,
    "start_time": "2023-03-23T15:27:10.214Z"
   },
   {
    "duration": 13,
    "start_time": "2023-03-23T15:27:10.219Z"
   },
   {
    "duration": 363,
    "start_time": "2023-03-23T15:27:10.234Z"
   },
   {
    "duration": 306,
    "start_time": "2023-03-23T15:27:10.599Z"
   },
   {
    "duration": 6,
    "start_time": "2023-03-23T15:27:10.907Z"
   },
   {
    "duration": 46,
    "start_time": "2023-03-23T15:27:10.915Z"
   },
   {
    "duration": 0,
    "start_time": "2023-03-23T15:27:10.964Z"
   },
   {
    "duration": 0,
    "start_time": "2023-03-23T15:27:10.966Z"
   },
   {
    "duration": 0,
    "start_time": "2023-03-23T15:27:10.967Z"
   },
   {
    "duration": 0,
    "start_time": "2023-03-23T15:27:10.971Z"
   },
   {
    "duration": 0,
    "start_time": "2023-03-23T15:27:10.972Z"
   },
   {
    "duration": 0,
    "start_time": "2023-03-23T15:27:10.984Z"
   },
   {
    "duration": 0,
    "start_time": "2023-03-23T15:27:10.985Z"
   },
   {
    "duration": 0,
    "start_time": "2023-03-23T15:27:10.988Z"
   },
   {
    "duration": 0,
    "start_time": "2023-03-23T15:27:10.989Z"
   },
   {
    "duration": 0,
    "start_time": "2023-03-23T15:27:10.990Z"
   },
   {
    "duration": 0,
    "start_time": "2023-03-23T15:27:10.990Z"
   },
   {
    "duration": 0,
    "start_time": "2023-03-23T15:27:10.991Z"
   },
   {
    "duration": 0,
    "start_time": "2023-03-23T15:27:10.992Z"
   },
   {
    "duration": 0,
    "start_time": "2023-03-23T15:27:10.992Z"
   },
   {
    "duration": 0,
    "start_time": "2023-03-23T15:27:10.993Z"
   },
   {
    "duration": 0,
    "start_time": "2023-03-23T15:27:10.995Z"
   },
   {
    "duration": 0,
    "start_time": "2023-03-23T15:27:10.996Z"
   },
   {
    "duration": 0,
    "start_time": "2023-03-23T15:27:10.997Z"
   },
   {
    "duration": 0,
    "start_time": "2023-03-23T15:27:10.998Z"
   },
   {
    "duration": 0,
    "start_time": "2023-03-23T15:27:10.999Z"
   },
   {
    "duration": 0,
    "start_time": "2023-03-23T15:27:11.001Z"
   },
   {
    "duration": 0,
    "start_time": "2023-03-23T15:27:11.002Z"
   },
   {
    "duration": 0,
    "start_time": "2023-03-23T15:27:11.003Z"
   },
   {
    "duration": 0,
    "start_time": "2023-03-23T15:27:11.004Z"
   },
   {
    "duration": 0,
    "start_time": "2023-03-23T15:27:11.005Z"
   },
   {
    "duration": 0,
    "start_time": "2023-03-23T15:27:11.006Z"
   },
   {
    "duration": 0,
    "start_time": "2023-03-23T15:27:11.006Z"
   },
   {
    "duration": 0,
    "start_time": "2023-03-23T15:27:11.007Z"
   },
   {
    "duration": 0,
    "start_time": "2023-03-23T15:27:11.008Z"
   },
   {
    "duration": 0,
    "start_time": "2023-03-23T15:27:11.009Z"
   },
   {
    "duration": 0,
    "start_time": "2023-03-23T15:27:11.010Z"
   },
   {
    "duration": 0,
    "start_time": "2023-03-23T15:27:11.011Z"
   },
   {
    "duration": 0,
    "start_time": "2023-03-23T15:27:11.012Z"
   },
   {
    "duration": 0,
    "start_time": "2023-03-23T15:27:11.013Z"
   },
   {
    "duration": 0,
    "start_time": "2023-03-23T15:27:11.013Z"
   },
   {
    "duration": 0,
    "start_time": "2023-03-23T15:27:11.015Z"
   },
   {
    "duration": 0,
    "start_time": "2023-03-23T15:27:11.015Z"
   },
   {
    "duration": 18,
    "start_time": "2023-03-23T15:27:23.068Z"
   },
   {
    "duration": 10,
    "start_time": "2023-03-23T15:27:24.678Z"
   },
   {
    "duration": 3,
    "start_time": "2023-03-23T15:27:26.327Z"
   },
   {
    "duration": 3,
    "start_time": "2023-03-23T15:27:29.260Z"
   },
   {
    "duration": 7,
    "start_time": "2023-03-23T15:27:30.294Z"
   },
   {
    "duration": 5,
    "start_time": "2023-03-23T15:27:32.027Z"
   },
   {
    "duration": 4,
    "start_time": "2023-03-23T15:27:40.563Z"
   },
   {
    "duration": 8,
    "start_time": "2023-03-23T15:27:42.143Z"
   },
   {
    "duration": 78,
    "start_time": "2023-03-23T15:27:52.608Z"
   },
   {
    "duration": 12,
    "start_time": "2023-03-23T15:28:09.315Z"
   },
   {
    "duration": 9,
    "start_time": "2023-03-23T15:28:13.328Z"
   },
   {
    "duration": 3,
    "start_time": "2023-03-23T15:28:16.672Z"
   },
   {
    "duration": 7,
    "start_time": "2023-03-23T15:28:21.839Z"
   },
   {
    "duration": 4,
    "start_time": "2023-03-23T15:28:25.546Z"
   },
   {
    "duration": 4,
    "start_time": "2023-03-23T15:28:36.361Z"
   },
   {
    "duration": 8,
    "start_time": "2023-03-23T15:28:37.693Z"
   },
   {
    "duration": 78,
    "start_time": "2023-03-23T15:28:40.913Z"
   },
   {
    "duration": 15,
    "start_time": "2023-03-23T15:28:48.148Z"
   },
   {
    "duration": 8,
    "start_time": "2023-03-23T15:28:54.230Z"
   },
   {
    "duration": 9,
    "start_time": "2023-03-23T15:29:01.144Z"
   },
   {
    "duration": 4,
    "start_time": "2023-03-23T15:29:03.999Z"
   },
   {
    "duration": 4,
    "start_time": "2023-03-23T15:29:10.860Z"
   },
   {
    "duration": 12,
    "start_time": "2023-03-23T15:29:12.480Z"
   },
   {
    "duration": 151,
    "start_time": "2023-03-23T15:29:16.410Z"
   },
   {
    "duration": 86,
    "start_time": "2023-03-23T15:33:46.398Z"
   },
   {
    "duration": 9,
    "start_time": "2023-03-23T15:34:07.980Z"
   },
   {
    "duration": 74,
    "start_time": "2023-03-23T15:34:23.664Z"
   },
   {
    "duration": 8,
    "start_time": "2023-03-23T15:35:34.099Z"
   },
   {
    "duration": 92,
    "start_time": "2023-03-23T15:35:42.019Z"
   },
   {
    "duration": 71,
    "start_time": "2023-03-23T15:35:55.930Z"
   },
   {
    "duration": 113,
    "start_time": "2023-03-23T15:43:02.468Z"
   },
   {
    "duration": 177,
    "start_time": "2023-03-23T15:45:55.668Z"
   },
   {
    "duration": 101,
    "start_time": "2023-03-23T15:48:30.852Z"
   },
   {
    "duration": 93,
    "start_time": "2023-03-23T15:49:09.622Z"
   },
   {
    "duration": 92,
    "start_time": "2023-03-23T15:49:21.650Z"
   },
   {
    "duration": 88,
    "start_time": "2023-03-23T15:49:36.481Z"
   },
   {
    "duration": 97,
    "start_time": "2023-03-23T15:49:46.512Z"
   },
   {
    "duration": 52,
    "start_time": "2023-03-23T15:50:33.998Z"
   },
   {
    "duration": 18,
    "start_time": "2023-03-23T15:53:06.597Z"
   },
   {
    "duration": 4,
    "start_time": "2023-03-23T16:05:09.544Z"
   },
   {
    "duration": 3,
    "start_time": "2023-03-23T16:06:15.509Z"
   },
   {
    "duration": 56,
    "start_time": "2023-03-23T16:06:15.514Z"
   },
   {
    "duration": 18,
    "start_time": "2023-03-23T16:06:15.571Z"
   },
   {
    "duration": 4,
    "start_time": "2023-03-23T16:06:15.591Z"
   },
   {
    "duration": 14,
    "start_time": "2023-03-23T16:06:15.598Z"
   },
   {
    "duration": 22,
    "start_time": "2023-03-23T16:06:15.614Z"
   },
   {
    "duration": 34,
    "start_time": "2023-03-23T16:06:15.638Z"
   },
   {
    "duration": 5,
    "start_time": "2023-03-23T16:06:15.674Z"
   },
   {
    "duration": 6,
    "start_time": "2023-03-23T16:06:15.681Z"
   },
   {
    "duration": 6,
    "start_time": "2023-03-23T16:06:15.688Z"
   },
   {
    "duration": 5,
    "start_time": "2023-03-23T16:06:15.696Z"
   },
   {
    "duration": 5,
    "start_time": "2023-03-23T16:06:15.703Z"
   },
   {
    "duration": 15,
    "start_time": "2023-03-23T16:06:15.710Z"
   },
   {
    "duration": 173,
    "start_time": "2023-03-23T16:06:15.727Z"
   },
   {
    "duration": 14,
    "start_time": "2023-03-23T16:06:15.902Z"
   },
   {
    "duration": 4,
    "start_time": "2023-03-23T16:06:15.917Z"
   },
   {
    "duration": 5,
    "start_time": "2023-03-23T16:06:15.923Z"
   },
   {
    "duration": 280,
    "start_time": "2023-03-23T16:06:15.930Z"
   },
   {
    "duration": 16,
    "start_time": "2023-03-23T16:06:16.211Z"
   },
   {
    "duration": 4,
    "start_time": "2023-03-23T16:06:16.229Z"
   },
   {
    "duration": 18,
    "start_time": "2023-03-23T16:06:16.234Z"
   },
   {
    "duration": 371,
    "start_time": "2023-03-23T16:06:16.254Z"
   },
   {
    "duration": 242,
    "start_time": "2023-03-23T16:06:16.627Z"
   },
   {
    "duration": 5,
    "start_time": "2023-03-23T16:06:16.871Z"
   },
   {
    "duration": 46,
    "start_time": "2023-03-23T16:06:16.878Z"
   },
   {
    "duration": 0,
    "start_time": "2023-03-23T16:06:16.927Z"
   },
   {
    "duration": 0,
    "start_time": "2023-03-23T16:06:16.929Z"
   },
   {
    "duration": 0,
    "start_time": "2023-03-23T16:06:16.930Z"
   },
   {
    "duration": 0,
    "start_time": "2023-03-23T16:06:16.931Z"
   },
   {
    "duration": 0,
    "start_time": "2023-03-23T16:06:16.933Z"
   },
   {
    "duration": 0,
    "start_time": "2023-03-23T16:06:16.933Z"
   },
   {
    "duration": 0,
    "start_time": "2023-03-23T16:06:16.934Z"
   },
   {
    "duration": 0,
    "start_time": "2023-03-23T16:06:16.935Z"
   },
   {
    "duration": 0,
    "start_time": "2023-03-23T16:06:16.936Z"
   },
   {
    "duration": 0,
    "start_time": "2023-03-23T16:06:16.937Z"
   },
   {
    "duration": 0,
    "start_time": "2023-03-23T16:06:16.938Z"
   },
   {
    "duration": 0,
    "start_time": "2023-03-23T16:06:16.939Z"
   },
   {
    "duration": 0,
    "start_time": "2023-03-23T16:06:16.939Z"
   },
   {
    "duration": 0,
    "start_time": "2023-03-23T16:06:16.940Z"
   },
   {
    "duration": 0,
    "start_time": "2023-03-23T16:06:16.941Z"
   },
   {
    "duration": 0,
    "start_time": "2023-03-23T16:06:16.942Z"
   },
   {
    "duration": 0,
    "start_time": "2023-03-23T16:06:16.943Z"
   },
   {
    "duration": 0,
    "start_time": "2023-03-23T16:06:16.944Z"
   },
   {
    "duration": 0,
    "start_time": "2023-03-23T16:06:16.945Z"
   },
   {
    "duration": 0,
    "start_time": "2023-03-23T16:06:16.946Z"
   },
   {
    "duration": 0,
    "start_time": "2023-03-23T16:06:16.946Z"
   },
   {
    "duration": 0,
    "start_time": "2023-03-23T16:06:16.947Z"
   },
   {
    "duration": 0,
    "start_time": "2023-03-23T16:06:16.948Z"
   },
   {
    "duration": 0,
    "start_time": "2023-03-23T16:06:16.949Z"
   },
   {
    "duration": 0,
    "start_time": "2023-03-23T16:06:16.950Z"
   },
   {
    "duration": 0,
    "start_time": "2023-03-23T16:06:16.951Z"
   },
   {
    "duration": 0,
    "start_time": "2023-03-23T16:06:16.952Z"
   },
   {
    "duration": 0,
    "start_time": "2023-03-23T16:06:16.953Z"
   },
   {
    "duration": 0,
    "start_time": "2023-03-23T16:06:16.954Z"
   },
   {
    "duration": 0,
    "start_time": "2023-03-23T16:06:16.969Z"
   },
   {
    "duration": 0,
    "start_time": "2023-03-23T16:06:16.970Z"
   },
   {
    "duration": 0,
    "start_time": "2023-03-23T16:06:16.971Z"
   },
   {
    "duration": 0,
    "start_time": "2023-03-23T16:06:16.973Z"
   },
   {
    "duration": 0,
    "start_time": "2023-03-23T16:06:16.974Z"
   },
   {
    "duration": 0,
    "start_time": "2023-03-23T16:06:16.975Z"
   },
   {
    "duration": 0,
    "start_time": "2023-03-23T16:06:16.977Z"
   },
   {
    "duration": 0,
    "start_time": "2023-03-23T16:06:16.978Z"
   },
   {
    "duration": 13,
    "start_time": "2023-03-23T16:06:27.113Z"
   },
   {
    "duration": 17,
    "start_time": "2023-03-23T16:06:30.282Z"
   },
   {
    "duration": 16,
    "start_time": "2023-03-23T16:06:31.982Z"
   },
   {
    "duration": 46,
    "start_time": "2023-03-23T16:08:39.964Z"
   },
   {
    "duration": 3,
    "start_time": "2023-03-23T16:18:00.861Z"
   },
   {
    "duration": 72,
    "start_time": "2023-03-23T16:18:00.868Z"
   },
   {
    "duration": 13,
    "start_time": "2023-03-23T16:18:00.942Z"
   },
   {
    "duration": 3,
    "start_time": "2023-03-23T16:18:00.956Z"
   },
   {
    "duration": 22,
    "start_time": "2023-03-23T16:18:00.960Z"
   },
   {
    "duration": 25,
    "start_time": "2023-03-23T16:18:00.985Z"
   },
   {
    "duration": 6,
    "start_time": "2023-03-23T16:18:01.012Z"
   },
   {
    "duration": 11,
    "start_time": "2023-03-23T16:18:01.019Z"
   },
   {
    "duration": 34,
    "start_time": "2023-03-23T16:18:01.031Z"
   },
   {
    "duration": 9,
    "start_time": "2023-03-23T16:18:01.067Z"
   },
   {
    "duration": 33,
    "start_time": "2023-03-23T16:18:01.077Z"
   },
   {
    "duration": 30,
    "start_time": "2023-03-23T16:18:01.112Z"
   },
   {
    "duration": 42,
    "start_time": "2023-03-23T16:18:01.143Z"
   },
   {
    "duration": 132,
    "start_time": "2023-03-23T16:18:01.187Z"
   },
   {
    "duration": 13,
    "start_time": "2023-03-23T16:18:01.322Z"
   },
   {
    "duration": 15,
    "start_time": "2023-03-23T16:18:01.337Z"
   },
   {
    "duration": 35,
    "start_time": "2023-03-23T16:18:01.354Z"
   },
   {
    "duration": 241,
    "start_time": "2023-03-23T16:18:01.391Z"
   },
   {
    "duration": 17,
    "start_time": "2023-03-23T16:18:01.633Z"
   },
   {
    "duration": 23,
    "start_time": "2023-03-23T16:18:01.651Z"
   },
   {
    "duration": 40,
    "start_time": "2023-03-23T16:18:01.675Z"
   },
   {
    "duration": 303,
    "start_time": "2023-03-23T16:18:01.716Z"
   },
   {
    "duration": 244,
    "start_time": "2023-03-23T16:18:02.020Z"
   },
   {
    "duration": 8,
    "start_time": "2023-03-23T16:18:02.265Z"
   },
   {
    "duration": 62,
    "start_time": "2023-03-23T16:18:02.274Z"
   },
   {
    "duration": 0,
    "start_time": "2023-03-23T16:18:02.338Z"
   },
   {
    "duration": 0,
    "start_time": "2023-03-23T16:18:02.339Z"
   },
   {
    "duration": 0,
    "start_time": "2023-03-23T16:18:02.340Z"
   },
   {
    "duration": 0,
    "start_time": "2023-03-23T16:18:02.341Z"
   },
   {
    "duration": 0,
    "start_time": "2023-03-23T16:18:02.342Z"
   },
   {
    "duration": 0,
    "start_time": "2023-03-23T16:18:02.342Z"
   },
   {
    "duration": 0,
    "start_time": "2023-03-23T16:18:02.343Z"
   },
   {
    "duration": 0,
    "start_time": "2023-03-23T16:18:02.344Z"
   },
   {
    "duration": 0,
    "start_time": "2023-03-23T16:18:02.345Z"
   },
   {
    "duration": 0,
    "start_time": "2023-03-23T16:18:02.346Z"
   },
   {
    "duration": 0,
    "start_time": "2023-03-23T16:18:02.347Z"
   },
   {
    "duration": 0,
    "start_time": "2023-03-23T16:18:02.348Z"
   },
   {
    "duration": 0,
    "start_time": "2023-03-23T16:18:02.349Z"
   },
   {
    "duration": 0,
    "start_time": "2023-03-23T16:18:02.350Z"
   },
   {
    "duration": 0,
    "start_time": "2023-03-23T16:18:02.350Z"
   },
   {
    "duration": 0,
    "start_time": "2023-03-23T16:18:02.351Z"
   },
   {
    "duration": 0,
    "start_time": "2023-03-23T16:18:02.352Z"
   },
   {
    "duration": 0,
    "start_time": "2023-03-23T16:18:02.353Z"
   },
   {
    "duration": 0,
    "start_time": "2023-03-23T16:18:02.354Z"
   },
   {
    "duration": 0,
    "start_time": "2023-03-23T16:18:02.355Z"
   },
   {
    "duration": 0,
    "start_time": "2023-03-23T16:18:02.356Z"
   },
   {
    "duration": 0,
    "start_time": "2023-03-23T16:18:02.357Z"
   },
   {
    "duration": 0,
    "start_time": "2023-03-23T16:18:02.358Z"
   },
   {
    "duration": 0,
    "start_time": "2023-03-23T16:18:02.359Z"
   },
   {
    "duration": 0,
    "start_time": "2023-03-23T16:18:02.360Z"
   },
   {
    "duration": 0,
    "start_time": "2023-03-23T16:18:02.360Z"
   },
   {
    "duration": 0,
    "start_time": "2023-03-23T16:18:02.361Z"
   },
   {
    "duration": 0,
    "start_time": "2023-03-23T16:18:02.362Z"
   },
   {
    "duration": 0,
    "start_time": "2023-03-23T16:18:02.362Z"
   },
   {
    "duration": 0,
    "start_time": "2023-03-23T16:18:02.363Z"
   },
   {
    "duration": 0,
    "start_time": "2023-03-23T16:18:02.364Z"
   },
   {
    "duration": 0,
    "start_time": "2023-03-23T16:18:02.365Z"
   },
   {
    "duration": 0,
    "start_time": "2023-03-23T16:18:02.366Z"
   },
   {
    "duration": 0,
    "start_time": "2023-03-23T16:18:02.367Z"
   },
   {
    "duration": 0,
    "start_time": "2023-03-23T16:18:02.368Z"
   },
   {
    "duration": 0,
    "start_time": "2023-03-23T16:18:02.369Z"
   },
   {
    "duration": 0,
    "start_time": "2023-03-23T16:18:02.370Z"
   },
   {
    "duration": 223,
    "start_time": "2023-03-23T16:19:24.721Z"
   },
   {
    "duration": 14,
    "start_time": "2023-03-23T16:21:16.401Z"
   },
   {
    "duration": 13,
    "start_time": "2023-03-23T16:21:34.957Z"
   },
   {
    "duration": 13,
    "start_time": "2023-03-23T16:21:44.936Z"
   },
   {
    "duration": 9,
    "start_time": "2023-03-23T16:26:30.467Z"
   },
   {
    "duration": 75,
    "start_time": "2023-03-23T16:26:30.477Z"
   },
   {
    "duration": 18,
    "start_time": "2023-03-23T16:26:30.554Z"
   },
   {
    "duration": 20,
    "start_time": "2023-03-23T16:26:30.578Z"
   },
   {
    "duration": 44,
    "start_time": "2023-03-23T16:26:30.600Z"
   },
   {
    "duration": 40,
    "start_time": "2023-03-23T16:26:30.646Z"
   },
   {
    "duration": 16,
    "start_time": "2023-03-23T16:26:30.688Z"
   },
   {
    "duration": 19,
    "start_time": "2023-03-23T16:26:30.705Z"
   },
   {
    "duration": 25,
    "start_time": "2023-03-23T16:26:30.726Z"
   },
   {
    "duration": 31,
    "start_time": "2023-03-23T16:26:30.754Z"
   },
   {
    "duration": 26,
    "start_time": "2023-03-23T16:26:30.787Z"
   },
   {
    "duration": 23,
    "start_time": "2023-03-23T16:26:30.815Z"
   },
   {
    "duration": 52,
    "start_time": "2023-03-23T16:26:30.840Z"
   },
   {
    "duration": 146,
    "start_time": "2023-03-23T16:26:30.896Z"
   },
   {
    "duration": 13,
    "start_time": "2023-03-23T16:26:31.044Z"
   },
   {
    "duration": 15,
    "start_time": "2023-03-23T16:26:31.059Z"
   },
   {
    "duration": 22,
    "start_time": "2023-03-23T16:26:31.075Z"
   },
   {
    "duration": 340,
    "start_time": "2023-03-23T16:26:31.099Z"
   },
   {
    "duration": 16,
    "start_time": "2023-03-23T16:26:31.440Z"
   },
   {
    "duration": 26,
    "start_time": "2023-03-23T16:26:31.458Z"
   },
   {
    "duration": 17,
    "start_time": "2023-03-23T16:26:31.485Z"
   },
   {
    "duration": 327,
    "start_time": "2023-03-23T16:26:31.503Z"
   },
   {
    "duration": 263,
    "start_time": "2023-03-23T16:26:31.831Z"
   },
   {
    "duration": 7,
    "start_time": "2023-03-23T16:26:32.095Z"
   },
   {
    "duration": 46,
    "start_time": "2023-03-23T16:26:32.103Z"
   },
   {
    "duration": 0,
    "start_time": "2023-03-23T16:26:32.152Z"
   },
   {
    "duration": 0,
    "start_time": "2023-03-23T16:26:32.153Z"
   },
   {
    "duration": 0,
    "start_time": "2023-03-23T16:26:32.154Z"
   },
   {
    "duration": 0,
    "start_time": "2023-03-23T16:26:32.156Z"
   },
   {
    "duration": 0,
    "start_time": "2023-03-23T16:26:32.157Z"
   },
   {
    "duration": 0,
    "start_time": "2023-03-23T16:26:32.158Z"
   },
   {
    "duration": 0,
    "start_time": "2023-03-23T16:26:32.159Z"
   },
   {
    "duration": 0,
    "start_time": "2023-03-23T16:26:32.160Z"
   },
   {
    "duration": 0,
    "start_time": "2023-03-23T16:26:32.162Z"
   },
   {
    "duration": 0,
    "start_time": "2023-03-23T16:26:32.163Z"
   },
   {
    "duration": 0,
    "start_time": "2023-03-23T16:26:32.165Z"
   },
   {
    "duration": 0,
    "start_time": "2023-03-23T16:26:32.167Z"
   },
   {
    "duration": 0,
    "start_time": "2023-03-23T16:26:32.167Z"
   },
   {
    "duration": 0,
    "start_time": "2023-03-23T16:26:32.168Z"
   },
   {
    "duration": 0,
    "start_time": "2023-03-23T16:26:32.169Z"
   },
   {
    "duration": 0,
    "start_time": "2023-03-23T16:26:32.171Z"
   },
   {
    "duration": 0,
    "start_time": "2023-03-23T16:26:32.172Z"
   },
   {
    "duration": 0,
    "start_time": "2023-03-23T16:26:32.173Z"
   },
   {
    "duration": 0,
    "start_time": "2023-03-23T16:26:32.174Z"
   },
   {
    "duration": 0,
    "start_time": "2023-03-23T16:26:32.175Z"
   },
   {
    "duration": 1,
    "start_time": "2023-03-23T16:26:32.176Z"
   },
   {
    "duration": 0,
    "start_time": "2023-03-23T16:26:32.178Z"
   },
   {
    "duration": 0,
    "start_time": "2023-03-23T16:26:32.179Z"
   },
   {
    "duration": 0,
    "start_time": "2023-03-23T16:26:32.180Z"
   },
   {
    "duration": 0,
    "start_time": "2023-03-23T16:26:32.181Z"
   },
   {
    "duration": 0,
    "start_time": "2023-03-23T16:26:32.182Z"
   },
   {
    "duration": 0,
    "start_time": "2023-03-23T16:26:32.183Z"
   },
   {
    "duration": 0,
    "start_time": "2023-03-23T16:26:32.185Z"
   },
   {
    "duration": 0,
    "start_time": "2023-03-23T16:26:32.186Z"
   },
   {
    "duration": 0,
    "start_time": "2023-03-23T16:26:32.187Z"
   },
   {
    "duration": 0,
    "start_time": "2023-03-23T16:26:32.188Z"
   },
   {
    "duration": 0,
    "start_time": "2023-03-23T16:26:32.189Z"
   },
   {
    "duration": 0,
    "start_time": "2023-03-23T16:26:32.193Z"
   },
   {
    "duration": 0,
    "start_time": "2023-03-23T16:26:32.194Z"
   },
   {
    "duration": 0,
    "start_time": "2023-03-23T16:26:32.197Z"
   },
   {
    "duration": 0,
    "start_time": "2023-03-23T16:26:32.198Z"
   },
   {
    "duration": 0,
    "start_time": "2023-03-23T16:26:32.200Z"
   },
   {
    "duration": 3,
    "start_time": "2023-03-23T16:27:10.619Z"
   },
   {
    "duration": 50,
    "start_time": "2023-03-23T16:27:12.974Z"
   },
   {
    "duration": 23,
    "start_time": "2023-03-23T16:27:14.863Z"
   },
   {
    "duration": 6,
    "start_time": "2023-03-23T16:27:18.467Z"
   },
   {
    "duration": 9,
    "start_time": "2023-03-23T16:27:21.162Z"
   },
   {
    "duration": 22,
    "start_time": "2023-03-23T16:27:22.054Z"
   },
   {
    "duration": 11,
    "start_time": "2023-03-23T16:27:35.870Z"
   },
   {
    "duration": 5,
    "start_time": "2023-03-23T16:27:38.535Z"
   },
   {
    "duration": 5,
    "start_time": "2023-03-23T16:27:47.182Z"
   },
   {
    "duration": 5,
    "start_time": "2023-03-23T16:27:54.138Z"
   },
   {
    "duration": 5,
    "start_time": "2023-03-23T16:27:55.200Z"
   },
   {
    "duration": 5,
    "start_time": "2023-03-23T16:28:03.843Z"
   },
   {
    "duration": 14,
    "start_time": "2023-03-23T16:28:11.230Z"
   },
   {
    "duration": 15,
    "start_time": "2023-03-23T16:30:19.502Z"
   },
   {
    "duration": 143,
    "start_time": "2023-03-23T16:30:29.015Z"
   },
   {
    "duration": 14,
    "start_time": "2023-03-23T16:30:36.558Z"
   },
   {
    "duration": 3,
    "start_time": "2023-03-23T16:30:37.802Z"
   },
   {
    "duration": 6,
    "start_time": "2023-03-23T16:30:40.266Z"
   },
   {
    "duration": 244,
    "start_time": "2023-03-23T16:30:42.185Z"
   },
   {
    "duration": 15,
    "start_time": "2023-03-23T16:30:50.798Z"
   },
   {
    "duration": 3,
    "start_time": "2023-03-23T16:31:45.783Z"
   },
   {
    "duration": 11,
    "start_time": "2023-03-23T16:31:46.565Z"
   },
   {
    "duration": 282,
    "start_time": "2023-03-23T16:31:49.718Z"
   },
   {
    "duration": 232,
    "start_time": "2023-03-23T16:34:00.385Z"
   },
   {
    "duration": 6,
    "start_time": "2023-03-23T16:34:12.034Z"
   },
   {
    "duration": 37,
    "start_time": "2023-03-23T16:34:14.187Z"
   },
   {
    "duration": 120,
    "start_time": "2023-03-23T16:34:18.078Z"
   },
   {
    "duration": 5,
    "start_time": "2023-03-23T16:34:18.683Z"
   },
   {
    "duration": 135,
    "start_time": "2023-03-23T16:34:19.333Z"
   },
   {
    "duration": 3237,
    "start_time": "2023-03-23T16:34:21.760Z"
   },
   {
    "duration": 234,
    "start_time": "2023-03-23T16:34:26.977Z"
   },
   {
    "duration": 13,
    "start_time": "2023-03-23T16:34:42.644Z"
   },
   {
    "duration": 8,
    "start_time": "2023-03-23T16:34:44.919Z"
   },
   {
    "duration": 2,
    "start_time": "2023-03-23T16:34:45.818Z"
   },
   {
    "duration": 3,
    "start_time": "2023-03-23T16:34:46.667Z"
   },
   {
    "duration": 7,
    "start_time": "2023-03-23T16:34:47.382Z"
   },
   {
    "duration": 4,
    "start_time": "2023-03-23T16:34:48.100Z"
   },
   {
    "duration": 4,
    "start_time": "2023-03-23T16:34:48.798Z"
   },
   {
    "duration": 8,
    "start_time": "2023-03-23T16:34:49.515Z"
   },
   {
    "duration": 119,
    "start_time": "2023-03-23T16:34:50.216Z"
   },
   {
    "duration": 16,
    "start_time": "2023-03-23T16:34:52.644Z"
   },
   {
    "duration": 117,
    "start_time": "2023-03-23T16:35:12.445Z"
   },
   {
    "duration": 114,
    "start_time": "2023-03-23T16:36:50.904Z"
   },
   {
    "duration": 109,
    "start_time": "2023-03-23T16:37:19.106Z"
   },
   {
    "duration": 99,
    "start_time": "2023-03-23T16:37:28.602Z"
   },
   {
    "duration": 106,
    "start_time": "2023-03-23T16:37:41.153Z"
   },
   {
    "duration": 14,
    "start_time": "2023-03-23T16:37:44.436Z"
   },
   {
    "duration": 9,
    "start_time": "2023-03-23T16:37:46.121Z"
   },
   {
    "duration": 2,
    "start_time": "2023-03-23T16:37:46.947Z"
   },
   {
    "duration": 7,
    "start_time": "2023-03-23T16:37:47.649Z"
   },
   {
    "duration": 4,
    "start_time": "2023-03-23T16:37:48.363Z"
   },
   {
    "duration": 4,
    "start_time": "2023-03-23T16:37:49.010Z"
   },
   {
    "duration": 7,
    "start_time": "2023-03-23T16:37:49.615Z"
   },
   {
    "duration": 86,
    "start_time": "2023-03-23T16:37:50.251Z"
   },
   {
    "duration": 92,
    "start_time": "2023-03-23T16:38:09.538Z"
   },
   {
    "duration": 12,
    "start_time": "2023-03-23T16:38:17.417Z"
   },
   {
    "duration": 9,
    "start_time": "2023-03-23T16:38:18.200Z"
   },
   {
    "duration": 7,
    "start_time": "2023-03-23T16:38:18.898Z"
   },
   {
    "duration": 4,
    "start_time": "2023-03-23T16:38:19.583Z"
   },
   {
    "duration": 4,
    "start_time": "2023-03-23T16:38:20.245Z"
   },
   {
    "duration": 7,
    "start_time": "2023-03-23T16:38:21.052Z"
   },
   {
    "duration": 88,
    "start_time": "2023-03-23T16:38:21.750Z"
   },
   {
    "duration": 97,
    "start_time": "2023-03-23T16:38:37.407Z"
   },
   {
    "duration": 13,
    "start_time": "2023-03-23T16:38:44.633Z"
   },
   {
    "duration": 12,
    "start_time": "2023-03-23T16:38:46.020Z"
   },
   {
    "duration": 16,
    "start_time": "2023-03-23T16:38:48.003Z"
   },
   {
    "duration": 13,
    "start_time": "2023-03-23T16:38:51.655Z"
   },
   {
    "duration": 13,
    "start_time": "2023-03-23T16:38:52.316Z"
   },
   {
    "duration": 12,
    "start_time": "2023-03-23T16:38:53.115Z"
   },
   {
    "duration": 10,
    "start_time": "2023-03-23T16:38:58.052Z"
   },
   {
    "duration": 8,
    "start_time": "2023-03-23T16:38:59.648Z"
   },
   {
    "duration": 62,
    "start_time": "2023-03-23T16:43:08.625Z"
   },
   {
    "duration": 6,
    "start_time": "2023-03-23T17:11:26.449Z"
   },
   {
    "duration": 6,
    "start_time": "2023-03-23T17:11:44.884Z"
   },
   {
    "duration": 114,
    "start_time": "2023-03-23T17:11:53.719Z"
   },
   {
    "duration": 2,
    "start_time": "2023-03-23T17:12:03.810Z"
   },
   {
    "duration": 51,
    "start_time": "2023-03-23T17:12:03.815Z"
   },
   {
    "duration": 11,
    "start_time": "2023-03-23T17:12:03.868Z"
   },
   {
    "duration": 3,
    "start_time": "2023-03-23T17:12:03.881Z"
   },
   {
    "duration": 22,
    "start_time": "2023-03-23T17:12:03.886Z"
   },
   {
    "duration": 13,
    "start_time": "2023-03-23T17:12:03.909Z"
   },
   {
    "duration": 6,
    "start_time": "2023-03-23T17:12:03.923Z"
   },
   {
    "duration": 4,
    "start_time": "2023-03-23T17:12:03.930Z"
   },
   {
    "duration": 7,
    "start_time": "2023-03-23T17:12:03.935Z"
   },
   {
    "duration": 25,
    "start_time": "2023-03-23T17:12:03.943Z"
   },
   {
    "duration": 4,
    "start_time": "2023-03-23T17:12:03.971Z"
   },
   {
    "duration": 7,
    "start_time": "2023-03-23T17:12:03.977Z"
   },
   {
    "duration": 23,
    "start_time": "2023-03-23T17:12:03.985Z"
   },
   {
    "duration": 144,
    "start_time": "2023-03-23T17:12:04.009Z"
   },
   {
    "duration": 20,
    "start_time": "2023-03-23T17:12:04.154Z"
   },
   {
    "duration": 3,
    "start_time": "2023-03-23T17:12:04.175Z"
   },
   {
    "duration": 5,
    "start_time": "2023-03-23T17:12:04.179Z"
   },
   {
    "duration": 253,
    "start_time": "2023-03-23T17:12:04.186Z"
   },
   {
    "duration": 16,
    "start_time": "2023-03-23T17:12:04.440Z"
   },
   {
    "duration": 12,
    "start_time": "2023-03-23T17:12:04.457Z"
   },
   {
    "duration": 10,
    "start_time": "2023-03-23T17:12:04.471Z"
   },
   {
    "duration": 280,
    "start_time": "2023-03-23T17:12:04.482Z"
   },
   {
    "duration": 395,
    "start_time": "2023-03-23T17:12:04.763Z"
   },
   {
    "duration": 10,
    "start_time": "2023-03-23T17:12:05.159Z"
   },
   {
    "duration": 20,
    "start_time": "2023-03-23T17:12:05.171Z"
   },
   {
    "duration": 113,
    "start_time": "2023-03-23T17:12:05.192Z"
   },
   {
    "duration": 4,
    "start_time": "2023-03-23T17:12:05.306Z"
   },
   {
    "duration": 124,
    "start_time": "2023-03-23T17:12:05.312Z"
   },
   {
    "duration": 3187,
    "start_time": "2023-03-23T17:12:05.439Z"
   },
   {
    "duration": 250,
    "start_time": "2023-03-23T17:12:08.628Z"
   },
   {
    "duration": 12,
    "start_time": "2023-03-23T17:12:08.880Z"
   },
   {
    "duration": 7,
    "start_time": "2023-03-23T17:12:08.894Z"
   },
   {
    "duration": 5,
    "start_time": "2023-03-23T17:12:08.903Z"
   },
   {
    "duration": 4,
    "start_time": "2023-03-23T17:12:08.909Z"
   },
   {
    "duration": 8,
    "start_time": "2023-03-23T17:12:08.915Z"
   },
   {
    "duration": 5,
    "start_time": "2023-03-23T17:12:08.924Z"
   },
   {
    "duration": 39,
    "start_time": "2023-03-23T17:12:08.930Z"
   },
   {
    "duration": 26,
    "start_time": "2023-03-23T17:12:08.971Z"
   },
   {
    "duration": 103,
    "start_time": "2023-03-23T17:12:08.998Z"
   },
   {
    "duration": 14,
    "start_time": "2023-03-23T17:12:09.102Z"
   },
   {
    "duration": 8,
    "start_time": "2023-03-23T17:12:09.118Z"
   },
   {
    "duration": 6,
    "start_time": "2023-03-23T17:12:09.128Z"
   },
   {
    "duration": 10,
    "start_time": "2023-03-23T17:12:09.135Z"
   },
   {
    "duration": 24,
    "start_time": "2023-03-23T17:12:09.147Z"
   },
   {
    "duration": 40,
    "start_time": "2023-03-23T17:12:09.172Z"
   },
   {
    "duration": 11,
    "start_time": "2023-03-23T17:12:09.213Z"
   },
   {
    "duration": 94,
    "start_time": "2023-03-23T17:12:09.225Z"
   },
   {
    "duration": 12,
    "start_time": "2023-03-23T17:12:09.321Z"
   },
   {
    "duration": 7,
    "start_time": "2023-03-23T17:12:09.335Z"
   },
   {
    "duration": 7,
    "start_time": "2023-03-23T17:12:09.343Z"
   },
   {
    "duration": 19,
    "start_time": "2023-03-23T17:12:09.351Z"
   },
   {
    "duration": 4,
    "start_time": "2023-03-23T17:12:09.371Z"
   },
   {
    "duration": 11,
    "start_time": "2023-03-23T17:12:09.377Z"
   },
   {
    "duration": 111,
    "start_time": "2023-03-23T17:12:09.389Z"
   },
   {
    "duration": 15,
    "start_time": "2023-03-23T17:12:09.502Z"
   },
   {
    "duration": 14,
    "start_time": "2023-03-23T17:12:09.518Z"
   },
   {
    "duration": 11,
    "start_time": "2023-03-23T17:12:09.533Z"
   },
   {
    "duration": 33,
    "start_time": "2023-03-23T17:12:09.545Z"
   },
   {
    "duration": 11,
    "start_time": "2023-03-23T17:12:09.579Z"
   },
   {
    "duration": 12,
    "start_time": "2023-03-23T17:12:09.591Z"
   },
   {
    "duration": 8,
    "start_time": "2023-03-23T17:12:09.605Z"
   },
   {
    "duration": 8,
    "start_time": "2023-03-23T17:12:09.615Z"
   },
   {
    "duration": 5,
    "start_time": "2023-03-23T17:12:43.229Z"
   },
   {
    "duration": 5,
    "start_time": "2023-03-23T17:12:44.105Z"
   },
   {
    "duration": 101,
    "start_time": "2023-03-23T17:12:45.438Z"
   },
   {
    "duration": 6,
    "start_time": "2023-03-23T17:13:48.748Z"
   },
   {
    "duration": 6,
    "start_time": "2023-03-23T17:14:19.849Z"
   },
   {
    "duration": 6,
    "start_time": "2023-03-23T17:14:20.915Z"
   },
   {
    "duration": 6,
    "start_time": "2023-03-23T17:14:41.479Z"
   },
   {
    "duration": 113,
    "start_time": "2023-03-23T17:14:48.066Z"
   },
   {
    "duration": 7,
    "start_time": "2023-03-23T17:15:16.300Z"
   },
   {
    "duration": 129,
    "start_time": "2023-03-23T17:15:17.816Z"
   },
   {
    "duration": 117,
    "start_time": "2023-03-23T17:15:25.813Z"
   },
   {
    "duration": 243,
    "start_time": "2023-03-23T17:17:21.979Z"
   },
   {
    "duration": 6,
    "start_time": "2023-03-23T17:17:45.768Z"
   },
   {
    "duration": 129,
    "start_time": "2023-03-23T17:18:16.947Z"
   },
   {
    "duration": 5,
    "start_time": "2023-03-23T17:18:33.247Z"
   },
   {
    "duration": 123,
    "start_time": "2023-03-23T17:18:51.559Z"
   },
   {
    "duration": 6,
    "start_time": "2023-03-23T17:19:10.834Z"
   },
   {
    "duration": 120,
    "start_time": "2023-03-23T17:19:12.863Z"
   },
   {
    "duration": 1096,
    "start_time": "2023-03-23T17:19:32.050Z"
   },
   {
    "duration": 47,
    "start_time": "2023-03-23T17:19:33.148Z"
   },
   {
    "duration": 13,
    "start_time": "2023-03-23T17:19:33.196Z"
   },
   {
    "duration": 3,
    "start_time": "2023-03-23T17:19:33.210Z"
   },
   {
    "duration": 8,
    "start_time": "2023-03-23T17:19:33.214Z"
   },
   {
    "duration": 57,
    "start_time": "2023-03-23T17:19:33.223Z"
   },
   {
    "duration": 6,
    "start_time": "2023-03-23T17:19:33.281Z"
   },
   {
    "duration": 13,
    "start_time": "2023-03-23T17:19:33.288Z"
   },
   {
    "duration": 8,
    "start_time": "2023-03-23T17:19:33.303Z"
   },
   {
    "duration": 4,
    "start_time": "2023-03-23T17:19:33.313Z"
   },
   {
    "duration": 4,
    "start_time": "2023-03-23T17:19:33.319Z"
   },
   {
    "duration": 3,
    "start_time": "2023-03-23T17:19:33.325Z"
   },
   {
    "duration": 13,
    "start_time": "2023-03-23T17:19:33.330Z"
   },
   {
    "duration": 155,
    "start_time": "2023-03-23T17:19:33.344Z"
   },
   {
    "duration": 14,
    "start_time": "2023-03-23T17:19:33.500Z"
   },
   {
    "duration": 3,
    "start_time": "2023-03-23T17:19:33.516Z"
   },
   {
    "duration": 6,
    "start_time": "2023-03-23T17:19:33.520Z"
   },
   {
    "duration": 292,
    "start_time": "2023-03-23T17:19:33.527Z"
   },
   {
    "duration": 16,
    "start_time": "2023-03-23T17:19:33.821Z"
   },
   {
    "duration": 21,
    "start_time": "2023-03-23T17:19:33.838Z"
   },
   {
    "duration": 21,
    "start_time": "2023-03-23T17:19:33.860Z"
   },
   {
    "duration": 274,
    "start_time": "2023-03-23T17:19:33.883Z"
   },
   {
    "duration": 237,
    "start_time": "2023-03-23T17:19:34.159Z"
   },
   {
    "duration": 5,
    "start_time": "2023-03-23T17:19:34.398Z"
   },
   {
    "duration": 12,
    "start_time": "2023-03-23T17:19:34.405Z"
   },
   {
    "duration": 128,
    "start_time": "2023-03-23T17:19:34.418Z"
   },
   {
    "duration": 6,
    "start_time": "2023-03-23T17:19:34.547Z"
   },
   {
    "duration": 129,
    "start_time": "2023-03-23T17:19:34.556Z"
   },
   {
    "duration": 3164,
    "start_time": "2023-03-23T17:19:34.686Z"
   },
   {
    "duration": 230,
    "start_time": "2023-03-23T17:19:37.852Z"
   },
   {
    "duration": 13,
    "start_time": "2023-03-23T17:19:38.083Z"
   },
   {
    "duration": 12,
    "start_time": "2023-03-23T17:19:38.097Z"
   },
   {
    "duration": 18,
    "start_time": "2023-03-23T17:19:38.110Z"
   },
   {
    "duration": 9,
    "start_time": "2023-03-23T17:19:38.129Z"
   },
   {
    "duration": 8,
    "start_time": "2023-03-23T17:19:38.139Z"
   },
   {
    "duration": 7,
    "start_time": "2023-03-23T17:19:38.148Z"
   },
   {
    "duration": 4,
    "start_time": "2023-03-23T17:19:38.157Z"
   },
   {
    "duration": 8,
    "start_time": "2023-03-23T17:19:38.162Z"
   },
   {
    "duration": 105,
    "start_time": "2023-03-23T17:19:38.172Z"
   },
   {
    "duration": 13,
    "start_time": "2023-03-23T17:19:38.278Z"
   },
   {
    "duration": 8,
    "start_time": "2023-03-23T17:19:38.292Z"
   },
   {
    "duration": 4,
    "start_time": "2023-03-23T17:19:38.301Z"
   },
   {
    "duration": 7,
    "start_time": "2023-03-23T17:19:38.307Z"
   },
   {
    "duration": 5,
    "start_time": "2023-03-23T17:19:38.315Z"
   },
   {
    "duration": 4,
    "start_time": "2023-03-23T17:19:38.321Z"
   },
   {
    "duration": 11,
    "start_time": "2023-03-23T17:19:38.326Z"
   },
   {
    "duration": 123,
    "start_time": "2023-03-23T17:19:38.338Z"
   },
   {
    "duration": 12,
    "start_time": "2023-03-23T17:19:38.469Z"
   },
   {
    "duration": 34,
    "start_time": "2023-03-23T17:19:38.482Z"
   },
   {
    "duration": 17,
    "start_time": "2023-03-23T17:19:38.518Z"
   },
   {
    "duration": 5,
    "start_time": "2023-03-23T17:19:38.537Z"
   },
   {
    "duration": 4,
    "start_time": "2023-03-23T17:19:38.543Z"
   },
   {
    "duration": 10,
    "start_time": "2023-03-23T17:19:38.549Z"
   },
   {
    "duration": 95,
    "start_time": "2023-03-23T17:19:38.560Z"
   },
   {
    "duration": 19,
    "start_time": "2023-03-23T17:19:38.656Z"
   },
   {
    "duration": 11,
    "start_time": "2023-03-23T17:19:38.676Z"
   },
   {
    "duration": 11,
    "start_time": "2023-03-23T17:19:38.688Z"
   },
   {
    "duration": 16,
    "start_time": "2023-03-23T17:19:38.700Z"
   },
   {
    "duration": 11,
    "start_time": "2023-03-23T17:19:38.717Z"
   },
   {
    "duration": 22,
    "start_time": "2023-03-23T17:19:38.730Z"
   },
   {
    "duration": 20,
    "start_time": "2023-03-23T17:19:38.753Z"
   },
   {
    "duration": 11,
    "start_time": "2023-03-23T17:19:38.774Z"
   },
   {
    "duration": 3,
    "start_time": "2023-03-23T17:19:40.955Z"
   },
   {
    "duration": 48,
    "start_time": "2023-03-23T17:19:40.961Z"
   },
   {
    "duration": 12,
    "start_time": "2023-03-23T17:19:41.011Z"
   },
   {
    "duration": 3,
    "start_time": "2023-03-23T17:19:41.024Z"
   },
   {
    "duration": 7,
    "start_time": "2023-03-23T17:19:41.028Z"
   },
   {
    "duration": 12,
    "start_time": "2023-03-23T17:19:41.037Z"
   },
   {
    "duration": 21,
    "start_time": "2023-03-23T17:19:41.050Z"
   },
   {
    "duration": 4,
    "start_time": "2023-03-23T17:19:41.072Z"
   },
   {
    "duration": 4,
    "start_time": "2023-03-23T17:19:41.078Z"
   },
   {
    "duration": 4,
    "start_time": "2023-03-23T17:19:41.083Z"
   },
   {
    "duration": 7,
    "start_time": "2023-03-23T17:19:41.088Z"
   },
   {
    "duration": 4,
    "start_time": "2023-03-23T17:19:41.097Z"
   },
   {
    "duration": 18,
    "start_time": "2023-03-23T17:19:41.103Z"
   },
   {
    "duration": 148,
    "start_time": "2023-03-23T17:19:41.123Z"
   },
   {
    "duration": 16,
    "start_time": "2023-03-23T17:19:41.275Z"
   },
   {
    "duration": 3,
    "start_time": "2023-03-23T17:19:41.293Z"
   },
   {
    "duration": 6,
    "start_time": "2023-03-23T17:19:41.298Z"
   },
   {
    "duration": 264,
    "start_time": "2023-03-23T17:19:41.305Z"
   },
   {
    "duration": 15,
    "start_time": "2023-03-23T17:19:41.571Z"
   },
   {
    "duration": 3,
    "start_time": "2023-03-23T17:19:41.587Z"
   },
   {
    "duration": 7,
    "start_time": "2023-03-23T17:19:41.591Z"
   },
   {
    "duration": 292,
    "start_time": "2023-03-23T17:19:41.599Z"
   },
   {
    "duration": 235,
    "start_time": "2023-03-23T17:19:41.893Z"
   },
   {
    "duration": 5,
    "start_time": "2023-03-23T17:19:42.130Z"
   },
   {
    "duration": 14,
    "start_time": "2023-03-23T17:19:42.136Z"
   },
   {
    "duration": 113,
    "start_time": "2023-03-23T17:19:42.151Z"
   },
   {
    "duration": 5,
    "start_time": "2023-03-23T17:19:42.268Z"
   },
   {
    "duration": 143,
    "start_time": "2023-03-23T17:19:42.275Z"
   },
   {
    "duration": 3157,
    "start_time": "2023-03-23T17:19:42.420Z"
   },
   {
    "duration": 310,
    "start_time": "2023-03-23T17:19:45.578Z"
   },
   {
    "duration": 13,
    "start_time": "2023-03-23T17:19:45.890Z"
   },
   {
    "duration": 9,
    "start_time": "2023-03-23T17:19:45.904Z"
   },
   {
    "duration": 4,
    "start_time": "2023-03-23T17:19:45.914Z"
   },
   {
    "duration": 3,
    "start_time": "2023-03-23T17:19:45.920Z"
   },
   {
    "duration": 7,
    "start_time": "2023-03-23T17:19:45.925Z"
   },
   {
    "duration": 36,
    "start_time": "2023-03-23T17:19:45.933Z"
   },
   {
    "duration": 4,
    "start_time": "2023-03-23T17:19:45.971Z"
   },
   {
    "duration": 8,
    "start_time": "2023-03-23T17:19:45.976Z"
   },
   {
    "duration": 109,
    "start_time": "2023-03-23T17:19:45.986Z"
   },
   {
    "duration": 12,
    "start_time": "2023-03-23T17:19:46.097Z"
   },
   {
    "duration": 7,
    "start_time": "2023-03-23T17:19:46.111Z"
   },
   {
    "duration": 2,
    "start_time": "2023-03-23T17:19:46.122Z"
   },
   {
    "duration": 8,
    "start_time": "2023-03-23T17:19:46.126Z"
   },
   {
    "duration": 5,
    "start_time": "2023-03-23T17:19:46.135Z"
   },
   {
    "duration": 3,
    "start_time": "2023-03-23T17:19:46.168Z"
   },
   {
    "duration": 8,
    "start_time": "2023-03-23T17:19:46.173Z"
   },
   {
    "duration": 97,
    "start_time": "2023-03-23T17:19:46.182Z"
   },
   {
    "duration": 12,
    "start_time": "2023-03-23T17:19:46.281Z"
   },
   {
    "duration": 7,
    "start_time": "2023-03-23T17:19:46.294Z"
   },
   {
    "duration": 6,
    "start_time": "2023-03-23T17:19:46.302Z"
   },
   {
    "duration": 4,
    "start_time": "2023-03-23T17:19:46.310Z"
   },
   {
    "duration": 5,
    "start_time": "2023-03-23T17:19:46.315Z"
   },
   {
    "duration": 9,
    "start_time": "2023-03-23T17:19:46.321Z"
   },
   {
    "duration": 122,
    "start_time": "2023-03-23T17:19:46.331Z"
   },
   {
    "duration": 18,
    "start_time": "2023-03-23T17:19:46.455Z"
   },
   {
    "duration": 11,
    "start_time": "2023-03-23T17:19:46.474Z"
   },
   {
    "duration": 13,
    "start_time": "2023-03-23T17:19:46.487Z"
   },
   {
    "duration": 10,
    "start_time": "2023-03-23T17:19:46.502Z"
   },
   {
    "duration": 11,
    "start_time": "2023-03-23T17:19:46.513Z"
   },
   {
    "duration": 10,
    "start_time": "2023-03-23T17:19:46.526Z"
   },
   {
    "duration": 35,
    "start_time": "2023-03-23T17:19:46.537Z"
   },
   {
    "duration": 7,
    "start_time": "2023-03-23T17:19:46.574Z"
   },
   {
    "duration": 5,
    "start_time": "2023-03-23T17:20:11.056Z"
   },
   {
    "duration": 6,
    "start_time": "2023-03-23T17:20:13.368Z"
   },
   {
    "duration": 120,
    "start_time": "2023-03-23T17:20:15.773Z"
   },
   {
    "duration": 5,
    "start_time": "2023-03-23T17:20:18.520Z"
   },
   {
    "duration": 127,
    "start_time": "2023-03-23T17:20:19.839Z"
   },
   {
    "duration": 2790,
    "start_time": "2023-03-23T17:23:37.217Z"
   },
   {
    "duration": 44,
    "start_time": "2023-03-23T17:30:31.579Z"
   },
   {
    "duration": 4,
    "start_time": "2023-03-23T17:30:44.816Z"
   },
   {
    "duration": 147,
    "start_time": "2023-03-23T17:30:52.224Z"
   },
   {
    "duration": 98,
    "start_time": "2023-03-23T17:31:30.940Z"
   },
   {
    "duration": 12,
    "start_time": "2023-03-23T17:33:33.597Z"
   },
   {
    "duration": 4,
    "start_time": "2023-03-23T17:34:42.071Z"
   },
   {
    "duration": 6,
    "start_time": "2023-03-23T17:35:56.630Z"
   },
   {
    "duration": 5,
    "start_time": "2023-03-23T17:36:28.441Z"
   },
   {
    "duration": 6,
    "start_time": "2023-03-23T17:36:29.357Z"
   },
   {
    "duration": 114,
    "start_time": "2023-03-23T17:36:32.391Z"
   },
   {
    "duration": 5,
    "start_time": "2023-03-23T17:37:44.657Z"
   },
   {
    "duration": 5,
    "start_time": "2023-03-23T17:38:06.560Z"
   },
   {
    "duration": 122,
    "start_time": "2023-03-23T17:38:20.395Z"
   },
   {
    "duration": 6,
    "start_time": "2023-03-23T17:39:19.542Z"
   },
   {
    "duration": 158,
    "start_time": "2023-03-23T17:39:22.424Z"
   },
   {
    "duration": 996,
    "start_time": "2023-03-23T17:39:39.735Z"
   },
   {
    "duration": 48,
    "start_time": "2023-03-23T17:39:40.732Z"
   },
   {
    "duration": 13,
    "start_time": "2023-03-23T17:39:40.781Z"
   },
   {
    "duration": 3,
    "start_time": "2023-03-23T17:39:40.796Z"
   },
   {
    "duration": 8,
    "start_time": "2023-03-23T17:39:40.800Z"
   },
   {
    "duration": 59,
    "start_time": "2023-03-23T17:39:40.809Z"
   },
   {
    "duration": 5,
    "start_time": "2023-03-23T17:39:40.870Z"
   },
   {
    "duration": 4,
    "start_time": "2023-03-23T17:39:40.876Z"
   },
   {
    "duration": 4,
    "start_time": "2023-03-23T17:39:40.882Z"
   },
   {
    "duration": 4,
    "start_time": "2023-03-23T17:39:40.888Z"
   },
   {
    "duration": 6,
    "start_time": "2023-03-23T17:39:40.893Z"
   },
   {
    "duration": 11,
    "start_time": "2023-03-23T17:39:40.900Z"
   },
   {
    "duration": 13,
    "start_time": "2023-03-23T17:39:40.912Z"
   },
   {
    "duration": 156,
    "start_time": "2023-03-23T17:39:40.926Z"
   },
   {
    "duration": 14,
    "start_time": "2023-03-23T17:39:41.084Z"
   },
   {
    "duration": 3,
    "start_time": "2023-03-23T17:39:41.099Z"
   },
   {
    "duration": 6,
    "start_time": "2023-03-23T17:39:41.103Z"
   },
   {
    "duration": 277,
    "start_time": "2023-03-23T17:39:41.110Z"
   },
   {
    "duration": 15,
    "start_time": "2023-03-23T17:39:41.388Z"
   },
   {
    "duration": 3,
    "start_time": "2023-03-23T17:39:41.404Z"
   },
   {
    "duration": 17,
    "start_time": "2023-03-23T17:39:41.409Z"
   },
   {
    "duration": 273,
    "start_time": "2023-03-23T17:39:41.427Z"
   },
   {
    "duration": 241,
    "start_time": "2023-03-23T17:39:41.701Z"
   },
   {
    "duration": 5,
    "start_time": "2023-03-23T17:39:41.944Z"
   },
   {
    "duration": 6,
    "start_time": "2023-03-23T17:39:41.950Z"
   },
   {
    "duration": 116,
    "start_time": "2023-03-23T17:39:41.957Z"
   },
   {
    "duration": 5,
    "start_time": "2023-03-23T17:39:42.075Z"
   },
   {
    "duration": 135,
    "start_time": "2023-03-23T17:39:42.083Z"
   },
   {
    "duration": 2783,
    "start_time": "2023-03-23T17:39:42.219Z"
   },
   {
    "duration": 319,
    "start_time": "2023-03-23T17:39:45.003Z"
   },
   {
    "duration": 11,
    "start_time": "2023-03-23T17:39:45.324Z"
   },
   {
    "duration": 7,
    "start_time": "2023-03-23T17:39:45.337Z"
   },
   {
    "duration": 5,
    "start_time": "2023-03-23T17:39:45.345Z"
   },
   {
    "duration": 17,
    "start_time": "2023-03-23T17:39:45.352Z"
   },
   {
    "duration": 17,
    "start_time": "2023-03-23T17:39:45.371Z"
   },
   {
    "duration": 3,
    "start_time": "2023-03-23T17:39:45.390Z"
   },
   {
    "duration": 4,
    "start_time": "2023-03-23T17:39:45.395Z"
   },
   {
    "duration": 8,
    "start_time": "2023-03-23T17:39:45.400Z"
   },
   {
    "duration": 102,
    "start_time": "2023-03-23T17:39:45.410Z"
   },
   {
    "duration": 12,
    "start_time": "2023-03-23T17:39:45.513Z"
   },
   {
    "duration": 8,
    "start_time": "2023-03-23T17:39:45.527Z"
   },
   {
    "duration": 4,
    "start_time": "2023-03-23T17:39:45.536Z"
   },
   {
    "duration": 6,
    "start_time": "2023-03-23T17:39:45.542Z"
   },
   {
    "duration": 4,
    "start_time": "2023-03-23T17:39:45.568Z"
   },
   {
    "duration": 4,
    "start_time": "2023-03-23T17:39:45.573Z"
   },
   {
    "duration": 10,
    "start_time": "2023-03-23T17:39:45.578Z"
   },
   {
    "duration": 110,
    "start_time": "2023-03-23T17:39:45.589Z"
   },
   {
    "duration": 12,
    "start_time": "2023-03-23T17:39:45.700Z"
   },
   {
    "duration": 7,
    "start_time": "2023-03-23T17:39:45.714Z"
   },
   {
    "duration": 7,
    "start_time": "2023-03-23T17:39:45.722Z"
   },
   {
    "duration": 5,
    "start_time": "2023-03-23T17:39:45.731Z"
   },
   {
    "duration": 3,
    "start_time": "2023-03-23T17:39:45.737Z"
   },
   {
    "duration": 30,
    "start_time": "2023-03-23T17:39:45.742Z"
   },
   {
    "duration": 107,
    "start_time": "2023-03-23T17:39:45.774Z"
   },
   {
    "duration": 12,
    "start_time": "2023-03-23T17:39:45.882Z"
   },
   {
    "duration": 11,
    "start_time": "2023-03-23T17:39:45.896Z"
   },
   {
    "duration": 11,
    "start_time": "2023-03-23T17:39:45.908Z"
   },
   {
    "duration": 11,
    "start_time": "2023-03-23T17:39:45.921Z"
   },
   {
    "duration": 36,
    "start_time": "2023-03-23T17:39:45.933Z"
   },
   {
    "duration": 11,
    "start_time": "2023-03-23T17:39:45.971Z"
   },
   {
    "duration": 8,
    "start_time": "2023-03-23T17:39:45.983Z"
   },
   {
    "duration": 7,
    "start_time": "2023-03-23T17:39:45.993Z"
   },
   {
    "duration": 6,
    "start_time": "2023-03-23T17:42:06.906Z"
   },
   {
    "duration": 126,
    "start_time": "2023-03-23T17:42:07.837Z"
   },
   {
    "duration": 827,
    "start_time": "2023-03-23T17:43:23.191Z"
   },
   {
    "duration": 780,
    "start_time": "2023-03-23T17:43:42.205Z"
   },
   {
    "duration": 7,
    "start_time": "2023-03-23T17:47:31.057Z"
   },
   {
    "duration": 114,
    "start_time": "2023-03-23T17:47:31.942Z"
   },
   {
    "duration": 3,
    "start_time": "2023-03-23T17:48:23.804Z"
   },
   {
    "duration": 127,
    "start_time": "2023-03-23T17:48:26.236Z"
   },
   {
    "duration": 5,
    "start_time": "2023-03-23T17:49:47.481Z"
   },
   {
    "duration": 137,
    "start_time": "2023-03-23T17:49:51.520Z"
   },
   {
    "duration": 129,
    "start_time": "2023-03-23T17:56:48.501Z"
   },
   {
    "duration": 5,
    "start_time": "2023-03-23T17:56:55.535Z"
   },
   {
    "duration": 265,
    "start_time": "2023-03-23T18:00:16.123Z"
   },
   {
    "duration": 5,
    "start_time": "2023-03-23T18:00:26.556Z"
   },
   {
    "duration": 6,
    "start_time": "2023-03-23T18:00:27.637Z"
   },
   {
    "duration": 191,
    "start_time": "2023-03-23T18:00:28.784Z"
   },
   {
    "duration": 6,
    "start_time": "2023-03-23T18:00:30.693Z"
   },
   {
    "duration": 131,
    "start_time": "2023-03-23T18:00:31.672Z"
   },
   {
    "duration": 2799,
    "start_time": "2023-03-23T18:01:05.224Z"
   },
   {
    "duration": 52,
    "start_time": "2023-03-23T18:07:02.215Z"
   },
   {
    "duration": 62,
    "start_time": "2023-03-23T18:07:48.905Z"
   },
   {
    "duration": 67,
    "start_time": "2023-03-23T18:08:16.544Z"
   },
   {
    "duration": 25,
    "start_time": "2023-03-23T18:08:37.324Z"
   },
   {
    "duration": 29,
    "start_time": "2023-03-23T18:09:10.393Z"
   },
   {
    "duration": 25,
    "start_time": "2023-03-23T18:09:28.239Z"
   },
   {
    "duration": 44,
    "start_time": "2023-03-23T18:10:40.224Z"
   },
   {
    "duration": 116,
    "start_time": "2023-03-23T18:10:46.434Z"
   },
   {
    "duration": 46,
    "start_time": "2023-03-23T18:11:07.308Z"
   },
   {
    "duration": 61,
    "start_time": "2023-03-23T18:11:21.678Z"
   },
   {
    "duration": 48,
    "start_time": "2023-03-23T18:11:36.272Z"
   },
   {
    "duration": 59,
    "start_time": "2023-03-23T18:12:30.344Z"
   },
   {
    "duration": 25,
    "start_time": "2023-03-23T18:13:10.059Z"
   },
   {
    "duration": 46,
    "start_time": "2023-03-23T18:13:59.943Z"
   },
   {
    "duration": 28,
    "start_time": "2023-03-23T18:14:19.242Z"
   },
   {
    "duration": 35,
    "start_time": "2023-03-23T18:14:46.860Z"
   },
   {
    "duration": 26,
    "start_time": "2023-03-23T18:15:00.049Z"
   },
   {
    "duration": 26,
    "start_time": "2023-03-23T18:15:10.184Z"
   },
   {
    "duration": 51,
    "start_time": "2023-03-23T18:16:58.975Z"
   },
   {
    "duration": 40,
    "start_time": "2023-03-23T18:18:04.158Z"
   },
   {
    "duration": 41,
    "start_time": "2023-03-23T18:18:38.765Z"
   },
   {
    "duration": 41,
    "start_time": "2023-03-23T18:24:30.145Z"
   },
   {
    "duration": 43,
    "start_time": "2023-03-23T18:24:42.907Z"
   },
   {
    "duration": 23,
    "start_time": "2023-03-23T18:24:49.895Z"
   },
   {
    "duration": 44,
    "start_time": "2023-03-23T18:25:43.673Z"
   },
   {
    "duration": 69,
    "start_time": "2023-03-23T18:25:47.676Z"
   },
   {
    "duration": 46,
    "start_time": "2023-03-23T18:25:57.708Z"
   },
   {
    "duration": 43,
    "start_time": "2023-03-23T18:26:03.541Z"
   },
   {
    "duration": 47,
    "start_time": "2023-03-23T18:30:31.256Z"
   },
   {
    "duration": 1091,
    "start_time": "2023-03-23T18:30:41.580Z"
   },
   {
    "duration": 49,
    "start_time": "2023-03-23T18:30:42.673Z"
   },
   {
    "duration": 13,
    "start_time": "2023-03-23T18:30:42.723Z"
   },
   {
    "duration": 4,
    "start_time": "2023-03-23T18:30:42.737Z"
   },
   {
    "duration": 8,
    "start_time": "2023-03-23T18:30:42.742Z"
   },
   {
    "duration": 48,
    "start_time": "2023-03-23T18:30:42.752Z"
   },
   {
    "duration": 6,
    "start_time": "2023-03-23T18:30:42.801Z"
   },
   {
    "duration": 4,
    "start_time": "2023-03-23T18:30:42.808Z"
   },
   {
    "duration": 4,
    "start_time": "2023-03-23T18:30:42.814Z"
   },
   {
    "duration": 3,
    "start_time": "2023-03-23T18:30:42.821Z"
   },
   {
    "duration": 6,
    "start_time": "2023-03-23T18:30:42.825Z"
   },
   {
    "duration": 9,
    "start_time": "2023-03-23T18:30:42.833Z"
   },
   {
    "duration": 14,
    "start_time": "2023-03-23T18:30:42.868Z"
   },
   {
    "duration": 149,
    "start_time": "2023-03-23T18:30:42.884Z"
   },
   {
    "duration": 15,
    "start_time": "2023-03-23T18:30:43.035Z"
   },
   {
    "duration": 3,
    "start_time": "2023-03-23T18:30:43.051Z"
   },
   {
    "duration": 4,
    "start_time": "2023-03-23T18:30:43.068Z"
   },
   {
    "duration": 281,
    "start_time": "2023-03-23T18:30:43.074Z"
   },
   {
    "duration": 15,
    "start_time": "2023-03-23T18:30:43.357Z"
   },
   {
    "duration": 16,
    "start_time": "2023-03-23T18:30:43.373Z"
   },
   {
    "duration": 13,
    "start_time": "2023-03-23T18:30:43.391Z"
   },
   {
    "duration": 276,
    "start_time": "2023-03-23T18:30:43.405Z"
   },
   {
    "duration": 247,
    "start_time": "2023-03-23T18:30:43.683Z"
   },
   {
    "duration": 6,
    "start_time": "2023-03-23T18:30:43.931Z"
   },
   {
    "duration": 6,
    "start_time": "2023-03-23T18:30:43.938Z"
   },
   {
    "duration": 125,
    "start_time": "2023-03-23T18:30:43.945Z"
   },
   {
    "duration": 5,
    "start_time": "2023-03-23T18:30:44.071Z"
   },
   {
    "duration": 133,
    "start_time": "2023-03-23T18:30:44.079Z"
   },
   {
    "duration": 2709,
    "start_time": "2023-03-23T18:30:44.213Z"
   },
   {
    "duration": 53,
    "start_time": "2023-03-23T18:30:46.924Z"
   },
   {
    "duration": 321,
    "start_time": "2023-03-23T18:30:46.978Z"
   },
   {
    "duration": 12,
    "start_time": "2023-03-23T18:30:47.301Z"
   },
   {
    "duration": 7,
    "start_time": "2023-03-23T18:30:47.314Z"
   },
   {
    "duration": 10,
    "start_time": "2023-03-23T18:30:47.322Z"
   },
   {
    "duration": 4,
    "start_time": "2023-03-23T18:30:47.334Z"
   },
   {
    "duration": 8,
    "start_time": "2023-03-23T18:30:47.340Z"
   },
   {
    "duration": 20,
    "start_time": "2023-03-23T18:30:47.349Z"
   },
   {
    "duration": 4,
    "start_time": "2023-03-23T18:30:47.371Z"
   },
   {
    "duration": 11,
    "start_time": "2023-03-23T18:30:47.376Z"
   },
   {
    "duration": 110,
    "start_time": "2023-03-23T18:30:47.389Z"
   },
   {
    "duration": 12,
    "start_time": "2023-03-23T18:30:47.501Z"
   },
   {
    "duration": 8,
    "start_time": "2023-03-23T18:30:47.515Z"
   },
   {
    "duration": 5,
    "start_time": "2023-03-23T18:30:47.525Z"
   },
   {
    "duration": 7,
    "start_time": "2023-03-23T18:30:47.531Z"
   },
   {
    "duration": 7,
    "start_time": "2023-03-23T18:30:47.539Z"
   },
   {
    "duration": 24,
    "start_time": "2023-03-23T18:30:47.547Z"
   },
   {
    "duration": 8,
    "start_time": "2023-03-23T18:30:47.572Z"
   },
   {
    "duration": 103,
    "start_time": "2023-03-23T18:30:47.581Z"
   },
   {
    "duration": 15,
    "start_time": "2023-03-23T18:30:47.686Z"
   },
   {
    "duration": 7,
    "start_time": "2023-03-23T18:30:47.702Z"
   },
   {
    "duration": 23,
    "start_time": "2023-03-23T18:30:47.711Z"
   },
   {
    "duration": 30,
    "start_time": "2023-03-23T18:30:47.735Z"
   },
   {
    "duration": 5,
    "start_time": "2023-03-23T18:30:47.766Z"
   },
   {
    "duration": 11,
    "start_time": "2023-03-23T18:30:47.772Z"
   },
   {
    "duration": 102,
    "start_time": "2023-03-23T18:30:47.784Z"
   },
   {
    "duration": 12,
    "start_time": "2023-03-23T18:30:47.887Z"
   },
   {
    "duration": 11,
    "start_time": "2023-03-23T18:30:47.900Z"
   },
   {
    "duration": 15,
    "start_time": "2023-03-23T18:30:47.912Z"
   },
   {
    "duration": 12,
    "start_time": "2023-03-23T18:30:47.928Z"
   },
   {
    "duration": 31,
    "start_time": "2023-03-23T18:30:47.941Z"
   },
   {
    "duration": 15,
    "start_time": "2023-03-23T18:30:47.974Z"
   },
   {
    "duration": 10,
    "start_time": "2023-03-23T18:30:47.990Z"
   },
   {
    "duration": 8,
    "start_time": "2023-03-23T18:30:48.002Z"
   },
   {
    "duration": 72,
    "start_time": "2023-03-23T18:31:06.615Z"
   },
   {
    "duration": 45,
    "start_time": "2023-03-23T18:31:20.477Z"
   },
   {
    "duration": 24,
    "start_time": "2023-03-23T18:31:28.419Z"
   },
   {
    "duration": 23,
    "start_time": "2023-03-23T18:31:51.174Z"
   },
   {
    "duration": 42,
    "start_time": "2023-03-23T18:31:55.259Z"
   },
   {
    "duration": 3,
    "start_time": "2023-03-23T19:30:35.047Z"
   },
   {
    "duration": 50,
    "start_time": "2023-03-23T19:30:35.053Z"
   },
   {
    "duration": 14,
    "start_time": "2023-03-23T19:30:35.105Z"
   },
   {
    "duration": 3,
    "start_time": "2023-03-23T19:30:35.120Z"
   },
   {
    "duration": 9,
    "start_time": "2023-03-23T19:30:35.124Z"
   },
   {
    "duration": 34,
    "start_time": "2023-03-23T19:30:35.135Z"
   },
   {
    "duration": 6,
    "start_time": "2023-03-23T19:30:35.171Z"
   },
   {
    "duration": 4,
    "start_time": "2023-03-23T19:30:35.179Z"
   },
   {
    "duration": 6,
    "start_time": "2023-03-23T19:30:35.184Z"
   },
   {
    "duration": 6,
    "start_time": "2023-03-23T19:30:35.191Z"
   },
   {
    "duration": 4,
    "start_time": "2023-03-23T19:30:35.199Z"
   },
   {
    "duration": 4,
    "start_time": "2023-03-23T19:30:35.205Z"
   },
   {
    "duration": 13,
    "start_time": "2023-03-23T19:30:35.211Z"
   },
   {
    "duration": 194,
    "start_time": "2023-03-23T19:30:35.226Z"
   },
   {
    "duration": 13,
    "start_time": "2023-03-23T19:30:35.422Z"
   },
   {
    "duration": 3,
    "start_time": "2023-03-23T19:30:35.436Z"
   },
   {
    "duration": 6,
    "start_time": "2023-03-23T19:30:35.440Z"
   },
   {
    "duration": 259,
    "start_time": "2023-03-23T19:30:35.448Z"
   },
   {
    "duration": 14,
    "start_time": "2023-03-23T19:30:35.709Z"
   },
   {
    "duration": 7,
    "start_time": "2023-03-23T19:30:35.725Z"
   },
   {
    "duration": 9,
    "start_time": "2023-03-23T19:30:35.733Z"
   },
   {
    "duration": 297,
    "start_time": "2023-03-23T19:30:35.743Z"
   },
   {
    "duration": 263,
    "start_time": "2023-03-23T19:30:36.042Z"
   },
   {
    "duration": 6,
    "start_time": "2023-03-23T19:30:36.307Z"
   },
   {
    "duration": 8,
    "start_time": "2023-03-23T19:30:36.314Z"
   },
   {
    "duration": 133,
    "start_time": "2023-03-23T19:30:36.324Z"
   },
   {
    "duration": 11,
    "start_time": "2023-03-23T19:30:36.459Z"
   },
   {
    "duration": 131,
    "start_time": "2023-03-23T19:30:36.471Z"
   },
   {
    "duration": 2830,
    "start_time": "2023-03-23T19:30:36.604Z"
   },
   {
    "duration": 125,
    "start_time": "2023-03-23T19:30:39.436Z"
   },
   {
    "duration": 0,
    "start_time": "2023-03-23T19:30:39.569Z"
   },
   {
    "duration": 0,
    "start_time": "2023-03-23T19:30:39.570Z"
   },
   {
    "duration": 0,
    "start_time": "2023-03-23T19:30:39.570Z"
   },
   {
    "duration": 0,
    "start_time": "2023-03-23T19:30:39.571Z"
   },
   {
    "duration": 0,
    "start_time": "2023-03-23T19:30:39.572Z"
   },
   {
    "duration": 0,
    "start_time": "2023-03-23T19:30:39.573Z"
   },
   {
    "duration": 0,
    "start_time": "2023-03-23T19:30:39.574Z"
   },
   {
    "duration": 0,
    "start_time": "2023-03-23T19:30:39.575Z"
   },
   {
    "duration": 0,
    "start_time": "2023-03-23T19:30:39.576Z"
   },
   {
    "duration": 0,
    "start_time": "2023-03-23T19:30:39.577Z"
   },
   {
    "duration": 0,
    "start_time": "2023-03-23T19:30:39.578Z"
   },
   {
    "duration": 0,
    "start_time": "2023-03-23T19:30:39.579Z"
   },
   {
    "duration": 0,
    "start_time": "2023-03-23T19:30:39.579Z"
   },
   {
    "duration": 0,
    "start_time": "2023-03-23T19:30:39.580Z"
   },
   {
    "duration": 0,
    "start_time": "2023-03-23T19:30:39.581Z"
   },
   {
    "duration": 0,
    "start_time": "2023-03-23T19:30:39.582Z"
   },
   {
    "duration": 0,
    "start_time": "2023-03-23T19:30:39.583Z"
   },
   {
    "duration": 0,
    "start_time": "2023-03-23T19:30:39.584Z"
   },
   {
    "duration": 0,
    "start_time": "2023-03-23T19:30:39.585Z"
   },
   {
    "duration": 0,
    "start_time": "2023-03-23T19:30:39.586Z"
   },
   {
    "duration": 0,
    "start_time": "2023-03-23T19:30:39.587Z"
   },
   {
    "duration": 0,
    "start_time": "2023-03-23T19:30:39.588Z"
   },
   {
    "duration": 0,
    "start_time": "2023-03-23T19:30:39.589Z"
   },
   {
    "duration": 0,
    "start_time": "2023-03-23T19:30:39.590Z"
   },
   {
    "duration": 0,
    "start_time": "2023-03-23T19:30:39.591Z"
   },
   {
    "duration": 0,
    "start_time": "2023-03-23T19:30:39.591Z"
   },
   {
    "duration": 0,
    "start_time": "2023-03-23T19:30:39.592Z"
   },
   {
    "duration": 0,
    "start_time": "2023-03-23T19:30:39.593Z"
   },
   {
    "duration": 0,
    "start_time": "2023-03-23T19:30:39.595Z"
   },
   {
    "duration": 0,
    "start_time": "2023-03-23T19:30:39.595Z"
   },
   {
    "duration": 0,
    "start_time": "2023-03-23T19:30:39.596Z"
   },
   {
    "duration": 0,
    "start_time": "2023-03-23T19:30:39.597Z"
   },
   {
    "duration": 0,
    "start_time": "2023-03-23T19:30:39.598Z"
   },
   {
    "duration": 32,
    "start_time": "2023-03-23T19:31:09.067Z"
   },
   {
    "duration": 45,
    "start_time": "2023-03-23T19:32:10.316Z"
   },
   {
    "duration": 59,
    "start_time": "2023-03-23T19:33:54.648Z"
   },
   {
    "duration": 47,
    "start_time": "2023-03-23T19:34:09.648Z"
   },
   {
    "duration": 37,
    "start_time": "2023-03-23T19:34:13.989Z"
   },
   {
    "duration": 37,
    "start_time": "2023-03-23T19:35:21.599Z"
   },
   {
    "duration": 56,
    "start_time": "2023-03-23T19:35:26.865Z"
   },
   {
    "duration": 59,
    "start_time": "2023-03-23T19:35:34.047Z"
   },
   {
    "duration": 58,
    "start_time": "2023-03-23T19:43:09.013Z"
   },
   {
    "duration": 39,
    "start_time": "2023-03-23T19:43:42.761Z"
   },
   {
    "duration": 46,
    "start_time": "2023-03-23T19:46:03.308Z"
   },
   {
    "duration": 45,
    "start_time": "2023-03-23T19:46:11.246Z"
   },
   {
    "duration": 60,
    "start_time": "2023-03-23T19:46:34.064Z"
   },
   {
    "duration": 107,
    "start_time": "2023-03-23T19:47:04.788Z"
   },
   {
    "duration": 1080,
    "start_time": "2023-03-23T19:47:37.016Z"
   },
   {
    "duration": 48,
    "start_time": "2023-03-23T19:47:38.099Z"
   },
   {
    "duration": 13,
    "start_time": "2023-03-23T19:47:38.149Z"
   },
   {
    "duration": 3,
    "start_time": "2023-03-23T19:47:38.164Z"
   },
   {
    "duration": 14,
    "start_time": "2023-03-23T19:47:38.172Z"
   },
   {
    "duration": 48,
    "start_time": "2023-03-23T19:47:38.188Z"
   },
   {
    "duration": 6,
    "start_time": "2023-03-23T19:47:38.237Z"
   },
   {
    "duration": 28,
    "start_time": "2023-03-23T19:47:38.244Z"
   },
   {
    "duration": 7,
    "start_time": "2023-03-23T19:47:38.275Z"
   },
   {
    "duration": 6,
    "start_time": "2023-03-23T19:47:38.284Z"
   },
   {
    "duration": 5,
    "start_time": "2023-03-23T19:47:38.292Z"
   },
   {
    "duration": 4,
    "start_time": "2023-03-23T19:47:38.299Z"
   },
   {
    "duration": 13,
    "start_time": "2023-03-23T19:47:38.305Z"
   },
   {
    "duration": 198,
    "start_time": "2023-03-23T19:47:38.320Z"
   },
   {
    "duration": 14,
    "start_time": "2023-03-23T19:47:38.519Z"
   },
   {
    "duration": 3,
    "start_time": "2023-03-23T19:47:38.535Z"
   },
   {
    "duration": 7,
    "start_time": "2023-03-23T19:47:38.539Z"
   },
   {
    "duration": 316,
    "start_time": "2023-03-23T19:47:38.547Z"
   },
   {
    "duration": 19,
    "start_time": "2023-03-23T19:47:38.864Z"
   },
   {
    "duration": 4,
    "start_time": "2023-03-23T19:47:38.884Z"
   },
   {
    "duration": 9,
    "start_time": "2023-03-23T19:47:38.891Z"
   },
   {
    "duration": 343,
    "start_time": "2023-03-23T19:47:38.901Z"
   },
   {
    "duration": 284,
    "start_time": "2023-03-23T19:47:39.246Z"
   },
   {
    "duration": 5,
    "start_time": "2023-03-23T19:47:39.532Z"
   },
   {
    "duration": 8,
    "start_time": "2023-03-23T19:47:39.538Z"
   },
   {
    "duration": 146,
    "start_time": "2023-03-23T19:47:39.547Z"
   },
   {
    "duration": 5,
    "start_time": "2023-03-23T19:47:39.695Z"
   },
   {
    "duration": 163,
    "start_time": "2023-03-23T19:47:39.701Z"
   },
   {
    "duration": 3196,
    "start_time": "2023-03-23T19:47:39.868Z"
   },
   {
    "duration": 115,
    "start_time": "2023-03-23T19:47:43.068Z"
   },
   {
    "duration": 328,
    "start_time": "2023-03-23T19:47:43.185Z"
   },
   {
    "duration": 12,
    "start_time": "2023-03-23T19:47:43.514Z"
   },
   {
    "duration": 8,
    "start_time": "2023-03-23T19:47:43.527Z"
   },
   {
    "duration": 6,
    "start_time": "2023-03-23T19:47:43.536Z"
   },
   {
    "duration": 3,
    "start_time": "2023-03-23T19:47:43.543Z"
   },
   {
    "duration": 25,
    "start_time": "2023-03-23T19:47:43.547Z"
   },
   {
    "duration": 8,
    "start_time": "2023-03-23T19:47:43.575Z"
   },
   {
    "duration": 6,
    "start_time": "2023-03-23T19:47:43.586Z"
   },
   {
    "duration": 8,
    "start_time": "2023-03-23T19:47:43.593Z"
   },
   {
    "duration": 134,
    "start_time": "2023-03-23T19:47:43.602Z"
   },
   {
    "duration": 14,
    "start_time": "2023-03-23T19:47:43.740Z"
   },
   {
    "duration": 19,
    "start_time": "2023-03-23T19:47:43.771Z"
   },
   {
    "duration": 3,
    "start_time": "2023-03-23T19:47:43.793Z"
   },
   {
    "duration": 8,
    "start_time": "2023-03-23T19:47:43.798Z"
   },
   {
    "duration": 4,
    "start_time": "2023-03-23T19:47:43.808Z"
   },
   {
    "duration": 5,
    "start_time": "2023-03-23T19:47:43.814Z"
   },
   {
    "duration": 11,
    "start_time": "2023-03-23T19:47:43.820Z"
   },
   {
    "duration": 136,
    "start_time": "2023-03-23T19:47:43.832Z"
   },
   {
    "duration": 19,
    "start_time": "2023-03-23T19:47:43.970Z"
   },
   {
    "duration": 9,
    "start_time": "2023-03-23T19:47:43.990Z"
   },
   {
    "duration": 8,
    "start_time": "2023-03-23T19:47:44.001Z"
   },
   {
    "duration": 5,
    "start_time": "2023-03-23T19:47:44.011Z"
   },
   {
    "duration": 5,
    "start_time": "2023-03-23T19:47:44.017Z"
   },
   {
    "duration": 8,
    "start_time": "2023-03-23T19:47:44.023Z"
   },
   {
    "duration": 142,
    "start_time": "2023-03-23T19:47:44.032Z"
   },
   {
    "duration": 18,
    "start_time": "2023-03-23T19:47:44.177Z"
   },
   {
    "duration": 12,
    "start_time": "2023-03-23T19:47:44.196Z"
   },
   {
    "duration": 11,
    "start_time": "2023-03-23T19:47:44.210Z"
   },
   {
    "duration": 12,
    "start_time": "2023-03-23T19:47:44.222Z"
   },
   {
    "duration": 43,
    "start_time": "2023-03-23T19:47:44.236Z"
   },
   {
    "duration": 14,
    "start_time": "2023-03-23T19:47:44.282Z"
   },
   {
    "duration": 14,
    "start_time": "2023-03-23T19:47:44.298Z"
   },
   {
    "duration": 8,
    "start_time": "2023-03-23T19:47:44.313Z"
   },
   {
    "duration": 4,
    "start_time": "2023-03-23T19:50:11.516Z"
   },
   {
    "duration": 3,
    "start_time": "2023-03-23T19:50:39.708Z"
   },
   {
    "duration": 57,
    "start_time": "2023-03-23T19:50:39.713Z"
   },
   {
    "duration": 18,
    "start_time": "2023-03-23T19:50:39.773Z"
   },
   {
    "duration": 3,
    "start_time": "2023-03-23T19:50:39.794Z"
   },
   {
    "duration": 13,
    "start_time": "2023-03-23T19:50:39.798Z"
   },
   {
    "duration": 15,
    "start_time": "2023-03-23T19:50:39.812Z"
   },
   {
    "duration": 6,
    "start_time": "2023-03-23T19:50:39.880Z"
   },
   {
    "duration": 4,
    "start_time": "2023-03-23T19:50:39.888Z"
   },
   {
    "duration": 7,
    "start_time": "2023-03-23T19:50:39.893Z"
   },
   {
    "duration": 5,
    "start_time": "2023-03-23T19:50:39.901Z"
   },
   {
    "duration": 10,
    "start_time": "2023-03-23T19:50:39.908Z"
   },
   {
    "duration": 5,
    "start_time": "2023-03-23T19:50:39.919Z"
   },
   {
    "duration": 13,
    "start_time": "2023-03-23T19:50:39.926Z"
   },
   {
    "duration": 158,
    "start_time": "2023-03-23T19:50:39.940Z"
   },
   {
    "duration": 14,
    "start_time": "2023-03-23T19:50:40.100Z"
   },
   {
    "duration": 3,
    "start_time": "2023-03-23T19:50:40.115Z"
   },
   {
    "duration": 6,
    "start_time": "2023-03-23T19:50:40.120Z"
   },
   {
    "duration": 296,
    "start_time": "2023-03-23T19:50:40.128Z"
   },
   {
    "duration": 16,
    "start_time": "2023-03-23T19:50:40.426Z"
   },
   {
    "duration": 3,
    "start_time": "2023-03-23T19:50:40.443Z"
   },
   {
    "duration": 26,
    "start_time": "2023-03-23T19:50:40.447Z"
   },
   {
    "duration": 305,
    "start_time": "2023-03-23T19:50:40.475Z"
   },
   {
    "duration": 250,
    "start_time": "2023-03-23T19:50:40.782Z"
   },
   {
    "duration": 6,
    "start_time": "2023-03-23T19:50:41.034Z"
   },
   {
    "duration": 6,
    "start_time": "2023-03-23T19:50:41.041Z"
   },
   {
    "duration": 143,
    "start_time": "2023-03-23T19:50:41.048Z"
   },
   {
    "duration": 6,
    "start_time": "2023-03-23T19:50:41.193Z"
   },
   {
    "duration": 130,
    "start_time": "2023-03-23T19:50:41.200Z"
   },
   {
    "duration": 2891,
    "start_time": "2023-03-23T19:50:41.331Z"
   },
   {
    "duration": 104,
    "start_time": "2023-03-23T19:50:44.223Z"
   },
   {
    "duration": 327,
    "start_time": "2023-03-23T19:50:44.328Z"
   },
   {
    "duration": 22,
    "start_time": "2023-03-23T19:50:44.657Z"
   },
   {
    "duration": 11,
    "start_time": "2023-03-23T19:50:44.683Z"
   },
   {
    "duration": 3,
    "start_time": "2023-03-23T19:50:44.695Z"
   },
   {
    "duration": 3,
    "start_time": "2023-03-23T19:50:44.700Z"
   },
   {
    "duration": 7,
    "start_time": "2023-03-23T19:50:44.704Z"
   },
   {
    "duration": 4,
    "start_time": "2023-03-23T19:50:44.712Z"
   },
   {
    "duration": 3,
    "start_time": "2023-03-23T19:50:44.718Z"
   },
   {
    "duration": 22,
    "start_time": "2023-03-23T19:50:44.722Z"
   },
   {
    "duration": 127,
    "start_time": "2023-03-23T19:50:44.745Z"
   },
   {
    "duration": 15,
    "start_time": "2023-03-23T19:50:44.874Z"
   },
   {
    "duration": 9,
    "start_time": "2023-03-23T19:50:44.891Z"
   },
   {
    "duration": 3,
    "start_time": "2023-03-23T19:50:44.901Z"
   },
   {
    "duration": 8,
    "start_time": "2023-03-23T19:50:44.906Z"
   },
   {
    "duration": 5,
    "start_time": "2023-03-23T19:50:44.915Z"
   },
   {
    "duration": 4,
    "start_time": "2023-03-23T19:50:44.921Z"
   },
   {
    "duration": 7,
    "start_time": "2023-03-23T19:50:44.926Z"
   },
   {
    "duration": 135,
    "start_time": "2023-03-23T19:50:44.935Z"
   },
   {
    "duration": 19,
    "start_time": "2023-03-23T19:50:45.073Z"
   },
   {
    "duration": 8,
    "start_time": "2023-03-23T19:50:45.094Z"
   },
   {
    "duration": 8,
    "start_time": "2023-03-23T19:50:45.104Z"
   },
   {
    "duration": 4,
    "start_time": "2023-03-23T19:50:45.114Z"
   },
   {
    "duration": 4,
    "start_time": "2023-03-23T19:50:45.119Z"
   },
   {
    "duration": 8,
    "start_time": "2023-03-23T19:50:45.124Z"
   },
   {
    "duration": 145,
    "start_time": "2023-03-23T19:50:45.133Z"
   },
   {
    "duration": 18,
    "start_time": "2023-03-23T19:50:45.280Z"
   },
   {
    "duration": 11,
    "start_time": "2023-03-23T19:50:45.299Z"
   },
   {
    "duration": 14,
    "start_time": "2023-03-23T19:50:45.311Z"
   },
   {
    "duration": 22,
    "start_time": "2023-03-23T19:50:45.326Z"
   },
   {
    "duration": 20,
    "start_time": "2023-03-23T19:50:45.350Z"
   },
   {
    "duration": 12,
    "start_time": "2023-03-23T19:50:45.372Z"
   },
   {
    "duration": 8,
    "start_time": "2023-03-23T19:50:45.385Z"
   },
   {
    "duration": 7,
    "start_time": "2023-03-23T19:50:45.395Z"
   },
   {
    "duration": 5,
    "start_time": "2023-03-23T19:51:45.985Z"
   },
   {
    "duration": 47,
    "start_time": "2023-03-23T19:51:45.992Z"
   },
   {
    "duration": 11,
    "start_time": "2023-03-23T19:51:46.041Z"
   },
   {
    "duration": 2,
    "start_time": "2023-03-23T19:51:46.054Z"
   },
   {
    "duration": 10,
    "start_time": "2023-03-23T19:51:46.058Z"
   },
   {
    "duration": 22,
    "start_time": "2023-03-23T19:51:46.070Z"
   },
   {
    "duration": 6,
    "start_time": "2023-03-23T19:51:46.093Z"
   },
   {
    "duration": 4,
    "start_time": "2023-03-23T19:51:46.100Z"
   },
   {
    "duration": 4,
    "start_time": "2023-03-23T19:51:46.105Z"
   },
   {
    "duration": 4,
    "start_time": "2023-03-23T19:51:46.111Z"
   },
   {
    "duration": 6,
    "start_time": "2023-03-23T19:51:46.116Z"
   },
   {
    "duration": 5,
    "start_time": "2023-03-23T19:51:46.123Z"
   },
   {
    "duration": 42,
    "start_time": "2023-03-23T19:51:46.130Z"
   },
   {
    "duration": 156,
    "start_time": "2023-03-23T19:51:46.177Z"
   },
   {
    "duration": 12,
    "start_time": "2023-03-23T19:51:46.335Z"
   },
   {
    "duration": 3,
    "start_time": "2023-03-23T19:51:46.348Z"
   },
   {
    "duration": 19,
    "start_time": "2023-03-23T19:51:46.352Z"
   },
   {
    "duration": 278,
    "start_time": "2023-03-23T19:51:46.373Z"
   },
   {
    "duration": 27,
    "start_time": "2023-03-23T19:51:46.652Z"
   },
   {
    "duration": 5,
    "start_time": "2023-03-23T19:51:46.682Z"
   },
   {
    "duration": 9,
    "start_time": "2023-03-23T19:51:46.689Z"
   },
   {
    "duration": 307,
    "start_time": "2023-03-23T19:51:46.699Z"
   },
   {
    "duration": 249,
    "start_time": "2023-03-23T19:51:47.008Z"
   },
   {
    "duration": 5,
    "start_time": "2023-03-23T19:51:47.258Z"
   },
   {
    "duration": 6,
    "start_time": "2023-03-23T19:51:47.269Z"
   },
   {
    "duration": 124,
    "start_time": "2023-03-23T19:51:47.277Z"
   },
   {
    "duration": 6,
    "start_time": "2023-03-23T19:51:47.402Z"
   },
   {
    "duration": 122,
    "start_time": "2023-03-23T19:51:47.412Z"
   },
   {
    "duration": 3008,
    "start_time": "2023-03-23T19:51:47.536Z"
   },
   {
    "duration": 98,
    "start_time": "2023-03-23T19:51:50.546Z"
   },
   {
    "duration": 356,
    "start_time": "2023-03-23T19:51:50.646Z"
   },
   {
    "duration": 13,
    "start_time": "2023-03-23T19:51:51.004Z"
   },
   {
    "duration": 9,
    "start_time": "2023-03-23T19:51:51.018Z"
   },
   {
    "duration": 6,
    "start_time": "2023-03-23T19:51:51.028Z"
   },
   {
    "duration": 4,
    "start_time": "2023-03-23T19:51:51.035Z"
   },
   {
    "duration": 7,
    "start_time": "2023-03-23T19:51:51.040Z"
   },
   {
    "duration": 26,
    "start_time": "2023-03-23T19:51:51.048Z"
   },
   {
    "duration": 7,
    "start_time": "2023-03-23T19:51:51.076Z"
   },
   {
    "duration": 10,
    "start_time": "2023-03-23T19:51:51.084Z"
   },
   {
    "duration": 117,
    "start_time": "2023-03-23T19:51:51.096Z"
   },
   {
    "duration": 12,
    "start_time": "2023-03-23T19:51:51.215Z"
   },
   {
    "duration": 9,
    "start_time": "2023-03-23T19:51:51.228Z"
   },
   {
    "duration": 9,
    "start_time": "2023-03-23T19:51:51.238Z"
   },
   {
    "duration": 11,
    "start_time": "2023-03-23T19:51:51.249Z"
   },
   {
    "duration": 10,
    "start_time": "2023-03-23T19:51:51.261Z"
   },
   {
    "duration": 8,
    "start_time": "2023-03-23T19:51:51.273Z"
   },
   {
    "duration": 18,
    "start_time": "2023-03-23T19:51:51.282Z"
   },
   {
    "duration": 118,
    "start_time": "2023-03-23T19:51:51.303Z"
   },
   {
    "duration": 12,
    "start_time": "2023-03-23T19:51:51.422Z"
   },
   {
    "duration": 8,
    "start_time": "2023-03-23T19:51:51.435Z"
   },
   {
    "duration": 30,
    "start_time": "2023-03-23T19:51:51.445Z"
   },
   {
    "duration": 6,
    "start_time": "2023-03-23T19:51:51.477Z"
   },
   {
    "duration": 6,
    "start_time": "2023-03-23T19:51:51.484Z"
   },
   {
    "duration": 9,
    "start_time": "2023-03-23T19:51:51.491Z"
   },
   {
    "duration": 126,
    "start_time": "2023-03-23T19:51:51.502Z"
   },
   {
    "duration": 12,
    "start_time": "2023-03-23T19:51:51.630Z"
   },
   {
    "duration": 27,
    "start_time": "2023-03-23T19:51:51.644Z"
   },
   {
    "duration": 22,
    "start_time": "2023-03-23T19:51:51.673Z"
   },
   {
    "duration": 12,
    "start_time": "2023-03-23T19:51:51.696Z"
   },
   {
    "duration": 11,
    "start_time": "2023-03-23T19:51:51.709Z"
   },
   {
    "duration": 12,
    "start_time": "2023-03-23T19:51:51.721Z"
   },
   {
    "duration": 35,
    "start_time": "2023-03-23T19:51:51.734Z"
   },
   {
    "duration": 15,
    "start_time": "2023-03-23T19:51:51.772Z"
   },
   {
    "duration": 5,
    "start_time": "2023-03-23T19:54:28.026Z"
   },
   {
    "duration": 3,
    "start_time": "2023-03-23T19:54:29.948Z"
   },
   {
    "duration": 3,
    "start_time": "2023-03-23T19:54:30.526Z"
   },
   {
    "duration": 6,
    "start_time": "2023-03-23T19:54:31.764Z"
   },
   {
    "duration": 15,
    "start_time": "2023-03-23T19:54:36.727Z"
   },
   {
    "duration": 134,
    "start_time": "2023-03-23T19:54:39.391Z"
   },
   {
    "duration": 12,
    "start_time": "2023-03-23T19:54:43.128Z"
   },
   {
    "duration": 3,
    "start_time": "2023-03-23T19:54:43.548Z"
   },
   {
    "duration": 5,
    "start_time": "2023-03-23T19:54:44.518Z"
   },
   {
    "duration": 240,
    "start_time": "2023-03-23T19:54:45.424Z"
   },
   {
    "duration": 18,
    "start_time": "2023-03-23T19:54:55.040Z"
   },
   {
    "duration": 3,
    "start_time": "2023-03-23T19:54:57.312Z"
   },
   {
    "duration": 9,
    "start_time": "2023-03-23T19:54:58.748Z"
   },
   {
    "duration": 321,
    "start_time": "2023-03-23T19:54:59.424Z"
   },
   {
    "duration": 267,
    "start_time": "2023-03-23T19:55:01.991Z"
   },
   {
    "duration": 5,
    "start_time": "2023-03-23T19:55:07.540Z"
   },
   {
    "duration": 6,
    "start_time": "2023-03-23T19:55:08.152Z"
   },
   {
    "duration": 112,
    "start_time": "2023-03-23T19:55:10.432Z"
   },
   {
    "duration": 6,
    "start_time": "2023-03-23T19:55:12.798Z"
   },
   {
    "duration": 120,
    "start_time": "2023-03-23T19:55:14.325Z"
   },
   {
    "duration": 6,
    "start_time": "2023-03-23T19:56:27.847Z"
   },
   {
    "duration": 242,
    "start_time": "2023-03-23T19:56:29.050Z"
   },
   {
    "duration": 6,
    "start_time": "2023-03-23T19:56:32.720Z"
   },
   {
    "duration": 6,
    "start_time": "2023-03-23T19:58:13.315Z"
   },
   {
    "duration": 144,
    "start_time": "2023-03-23T19:58:15.520Z"
   },
   {
    "duration": 149,
    "start_time": "2023-03-23T19:58:33.959Z"
   },
   {
    "duration": 2830,
    "start_time": "2023-03-23T19:59:25.759Z"
   },
   {
    "duration": 96,
    "start_time": "2023-03-23T20:04:41.527Z"
   },
   {
    "duration": 105,
    "start_time": "2023-03-23T20:06:14.443Z"
   },
   {
    "duration": 781,
    "start_time": "2023-03-23T20:06:35.691Z"
   },
   {
    "duration": 50,
    "start_time": "2023-03-23T20:07:42.654Z"
   },
   {
    "duration": 103,
    "start_time": "2023-03-23T20:08:24.191Z"
   },
   {
    "duration": 111,
    "start_time": "2023-03-23T20:08:58.422Z"
   },
   {
    "duration": 110,
    "start_time": "2023-03-23T20:10:04.151Z"
   },
   {
    "duration": 7,
    "start_time": "2023-03-23T20:11:33.605Z"
   },
   {
    "duration": 4,
    "start_time": "2023-03-23T20:11:38.265Z"
   },
   {
    "duration": 64,
    "start_time": "2023-03-23T20:11:38.271Z"
   },
   {
    "duration": 15,
    "start_time": "2023-03-23T20:11:38.339Z"
   },
   {
    "duration": 3,
    "start_time": "2023-03-23T20:11:38.356Z"
   },
   {
    "duration": 14,
    "start_time": "2023-03-23T20:11:38.361Z"
   },
   {
    "duration": 19,
    "start_time": "2023-03-23T20:11:38.377Z"
   },
   {
    "duration": 5,
    "start_time": "2023-03-23T20:11:38.398Z"
   },
   {
    "duration": 8,
    "start_time": "2023-03-23T20:11:38.404Z"
   },
   {
    "duration": 8,
    "start_time": "2023-03-23T20:11:38.413Z"
   },
   {
    "duration": 10,
    "start_time": "2023-03-23T20:11:38.422Z"
   },
   {
    "duration": 3,
    "start_time": "2023-03-23T20:11:38.434Z"
   },
   {
    "duration": 29,
    "start_time": "2023-03-23T20:11:38.439Z"
   },
   {
    "duration": 6,
    "start_time": "2023-03-23T20:11:38.470Z"
   },
   {
    "duration": 22,
    "start_time": "2023-03-23T20:11:38.477Z"
   },
   {
    "duration": 170,
    "start_time": "2023-03-23T20:11:38.501Z"
   },
   {
    "duration": 14,
    "start_time": "2023-03-23T20:11:38.672Z"
   },
   {
    "duration": 3,
    "start_time": "2023-03-23T20:11:38.687Z"
   },
   {
    "duration": 6,
    "start_time": "2023-03-23T20:11:38.691Z"
   },
   {
    "duration": 267,
    "start_time": "2023-03-23T20:11:38.698Z"
   },
   {
    "duration": 16,
    "start_time": "2023-03-23T20:11:38.966Z"
   },
   {
    "duration": 3,
    "start_time": "2023-03-23T20:11:38.984Z"
   },
   {
    "duration": 8,
    "start_time": "2023-03-23T20:11:38.988Z"
   },
   {
    "duration": 326,
    "start_time": "2023-03-23T20:11:38.997Z"
   },
   {
    "duration": 250,
    "start_time": "2023-03-23T20:11:39.324Z"
   },
   {
    "duration": 5,
    "start_time": "2023-03-23T20:11:39.575Z"
   },
   {
    "duration": 191,
    "start_time": "2023-03-23T20:11:39.582Z"
   },
   {
    "duration": 0,
    "start_time": "2023-03-23T20:11:39.776Z"
   },
   {
    "duration": 1,
    "start_time": "2023-03-23T20:11:39.777Z"
   },
   {
    "duration": 0,
    "start_time": "2023-03-23T20:11:39.778Z"
   },
   {
    "duration": 0,
    "start_time": "2023-03-23T20:11:39.779Z"
   },
   {
    "duration": 0,
    "start_time": "2023-03-23T20:11:39.781Z"
   },
   {
    "duration": 0,
    "start_time": "2023-03-23T20:11:39.782Z"
   },
   {
    "duration": 0,
    "start_time": "2023-03-23T20:11:39.783Z"
   },
   {
    "duration": 0,
    "start_time": "2023-03-23T20:11:39.784Z"
   },
   {
    "duration": 0,
    "start_time": "2023-03-23T20:11:39.785Z"
   },
   {
    "duration": 0,
    "start_time": "2023-03-23T20:11:39.786Z"
   },
   {
    "duration": 0,
    "start_time": "2023-03-23T20:11:39.787Z"
   },
   {
    "duration": 0,
    "start_time": "2023-03-23T20:11:39.789Z"
   },
   {
    "duration": 0,
    "start_time": "2023-03-23T20:11:39.790Z"
   },
   {
    "duration": 0,
    "start_time": "2023-03-23T20:11:39.791Z"
   },
   {
    "duration": 0,
    "start_time": "2023-03-23T20:11:39.792Z"
   },
   {
    "duration": 0,
    "start_time": "2023-03-23T20:11:39.793Z"
   },
   {
    "duration": 0,
    "start_time": "2023-03-23T20:11:39.794Z"
   },
   {
    "duration": 0,
    "start_time": "2023-03-23T20:11:39.795Z"
   },
   {
    "duration": 0,
    "start_time": "2023-03-23T20:11:39.796Z"
   },
   {
    "duration": 0,
    "start_time": "2023-03-23T20:11:39.798Z"
   },
   {
    "duration": 1,
    "start_time": "2023-03-23T20:11:39.798Z"
   },
   {
    "duration": 0,
    "start_time": "2023-03-23T20:11:39.799Z"
   },
   {
    "duration": 0,
    "start_time": "2023-03-23T20:11:39.801Z"
   },
   {
    "duration": 0,
    "start_time": "2023-03-23T20:11:39.802Z"
   },
   {
    "duration": 0,
    "start_time": "2023-03-23T20:11:39.803Z"
   },
   {
    "duration": 0,
    "start_time": "2023-03-23T20:11:39.804Z"
   },
   {
    "duration": 0,
    "start_time": "2023-03-23T20:11:39.805Z"
   },
   {
    "duration": 0,
    "start_time": "2023-03-23T20:11:39.806Z"
   },
   {
    "duration": 0,
    "start_time": "2023-03-23T20:11:39.807Z"
   },
   {
    "duration": 0,
    "start_time": "2023-03-23T20:11:39.808Z"
   },
   {
    "duration": 0,
    "start_time": "2023-03-23T20:11:39.809Z"
   },
   {
    "duration": 0,
    "start_time": "2023-03-23T20:11:39.810Z"
   },
   {
    "duration": 0,
    "start_time": "2023-03-23T20:11:39.811Z"
   },
   {
    "duration": 0,
    "start_time": "2023-03-23T20:11:39.811Z"
   },
   {
    "duration": 0,
    "start_time": "2023-03-23T20:11:39.812Z"
   },
   {
    "duration": 0,
    "start_time": "2023-03-23T20:11:39.813Z"
   },
   {
    "duration": 0,
    "start_time": "2023-03-23T20:11:39.814Z"
   },
   {
    "duration": 0,
    "start_time": "2023-03-23T20:11:39.815Z"
   },
   {
    "duration": 6,
    "start_time": "2023-03-23T20:11:50.391Z"
   },
   {
    "duration": 165,
    "start_time": "2023-03-23T20:11:51.319Z"
   },
   {
    "duration": 150,
    "start_time": "2023-03-23T20:12:26.812Z"
   },
   {
    "duration": 4,
    "start_time": "2023-03-23T20:13:05.721Z"
   },
   {
    "duration": 3,
    "start_time": "2023-03-23T20:13:09.212Z"
   },
   {
    "duration": 51,
    "start_time": "2023-03-23T20:13:09.218Z"
   },
   {
    "duration": 13,
    "start_time": "2023-03-23T20:13:09.271Z"
   },
   {
    "duration": 3,
    "start_time": "2023-03-23T20:13:09.286Z"
   },
   {
    "duration": 9,
    "start_time": "2023-03-23T20:13:09.291Z"
   },
   {
    "duration": 16,
    "start_time": "2023-03-23T20:13:09.302Z"
   },
   {
    "duration": 7,
    "start_time": "2023-03-23T20:13:09.320Z"
   },
   {
    "duration": 43,
    "start_time": "2023-03-23T20:13:09.329Z"
   },
   {
    "duration": 6,
    "start_time": "2023-03-23T20:13:09.374Z"
   },
   {
    "duration": 12,
    "start_time": "2023-03-23T20:13:09.382Z"
   },
   {
    "duration": 3,
    "start_time": "2023-03-23T20:13:09.396Z"
   },
   {
    "duration": 5,
    "start_time": "2023-03-23T20:13:09.402Z"
   },
   {
    "duration": 6,
    "start_time": "2023-03-23T20:13:09.409Z"
   },
   {
    "duration": 53,
    "start_time": "2023-03-23T20:13:09.418Z"
   },
   {
    "duration": 138,
    "start_time": "2023-03-23T20:13:09.473Z"
   },
   {
    "duration": 14,
    "start_time": "2023-03-23T20:13:09.613Z"
   },
   {
    "duration": 3,
    "start_time": "2023-03-23T20:13:09.629Z"
   },
   {
    "duration": 7,
    "start_time": "2023-03-23T20:13:09.634Z"
   },
   {
    "duration": 271,
    "start_time": "2023-03-23T20:13:09.668Z"
   },
   {
    "duration": 15,
    "start_time": "2023-03-23T20:13:09.941Z"
   },
   {
    "duration": 2,
    "start_time": "2023-03-23T20:13:09.969Z"
   },
   {
    "duration": 15,
    "start_time": "2023-03-23T20:13:09.973Z"
   },
   {
    "duration": 289,
    "start_time": "2023-03-23T20:13:09.989Z"
   },
   {
    "duration": 395,
    "start_time": "2023-03-23T20:13:10.279Z"
   },
   {
    "duration": 6,
    "start_time": "2023-03-23T20:13:10.676Z"
   },
   {
    "duration": 149,
    "start_time": "2023-03-23T20:13:10.684Z"
   },
   {
    "duration": 0,
    "start_time": "2023-03-23T20:13:10.836Z"
   },
   {
    "duration": 0,
    "start_time": "2023-03-23T20:13:10.837Z"
   },
   {
    "duration": 0,
    "start_time": "2023-03-23T20:13:10.838Z"
   },
   {
    "duration": 0,
    "start_time": "2023-03-23T20:13:10.840Z"
   },
   {
    "duration": 0,
    "start_time": "2023-03-23T20:13:10.841Z"
   },
   {
    "duration": 0,
    "start_time": "2023-03-23T20:13:10.842Z"
   },
   {
    "duration": 0,
    "start_time": "2023-03-23T20:13:10.843Z"
   },
   {
    "duration": 0,
    "start_time": "2023-03-23T20:13:10.844Z"
   },
   {
    "duration": 0,
    "start_time": "2023-03-23T20:13:10.844Z"
   },
   {
    "duration": 0,
    "start_time": "2023-03-23T20:13:10.846Z"
   },
   {
    "duration": 0,
    "start_time": "2023-03-23T20:13:10.847Z"
   },
   {
    "duration": 0,
    "start_time": "2023-03-23T20:13:10.847Z"
   },
   {
    "duration": 0,
    "start_time": "2023-03-23T20:13:10.848Z"
   },
   {
    "duration": 0,
    "start_time": "2023-03-23T20:13:10.850Z"
   },
   {
    "duration": 0,
    "start_time": "2023-03-23T20:13:10.851Z"
   },
   {
    "duration": 0,
    "start_time": "2023-03-23T20:13:10.853Z"
   },
   {
    "duration": 0,
    "start_time": "2023-03-23T20:13:10.854Z"
   },
   {
    "duration": 0,
    "start_time": "2023-03-23T20:13:10.855Z"
   },
   {
    "duration": 0,
    "start_time": "2023-03-23T20:13:10.856Z"
   },
   {
    "duration": 0,
    "start_time": "2023-03-23T20:13:10.857Z"
   },
   {
    "duration": 0,
    "start_time": "2023-03-23T20:13:10.858Z"
   },
   {
    "duration": 0,
    "start_time": "2023-03-23T20:13:10.860Z"
   },
   {
    "duration": 0,
    "start_time": "2023-03-23T20:13:10.861Z"
   },
   {
    "duration": 0,
    "start_time": "2023-03-23T20:13:10.863Z"
   },
   {
    "duration": 0,
    "start_time": "2023-03-23T20:13:10.864Z"
   },
   {
    "duration": 0,
    "start_time": "2023-03-23T20:13:10.865Z"
   },
   {
    "duration": 0,
    "start_time": "2023-03-23T20:13:10.867Z"
   },
   {
    "duration": 0,
    "start_time": "2023-03-23T20:13:10.868Z"
   },
   {
    "duration": 0,
    "start_time": "2023-03-23T20:13:10.869Z"
   },
   {
    "duration": 0,
    "start_time": "2023-03-23T20:13:10.870Z"
   },
   {
    "duration": 0,
    "start_time": "2023-03-23T20:13:10.871Z"
   },
   {
    "duration": 0,
    "start_time": "2023-03-23T20:13:10.872Z"
   },
   {
    "duration": 0,
    "start_time": "2023-03-23T20:13:10.873Z"
   },
   {
    "duration": 0,
    "start_time": "2023-03-23T20:13:10.874Z"
   },
   {
    "duration": 0,
    "start_time": "2023-03-23T20:13:10.875Z"
   },
   {
    "duration": 0,
    "start_time": "2023-03-23T20:13:10.876Z"
   },
   {
    "duration": 0,
    "start_time": "2023-03-23T20:13:10.877Z"
   },
   {
    "duration": 0,
    "start_time": "2023-03-23T20:13:10.878Z"
   },
   {
    "duration": 6,
    "start_time": "2023-03-23T20:13:18.387Z"
   },
   {
    "duration": 157,
    "start_time": "2023-03-23T20:13:19.092Z"
   },
   {
    "duration": 3,
    "start_time": "2023-03-23T20:13:37.961Z"
   },
   {
    "duration": 48,
    "start_time": "2023-03-23T20:13:37.967Z"
   },
   {
    "duration": 12,
    "start_time": "2023-03-23T20:13:38.017Z"
   },
   {
    "duration": 2,
    "start_time": "2023-03-23T20:13:38.031Z"
   },
   {
    "duration": 9,
    "start_time": "2023-03-23T20:13:38.035Z"
   },
   {
    "duration": 17,
    "start_time": "2023-03-23T20:13:38.046Z"
   },
   {
    "duration": 23,
    "start_time": "2023-03-23T20:13:38.065Z"
   },
   {
    "duration": 5,
    "start_time": "2023-03-23T20:13:38.090Z"
   },
   {
    "duration": 11,
    "start_time": "2023-03-23T20:13:38.096Z"
   },
   {
    "duration": 7,
    "start_time": "2023-03-23T20:13:38.108Z"
   },
   {
    "duration": 7,
    "start_time": "2023-03-23T20:13:38.118Z"
   },
   {
    "duration": 5,
    "start_time": "2023-03-23T20:13:38.126Z"
   },
   {
    "duration": 14,
    "start_time": "2023-03-23T20:13:38.132Z"
   },
   {
    "duration": 131,
    "start_time": "2023-03-23T20:13:38.148Z"
   },
   {
    "duration": 15,
    "start_time": "2023-03-23T20:13:38.281Z"
   },
   {
    "duration": 3,
    "start_time": "2023-03-23T20:13:38.298Z"
   },
   {
    "duration": 8,
    "start_time": "2023-03-23T20:13:38.303Z"
   },
   {
    "duration": 266,
    "start_time": "2023-03-23T20:13:38.312Z"
   },
   {
    "duration": 15,
    "start_time": "2023-03-23T20:13:38.579Z"
   },
   {
    "duration": 3,
    "start_time": "2023-03-23T20:13:38.595Z"
   },
   {
    "duration": 9,
    "start_time": "2023-03-23T20:13:38.599Z"
   },
   {
    "duration": 294,
    "start_time": "2023-03-23T20:13:38.610Z"
   },
   {
    "duration": 255,
    "start_time": "2023-03-23T20:13:38.906Z"
   },
   {
    "duration": 5,
    "start_time": "2023-03-23T20:13:39.168Z"
   },
   {
    "duration": 7,
    "start_time": "2023-03-23T20:13:39.175Z"
   },
   {
    "duration": 121,
    "start_time": "2023-03-23T20:13:39.184Z"
   },
   {
    "duration": 6,
    "start_time": "2023-03-23T20:13:39.307Z"
   },
   {
    "duration": 137,
    "start_time": "2023-03-23T20:13:39.315Z"
   },
   {
    "duration": 2803,
    "start_time": "2023-03-23T20:13:39.455Z"
   },
   {
    "duration": 126,
    "start_time": "2023-03-23T20:13:42.259Z"
   },
   {
    "duration": 306,
    "start_time": "2023-03-23T20:13:42.386Z"
   },
   {
    "duration": 16,
    "start_time": "2023-03-23T20:13:42.694Z"
   },
   {
    "duration": 10,
    "start_time": "2023-03-23T20:13:42.712Z"
   },
   {
    "duration": 5,
    "start_time": "2023-03-23T20:13:42.724Z"
   },
   {
    "duration": 4,
    "start_time": "2023-03-23T20:13:42.731Z"
   },
   {
    "duration": 36,
    "start_time": "2023-03-23T20:13:42.737Z"
   },
   {
    "duration": 15,
    "start_time": "2023-03-23T20:13:42.775Z"
   },
   {
    "duration": 9,
    "start_time": "2023-03-23T20:13:42.792Z"
   },
   {
    "duration": 12,
    "start_time": "2023-03-23T20:13:42.803Z"
   },
   {
    "duration": 105,
    "start_time": "2023-03-23T20:13:42.816Z"
   },
   {
    "duration": 13,
    "start_time": "2023-03-23T20:13:42.923Z"
   },
   {
    "duration": 7,
    "start_time": "2023-03-23T20:13:42.940Z"
   },
   {
    "duration": 19,
    "start_time": "2023-03-23T20:13:42.949Z"
   },
   {
    "duration": 6,
    "start_time": "2023-03-23T20:13:42.970Z"
   },
   {
    "duration": 5,
    "start_time": "2023-03-23T20:13:42.978Z"
   },
   {
    "duration": 4,
    "start_time": "2023-03-23T20:13:42.985Z"
   },
   {
    "duration": 14,
    "start_time": "2023-03-23T20:13:42.990Z"
   },
   {
    "duration": 213,
    "start_time": "2023-03-23T20:13:43.006Z"
   },
   {
    "duration": 14,
    "start_time": "2023-03-23T20:13:43.221Z"
   },
   {
    "duration": 9,
    "start_time": "2023-03-23T20:13:43.237Z"
   },
   {
    "duration": 22,
    "start_time": "2023-03-23T20:13:43.247Z"
   },
   {
    "duration": 4,
    "start_time": "2023-03-23T20:13:43.271Z"
   },
   {
    "duration": 4,
    "start_time": "2023-03-23T20:13:43.276Z"
   },
   {
    "duration": 11,
    "start_time": "2023-03-23T20:13:43.282Z"
   },
   {
    "duration": 123,
    "start_time": "2023-03-23T20:13:43.294Z"
   },
   {
    "duration": 15,
    "start_time": "2023-03-23T20:13:43.419Z"
   },
   {
    "duration": 14,
    "start_time": "2023-03-23T20:13:43.435Z"
   },
   {
    "duration": 29,
    "start_time": "2023-03-23T20:13:43.450Z"
   },
   {
    "duration": 14,
    "start_time": "2023-03-23T20:13:43.480Z"
   },
   {
    "duration": 13,
    "start_time": "2023-03-23T20:13:43.496Z"
   },
   {
    "duration": 12,
    "start_time": "2023-03-23T20:13:43.513Z"
   },
   {
    "duration": 10,
    "start_time": "2023-03-23T20:13:43.526Z"
   },
   {
    "duration": 10,
    "start_time": "2023-03-23T20:13:43.570Z"
   },
   {
    "duration": 5,
    "start_time": "2023-03-23T20:13:47.724Z"
   },
   {
    "duration": 5,
    "start_time": "2023-03-23T20:13:48.525Z"
   },
   {
    "duration": 128,
    "start_time": "2023-03-23T20:13:49.897Z"
   },
   {
    "duration": 6,
    "start_time": "2023-03-23T20:13:51.112Z"
   },
   {
    "duration": 137,
    "start_time": "2023-03-23T20:13:52.333Z"
   },
   {
    "duration": 3210,
    "start_time": "2023-03-23T20:14:30.992Z"
   },
   {
    "duration": 120,
    "start_time": "2023-03-23T20:14:50.311Z"
   },
   {
    "duration": 38,
    "start_time": "2023-03-23T20:15:21.257Z"
   },
   {
    "duration": 34,
    "start_time": "2023-03-23T20:15:35.120Z"
   },
   {
    "duration": 108,
    "start_time": "2023-03-23T20:16:08.238Z"
   },
   {
    "duration": 3,
    "start_time": "2023-03-23T20:17:58.231Z"
   },
   {
    "duration": 47,
    "start_time": "2023-03-23T20:17:58.236Z"
   },
   {
    "duration": 12,
    "start_time": "2023-03-23T20:17:58.285Z"
   },
   {
    "duration": 3,
    "start_time": "2023-03-23T20:17:58.298Z"
   },
   {
    "duration": 10,
    "start_time": "2023-03-23T20:17:58.303Z"
   },
   {
    "duration": 14,
    "start_time": "2023-03-23T20:17:58.314Z"
   },
   {
    "duration": 8,
    "start_time": "2023-03-23T20:17:58.330Z"
   },
   {
    "duration": 30,
    "start_time": "2023-03-23T20:17:58.339Z"
   },
   {
    "duration": 3,
    "start_time": "2023-03-23T20:17:58.371Z"
   },
   {
    "duration": 5,
    "start_time": "2023-03-23T20:17:58.376Z"
   },
   {
    "duration": 5,
    "start_time": "2023-03-23T20:17:58.383Z"
   },
   {
    "duration": 5,
    "start_time": "2023-03-23T20:17:58.390Z"
   },
   {
    "duration": 29,
    "start_time": "2023-03-23T20:17:58.396Z"
   },
   {
    "duration": 134,
    "start_time": "2023-03-23T20:17:58.426Z"
   },
   {
    "duration": 20,
    "start_time": "2023-03-23T20:17:58.561Z"
   },
   {
    "duration": 3,
    "start_time": "2023-03-23T20:17:58.582Z"
   },
   {
    "duration": 5,
    "start_time": "2023-03-23T20:17:58.587Z"
   },
   {
    "duration": 255,
    "start_time": "2023-03-23T20:17:58.593Z"
   },
   {
    "duration": 23,
    "start_time": "2023-03-23T20:17:58.850Z"
   },
   {
    "duration": 3,
    "start_time": "2023-03-23T20:17:58.874Z"
   },
   {
    "duration": 8,
    "start_time": "2023-03-23T20:17:58.878Z"
   },
   {
    "duration": 304,
    "start_time": "2023-03-23T20:17:58.888Z"
   },
   {
    "duration": 278,
    "start_time": "2023-03-23T20:17:59.193Z"
   },
   {
    "duration": 5,
    "start_time": "2023-03-23T20:17:59.472Z"
   },
   {
    "duration": 16,
    "start_time": "2023-03-23T20:17:59.479Z"
   },
   {
    "duration": 114,
    "start_time": "2023-03-23T20:17:59.499Z"
   },
   {
    "duration": 6,
    "start_time": "2023-03-23T20:17:59.615Z"
   },
   {
    "duration": 120,
    "start_time": "2023-03-23T20:17:59.622Z"
   },
   {
    "duration": 2924,
    "start_time": "2023-03-23T20:17:59.744Z"
   },
   {
    "duration": 122,
    "start_time": "2023-03-23T20:18:02.670Z"
   },
   {
    "duration": 250,
    "start_time": "2023-03-23T20:18:02.793Z"
   },
   {
    "duration": 12,
    "start_time": "2023-03-23T20:18:03.045Z"
   },
   {
    "duration": 22,
    "start_time": "2023-03-23T20:18:03.058Z"
   },
   {
    "duration": 6,
    "start_time": "2023-03-23T20:18:03.081Z"
   },
   {
    "duration": 11,
    "start_time": "2023-03-23T20:18:03.089Z"
   },
   {
    "duration": 10,
    "start_time": "2023-03-23T20:18:03.101Z"
   },
   {
    "duration": 7,
    "start_time": "2023-03-23T20:18:03.113Z"
   },
   {
    "duration": 7,
    "start_time": "2023-03-23T20:18:03.121Z"
   },
   {
    "duration": 12,
    "start_time": "2023-03-23T20:18:03.129Z"
   },
   {
    "duration": 206,
    "start_time": "2023-03-23T20:18:03.143Z"
   },
   {
    "duration": 24,
    "start_time": "2023-03-23T20:18:03.351Z"
   },
   {
    "duration": 9,
    "start_time": "2023-03-23T20:18:03.377Z"
   },
   {
    "duration": 3,
    "start_time": "2023-03-23T20:18:03.388Z"
   },
   {
    "duration": 9,
    "start_time": "2023-03-23T20:18:03.393Z"
   },
   {
    "duration": 6,
    "start_time": "2023-03-23T20:18:03.404Z"
   },
   {
    "duration": 5,
    "start_time": "2023-03-23T20:18:03.411Z"
   },
   {
    "duration": 14,
    "start_time": "2023-03-23T20:18:03.417Z"
   },
   {
    "duration": 112,
    "start_time": "2023-03-23T20:18:03.433Z"
   },
   {
    "duration": 23,
    "start_time": "2023-03-23T20:18:03.546Z"
   },
   {
    "duration": 8,
    "start_time": "2023-03-23T20:18:03.571Z"
   },
   {
    "duration": 7,
    "start_time": "2023-03-23T20:18:03.580Z"
   },
   {
    "duration": 12,
    "start_time": "2023-03-23T20:18:03.588Z"
   },
   {
    "duration": 35,
    "start_time": "2023-03-23T20:18:03.601Z"
   },
   {
    "duration": 11,
    "start_time": "2023-03-23T20:18:03.637Z"
   },
   {
    "duration": 96,
    "start_time": "2023-03-23T20:18:03.649Z"
   },
   {
    "duration": 24,
    "start_time": "2023-03-23T20:18:03.747Z"
   },
   {
    "duration": 12,
    "start_time": "2023-03-23T20:18:03.772Z"
   },
   {
    "duration": 13,
    "start_time": "2023-03-23T20:18:03.786Z"
   },
   {
    "duration": 11,
    "start_time": "2023-03-23T20:18:03.800Z"
   },
   {
    "duration": 11,
    "start_time": "2023-03-23T20:18:03.812Z"
   },
   {
    "duration": 11,
    "start_time": "2023-03-23T20:18:03.825Z"
   },
   {
    "duration": 36,
    "start_time": "2023-03-23T20:18:03.837Z"
   },
   {
    "duration": 9,
    "start_time": "2023-03-23T20:18:03.874Z"
   },
   {
    "duration": 2,
    "start_time": "2023-03-23T20:18:27.147Z"
   },
   {
    "duration": 47,
    "start_time": "2023-03-23T20:18:28.711Z"
   },
   {
    "duration": 14,
    "start_time": "2023-03-23T20:18:29.802Z"
   },
   {
    "duration": 4,
    "start_time": "2023-03-23T20:18:30.828Z"
   },
   {
    "duration": 11,
    "start_time": "2023-03-23T20:18:32.645Z"
   },
   {
    "duration": 14,
    "start_time": "2023-03-23T20:18:33.216Z"
   },
   {
    "duration": 7,
    "start_time": "2023-03-23T20:18:35.417Z"
   },
   {
    "duration": 5,
    "start_time": "2023-03-23T20:18:36.914Z"
   },
   {
    "duration": 4,
    "start_time": "2023-03-23T20:18:38.795Z"
   },
   {
    "duration": 4,
    "start_time": "2023-03-23T20:18:41.036Z"
   },
   {
    "duration": 5,
    "start_time": "2023-03-23T20:18:41.633Z"
   },
   {
    "duration": 5,
    "start_time": "2023-03-23T20:18:42.994Z"
   },
   {
    "duration": 16,
    "start_time": "2023-03-23T20:18:47.094Z"
   },
   {
    "duration": 130,
    "start_time": "2023-03-23T20:18:48.714Z"
   },
   {
    "duration": 13,
    "start_time": "2023-03-23T20:18:51.711Z"
   },
   {
    "duration": 4,
    "start_time": "2023-03-23T20:18:52.345Z"
   },
   {
    "duration": 5,
    "start_time": "2023-03-23T20:18:53.005Z"
   },
   {
    "duration": 238,
    "start_time": "2023-03-23T20:18:53.660Z"
   },
   {
    "duration": 16,
    "start_time": "2023-03-23T20:18:58.208Z"
   },
   {
    "duration": 4,
    "start_time": "2023-03-23T20:19:01.688Z"
   },
   {
    "duration": 10,
    "start_time": "2023-03-23T20:19:02.327Z"
   },
   {
    "duration": 312,
    "start_time": "2023-03-23T20:19:02.932Z"
   },
   {
    "duration": 235,
    "start_time": "2023-03-23T20:19:05.513Z"
   },
   {
    "duration": 7,
    "start_time": "2023-03-23T20:19:09.712Z"
   },
   {
    "duration": 6,
    "start_time": "2023-03-23T20:19:10.461Z"
   },
   {
    "duration": 147,
    "start_time": "2023-03-23T20:19:11.219Z"
   },
   {
    "duration": 7,
    "start_time": "2023-03-23T20:19:11.915Z"
   },
   {
    "duration": 147,
    "start_time": "2023-03-23T20:19:12.612Z"
   },
   {
    "duration": 3116,
    "start_time": "2023-03-23T20:19:16.515Z"
   },
   {
    "duration": 112,
    "start_time": "2023-03-23T20:19:21.408Z"
   },
   {
    "duration": 244,
    "start_time": "2023-03-23T20:19:29.917Z"
   },
   {
    "duration": 19,
    "start_time": "2023-03-23T20:19:35.164Z"
   },
   {
    "duration": 8,
    "start_time": "2023-03-23T20:19:35.716Z"
   },
   {
    "duration": 3,
    "start_time": "2023-03-23T20:19:36.261Z"
   },
   {
    "duration": 4,
    "start_time": "2023-03-23T20:19:36.818Z"
   },
   {
    "duration": 7,
    "start_time": "2023-03-23T20:19:37.618Z"
   },
   {
    "duration": 4,
    "start_time": "2023-03-23T20:19:38.135Z"
   },
   {
    "duration": 7,
    "start_time": "2023-03-23T20:19:38.696Z"
   },
   {
    "duration": 11,
    "start_time": "2023-03-23T20:19:39.291Z"
   },
   {
    "duration": 236,
    "start_time": "2023-03-23T20:19:39.861Z"
   },
   {
    "duration": 13,
    "start_time": "2023-03-23T20:19:41.123Z"
   },
   {
    "duration": 10,
    "start_time": "2023-03-23T20:19:41.717Z"
   },
   {
    "duration": 4,
    "start_time": "2023-03-23T20:19:42.317Z"
   },
   {
    "duration": 8,
    "start_time": "2023-03-23T20:19:42.992Z"
   },
   {
    "duration": 5,
    "start_time": "2023-03-23T20:19:43.619Z"
   },
   {
    "duration": 4,
    "start_time": "2023-03-23T20:19:44.220Z"
   },
   {
    "duration": 8,
    "start_time": "2023-03-23T20:19:44.752Z"
   },
   {
    "duration": 112,
    "start_time": "2023-03-23T20:19:45.330Z"
   },
   {
    "duration": 12,
    "start_time": "2023-03-23T20:19:46.519Z"
   },
   {
    "duration": 8,
    "start_time": "2023-03-23T20:19:47.207Z"
   },
   {
    "duration": 7,
    "start_time": "2023-03-23T20:19:47.722Z"
   },
   {
    "duration": 5,
    "start_time": "2023-03-23T20:19:48.263Z"
   },
   {
    "duration": 4,
    "start_time": "2023-03-23T20:19:48.910Z"
   },
   {
    "duration": 9,
    "start_time": "2023-03-23T20:19:49.411Z"
   },
   {
    "duration": 133,
    "start_time": "2023-03-23T20:19:49.903Z"
   },
   {
    "duration": 12,
    "start_time": "2023-03-23T20:19:55.720Z"
   },
   {
    "duration": 15,
    "start_time": "2023-03-23T20:19:56.892Z"
   },
   {
    "duration": 13,
    "start_time": "2023-03-23T20:19:58.015Z"
   },
   {
    "duration": 13,
    "start_time": "2023-03-23T20:20:01.895Z"
   },
   {
    "duration": 14,
    "start_time": "2023-03-23T20:20:02.411Z"
   },
   {
    "duration": 13,
    "start_time": "2023-03-23T20:20:02.920Z"
   },
   {
    "duration": 9,
    "start_time": "2023-03-23T20:20:08.528Z"
   },
   {
    "duration": 9,
    "start_time": "2023-03-23T20:20:09.927Z"
   },
   {
    "duration": 1207,
    "start_time": "2023-03-24T04:23:31.735Z"
   },
   {
    "duration": 118,
    "start_time": "2023-03-24T04:23:32.944Z"
   },
   {
    "duration": 25,
    "start_time": "2023-03-24T04:23:33.064Z"
   },
   {
    "duration": 4,
    "start_time": "2023-03-24T04:23:33.091Z"
   },
   {
    "duration": 25,
    "start_time": "2023-03-24T04:23:33.096Z"
   },
   {
    "duration": 72,
    "start_time": "2023-03-24T04:23:33.124Z"
   },
   {
    "duration": 9,
    "start_time": "2023-03-24T04:23:33.202Z"
   },
   {
    "duration": 14,
    "start_time": "2023-03-24T04:23:33.213Z"
   },
   {
    "duration": 12,
    "start_time": "2023-03-24T04:23:33.229Z"
   },
   {
    "duration": 15,
    "start_time": "2023-03-24T04:23:33.244Z"
   },
   {
    "duration": 11,
    "start_time": "2023-03-24T04:23:33.261Z"
   },
   {
    "duration": 21,
    "start_time": "2023-03-24T04:23:33.274Z"
   },
   {
    "duration": 37,
    "start_time": "2023-03-24T04:23:33.297Z"
   },
   {
    "duration": 191,
    "start_time": "2023-03-24T04:23:33.336Z"
   },
   {
    "duration": 19,
    "start_time": "2023-03-24T04:23:33.530Z"
   },
   {
    "duration": 5,
    "start_time": "2023-03-24T04:23:33.551Z"
   },
   {
    "duration": 35,
    "start_time": "2023-03-24T04:23:33.558Z"
   },
   {
    "duration": 401,
    "start_time": "2023-03-24T04:23:33.595Z"
   },
   {
    "duration": 26,
    "start_time": "2023-03-24T04:23:34.003Z"
   },
   {
    "duration": 6,
    "start_time": "2023-03-24T04:23:34.031Z"
   },
   {
    "duration": 18,
    "start_time": "2023-03-24T04:23:34.039Z"
   },
   {
    "duration": 485,
    "start_time": "2023-03-24T04:23:34.059Z"
   },
   {
    "duration": 324,
    "start_time": "2023-03-24T04:23:34.547Z"
   },
   {
    "duration": 6,
    "start_time": "2023-03-24T04:23:34.873Z"
   },
   {
    "duration": 29,
    "start_time": "2023-03-24T04:23:34.881Z"
   },
   {
    "duration": 160,
    "start_time": "2023-03-24T04:23:34.912Z"
   },
   {
    "duration": 20,
    "start_time": "2023-03-24T04:23:35.074Z"
   },
   {
    "duration": 184,
    "start_time": "2023-03-24T04:23:35.099Z"
   },
   {
    "duration": 3745,
    "start_time": "2023-03-24T04:23:35.285Z"
   },
   {
    "duration": 157,
    "start_time": "2023-03-24T04:23:39.032Z"
   },
   {
    "duration": 432,
    "start_time": "2023-03-24T04:23:39.194Z"
   },
   {
    "duration": 16,
    "start_time": "2023-03-24T04:23:39.628Z"
   },
   {
    "duration": 16,
    "start_time": "2023-03-24T04:23:39.646Z"
   },
   {
    "duration": 30,
    "start_time": "2023-03-24T04:23:39.664Z"
   },
   {
    "duration": 11,
    "start_time": "2023-03-24T04:23:39.702Z"
   },
   {
    "duration": 9,
    "start_time": "2023-03-24T04:23:39.715Z"
   },
   {
    "duration": 7,
    "start_time": "2023-03-24T04:23:39.726Z"
   },
   {
    "duration": 6,
    "start_time": "2023-03-24T04:23:39.735Z"
   },
   {
    "duration": 19,
    "start_time": "2023-03-24T04:23:39.743Z"
   },
   {
    "duration": 168,
    "start_time": "2023-03-24T04:23:39.764Z"
   },
   {
    "duration": 21,
    "start_time": "2023-03-24T04:23:39.934Z"
   },
   {
    "duration": 32,
    "start_time": "2023-03-24T04:23:39.957Z"
   },
   {
    "duration": 24,
    "start_time": "2023-03-24T04:23:39.991Z"
   },
   {
    "duration": 19,
    "start_time": "2023-03-24T04:23:40.017Z"
   },
   {
    "duration": 12,
    "start_time": "2023-03-24T04:23:40.038Z"
   },
   {
    "duration": 6,
    "start_time": "2023-03-24T04:23:40.052Z"
   },
   {
    "duration": 15,
    "start_time": "2023-03-24T04:23:40.060Z"
   },
   {
    "duration": 162,
    "start_time": "2023-03-24T04:23:40.077Z"
   },
   {
    "duration": 15,
    "start_time": "2023-03-24T04:23:40.240Z"
   },
   {
    "duration": 11,
    "start_time": "2023-03-24T04:23:40.257Z"
   },
   {
    "duration": 10,
    "start_time": "2023-03-24T04:23:40.302Z"
   },
   {
    "duration": 19,
    "start_time": "2023-03-24T04:23:40.314Z"
   },
   {
    "duration": 16,
    "start_time": "2023-03-24T04:23:40.335Z"
   },
   {
    "duration": 75,
    "start_time": "2023-03-24T04:23:40.354Z"
   },
   {
    "duration": 193,
    "start_time": "2023-03-24T04:23:40.434Z"
   },
   {
    "duration": 21,
    "start_time": "2023-03-24T04:23:40.630Z"
   },
   {
    "duration": 48,
    "start_time": "2023-03-24T04:23:40.654Z"
   },
   {
    "duration": 50,
    "start_time": "2023-03-24T04:23:40.705Z"
   },
   {
    "duration": 141,
    "start_time": "2023-03-24T04:23:40.756Z"
   },
   {
    "duration": 20,
    "start_time": "2023-03-24T04:23:40.900Z"
   },
   {
    "duration": 16,
    "start_time": "2023-03-24T04:23:40.922Z"
   },
   {
    "duration": 11,
    "start_time": "2023-03-24T04:23:40.940Z"
   },
   {
    "duration": 13,
    "start_time": "2023-03-24T04:23:40.953Z"
   },
   {
    "duration": 42,
    "start_time": "2023-03-24T16:11:07.859Z"
   },
   {
    "duration": 1248,
    "start_time": "2023-03-24T16:11:11.618Z"
   },
   {
    "duration": 434,
    "start_time": "2023-03-24T16:11:12.869Z"
   },
   {
    "duration": 13,
    "start_time": "2023-03-24T16:11:13.306Z"
   },
   {
    "duration": 3,
    "start_time": "2023-03-24T16:11:13.321Z"
   },
   {
    "duration": 8,
    "start_time": "2023-03-24T16:11:13.326Z"
   },
   {
    "duration": 49,
    "start_time": "2023-03-24T16:11:13.336Z"
   },
   {
    "duration": 6,
    "start_time": "2023-03-24T16:11:13.387Z"
   },
   {
    "duration": 5,
    "start_time": "2023-03-24T16:11:13.394Z"
   },
   {
    "duration": 5,
    "start_time": "2023-03-24T16:11:13.400Z"
   },
   {
    "duration": 6,
    "start_time": "2023-03-24T16:11:13.406Z"
   },
   {
    "duration": 4,
    "start_time": "2023-03-24T16:11:13.413Z"
   },
   {
    "duration": 4,
    "start_time": "2023-03-24T16:11:13.418Z"
   },
   {
    "duration": 45,
    "start_time": "2023-03-24T16:11:13.424Z"
   },
   {
    "duration": 156,
    "start_time": "2023-03-24T16:11:13.472Z"
   },
   {
    "duration": 15,
    "start_time": "2023-03-24T16:11:13.629Z"
   },
   {
    "duration": 3,
    "start_time": "2023-03-24T16:11:13.645Z"
   },
   {
    "duration": 21,
    "start_time": "2023-03-24T16:11:13.649Z"
   },
   {
    "duration": 304,
    "start_time": "2023-03-24T16:11:13.671Z"
   },
   {
    "duration": 16,
    "start_time": "2023-03-24T16:11:13.976Z"
   },
   {
    "duration": 2,
    "start_time": "2023-03-24T16:11:13.994Z"
   },
   {
    "duration": 7,
    "start_time": "2023-03-24T16:11:13.998Z"
   },
   {
    "duration": 274,
    "start_time": "2023-03-24T16:11:14.007Z"
   },
   {
    "duration": 229,
    "start_time": "2023-03-24T16:11:14.283Z"
   },
   {
    "duration": 6,
    "start_time": "2023-03-24T16:11:14.514Z"
   },
   {
    "duration": 7,
    "start_time": "2023-03-24T16:11:14.521Z"
   },
   {
    "duration": 130,
    "start_time": "2023-03-24T16:11:14.530Z"
   },
   {
    "duration": 8,
    "start_time": "2023-03-24T16:11:14.662Z"
   },
   {
    "duration": 118,
    "start_time": "2023-03-24T16:11:14.672Z"
   },
   {
    "duration": 2806,
    "start_time": "2023-03-24T16:11:14.792Z"
   },
   {
    "duration": 126,
    "start_time": "2023-03-24T16:11:17.599Z"
   },
   {
    "duration": 394,
    "start_time": "2023-03-24T16:11:17.726Z"
   },
   {
    "duration": 19,
    "start_time": "2023-03-24T16:11:18.123Z"
   },
   {
    "duration": 26,
    "start_time": "2023-03-24T16:11:18.144Z"
   },
   {
    "duration": 4,
    "start_time": "2023-03-24T16:11:18.172Z"
   },
   {
    "duration": 95,
    "start_time": "2023-03-24T16:11:18.179Z"
   },
   {
    "duration": 0,
    "start_time": "2023-03-24T16:11:18.276Z"
   },
   {
    "duration": 0,
    "start_time": "2023-03-24T16:11:18.278Z"
   },
   {
    "duration": 0,
    "start_time": "2023-03-24T16:11:18.279Z"
   },
   {
    "duration": 0,
    "start_time": "2023-03-24T16:11:18.280Z"
   },
   {
    "duration": 0,
    "start_time": "2023-03-24T16:11:18.281Z"
   },
   {
    "duration": 1,
    "start_time": "2023-03-24T16:11:18.282Z"
   },
   {
    "duration": 0,
    "start_time": "2023-03-24T16:11:18.284Z"
   },
   {
    "duration": 0,
    "start_time": "2023-03-24T16:11:18.285Z"
   },
   {
    "duration": 0,
    "start_time": "2023-03-24T16:11:18.286Z"
   },
   {
    "duration": 0,
    "start_time": "2023-03-24T16:11:18.288Z"
   },
   {
    "duration": 0,
    "start_time": "2023-03-24T16:11:18.289Z"
   },
   {
    "duration": 0,
    "start_time": "2023-03-24T16:11:18.290Z"
   },
   {
    "duration": 0,
    "start_time": "2023-03-24T16:11:18.291Z"
   },
   {
    "duration": 0,
    "start_time": "2023-03-24T16:11:18.292Z"
   },
   {
    "duration": 0,
    "start_time": "2023-03-24T16:11:18.293Z"
   },
   {
    "duration": 0,
    "start_time": "2023-03-24T16:11:18.294Z"
   },
   {
    "duration": 0,
    "start_time": "2023-03-24T16:11:18.295Z"
   },
   {
    "duration": 0,
    "start_time": "2023-03-24T16:11:18.296Z"
   },
   {
    "duration": 0,
    "start_time": "2023-03-24T16:11:18.298Z"
   },
   {
    "duration": 0,
    "start_time": "2023-03-24T16:11:18.299Z"
   },
   {
    "duration": 0,
    "start_time": "2023-03-24T16:11:18.300Z"
   },
   {
    "duration": 0,
    "start_time": "2023-03-24T16:11:18.301Z"
   },
   {
    "duration": 0,
    "start_time": "2023-03-24T16:11:18.302Z"
   },
   {
    "duration": 0,
    "start_time": "2023-03-24T16:11:18.305Z"
   },
   {
    "duration": 0,
    "start_time": "2023-03-24T16:11:18.307Z"
   },
   {
    "duration": 0,
    "start_time": "2023-03-24T16:11:18.308Z"
   },
   {
    "duration": 0,
    "start_time": "2023-03-24T16:11:18.309Z"
   },
   {
    "duration": 0,
    "start_time": "2023-03-24T16:11:18.369Z"
   },
   {
    "duration": 3,
    "start_time": "2023-03-24T16:11:18.954Z"
   },
   {
    "duration": 46,
    "start_time": "2023-03-24T16:11:20.668Z"
   },
   {
    "duration": 12,
    "start_time": "2023-03-24T16:11:21.912Z"
   },
   {
    "duration": 3,
    "start_time": "2023-03-24T16:11:23.417Z"
   },
   {
    "duration": 7,
    "start_time": "2023-03-24T16:11:26.040Z"
   },
   {
    "duration": 14,
    "start_time": "2023-03-24T16:11:27.101Z"
   },
   {
    "duration": 7,
    "start_time": "2023-03-24T16:11:36.190Z"
   },
   {
    "duration": 4,
    "start_time": "2023-03-24T16:11:38.069Z"
   },
   {
    "duration": 5,
    "start_time": "2023-03-24T16:11:42.351Z"
   },
   {
    "duration": 3,
    "start_time": "2023-03-24T16:11:44.718Z"
   },
   {
    "duration": 4,
    "start_time": "2023-03-24T16:11:45.235Z"
   },
   {
    "duration": 11,
    "start_time": "2023-03-24T16:11:46.467Z"
   },
   {
    "duration": 14,
    "start_time": "2023-03-24T16:11:50.837Z"
   },
   {
    "duration": 149,
    "start_time": "2023-03-24T16:11:52.972Z"
   },
   {
    "duration": 13,
    "start_time": "2023-03-24T16:12:03.022Z"
   },
   {
    "duration": 4,
    "start_time": "2023-03-24T16:12:05.561Z"
   },
   {
    "duration": 7,
    "start_time": "2023-03-24T16:12:07.360Z"
   },
   {
    "duration": 244,
    "start_time": "2023-03-24T16:12:08.803Z"
   },
   {
    "duration": 16,
    "start_time": "2023-03-24T16:12:28.821Z"
   },
   {
    "duration": 4,
    "start_time": "2023-03-24T16:12:52.098Z"
   },
   {
    "duration": 8,
    "start_time": "2023-03-24T16:13:23.854Z"
   },
   {
    "duration": 266,
    "start_time": "2023-03-24T16:13:27.016Z"
   },
   {
    "duration": 246,
    "start_time": "2023-03-24T16:13:57.778Z"
   },
   {
    "duration": 5,
    "start_time": "2023-03-24T16:16:01.647Z"
   },
   {
    "duration": 7,
    "start_time": "2023-03-24T16:16:02.514Z"
   },
   {
    "duration": 134,
    "start_time": "2023-03-24T16:16:04.859Z"
   },
   {
    "duration": 5,
    "start_time": "2023-03-24T16:16:13.185Z"
   },
   {
    "duration": 106,
    "start_time": "2023-03-24T16:16:16.805Z"
   },
   {
    "duration": 5,
    "start_time": "2023-03-24T16:16:59.720Z"
   },
   {
    "duration": 5,
    "start_time": "2023-03-24T16:17:01.352Z"
   },
   {
    "duration": 8,
    "start_time": "2023-03-24T16:17:11.233Z"
   },
   {
    "duration": 6,
    "start_time": "2023-03-24T16:17:19.449Z"
   },
   {
    "duration": 5,
    "start_time": "2023-03-24T16:17:20.262Z"
   },
   {
    "duration": 6,
    "start_time": "2023-03-24T16:17:31.897Z"
   },
   {
    "duration": 6,
    "start_time": "2023-03-24T16:17:49.168Z"
   },
   {
    "duration": 4,
    "start_time": "2023-03-24T16:17:54.584Z"
   },
   {
    "duration": 6,
    "start_time": "2023-03-24T16:17:55.547Z"
   },
   {
    "duration": 126,
    "start_time": "2023-03-24T16:17:57.430Z"
   },
   {
    "duration": 126,
    "start_time": "2023-03-24T16:18:02.748Z"
   },
   {
    "duration": 6,
    "start_time": "2023-03-24T16:18:06.784Z"
   },
   {
    "duration": 5,
    "start_time": "2023-03-24T16:18:21.254Z"
   },
   {
    "duration": 5,
    "start_time": "2023-03-24T16:18:35.916Z"
   },
   {
    "duration": 121,
    "start_time": "2023-03-24T16:18:42.099Z"
   },
   {
    "duration": 2481,
    "start_time": "2023-03-24T16:21:17.119Z"
   },
   {
    "duration": 92,
    "start_time": "2023-03-24T16:22:12.944Z"
   },
   {
    "duration": 226,
    "start_time": "2023-03-24T16:23:36.300Z"
   },
   {
    "duration": 13,
    "start_time": "2023-03-24T16:24:05.833Z"
   },
   {
    "duration": 9,
    "start_time": "2023-03-24T16:24:11.278Z"
   },
   {
    "duration": 3,
    "start_time": "2023-03-24T16:24:20.284Z"
   },
   {
    "duration": 3,
    "start_time": "2023-03-24T16:24:28.104Z"
   },
   {
    "duration": 7,
    "start_time": "2023-03-24T16:24:30.217Z"
   },
   {
    "duration": 4,
    "start_time": "2023-03-24T16:24:33.614Z"
   },
   {
    "duration": 4,
    "start_time": "2023-03-24T16:24:43.472Z"
   },
   {
    "duration": 7,
    "start_time": "2023-03-24T16:24:44.383Z"
   },
   {
    "duration": 102,
    "start_time": "2023-03-24T16:24:52.278Z"
   },
   {
    "duration": 12,
    "start_time": "2023-03-24T16:25:06.616Z"
   },
   {
    "duration": 8,
    "start_time": "2023-03-24T16:25:09.355Z"
   },
   {
    "duration": 3,
    "start_time": "2023-03-24T16:25:12.287Z"
   },
   {
    "duration": 7,
    "start_time": "2023-03-24T16:25:16.688Z"
   },
   {
    "duration": 5,
    "start_time": "2023-03-24T16:25:19.121Z"
   },
   {
    "duration": 4,
    "start_time": "2023-03-24T16:25:24.899Z"
   },
   {
    "duration": 7,
    "start_time": "2023-03-24T16:25:25.850Z"
   },
   {
    "duration": 180,
    "start_time": "2023-03-24T16:25:28.824Z"
   },
   {
    "duration": 16,
    "start_time": "2023-03-24T16:25:42.486Z"
   },
   {
    "duration": 9,
    "start_time": "2023-03-24T16:26:01.174Z"
   },
   {
    "duration": 7,
    "start_time": "2023-03-24T16:26:07.787Z"
   },
   {
    "duration": 5,
    "start_time": "2023-03-24T16:26:11.846Z"
   },
   {
    "duration": 3,
    "start_time": "2023-03-24T16:26:18.054Z"
   },
   {
    "duration": 7,
    "start_time": "2023-03-24T16:26:19.936Z"
   },
   {
    "duration": 93,
    "start_time": "2023-03-24T16:26:28.341Z"
   },
   {
    "duration": 13,
    "start_time": "2023-03-24T16:32:01.968Z"
   },
   {
    "duration": 13,
    "start_time": "2023-03-24T16:32:05.658Z"
   },
   {
    "duration": 15,
    "start_time": "2023-03-24T16:32:12.291Z"
   },
   {
    "duration": 15,
    "start_time": "2023-03-24T16:35:59.808Z"
   },
   {
    "duration": 17,
    "start_time": "2023-03-24T16:36:02.203Z"
   },
   {
    "duration": 18,
    "start_time": "2023-03-24T16:36:05.053Z"
   },
   {
    "duration": 8,
    "start_time": "2023-03-24T16:36:29.687Z"
   },
   {
    "duration": 8,
    "start_time": "2023-03-24T16:36:37.845Z"
   },
   {
    "duration": 212,
    "start_time": "2023-03-24T16:39:46.977Z"
   },
   {
    "duration": 2,
    "start_time": "2023-03-24T16:46:37.039Z"
   },
   {
    "duration": 52,
    "start_time": "2023-03-24T16:46:37.043Z"
   },
   {
    "duration": 12,
    "start_time": "2023-03-24T16:46:37.096Z"
   },
   {
    "duration": 2,
    "start_time": "2023-03-24T16:46:37.109Z"
   },
   {
    "duration": 8,
    "start_time": "2023-03-24T16:46:37.113Z"
   },
   {
    "duration": 13,
    "start_time": "2023-03-24T16:46:37.123Z"
   },
   {
    "duration": 5,
    "start_time": "2023-03-24T16:46:37.137Z"
   },
   {
    "duration": 24,
    "start_time": "2023-03-24T16:46:37.144Z"
   },
   {
    "duration": 4,
    "start_time": "2023-03-24T16:46:37.170Z"
   },
   {
    "duration": 6,
    "start_time": "2023-03-24T16:46:37.175Z"
   },
   {
    "duration": 7,
    "start_time": "2023-03-24T16:46:37.182Z"
   },
   {
    "duration": 4,
    "start_time": "2023-03-24T16:46:37.190Z"
   },
   {
    "duration": 14,
    "start_time": "2023-03-24T16:46:37.195Z"
   },
   {
    "duration": 161,
    "start_time": "2023-03-24T16:46:37.211Z"
   },
   {
    "duration": 12,
    "start_time": "2023-03-24T16:46:37.374Z"
   },
   {
    "duration": 3,
    "start_time": "2023-03-24T16:46:37.388Z"
   },
   {
    "duration": 11,
    "start_time": "2023-03-24T16:46:37.392Z"
   },
   {
    "duration": 248,
    "start_time": "2023-03-24T16:46:37.405Z"
   },
   {
    "duration": 21,
    "start_time": "2023-03-24T16:46:37.654Z"
   },
   {
    "duration": 3,
    "start_time": "2023-03-24T16:46:37.676Z"
   },
   {
    "duration": 9,
    "start_time": "2023-03-24T16:46:37.681Z"
   },
   {
    "duration": 276,
    "start_time": "2023-03-24T16:46:37.692Z"
   },
   {
    "duration": 214,
    "start_time": "2023-03-24T16:46:37.970Z"
   },
   {
    "duration": 5,
    "start_time": "2023-03-24T16:46:38.186Z"
   },
   {
    "duration": 6,
    "start_time": "2023-03-24T16:46:38.192Z"
   },
   {
    "duration": 144,
    "start_time": "2023-03-24T16:46:38.199Z"
   },
   {
    "duration": 5,
    "start_time": "2023-03-24T16:46:38.345Z"
   },
   {
    "duration": 143,
    "start_time": "2023-03-24T16:46:38.352Z"
   },
   {
    "duration": 2127,
    "start_time": "2023-03-24T16:46:38.499Z"
   },
   {
    "duration": 88,
    "start_time": "2023-03-24T16:46:40.628Z"
   },
   {
    "duration": 239,
    "start_time": "2023-03-24T16:46:40.717Z"
   },
   {
    "duration": 18,
    "start_time": "2023-03-24T16:46:40.958Z"
   },
   {
    "duration": 10,
    "start_time": "2023-03-24T16:46:40.978Z"
   },
   {
    "duration": 5,
    "start_time": "2023-03-24T16:46:40.990Z"
   },
   {
    "duration": 5,
    "start_time": "2023-03-24T16:46:40.996Z"
   },
   {
    "duration": 7,
    "start_time": "2023-03-24T16:46:41.002Z"
   },
   {
    "duration": 3,
    "start_time": "2023-03-24T16:46:41.011Z"
   },
   {
    "duration": 4,
    "start_time": "2023-03-24T16:46:41.016Z"
   },
   {
    "duration": 8,
    "start_time": "2023-03-24T16:46:41.021Z"
   },
   {
    "duration": 117,
    "start_time": "2023-03-24T16:46:41.031Z"
   },
   {
    "duration": 12,
    "start_time": "2023-03-24T16:46:41.150Z"
   },
   {
    "duration": 7,
    "start_time": "2023-03-24T16:46:41.169Z"
   },
   {
    "duration": 3,
    "start_time": "2023-03-24T16:46:41.177Z"
   },
   {
    "duration": 7,
    "start_time": "2023-03-24T16:46:41.182Z"
   },
   {
    "duration": 4,
    "start_time": "2023-03-24T16:46:41.190Z"
   },
   {
    "duration": 9,
    "start_time": "2023-03-24T16:46:41.195Z"
   },
   {
    "duration": 26,
    "start_time": "2023-03-24T16:46:41.205Z"
   },
   {
    "duration": 194,
    "start_time": "2023-03-24T16:46:41.232Z"
   },
   {
    "duration": 13,
    "start_time": "2023-03-24T16:46:41.427Z"
   },
   {
    "duration": 7,
    "start_time": "2023-03-24T16:46:41.441Z"
   },
   {
    "duration": 21,
    "start_time": "2023-03-24T16:46:41.449Z"
   },
   {
    "duration": 4,
    "start_time": "2023-03-24T16:46:41.472Z"
   },
   {
    "duration": 3,
    "start_time": "2023-03-24T16:46:41.478Z"
   },
   {
    "duration": 8,
    "start_time": "2023-03-24T16:46:41.483Z"
   },
   {
    "duration": 112,
    "start_time": "2023-03-24T16:46:41.492Z"
   },
   {
    "duration": 11,
    "start_time": "2023-03-24T16:46:41.606Z"
   },
   {
    "duration": 11,
    "start_time": "2023-03-24T16:46:41.619Z"
   },
   {
    "duration": 25,
    "start_time": "2023-03-24T16:46:41.631Z"
   },
   {
    "duration": 20,
    "start_time": "2023-03-24T16:46:41.658Z"
   },
   {
    "duration": 22,
    "start_time": "2023-03-24T16:46:41.679Z"
   },
   {
    "duration": 10,
    "start_time": "2023-03-24T16:46:41.703Z"
   },
   {
    "duration": 7,
    "start_time": "2023-03-24T16:46:41.715Z"
   },
   {
    "duration": 8,
    "start_time": "2023-03-24T16:46:41.723Z"
   },
   {
    "duration": 1074,
    "start_time": "2023-03-25T08:09:47.334Z"
   },
   {
    "duration": 50,
    "start_time": "2023-03-25T08:09:48.409Z"
   },
   {
    "duration": 13,
    "start_time": "2023-03-25T08:09:48.460Z"
   },
   {
    "duration": 3,
    "start_time": "2023-03-25T08:09:48.475Z"
   },
   {
    "duration": 7,
    "start_time": "2023-03-25T08:09:48.479Z"
   },
   {
    "duration": 65,
    "start_time": "2023-03-25T08:09:48.488Z"
   },
   {
    "duration": 6,
    "start_time": "2023-03-25T08:09:48.555Z"
   },
   {
    "duration": 4,
    "start_time": "2023-03-25T08:09:48.562Z"
   },
   {
    "duration": 3,
    "start_time": "2023-03-25T08:09:48.567Z"
   },
   {
    "duration": 5,
    "start_time": "2023-03-25T08:09:48.572Z"
   },
   {
    "duration": 4,
    "start_time": "2023-03-25T08:09:48.578Z"
   },
   {
    "duration": 4,
    "start_time": "2023-03-25T08:09:48.583Z"
   },
   {
    "duration": 13,
    "start_time": "2023-03-25T08:09:48.588Z"
   },
   {
    "duration": 171,
    "start_time": "2023-03-25T08:09:48.602Z"
   },
   {
    "duration": 13,
    "start_time": "2023-03-25T08:09:48.774Z"
   },
   {
    "duration": 3,
    "start_time": "2023-03-25T08:09:48.789Z"
   },
   {
    "duration": 5,
    "start_time": "2023-03-25T08:09:48.793Z"
   },
   {
    "duration": 264,
    "start_time": "2023-03-25T08:09:48.799Z"
   },
   {
    "duration": 17,
    "start_time": "2023-03-25T08:09:49.064Z"
   },
   {
    "duration": 3,
    "start_time": "2023-03-25T08:09:49.083Z"
   },
   {
    "duration": 29,
    "start_time": "2023-03-25T08:09:49.087Z"
   },
   {
    "duration": 273,
    "start_time": "2023-03-25T08:09:49.117Z"
   },
   {
    "duration": 216,
    "start_time": "2023-03-25T08:09:49.391Z"
   },
   {
    "duration": 5,
    "start_time": "2023-03-25T08:09:49.608Z"
   },
   {
    "duration": 26,
    "start_time": "2023-03-25T08:09:49.614Z"
   },
   {
    "duration": 146,
    "start_time": "2023-03-25T08:09:49.641Z"
   },
   {
    "duration": 5,
    "start_time": "2023-03-25T08:09:49.788Z"
   },
   {
    "duration": 139,
    "start_time": "2023-03-25T08:09:49.796Z"
   },
   {
    "duration": 2005,
    "start_time": "2023-03-25T08:09:49.936Z"
   },
   {
    "duration": 80,
    "start_time": "2023-03-25T08:09:51.942Z"
   },
   {
    "duration": 244,
    "start_time": "2023-03-25T08:09:52.023Z"
   },
   {
    "duration": 13,
    "start_time": "2023-03-25T08:09:52.268Z"
   },
   {
    "duration": 22,
    "start_time": "2023-03-25T08:09:52.282Z"
   },
   {
    "duration": 3,
    "start_time": "2023-03-25T08:09:52.306Z"
   },
   {
    "duration": 4,
    "start_time": "2023-03-25T08:09:52.311Z"
   },
   {
    "duration": 7,
    "start_time": "2023-03-25T08:09:52.316Z"
   },
   {
    "duration": 15,
    "start_time": "2023-03-25T08:09:52.325Z"
   },
   {
    "duration": 7,
    "start_time": "2023-03-25T08:09:52.342Z"
   },
   {
    "duration": 15,
    "start_time": "2023-03-25T08:09:52.350Z"
   },
   {
    "duration": 102,
    "start_time": "2023-03-25T08:09:52.366Z"
   },
   {
    "duration": 12,
    "start_time": "2023-03-25T08:09:52.470Z"
   },
   {
    "duration": 7,
    "start_time": "2023-03-25T08:09:52.483Z"
   },
   {
    "duration": 5,
    "start_time": "2023-03-25T08:09:52.492Z"
   },
   {
    "duration": 7,
    "start_time": "2023-03-25T08:09:52.498Z"
   },
   {
    "duration": 10,
    "start_time": "2023-03-25T08:09:52.506Z"
   },
   {
    "duration": 34,
    "start_time": "2023-03-25T08:09:52.517Z"
   },
   {
    "duration": 13,
    "start_time": "2023-03-25T08:09:52.553Z"
   },
   {
    "duration": 162,
    "start_time": "2023-03-25T08:09:52.568Z"
   },
   {
    "duration": 14,
    "start_time": "2023-03-25T08:09:52.732Z"
   },
   {
    "duration": 10,
    "start_time": "2023-03-25T08:09:52.747Z"
   },
   {
    "duration": 11,
    "start_time": "2023-03-25T08:09:52.758Z"
   },
   {
    "duration": 4,
    "start_time": "2023-03-25T08:09:52.770Z"
   },
   {
    "duration": 3,
    "start_time": "2023-03-25T08:09:52.776Z"
   },
   {
    "duration": 16,
    "start_time": "2023-03-25T08:09:52.781Z"
   },
   {
    "duration": 115,
    "start_time": "2023-03-25T08:09:52.798Z"
   },
   {
    "duration": 13,
    "start_time": "2023-03-25T08:09:52.914Z"
   },
   {
    "duration": 22,
    "start_time": "2023-03-25T08:09:52.928Z"
   },
   {
    "duration": 11,
    "start_time": "2023-03-25T08:09:52.951Z"
   },
   {
    "duration": 11,
    "start_time": "2023-03-25T08:09:52.964Z"
   },
   {
    "duration": 16,
    "start_time": "2023-03-25T08:09:52.976Z"
   },
   {
    "duration": 18,
    "start_time": "2023-03-25T08:09:52.993Z"
   },
   {
    "duration": 40,
    "start_time": "2023-03-25T08:09:53.012Z"
   },
   {
    "duration": 22,
    "start_time": "2023-03-25T08:09:53.054Z"
   },
   {
    "duration": 53,
    "start_time": "2023-07-06T16:34:00.809Z"
   },
   {
    "duration": 561,
    "start_time": "2023-07-06T16:34:18.253Z"
   },
   {
    "duration": 188,
    "start_time": "2023-07-06T16:34:42.831Z"
   },
   {
    "duration": 738,
    "start_time": "2023-07-06T16:35:25.052Z"
   },
   {
    "duration": 460,
    "start_time": "2023-07-06T16:35:25.793Z"
   },
   {
    "duration": 16,
    "start_time": "2023-07-06T16:35:26.255Z"
   },
   {
    "duration": 9,
    "start_time": "2023-07-06T16:35:26.273Z"
   },
   {
    "duration": 10,
    "start_time": "2023-07-06T16:35:26.283Z"
   },
   {
    "duration": 76,
    "start_time": "2023-07-06T16:35:26.294Z"
   },
   {
    "duration": 6,
    "start_time": "2023-07-06T16:35:26.372Z"
   },
   {
    "duration": 7,
    "start_time": "2023-07-06T16:35:26.380Z"
   },
   {
    "duration": 6,
    "start_time": "2023-07-06T16:35:26.389Z"
   },
   {
    "duration": 4,
    "start_time": "2023-07-06T16:35:26.399Z"
   },
   {
    "duration": 7,
    "start_time": "2023-07-06T16:35:26.404Z"
   },
   {
    "duration": 5,
    "start_time": "2023-07-06T16:35:26.412Z"
   },
   {
    "duration": 53,
    "start_time": "2023-07-06T16:35:26.419Z"
   },
   {
    "duration": 193,
    "start_time": "2023-07-06T16:35:26.474Z"
   },
   {
    "duration": 21,
    "start_time": "2023-07-06T16:35:26.669Z"
   },
   {
    "duration": 3,
    "start_time": "2023-07-06T16:35:26.692Z"
   },
   {
    "duration": 6,
    "start_time": "2023-07-06T16:35:26.697Z"
   },
   {
    "duration": 317,
    "start_time": "2023-07-06T16:35:26.704Z"
   },
   {
    "duration": 16,
    "start_time": "2023-07-06T16:35:27.023Z"
   },
   {
    "duration": 4,
    "start_time": "2023-07-06T16:35:27.053Z"
   },
   {
    "duration": 26,
    "start_time": "2023-07-06T16:35:27.059Z"
   },
   {
    "duration": 345,
    "start_time": "2023-07-06T16:35:27.087Z"
   },
   {
    "duration": 334,
    "start_time": "2023-07-06T16:35:27.434Z"
   },
   {
    "duration": 5,
    "start_time": "2023-07-06T16:35:27.770Z"
   },
   {
    "duration": 7,
    "start_time": "2023-07-06T16:35:27.777Z"
   },
   {
    "duration": 262,
    "start_time": "2023-07-06T16:35:27.786Z"
   },
   {
    "duration": 7,
    "start_time": "2023-07-06T16:35:28.049Z"
   },
   {
    "duration": 167,
    "start_time": "2023-07-06T16:35:28.061Z"
   },
   {
    "duration": 2470,
    "start_time": "2023-07-06T16:35:28.229Z"
   },
   {
    "duration": 112,
    "start_time": "2023-07-06T16:35:30.701Z"
   },
   {
    "duration": 421,
    "start_time": "2023-07-06T16:35:30.814Z"
   },
   {
    "duration": 23,
    "start_time": "2023-07-06T16:35:31.236Z"
   },
   {
    "duration": 25,
    "start_time": "2023-07-06T16:35:31.261Z"
   },
   {
    "duration": 48,
    "start_time": "2023-07-06T16:35:31.288Z"
   },
   {
    "duration": 23,
    "start_time": "2023-07-06T16:35:31.338Z"
   },
   {
    "duration": 38,
    "start_time": "2023-07-06T16:35:31.362Z"
   },
   {
    "duration": 35,
    "start_time": "2023-07-06T16:35:31.402Z"
   },
   {
    "duration": 22,
    "start_time": "2023-07-06T16:35:31.439Z"
   },
   {
    "duration": 32,
    "start_time": "2023-07-06T16:35:31.463Z"
   },
   {
    "duration": 141,
    "start_time": "2023-07-06T16:35:31.497Z"
   },
   {
    "duration": 17,
    "start_time": "2023-07-06T16:35:31.640Z"
   },
   {
    "duration": 35,
    "start_time": "2023-07-06T16:35:31.659Z"
   },
   {
    "duration": 36,
    "start_time": "2023-07-06T16:35:31.695Z"
   },
   {
    "duration": 29,
    "start_time": "2023-07-06T16:35:31.733Z"
   },
   {
    "duration": 32,
    "start_time": "2023-07-06T16:35:31.763Z"
   },
   {
    "duration": 36,
    "start_time": "2023-07-06T16:35:31.797Z"
   },
   {
    "duration": 34,
    "start_time": "2023-07-06T16:35:31.835Z"
   },
   {
    "duration": 129,
    "start_time": "2023-07-06T16:35:31.871Z"
   },
   {
    "duration": 14,
    "start_time": "2023-07-06T16:35:32.002Z"
   },
   {
    "duration": 30,
    "start_time": "2023-07-06T16:35:32.017Z"
   },
   {
    "duration": 63,
    "start_time": "2023-07-06T16:35:32.049Z"
   },
   {
    "duration": 64,
    "start_time": "2023-07-06T16:35:32.114Z"
   },
   {
    "duration": 58,
    "start_time": "2023-07-06T16:35:32.180Z"
   },
   {
    "duration": 64,
    "start_time": "2023-07-06T16:35:32.240Z"
   },
   {
    "duration": 181,
    "start_time": "2023-07-06T16:35:32.306Z"
   },
   {
    "duration": 14,
    "start_time": "2023-07-06T16:35:32.489Z"
   },
   {
    "duration": 26,
    "start_time": "2023-07-06T16:35:32.505Z"
   },
   {
    "duration": 32,
    "start_time": "2023-07-06T16:35:32.533Z"
   },
   {
    "duration": 31,
    "start_time": "2023-07-06T16:35:32.567Z"
   },
   {
    "duration": 27,
    "start_time": "2023-07-06T16:35:32.600Z"
   },
   {
    "duration": 17,
    "start_time": "2023-07-06T16:35:32.629Z"
   },
   {
    "duration": 29,
    "start_time": "2023-07-06T16:35:32.647Z"
   },
   {
    "duration": 18,
    "start_time": "2023-07-06T16:35:32.678Z"
   },
   {
    "duration": 58,
    "start_time": "2023-07-06T16:35:32.698Z"
   },
   {
    "duration": 0,
    "start_time": "2023-07-06T16:35:32.758Z"
   },
   {
    "duration": 3,
    "start_time": "2023-07-06T16:36:23.529Z"
   },
   {
    "duration": 58,
    "start_time": "2023-07-06T16:36:23.534Z"
   },
   {
    "duration": 14,
    "start_time": "2023-07-06T16:36:23.594Z"
   },
   {
    "duration": 9,
    "start_time": "2023-07-06T16:36:23.610Z"
   },
   {
    "duration": 14,
    "start_time": "2023-07-06T16:36:23.621Z"
   },
   {
    "duration": 32,
    "start_time": "2023-07-06T16:36:23.636Z"
   },
   {
    "duration": 8,
    "start_time": "2023-07-06T16:36:23.670Z"
   },
   {
    "duration": 6,
    "start_time": "2023-07-06T16:36:23.680Z"
   },
   {
    "duration": 19,
    "start_time": "2023-07-06T16:36:23.687Z"
   },
   {
    "duration": 15,
    "start_time": "2023-07-06T16:36:23.707Z"
   },
   {
    "duration": 8,
    "start_time": "2023-07-06T16:36:23.724Z"
   },
   {
    "duration": 8,
    "start_time": "2023-07-06T16:36:23.733Z"
   },
   {
    "duration": 34,
    "start_time": "2023-07-06T16:36:23.744Z"
   },
   {
    "duration": 158,
    "start_time": "2023-07-06T16:36:23.780Z"
   },
   {
    "duration": 27,
    "start_time": "2023-07-06T16:36:23.939Z"
   },
   {
    "duration": 5,
    "start_time": "2023-07-06T16:36:23.968Z"
   },
   {
    "duration": 8,
    "start_time": "2023-07-06T16:36:23.975Z"
   },
   {
    "duration": 313,
    "start_time": "2023-07-06T16:36:23.984Z"
   },
   {
    "duration": 18,
    "start_time": "2023-07-06T16:36:24.299Z"
   },
   {
    "duration": 4,
    "start_time": "2023-07-06T16:36:24.318Z"
   },
   {
    "duration": 34,
    "start_time": "2023-07-06T16:36:24.323Z"
   },
   {
    "duration": 330,
    "start_time": "2023-07-06T16:36:24.367Z"
   },
   {
    "duration": 276,
    "start_time": "2023-07-06T16:36:24.699Z"
   },
   {
    "duration": 6,
    "start_time": "2023-07-06T16:36:24.977Z"
   },
   {
    "duration": 8,
    "start_time": "2023-07-06T16:36:24.984Z"
   },
   {
    "duration": 181,
    "start_time": "2023-07-06T16:36:24.993Z"
   },
   {
    "duration": 6,
    "start_time": "2023-07-06T16:36:25.176Z"
   },
   {
    "duration": 161,
    "start_time": "2023-07-06T16:36:25.183Z"
   },
   {
    "duration": 2721,
    "start_time": "2023-07-06T16:36:25.345Z"
   },
   {
    "duration": 104,
    "start_time": "2023-07-06T16:36:28.070Z"
   },
   {
    "duration": 295,
    "start_time": "2023-07-06T16:36:28.176Z"
   },
   {
    "duration": 15,
    "start_time": "2023-07-06T16:36:28.473Z"
   },
   {
    "duration": 10,
    "start_time": "2023-07-06T16:36:28.489Z"
   },
   {
    "duration": 4,
    "start_time": "2023-07-06T16:36:28.500Z"
   },
   {
    "duration": 3,
    "start_time": "2023-07-06T16:36:28.505Z"
   },
   {
    "duration": 8,
    "start_time": "2023-07-06T16:36:28.510Z"
   },
   {
    "duration": 12,
    "start_time": "2023-07-06T16:36:28.554Z"
   },
   {
    "duration": 7,
    "start_time": "2023-07-06T16:36:28.568Z"
   },
   {
    "duration": 9,
    "start_time": "2023-07-06T16:36:28.577Z"
   },
   {
    "duration": 138,
    "start_time": "2023-07-06T16:36:28.588Z"
   },
   {
    "duration": 15,
    "start_time": "2023-07-06T16:36:28.727Z"
   },
   {
    "duration": 17,
    "start_time": "2023-07-06T16:36:28.753Z"
   },
   {
    "duration": 3,
    "start_time": "2023-07-06T16:36:28.772Z"
   },
   {
    "duration": 11,
    "start_time": "2023-07-06T16:36:28.777Z"
   },
   {
    "duration": 6,
    "start_time": "2023-07-06T16:36:28.790Z"
   },
   {
    "duration": 4,
    "start_time": "2023-07-06T16:36:28.798Z"
   },
   {
    "duration": 10,
    "start_time": "2023-07-06T16:36:28.804Z"
   },
   {
    "duration": 274,
    "start_time": "2023-07-06T16:36:28.816Z"
   },
   {
    "duration": 14,
    "start_time": "2023-07-06T16:36:29.092Z"
   },
   {
    "duration": 22,
    "start_time": "2023-07-06T16:36:29.108Z"
   },
   {
    "duration": 37,
    "start_time": "2023-07-06T16:36:29.132Z"
   },
   {
    "duration": 5,
    "start_time": "2023-07-06T16:36:29.170Z"
   },
   {
    "duration": 6,
    "start_time": "2023-07-06T16:36:29.176Z"
   },
   {
    "duration": 10,
    "start_time": "2023-07-06T16:36:29.183Z"
   },
   {
    "duration": 132,
    "start_time": "2023-07-06T16:36:29.194Z"
   },
   {
    "duration": 16,
    "start_time": "2023-07-06T16:36:29.327Z"
   },
   {
    "duration": 28,
    "start_time": "2023-07-06T16:36:29.344Z"
   },
   {
    "duration": 18,
    "start_time": "2023-07-06T16:36:29.374Z"
   },
   {
    "duration": 15,
    "start_time": "2023-07-06T16:36:29.393Z"
   },
   {
    "duration": 13,
    "start_time": "2023-07-06T16:36:29.410Z"
   },
   {
    "duration": 45,
    "start_time": "2023-07-06T16:36:29.426Z"
   },
   {
    "duration": 9,
    "start_time": "2023-07-06T16:36:29.474Z"
   },
   {
    "duration": 14,
    "start_time": "2023-07-06T16:36:29.485Z"
   },
   {
    "duration": 58,
    "start_time": "2023-07-06T16:36:29.501Z"
   },
   {
    "duration": 0,
    "start_time": "2023-07-06T16:36:29.561Z"
   },
   {
    "duration": 4,
    "start_time": "2023-07-06T16:36:47.341Z"
   },
   {
    "duration": 135,
    "start_time": "2023-07-06T16:37:00.217Z"
   },
   {
    "duration": 150,
    "start_time": "2023-07-06T16:37:07.501Z"
   },
   {
    "duration": 54,
    "start_time": "2023-08-17T15:54:46.633Z"
   },
   {
    "duration": 1202,
    "start_time": "2023-08-17T15:54:52.688Z"
   },
   {
    "duration": 195,
    "start_time": "2023-08-17T15:54:53.893Z"
   },
   {
    "duration": 16,
    "start_time": "2023-08-17T15:54:54.090Z"
   },
   {
    "duration": 2,
    "start_time": "2023-08-17T15:54:56.785Z"
   },
   {
    "duration": 17,
    "start_time": "2023-08-17T15:55:15.365Z"
   },
   {
    "duration": 3,
    "start_time": "2023-08-17T15:55:25.272Z"
   },
   {
    "duration": 91,
    "start_time": "2023-08-17T15:55:25.277Z"
   },
   {
    "duration": 13,
    "start_time": "2023-08-17T15:55:25.370Z"
   },
   {
    "duration": 25,
    "start_time": "2023-08-17T15:55:25.384Z"
   },
   {
    "duration": 3,
    "start_time": "2023-08-17T15:55:27.466Z"
   },
   {
    "duration": 14,
    "start_time": "2023-08-17T15:55:29.160Z"
   },
   {
    "duration": 1204,
    "start_time": "2023-09-13T15:11:37.571Z"
   },
   {
    "duration": 186,
    "start_time": "2023-09-13T15:11:40.895Z"
   },
   {
    "duration": 16,
    "start_time": "2023-09-13T15:11:42.518Z"
   },
   {
    "duration": 4,
    "start_time": "2023-09-13T15:11:45.695Z"
   },
   {
    "duration": 18,
    "start_time": "2023-09-13T15:11:46.285Z"
   },
   {
    "duration": 9,
    "start_time": "2023-09-13T15:11:48.254Z"
   },
   {
    "duration": 59,
    "start_time": "2023-09-13T15:11:48.836Z"
   },
   {
    "duration": 7,
    "start_time": "2023-09-13T15:11:58.054Z"
   },
   {
    "duration": 6,
    "start_time": "2023-09-13T15:12:01.321Z"
   },
   {
    "duration": 6,
    "start_time": "2023-09-13T15:12:06.989Z"
   },
   {
    "duration": 5,
    "start_time": "2023-09-13T15:12:10.301Z"
   },
   {
    "duration": 6,
    "start_time": "2023-09-13T15:12:10.818Z"
   },
   {
    "duration": 6,
    "start_time": "2023-09-13T15:12:12.477Z"
   },
   {
    "duration": 18,
    "start_time": "2023-09-13T15:12:39.918Z"
   },
   {
    "duration": 161,
    "start_time": "2023-09-13T15:12:42.438Z"
   },
   {
    "duration": 17,
    "start_time": "2023-09-13T15:12:54.589Z"
   },
   {
    "duration": 3,
    "start_time": "2023-09-13T15:12:57.238Z"
   },
   {
    "duration": 6,
    "start_time": "2023-09-13T15:12:57.737Z"
   },
   {
    "duration": 274,
    "start_time": "2023-09-13T15:12:58.854Z"
   },
   {
    "duration": 20,
    "start_time": "2023-09-13T15:13:09.766Z"
   },
   {
    "duration": 4,
    "start_time": "2023-09-13T15:13:51.672Z"
   },
   {
    "duration": 10,
    "start_time": "2023-09-13T15:13:52.265Z"
   },
   {
    "duration": 320,
    "start_time": "2023-09-13T15:13:53.006Z"
   },
   {
    "duration": 253,
    "start_time": "2023-09-13T15:14:04.637Z"
   },
   {
    "duration": 6,
    "start_time": "2023-09-13T15:14:16.637Z"
   },
   {
    "duration": 7,
    "start_time": "2023-09-13T15:14:17.421Z"
   },
   {
    "duration": 158,
    "start_time": "2023-09-13T15:14:19.561Z"
   },
   {
    "duration": 6,
    "start_time": "2023-09-13T15:14:20.341Z"
   },
   {
    "duration": 169,
    "start_time": "2023-09-13T15:14:21.069Z"
   },
   {
    "duration": 2650,
    "start_time": "2023-09-13T15:14:40.260Z"
   },
   {
    "duration": 96,
    "start_time": "2023-09-13T15:14:57.353Z"
   },
   {
    "duration": 279,
    "start_time": "2023-09-13T15:15:09.833Z"
   },
   {
    "duration": 16,
    "start_time": "2023-09-13T15:15:20.860Z"
   },
   {
    "duration": 11,
    "start_time": "2023-09-13T15:15:21.472Z"
   },
   {
    "duration": 3,
    "start_time": "2023-09-13T15:15:22.104Z"
   },
   {
    "duration": 4,
    "start_time": "2023-09-13T15:15:22.636Z"
   },
   {
    "duration": 8,
    "start_time": "2023-09-13T15:15:23.204Z"
   },
   {
    "duration": 4,
    "start_time": "2023-09-13T15:15:23.712Z"
   },
   {
    "duration": 4,
    "start_time": "2023-09-13T15:15:24.212Z"
   },
   {
    "duration": 8,
    "start_time": "2023-09-13T15:15:24.719Z"
   },
   {
    "duration": 120,
    "start_time": "2023-09-13T15:15:25.504Z"
   },
   {
    "duration": 238,
    "start_time": "2023-09-13T15:15:31.336Z"
   },
   {
    "duration": 15,
    "start_time": "2023-09-13T15:15:32.820Z"
   },
   {
    "duration": 11,
    "start_time": "2023-09-13T15:15:33.735Z"
   },
   {
    "duration": 3,
    "start_time": "2023-09-13T15:15:36.071Z"
   },
   {
    "duration": 8,
    "start_time": "2023-09-13T15:15:36.787Z"
   },
   {
    "duration": 5,
    "start_time": "2023-09-13T15:15:38.819Z"
   },
   {
    "duration": 4,
    "start_time": "2023-09-13T15:15:39.603Z"
   },
   {
    "duration": 9,
    "start_time": "2023-09-13T15:15:40.335Z"
   },
   {
    "duration": 141,
    "start_time": "2023-09-13T15:15:42.219Z"
   },
   {
    "duration": 21,
    "start_time": "2023-09-13T15:15:44.289Z"
   },
   {
    "duration": 13,
    "start_time": "2023-09-13T15:15:46.204Z"
   },
   {
    "duration": 8,
    "start_time": "2023-09-13T15:15:47.289Z"
   },
   {
    "duration": 5,
    "start_time": "2023-09-13T15:15:47.646Z"
   },
   {
    "duration": 5,
    "start_time": "2023-09-13T15:15:48.500Z"
   },
   {
    "duration": 9,
    "start_time": "2023-09-13T15:15:49.310Z"
   },
   {
    "duration": 126,
    "start_time": "2023-09-13T15:15:50.310Z"
   },
   {
    "duration": 17,
    "start_time": "2023-09-13T15:16:11.454Z"
   },
   {
    "duration": 15,
    "start_time": "2023-09-13T15:16:14.626Z"
   },
   {
    "duration": 14,
    "start_time": "2023-09-13T15:16:16.119Z"
   },
   {
    "duration": 15,
    "start_time": "2023-09-13T15:16:25.786Z"
   },
   {
    "duration": 13,
    "start_time": "2023-09-13T15:16:26.731Z"
   },
   {
    "duration": 15,
    "start_time": "2023-09-13T15:16:27.454Z"
   },
   {
    "duration": 9,
    "start_time": "2023-09-13T15:17:26.739Z"
   },
   {
    "duration": 10,
    "start_time": "2023-09-13T15:17:28.670Z"
   }
  ],
  "kernelspec": {
   "display_name": "Python 3 (ipykernel)",
   "language": "python",
   "name": "python3"
  },
  "language_info": {
   "codemirror_mode": {
    "name": "ipython",
    "version": 3
   },
   "file_extension": ".py",
   "mimetype": "text/x-python",
   "name": "python",
   "nbconvert_exporter": "python",
   "pygments_lexer": "ipython3",
   "version": "3.9.5"
  },
  "toc": {
   "base_numbering": 1,
   "nav_menu": {
    "height": "325px",
    "width": "490px"
   },
   "number_sections": true,
   "sideBar": true,
   "skip_h1_title": true,
   "title_cell": "Table of Contents",
   "title_sidebar": "Contents",
   "toc_cell": false,
   "toc_position": {},
   "toc_section_display": true,
   "toc_window_display": true
  }
 },
 "nbformat": 4,
 "nbformat_minor": 2
}
