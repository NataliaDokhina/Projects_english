{
 "cells": [
  {
   "cell_type": "markdown",
   "metadata": {},
   "source": [
    "# Оценка корректности проведения и результатов A/B-теста"
   ]
  },
  {
   "cell_type": "code",
   "execution_count": 193,
   "metadata": {},
   "outputs": [],
   "source": [
    "# импортируем необходимые для исследования библиотеки: \n",
    "import pandas as pd\n",
    "import numpy as np\n",
    "import matplotlib.pyplot as plt\n",
    "from plotly import graph_objects as go\n",
    "import plotly.express as px\n",
    "import math as mth\n",
    "import warnings\n",
    "import scipy.stats as st\n",
    "import seaborn as sns"
   ]
  },
  {
   "cell_type": "markdown",
   "metadata": {},
   "source": [
    "## Цель исследования"
   ]
  },
  {
   "cell_type": "markdown",
   "metadata": {},
   "source": [
    "Оценить корректность проведения теста и результаты"
   ]
  },
  {
   "cell_type": "markdown",
   "metadata": {},
   "source": [
    "##  Ход исследования "
   ]
  },
  {
   "cell_type": "markdown",
   "metadata": {},
   "source": [
    "● Знакомство с данными (считываем датасеты, определяем количество пользователей, даты, представленные в датасетах). Оцениваем наличие/отсутствие данных для оценки теста.\n",
    "\n",
    "● Предобработка данных \n",
    "Обработка пропусков\n",
    "\n",
    "Обработка дубликатов\n",
    "\n",
    "Приводим типы данных к нужному формату\n",
    "\n",
    "● Проверка данных на соответсвтие ТЗ. Фильтрация при необходимости\n",
    "\n",
    "Фильтрация датафреймов по дате\n",
    "\n",
    "Фильтрация датафреймов по тесту\n",
    "\n",
    "Фильтрация датафреймов по региону\n",
    "\n",
    "Оценка условия: 15% новых пользователей из региона Европа\n",
    "\n",
    "Оценка влияния рекламной компании на активность пользователей\n",
    "\n",
    "Объединение отфильтрованных датасетов\n",
    "\n",
    "Подсчёт количества пользователей, не совершавших события после регистрации\n",
    "\n",
    "Фильтрация событий, которые совершили пользователи после 14 дня от момента регистрации\n",
    "\n",
    "Пользователи с лайфтаймом менее 14 дней.\n",
    "\n",
    "Оценка условия- ожидаемое количество участников\n",
    "\n",
    "● Исследование теста\n",
    "\n",
    "Распределение количества пользователей по группам\n",
    "\n",
    "Среднее количество событий на каждого пользователя в разных группах(медиана)\n",
    "\n",
    "Количество регистраций пользователей  по дням в каждой группе\n",
    "\n",
    "Средняя сумма чека на пользователя \n",
    "\n",
    "Распределение устройств пользователей по группам\n",
    "\n",
    "Воронка событий \n",
    "\n",
    "Проверка разницы конверсии пользователей на разные этапы стат тестом проверяем разницу между группами\n",
    "\n",
    "● Вывод\n",
    "\n",
    "● Рекомендации"
   ]
  },
  {
   "cell_type": "markdown",
   "metadata": {},
   "source": [
    "## Предобработка данных"
   ]
  },
  {
   "cell_type": "markdown",
   "metadata": {},
   "source": [
    "### Обзор данных"
   ]
  },
  {
   "cell_type": "code",
   "execution_count": 194,
   "metadata": {},
   "outputs": [
    {
     "data": {
      "text/html": [
       "<div>\n",
       "<style scoped>\n",
       "    .dataframe tbody tr th:only-of-type {\n",
       "        vertical-align: middle;\n",
       "    }\n",
       "\n",
       "    .dataframe tbody tr th {\n",
       "        vertical-align: top;\n",
       "    }\n",
       "\n",
       "    .dataframe thead th {\n",
       "        text-align: right;\n",
       "    }\n",
       "</style>\n",
       "<table border=\"1\" class=\"dataframe\">\n",
       "  <thead>\n",
       "    <tr style=\"text-align: right;\">\n",
       "      <th></th>\n",
       "      <th>user_id</th>\n",
       "      <th>event_dt</th>\n",
       "      <th>event_name</th>\n",
       "      <th>details</th>\n",
       "    </tr>\n",
       "  </thead>\n",
       "  <tbody>\n",
       "    <tr>\n",
       "      <th>0</th>\n",
       "      <td>E1BDDCE0DAFA2679</td>\n",
       "      <td>2020-12-07 20:22:03</td>\n",
       "      <td>purchase</td>\n",
       "      <td>99.99</td>\n",
       "    </tr>\n",
       "    <tr>\n",
       "      <th>1</th>\n",
       "      <td>7B6452F081F49504</td>\n",
       "      <td>2020-12-07 09:22:53</td>\n",
       "      <td>purchase</td>\n",
       "      <td>9.99</td>\n",
       "    </tr>\n",
       "    <tr>\n",
       "      <th>2</th>\n",
       "      <td>9CD9F34546DF254C</td>\n",
       "      <td>2020-12-07 12:59:29</td>\n",
       "      <td>purchase</td>\n",
       "      <td>4.99</td>\n",
       "    </tr>\n",
       "    <tr>\n",
       "      <th>3</th>\n",
       "      <td>96F27A054B191457</td>\n",
       "      <td>2020-12-07 04:02:40</td>\n",
       "      <td>purchase</td>\n",
       "      <td>4.99</td>\n",
       "    </tr>\n",
       "    <tr>\n",
       "      <th>4</th>\n",
       "      <td>1FD7660FDF94CA1F</td>\n",
       "      <td>2020-12-07 10:15:09</td>\n",
       "      <td>purchase</td>\n",
       "      <td>4.99</td>\n",
       "    </tr>\n",
       "  </tbody>\n",
       "</table>\n",
       "</div>"
      ],
      "text/plain": [
       "            user_id             event_dt event_name  details\n",
       "0  E1BDDCE0DAFA2679  2020-12-07 20:22:03   purchase    99.99\n",
       "1  7B6452F081F49504  2020-12-07 09:22:53   purchase     9.99\n",
       "2  9CD9F34546DF254C  2020-12-07 12:59:29   purchase     4.99\n",
       "3  96F27A054B191457  2020-12-07 04:02:40   purchase     4.99\n",
       "4  1FD7660FDF94CA1F  2020-12-07 10:15:09   purchase     4.99"
      ]
     },
     "metadata": {},
     "output_type": "display_data"
    },
    {
     "name": "stdout",
     "output_type": "stream",
     "text": [
      "<class 'pandas.core.frame.DataFrame'>\n",
      "RangeIndex: 440317 entries, 0 to 440316\n",
      "Data columns (total 4 columns):\n",
      " #   Column      Non-Null Count   Dtype  \n",
      "---  ------      --------------   -----  \n",
      " 0   user_id     440317 non-null  object \n",
      " 1   event_dt    440317 non-null  object \n",
      " 2   event_name  440317 non-null  object \n",
      " 3   details     62740 non-null   float64\n",
      "dtypes: float64(1), object(3)\n",
      "memory usage: 13.4+ MB\n"
     ]
    }
   ],
   "source": [
    "#данные о событиях \n",
    "events = pd.read_csv ('https://code.s3.yandex.net/datasets/final_ab_events.csv')\n",
    "display(events.head())\n",
    "events.info()"
   ]
  },
  {
   "cell_type": "code",
   "execution_count": 195,
   "metadata": {},
   "outputs": [
    {
     "data": {
      "text/plain": [
       "58703"
      ]
     },
     "execution_count": 195,
     "metadata": {},
     "output_type": "execute_result"
    }
   ],
   "source": [
    "events['user_id'].nunique()"
   ]
  },
  {
   "cell_type": "code",
   "execution_count": 196,
   "metadata": {},
   "outputs": [
    {
     "data": {
      "text/plain": [
       "'2020-12-07 00:00:33'"
      ]
     },
     "execution_count": 196,
     "metadata": {},
     "output_type": "execute_result"
    }
   ],
   "source": [
    "events['event_dt'].min()"
   ]
  },
  {
   "cell_type": "code",
   "execution_count": 197,
   "metadata": {},
   "outputs": [
    {
     "data": {
      "text/plain": [
       "'2020-12-30 23:36:33'"
      ]
     },
     "execution_count": 197,
     "metadata": {},
     "output_type": "execute_result"
    }
   ],
   "source": [
    "events['event_dt'].max()"
   ]
  },
  {
   "cell_type": "code",
   "execution_count": 198,
   "metadata": {},
   "outputs": [
    {
     "data": {
      "text/plain": [
       "array(['purchase', 'product_cart', 'product_page', 'login'], dtype=object)"
      ]
     },
     "execution_count": 198,
     "metadata": {},
     "output_type": "execute_result"
    }
   ],
   "source": [
    "events['event_name'].unique()"
   ]
  },
  {
   "cell_type": "markdown",
   "metadata": {},
   "source": [
    "*В датасете events представлены данные 58703 уникальных пользователей за период с 07 декабря по 30 декабря 2020 года, совершивших 4 уникальных дейстия*.\n",
    "\n",
    "*Обращает внимание, что для оценки активности новых пользователей в течение 14 дней, зарегистрировавшихся с 17 декабря по 21 декабря данных недостаточно.*"
   ]
  },
  {
   "cell_type": "code",
   "execution_count": 199,
   "metadata": {},
   "outputs": [
    {
     "name": "stdout",
     "output_type": "stream",
     "text": [
      "                           name                   regions    start_dt  \\\n",
      "0      Christmas&New Year Promo             EU, N.America  2020-12-25   \n",
      "1  St. Valentine's Day Giveaway  EU, CIS, APAC, N.America  2020-02-14   \n",
      "2        St. Patric's Day Promo             EU, N.America  2020-03-17   \n",
      "3                  Easter Promo  EU, CIS, APAC, N.America  2020-04-12   \n",
      "4             4th of July Promo                 N.America  2020-07-04   \n",
      "\n",
      "    finish_dt  \n",
      "0  2021-01-03  \n",
      "1  2020-02-16  \n",
      "2  2020-03-19  \n",
      "3  2020-04-19  \n",
      "4  2020-07-11  \n",
      "<class 'pandas.core.frame.DataFrame'>\n",
      "RangeIndex: 14 entries, 0 to 13\n",
      "Data columns (total 4 columns):\n",
      " #   Column     Non-Null Count  Dtype \n",
      "---  ------     --------------  ----- \n",
      " 0   name       14 non-null     object\n",
      " 1   regions    14 non-null     object\n",
      " 2   start_dt   14 non-null     object\n",
      " 3   finish_dt  14 non-null     object\n",
      "dtypes: object(4)\n",
      "memory usage: 576.0+ bytes\n"
     ]
    }
   ],
   "source": [
    "# данные о рекламных компаниях\n",
    "marketing_events = pd.read_csv ('https://code.s3.yandex.net/datasets/ab_project_marketing_events.csv')\n",
    "print(marketing_events.head())\n",
    "marketing_events.info()"
   ]
  },
  {
   "cell_type": "code",
   "execution_count": 200,
   "metadata": {},
   "outputs": [
    {
     "data": {
      "text/plain": [
       "14"
      ]
     },
     "execution_count": 200,
     "metadata": {},
     "output_type": "execute_result"
    }
   ],
   "source": [
    "marketing_events['name'].nunique()"
   ]
  },
  {
   "cell_type": "code",
   "execution_count": 201,
   "metadata": {},
   "outputs": [
    {
     "data": {
      "text/plain": [
       "6"
      ]
     },
     "execution_count": 201,
     "metadata": {},
     "output_type": "execute_result"
    }
   ],
   "source": [
    "marketing_events['regions'].nunique()"
   ]
  },
  {
   "cell_type": "code",
   "execution_count": 202,
   "metadata": {},
   "outputs": [
    {
     "data": {
      "text/plain": [
       "array(['EU, N.America', 'EU, CIS, APAC, N.America', 'N.America', 'APAC',\n",
       "       'EU, CIS, APAC', 'CIS'], dtype=object)"
      ]
     },
     "execution_count": 202,
     "metadata": {},
     "output_type": "execute_result"
    }
   ],
   "source": [
    "marketing_events['regions'].unique()"
   ]
  },
  {
   "cell_type": "code",
   "execution_count": 203,
   "metadata": {},
   "outputs": [
    {
     "data": {
      "text/plain": [
       "'2020-01-25'"
      ]
     },
     "execution_count": 203,
     "metadata": {},
     "output_type": "execute_result"
    }
   ],
   "source": [
    "marketing_events['start_dt'].min()"
   ]
  },
  {
   "cell_type": "code",
   "execution_count": 204,
   "metadata": {},
   "outputs": [
    {
     "data": {
      "text/plain": [
       "'2020-12-30'"
      ]
     },
     "execution_count": 204,
     "metadata": {},
     "output_type": "execute_result"
    }
   ],
   "source": [
    "marketing_events['start_dt'].max()"
   ]
  },
  {
   "cell_type": "code",
   "execution_count": 205,
   "metadata": {},
   "outputs": [
    {
     "data": {
      "text/plain": [
       "'2020-02-07'"
      ]
     },
     "execution_count": 205,
     "metadata": {},
     "output_type": "execute_result"
    }
   ],
   "source": [
    "marketing_events['finish_dt'].min()"
   ]
  },
  {
   "cell_type": "code",
   "execution_count": 206,
   "metadata": {},
   "outputs": [
    {
     "data": {
      "text/plain": [
       "'2021-01-07'"
      ]
     },
     "execution_count": 206,
     "metadata": {},
     "output_type": "execute_result"
    }
   ],
   "source": [
    "marketing_events['finish_dt'].max()"
   ]
  },
  {
   "cell_type": "markdown",
   "metadata": {},
   "source": [
    "*В датасете marketing_events представлены данные о рекламных компаниях, проводимых в 6 различных группах регионов(внутри групп некоторые регионы повторяются) в период с 25 января 2020 года по 07 января 2021 года.*"
   ]
  },
  {
   "cell_type": "code",
   "execution_count": 207,
   "metadata": {},
   "outputs": [
    {
     "name": "stdout",
     "output_type": "stream",
     "text": [
      "            user_id  first_date     region   device\n",
      "0  D72A72121175D8BE  2020-12-07         EU       PC\n",
      "1  F1C668619DFE6E65  2020-12-07  N.America  Android\n",
      "2  2E1BF1D4C37EA01F  2020-12-07         EU       PC\n",
      "3  50734A22C0C63768  2020-12-07         EU   iPhone\n",
      "4  E1BDDCE0DAFA2679  2020-12-07  N.America   iPhone\n",
      "<class 'pandas.core.frame.DataFrame'>\n",
      "RangeIndex: 61733 entries, 0 to 61732\n",
      "Data columns (total 4 columns):\n",
      " #   Column      Non-Null Count  Dtype \n",
      "---  ------      --------------  ----- \n",
      " 0   user_id     61733 non-null  object\n",
      " 1   first_date  61733 non-null  object\n",
      " 2   region      61733 non-null  object\n",
      " 3   device      61733 non-null  object\n",
      "dtypes: object(4)\n",
      "memory usage: 1.9+ MB\n"
     ]
    }
   ],
   "source": [
    "# данные о регистрации пользователей\n",
    "new_users = pd.read_csv ('https://code.s3.yandex.net/datasets/final_ab_new_users.csv')\n",
    "print(new_users.head())\n",
    "new_users.info()"
   ]
  },
  {
   "cell_type": "code",
   "execution_count": 208,
   "metadata": {},
   "outputs": [
    {
     "data": {
      "text/plain": [
       "61733"
      ]
     },
     "execution_count": 208,
     "metadata": {},
     "output_type": "execute_result"
    }
   ],
   "source": [
    "new_users['user_id'].nunique()"
   ]
  },
  {
   "cell_type": "code",
   "execution_count": 209,
   "metadata": {},
   "outputs": [
    {
     "data": {
      "text/plain": [
       "'2020-12-07'"
      ]
     },
     "execution_count": 209,
     "metadata": {},
     "output_type": "execute_result"
    }
   ],
   "source": [
    "new_users['first_date'].min()"
   ]
  },
  {
   "cell_type": "code",
   "execution_count": 210,
   "metadata": {},
   "outputs": [
    {
     "data": {
      "text/plain": [
       "'2020-12-23'"
      ]
     },
     "execution_count": 210,
     "metadata": {},
     "output_type": "execute_result"
    }
   ],
   "source": [
    "new_users['first_date'].max()"
   ]
  },
  {
   "cell_type": "code",
   "execution_count": 211,
   "metadata": {},
   "outputs": [
    {
     "data": {
      "text/plain": [
       "4"
      ]
     },
     "execution_count": 211,
     "metadata": {},
     "output_type": "execute_result"
    }
   ],
   "source": [
    "new_users['region'].nunique()"
   ]
  },
  {
   "cell_type": "code",
   "execution_count": 212,
   "metadata": {},
   "outputs": [
    {
     "data": {
      "text/plain": [
       "array(['EU', 'N.America', 'APAC', 'CIS'], dtype=object)"
      ]
     },
     "execution_count": 212,
     "metadata": {},
     "output_type": "execute_result"
    }
   ],
   "source": [
    "new_users['region'].unique()"
   ]
  },
  {
   "cell_type": "code",
   "execution_count": 213,
   "metadata": {},
   "outputs": [
    {
     "data": {
      "text/plain": [
       "array(['PC', 'Android', 'iPhone', 'Mac'], dtype=object)"
      ]
     },
     "execution_count": 213,
     "metadata": {},
     "output_type": "execute_result"
    }
   ],
   "source": [
    "new_users['device'].unique()"
   ]
  },
  {
   "cell_type": "code",
   "execution_count": 214,
   "metadata": {},
   "outputs": [
    {
     "data": {
      "text/plain": [
       "4"
      ]
     },
     "execution_count": 214,
     "metadata": {},
     "output_type": "execute_result"
    }
   ],
   "source": [
    "new_users['device'].nunique()"
   ]
  },
  {
   "cell_type": "markdown",
   "metadata": {},
   "source": [
    "*В датасете new_user представлены данные 61733 уникальных пользователей, которые зарегистрировались в период с 07 декабря 2020 по 23 декабря 2020 года в 4 различных регионах на 4  различных видах устройств.*"
   ]
  },
  {
   "cell_type": "code",
   "execution_count": 215,
   "metadata": {},
   "outputs": [
    {
     "name": "stdout",
     "output_type": "stream",
     "text": [
      "            user_id group                  ab_test\n",
      "0  D1ABA3E2887B6A73     A  recommender_system_test\n",
      "1  A7A3664BD6242119     A  recommender_system_test\n",
      "2  DABC14FDDFADD29E     A  recommender_system_test\n",
      "3  04988C5DF189632E     A  recommender_system_test\n",
      "4  482F14783456D21B     B  recommender_system_test\n",
      "<class 'pandas.core.frame.DataFrame'>\n",
      "RangeIndex: 18268 entries, 0 to 18267\n",
      "Data columns (total 3 columns):\n",
      " #   Column   Non-Null Count  Dtype \n",
      "---  ------   --------------  ----- \n",
      " 0   user_id  18268 non-null  object\n",
      " 1   group    18268 non-null  object\n",
      " 2   ab_test  18268 non-null  object\n",
      "dtypes: object(3)\n",
      "memory usage: 428.3+ KB\n"
     ]
    }
   ],
   "source": [
    "# данные о проводимых тестах\n",
    "participants = pd.read_csv ('https://code.s3.yandex.net/datasets/final_ab_participants.csv')\n",
    "print(participants.head())\n",
    "participants.info()"
   ]
  },
  {
   "cell_type": "code",
   "execution_count": 216,
   "metadata": {},
   "outputs": [
    {
     "data": {
      "text/plain": [
       "16666"
      ]
     },
     "execution_count": 216,
     "metadata": {},
     "output_type": "execute_result"
    }
   ],
   "source": [
    "participants['user_id'].nunique()"
   ]
  },
  {
   "cell_type": "code",
   "execution_count": 217,
   "metadata": {},
   "outputs": [
    {
     "data": {
      "text/plain": [
       "array(['A', 'B'], dtype=object)"
      ]
     },
     "execution_count": 217,
     "metadata": {},
     "output_type": "execute_result"
    }
   ],
   "source": [
    "participants['group'].unique()"
   ]
  },
  {
   "cell_type": "code",
   "execution_count": 218,
   "metadata": {},
   "outputs": [
    {
     "data": {
      "text/plain": [
       "array(['recommender_system_test', 'interface_eu_test'], dtype=object)"
      ]
     },
     "execution_count": 218,
     "metadata": {},
     "output_type": "execute_result"
    }
   ],
   "source": [
    "participants['ab_test'].unique()"
   ]
  },
  {
   "cell_type": "markdown",
   "metadata": {},
   "source": [
    " *В датасете participants представлены данные 16666 уникальных пользователей, распределённых между группами A и B, участвующих в 2 различных A/B-тестах.*"
   ]
  },
  {
   "cell_type": "markdown",
   "metadata": {},
   "source": [
    " ### Названия столбцов"
   ]
  },
  {
   "cell_type": "markdown",
   "metadata": {},
   "source": [
    "*Отображены в змеином регистре во всех представленных датасетах.*"
   ]
  },
  {
   "cell_type": "markdown",
   "metadata": {},
   "source": [
    "### Пропуски"
   ]
  },
  {
   "cell_type": "code",
   "execution_count": 219,
   "metadata": {},
   "outputs": [
    {
     "data": {
      "text/plain": [
       "user_id            0\n",
       "event_dt           0\n",
       "event_name         0\n",
       "details       377577\n",
       "dtype: int64"
      ]
     },
     "execution_count": 219,
     "metadata": {},
     "output_type": "execute_result"
    }
   ],
   "source": [
    "events.isna().sum()"
   ]
  },
  {
   "cell_type": "markdown",
   "metadata": {},
   "source": [
    "*Выявлены пропуски в столбце details, содержащими данные о стоимости покупки.\n",
    "С учётом того, что в ходе тестирования необходимо оценить увеличение/уменьшение конверсии в покупку, а не её стоимость, пропуски в данном столбце решено оставить без изменений*."
   ]
  },
  {
   "cell_type": "code",
   "execution_count": 220,
   "metadata": {},
   "outputs": [
    {
     "data": {
      "text/plain": [
       "name         0\n",
       "regions      0\n",
       "start_dt     0\n",
       "finish_dt    0\n",
       "dtype: int64"
      ]
     },
     "execution_count": 220,
     "metadata": {},
     "output_type": "execute_result"
    }
   ],
   "source": [
    "marketing_events.isna().sum()"
   ]
  },
  {
   "cell_type": "code",
   "execution_count": 221,
   "metadata": {},
   "outputs": [
    {
     "data": {
      "text/plain": [
       "user_id       0\n",
       "first_date    0\n",
       "region        0\n",
       "device        0\n",
       "dtype: int64"
      ]
     },
     "execution_count": 221,
     "metadata": {},
     "output_type": "execute_result"
    }
   ],
   "source": [
    "new_users.isna().sum()"
   ]
  },
  {
   "cell_type": "code",
   "execution_count": 222,
   "metadata": {},
   "outputs": [
    {
     "data": {
      "text/plain": [
       "user_id    0\n",
       "group      0\n",
       "ab_test    0\n",
       "dtype: int64"
      ]
     },
     "execution_count": 222,
     "metadata": {},
     "output_type": "execute_result"
    }
   ],
   "source": [
    "participants.isna().sum()"
   ]
  },
  {
   "cell_type": "markdown",
   "metadata": {},
   "source": [
    "###  Дубликаты"
   ]
  },
  {
   "cell_type": "code",
   "execution_count": 223,
   "metadata": {},
   "outputs": [
    {
     "data": {
      "text/plain": [
       "0"
      ]
     },
     "execution_count": 223,
     "metadata": {},
     "output_type": "execute_result"
    }
   ],
   "source": [
    "events.duplicated().sum()"
   ]
  },
  {
   "cell_type": "code",
   "execution_count": 224,
   "metadata": {},
   "outputs": [
    {
     "data": {
      "text/plain": [
       "0"
      ]
     },
     "execution_count": 224,
     "metadata": {},
     "output_type": "execute_result"
    }
   ],
   "source": [
    "marketing_events.duplicated().sum()"
   ]
  },
  {
   "cell_type": "code",
   "execution_count": 225,
   "metadata": {},
   "outputs": [
    {
     "data": {
      "text/plain": [
       "0"
      ]
     },
     "execution_count": 225,
     "metadata": {},
     "output_type": "execute_result"
    }
   ],
   "source": [
    "new_users.duplicated().sum()"
   ]
  },
  {
   "cell_type": "code",
   "execution_count": 226,
   "metadata": {},
   "outputs": [
    {
     "data": {
      "text/plain": [
       "0"
      ]
     },
     "execution_count": 226,
     "metadata": {},
     "output_type": "execute_result"
    }
   ],
   "source": [
    "participants.duplicated().sum()"
   ]
  },
  {
   "cell_type": "markdown",
   "metadata": {},
   "source": [
    "*Явные дубликаты в представленных датасетах не обнаружены*"
   ]
  },
  {
   "cell_type": "markdown",
   "metadata": {},
   "source": [
    "### Типы данных"
   ]
  },
  {
   "cell_type": "code",
   "execution_count": 227,
   "metadata": {},
   "outputs": [],
   "source": [
    "# Приводим типы данных к нужному формату\n",
    "events['event_dt'] = pd.to_datetime(events['event_dt'])\n",
    "marketing_events['start_dt'] = pd.to_datetime(marketing_events['start_dt'])\n",
    "marketing_events['finish_dt'] = pd.to_datetime(marketing_events['finish_dt'])\n",
    "new_users['first_date'] = pd.to_datetime(new_users['first_date'])"
   ]
  },
  {
   "cell_type": "markdown",
   "metadata": {},
   "source": [
    "## Проверка данных на соответсвтие ТЗ. Фильтрация при необходимости"
   ]
  },
  {
   "cell_type": "markdown",
   "metadata": {},
   "source": [
    "### Фильтрация датафреймов по дате"
   ]
  },
  {
   "cell_type": "markdown",
   "metadata": {},
   "source": [
    "#### Датафрейм new_users"
   ]
  },
  {
   "cell_type": "code",
   "execution_count": 228,
   "metadata": {},
   "outputs": [],
   "source": [
    "# Проводим срез таблицы new_users согласно ТЗ. \n",
    "new_users_filtered_date = new_users.query('first_date <\"2020-12-22\"')"
   ]
  },
  {
   "cell_type": "markdown",
   "metadata": {},
   "source": [
    "*Минимальная дата регистрации в датафрейме new_users (2020-12-07)соответствует ТЗ. Срез проводим только по дате остановки набора новых пользователей*"
   ]
  },
  {
   "cell_type": "code",
   "execution_count": 229,
   "metadata": {},
   "outputs": [
    {
     "data": {
      "text/plain": [
       "56470"
      ]
     },
     "execution_count": 229,
     "metadata": {},
     "output_type": "execute_result"
    }
   ],
   "source": [
    "new_users_filtered_date['user_id'].nunique()"
   ]
  },
  {
   "cell_type": "code",
   "execution_count": 230,
   "metadata": {},
   "outputs": [
    {
     "data": {
      "text/plain": [
       "3.617190157614242"
      ]
     },
     "execution_count": 230,
     "metadata": {},
     "output_type": "execute_result"
    }
   ],
   "source": [
    "lost_by_date = (events['user_id'].nunique()-new_users_filtered_date['user_id'].nunique())*100/new_users['user_id'].nunique()\n",
    "lost_by_date"
   ]
  },
  {
   "cell_type": "markdown",
   "metadata": {},
   "source": [
    "*В ходе фильтрации по дате регистрации пользователя удалено 3,6% уникальных пользователей датафрейма new_users*"
   ]
  },
  {
   "cell_type": "markdown",
   "metadata": {},
   "source": [
    "#### Датафрейм events"
   ]
  },
  {
   "cell_type": "markdown",
   "metadata": {},
   "source": [
    "*Согласно ТЗ ожидается что за 14 дней с момента регистрации пользователи покажут улучшение каждой метрики. Следовательно, срез датафрейма events нужно провести по схеме: минимальная дата регистрации +14 дней (21 декабря 2020 ) - максильная дата регистрации +14 дней (04 января 2021)*. \n",
    "\n",
    "*В датафрейме events представлены данные за период 07 декабря по 30 декабря 2020 года. Срез выполнять не нужно.*"
   ]
  },
  {
   "cell_type": "markdown",
   "metadata": {},
   "source": [
    "#### Датафрейм marketing_events"
   ]
  },
  {
   "cell_type": "markdown",
   "metadata": {},
   "source": [
    "*Чтобы отследить влияние проводимых рекламных акций необходимо исключить из анализа рекламные акции, которые  НЕ проходили в период с  07 декабря 2020 (минимальная дата регистрации пользователя) по 04 января 2021 (максильная дата регистрации +14 дней)*."
   ]
  },
  {
   "cell_type": "code",
   "execution_count": 231,
   "metadata": {},
   "outputs": [],
   "source": [
    "# Проводим срез датафрейма, оставляя только акции, которые проходили во время проведения теста\n",
    "marketing_events_filtered_by_date = marketing_events[(marketing_events['start_dt'] < '2021-01-05') & (marketing_events['finish_dt'] > '2020-12-06') & (marketing_events['finish_dt'] < '2021-01-05')]"
   ]
  },
  {
   "cell_type": "code",
   "execution_count": 232,
   "metadata": {},
   "outputs": [
    {
     "data": {
      "text/html": [
       "<div>\n",
       "<style scoped>\n",
       "    .dataframe tbody tr th:only-of-type {\n",
       "        vertical-align: middle;\n",
       "    }\n",
       "\n",
       "    .dataframe tbody tr th {\n",
       "        vertical-align: top;\n",
       "    }\n",
       "\n",
       "    .dataframe thead th {\n",
       "        text-align: right;\n",
       "    }\n",
       "</style>\n",
       "<table border=\"1\" class=\"dataframe\">\n",
       "  <thead>\n",
       "    <tr style=\"text-align: right;\">\n",
       "      <th></th>\n",
       "      <th>name</th>\n",
       "      <th>regions</th>\n",
       "      <th>start_dt</th>\n",
       "      <th>finish_dt</th>\n",
       "    </tr>\n",
       "  </thead>\n",
       "  <tbody>\n",
       "    <tr>\n",
       "      <th>0</th>\n",
       "      <td>Christmas&amp;New Year Promo</td>\n",
       "      <td>EU, N.America</td>\n",
       "      <td>2020-12-25</td>\n",
       "      <td>2021-01-03</td>\n",
       "    </tr>\n",
       "  </tbody>\n",
       "</table>\n",
       "</div>"
      ],
      "text/plain": [
       "                       name        regions   start_dt  finish_dt\n",
       "0  Christmas&New Year Promo  EU, N.America 2020-12-25 2021-01-03"
      ]
     },
     "execution_count": 232,
     "metadata": {},
     "output_type": "execute_result"
    }
   ],
   "source": [
    "marketing_events_filtered_by_date"
   ]
  },
  {
   "cell_type": "markdown",
   "metadata": {},
   "source": [
    "*В даты проведения теста проходила только одна рекламная компания. Регион рекламной компании ('EU, N.America') соответсвует ТЗ. Дополнительный срез по региону проводить не нужно.*  "
   ]
  },
  {
   "cell_type": "markdown",
   "metadata": {},
   "source": [
    "### Фильтрация датафреймов по  тесту"
   ]
  },
  {
   "cell_type": "markdown",
   "metadata": {},
   "source": [
    "*В датасете participants представлены 2 теста с разделением пользователей на 2 группы A и B.\n",
    "За время проведения теста одновременно проводился другой тест -'interface_eu_test'. Определяем пересекались ли пользователи в тестах.*"
   ]
  },
  {
   "cell_type": "code",
   "execution_count": 233,
   "metadata": {},
   "outputs": [
    {
     "data": {
      "text/plain": [
       "ab_test    1602\n",
       "dtype: int64"
      ]
     },
     "execution_count": 233,
     "metadata": {},
     "output_type": "execute_result"
    }
   ],
   "source": [
    "participans_intersection = participants.pivot_table(index='user_id', values='ab_test', aggfunc='count')\n",
    "participans_intersection[participans_intersection['ab_test']==2].count() "
   ]
  },
  {
   "cell_type": "markdown",
   "metadata": {},
   "source": [
    "*Одновременно в двух тестах участвовали 1602 пользователя.*\n",
    "*С учётом того, группа A - контрольная группа и воздействия на пользователей практически нет исключение пользователей группы A теста 'interface_eu_test' нецелесообразно.* \n",
    "*Для принятия решение о необходимости удаления пользователей группы B теста interface_eu_test необходимо посмотреть на распределение пользователей внутри групп А и B теста recommender_system_test.*"
   ]
  },
  {
   "cell_type": "code",
   "execution_count": 234,
   "metadata": {},
   "outputs": [],
   "source": [
    "# Выделяем список пользователей, которые попали в группу B теста interface_eu_test \n",
    "participants_interface_b = participants.query('ab_test == \"interface_eu_test\" and group == \"B\"')\n",
    "interface_b_list = participants_interface_b['user_id'].tolist()"
   ]
  },
  {
   "cell_type": "code",
   "execution_count": 235,
   "metadata": {},
   "outputs": [],
   "source": [
    "# Выполняем срез датафрейма participants для пользателей группы A теста recommender_system_test\n",
    "participants_recommender_a = participants.query('ab_test == \"recommender_system_test\" and group == \"A\"')"
   ]
  },
  {
   "cell_type": "code",
   "execution_count": 236,
   "metadata": {},
   "outputs": [
    {
     "data": {
      "text/plain": [
       "False    3385\n",
       "True      439\n",
       "Name: user_id, dtype: int64"
      ]
     },
     "execution_count": 236,
     "metadata": {},
     "output_type": "execute_result"
    }
   ],
   "source": [
    "# Определяем пересечение пользователей теста recommender_system_test группы A и пользователей теста interface_eu_test группы B\n",
    "ba_test = participants_recommender_a['user_id'].isin(interface_b_list)\n",
    "ba_test.value_counts()"
   ]
  },
  {
   "cell_type": "code",
   "execution_count": 237,
   "metadata": {},
   "outputs": [],
   "source": [
    "# Выполняем срез датафрейма participants для пользателей группы B теста recommender_system_test\n",
    "participants_recommender_b = participants.query('ab_test == \"recommender_system_test\" and group == \"B\"')"
   ]
  },
  {
   "cell_type": "code",
   "execution_count": 238,
   "metadata": {},
   "outputs": [
    {
     "data": {
      "text/plain": [
       "False    2533\n",
       "True      344\n",
       "Name: user_id, dtype: int64"
      ]
     },
     "execution_count": 238,
     "metadata": {},
     "output_type": "execute_result"
    }
   ],
   "source": [
    "# Определяем пересечение пользователей теста recommender_system_test группы A и пользователей теста interface_eu_test группы B\n",
    "bb_test = participants_recommender_b['user_id'].isin(interface_b_list)\n",
    "bb_test.value_counts()"
   ]
  },
  {
   "cell_type": "code",
   "execution_count": 239,
   "metadata": {},
   "outputs": [
    {
     "data": {
      "text/plain": [
       "6701"
      ]
     },
     "execution_count": 239,
     "metadata": {},
     "output_type": "execute_result"
    }
   ],
   "source": [
    "# Расчёт доли пользователей группы B теста  interface_eu_test в группе  A теста recommender_system_test\n",
    "participants_test_clear = participants.query('ab_test == \"recommender_system_test\"')\n",
    "participants_test_clear['user_id'].nunique()"
   ]
  },
  {
   "cell_type": "code",
   "execution_count": 240,
   "metadata": {},
   "outputs": [
    {
     "data": {
      "text/plain": [
       "False    50.514849\n",
       "True      6.551261\n",
       "Name: user_id, dtype: float64"
      ]
     },
     "execution_count": 240,
     "metadata": {},
     "output_type": "execute_result"
    }
   ],
   "source": [
    "ba_test_percent = (ba_test.value_counts()/participants_test_clear['user_id'].nunique())*100\n",
    "ba_test_percent"
   ]
  },
  {
   "cell_type": "code",
   "execution_count": 241,
   "metadata": {},
   "outputs": [
    {
     "data": {
      "text/plain": [
       "False    37.800328\n",
       "True      5.133562\n",
       "Name: user_id, dtype: float64"
      ]
     },
     "execution_count": 241,
     "metadata": {},
     "output_type": "execute_result"
    }
   ],
   "source": [
    "bb_test_percent = (bb_test.value_counts()/participants_test_clear['user_id'].nunique())*100\n",
    "bb_test_percent"
   ]
  },
  {
   "cell_type": "markdown",
   "metadata": {},
   "source": [
    "*В группе А теста recommender_system_test присутствует 6,5%, а в группе B-5.1%  пользователей группы B теста interface_eu_test.* \n",
    "\n",
    "*Так как распределение по группам A и B теста recommender_system_test пользователей входящих в группу B теста interface_eu_test практически равномерное принятно решено не исключать этих пользователей из дальнейшего анализа.* "
   ]
  },
  {
   "cell_type": "code",
   "execution_count": 242,
   "metadata": {},
   "outputs": [],
   "source": [
    " # Итоговый срез датафрейма по тесту на основе полученных данных\n",
    "participants_final = participants.query('ab_test == \"recommender_system_test\"')"
   ]
  },
  {
   "cell_type": "markdown",
   "metadata": {},
   "source": [
    "### Фильтрация датафреймов по региону"
   ]
  },
  {
   "cell_type": "code",
   "execution_count": 243,
   "metadata": {},
   "outputs": [],
   "source": [
    "# Проводим фильтрацию ранее отфильтровованного по дате датасета new_users\n",
    "new_users_filtered_by_region_and_date = new_users_filtered_date.query('region == \"EU\"')"
   ]
  },
  {
   "cell_type": "code",
   "execution_count": 244,
   "metadata": {},
   "outputs": [
    {
     "data": {
      "text/plain": [
       "25.022135647246326"
      ]
     },
     "execution_count": 244,
     "metadata": {},
     "output_type": "execute_result"
    }
   ],
   "source": [
    "# Считаем сколько пользователей было удалено на этом этапе\n",
    "lost_new_users_by_region = (new_users_filtered_date['user_id'].nunique()-new_users_filtered_by_region_and_date['user_id'].nunique())*100/new_users_filtered_date['user_id'].nunique()\n",
    "lost_new_users_by_region"
   ]
  },
  {
   "cell_type": "markdown",
   "metadata": {},
   "source": [
    "*При дальнейшей фильтрации данных датафрейма new_users  удалено 25% пользователей*"
   ]
  },
  {
   "cell_type": "markdown",
   "metadata": {},
   "source": [
    "### Оценка условия: 15% новых пользователей из региона Европа"
   ]
  },
  {
   "cell_type": "code",
   "execution_count": 245,
   "metadata": {},
   "outputs": [],
   "source": [
    "# Для оценки доли участников теста из Европы соединим 2 датафрейма new_users_filtered_by_region_and_date и participants_final\n",
    "join_part_new_users = participants_final.merge(new_users_filtered_by_region_and_date, on='user_id')"
   ]
  },
  {
   "cell_type": "markdown",
   "metadata": {},
   "source": [
    "Для оценки доли зарегистрированных в тесте пользователей из Европы в даты, соответствующие ТЗ разделим количество уникальных пользователей отфильтрованного датасета (по тесту, региону, датам)  на количество уникальных пользователей, зарегистрированных в указанные даты в Европе"
   ]
  },
  {
   "cell_type": "code",
   "execution_count": 246,
   "metadata": {},
   "outputs": [
    {
     "data": {
      "text/plain": [
       "15"
      ]
     },
     "execution_count": 246,
     "metadata": {},
     "output_type": "execute_result"
    }
   ],
   "source": [
    "round(join_part_new_users['user_id'].nunique()/new_users_filtered_by_region_and_date['user_id'].nunique()*100)"
   ]
  },
  {
   "cell_type": "markdown",
   "metadata": {},
   "source": [
    "*Доля пользователей, зарегистрированных в Европе в указанные даты в тесте recommender_system_test составляет 15%, что соответствует ТЗ.*"
   ]
  },
  {
   "cell_type": "markdown",
   "metadata": {},
   "source": [
    "### Оценка влияния рекламной компании на активность пользователей"
   ]
  },
  {
   "cell_type": "code",
   "execution_count": 247,
   "metadata": {},
   "outputs": [],
   "source": [
    "# округляем дату датафрейма events до дня\n",
    "events['event_dt'] = events['event_dt'].dt.date"
   ]
  },
  {
   "cell_type": "code",
   "execution_count": 248,
   "metadata": {},
   "outputs": [],
   "source": [
    "# считаем количество событий по дням изучаемого периода\n",
    "events_by_day = events.pivot_table(index = 'event_dt', values = ['event_name'], aggfunc = 'count')\n",
    "events_by_day =  events_by_day.reset_index()"
   ]
  },
  {
   "cell_type": "code",
   "execution_count": 249,
   "metadata": {},
   "outputs": [
    {
     "data": {
      "image/png": "[encoded data removed]",
      "text/plain": [
       "<Figure size 432x288 with 1 Axes>"
      ]
     },
     "metadata": {
      "needs_background": "light"
     },
     "output_type": "display_data"
    }
   ],
   "source": [
    "# Визуализируем полученные данные\n",
    "# строим столбчатую диаграмму\n",
    "ax = sns.barplot(x='event_dt', y='event_name', data=events_by_day, color='green')\n",
    "plt.title ('Количество событий по дням изучаемого периода')\n",
    "plt.ylabel ('Количество событий')\n",
    "plt.xlabel ('День')\n",
    "plt.xticks(rotation=90);"
   ]
  },
  {
   "cell_type": "markdown",
   "metadata": {},
   "source": [
    "*Рекламная акция проведённая в данном регионе в даты исследуемого периода началась 25 декабря 2020 года. После этой даты резких скачков активности пользователей не было выявлено.\n",
    "В проведении дополнительной фильтрации датафрейма нет необходимости.*"
   ]
  },
  {
   "cell_type": "markdown",
   "metadata": {},
   "source": [
    "### Объединение таблиц"
   ]
  },
  {
   "cell_type": "markdown",
   "metadata": {},
   "source": [
    "*Для дальнейшего анализа необходимо объединить 3 датасета: events, new_users_filtered_by_region_and_date и participants_test причём в объединённый датасет должны войти пользователи, информация о которых представлена во всех 3 датафреймах, так как для оценки эффективности и корректности теста, а также соответствия критериям ТЗ нужны данные из всех 3х датафреймов.*\n",
    "\n",
    "*Методом объединения выбран merge по столбцу 'user_id'.*"
   ]
  },
  {
   "cell_type": "markdown",
   "metadata": {},
   "source": [
    "### Датафреймы participants_final и events"
   ]
  },
  {
   "cell_type": "code",
   "execution_count": 250,
   "metadata": {},
   "outputs": [
    {
     "name": "stdout",
     "output_type": "stream",
     "text": [
      "Потери на этапе объединения таблиц participants_final и events составляют 45 %\n"
     ]
    }
   ],
   "source": [
    "# Объединяем датафреймы \n",
    "join_part_events = participants_final.merge(events, on='user_id')\n",
    "# Считаем потери данных от общего количества пользователей теста  recommender_system_test на данном этапе\n",
    "lost_join_part_events = round((participants_final['user_id'].nunique() - join_part_events['user_id'].nunique())/participants_final['user_id'].nunique()*100)\n",
    "print('Потери на этапе объединения таблиц participants_final и events составляют', lost_join_part_events, '%')"
   ]
  },
  {
   "cell_type": "markdown",
   "metadata": {},
   "source": [
    "### Датафреймы  new_users_filtered_by_region_and_date и объединённый датафрейм join_part_events"
   ]
  },
  {
   "cell_type": "code",
   "execution_count": 251,
   "metadata": {},
   "outputs": [
    {
     "name": "stdout",
     "output_type": "stream",
     "text": [
      "Потери на этапе объединения таблиц new_users_filtered_by_region_and_date и join_part_events составляют 48 %\n"
     ]
    }
   ],
   "source": [
    "# Объединяем датафреймы \n",
    "join_all = join_part_events.merge(new_users_filtered_by_region_and_date, on='user_id')\n",
    "# Считаем потери данных от общего количества пользователей теста  recommender_system_test на данном этапе\n",
    "lost_join_all = round((participants_final['user_id'].nunique() - join_all['user_id'].nunique())/participants_final['user_id'].nunique()*100)\n",
    "print('Потери на этапе объединения таблиц new_users_filtered_by_region_and_date и join_part_events составляют', lost_join_all,  '%')"
   ]
  },
  {
   "cell_type": "code",
   "execution_count": 252,
   "metadata": {},
   "outputs": [
    {
     "data": {
      "text/plain": [
       "user_id           0\n",
       "group             0\n",
       "ab_test           0\n",
       "event_dt          0\n",
       "event_name        0\n",
       "details       20224\n",
       "first_date        0\n",
       "region            0\n",
       "device            0\n",
       "dtype: int64"
      ]
     },
     "execution_count": 252,
     "metadata": {},
     "output_type": "execute_result"
    }
   ],
   "source": [
    "# Проверяем объединенный датафрейм на наличие пропусков\n",
    "join_all.isna().sum()"
   ]
  },
  {
   "cell_type": "markdown",
   "metadata": {},
   "source": [
    "*Выявлены пропуски только в столбце details. Данные этого столбца не повлияют на анализ корректности и эффектисности теста. Принято рещение оставить пропуски без изменений.*"
   ]
  },
  {
   "cell_type": "markdown",
   "metadata": {},
   "source": [
    "###  Срез пользователей, которые не совершали действий после регистрации"
   ]
  },
  {
   "cell_type": "code",
   "execution_count": 253,
   "metadata": {},
   "outputs": [],
   "source": [
    "# Создаём сводную таблицу с подсчётом событий, которое выполнил каждый пользователь\n",
    "count_events_by_users = join_all.pivot_table(index='user_id', values='event_name', aggfunc='count')"
   ]
  },
  {
   "cell_type": "code",
   "execution_count": 254,
   "metadata": {},
   "outputs": [
    {
     "data": {
      "text/plain": [
       "3430"
      ]
     },
     "execution_count": 254,
     "metadata": {},
     "output_type": "execute_result"
    }
   ],
   "source": [
    "# Делаем срез датафрейма удаляя пользователей, которые совершили только 1 событие\n",
    "count_events_by_users_active = count_events_by_users.query('event_name >1')\n",
    "count_events_by_users_active = count_events_by_users_active.reset_index()\n",
    "# Считаем количество пользователей, которые только зарегистрировались и не совершали событий в дальнейшем\n",
    "count_events_by_users_active['user_id'].nunique()"
   ]
  },
  {
   "cell_type": "code",
   "execution_count": 255,
   "metadata": {},
   "outputs": [
    {
     "data": {
      "text/plain": [
       "1.465096236713588"
      ]
     },
     "execution_count": 255,
     "metadata": {},
     "output_type": "execute_result"
    }
   ],
   "source": [
    "# Рассчитываем долю долю потери пользователей на данном этапе\n",
    "part_active_users = ((join_all['user_id'].nunique() - count_events_by_users_active['user_id'].nunique())/join_all['user_id'].nunique())*100\n",
    "part_active_users"
   ]
  },
  {
   "cell_type": "markdown",
   "metadata": {},
   "source": [
    "*Всего 96 пользователей (1.19%) отфильтрованного по ТЗ датасета не совершали событий после регистрации. Проведён срез с исключением неактивных пользователей.*"
   ]
  },
  {
   "cell_type": "markdown",
   "metadata": {},
   "source": [
    "### Фильтрация событий, которые произошли после 14 дней от момента регистрации  пользователя"
   ]
  },
  {
   "cell_type": "code",
   "execution_count": 256,
   "metadata": {},
   "outputs": [],
   "source": [
    "# приводим столбцы с датами к нужному формату для дальнейших расчётов\n",
    "join_all['event_dt'] = pd.to_datetime(join_all['event_dt'])\n",
    "join_all['event_dt'] = join_all['event_dt'].dt.date\n",
    "join_all['first_date'] = join_all['first_date'].dt.date"
   ]
  },
  {
   "cell_type": "code",
   "execution_count": 257,
   "metadata": {},
   "outputs": [],
   "source": [
    "# считаем разницу в днях между датой регистрации и датой события и переводим полученные значения в число\n",
    "join_all['day_of_event'] = (join_all['event_dt'] - join_all['first_date'])/np.timedelta64(1, 'D')"
   ]
  },
  {
   "cell_type": "code",
   "execution_count": 258,
   "metadata": {},
   "outputs": [],
   "source": [
    "# Проводим срез датафрейма оставляя события, которые совершили пользователи после за 14 дней (с 0 по 13) после регистрации\n",
    "test_filtered = join_all.query('day_of_event < 14')"
   ]
  },
  {
   "cell_type": "markdown",
   "metadata": {},
   "source": [
    "### Пользователи с лайфтаймом менее 14 дней"
   ]
  },
  {
   "cell_type": "markdown",
   "metadata": {},
   "source": [
    "*С учётом того, что в представленных датасетах нет информации о событиях совершённых пользователями после 30 декабря 2020 оценить активность  пользователей, зарегистрированных после 16 декабря в течение полного периода наблюдения (14 дней) нет возможности.* \n",
    "\n",
    "*С целью принятия решения о фильтрации пользователей, лайфмайм которых менее 14 дней посмотрим на распределение активности пользователей по дням.*"
   ]
  },
  {
   "cell_type": "code",
   "execution_count": 259,
   "metadata": {},
   "outputs": [],
   "source": [
    "# Посчитаем на какой день в среднем пользователь совершает действие\n",
    "join_all_events_count = test_filtered.pivot_table(index='user_id', values='day_of_event', aggfunc=['mean'])\n",
    "join_all_events_count = join_all_events_count.reset_index()"
   ]
  },
  {
   "cell_type": "code",
   "execution_count": 260,
   "metadata": {},
   "outputs": [
    {
     "data": {
      "text/plain": [
       "count    3481.000000\n",
       "mean        2.427678\n",
       "std         1.683739\n",
       "min         0.000000\n",
       "25%         1.000000\n",
       "50%         2.333333\n",
       "75%         3.600000\n",
       "max         9.500000\n",
       "Name: (mean, day_of_event), dtype: float64"
      ]
     },
     "execution_count": 260,
     "metadata": {},
     "output_type": "execute_result"
    }
   ],
   "source": [
    "# Посмотрим на какой день пользователи чаще совершают события\n",
    "join_all_events_count[('mean', 'day_of_event')].describe()"
   ]
  },
  {
   "cell_type": "code",
   "execution_count": 261,
   "metadata": {},
   "outputs": [
    {
     "data": {
      "image/png": "[encoded data removed]",
      "text/plain": [
       "<Figure size 432x288 with 1 Axes>"
      ]
     },
     "metadata": {
      "needs_background": "light"
     },
     "output_type": "display_data"
    }
   ],
   "source": [
    "# Визуализируем полученные данные\n",
    "boxplot = sns.boxplot(y = ('mean', 'day_of_event'), data = join_all_events_count, color='green')\n",
    "plt.title('Распределение активности пользователей по дням')\n",
    "plt.ylim(0, 9)\n",
    "plt.ylabel ('Среднее количество дней');"
   ]
  },
  {
   "cell_type": "markdown",
   "metadata": {},
   "source": [
    "*Таким образом, мы видим, что максимальная активность пользователей приходится на 2-4 день после регистрации.\n",
    "После 5 дня пользователи редко совершают действия. Исключение пользователей лайфтайм которых меньше 14 дней  но больше 5 дней нецелеесообразен.*\n",
    "\n",
    "*Активность всех пользователей в течение 5 дней (включая зарегистрированных в последний день набора- 21 декабря)  по представленным данным оценить возможно.*"
   ]
  },
  {
   "cell_type": "markdown",
   "metadata": {},
   "source": [
    "### Оценка условия -ожидаемое количество участников (6000)"
   ]
  },
  {
   "cell_type": "code",
   "execution_count": 262,
   "metadata": {},
   "outputs": [
    {
     "data": {
      "text/plain": [
       "3481"
      ]
     },
     "execution_count": 262,
     "metadata": {},
     "output_type": "execute_result"
    }
   ],
   "source": [
    "test_filtered['user_id'].nunique()"
   ]
  },
  {
   "cell_type": "markdown",
   "metadata": {},
   "source": [
    "*После проведённой последовательной фильтрации по условиям ТЗ осталось 3481 вместо 6000 ожидаемых.*\n",
    "\n",
    "*Также фиксируем данное отклонение для итоговой оценки корректности проведённого теста.*"
   ]
  },
  {
   "cell_type": "markdown",
   "metadata": {},
   "source": [
    "## Исследование теста"
   ]
  },
  {
   "cell_type": "markdown",
   "metadata": {},
   "source": [
    "### Распределение участников теста по группам"
   ]
  },
  {
   "cell_type": "code",
   "execution_count": 263,
   "metadata": {},
   "outputs": [
    {
     "name": "stdout",
     "output_type": "stream",
     "text": [
      "В группе А зарегистрировано 2604 пользователя\n",
      "Пользователи группы А составляют 75 %  от общего количества участников теста\n"
     ]
    }
   ],
   "source": [
    "test_filtered_a = test_filtered.query('group == \"A\"')\n",
    "print('В группе А зарегистрировано', test_filtered_a['user_id'].nunique(), 'пользователя')\n",
    "test_filtered_a_part = round(test_filtered_a['user_id'].nunique()/test_filtered['user_id'].nunique()*100)\n",
    "print('Пользователи группы А составляют', test_filtered_a_part, '%  от общего количества участников теста')\n",
    "#events_by_users = test_filtered_A.pivot_table(index='user_id', values='event_name', aggfunc='count')\n",
    "#events_by_users"
   ]
  },
  {
   "cell_type": "code",
   "execution_count": 264,
   "metadata": {},
   "outputs": [
    {
     "name": "stdout",
     "output_type": "stream",
     "text": [
      "877\n",
      "Пользователи группы B составляют 25 %  от общего количества участников теста\n"
     ]
    }
   ],
   "source": [
    "test_filtered_b = test_filtered.query('group == \"B\"')\n",
    "print(test_filtered_b['user_id'].nunique())\n",
    "test_filtered_b_part = round(test_filtered_b['user_id'].nunique()/test_filtered['user_id'].nunique()*100)\n",
    "print('Пользователи группы B составляют', test_filtered_b_part, '%  от общего количества участников теста')"
   ]
  },
  {
   "cell_type": "markdown",
   "metadata": {},
   "source": [
    "*Обращает внимание неравномерное распределение участников теста между группами.*\n",
    "\n",
    "*Такое значительное отклонение может привести к серьёзному искажению полученных результатов.*"
   ]
  },
  {
   "cell_type": "markdown",
   "metadata": {},
   "source": [
    "### Расчёт медианы количества событий на  пользователя  в разных группах"
   ]
  },
  {
   "cell_type": "code",
   "execution_count": 265,
   "metadata": {},
   "outputs": [
    {
     "data": {
      "text/plain": [
       "count    2604.000000\n",
       "mean        6.849078\n",
       "std         3.812030\n",
       "min         1.000000\n",
       "25%         4.000000\n",
       "50%         6.000000\n",
       "75%         9.000000\n",
       "max        24.000000\n",
       "Name: event_name, dtype: float64"
      ]
     },
     "execution_count": 265,
     "metadata": {},
     "output_type": "execute_result"
    }
   ],
   "source": [
    "events_by_users_a =  test_filtered_a.pivot_table(index='user_id', values='event_name', aggfunc='count')\n",
    "events_by_users_a['event_name'].describe()"
   ]
  },
  {
   "cell_type": "code",
   "execution_count": 266,
   "metadata": {},
   "outputs": [
    {
     "data": {
      "text/plain": [
       "count    877.000000\n",
       "mean       5.456100\n",
       "std        3.246276\n",
       "min        1.000000\n",
       "25%        3.000000\n",
       "50%        4.000000\n",
       "75%        8.000000\n",
       "max       24.000000\n",
       "Name: event_name, dtype: float64"
      ]
     },
     "execution_count": 266,
     "metadata": {},
     "output_type": "execute_result"
    }
   ],
   "source": [
    "events_by_users_b =  test_filtered_b.pivot_table(index='user_id', values='event_name', aggfunc='count')\n",
    "events_by_users_b['event_name'].describe()"
   ]
  },
  {
   "cell_type": "code",
   "execution_count": 267,
   "metadata": {},
   "outputs": [
    {
     "data": {
      "image/png": "[encoded data removed]",
      "text/plain": [
       "<Figure size 432x288 with 2 Axes>"
      ]
     },
     "metadata": {
      "needs_background": "light"
     },
     "output_type": "display_data"
    }
   ],
   "source": [
    "# Графическое отображение полученных результатов\n",
    "fig, axes = plt.subplots(1, 2, sharey=True)\n",
    "boxplot_1 = sns.boxplot(y = 'event_name', data = events_by_users_a,  ax=axes[0])\n",
    "fig.suptitle('Количество событий на пользователей разных групп')\n",
    "plt.ylim(0, 20)\n",
    "axes[0].set_ylabel('Количество событий')\n",
    "axes[0].set_xlabel('Группа А')\n",
    "boxplot_2 = sns.boxplot(y = 'event_name', data = events_by_users_b, ax=axes[1], color='red')\n",
    "axes[1].set_ylabel(' ')\n",
    "axes[1].set_xlabel('Группа B');"
   ]
  },
  {
   "cell_type": "markdown",
   "metadata": {},
   "source": [
    "*В среднем, пользователи группы А более активны. Медиана количества событий на пользователя группы A -6, пользователя группы B - 4 .* "
   ]
  },
  {
   "cell_type": "markdown",
   "metadata": {},
   "source": [
    "### Количество зарегистрированных пользователей в разные группы по дням"
   ]
  },
  {
   "cell_type": "code",
   "execution_count": 268,
   "metadata": {},
   "outputs": [],
   "source": [
    "# считаем количество регистраций по дням в группе А\n",
    "events_by_day_a = test_filtered_a.pivot_table(index = 'first_date', values = ['user_id'], aggfunc = 'count')"
   ]
  },
  {
   "cell_type": "code",
   "execution_count": 269,
   "metadata": {},
   "outputs": [],
   "source": [
    "# считаем количество регистраций по дням в группе B\n",
    "events_by_day_b = test_filtered_b.pivot_table(index = 'first_date', values = ['user_id'], aggfunc = 'count')"
   ]
  },
  {
   "cell_type": "code",
   "execution_count": 270,
   "metadata": {},
   "outputs": [],
   "source": [
    "# Подготовка датафрейма для дальнейшей визуализации\n",
    "# Переименовываем столбцы подсчёта количества зарегистрированных пользователей\n",
    "events_by_day_a.rename(columns = {'user_id':'new_users_count_a'}, inplace = True )\n",
    "events_by_day_b.rename(columns = {'user_id':'new_users_count_b'}, inplace = True )\n",
    "# объединяем датафреймы для дальнейшей визуализации\n",
    "join_events_by_date = events_by_day_a.join(events_by_day_b, on='first_date', how='left', lsuffix='', rsuffix='', sort=False)"
   ]
  },
  {
   "cell_type": "code",
   "execution_count": 271,
   "metadata": {},
   "outputs": [
    {
     "data": {
      "image/png": "[encoded data removed]",
      "text/plain": [
       "<Figure size 504x288 with 1 Axes>"
      ]
     },
     "metadata": {
      "needs_background": "light"
     },
     "output_type": "display_data"
    }
   ],
   "source": [
    "# визуализируем полученные данные\n",
    "join_events_by_date.plot(kind='bar', figsize=(7, 4))\n",
    "plt.title ('Количество регистраций пользователей в разных группах теста по дням')\n",
    "plt.ylabel ('Количество регистраций')\n",
    "plt.xlabel ('Дата регистрации')\n",
    "plt.xticks(rotation=90);"
   ]
  },
  {
   "cell_type": "markdown",
   "metadata": {},
   "source": [
    "*Обращает внимание резкое увеличение количества зарегистрированных  пользователей группы A  после 14 декабря 2020 года. Согласно представленным данным рекламные компании в Европе в это время не проходили. Возможно, это связано с внешними факторами (старт рождественской распродажи?)*"
   ]
  },
  {
   "cell_type": "markdown",
   "metadata": {},
   "source": [
    "### Средняя сумма потраченная пользователями в разных группах"
   ]
  },
  {
   "cell_type": "code",
   "execution_count": 272,
   "metadata": {},
   "outputs": [
    {
     "data": {
      "text/plain": [
       "22.056509216589866"
      ]
     },
     "execution_count": 272,
     "metadata": {},
     "output_type": "execute_result"
    }
   ],
   "source": [
    "# Подсчёт средней суммы на пользователем группы A\n",
    "money_filtered_a = test_filtered_a.pivot_table(index='user_id', values = 'details', aggfunc ='sum') \n",
    "money_filtered_a['details'].mean()"
   ]
  },
  {
   "cell_type": "code",
   "execution_count": 273,
   "metadata": {},
   "outputs": [
    {
     "data": {
      "text/plain": [
       "16.23012542759407"
      ]
     },
     "execution_count": 273,
     "metadata": {},
     "output_type": "execute_result"
    }
   ],
   "source": [
    "# Подсчёт средней суммы на пользователя группы B\n",
    "money_filtered_b = test_filtered_b.pivot_table(index='user_id', values = 'details', aggfunc ='sum') \n",
    "money_filtered_b['details'].mean()"
   ]
  },
  {
   "cell_type": "markdown",
   "metadata": {},
   "source": [
    "*Средняя сумма на пользователя группы A выше, однако с учётом ранее выявленных отклонений (неравномерное распределение пользователей по группам, недостаточное количество участников теста, меньший процент зарегистрированных пользователей из Европы, чем ожидалось, резкое увеличение активности пользователей группы А после 14 декабря, которое возможно, связано с новогодними распродажами) делать выводы некорректно.*"
   ]
  },
  {
   "cell_type": "markdown",
   "metadata": {},
   "source": [
    "### Распределение устройств по группам"
   ]
  },
  {
   "cell_type": "code",
   "execution_count": 274,
   "metadata": {},
   "outputs": [
    {
     "data": {
      "text/html": [
       "<div>\n",
       "<style scoped>\n",
       "    .dataframe tbody tr th:only-of-type {\n",
       "        vertical-align: middle;\n",
       "    }\n",
       "\n",
       "    .dataframe tbody tr th {\n",
       "        vertical-align: top;\n",
       "    }\n",
       "\n",
       "    .dataframe thead th {\n",
       "        text-align: right;\n",
       "    }\n",
       "</style>\n",
       "<table border=\"1\" class=\"dataframe\">\n",
       "  <thead>\n",
       "    <tr style=\"text-align: right;\">\n",
       "      <th></th>\n",
       "      <th>user_id</th>\n",
       "      <th>part_a</th>\n",
       "    </tr>\n",
       "    <tr>\n",
       "      <th>device</th>\n",
       "      <th></th>\n",
       "      <th></th>\n",
       "    </tr>\n",
       "  </thead>\n",
       "  <tbody>\n",
       "    <tr>\n",
       "      <th>Android</th>\n",
       "      <td>1139</td>\n",
       "      <td>44.0</td>\n",
       "    </tr>\n",
       "    <tr>\n",
       "      <th>Mac</th>\n",
       "      <td>255</td>\n",
       "      <td>10.0</td>\n",
       "    </tr>\n",
       "    <tr>\n",
       "      <th>PC</th>\n",
       "      <td>689</td>\n",
       "      <td>26.0</td>\n",
       "    </tr>\n",
       "    <tr>\n",
       "      <th>iPhone</th>\n",
       "      <td>521</td>\n",
       "      <td>20.0</td>\n",
       "    </tr>\n",
       "  </tbody>\n",
       "</table>\n",
       "</div>"
      ],
      "text/plain": [
       "         user_id  part_a\n",
       "device                  \n",
       "Android     1139    44.0\n",
       "Mac          255    10.0\n",
       "PC           689    26.0\n",
       "iPhone       521    20.0"
      ]
     },
     "execution_count": 274,
     "metadata": {},
     "output_type": "execute_result"
    }
   ],
   "source": [
    "# считаем количество устройств в группе А\n",
    "devices_a = test_filtered_a.pivot_table(index = 'device', values = 'user_id', aggfunc='nunique')\n",
    "devices_total = devices_a['user_id'].sum()\n",
    "# считаем долю устройств в группе А\n",
    "devices_a['part_a'] = round(devices_a['user_id']/devices_a['user_id'].sum()*100)\n",
    "devices_a"
   ]
  },
  {
   "cell_type": "code",
   "execution_count": 275,
   "metadata": {},
   "outputs": [
    {
     "data": {
      "text/html": [
       "<div>\n",
       "<style scoped>\n",
       "    .dataframe tbody tr th:only-of-type {\n",
       "        vertical-align: middle;\n",
       "    }\n",
       "\n",
       "    .dataframe tbody tr th {\n",
       "        vertical-align: top;\n",
       "    }\n",
       "\n",
       "    .dataframe thead th {\n",
       "        text-align: right;\n",
       "    }\n",
       "</style>\n",
       "<table border=\"1\" class=\"dataframe\">\n",
       "  <thead>\n",
       "    <tr style=\"text-align: right;\">\n",
       "      <th></th>\n",
       "      <th>user_id</th>\n",
       "      <th>part_b</th>\n",
       "    </tr>\n",
       "    <tr>\n",
       "      <th>device</th>\n",
       "      <th></th>\n",
       "      <th></th>\n",
       "    </tr>\n",
       "  </thead>\n",
       "  <tbody>\n",
       "    <tr>\n",
       "      <th>Android</th>\n",
       "      <td>405</td>\n",
       "      <td>46.0</td>\n",
       "    </tr>\n",
       "    <tr>\n",
       "      <th>Mac</th>\n",
       "      <td>74</td>\n",
       "      <td>8.0</td>\n",
       "    </tr>\n",
       "    <tr>\n",
       "      <th>PC</th>\n",
       "      <td>212</td>\n",
       "      <td>24.0</td>\n",
       "    </tr>\n",
       "    <tr>\n",
       "      <th>iPhone</th>\n",
       "      <td>186</td>\n",
       "      <td>21.0</td>\n",
       "    </tr>\n",
       "  </tbody>\n",
       "</table>\n",
       "</div>"
      ],
      "text/plain": [
       "         user_id  part_b\n",
       "device                  \n",
       "Android      405    46.0\n",
       "Mac           74     8.0\n",
       "PC           212    24.0\n",
       "iPhone       186    21.0"
      ]
     },
     "execution_count": 275,
     "metadata": {},
     "output_type": "execute_result"
    }
   ],
   "source": [
    "# считаем количество устройств в группе B\n",
    "devices_b = test_filtered_b.pivot_table(index = 'device', values = 'user_id', aggfunc='nunique')\n",
    "devices_total = devices_b['user_id'].sum()\n",
    "# считаем долю устройств в группе B\n",
    "devices_b['part_b'] = round(devices_b['user_id']/devices_b['user_id'].sum()*100)\n",
    "devices_b"
   ]
  },
  {
   "cell_type": "code",
   "execution_count": 276,
   "metadata": {},
   "outputs": [],
   "source": [
    "# Подготовка датафрейма для дальнейшей визуализации\n",
    "# Переименовываем столбцы подсчёта количества зарегистрированных пользователей\n",
    "devices_a.rename(columns = {'user_id':'users_a'}, inplace = True )\n",
    "devices_b.rename(columns = {'user_id':'users_b'}, inplace = True )\n",
    "# объединяем датафреймы для дальнейшей визуализации\n",
    "join_devices = devices_a.join(devices_b, on='device', how='left', lsuffix='', rsuffix='', sort=False)\n",
    "join_devices_for_plot = join_devices[['part_a', 'part_b']]"
   ]
  },
  {
   "cell_type": "code",
   "execution_count": 277,
   "metadata": {},
   "outputs": [
    {
     "data": {
      "image/png": "[encoded data removed]",
      "text/plain": [
       "<Figure size 936x504 with 3 Axes>"
      ]
     },
     "metadata": {
      "needs_background": "light"
     },
     "output_type": "display_data"
    }
   ],
   "source": [
    "# визуализируем полученные данные\n",
    "join_devices_for_plot.plot(kind='pie', figsize=(13, 7), subplots=True, legend=False,  autopct='%0.0f%%')\n",
    "plt.suptitle(\"Распределение устройств по группам\")\n",
    "plt.subplot(121, 122, 1);"
   ]
  },
  {
   "cell_type": "markdown",
   "metadata": {},
   "source": [
    "*Значимых различий в распределении устройств пользователей разных групп нет.*"
   ]
  },
  {
   "cell_type": "markdown",
   "metadata": {},
   "source": [
    "### Построение воронок событий "
   ]
  },
  {
   "cell_type": "code",
   "execution_count": 278,
   "metadata": {},
   "outputs": [],
   "source": [
    "# Считаем количество пользователей на разных этапах воронки событий\n",
    "## Группа А\n",
    "test_filtered_a_events = test_filtered_a.pivot_table(index = ['event_name'], values = 'user_id', aggfunc='nunique')\n",
    "#  Проводим индексацию событий в логичном порядке\n",
    "test_filtered_a_events = test_filtered_a_events.reindex(['login', 'product_page','product_cart', 'purchase'])\n",
    "## создаём столбец с пометкой группы (для дальнейшего слияния таблиц и визуализации)\n",
    "test_filtered_a_events['group'] = 'A'\n",
    "# Считаем количество пользователей на первом этапе login\n",
    "test_filtered_a_events = test_filtered_a_events.reset_index()\n",
    "users_login_a = test_filtered_a_events.iloc [0]['user_id']\n",
    "# считаем долю пользователей на различных этапах по отношению к первому этапу\n",
    "test_filtered_a_events['part'] = round(test_filtered_a_events['user_id'].apply(lambda x: x/users_login_a)*100)"
   ]
  },
  {
   "cell_type": "code",
   "execution_count": 279,
   "metadata": {},
   "outputs": [],
   "source": [
    "# Считаем количество пользователей на разных этапах воронки событий\n",
    "## Группа B\n",
    "test_filtered_b_events = test_filtered_b.pivot_table(index = ['event_name'], values = 'user_id', aggfunc='nunique')\n",
    "#  Проводим индексацию событий в логичном порядке\n",
    "test_filtered_b_events = test_filtered_b_events.reindex(['login', 'product_page','product_cart', 'purchase'])\n",
    "## создаём столбец с пометкой группы (для дальнейшего слияния таблиц и визуализации)\n",
    "test_filtered_b_events['group'] = 'B'\n",
    "# Считаем количество пользователей на первом этапе login\n",
    "test_filtered_b_events = test_filtered_b_events.reset_index()\n",
    "users_login_b = test_filtered_b_events.iloc [0]['user_id']\n",
    "# считаем долю пользователей на различных этапах по отношению к первому этапу\n",
    "test_filtered_b_events['part'] = round(test_filtered_b_events['user_id'].apply(lambda x: x/users_login_b)*100)"
   ]
  },
  {
   "cell_type": "code",
   "execution_count": 280,
   "metadata": {},
   "outputs": [],
   "source": [
    "# объединяем датафреймы для дальнейшей визуализации\n",
    "events_for_conversion = pd.concat([test_filtered_a_events, test_filtered_b_events], axis=0)\n",
    "events_for_conversion = events_for_conversion.reset_index()"
   ]
  },
  {
   "cell_type": "code",
   "execution_count": 281,
   "metadata": {},
   "outputs": [
    {
     "data": {
      "application/vnd.plotly.v1+json": {
       "config": {
        "plotlyServerURL": "https://plot.ly"
       },
       "data": [
        {
         "hovertemplate": "group=A<br>part=%{x}<br>event_name=%{y}<extra></extra>",
         "legendgroup": "A",
         "marker": {
          "color": "#636efa"
         },
         "name": "A",
         "orientation": "h",
         "showlegend": true,
         "type": "funnel",
         "x": [
          100,
          65,
          30,
          32
         ],
         "xaxis": "x",
         "y": [
          "login",
          "product_page",
          "product_cart",
          "purchase"
         ],
         "yaxis": "y"
        },
        {
         "hovertemplate": "group=B<br>part=%{x}<br>event_name=%{y}<extra></extra>",
         "legendgroup": "B",
         "marker": {
          "color": "#EF553B"
         },
         "name": "B",
         "orientation": "h",
         "showlegend": true,
         "type": "funnel",
         "x": [
          100,
          56,
          28,
          28
         ],
         "xaxis": "x",
         "y": [
          "login",
          "product_page",
          "product_cart",
          "purchase"
         ],
         "yaxis": "y"
        }
       ],
       "layout": {
        "legend": {
         "title": {
          "text": "group"
         },
         "tracegroupgap": 0
        },
        "margin": {
         "t": 60
        },
        "template": {
         "data": {
          "bar": [
           {
            "error_x": {
             "color": "#2a3f5f"
            },
            "error_y": {
             "color": "#2a3f5f"
            },
            "marker": {
             "line": {
              "color": "#E5ECF6",
              "width": 0.5
             },
             "pattern": {
              "fillmode": "overlay",
              "size": 10,
              "solidity": 0.2
             }
            },
            "type": "bar"
           }
          ],
          "barpolar": [
           {
            "marker": {
             "line": {
              "color": "#E5ECF6",
              "width": 0.5
             },
             "pattern": {
              "fillmode": "overlay",
              "size": 10,
              "solidity": 0.2
             }
            },
            "type": "barpolar"
           }
          ],
          "carpet": [
           {
            "aaxis": {
             "endlinecolor": "#2a3f5f",
             "gridcolor": "white",
             "linecolor": "white",
             "minorgridcolor": "white",
             "startlinecolor": "#2a3f5f"
            },
            "baxis": {
             "endlinecolor": "#2a3f5f",
             "gridcolor": "white",
             "linecolor": "white",
             "minorgridcolor": "white",
             "startlinecolor": "#2a3f5f"
            },
            "type": "carpet"
           }
          ],
          "choropleth": [
           {
            "colorbar": {
             "outlinewidth": 0,
             "ticks": ""
            },
            "type": "choropleth"
           }
          ],
          "contour": [
           {
            "colorbar": {
             "outlinewidth": 0,
             "ticks": ""
            },
            "colorscale": [
             [
              0,
              "#0d0887"
             ],
             [
              0.1111111111111111,
              "#46039f"
             ],
             [
              0.2222222222222222,
              "#7201a8"
             ],
             [
              0.3333333333333333,
              "#9c179e"
             ],
             [
              0.4444444444444444,
              "#bd3786"
             ],
             [
              0.5555555555555556,
              "#d8576b"
             ],
             [
              0.6666666666666666,
              "#ed7953"
             ],
             [
              0.7777777777777778,
              "#fb9f3a"
             ],
             [
              0.8888888888888888,
              "#fdca26"
             ],
             [
              1,
              "#f0f921"
             ]
            ],
            "type": "contour"
           }
          ],
          "contourcarpet": [
           {
            "colorbar": {
             "outlinewidth": 0,
             "ticks": ""
            },
            "type": "contourcarpet"
           }
          ],
          "heatmap": [
           {
            "colorbar": {
             "outlinewidth": 0,
             "ticks": ""
            },
            "colorscale": [
             [
              0,
              "#0d0887"
             ],
             [
              0.1111111111111111,
              "#46039f"
             ],
             [
              0.2222222222222222,
              "#7201a8"
             ],
             [
              0.3333333333333333,
              "#9c179e"
             ],
             [
              0.4444444444444444,
              "#bd3786"
             ],
             [
              0.5555555555555556,
              "#d8576b"
             ],
             [
              0.6666666666666666,
              "#ed7953"
             ],
             [
              0.7777777777777778,
              "#fb9f3a"
             ],
             [
              0.8888888888888888,
              "#fdca26"
             ],
             [
              1,
              "#f0f921"
             ]
            ],
            "type": "heatmap"
           }
          ],
          "heatmapgl": [
           {
            "colorbar": {
             "outlinewidth": 0,
             "ticks": ""
            },
            "colorscale": [
             [
              0,
              "#0d0887"
             ],
             [
              0.1111111111111111,
              "#46039f"
             ],
             [
              0.2222222222222222,
              "#7201a8"
             ],
             [
              0.3333333333333333,
              "#9c179e"
             ],
             [
              0.4444444444444444,
              "#bd3786"
             ],
             [
              0.5555555555555556,
              "#d8576b"
             ],
             [
              0.6666666666666666,
              "#ed7953"
             ],
             [
              0.7777777777777778,
              "#fb9f3a"
             ],
             [
              0.8888888888888888,
              "#fdca26"
             ],
             [
              1,
              "#f0f921"
             ]
            ],
            "type": "heatmapgl"
           }
          ],
          "histogram": [
           {
            "marker": {
             "pattern": {
              "fillmode": "overlay",
              "size": 10,
              "solidity": 0.2
             }
            },
            "type": "histogram"
           }
          ],
          "histogram2d": [
           {
            "colorbar": {
             "outlinewidth": 0,
             "ticks": ""
            },
            "colorscale": [
             [
              0,
              "#0d0887"
             ],
             [
              0.1111111111111111,
              "#46039f"
             ],
             [
              0.2222222222222222,
              "#7201a8"
             ],
             [
              0.3333333333333333,
              "#9c179e"
             ],
             [
              0.4444444444444444,
              "#bd3786"
             ],
             [
              0.5555555555555556,
              "#d8576b"
             ],
             [
              0.6666666666666666,
              "#ed7953"
             ],
             [
              0.7777777777777778,
              "#fb9f3a"
             ],
             [
              0.8888888888888888,
              "#fdca26"
             ],
             [
              1,
              "#f0f921"
             ]
            ],
            "type": "histogram2d"
           }
          ],
          "histogram2dcontour": [
           {
            "colorbar": {
             "outlinewidth": 0,
             "ticks": ""
            },
            "colorscale": [
             [
              0,
              "#0d0887"
             ],
             [
              0.1111111111111111,
              "#46039f"
             ],
             [
              0.2222222222222222,
              "#7201a8"
             ],
             [
              0.3333333333333333,
              "#9c179e"
             ],
             [
              0.4444444444444444,
              "#bd3786"
             ],
             [
              0.5555555555555556,
              "#d8576b"
             ],
             [
              0.6666666666666666,
              "#ed7953"
             ],
             [
              0.7777777777777778,
              "#fb9f3a"
             ],
             [
              0.8888888888888888,
              "#fdca26"
             ],
             [
              1,
              "#f0f921"
             ]
            ],
            "type": "histogram2dcontour"
           }
          ],
          "mesh3d": [
           {
            "colorbar": {
             "outlinewidth": 0,
             "ticks": ""
            },
            "type": "mesh3d"
           }
          ],
          "parcoords": [
           {
            "line": {
             "colorbar": {
              "outlinewidth": 0,
              "ticks": ""
             }
            },
            "type": "parcoords"
           }
          ],
          "pie": [
           {
            "automargin": true,
            "type": "pie"
           }
          ],
          "scatter": [
           {
            "marker": {
             "colorbar": {
              "outlinewidth": 0,
              "ticks": ""
             }
            },
            "type": "scatter"
           }
          ],
          "scatter3d": [
           {
            "line": {
             "colorbar": {
              "outlinewidth": 0,
              "ticks": ""
             }
            },
            "marker": {
             "colorbar": {
              "outlinewidth": 0,
              "ticks": ""
             }
            },
            "type": "scatter3d"
           }
          ],
          "scattercarpet": [
           {
            "marker": {
             "colorbar": {
              "outlinewidth": 0,
              "ticks": ""
             }
            },
            "type": "scattercarpet"
           }
          ],
          "scattergeo": [
           {
            "marker": {
             "colorbar": {
              "outlinewidth": 0,
              "ticks": ""
             }
            },
            "type": "scattergeo"
           }
          ],
          "scattergl": [
           {
            "marker": {
             "colorbar": {
              "outlinewidth": 0,
              "ticks": ""
             }
            },
            "type": "scattergl"
           }
          ],
          "scattermapbox": [
           {
            "marker": {
             "colorbar": {
              "outlinewidth": 0,
              "ticks": ""
             }
            },
            "type": "scattermapbox"
           }
          ],
          "scatterpolar": [
           {
            "marker": {
             "colorbar": {
              "outlinewidth": 0,
              "ticks": ""
             }
            },
            "type": "scatterpolar"
           }
          ],
          "scatterpolargl": [
           {
            "marker": {
             "colorbar": {
              "outlinewidth": 0,
              "ticks": ""
             }
            },
            "type": "scatterpolargl"
           }
          ],
          "scatterternary": [
           {
            "marker": {
             "colorbar": {
              "outlinewidth": 0,
              "ticks": ""
             }
            },
            "type": "scatterternary"
           }
          ],
          "surface": [
           {
            "colorbar": {
             "outlinewidth": 0,
             "ticks": ""
            },
            "colorscale": [
             [
              0,
              "#0d0887"
             ],
             [
              0.1111111111111111,
              "#46039f"
             ],
             [
              0.2222222222222222,
              "#7201a8"
             ],
             [
              0.3333333333333333,
              "#9c179e"
             ],
             [
              0.4444444444444444,
              "#bd3786"
             ],
             [
              0.5555555555555556,
              "#d8576b"
             ],
             [
              0.6666666666666666,
              "#ed7953"
             ],
             [
              0.7777777777777778,
              "#fb9f3a"
             ],
             [
              0.8888888888888888,
              "#fdca26"
             ],
             [
              1,
              "#f0f921"
             ]
            ],
            "type": "surface"
           }
          ],
          "table": [
           {
            "cells": {
             "fill": {
              "color": "#EBF0F8"
             },
             "line": {
              "color": "white"
             }
            },
            "header": {
             "fill": {
              "color": "#C8D4E3"
             },
             "line": {
              "color": "white"
             }
            },
            "type": "table"
           }
          ]
         },
         "layout": {
          "annotationdefaults": {
           "arrowcolor": "#2a3f5f",
           "arrowhead": 0,
           "arrowwidth": 1
          },
          "autotypenumbers": "strict",
          "coloraxis": {
           "colorbar": {
            "outlinewidth": 0,
            "ticks": ""
           }
          },
          "colorscale": {
           "diverging": [
            [
             0,
             "#8e0152"
            ],
            [
             0.1,
             "#c51b7d"
            ],
            [
             0.2,
             "#de77ae"
            ],
            [
             0.3,
             "#f1b6da"
            ],
            [
             0.4,
             "#fde0ef"
            ],
            [
             0.5,
             "#f7f7f7"
            ],
            [
             0.6,
             "#e6f5d0"
            ],
            [
             0.7,
             "#b8e186"
            ],
            [
             0.8,
             "#7fbc41"
            ],
            [
             0.9,
             "#4d9221"
            ],
            [
             1,
             "#276419"
            ]
           ],
           "sequential": [
            [
             0,
             "#0d0887"
            ],
            [
             0.1111111111111111,
             "#46039f"
            ],
            [
             0.2222222222222222,
             "#7201a8"
            ],
            [
             0.3333333333333333,
             "#9c179e"
            ],
            [
             0.4444444444444444,
             "#bd3786"
            ],
            [
             0.5555555555555556,
             "#d8576b"
            ],
            [
             0.6666666666666666,
             "#ed7953"
            ],
            [
             0.7777777777777778,
             "#fb9f3a"
            ],
            [
             0.8888888888888888,
             "#fdca26"
            ],
            [
             1,
             "#f0f921"
            ]
           ],
           "sequentialminus": [
            [
             0,
             "#0d0887"
            ],
            [
             0.1111111111111111,
             "#46039f"
            ],
            [
             0.2222222222222222,
             "#7201a8"
            ],
            [
             0.3333333333333333,
             "#9c179e"
            ],
            [
             0.4444444444444444,
             "#bd3786"
            ],
            [
             0.5555555555555556,
             "#d8576b"
            ],
            [
             0.6666666666666666,
             "#ed7953"
            ],
            [
             0.7777777777777778,
             "#fb9f3a"
            ],
            [
             0.8888888888888888,
             "#fdca26"
            ],
            [
             1,
             "#f0f921"
            ]
           ]
          },
          "colorway": [
           "#636efa",
           "#EF553B",
           "#00cc96",
           "#ab63fa",
           "#FFA15A",
           "#19d3f3",
           "#FF6692",
           "#B6E880",
           "#FF97FF",
           "#FECB52"
          ],
          "font": {
           "color": "#2a3f5f"
          },
          "geo": {
           "bgcolor": "white",
           "lakecolor": "white",
           "landcolor": "#E5ECF6",
           "showlakes": true,
           "showland": true,
           "subunitcolor": "white"
          },
          "hoverlabel": {
           "align": "left"
          },
          "hovermode": "closest",
          "mapbox": {
           "style": "light"
          },
          "paper_bgcolor": "white",
          "plot_bgcolor": "#E5ECF6",
          "polar": {
           "angularaxis": {
            "gridcolor": "white",
            "linecolor": "white",
            "ticks": ""
           },
           "bgcolor": "#E5ECF6",
           "radialaxis": {
            "gridcolor": "white",
            "linecolor": "white",
            "ticks": ""
           }
          },
          "scene": {
           "xaxis": {
            "backgroundcolor": "#E5ECF6",
            "gridcolor": "white",
            "gridwidth": 2,
            "linecolor": "white",
            "showbackground": true,
            "ticks": "",
            "zerolinecolor": "white"
           },
           "yaxis": {
            "backgroundcolor": "#E5ECF6",
            "gridcolor": "white",
            "gridwidth": 2,
            "linecolor": "white",
            "showbackground": true,
            "ticks": "",
            "zerolinecolor": "white"
           },
           "zaxis": {
            "backgroundcolor": "#E5ECF6",
            "gridcolor": "white",
            "gridwidth": 2,
            "linecolor": "white",
            "showbackground": true,
            "ticks": "",
            "zerolinecolor": "white"
           }
          },
          "shapedefaults": {
           "line": {
            "color": "#2a3f5f"
           }
          },
          "ternary": {
           "aaxis": {
            "gridcolor": "white",
            "linecolor": "white",
            "ticks": ""
           },
           "baxis": {
            "gridcolor": "white",
            "linecolor": "white",
            "ticks": ""
           },
           "bgcolor": "#E5ECF6",
           "caxis": {
            "gridcolor": "white",
            "linecolor": "white",
            "ticks": ""
           }
          },
          "title": {
           "x": 0.05
          },
          "xaxis": {
           "automargin": true,
           "gridcolor": "white",
           "linecolor": "white",
           "ticks": "",
           "title": {
            "standoff": 15
           },
           "zerolinecolor": "white",
           "zerolinewidth": 2
          },
          "yaxis": {
           "automargin": true,
           "gridcolor": "white",
           "linecolor": "white",
           "ticks": "",
           "title": {
            "standoff": 15
           },
           "zerolinecolor": "white",
           "zerolinewidth": 2
          }
         }
        },
        "title": {
         "text": "Конверсия пользователей на разных этапах событий в разрезе групп",
         "x": 0.5
        },
        "xaxis": {
         "anchor": "y",
         "domain": [
          0,
          1
         ],
         "title": {
          "text": "part"
         }
        },
        "yaxis": {
         "anchor": "x",
         "domain": [
          0,
          1
         ],
         "title": {
          "text": "event_name"
         }
        }
       }
      },
      "text/html": [
       "<div>                            <div id=\"92491330-13cc-49a3-81a8-db282862eeb5\" class=\"plotly-graph-div\" style=\"height:525px; width:100%;\"></div>            <script type=\"text/javascript\">                require([\"plotly\"], function(Plotly) {                    window.PLOTLYENV=window.PLOTLYENV || {};                                    if (document.getElementById(\"92491330-13cc-49a3-81a8-db282862eeb5\")) {                    Plotly.newPlot(                        \"92491330-13cc-49a3-81a8-db282862eeb5\",                        [{\"hovertemplate\":\"group=A<br>part=%{x}<br>event_name=%{y}<extra></extra>\",\"legendgroup\":\"A\",\"marker\":{\"color\":\"#636efa\"},\"name\":\"A\",\"orientation\":\"h\",\"showlegend\":true,\"x\":[100.0,65.0,30.0,32.0],\"xaxis\":\"x\",\"y\":[\"login\",\"product_page\",\"product_cart\",\"purchase\"],\"yaxis\":\"y\",\"type\":\"funnel\"},{\"hovertemplate\":\"group=B<br>part=%{x}<br>event_name=%{y}<extra></extra>\",\"legendgroup\":\"B\",\"marker\":{\"color\":\"#EF553B\"},\"name\":\"B\",\"orientation\":\"h\",\"showlegend\":true,\"x\":[100.0,56.0,28.0,28.0],\"xaxis\":\"x\",\"y\":[\"login\",\"product_page\",\"product_cart\",\"purchase\"],\"yaxis\":\"y\",\"type\":\"funnel\"}],                        {\"template\":{\"data\":{\"bar\":[{\"error_x\":{\"color\":\"#2a3f5f\"},\"error_y\":{\"color\":\"#2a3f5f\"},\"marker\":{\"line\":{\"color\":\"#E5ECF6\",\"width\":0.5},\"pattern\":{\"fillmode\":\"overlay\",\"size\":10,\"solidity\":0.2}},\"type\":\"bar\"}],\"barpolar\":[{\"marker\":{\"line\":{\"color\":\"#E5ECF6\",\"width\":0.5},\"pattern\":{\"fillmode\":\"overlay\",\"size\":10,\"solidity\":0.2}},\"type\":\"barpolar\"}],\"carpet\":[{\"aaxis\":{\"endlinecolor\":\"#2a3f5f\",\"gridcolor\":\"white\",\"linecolor\":\"white\",\"minorgridcolor\":\"white\",\"startlinecolor\":\"#2a3f5f\"},\"baxis\":{\"endlinecolor\":\"#2a3f5f\",\"gridcolor\":\"white\",\"linecolor\":\"white\",\"minorgridcolor\":\"white\",\"startlinecolor\":\"#2a3f5f\"},\"type\":\"carpet\"}],\"choropleth\":[{\"colorbar\":{\"outlinewidth\":0,\"ticks\":\"\"},\"type\":\"choropleth\"}],\"contour\":[{\"colorbar\":{\"outlinewidth\":0,\"ticks\":\"\"},\"colorscale\":[[0.0,\"#0d0887\"],[0.1111111111111111,\"#46039f\"],[0.2222222222222222,\"#7201a8\"],[0.3333333333333333,\"#9c179e\"],[0.4444444444444444,\"#bd3786\"],[0.5555555555555556,\"#d8576b\"],[0.6666666666666666,\"#ed7953\"],[0.7777777777777778,\"#fb9f3a\"],[0.8888888888888888,\"#fdca26\"],[1.0,\"#f0f921\"]],\"type\":\"contour\"}],\"contourcarpet\":[{\"colorbar\":{\"outlinewidth\":0,\"ticks\":\"\"},\"type\":\"contourcarpet\"}],\"heatmap\":[{\"colorbar\":{\"outlinewidth\":0,\"ticks\":\"\"},\"colorscale\":[[0.0,\"#0d0887\"],[0.1111111111111111,\"#46039f\"],[0.2222222222222222,\"#7201a8\"],[0.3333333333333333,\"#9c179e\"],[0.4444444444444444,\"#bd3786\"],[0.5555555555555556,\"#d8576b\"],[0.6666666666666666,\"#ed7953\"],[0.7777777777777778,\"#fb9f3a\"],[0.8888888888888888,\"#fdca26\"],[1.0,\"#f0f921\"]],\"type\":\"heatmap\"}],\"heatmapgl\":[{\"colorbar\":{\"outlinewidth\":0,\"ticks\":\"\"},\"colorscale\":[[0.0,\"#0d0887\"],[0.1111111111111111,\"#46039f\"],[0.2222222222222222,\"#7201a8\"],[0.3333333333333333,\"#9c179e\"],[0.4444444444444444,\"#bd3786\"],[0.5555555555555556,\"#d8576b\"],[0.6666666666666666,\"#ed7953\"],[0.7777777777777778,\"#fb9f3a\"],[0.8888888888888888,\"#fdca26\"],[1.0,\"#f0f921\"]],\"type\":\"heatmapgl\"}],\"histogram\":[{\"marker\":{\"pattern\":{\"fillmode\":\"overlay\",\"size\":10,\"solidity\":0.2}},\"type\":\"histogram\"}],\"histogram2d\":[{\"colorbar\":{\"outlinewidth\":0,\"ticks\":\"\"},\"colorscale\":[[0.0,\"#0d0887\"],[0.1111111111111111,\"#46039f\"],[0.2222222222222222,\"#7201a8\"],[0.3333333333333333,\"#9c179e\"],[0.4444444444444444,\"#bd3786\"],[0.5555555555555556,\"#d8576b\"],[0.6666666666666666,\"#ed7953\"],[0.7777777777777778,\"#fb9f3a\"],[0.8888888888888888,\"#fdca26\"],[1.0,\"#f0f921\"]],\"type\":\"histogram2d\"}],\"histogram2dcontour\":[{\"colorbar\":{\"outlinewidth\":0,\"ticks\":\"\"},\"colorscale\":[[0.0,\"#0d0887\"],[0.1111111111111111,\"#46039f\"],[0.2222222222222222,\"#7201a8\"],[0.3333333333333333,\"#9c179e\"],[0.4444444444444444,\"#bd3786\"],[0.5555555555555556,\"#d8576b\"],[0.6666666666666666,\"#ed7953\"],[0.7777777777777778,\"#fb9f3a\"],[0.8888888888888888,\"#fdca26\"],[1.0,\"#f0f921\"]],\"type\":\"histogram2dcontour\"}],\"mesh3d\":[{\"colorbar\":{\"outlinewidth\":0,\"ticks\":\"\"},\"type\":\"mesh3d\"}],\"parcoords\":[{\"line\":{\"colorbar\":{\"outlinewidth\":0,\"ticks\":\"\"}},\"type\":\"parcoords\"}],\"pie\":[{\"automargin\":true,\"type\":\"pie\"}],\"scatter\":[{\"marker\":{\"colorbar\":{\"outlinewidth\":0,\"ticks\":\"\"}},\"type\":\"scatter\"}],\"scatter3d\":[{\"line\":{\"colorbar\":{\"outlinewidth\":0,\"ticks\":\"\"}},\"marker\":{\"colorbar\":{\"outlinewidth\":0,\"ticks\":\"\"}},\"type\":\"scatter3d\"}],\"scattercarpet\":[{\"marker\":{\"colorbar\":{\"outlinewidth\":0,\"ticks\":\"\"}},\"type\":\"scattercarpet\"}],\"scattergeo\":[{\"marker\":{\"colorbar\":{\"outlinewidth\":0,\"ticks\":\"\"}},\"type\":\"scattergeo\"}],\"scattergl\":[{\"marker\":{\"colorbar\":{\"outlinewidth\":0,\"ticks\":\"\"}},\"type\":\"scattergl\"}],\"scattermapbox\":[{\"marker\":{\"colorbar\":{\"outlinewidth\":0,\"ticks\":\"\"}},\"type\":\"scattermapbox\"}],\"scatterpolar\":[{\"marker\":{\"colorbar\":{\"outlinewidth\":0,\"ticks\":\"\"}},\"type\":\"scatterpolar\"}],\"scatterpolargl\":[{\"marker\":{\"colorbar\":{\"outlinewidth\":0,\"ticks\":\"\"}},\"type\":\"scatterpolargl\"}],\"scatterternary\":[{\"marker\":{\"colorbar\":{\"outlinewidth\":0,\"ticks\":\"\"}},\"type\":\"scatterternary\"}],\"surface\":[{\"colorbar\":{\"outlinewidth\":0,\"ticks\":\"\"},\"colorscale\":[[0.0,\"#0d0887\"],[0.1111111111111111,\"#46039f\"],[0.2222222222222222,\"#7201a8\"],[0.3333333333333333,\"#9c179e\"],[0.4444444444444444,\"#bd3786\"],[0.5555555555555556,\"#d8576b\"],[0.6666666666666666,\"#ed7953\"],[0.7777777777777778,\"#fb9f3a\"],[0.8888888888888888,\"#fdca26\"],[1.0,\"#f0f921\"]],\"type\":\"surface\"}],\"table\":[{\"cells\":{\"fill\":{\"color\":\"#EBF0F8\"},\"line\":{\"color\":\"white\"}},\"header\":{\"fill\":{\"color\":\"#C8D4E3\"},\"line\":{\"color\":\"white\"}},\"type\":\"table\"}]},\"layout\":{\"annotationdefaults\":{\"arrowcolor\":\"#2a3f5f\",\"arrowhead\":0,\"arrowwidth\":1},\"autotypenumbers\":\"strict\",\"coloraxis\":{\"colorbar\":{\"outlinewidth\":0,\"ticks\":\"\"}},\"colorscale\":{\"diverging\":[[0,\"#8e0152\"],[0.1,\"#c51b7d\"],[0.2,\"#de77ae\"],[0.3,\"#f1b6da\"],[0.4,\"#fde0ef\"],[0.5,\"#f7f7f7\"],[0.6,\"#e6f5d0\"],[0.7,\"#b8e186\"],[0.8,\"#7fbc41\"],[0.9,\"#4d9221\"],[1,\"#276419\"]],\"sequential\":[[0.0,\"#0d0887\"],[0.1111111111111111,\"#46039f\"],[0.2222222222222222,\"#7201a8\"],[0.3333333333333333,\"#9c179e\"],[0.4444444444444444,\"#bd3786\"],[0.5555555555555556,\"#d8576b\"],[0.6666666666666666,\"#ed7953\"],[0.7777777777777778,\"#fb9f3a\"],[0.8888888888888888,\"#fdca26\"],[1.0,\"#f0f921\"]],\"sequentialminus\":[[0.0,\"#0d0887\"],[0.1111111111111111,\"#46039f\"],[0.2222222222222222,\"#7201a8\"],[0.3333333333333333,\"#9c179e\"],[0.4444444444444444,\"#bd3786\"],[0.5555555555555556,\"#d8576b\"],[0.6666666666666666,\"#ed7953\"],[0.7777777777777778,\"#fb9f3a\"],[0.8888888888888888,\"#fdca26\"],[1.0,\"#f0f921\"]]},\"colorway\":[\"#636efa\",\"#EF553B\",\"#00cc96\",\"#ab63fa\",\"#FFA15A\",\"#19d3f3\",\"#FF6692\",\"#B6E880\",\"#FF97FF\",\"#FECB52\"],\"font\":{\"color\":\"#2a3f5f\"},\"geo\":{\"bgcolor\":\"white\",\"lakecolor\":\"white\",\"landcolor\":\"#E5ECF6\",\"showlakes\":true,\"showland\":true,\"subunitcolor\":\"white\"},\"hoverlabel\":{\"align\":\"left\"},\"hovermode\":\"closest\",\"mapbox\":{\"style\":\"light\"},\"paper_bgcolor\":\"white\",\"plot_bgcolor\":\"#E5ECF6\",\"polar\":{\"angularaxis\":{\"gridcolor\":\"white\",\"linecolor\":\"white\",\"ticks\":\"\"},\"bgcolor\":\"#E5ECF6\",\"radialaxis\":{\"gridcolor\":\"white\",\"linecolor\":\"white\",\"ticks\":\"\"}},\"scene\":{\"xaxis\":{\"backgroundcolor\":\"#E5ECF6\",\"gridcolor\":\"white\",\"gridwidth\":2,\"linecolor\":\"white\",\"showbackground\":true,\"ticks\":\"\",\"zerolinecolor\":\"white\"},\"yaxis\":{\"backgroundcolor\":\"#E5ECF6\",\"gridcolor\":\"white\",\"gridwidth\":2,\"linecolor\":\"white\",\"showbackground\":true,\"ticks\":\"\",\"zerolinecolor\":\"white\"},\"zaxis\":{\"backgroundcolor\":\"#E5ECF6\",\"gridcolor\":\"white\",\"gridwidth\":2,\"linecolor\":\"white\",\"showbackground\":true,\"ticks\":\"\",\"zerolinecolor\":\"white\"}},\"shapedefaults\":{\"line\":{\"color\":\"#2a3f5f\"}},\"ternary\":{\"aaxis\":{\"gridcolor\":\"white\",\"linecolor\":\"white\",\"ticks\":\"\"},\"baxis\":{\"gridcolor\":\"white\",\"linecolor\":\"white\",\"ticks\":\"\"},\"bgcolor\":\"#E5ECF6\",\"caxis\":{\"gridcolor\":\"white\",\"linecolor\":\"white\",\"ticks\":\"\"}},\"title\":{\"x\":0.05},\"xaxis\":{\"automargin\":true,\"gridcolor\":\"white\",\"linecolor\":\"white\",\"ticks\":\"\",\"title\":{\"standoff\":15},\"zerolinecolor\":\"white\",\"zerolinewidth\":2},\"yaxis\":{\"automargin\":true,\"gridcolor\":\"white\",\"linecolor\":\"white\",\"ticks\":\"\",\"title\":{\"standoff\":15},\"zerolinecolor\":\"white\",\"zerolinewidth\":2}}},\"xaxis\":{\"anchor\":\"y\",\"domain\":[0.0,1.0],\"title\":{\"text\":\"part\"}},\"yaxis\":{\"anchor\":\"x\",\"domain\":[0.0,1.0],\"title\":{\"text\":\"event_name\"}},\"legend\":{\"title\":{\"text\":\"group\"},\"tracegroupgap\":0},\"margin\":{\"t\":60},\"title\":{\"text\":\"\\u041a\\u043e\\u043d\\u0432\\u0435\\u0440\\u0441\\u0438\\u044f \\u043f\\u043e\\u043b\\u044c\\u0437\\u043e\\u0432\\u0430\\u0442\\u0435\\u043b\\u0435\\u0439 \\u043d\\u0430 \\u0440\\u0430\\u0437\\u043d\\u044b\\u0445 \\u044d\\u0442\\u0430\\u043f\\u0430\\u0445 \\u0441\\u043e\\u0431\\u044b\\u0442\\u0438\\u0439 \\u0432 \\u0440\\u0430\\u0437\\u0440\\u0435\\u0437\\u0435 \\u0433\\u0440\\u0443\\u043f\\u043f\",\"x\":0.5}},                        {\"responsive\": true}                    ).then(function(){\n",
       "                            \n",
       "var gd = document.getElementById('92491330-13cc-49a3-81a8-db282862eeb5');\n",
       "var x = new MutationObserver(function (mutations, observer) {{\n",
       "        var display = window.getComputedStyle(gd).display;\n",
       "        if (!display || display === 'none') {{\n",
       "            console.log([gd, 'removed!']);\n",
       "            Plotly.purge(gd);\n",
       "            observer.disconnect();\n",
       "        }}\n",
       "}});\n",
       "\n",
       "// Listen for the removal of the full notebook cells\n",
       "var notebookContainer = gd.closest('#notebook-container');\n",
       "if (notebookContainer) {{\n",
       "    x.observe(notebookContainer, {childList: true});\n",
       "}}\n",
       "\n",
       "// Listen for the clearing of the current output cell\n",
       "var outputEl = gd.closest('.output');\n",
       "if (outputEl) {{\n",
       "    x.observe(outputEl, {childList: true});\n",
       "}}\n",
       "\n",
       "                        })                };                });            </script>        </div>"
      ]
     },
     "metadata": {},
     "output_type": "display_data"
    }
   ],
   "source": [
    "# Визуализируем полученные данные\n",
    "fig = px.funnel(events_for_conversion, x=events_for_conversion['part'], y='event_name', color='group')\n",
    "fig.update_layout(title='Конверсия пользователей на разных этапах событий в разрезе групп', title_x = 0.5)\n",
    "fig.show()"
   ]
  },
  {
   "cell_type": "markdown",
   "metadata": {},
   "source": [
    "*Вывод по воронке событий:*\n",
    "\n",
    "*Ожидаемый эффект (за 14 дней с момента регистрации пользователи покажут улучшение каждой метрики не менее, чем на 10%) достигнут не был. \n",
    "Конверсия в просмотр карточек товаров (product_page) снизилась на 9 %, в просмотры корзины (product_cart) снизилась на 2 %,\n",
    "в покупки (purchase) также снизилась на 4 %*."
   ]
  },
  {
   "cell_type": "markdown",
   "metadata": {},
   "source": [
    "###  Распределение событий по дням"
   ]
  },
  {
   "cell_type": "code",
   "execution_count": 282,
   "metadata": {},
   "outputs": [],
   "source": [
    "#Подготовка датафреймов\n",
    "#Группа A\n",
    "test_filtered_group_a_event_date = test_filtered_a.pivot_table(index=['event_name', 'event_dt'], values='user_id', aggfunc='count')\n",
    "test_filtered_group_a_event_date = test_filtered_group_a_event_date.reset_index()\n",
    "#Группа B\n",
    "test_filtered_group_b_event_date = test_filtered_b.pivot_table(index=['event_name', 'event_dt'], values='user_id', aggfunc='count')\n",
    "test_filtered_group_b_event_date = test_filtered_group_b_event_date.reset_index()"
   ]
  },
  {
   "cell_type": "code",
   "execution_count": 283,
   "metadata": {},
   "outputs": [
    {
     "data": {
      "application/vnd.plotly.v1+json": {
       "config": {
        "plotlyServerURL": "https://plot.ly"
       },
       "data": [
        {
         "alignmentgroup": "True",
         "hovertemplate": "event_name=login<br>event_dt=%{x}<br>user_id=%{y}<extra></extra>",
         "legendgroup": "login",
         "marker": {
          "color": "#636efa",
          "pattern": {
           "shape": ""
          }
         },
         "name": "login",
         "offsetgroup": "login",
         "orientation": "v",
         "showlegend": true,
         "textposition": "auto",
         "type": "bar",
         "x": [
          "2020-12-07",
          "2020-12-08",
          "2020-12-09",
          "2020-12-10",
          "2020-12-11",
          "2020-12-12",
          "2020-12-13",
          "2020-12-14",
          "2020-12-15",
          "2020-12-16",
          "2020-12-17",
          "2020-12-18",
          "2020-12-19",
          "2020-12-20",
          "2020-12-21",
          "2020-12-22",
          "2020-12-23",
          "2020-12-24",
          "2020-12-25",
          "2020-12-26",
          "2020-12-27",
          "2020-12-28",
          "2020-12-29"
         ],
         "xaxis": "x",
         "y": [
          148,
          146,
          171,
          156,
          176,
          168,
          154,
          461,
          452,
          442,
          520,
          543,
          617,
          627,
          830,
          542,
          418,
          339,
          261,
          230,
          220,
          166,
          120
         ],
         "yaxis": "y"
        },
        {
         "alignmentgroup": "True",
         "hovertemplate": "event_name=product_cart<br>event_dt=%{x}<br>user_id=%{y}<extra></extra>",
         "legendgroup": "product_cart",
         "marker": {
          "color": "#EF553B",
          "pattern": {
           "shape": ""
          }
         },
         "name": "product_cart",
         "offsetgroup": "product_cart",
         "orientation": "v",
         "showlegend": true,
         "textposition": "auto",
         "type": "bar",
         "x": [
          "2020-12-07",
          "2020-12-08",
          "2020-12-09",
          "2020-12-10",
          "2020-12-11",
          "2020-12-12",
          "2020-12-13",
          "2020-12-14",
          "2020-12-15",
          "2020-12-16",
          "2020-12-17",
          "2020-12-18",
          "2020-12-19",
          "2020-12-20",
          "2020-12-21",
          "2020-12-22",
          "2020-12-23",
          "2020-12-24",
          "2020-12-25",
          "2020-12-26",
          "2020-12-27",
          "2020-12-28",
          "2020-12-29"
         ],
         "xaxis": "x",
         "y": [
          35,
          36,
          50,
          45,
          44,
          47,
          34,
          136,
          155,
          138,
          177,
          166,
          200,
          194,
          233,
          151,
          121,
          109,
          69,
          66,
          66,
          52,
          37
         ],
         "yaxis": "y"
        },
        {
         "alignmentgroup": "True",
         "hovertemplate": "event_name=product_page<br>event_dt=%{x}<br>user_id=%{y}<extra></extra>",
         "legendgroup": "product_page",
         "marker": {
          "color": "#00cc96",
          "pattern": {
           "shape": ""
          }
         },
         "name": "product_page",
         "offsetgroup": "product_page",
         "orientation": "v",
         "showlegend": true,
         "textposition": "auto",
         "type": "bar",
         "x": [
          "2020-12-07",
          "2020-12-08",
          "2020-12-09",
          "2020-12-10",
          "2020-12-11",
          "2020-12-12",
          "2020-12-13",
          "2020-12-14",
          "2020-12-15",
          "2020-12-16",
          "2020-12-17",
          "2020-12-18",
          "2020-12-19",
          "2020-12-20",
          "2020-12-21",
          "2020-12-22",
          "2020-12-23",
          "2020-12-24",
          "2020-12-25",
          "2020-12-26",
          "2020-12-27",
          "2020-12-28",
          "2020-12-29"
         ],
         "xaxis": "x",
         "y": [
          92,
          98,
          103,
          88,
          96,
          93,
          88,
          285,
          286,
          285,
          334,
          370,
          405,
          402,
          544,
          353,
          268,
          236,
          171,
          158,
          143,
          107,
          77
         ],
         "yaxis": "y"
        },
        {
         "alignmentgroup": "True",
         "hovertemplate": "event_name=purchase<br>event_dt=%{x}<br>user_id=%{y}<extra></extra>",
         "legendgroup": "purchase",
         "marker": {
          "color": "#ab63fa",
          "pattern": {
           "shape": ""
          }
         },
         "name": "purchase",
         "offsetgroup": "purchase",
         "orientation": "v",
         "showlegend": true,
         "textposition": "auto",
         "type": "bar",
         "x": [
          "2020-12-07",
          "2020-12-08",
          "2020-12-09",
          "2020-12-10",
          "2020-12-11",
          "2020-12-12",
          "2020-12-13",
          "2020-12-14",
          "2020-12-15",
          "2020-12-16",
          "2020-12-17",
          "2020-12-18",
          "2020-12-19",
          "2020-12-20",
          "2020-12-21",
          "2020-12-22",
          "2020-12-23",
          "2020-12-24",
          "2020-12-25",
          "2020-12-26",
          "2020-12-27",
          "2020-12-28",
          "2020-12-29"
         ],
         "xaxis": "x",
         "y": [
          43,
          33,
          47,
          42,
          40,
          38,
          32,
          133,
          137,
          142,
          169,
          165,
          208,
          211,
          281,
          162,
          135,
          116,
          97,
          87,
          77,
          56,
          34
         ],
         "yaxis": "y"
        }
       ],
       "layout": {
        "barmode": "relative",
        "legend": {
         "title": {
          "text": "event_name"
         },
         "tracegroupgap": 0
        },
        "margin": {
         "t": 60
        },
        "template": {
         "data": {
          "bar": [
           {
            "error_x": {
             "color": "#2a3f5f"
            },
            "error_y": {
             "color": "#2a3f5f"
            },
            "marker": {
             "line": {
              "color": "#E5ECF6",
              "width": 0.5
             },
             "pattern": {
              "fillmode": "overlay",
              "size": 10,
              "solidity": 0.2
             }
            },
            "type": "bar"
           }
          ],
          "barpolar": [
           {
            "marker": {
             "line": {
              "color": "#E5ECF6",
              "width": 0.5
             },
             "pattern": {
              "fillmode": "overlay",
              "size": 10,
              "solidity": 0.2
             }
            },
            "type": "barpolar"
           }
          ],
          "carpet": [
           {
            "aaxis": {
             "endlinecolor": "#2a3f5f",
             "gridcolor": "white",
             "linecolor": "white",
             "minorgridcolor": "white",
             "startlinecolor": "#2a3f5f"
            },
            "baxis": {
             "endlinecolor": "#2a3f5f",
             "gridcolor": "white",
             "linecolor": "white",
             "minorgridcolor": "white",
             "startlinecolor": "#2a3f5f"
            },
            "type": "carpet"
           }
          ],
          "choropleth": [
           {
            "colorbar": {
             "outlinewidth": 0,
             "ticks": ""
            },
            "type": "choropleth"
           }
          ],
          "contour": [
           {
            "colorbar": {
             "outlinewidth": 0,
             "ticks": ""
            },
            "colorscale": [
             [
              0,
              "#0d0887"
             ],
             [
              0.1111111111111111,
              "#46039f"
             ],
             [
              0.2222222222222222,
              "#7201a8"
             ],
             [
              0.3333333333333333,
              "#9c179e"
             ],
             [
              0.4444444444444444,
              "#bd3786"
             ],
             [
              0.5555555555555556,
              "#d8576b"
             ],
             [
              0.6666666666666666,
              "#ed7953"
             ],
             [
              0.7777777777777778,
              "#fb9f3a"
             ],
             [
              0.8888888888888888,
              "#fdca26"
             ],
             [
              1,
              "#f0f921"
             ]
            ],
            "type": "contour"
           }
          ],
          "contourcarpet": [
           {
            "colorbar": {
             "outlinewidth": 0,
             "ticks": ""
            },
            "type": "contourcarpet"
           }
          ],
          "heatmap": [
           {
            "colorbar": {
             "outlinewidth": 0,
             "ticks": ""
            },
            "colorscale": [
             [
              0,
              "#0d0887"
             ],
             [
              0.1111111111111111,
              "#46039f"
             ],
             [
              0.2222222222222222,
              "#7201a8"
             ],
             [
              0.3333333333333333,
              "#9c179e"
             ],
             [
              0.4444444444444444,
              "#bd3786"
             ],
             [
              0.5555555555555556,
              "#d8576b"
             ],
             [
              0.6666666666666666,
              "#ed7953"
             ],
             [
              0.7777777777777778,
              "#fb9f3a"
             ],
             [
              0.8888888888888888,
              "#fdca26"
             ],
             [
              1,
              "#f0f921"
             ]
            ],
            "type": "heatmap"
           }
          ],
          "heatmapgl": [
           {
            "colorbar": {
             "outlinewidth": 0,
             "ticks": ""
            },
            "colorscale": [
             [
              0,
              "#0d0887"
             ],
             [
              0.1111111111111111,
              "#46039f"
             ],
             [
              0.2222222222222222,
              "#7201a8"
             ],
             [
              0.3333333333333333,
              "#9c179e"
             ],
             [
              0.4444444444444444,
              "#bd3786"
             ],
             [
              0.5555555555555556,
              "#d8576b"
             ],
             [
              0.6666666666666666,
              "#ed7953"
             ],
             [
              0.7777777777777778,
              "#fb9f3a"
             ],
             [
              0.8888888888888888,
              "#fdca26"
             ],
             [
              1,
              "#f0f921"
             ]
            ],
            "type": "heatmapgl"
           }
          ],
          "histogram": [
           {
            "marker": {
             "pattern": {
              "fillmode": "overlay",
              "size": 10,
              "solidity": 0.2
             }
            },
            "type": "histogram"
           }
          ],
          "histogram2d": [
           {
            "colorbar": {
             "outlinewidth": 0,
             "ticks": ""
            },
            "colorscale": [
             [
              0,
              "#0d0887"
             ],
             [
              0.1111111111111111,
              "#46039f"
             ],
             [
              0.2222222222222222,
              "#7201a8"
             ],
             [
              0.3333333333333333,
              "#9c179e"
             ],
             [
              0.4444444444444444,
              "#bd3786"
             ],
             [
              0.5555555555555556,
              "#d8576b"
             ],
             [
              0.6666666666666666,
              "#ed7953"
             ],
             [
              0.7777777777777778,
              "#fb9f3a"
             ],
             [
              0.8888888888888888,
              "#fdca26"
             ],
             [
              1,
              "#f0f921"
             ]
            ],
            "type": "histogram2d"
           }
          ],
          "histogram2dcontour": [
           {
            "colorbar": {
             "outlinewidth": 0,
             "ticks": ""
            },
            "colorscale": [
             [
              0,
              "#0d0887"
             ],
             [
              0.1111111111111111,
              "#46039f"
             ],
             [
              0.2222222222222222,
              "#7201a8"
             ],
             [
              0.3333333333333333,
              "#9c179e"
             ],
             [
              0.4444444444444444,
              "#bd3786"
             ],
             [
              0.5555555555555556,
              "#d8576b"
             ],
             [
              0.6666666666666666,
              "#ed7953"
             ],
             [
              0.7777777777777778,
              "#fb9f3a"
             ],
             [
              0.8888888888888888,
              "#fdca26"
             ],
             [
              1,
              "#f0f921"
             ]
            ],
            "type": "histogram2dcontour"
           }
          ],
          "mesh3d": [
           {
            "colorbar": {
             "outlinewidth": 0,
             "ticks": ""
            },
            "type": "mesh3d"
           }
          ],
          "parcoords": [
           {
            "line": {
             "colorbar": {
              "outlinewidth": 0,
              "ticks": ""
             }
            },
            "type": "parcoords"
           }
          ],
          "pie": [
           {
            "automargin": true,
            "type": "pie"
           }
          ],
          "scatter": [
           {
            "marker": {
             "colorbar": {
              "outlinewidth": 0,
              "ticks": ""
             }
            },
            "type": "scatter"
           }
          ],
          "scatter3d": [
           {
            "line": {
             "colorbar": {
              "outlinewidth": 0,
              "ticks": ""
             }
            },
            "marker": {
             "colorbar": {
              "outlinewidth": 0,
              "ticks": ""
             }
            },
            "type": "scatter3d"
           }
          ],
          "scattercarpet": [
           {
            "marker": {
             "colorbar": {
              "outlinewidth": 0,
              "ticks": ""
             }
            },
            "type": "scattercarpet"
           }
          ],
          "scattergeo": [
           {
            "marker": {
             "colorbar": {
              "outlinewidth": 0,
              "ticks": ""
             }
            },
            "type": "scattergeo"
           }
          ],
          "scattergl": [
           {
            "marker": {
             "colorbar": {
              "outlinewidth": 0,
              "ticks": ""
             }
            },
            "type": "scattergl"
           }
          ],
          "scattermapbox": [
           {
            "marker": {
             "colorbar": {
              "outlinewidth": 0,
              "ticks": ""
             }
            },
            "type": "scattermapbox"
           }
          ],
          "scatterpolar": [
           {
            "marker": {
             "colorbar": {
              "outlinewidth": 0,
              "ticks": ""
             }
            },
            "type": "scatterpolar"
           }
          ],
          "scatterpolargl": [
           {
            "marker": {
             "colorbar": {
              "outlinewidth": 0,
              "ticks": ""
             }
            },
            "type": "scatterpolargl"
           }
          ],
          "scatterternary": [
           {
            "marker": {
             "colorbar": {
              "outlinewidth": 0,
              "ticks": ""
             }
            },
            "type": "scatterternary"
           }
          ],
          "surface": [
           {
            "colorbar": {
             "outlinewidth": 0,
             "ticks": ""
            },
            "colorscale": [
             [
              0,
              "#0d0887"
             ],
             [
              0.1111111111111111,
              "#46039f"
             ],
             [
              0.2222222222222222,
              "#7201a8"
             ],
             [
              0.3333333333333333,
              "#9c179e"
             ],
             [
              0.4444444444444444,
              "#bd3786"
             ],
             [
              0.5555555555555556,
              "#d8576b"
             ],
             [
              0.6666666666666666,
              "#ed7953"
             ],
             [
              0.7777777777777778,
              "#fb9f3a"
             ],
             [
              0.8888888888888888,
              "#fdca26"
             ],
             [
              1,
              "#f0f921"
             ]
            ],
            "type": "surface"
           }
          ],
          "table": [
           {
            "cells": {
             "fill": {
              "color": "#EBF0F8"
             },
             "line": {
              "color": "white"
             }
            },
            "header": {
             "fill": {
              "color": "#C8D4E3"
             },
             "line": {
              "color": "white"
             }
            },
            "type": "table"
           }
          ]
         },
         "layout": {
          "annotationdefaults": {
           "arrowcolor": "#2a3f5f",
           "arrowhead": 0,
           "arrowwidth": 1
          },
          "autotypenumbers": "strict",
          "coloraxis": {
           "colorbar": {
            "outlinewidth": 0,
            "ticks": ""
           }
          },
          "colorscale": {
           "diverging": [
            [
             0,
             "#8e0152"
            ],
            [
             0.1,
             "#c51b7d"
            ],
            [
             0.2,
             "#de77ae"
            ],
            [
             0.3,
             "#f1b6da"
            ],
            [
             0.4,
             "#fde0ef"
            ],
            [
             0.5,
             "#f7f7f7"
            ],
            [
             0.6,
             "#e6f5d0"
            ],
            [
             0.7,
             "#b8e186"
            ],
            [
             0.8,
             "#7fbc41"
            ],
            [
             0.9,
             "#4d9221"
            ],
            [
             1,
             "#276419"
            ]
           ],
           "sequential": [
            [
             0,
             "#0d0887"
            ],
            [
             0.1111111111111111,
             "#46039f"
            ],
            [
             0.2222222222222222,
             "#7201a8"
            ],
            [
             0.3333333333333333,
             "#9c179e"
            ],
            [
             0.4444444444444444,
             "#bd3786"
            ],
            [
             0.5555555555555556,
             "#d8576b"
            ],
            [
             0.6666666666666666,
             "#ed7953"
            ],
            [
             0.7777777777777778,
             "#fb9f3a"
            ],
            [
             0.8888888888888888,
             "#fdca26"
            ],
            [
             1,
             "#f0f921"
            ]
           ],
           "sequentialminus": [
            [
             0,
             "#0d0887"
            ],
            [
             0.1111111111111111,
             "#46039f"
            ],
            [
             0.2222222222222222,
             "#7201a8"
            ],
            [
             0.3333333333333333,
             "#9c179e"
            ],
            [
             0.4444444444444444,
             "#bd3786"
            ],
            [
             0.5555555555555556,
             "#d8576b"
            ],
            [
             0.6666666666666666,
             "#ed7953"
            ],
            [
             0.7777777777777778,
             "#fb9f3a"
            ],
            [
             0.8888888888888888,
             "#fdca26"
            ],
            [
             1,
             "#f0f921"
            ]
           ]
          },
          "colorway": [
           "#636efa",
           "#EF553B",
           "#00cc96",
           "#ab63fa",
           "#FFA15A",
           "#19d3f3",
           "#FF6692",
           "#B6E880",
           "#FF97FF",
           "#FECB52"
          ],
          "font": {
           "color": "#2a3f5f"
          },
          "geo": {
           "bgcolor": "white",
           "lakecolor": "white",
           "landcolor": "#E5ECF6",
           "showlakes": true,
           "showland": true,
           "subunitcolor": "white"
          },
          "hoverlabel": {
           "align": "left"
          },
          "hovermode": "closest",
          "mapbox": {
           "style": "light"
          },
          "paper_bgcolor": "white",
          "plot_bgcolor": "#E5ECF6",
          "polar": {
           "angularaxis": {
            "gridcolor": "white",
            "linecolor": "white",
            "ticks": ""
           },
           "bgcolor": "#E5ECF6",
           "radialaxis": {
            "gridcolor": "white",
            "linecolor": "white",
            "ticks": ""
           }
          },
          "scene": {
           "xaxis": {
            "backgroundcolor": "#E5ECF6",
            "gridcolor": "white",
            "gridwidth": 2,
            "linecolor": "white",
            "showbackground": true,
            "ticks": "",
            "zerolinecolor": "white"
           },
           "yaxis": {
            "backgroundcolor": "#E5ECF6",
            "gridcolor": "white",
            "gridwidth": 2,
            "linecolor": "white",
            "showbackground": true,
            "ticks": "",
            "zerolinecolor": "white"
           },
           "zaxis": {
            "backgroundcolor": "#E5ECF6",
            "gridcolor": "white",
            "gridwidth": 2,
            "linecolor": "white",
            "showbackground": true,
            "ticks": "",
            "zerolinecolor": "white"
           }
          },
          "shapedefaults": {
           "line": {
            "color": "#2a3f5f"
           }
          },
          "ternary": {
           "aaxis": {
            "gridcolor": "white",
            "linecolor": "white",
            "ticks": ""
           },
           "baxis": {
            "gridcolor": "white",
            "linecolor": "white",
            "ticks": ""
           },
           "bgcolor": "#E5ECF6",
           "caxis": {
            "gridcolor": "white",
            "linecolor": "white",
            "ticks": ""
           }
          },
          "title": {
           "x": 0.05
          },
          "xaxis": {
           "automargin": true,
           "gridcolor": "white",
           "linecolor": "white",
           "ticks": "",
           "title": {
            "standoff": 15
           },
           "zerolinecolor": "white",
           "zerolinewidth": 2
          },
          "yaxis": {
           "automargin": true,
           "gridcolor": "white",
           "linecolor": "white",
           "ticks": "",
           "title": {
            "standoff": 15
           },
           "zerolinecolor": "white",
           "zerolinewidth": 2
          }
         }
        },
        "title": {
         "text": "События по дням группа А"
        },
        "xaxis": {
         "anchor": "y",
         "domain": [
          0,
          1
         ],
         "title": {
          "text": "event_dt"
         }
        },
        "yaxis": {
         "anchor": "x",
         "domain": [
          0,
          1
         ],
         "title": {
          "text": "user_id"
         }
        }
       }
      },
      "text/html": [
       "<div>                            <div id=\"7e596314-f986-4500-b927-1f382974aeef\" class=\"plotly-graph-div\" style=\"height:525px; width:100%;\"></div>            <script type=\"text/javascript\">                require([\"plotly\"], function(Plotly) {                    window.PLOTLYENV=window.PLOTLYENV || {};                                    if (document.getElementById(\"7e596314-f986-4500-b927-1f382974aeef\")) {                    Plotly.newPlot(                        \"7e596314-f986-4500-b927-1f382974aeef\",                        [{\"alignmentgroup\":\"True\",\"hovertemplate\":\"event_name=login<br>event_dt=%{x}<br>user_id=%{y}<extra></extra>\",\"legendgroup\":\"login\",\"marker\":{\"color\":\"#636efa\",\"pattern\":{\"shape\":\"\"}},\"name\":\"login\",\"offsetgroup\":\"login\",\"orientation\":\"v\",\"showlegend\":true,\"textposition\":\"auto\",\"x\":[\"2020-12-07\",\"2020-12-08\",\"2020-12-09\",\"2020-12-10\",\"2020-12-11\",\"2020-12-12\",\"2020-12-13\",\"2020-12-14\",\"2020-12-15\",\"2020-12-16\",\"2020-12-17\",\"2020-12-18\",\"2020-12-19\",\"2020-12-20\",\"2020-12-21\",\"2020-12-22\",\"2020-12-23\",\"2020-12-24\",\"2020-12-25\",\"2020-12-26\",\"2020-12-27\",\"2020-12-28\",\"2020-12-29\"],\"xaxis\":\"x\",\"y\":[148,146,171,156,176,168,154,461,452,442,520,543,617,627,830,542,418,339,261,230,220,166,120],\"yaxis\":\"y\",\"type\":\"bar\"},{\"alignmentgroup\":\"True\",\"hovertemplate\":\"event_name=product_cart<br>event_dt=%{x}<br>user_id=%{y}<extra></extra>\",\"legendgroup\":\"product_cart\",\"marker\":{\"color\":\"#EF553B\",\"pattern\":{\"shape\":\"\"}},\"name\":\"product_cart\",\"offsetgroup\":\"product_cart\",\"orientation\":\"v\",\"showlegend\":true,\"textposition\":\"auto\",\"x\":[\"2020-12-07\",\"2020-12-08\",\"2020-12-09\",\"2020-12-10\",\"2020-12-11\",\"2020-12-12\",\"2020-12-13\",\"2020-12-14\",\"2020-12-15\",\"2020-12-16\",\"2020-12-17\",\"2020-12-18\",\"2020-12-19\",\"2020-12-20\",\"2020-12-21\",\"2020-12-22\",\"2020-12-23\",\"2020-12-24\",\"2020-12-25\",\"2020-12-26\",\"2020-12-27\",\"2020-12-28\",\"2020-12-29\"],\"xaxis\":\"x\",\"y\":[35,36,50,45,44,47,34,136,155,138,177,166,200,194,233,151,121,109,69,66,66,52,37],\"yaxis\":\"y\",\"type\":\"bar\"},{\"alignmentgroup\":\"True\",\"hovertemplate\":\"event_name=product_page<br>event_dt=%{x}<br>user_id=%{y}<extra></extra>\",\"legendgroup\":\"product_page\",\"marker\":{\"color\":\"#00cc96\",\"pattern\":{\"shape\":\"\"}},\"name\":\"product_page\",\"offsetgroup\":\"product_page\",\"orientation\":\"v\",\"showlegend\":true,\"textposition\":\"auto\",\"x\":[\"2020-12-07\",\"2020-12-08\",\"2020-12-09\",\"2020-12-10\",\"2020-12-11\",\"2020-12-12\",\"2020-12-13\",\"2020-12-14\",\"2020-12-15\",\"2020-12-16\",\"2020-12-17\",\"2020-12-18\",\"2020-12-19\",\"2020-12-20\",\"2020-12-21\",\"2020-12-22\",\"2020-12-23\",\"2020-12-24\",\"2020-12-25\",\"2020-12-26\",\"2020-12-27\",\"2020-12-28\",\"2020-12-29\"],\"xaxis\":\"x\",\"y\":[92,98,103,88,96,93,88,285,286,285,334,370,405,402,544,353,268,236,171,158,143,107,77],\"yaxis\":\"y\",\"type\":\"bar\"},{\"alignmentgroup\":\"True\",\"hovertemplate\":\"event_name=purchase<br>event_dt=%{x}<br>user_id=%{y}<extra></extra>\",\"legendgroup\":\"purchase\",\"marker\":{\"color\":\"#ab63fa\",\"pattern\":{\"shape\":\"\"}},\"name\":\"purchase\",\"offsetgroup\":\"purchase\",\"orientation\":\"v\",\"showlegend\":true,\"textposition\":\"auto\",\"x\":[\"2020-12-07\",\"2020-12-08\",\"2020-12-09\",\"2020-12-10\",\"2020-12-11\",\"2020-12-12\",\"2020-12-13\",\"2020-12-14\",\"2020-12-15\",\"2020-12-16\",\"2020-12-17\",\"2020-12-18\",\"2020-12-19\",\"2020-12-20\",\"2020-12-21\",\"2020-12-22\",\"2020-12-23\",\"2020-12-24\",\"2020-12-25\",\"2020-12-26\",\"2020-12-27\",\"2020-12-28\",\"2020-12-29\"],\"xaxis\":\"x\",\"y\":[43,33,47,42,40,38,32,133,137,142,169,165,208,211,281,162,135,116,97,87,77,56,34],\"yaxis\":\"y\",\"type\":\"bar\"}],                        {\"template\":{\"data\":{\"bar\":[{\"error_x\":{\"color\":\"#2a3f5f\"},\"error_y\":{\"color\":\"#2a3f5f\"},\"marker\":{\"line\":{\"color\":\"#E5ECF6\",\"width\":0.5},\"pattern\":{\"fillmode\":\"overlay\",\"size\":10,\"solidity\":0.2}},\"type\":\"bar\"}],\"barpolar\":[{\"marker\":{\"line\":{\"color\":\"#E5ECF6\",\"width\":0.5},\"pattern\":{\"fillmode\":\"overlay\",\"size\":10,\"solidity\":0.2}},\"type\":\"barpolar\"}],\"carpet\":[{\"aaxis\":{\"endlinecolor\":\"#2a3f5f\",\"gridcolor\":\"white\",\"linecolor\":\"white\",\"minorgridcolor\":\"white\",\"startlinecolor\":\"#2a3f5f\"},\"baxis\":{\"endlinecolor\":\"#2a3f5f\",\"gridcolor\":\"white\",\"linecolor\":\"white\",\"minorgridcolor\":\"white\",\"startlinecolor\":\"#2a3f5f\"},\"type\":\"carpet\"}],\"choropleth\":[{\"colorbar\":{\"outlinewidth\":0,\"ticks\":\"\"},\"type\":\"choropleth\"}],\"contour\":[{\"colorbar\":{\"outlinewidth\":0,\"ticks\":\"\"},\"colorscale\":[[0.0,\"#0d0887\"],[0.1111111111111111,\"#46039f\"],[0.2222222222222222,\"#7201a8\"],[0.3333333333333333,\"#9c179e\"],[0.4444444444444444,\"#bd3786\"],[0.5555555555555556,\"#d8576b\"],[0.6666666666666666,\"#ed7953\"],[0.7777777777777778,\"#fb9f3a\"],[0.8888888888888888,\"#fdca26\"],[1.0,\"#f0f921\"]],\"type\":\"contour\"}],\"contourcarpet\":[{\"colorbar\":{\"outlinewidth\":0,\"ticks\":\"\"},\"type\":\"contourcarpet\"}],\"heatmap\":[{\"colorbar\":{\"outlinewidth\":0,\"ticks\":\"\"},\"colorscale\":[[0.0,\"#0d0887\"],[0.1111111111111111,\"#46039f\"],[0.2222222222222222,\"#7201a8\"],[0.3333333333333333,\"#9c179e\"],[0.4444444444444444,\"#bd3786\"],[0.5555555555555556,\"#d8576b\"],[0.6666666666666666,\"#ed7953\"],[0.7777777777777778,\"#fb9f3a\"],[0.8888888888888888,\"#fdca26\"],[1.0,\"#f0f921\"]],\"type\":\"heatmap\"}],\"heatmapgl\":[{\"colorbar\":{\"outlinewidth\":0,\"ticks\":\"\"},\"colorscale\":[[0.0,\"#0d0887\"],[0.1111111111111111,\"#46039f\"],[0.2222222222222222,\"#7201a8\"],[0.3333333333333333,\"#9c179e\"],[0.4444444444444444,\"#bd3786\"],[0.5555555555555556,\"#d8576b\"],[0.6666666666666666,\"#ed7953\"],[0.7777777777777778,\"#fb9f3a\"],[0.8888888888888888,\"#fdca26\"],[1.0,\"#f0f921\"]],\"type\":\"heatmapgl\"}],\"histogram\":[{\"marker\":{\"pattern\":{\"fillmode\":\"overlay\",\"size\":10,\"solidity\":0.2}},\"type\":\"histogram\"}],\"histogram2d\":[{\"colorbar\":{\"outlinewidth\":0,\"ticks\":\"\"},\"colorscale\":[[0.0,\"#0d0887\"],[0.1111111111111111,\"#46039f\"],[0.2222222222222222,\"#7201a8\"],[0.3333333333333333,\"#9c179e\"],[0.4444444444444444,\"#bd3786\"],[0.5555555555555556,\"#d8576b\"],[0.6666666666666666,\"#ed7953\"],[0.7777777777777778,\"#fb9f3a\"],[0.8888888888888888,\"#fdca26\"],[1.0,\"#f0f921\"]],\"type\":\"histogram2d\"}],\"histogram2dcontour\":[{\"colorbar\":{\"outlinewidth\":0,\"ticks\":\"\"},\"colorscale\":[[0.0,\"#0d0887\"],[0.1111111111111111,\"#46039f\"],[0.2222222222222222,\"#7201a8\"],[0.3333333333333333,\"#9c179e\"],[0.4444444444444444,\"#bd3786\"],[0.5555555555555556,\"#d8576b\"],[0.6666666666666666,\"#ed7953\"],[0.7777777777777778,\"#fb9f3a\"],[0.8888888888888888,\"#fdca26\"],[1.0,\"#f0f921\"]],\"type\":\"histogram2dcontour\"}],\"mesh3d\":[{\"colorbar\":{\"outlinewidth\":0,\"ticks\":\"\"},\"type\":\"mesh3d\"}],\"parcoords\":[{\"line\":{\"colorbar\":{\"outlinewidth\":0,\"ticks\":\"\"}},\"type\":\"parcoords\"}],\"pie\":[{\"automargin\":true,\"type\":\"pie\"}],\"scatter\":[{\"marker\":{\"colorbar\":{\"outlinewidth\":0,\"ticks\":\"\"}},\"type\":\"scatter\"}],\"scatter3d\":[{\"line\":{\"colorbar\":{\"outlinewidth\":0,\"ticks\":\"\"}},\"marker\":{\"colorbar\":{\"outlinewidth\":0,\"ticks\":\"\"}},\"type\":\"scatter3d\"}],\"scattercarpet\":[{\"marker\":{\"colorbar\":{\"outlinewidth\":0,\"ticks\":\"\"}},\"type\":\"scattercarpet\"}],\"scattergeo\":[{\"marker\":{\"colorbar\":{\"outlinewidth\":0,\"ticks\":\"\"}},\"type\":\"scattergeo\"}],\"scattergl\":[{\"marker\":{\"colorbar\":{\"outlinewidth\":0,\"ticks\":\"\"}},\"type\":\"scattergl\"}],\"scattermapbox\":[{\"marker\":{\"colorbar\":{\"outlinewidth\":0,\"ticks\":\"\"}},\"type\":\"scattermapbox\"}],\"scatterpolar\":[{\"marker\":{\"colorbar\":{\"outlinewidth\":0,\"ticks\":\"\"}},\"type\":\"scatterpolar\"}],\"scatterpolargl\":[{\"marker\":{\"colorbar\":{\"outlinewidth\":0,\"ticks\":\"\"}},\"type\":\"scatterpolargl\"}],\"scatterternary\":[{\"marker\":{\"colorbar\":{\"outlinewidth\":0,\"ticks\":\"\"}},\"type\":\"scatterternary\"}],\"surface\":[{\"colorbar\":{\"outlinewidth\":0,\"ticks\":\"\"},\"colorscale\":[[0.0,\"#0d0887\"],[0.1111111111111111,\"#46039f\"],[0.2222222222222222,\"#7201a8\"],[0.3333333333333333,\"#9c179e\"],[0.4444444444444444,\"#bd3786\"],[0.5555555555555556,\"#d8576b\"],[0.6666666666666666,\"#ed7953\"],[0.7777777777777778,\"#fb9f3a\"],[0.8888888888888888,\"#fdca26\"],[1.0,\"#f0f921\"]],\"type\":\"surface\"}],\"table\":[{\"cells\":{\"fill\":{\"color\":\"#EBF0F8\"},\"line\":{\"color\":\"white\"}},\"header\":{\"fill\":{\"color\":\"#C8D4E3\"},\"line\":{\"color\":\"white\"}},\"type\":\"table\"}]},\"layout\":{\"annotationdefaults\":{\"arrowcolor\":\"#2a3f5f\",\"arrowhead\":0,\"arrowwidth\":1},\"autotypenumbers\":\"strict\",\"coloraxis\":{\"colorbar\":{\"outlinewidth\":0,\"ticks\":\"\"}},\"colorscale\":{\"diverging\":[[0,\"#8e0152\"],[0.1,\"#c51b7d\"],[0.2,\"#de77ae\"],[0.3,\"#f1b6da\"],[0.4,\"#fde0ef\"],[0.5,\"#f7f7f7\"],[0.6,\"#e6f5d0\"],[0.7,\"#b8e186\"],[0.8,\"#7fbc41\"],[0.9,\"#4d9221\"],[1,\"#276419\"]],\"sequential\":[[0.0,\"#0d0887\"],[0.1111111111111111,\"#46039f\"],[0.2222222222222222,\"#7201a8\"],[0.3333333333333333,\"#9c179e\"],[0.4444444444444444,\"#bd3786\"],[0.5555555555555556,\"#d8576b\"],[0.6666666666666666,\"#ed7953\"],[0.7777777777777778,\"#fb9f3a\"],[0.8888888888888888,\"#fdca26\"],[1.0,\"#f0f921\"]],\"sequentialminus\":[[0.0,\"#0d0887\"],[0.1111111111111111,\"#46039f\"],[0.2222222222222222,\"#7201a8\"],[0.3333333333333333,\"#9c179e\"],[0.4444444444444444,\"#bd3786\"],[0.5555555555555556,\"#d8576b\"],[0.6666666666666666,\"#ed7953\"],[0.7777777777777778,\"#fb9f3a\"],[0.8888888888888888,\"#fdca26\"],[1.0,\"#f0f921\"]]},\"colorway\":[\"#636efa\",\"#EF553B\",\"#00cc96\",\"#ab63fa\",\"#FFA15A\",\"#19d3f3\",\"#FF6692\",\"#B6E880\",\"#FF97FF\",\"#FECB52\"],\"font\":{\"color\":\"#2a3f5f\"},\"geo\":{\"bgcolor\":\"white\",\"lakecolor\":\"white\",\"landcolor\":\"#E5ECF6\",\"showlakes\":true,\"showland\":true,\"subunitcolor\":\"white\"},\"hoverlabel\":{\"align\":\"left\"},\"hovermode\":\"closest\",\"mapbox\":{\"style\":\"light\"},\"paper_bgcolor\":\"white\",\"plot_bgcolor\":\"#E5ECF6\",\"polar\":{\"angularaxis\":{\"gridcolor\":\"white\",\"linecolor\":\"white\",\"ticks\":\"\"},\"bgcolor\":\"#E5ECF6\",\"radialaxis\":{\"gridcolor\":\"white\",\"linecolor\":\"white\",\"ticks\":\"\"}},\"scene\":{\"xaxis\":{\"backgroundcolor\":\"#E5ECF6\",\"gridcolor\":\"white\",\"gridwidth\":2,\"linecolor\":\"white\",\"showbackground\":true,\"ticks\":\"\",\"zerolinecolor\":\"white\"},\"yaxis\":{\"backgroundcolor\":\"#E5ECF6\",\"gridcolor\":\"white\",\"gridwidth\":2,\"linecolor\":\"white\",\"showbackground\":true,\"ticks\":\"\",\"zerolinecolor\":\"white\"},\"zaxis\":{\"backgroundcolor\":\"#E5ECF6\",\"gridcolor\":\"white\",\"gridwidth\":2,\"linecolor\":\"white\",\"showbackground\":true,\"ticks\":\"\",\"zerolinecolor\":\"white\"}},\"shapedefaults\":{\"line\":{\"color\":\"#2a3f5f\"}},\"ternary\":{\"aaxis\":{\"gridcolor\":\"white\",\"linecolor\":\"white\",\"ticks\":\"\"},\"baxis\":{\"gridcolor\":\"white\",\"linecolor\":\"white\",\"ticks\":\"\"},\"bgcolor\":\"#E5ECF6\",\"caxis\":{\"gridcolor\":\"white\",\"linecolor\":\"white\",\"ticks\":\"\"}},\"title\":{\"x\":0.05},\"xaxis\":{\"automargin\":true,\"gridcolor\":\"white\",\"linecolor\":\"white\",\"ticks\":\"\",\"title\":{\"standoff\":15},\"zerolinecolor\":\"white\",\"zerolinewidth\":2},\"yaxis\":{\"automargin\":true,\"gridcolor\":\"white\",\"linecolor\":\"white\",\"ticks\":\"\",\"title\":{\"standoff\":15},\"zerolinecolor\":\"white\",\"zerolinewidth\":2}}},\"xaxis\":{\"anchor\":\"y\",\"domain\":[0.0,1.0],\"title\":{\"text\":\"event_dt\"}},\"yaxis\":{\"anchor\":\"x\",\"domain\":[0.0,1.0],\"title\":{\"text\":\"user_id\"}},\"legend\":{\"title\":{\"text\":\"event_name\"},\"tracegroupgap\":0},\"margin\":{\"t\":60},\"barmode\":\"relative\",\"title\":{\"text\":\"\\u0421\\u043e\\u0431\\u044b\\u0442\\u0438\\u044f \\u043f\\u043e \\u0434\\u043d\\u044f\\u043c \\u0433\\u0440\\u0443\\u043f\\u043f\\u0430 \\u0410\"}},                        {\"responsive\": true}                    ).then(function(){\n",
       "                            \n",
       "var gd = document.getElementById('7e596314-f986-4500-b927-1f382974aeef');\n",
       "var x = new MutationObserver(function (mutations, observer) {{\n",
       "        var display = window.getComputedStyle(gd).display;\n",
       "        if (!display || display === 'none') {{\n",
       "            console.log([gd, 'removed!']);\n",
       "            Plotly.purge(gd);\n",
       "            observer.disconnect();\n",
       "        }}\n",
       "}});\n",
       "\n",
       "// Listen for the removal of the full notebook cells\n",
       "var notebookContainer = gd.closest('#notebook-container');\n",
       "if (notebookContainer) {{\n",
       "    x.observe(notebookContainer, {childList: true});\n",
       "}}\n",
       "\n",
       "// Listen for the clearing of the current output cell\n",
       "var outputEl = gd.closest('.output');\n",
       "if (outputEl) {{\n",
       "    x.observe(outputEl, {childList: true});\n",
       "}}\n",
       "\n",
       "                        })                };                });            </script>        </div>"
      ]
     },
     "metadata": {},
     "output_type": "display_data"
    },
    {
     "data": {
      "application/vnd.plotly.v1+json": {
       "config": {
        "plotlyServerURL": "https://plot.ly"
       },
       "data": [
        {
         "alignmentgroup": "True",
         "hovertemplate": "event_name=login<br>event_dt=%{x}<br>user_id=%{y}<extra></extra>",
         "legendgroup": "login",
         "marker": {
          "color": "#636efa",
          "pattern": {
           "shape": ""
          }
         },
         "name": "login",
         "offsetgroup": "login",
         "orientation": "v",
         "showlegend": true,
         "textposition": "auto",
         "type": "bar",
         "x": [
          "2020-12-07",
          "2020-12-08",
          "2020-12-09",
          "2020-12-10",
          "2020-12-11",
          "2020-12-12",
          "2020-12-13",
          "2020-12-14",
          "2020-12-15",
          "2020-12-16",
          "2020-12-17",
          "2020-12-18",
          "2020-12-19",
          "2020-12-20",
          "2020-12-21",
          "2020-12-22",
          "2020-12-23",
          "2020-12-24",
          "2020-12-25",
          "2020-12-26",
          "2020-12-27",
          "2020-12-28",
          "2020-12-29"
         ],
         "xaxis": "x",
         "y": [
          155,
          113,
          161,
          124,
          84,
          102,
          81,
          120,
          109,
          165,
          125,
          127,
          139,
          155,
          180,
          89,
          72,
          58,
          37,
          30,
          31,
          33,
          20
         ],
         "yaxis": "y"
        },
        {
         "alignmentgroup": "True",
         "hovertemplate": "event_name=product_cart<br>event_dt=%{x}<br>user_id=%{y}<extra></extra>",
         "legendgroup": "product_cart",
         "marker": {
          "color": "#EF553B",
          "pattern": {
           "shape": ""
          }
         },
         "name": "product_cart",
         "offsetgroup": "product_cart",
         "orientation": "v",
         "showlegend": true,
         "textposition": "auto",
         "type": "bar",
         "x": [
          "2020-12-07",
          "2020-12-08",
          "2020-12-09",
          "2020-12-10",
          "2020-12-11",
          "2020-12-12",
          "2020-12-13",
          "2020-12-14",
          "2020-12-15",
          "2020-12-16",
          "2020-12-17",
          "2020-12-18",
          "2020-12-19",
          "2020-12-20",
          "2020-12-21",
          "2020-12-22",
          "2020-12-23",
          "2020-12-24",
          "2020-12-25",
          "2020-12-26",
          "2020-12-27",
          "2020-12-28",
          "2020-12-29"
         ],
         "xaxis": "x",
         "y": [
          41,
          31,
          39,
          32,
          16,
          21,
          16,
          37,
          29,
          58,
          48,
          40,
          41,
          34,
          53,
          17,
          18,
          18,
          6,
          7,
          9,
          3,
          3
         ],
         "yaxis": "y"
        },
        {
         "alignmentgroup": "True",
         "hovertemplate": "event_name=product_page<br>event_dt=%{x}<br>user_id=%{y}<extra></extra>",
         "legendgroup": "product_page",
         "marker": {
          "color": "#00cc96",
          "pattern": {
           "shape": ""
          }
         },
         "name": "product_page",
         "offsetgroup": "product_page",
         "orientation": "v",
         "showlegend": true,
         "textposition": "auto",
         "type": "bar",
         "x": [
          "2020-12-07",
          "2020-12-08",
          "2020-12-09",
          "2020-12-10",
          "2020-12-11",
          "2020-12-12",
          "2020-12-13",
          "2020-12-14",
          "2020-12-15",
          "2020-12-16",
          "2020-12-17",
          "2020-12-18",
          "2020-12-19",
          "2020-12-20",
          "2020-12-21",
          "2020-12-22",
          "2020-12-23",
          "2020-12-24",
          "2020-12-25",
          "2020-12-26",
          "2020-12-27",
          "2020-12-28",
          "2020-12-29"
         ],
         "xaxis": "x",
         "y": [
          101,
          61,
          99,
          67,
          45,
          51,
          41,
          59,
          52,
          96,
          72,
          63,
          74,
          83,
          95,
          37,
          36,
          29,
          19,
          16,
          14,
          20,
          10
         ],
         "yaxis": "y"
        },
        {
         "alignmentgroup": "True",
         "hovertemplate": "event_name=purchase<br>event_dt=%{x}<br>user_id=%{y}<extra></extra>",
         "legendgroup": "purchase",
         "marker": {
          "color": "#ab63fa",
          "pattern": {
           "shape": ""
          }
         },
         "name": "purchase",
         "offsetgroup": "purchase",
         "orientation": "v",
         "showlegend": true,
         "textposition": "auto",
         "type": "bar",
         "x": [
          "2020-12-07",
          "2020-12-08",
          "2020-12-09",
          "2020-12-10",
          "2020-12-11",
          "2020-12-12",
          "2020-12-13",
          "2020-12-14",
          "2020-12-15",
          "2020-12-16",
          "2020-12-17",
          "2020-12-18",
          "2020-12-19",
          "2020-12-20",
          "2020-12-21",
          "2020-12-22",
          "2020-12-23",
          "2020-12-24",
          "2020-12-25",
          "2020-12-26",
          "2020-12-27",
          "2020-12-28",
          "2020-12-29"
         ],
         "xaxis": "x",
         "y": [
          59,
          33,
          39,
          26,
          16,
          25,
          26,
          32,
          32,
          50,
          36,
          29,
          34,
          37,
          49,
          26,
          18,
          14,
          8,
          7,
          11,
          5,
          6
         ],
         "yaxis": "y"
        }
       ],
       "layout": {
        "barmode": "relative",
        "legend": {
         "title": {
          "text": "event_name"
         },
         "tracegroupgap": 0
        },
        "margin": {
         "t": 60
        },
        "template": {
         "data": {
          "bar": [
           {
            "error_x": {
             "color": "#2a3f5f"
            },
            "error_y": {
             "color": "#2a3f5f"
            },
            "marker": {
             "line": {
              "color": "#E5ECF6",
              "width": 0.5
             },
             "pattern": {
              "fillmode": "overlay",
              "size": 10,
              "solidity": 0.2
             }
            },
            "type": "bar"
           }
          ],
          "barpolar": [
           {
            "marker": {
             "line": {
              "color": "#E5ECF6",
              "width": 0.5
             },
             "pattern": {
              "fillmode": "overlay",
              "size": 10,
              "solidity": 0.2
             }
            },
            "type": "barpolar"
           }
          ],
          "carpet": [
           {
            "aaxis": {
             "endlinecolor": "#2a3f5f",
             "gridcolor": "white",
             "linecolor": "white",
             "minorgridcolor": "white",
             "startlinecolor": "#2a3f5f"
            },
            "baxis": {
             "endlinecolor": "#2a3f5f",
             "gridcolor": "white",
             "linecolor": "white",
             "minorgridcolor": "white",
             "startlinecolor": "#2a3f5f"
            },
            "type": "carpet"
           }
          ],
          "choropleth": [
           {
            "colorbar": {
             "outlinewidth": 0,
             "ticks": ""
            },
            "type": "choropleth"
           }
          ],
          "contour": [
           {
            "colorbar": {
             "outlinewidth": 0,
             "ticks": ""
            },
            "colorscale": [
             [
              0,
              "#0d0887"
             ],
             [
              0.1111111111111111,
              "#46039f"
             ],
             [
              0.2222222222222222,
              "#7201a8"
             ],
             [
              0.3333333333333333,
              "#9c179e"
             ],
             [
              0.4444444444444444,
              "#bd3786"
             ],
             [
              0.5555555555555556,
              "#d8576b"
             ],
             [
              0.6666666666666666,
              "#ed7953"
             ],
             [
              0.7777777777777778,
              "#fb9f3a"
             ],
             [
              0.8888888888888888,
              "#fdca26"
             ],
             [
              1,
              "#f0f921"
             ]
            ],
            "type": "contour"
           }
          ],
          "contourcarpet": [
           {
            "colorbar": {
             "outlinewidth": 0,
             "ticks": ""
            },
            "type": "contourcarpet"
           }
          ],
          "heatmap": [
           {
            "colorbar": {
             "outlinewidth": 0,
             "ticks": ""
            },
            "colorscale": [
             [
              0,
              "#0d0887"
             ],
             [
              0.1111111111111111,
              "#46039f"
             ],
             [
              0.2222222222222222,
              "#7201a8"
             ],
             [
              0.3333333333333333,
              "#9c179e"
             ],
             [
              0.4444444444444444,
              "#bd3786"
             ],
             [
              0.5555555555555556,
              "#d8576b"
             ],
             [
              0.6666666666666666,
              "#ed7953"
             ],
             [
              0.7777777777777778,
              "#fb9f3a"
             ],
             [
              0.8888888888888888,
              "#fdca26"
             ],
             [
              1,
              "#f0f921"
             ]
            ],
            "type": "heatmap"
           }
          ],
          "heatmapgl": [
           {
            "colorbar": {
             "outlinewidth": 0,
             "ticks": ""
            },
            "colorscale": [
             [
              0,
              "#0d0887"
             ],
             [
              0.1111111111111111,
              "#46039f"
             ],
             [
              0.2222222222222222,
              "#7201a8"
             ],
             [
              0.3333333333333333,
              "#9c179e"
             ],
             [
              0.4444444444444444,
              "#bd3786"
             ],
             [
              0.5555555555555556,
              "#d8576b"
             ],
             [
              0.6666666666666666,
              "#ed7953"
             ],
             [
              0.7777777777777778,
              "#fb9f3a"
             ],
             [
              0.8888888888888888,
              "#fdca26"
             ],
             [
              1,
              "#f0f921"
             ]
            ],
            "type": "heatmapgl"
           }
          ],
          "histogram": [
           {
            "marker": {
             "pattern": {
              "fillmode": "overlay",
              "size": 10,
              "solidity": 0.2
             }
            },
            "type": "histogram"
           }
          ],
          "histogram2d": [
           {
            "colorbar": {
             "outlinewidth": 0,
             "ticks": ""
            },
            "colorscale": [
             [
              0,
              "#0d0887"
             ],
             [
              0.1111111111111111,
              "#46039f"
             ],
             [
              0.2222222222222222,
              "#7201a8"
             ],
             [
              0.3333333333333333,
              "#9c179e"
             ],
             [
              0.4444444444444444,
              "#bd3786"
             ],
             [
              0.5555555555555556,
              "#d8576b"
             ],
             [
              0.6666666666666666,
              "#ed7953"
             ],
             [
              0.7777777777777778,
              "#fb9f3a"
             ],
             [
              0.8888888888888888,
              "#fdca26"
             ],
             [
              1,
              "#f0f921"
             ]
            ],
            "type": "histogram2d"
           }
          ],
          "histogram2dcontour": [
           {
            "colorbar": {
             "outlinewidth": 0,
             "ticks": ""
            },
            "colorscale": [
             [
              0,
              "#0d0887"
             ],
             [
              0.1111111111111111,
              "#46039f"
             ],
             [
              0.2222222222222222,
              "#7201a8"
             ],
             [
              0.3333333333333333,
              "#9c179e"
             ],
             [
              0.4444444444444444,
              "#bd3786"
             ],
             [
              0.5555555555555556,
              "#d8576b"
             ],
             [
              0.6666666666666666,
              "#ed7953"
             ],
             [
              0.7777777777777778,
              "#fb9f3a"
             ],
             [
              0.8888888888888888,
              "#fdca26"
             ],
             [
              1,
              "#f0f921"
             ]
            ],
            "type": "histogram2dcontour"
           }
          ],
          "mesh3d": [
           {
            "colorbar": {
             "outlinewidth": 0,
             "ticks": ""
            },
            "type": "mesh3d"
           }
          ],
          "parcoords": [
           {
            "line": {
             "colorbar": {
              "outlinewidth": 0,
              "ticks": ""
             }
            },
            "type": "parcoords"
           }
          ],
          "pie": [
           {
            "automargin": true,
            "type": "pie"
           }
          ],
          "scatter": [
           {
            "marker": {
             "colorbar": {
              "outlinewidth": 0,
              "ticks": ""
             }
            },
            "type": "scatter"
           }
          ],
          "scatter3d": [
           {
            "line": {
             "colorbar": {
              "outlinewidth": 0,
              "ticks": ""
             }
            },
            "marker": {
             "colorbar": {
              "outlinewidth": 0,
              "ticks": ""
             }
            },
            "type": "scatter3d"
           }
          ],
          "scattercarpet": [
           {
            "marker": {
             "colorbar": {
              "outlinewidth": 0,
              "ticks": ""
             }
            },
            "type": "scattercarpet"
           }
          ],
          "scattergeo": [
           {
            "marker": {
             "colorbar": {
              "outlinewidth": 0,
              "ticks": ""
             }
            },
            "type": "scattergeo"
           }
          ],
          "scattergl": [
           {
            "marker": {
             "colorbar": {
              "outlinewidth": 0,
              "ticks": ""
             }
            },
            "type": "scattergl"
           }
          ],
          "scattermapbox": [
           {
            "marker": {
             "colorbar": {
              "outlinewidth": 0,
              "ticks": ""
             }
            },
            "type": "scattermapbox"
           }
          ],
          "scatterpolar": [
           {
            "marker": {
             "colorbar": {
              "outlinewidth": 0,
              "ticks": ""
             }
            },
            "type": "scatterpolar"
           }
          ],
          "scatterpolargl": [
           {
            "marker": {
             "colorbar": {
              "outlinewidth": 0,
              "ticks": ""
             }
            },
            "type": "scatterpolargl"
           }
          ],
          "scatterternary": [
           {
            "marker": {
             "colorbar": {
              "outlinewidth": 0,
              "ticks": ""
             }
            },
            "type": "scatterternary"
           }
          ],
          "surface": [
           {
            "colorbar": {
             "outlinewidth": 0,
             "ticks": ""
            },
            "colorscale": [
             [
              0,
              "#0d0887"
             ],
             [
              0.1111111111111111,
              "#46039f"
             ],
             [
              0.2222222222222222,
              "#7201a8"
             ],
             [
              0.3333333333333333,
              "#9c179e"
             ],
             [
              0.4444444444444444,
              "#bd3786"
             ],
             [
              0.5555555555555556,
              "#d8576b"
             ],
             [
              0.6666666666666666,
              "#ed7953"
             ],
             [
              0.7777777777777778,
              "#fb9f3a"
             ],
             [
              0.8888888888888888,
              "#fdca26"
             ],
             [
              1,
              "#f0f921"
             ]
            ],
            "type": "surface"
           }
          ],
          "table": [
           {
            "cells": {
             "fill": {
              "color": "#EBF0F8"
             },
             "line": {
              "color": "white"
             }
            },
            "header": {
             "fill": {
              "color": "#C8D4E3"
             },
             "line": {
              "color": "white"
             }
            },
            "type": "table"
           }
          ]
         },
         "layout": {
          "annotationdefaults": {
           "arrowcolor": "#2a3f5f",
           "arrowhead": 0,
           "arrowwidth": 1
          },
          "autotypenumbers": "strict",
          "coloraxis": {
           "colorbar": {
            "outlinewidth": 0,
            "ticks": ""
           }
          },
          "colorscale": {
           "diverging": [
            [
             0,
             "#8e0152"
            ],
            [
             0.1,
             "#c51b7d"
            ],
            [
             0.2,
             "#de77ae"
            ],
            [
             0.3,
             "#f1b6da"
            ],
            [
             0.4,
             "#fde0ef"
            ],
            [
             0.5,
             "#f7f7f7"
            ],
            [
             0.6,
             "#e6f5d0"
            ],
            [
             0.7,
             "#b8e186"
            ],
            [
             0.8,
             "#7fbc41"
            ],
            [
             0.9,
             "#4d9221"
            ],
            [
             1,
             "#276419"
            ]
           ],
           "sequential": [
            [
             0,
             "#0d0887"
            ],
            [
             0.1111111111111111,
             "#46039f"
            ],
            [
             0.2222222222222222,
             "#7201a8"
            ],
            [
             0.3333333333333333,
             "#9c179e"
            ],
            [
             0.4444444444444444,
             "#bd3786"
            ],
            [
             0.5555555555555556,
             "#d8576b"
            ],
            [
             0.6666666666666666,
             "#ed7953"
            ],
            [
             0.7777777777777778,
             "#fb9f3a"
            ],
            [
             0.8888888888888888,
             "#fdca26"
            ],
            [
             1,
             "#f0f921"
            ]
           ],
           "sequentialminus": [
            [
             0,
             "#0d0887"
            ],
            [
             0.1111111111111111,
             "#46039f"
            ],
            [
             0.2222222222222222,
             "#7201a8"
            ],
            [
             0.3333333333333333,
             "#9c179e"
            ],
            [
             0.4444444444444444,
             "#bd3786"
            ],
            [
             0.5555555555555556,
             "#d8576b"
            ],
            [
             0.6666666666666666,
             "#ed7953"
            ],
            [
             0.7777777777777778,
             "#fb9f3a"
            ],
            [
             0.8888888888888888,
             "#fdca26"
            ],
            [
             1,
             "#f0f921"
            ]
           ]
          },
          "colorway": [
           "#636efa",
           "#EF553B",
           "#00cc96",
           "#ab63fa",
           "#FFA15A",
           "#19d3f3",
           "#FF6692",
           "#B6E880",
           "#FF97FF",
           "#FECB52"
          ],
          "font": {
           "color": "#2a3f5f"
          },
          "geo": {
           "bgcolor": "white",
           "lakecolor": "white",
           "landcolor": "#E5ECF6",
           "showlakes": true,
           "showland": true,
           "subunitcolor": "white"
          },
          "hoverlabel": {
           "align": "left"
          },
          "hovermode": "closest",
          "mapbox": {
           "style": "light"
          },
          "paper_bgcolor": "white",
          "plot_bgcolor": "#E5ECF6",
          "polar": {
           "angularaxis": {
            "gridcolor": "white",
            "linecolor": "white",
            "ticks": ""
           },
           "bgcolor": "#E5ECF6",
           "radialaxis": {
            "gridcolor": "white",
            "linecolor": "white",
            "ticks": ""
           }
          },
          "scene": {
           "xaxis": {
            "backgroundcolor": "#E5ECF6",
            "gridcolor": "white",
            "gridwidth": 2,
            "linecolor": "white",
            "showbackground": true,
            "ticks": "",
            "zerolinecolor": "white"
           },
           "yaxis": {
            "backgroundcolor": "#E5ECF6",
            "gridcolor": "white",
            "gridwidth": 2,
            "linecolor": "white",
            "showbackground": true,
            "ticks": "",
            "zerolinecolor": "white"
           },
           "zaxis": {
            "backgroundcolor": "#E5ECF6",
            "gridcolor": "white",
            "gridwidth": 2,
            "linecolor": "white",
            "showbackground": true,
            "ticks": "",
            "zerolinecolor": "white"
           }
          },
          "shapedefaults": {
           "line": {
            "color": "#2a3f5f"
           }
          },
          "ternary": {
           "aaxis": {
            "gridcolor": "white",
            "linecolor": "white",
            "ticks": ""
           },
           "baxis": {
            "gridcolor": "white",
            "linecolor": "white",
            "ticks": ""
           },
           "bgcolor": "#E5ECF6",
           "caxis": {
            "gridcolor": "white",
            "linecolor": "white",
            "ticks": ""
           }
          },
          "title": {
           "x": 0.05
          },
          "xaxis": {
           "automargin": true,
           "gridcolor": "white",
           "linecolor": "white",
           "ticks": "",
           "title": {
            "standoff": 15
           },
           "zerolinecolor": "white",
           "zerolinewidth": 2
          },
          "yaxis": {
           "automargin": true,
           "gridcolor": "white",
           "linecolor": "white",
           "ticks": "",
           "title": {
            "standoff": 15
           },
           "zerolinecolor": "white",
           "zerolinewidth": 2
          }
         }
        },
        "title": {
         "text": "События по дням группа B"
        },
        "xaxis": {
         "anchor": "y",
         "domain": [
          0,
          1
         ],
         "title": {
          "text": "event_dt"
         }
        },
        "yaxis": {
         "anchor": "x",
         "domain": [
          0,
          1
         ],
         "title": {
          "text": "user_id"
         }
        }
       }
      },
      "text/html": [
       "<div>                            <div id=\"e36b33dc-d4fa-4a0b-8f74-425d1983046a\" class=\"plotly-graph-div\" style=\"height:525px; width:100%;\"></div>            <script type=\"text/javascript\">                require([\"plotly\"], function(Plotly) {                    window.PLOTLYENV=window.PLOTLYENV || {};                                    if (document.getElementById(\"e36b33dc-d4fa-4a0b-8f74-425d1983046a\")) {                    Plotly.newPlot(                        \"e36b33dc-d4fa-4a0b-8f74-425d1983046a\",                        [{\"alignmentgroup\":\"True\",\"hovertemplate\":\"event_name=login<br>event_dt=%{x}<br>user_id=%{y}<extra></extra>\",\"legendgroup\":\"login\",\"marker\":{\"color\":\"#636efa\",\"pattern\":{\"shape\":\"\"}},\"name\":\"login\",\"offsetgroup\":\"login\",\"orientation\":\"v\",\"showlegend\":true,\"textposition\":\"auto\",\"x\":[\"2020-12-07\",\"2020-12-08\",\"2020-12-09\",\"2020-12-10\",\"2020-12-11\",\"2020-12-12\",\"2020-12-13\",\"2020-12-14\",\"2020-12-15\",\"2020-12-16\",\"2020-12-17\",\"2020-12-18\",\"2020-12-19\",\"2020-12-20\",\"2020-12-21\",\"2020-12-22\",\"2020-12-23\",\"2020-12-24\",\"2020-12-25\",\"2020-12-26\",\"2020-12-27\",\"2020-12-28\",\"2020-12-29\"],\"xaxis\":\"x\",\"y\":[155,113,161,124,84,102,81,120,109,165,125,127,139,155,180,89,72,58,37,30,31,33,20],\"yaxis\":\"y\",\"type\":\"bar\"},{\"alignmentgroup\":\"True\",\"hovertemplate\":\"event_name=product_cart<br>event_dt=%{x}<br>user_id=%{y}<extra></extra>\",\"legendgroup\":\"product_cart\",\"marker\":{\"color\":\"#EF553B\",\"pattern\":{\"shape\":\"\"}},\"name\":\"product_cart\",\"offsetgroup\":\"product_cart\",\"orientation\":\"v\",\"showlegend\":true,\"textposition\":\"auto\",\"x\":[\"2020-12-07\",\"2020-12-08\",\"2020-12-09\",\"2020-12-10\",\"2020-12-11\",\"2020-12-12\",\"2020-12-13\",\"2020-12-14\",\"2020-12-15\",\"2020-12-16\",\"2020-12-17\",\"2020-12-18\",\"2020-12-19\",\"2020-12-20\",\"2020-12-21\",\"2020-12-22\",\"2020-12-23\",\"2020-12-24\",\"2020-12-25\",\"2020-12-26\",\"2020-12-27\",\"2020-12-28\",\"2020-12-29\"],\"xaxis\":\"x\",\"y\":[41,31,39,32,16,21,16,37,29,58,48,40,41,34,53,17,18,18,6,7,9,3,3],\"yaxis\":\"y\",\"type\":\"bar\"},{\"alignmentgroup\":\"True\",\"hovertemplate\":\"event_name=product_page<br>event_dt=%{x}<br>user_id=%{y}<extra></extra>\",\"legendgroup\":\"product_page\",\"marker\":{\"color\":\"#00cc96\",\"pattern\":{\"shape\":\"\"}},\"name\":\"product_page\",\"offsetgroup\":\"product_page\",\"orientation\":\"v\",\"showlegend\":true,\"textposition\":\"auto\",\"x\":[\"2020-12-07\",\"2020-12-08\",\"2020-12-09\",\"2020-12-10\",\"2020-12-11\",\"2020-12-12\",\"2020-12-13\",\"2020-12-14\",\"2020-12-15\",\"2020-12-16\",\"2020-12-17\",\"2020-12-18\",\"2020-12-19\",\"2020-12-20\",\"2020-12-21\",\"2020-12-22\",\"2020-12-23\",\"2020-12-24\",\"2020-12-25\",\"2020-12-26\",\"2020-12-27\",\"2020-12-28\",\"2020-12-29\"],\"xaxis\":\"x\",\"y\":[101,61,99,67,45,51,41,59,52,96,72,63,74,83,95,37,36,29,19,16,14,20,10],\"yaxis\":\"y\",\"type\":\"bar\"},{\"alignmentgroup\":\"True\",\"hovertemplate\":\"event_name=purchase<br>event_dt=%{x}<br>user_id=%{y}<extra></extra>\",\"legendgroup\":\"purchase\",\"marker\":{\"color\":\"#ab63fa\",\"pattern\":{\"shape\":\"\"}},\"name\":\"purchase\",\"offsetgroup\":\"purchase\",\"orientation\":\"v\",\"showlegend\":true,\"textposition\":\"auto\",\"x\":[\"2020-12-07\",\"2020-12-08\",\"2020-12-09\",\"2020-12-10\",\"2020-12-11\",\"2020-12-12\",\"2020-12-13\",\"2020-12-14\",\"2020-12-15\",\"2020-12-16\",\"2020-12-17\",\"2020-12-18\",\"2020-12-19\",\"2020-12-20\",\"2020-12-21\",\"2020-12-22\",\"2020-12-23\",\"2020-12-24\",\"2020-12-25\",\"2020-12-26\",\"2020-12-27\",\"2020-12-28\",\"2020-12-29\"],\"xaxis\":\"x\",\"y\":[59,33,39,26,16,25,26,32,32,50,36,29,34,37,49,26,18,14,8,7,11,5,6],\"yaxis\":\"y\",\"type\":\"bar\"}],                        {\"template\":{\"data\":{\"bar\":[{\"error_x\":{\"color\":\"#2a3f5f\"},\"error_y\":{\"color\":\"#2a3f5f\"},\"marker\":{\"line\":{\"color\":\"#E5ECF6\",\"width\":0.5},\"pattern\":{\"fillmode\":\"overlay\",\"size\":10,\"solidity\":0.2}},\"type\":\"bar\"}],\"barpolar\":[{\"marker\":{\"line\":{\"color\":\"#E5ECF6\",\"width\":0.5},\"pattern\":{\"fillmode\":\"overlay\",\"size\":10,\"solidity\":0.2}},\"type\":\"barpolar\"}],\"carpet\":[{\"aaxis\":{\"endlinecolor\":\"#2a3f5f\",\"gridcolor\":\"white\",\"linecolor\":\"white\",\"minorgridcolor\":\"white\",\"startlinecolor\":\"#2a3f5f\"},\"baxis\":{\"endlinecolor\":\"#2a3f5f\",\"gridcolor\":\"white\",\"linecolor\":\"white\",\"minorgridcolor\":\"white\",\"startlinecolor\":\"#2a3f5f\"},\"type\":\"carpet\"}],\"choropleth\":[{\"colorbar\":{\"outlinewidth\":0,\"ticks\":\"\"},\"type\":\"choropleth\"}],\"contour\":[{\"colorbar\":{\"outlinewidth\":0,\"ticks\":\"\"},\"colorscale\":[[0.0,\"#0d0887\"],[0.1111111111111111,\"#46039f\"],[0.2222222222222222,\"#7201a8\"],[0.3333333333333333,\"#9c179e\"],[0.4444444444444444,\"#bd3786\"],[0.5555555555555556,\"#d8576b\"],[0.6666666666666666,\"#ed7953\"],[0.7777777777777778,\"#fb9f3a\"],[0.8888888888888888,\"#fdca26\"],[1.0,\"#f0f921\"]],\"type\":\"contour\"}],\"contourcarpet\":[{\"colorbar\":{\"outlinewidth\":0,\"ticks\":\"\"},\"type\":\"contourcarpet\"}],\"heatmap\":[{\"colorbar\":{\"outlinewidth\":0,\"ticks\":\"\"},\"colorscale\":[[0.0,\"#0d0887\"],[0.1111111111111111,\"#46039f\"],[0.2222222222222222,\"#7201a8\"],[0.3333333333333333,\"#9c179e\"],[0.4444444444444444,\"#bd3786\"],[0.5555555555555556,\"#d8576b\"],[0.6666666666666666,\"#ed7953\"],[0.7777777777777778,\"#fb9f3a\"],[0.8888888888888888,\"#fdca26\"],[1.0,\"#f0f921\"]],\"type\":\"heatmap\"}],\"heatmapgl\":[{\"colorbar\":{\"outlinewidth\":0,\"ticks\":\"\"},\"colorscale\":[[0.0,\"#0d0887\"],[0.1111111111111111,\"#46039f\"],[0.2222222222222222,\"#7201a8\"],[0.3333333333333333,\"#9c179e\"],[0.4444444444444444,\"#bd3786\"],[0.5555555555555556,\"#d8576b\"],[0.6666666666666666,\"#ed7953\"],[0.7777777777777778,\"#fb9f3a\"],[0.8888888888888888,\"#fdca26\"],[1.0,\"#f0f921\"]],\"type\":\"heatmapgl\"}],\"histogram\":[{\"marker\":{\"pattern\":{\"fillmode\":\"overlay\",\"size\":10,\"solidity\":0.2}},\"type\":\"histogram\"}],\"histogram2d\":[{\"colorbar\":{\"outlinewidth\":0,\"ticks\":\"\"},\"colorscale\":[[0.0,\"#0d0887\"],[0.1111111111111111,\"#46039f\"],[0.2222222222222222,\"#7201a8\"],[0.3333333333333333,\"#9c179e\"],[0.4444444444444444,\"#bd3786\"],[0.5555555555555556,\"#d8576b\"],[0.6666666666666666,\"#ed7953\"],[0.7777777777777778,\"#fb9f3a\"],[0.8888888888888888,\"#fdca26\"],[1.0,\"#f0f921\"]],\"type\":\"histogram2d\"}],\"histogram2dcontour\":[{\"colorbar\":{\"outlinewidth\":0,\"ticks\":\"\"},\"colorscale\":[[0.0,\"#0d0887\"],[0.1111111111111111,\"#46039f\"],[0.2222222222222222,\"#7201a8\"],[0.3333333333333333,\"#9c179e\"],[0.4444444444444444,\"#bd3786\"],[0.5555555555555556,\"#d8576b\"],[0.6666666666666666,\"#ed7953\"],[0.7777777777777778,\"#fb9f3a\"],[0.8888888888888888,\"#fdca26\"],[1.0,\"#f0f921\"]],\"type\":\"histogram2dcontour\"}],\"mesh3d\":[{\"colorbar\":{\"outlinewidth\":0,\"ticks\":\"\"},\"type\":\"mesh3d\"}],\"parcoords\":[{\"line\":{\"colorbar\":{\"outlinewidth\":0,\"ticks\":\"\"}},\"type\":\"parcoords\"}],\"pie\":[{\"automargin\":true,\"type\":\"pie\"}],\"scatter\":[{\"marker\":{\"colorbar\":{\"outlinewidth\":0,\"ticks\":\"\"}},\"type\":\"scatter\"}],\"scatter3d\":[{\"line\":{\"colorbar\":{\"outlinewidth\":0,\"ticks\":\"\"}},\"marker\":{\"colorbar\":{\"outlinewidth\":0,\"ticks\":\"\"}},\"type\":\"scatter3d\"}],\"scattercarpet\":[{\"marker\":{\"colorbar\":{\"outlinewidth\":0,\"ticks\":\"\"}},\"type\":\"scattercarpet\"}],\"scattergeo\":[{\"marker\":{\"colorbar\":{\"outlinewidth\":0,\"ticks\":\"\"}},\"type\":\"scattergeo\"}],\"scattergl\":[{\"marker\":{\"colorbar\":{\"outlinewidth\":0,\"ticks\":\"\"}},\"type\":\"scattergl\"}],\"scattermapbox\":[{\"marker\":{\"colorbar\":{\"outlinewidth\":0,\"ticks\":\"\"}},\"type\":\"scattermapbox\"}],\"scatterpolar\":[{\"marker\":{\"colorbar\":{\"outlinewidth\":0,\"ticks\":\"\"}},\"type\":\"scatterpolar\"}],\"scatterpolargl\":[{\"marker\":{\"colorbar\":{\"outlinewidth\":0,\"ticks\":\"\"}},\"type\":\"scatterpolargl\"}],\"scatterternary\":[{\"marker\":{\"colorbar\":{\"outlinewidth\":0,\"ticks\":\"\"}},\"type\":\"scatterternary\"}],\"surface\":[{\"colorbar\":{\"outlinewidth\":0,\"ticks\":\"\"},\"colorscale\":[[0.0,\"#0d0887\"],[0.1111111111111111,\"#46039f\"],[0.2222222222222222,\"#7201a8\"],[0.3333333333333333,\"#9c179e\"],[0.4444444444444444,\"#bd3786\"],[0.5555555555555556,\"#d8576b\"],[0.6666666666666666,\"#ed7953\"],[0.7777777777777778,\"#fb9f3a\"],[0.8888888888888888,\"#fdca26\"],[1.0,\"#f0f921\"]],\"type\":\"surface\"}],\"table\":[{\"cells\":{\"fill\":{\"color\":\"#EBF0F8\"},\"line\":{\"color\":\"white\"}},\"header\":{\"fill\":{\"color\":\"#C8D4E3\"},\"line\":{\"color\":\"white\"}},\"type\":\"table\"}]},\"layout\":{\"annotationdefaults\":{\"arrowcolor\":\"#2a3f5f\",\"arrowhead\":0,\"arrowwidth\":1},\"autotypenumbers\":\"strict\",\"coloraxis\":{\"colorbar\":{\"outlinewidth\":0,\"ticks\":\"\"}},\"colorscale\":{\"diverging\":[[0,\"#8e0152\"],[0.1,\"#c51b7d\"],[0.2,\"#de77ae\"],[0.3,\"#f1b6da\"],[0.4,\"#fde0ef\"],[0.5,\"#f7f7f7\"],[0.6,\"#e6f5d0\"],[0.7,\"#b8e186\"],[0.8,\"#7fbc41\"],[0.9,\"#4d9221\"],[1,\"#276419\"]],\"sequential\":[[0.0,\"#0d0887\"],[0.1111111111111111,\"#46039f\"],[0.2222222222222222,\"#7201a8\"],[0.3333333333333333,\"#9c179e\"],[0.4444444444444444,\"#bd3786\"],[0.5555555555555556,\"#d8576b\"],[0.6666666666666666,\"#ed7953\"],[0.7777777777777778,\"#fb9f3a\"],[0.8888888888888888,\"#fdca26\"],[1.0,\"#f0f921\"]],\"sequentialminus\":[[0.0,\"#0d0887\"],[0.1111111111111111,\"#46039f\"],[0.2222222222222222,\"#7201a8\"],[0.3333333333333333,\"#9c179e\"],[0.4444444444444444,\"#bd3786\"],[0.5555555555555556,\"#d8576b\"],[0.6666666666666666,\"#ed7953\"],[0.7777777777777778,\"#fb9f3a\"],[0.8888888888888888,\"#fdca26\"],[1.0,\"#f0f921\"]]},\"colorway\":[\"#636efa\",\"#EF553B\",\"#00cc96\",\"#ab63fa\",\"#FFA15A\",\"#19d3f3\",\"#FF6692\",\"#B6E880\",\"#FF97FF\",\"#FECB52\"],\"font\":{\"color\":\"#2a3f5f\"},\"geo\":{\"bgcolor\":\"white\",\"lakecolor\":\"white\",\"landcolor\":\"#E5ECF6\",\"showlakes\":true,\"showland\":true,\"subunitcolor\":\"white\"},\"hoverlabel\":{\"align\":\"left\"},\"hovermode\":\"closest\",\"mapbox\":{\"style\":\"light\"},\"paper_bgcolor\":\"white\",\"plot_bgcolor\":\"#E5ECF6\",\"polar\":{\"angularaxis\":{\"gridcolor\":\"white\",\"linecolor\":\"white\",\"ticks\":\"\"},\"bgcolor\":\"#E5ECF6\",\"radialaxis\":{\"gridcolor\":\"white\",\"linecolor\":\"white\",\"ticks\":\"\"}},\"scene\":{\"xaxis\":{\"backgroundcolor\":\"#E5ECF6\",\"gridcolor\":\"white\",\"gridwidth\":2,\"linecolor\":\"white\",\"showbackground\":true,\"ticks\":\"\",\"zerolinecolor\":\"white\"},\"yaxis\":{\"backgroundcolor\":\"#E5ECF6\",\"gridcolor\":\"white\",\"gridwidth\":2,\"linecolor\":\"white\",\"showbackground\":true,\"ticks\":\"\",\"zerolinecolor\":\"white\"},\"zaxis\":{\"backgroundcolor\":\"#E5ECF6\",\"gridcolor\":\"white\",\"gridwidth\":2,\"linecolor\":\"white\",\"showbackground\":true,\"ticks\":\"\",\"zerolinecolor\":\"white\"}},\"shapedefaults\":{\"line\":{\"color\":\"#2a3f5f\"}},\"ternary\":{\"aaxis\":{\"gridcolor\":\"white\",\"linecolor\":\"white\",\"ticks\":\"\"},\"baxis\":{\"gridcolor\":\"white\",\"linecolor\":\"white\",\"ticks\":\"\"},\"bgcolor\":\"#E5ECF6\",\"caxis\":{\"gridcolor\":\"white\",\"linecolor\":\"white\",\"ticks\":\"\"}},\"title\":{\"x\":0.05},\"xaxis\":{\"automargin\":true,\"gridcolor\":\"white\",\"linecolor\":\"white\",\"ticks\":\"\",\"title\":{\"standoff\":15},\"zerolinecolor\":\"white\",\"zerolinewidth\":2},\"yaxis\":{\"automargin\":true,\"gridcolor\":\"white\",\"linecolor\":\"white\",\"ticks\":\"\",\"title\":{\"standoff\":15},\"zerolinecolor\":\"white\",\"zerolinewidth\":2}}},\"xaxis\":{\"anchor\":\"y\",\"domain\":[0.0,1.0],\"title\":{\"text\":\"event_dt\"}},\"yaxis\":{\"anchor\":\"x\",\"domain\":[0.0,1.0],\"title\":{\"text\":\"user_id\"}},\"legend\":{\"title\":{\"text\":\"event_name\"},\"tracegroupgap\":0},\"margin\":{\"t\":60},\"barmode\":\"relative\",\"title\":{\"text\":\"\\u0421\\u043e\\u0431\\u044b\\u0442\\u0438\\u044f \\u043f\\u043e \\u0434\\u043d\\u044f\\u043c \\u0433\\u0440\\u0443\\u043f\\u043f\\u0430 B\"}},                        {\"responsive\": true}                    ).then(function(){\n",
       "                            \n",
       "var gd = document.getElementById('e36b33dc-d4fa-4a0b-8f74-425d1983046a');\n",
       "var x = new MutationObserver(function (mutations, observer) {{\n",
       "        var display = window.getComputedStyle(gd).display;\n",
       "        if (!display || display === 'none') {{\n",
       "            console.log([gd, 'removed!']);\n",
       "            Plotly.purge(gd);\n",
       "            observer.disconnect();\n",
       "        }}\n",
       "}});\n",
       "\n",
       "// Listen for the removal of the full notebook cells\n",
       "var notebookContainer = gd.closest('#notebook-container');\n",
       "if (notebookContainer) {{\n",
       "    x.observe(notebookContainer, {childList: true});\n",
       "}}\n",
       "\n",
       "// Listen for the clearing of the current output cell\n",
       "var outputEl = gd.closest('.output');\n",
       "if (outputEl) {{\n",
       "    x.observe(outputEl, {childList: true});\n",
       "}}\n",
       "\n",
       "                        })                };                });            </script>        </div>"
      ]
     },
     "metadata": {},
     "output_type": "display_data"
    }
   ],
   "source": [
    "# Визуализируем полученные данные\n",
    "\n",
    "figA = px.bar(test_filtered_group_a_event_date, x=test_filtered_group_a_event_date['event_dt'], y='user_id', color='event_name')\n",
    "figA.update_layout(title='События по дням группа А')\n",
    "figA.show()\n",
    "\n",
    "figB = px.bar(test_filtered_group_b_event_date, x=test_filtered_group_b_event_date['event_dt'], y='user_id', color='event_name')\n",
    "figB.update_layout(title='События по дням группа B')\n",
    "figB.show()"
   ]
  },
  {
   "cell_type": "markdown",
   "metadata": {},
   "source": [
    "*На представленных графиках мы видим, что распределение событий по дням неравномерное. Распределение активности пользователей разнных групп также отличается.*\n",
    "\n",
    "*Например, пользователи группы B были более активны сразу после регистрации, чем пользователи группы A.*\n",
    "\n",
    "*У пользователей группы А наблюдается плавное нарастание активности к 21 декабря с последующим плавным снижением активности к 30 декабря.*\n",
    "\n",
    "*У пользователей же группы B наблюдаются хаотичные резкие всплески активности в точках 7, 9, 26 и 21 декабря.*"
   ]
  },
  {
   "cell_type": "markdown",
   "metadata": {},
   "source": [
    "### Особенности данных, которые нужно учесть, прежде чем приступать к A/B-тестированию"
   ]
  },
  {
   "cell_type": "markdown",
   "metadata": {},
   "source": [
    "Перед проведением теста нужно учесть следующие выявленные отклонения:\n",
    "\n",
    "Неравномерное распределение участников по группам (пользователи группы А -75 %, пользователи группы B -25 %)\n",
    "\n",
    "Во время проведения теста проходило ещё одно тестирование interface_eu_test. Выявлено, что 1602 пользователя одновременно участвовали в 2х тестах.\n",
    "\n",
    "Ожидаемое количество участников составило 3481 вместо 6000.\n",
    "\n",
    "В представленных данных информация об активности пользователей представлена не в полном объёме. Нет возможности оценить активность пользователей, зарегистрированных после 16 декабря в течение полного периода наблюдения (14 дней).\n",
    "\n",
    "\n",
    "Даты проведения теста - период новогодних распродаж и новогодних каникул, что также может повлиять на поведение пользователей.\n",
    "\n",
    "Распределение активности пользователей по дням в группах различается. \n",
    "\n",
    "Пользователи не всегда проходят этап product_cart. Покупки иногда совершаются без этого этапа. Оценивать конверсию product_cart-purchase нецелесообразно.\n"
   ]
  },
  {
   "cell_type": "markdown",
   "metadata": {},
   "source": [
    "### Статистическая разница конверсии на разные этапы в двух группах теста"
   ]
  },
  {
   "cell_type": "code",
   "execution_count": 284,
   "metadata": {},
   "outputs": [],
   "source": [
    "#Подготовка данных\n",
    "events_for_stat = events_for_conversion.pivot_table(index=['group', 'event_name'], values = 'user_id')"
   ]
  },
  {
   "cell_type": "markdown",
   "metadata": {},
   "source": [
    "#### Формулировка гипотезы:"
   ]
  },
  {
   "cell_type": "markdown",
   "metadata": {},
   "source": [
    "H0-Между конверсией на разные этапы в группах разницы нет\n",
    "\n",
    "H1-Между конверсией на разные этапы в группах разница есть"
   ]
  },
  {
   "cell_type": "markdown",
   "metadata": {},
   "source": [
    "#### Функция для расчёта статистического теста"
   ]
  },
  {
   "cell_type": "code",
   "execution_count": 285,
   "metadata": {},
   "outputs": [],
   "source": [
    "def calculate_stat_test(successes1, successes2, trials1, trials2, alpha=0.05):\n",
    "    p1 = successes1/trials1\n",
    "    p2 = successes2/trials2\n",
    "    # пропорция успехов в комбинированном датасете:\n",
    "    p_combined = (successes1 + successes2) / (trials1 + trials2)\n",
    "    # разница пропорций в датасетах\n",
    "    difference = p1 - p2 \n",
    "    # считаем статистику в ст.отклонениях стандартного нормального распределения\n",
    "    z_value = difference / mth.sqrt(p_combined * (1 - p_combined) * (1/trials1 + 1/trials2))\n",
    "    # задаем стандартное нормальное распределение (среднее 0, ст.отклонение 1)\n",
    "    distr = st.norm(0, 1)  \n",
    "    p_value = (1 - distr.cdf(abs(z_value))) * 2\n",
    "    print('p-значение: ', p_value)\n",
    "    if p_value < alpha:\n",
    "        print('Отвергаем нулевую гипотезу: между долями есть значимая разница')\n",
    "    else:\n",
    "        print(\n",
    "        'Не получилось отвергнуть нулевую гипотезу, нет оснований считать доли разными'\n",
    "    )"
   ]
  },
  {
   "cell_type": "markdown",
   "metadata": {},
   "source": [
    "#### Сравнение конверсии этапа login в этап product_page"
   ]
  },
  {
   "cell_type": "code",
   "execution_count": 286,
   "metadata": {},
   "outputs": [
    {
     "name": "stdout",
     "output_type": "stream",
     "text": [
      "p-значение:  0.1929775796858153\n",
      "Не получилось отвергнуть нулевую гипотезу, нет оснований считать доли разными\n"
     ]
    }
   ],
   "source": [
    "# Параметры\n",
    "successes1 = events_for_conversion.iloc [1]['part']\n",
    "successes2 = events_for_conversion.iloc [5]['part']\n",
    "trials1 =  events_for_conversion.iloc [0]['part']\n",
    "trials2 =  events_for_conversion.iloc [4]['part']\n",
    "calculate_stat_test(successes1, successes2, trials1, trials2, alpha=0.05)"
   ]
  },
  {
   "cell_type": "markdown",
   "metadata": {},
   "source": [
    "####  Сравнение конверсии этапа  product_page в product_cart"
   ]
  },
  {
   "cell_type": "code",
   "execution_count": 287,
   "metadata": {},
   "outputs": [
    {
     "name": "stdout",
     "output_type": "stream",
     "text": [
      "p-значение:  0.6728311253592403\n",
      "Не получилось отвергнуть нулевую гипотезу, нет оснований считать доли разными\n"
     ]
    }
   ],
   "source": [
    "# Параметры\n",
    "successes1 = events_for_conversion.iloc [2]['part']\n",
    "successes2 = events_for_conversion.iloc [6]['part']\n",
    "trials1 =  events_for_conversion.iloc [1]['part']\n",
    "trials2 =  events_for_conversion.iloc [5]['part']\n",
    "calculate_stat_test(successes1, successes2, trials1, trials2, alpha=0.05)"
   ]
  },
  {
   "cell_type": "markdown",
   "metadata": {},
   "source": [
    "####  Сравнение конверсии этапа  product_cart в purchase"
   ]
  },
  {
   "cell_type": "markdown",
   "metadata": {},
   "source": [
    "*С учётом того, что действия пользователей  не всегда происходят в определённом порядке, например, не все кладут товар в корзину перед покупкой, считать конверсию на данном этапе нецелесообразно (количество пользователей, совершивших действие product_cart меньше, чем количество пользователей на этапе purchase.*"
   ]
  },
  {
   "cell_type": "markdown",
   "metadata": {},
   "source": [
    "####  Сравнение конверсии этапа  login в purchase"
   ]
  },
  {
   "cell_type": "code",
   "execution_count": 288,
   "metadata": {},
   "outputs": [
    {
     "name": "stdout",
     "output_type": "stream",
     "text": [
      "p-значение:  0.5370939784426416\n",
      "Не получилось отвергнуть нулевую гипотезу, нет оснований считать доли разными\n"
     ]
    }
   ],
   "source": [
    "# Параметры\n",
    "successes1 = events_for_conversion.iloc [3]['part']\n",
    "successes2 = events_for_conversion.iloc [7]['part']\n",
    "trials1 =  events_for_conversion.iloc [0]['part']\n",
    "trials2 =  events_for_conversion.iloc [4]['part']\n",
    "calculate_stat_test(successes1, successes2, trials1, trials2, alpha=0.05)"
   ]
  },
  {
   "cell_type": "markdown",
   "metadata": {},
   "source": [
    "## Выводы"
   ]
  },
  {
   "cell_type": "markdown",
   "metadata": {},
   "source": [
    "Исследование проведено с целью оценки корректности и результатов проведённого A/B теста (проведён с целью тестирования изменений, связанных с внедрением улучшенной рекомендательной системы; \n",
    "\n",
    "На этапе предобработки данных были изменены типы данных (столбцы с датами приведены к необходимому формату).\n",
    "Явные дубликаты не были обнаружены.\n",
    "Пропуски выявлены только с столбцах details, содержащими данные о стоимости покупки.\n",
    "С учётом того, что в ходе тестирования необходимо было оценить увеличение/уменьшение конверсии в покупку, а не её стоимость пропуски в данном столбце решено оставить без изменений.\n",
    "\n",
    "В ходе проверки данных на соотвествие ТЗ были выявлены многочисленные отклонения: \n",
    "\n",
    "● Во время проведения теста проходило ещё одно тестирование interface_eu_test. \n",
    "Выявлено, что 1602 пользователя одновременно участвовали в 2х тестах.\n",
    "\n",
    "● Ожидаемое количество участников составило 3481 вместо 6000. \n",
    "\n",
    "● В представленных данных информация об активности пользователей представлена не в полном объёме. Нет возможности оценить активность  пользователей, зарегистрированных после 16 декабря в течение полного периода наблюдения (14 дней).\n",
    "\n",
    "● Обращает внимание неравномерное распределение участников по группам (пользователи группы А -75 %, пользователи группы B -25 %). \n",
    "\n",
    "● Также обращают внимание даты проведения теста - период новогодних распродаж и новогодних каникул, что также может повлиять на поведение пользователей. \n",
    "\n",
    "\n",
    "Несмотря на многочисленные несоотвествия условиям проведения теста был проведён анализ активности пользователей.\n",
    "Построена воронка событий. \n",
    "\n",
    "Выявлено, что ожидаемый эффект (за 14 дней с момента регистрации пользователи покажут улучшение каждой метрики не менее, чем на 10%) достигнут не был. \n",
    "Конверсия в просмотр карточек товаров (product_page) снизилась на 9 %, \n",
    "\n",
    "в просмотры корзины (product_cart) - на 2 %,\n",
    "\n",
    "в покупки (purchase) - на 4 %*.\n",
    "\n",
    "С целью оценки статистической разницы между конверсией пользователей на разные этапы действий  был выполнен   z-тест. \n",
    "\n",
    "Проанализированы следующие этапы:\n",
    "\n",
    "◦конверсия этапа login в этап product_page\n",
    "\n",
    "◦конверсия этапа  product_page в product_cart\n",
    "\n",
    "◦конверсия этапа  login в purchase.\n",
    "\n",
    "Во всех проведённых тестах p-value>0.05 - нет оснований считать доли разными.\n",
    "\n",
    "\n",
    "\n",
    "**Таким образом, данных за то, что улучшенная рекомендательная система влияет на поведение пользователей в ходе исследования данных получено не было.\n",
    "Однако результаты могут быть недостоверными с учётом множественных несоотвествий условиям проведения теста.**"
   ]
  },
  {
   "cell_type": "markdown",
   "metadata": {},
   "source": [
    "# Рекомендации"
   ]
  },
  {
   "cell_type": "markdown",
   "metadata": {},
   "source": [
    "Целесообразно повторное проведение теста.\n",
    "При повторном проведении обратить внимание на \n",
    "\n",
    "● равномерное распределение участников по группам\n",
    "\n",
    "● отсутствие проведение других тестов, которые могут повлиять на поведение пользователей\n",
    "\n",
    "● период проведение тестирование (оценить факторы, влияющие на активность пользователей, например, отпуска, новогодние распродажи)\n",
    "\n",
    "● количество зарегистрированных участников из изучаемого региона\n",
    "\n",
    "● сбор данных пользователей на протяжении всего периода наблюдения\n",
    "\n",
    "● при выборе периода обратить внимание на запуск рекламных компаний, которые могут влиять на активность пользователей"
   ]
  }
 ],
 "metadata": {
  "ExecuteTimeLog": [
   {
    "duration": 1636,
    "start_time": "2023-08-29T12:39:32.321Z"
   },
   {
    "duration": 93,
    "start_time": "2023-08-29T12:39:33.960Z"
   },
   {
    "duration": 1816,
    "start_time": "2023-08-29T20:16:46.339Z"
   },
   {
    "duration": 4,
    "start_time": "2023-08-29T20:20:38.591Z"
   },
   {
    "duration": 3,
    "start_time": "2023-08-29T20:20:50.579Z"
   },
   {
    "duration": 3,
    "start_time": "2023-08-29T20:21:31.931Z"
   },
   {
    "duration": 1143,
    "start_time": "2023-08-29T20:21:50.154Z"
   },
   {
    "duration": 114,
    "start_time": "2023-08-29T20:22:04.471Z"
   },
   {
    "duration": 4,
    "start_time": "2023-08-29T20:22:31.940Z"
   },
   {
    "duration": 992,
    "start_time": "2023-08-29T20:22:31.947Z"
   },
   {
    "duration": 105,
    "start_time": "2023-08-29T20:22:32.941Z"
   },
   {
    "duration": 33,
    "start_time": "2023-08-29T20:22:33.048Z"
   },
   {
    "duration": 58,
    "start_time": "2023-08-29T20:22:33.083Z"
   },
   {
    "duration": 53,
    "start_time": "2023-08-29T20:22:33.142Z"
   },
   {
    "duration": 4,
    "start_time": "2023-08-29T20:24:04.442Z"
   },
   {
    "duration": 942,
    "start_time": "2023-08-29T20:24:04.448Z"
   },
   {
    "duration": 111,
    "start_time": "2023-08-29T20:24:05.392Z"
   },
   {
    "duration": 43,
    "start_time": "2023-08-29T20:24:05.507Z"
   },
   {
    "duration": 53,
    "start_time": "2023-08-29T20:24:05.552Z"
   },
   {
    "duration": 30,
    "start_time": "2023-08-29T20:24:05.611Z"
   },
   {
    "duration": 63,
    "start_time": "2023-08-29T20:24:05.643Z"
   },
   {
    "duration": 6,
    "start_time": "2023-08-29T20:24:05.709Z"
   },
   {
    "duration": 19,
    "start_time": "2023-08-29T20:24:05.717Z"
   },
   {
    "duration": 5,
    "start_time": "2023-08-29T20:24:05.739Z"
   },
   {
    "duration": 12,
    "start_time": "2023-08-29T20:24:05.746Z"
   },
   {
    "duration": 12,
    "start_time": "2023-08-29T20:24:05.760Z"
   },
   {
    "duration": 12,
    "start_time": "2023-08-29T20:24:05.774Z"
   },
   {
    "duration": 16,
    "start_time": "2023-08-29T20:24:05.787Z"
   },
   {
    "duration": 4,
    "start_time": "2023-08-29T20:25:32.427Z"
   },
   {
    "duration": 814,
    "start_time": "2023-08-29T20:25:32.433Z"
   },
   {
    "duration": 98,
    "start_time": "2023-08-29T20:25:33.248Z"
   },
   {
    "duration": 33,
    "start_time": "2023-08-29T20:25:33.349Z"
   },
   {
    "duration": 66,
    "start_time": "2023-08-29T20:25:33.383Z"
   },
   {
    "duration": 31,
    "start_time": "2023-08-29T20:25:33.450Z"
   },
   {
    "duration": 56,
    "start_time": "2023-08-29T20:25:33.483Z"
   },
   {
    "duration": 4,
    "start_time": "2023-08-29T20:25:33.541Z"
   },
   {
    "duration": 19,
    "start_time": "2023-08-29T20:25:33.548Z"
   },
   {
    "duration": 15,
    "start_time": "2023-08-29T20:25:33.569Z"
   },
   {
    "duration": 19,
    "start_time": "2023-08-29T20:25:33.586Z"
   },
   {
    "duration": 16,
    "start_time": "2023-08-29T20:25:33.608Z"
   },
   {
    "duration": 25,
    "start_time": "2023-08-29T20:25:33.626Z"
   },
   {
    "duration": 18,
    "start_time": "2023-08-29T20:25:33.652Z"
   },
   {
    "duration": 173,
    "start_time": "2023-08-29T20:25:33.671Z"
   },
   {
    "duration": 20,
    "start_time": "2023-08-29T20:25:33.846Z"
   },
   {
    "duration": 9,
    "start_time": "2023-08-29T20:25:33.868Z"
   },
   {
    "duration": 41,
    "start_time": "2023-08-29T20:25:33.878Z"
   },
   {
    "duration": 25,
    "start_time": "2023-08-29T20:25:33.922Z"
   },
   {
    "duration": 21,
    "start_time": "2023-08-29T20:25:33.949Z"
   },
   {
    "duration": 18,
    "start_time": "2023-08-29T20:25:33.972Z"
   },
   {
    "duration": 32,
    "start_time": "2023-08-29T20:25:33.992Z"
   },
   {
    "duration": 4,
    "start_time": "2023-08-29T20:26:20.029Z"
   },
   {
    "duration": 847,
    "start_time": "2023-08-29T20:26:20.035Z"
   },
   {
    "duration": 118,
    "start_time": "2023-08-29T20:26:20.884Z"
   },
   {
    "duration": 43,
    "start_time": "2023-08-29T20:26:21.004Z"
   },
   {
    "duration": 53,
    "start_time": "2023-08-29T20:26:21.050Z"
   },
   {
    "duration": 34,
    "start_time": "2023-08-29T20:26:21.105Z"
   },
   {
    "duration": 54,
    "start_time": "2023-08-29T20:26:21.140Z"
   },
   {
    "duration": 5,
    "start_time": "2023-08-29T20:26:21.196Z"
   },
   {
    "duration": 13,
    "start_time": "2023-08-29T20:26:21.204Z"
   },
   {
    "duration": 6,
    "start_time": "2023-08-29T20:26:21.220Z"
   },
   {
    "duration": 14,
    "start_time": "2023-08-29T20:26:21.228Z"
   },
   {
    "duration": 9,
    "start_time": "2023-08-29T20:26:21.244Z"
   },
   {
    "duration": 6,
    "start_time": "2023-08-29T20:26:21.254Z"
   },
   {
    "duration": 12,
    "start_time": "2023-08-29T20:26:21.263Z"
   },
   {
    "duration": 150,
    "start_time": "2023-08-29T20:26:21.276Z"
   },
   {
    "duration": 21,
    "start_time": "2023-08-29T20:26:21.427Z"
   },
   {
    "duration": 7,
    "start_time": "2023-08-29T20:26:21.450Z"
   },
   {
    "duration": 15,
    "start_time": "2023-08-29T20:26:21.459Z"
   },
   {
    "duration": 31,
    "start_time": "2023-08-29T20:26:21.476Z"
   },
   {
    "duration": 11,
    "start_time": "2023-08-29T20:26:21.510Z"
   },
   {
    "duration": 19,
    "start_time": "2023-08-29T20:26:21.523Z"
   },
   {
    "duration": 16,
    "start_time": "2023-08-29T20:26:21.544Z"
   },
   {
    "duration": 83,
    "start_time": "2023-08-29T20:26:21.561Z"
   },
   {
    "duration": 9,
    "start_time": "2023-08-29T20:26:21.646Z"
   },
   {
    "duration": 6,
    "start_time": "2023-08-29T20:26:21.656Z"
   },
   {
    "duration": 6,
    "start_time": "2023-08-29T20:26:21.663Z"
   },
   {
    "duration": 4,
    "start_time": "2023-08-29T20:27:38.376Z"
   },
   {
    "duration": 1080,
    "start_time": "2023-08-29T20:27:38.382Z"
   },
   {
    "duration": 104,
    "start_time": "2023-08-29T20:27:39.464Z"
   },
   {
    "duration": 48,
    "start_time": "2023-08-29T20:27:39.570Z"
   },
   {
    "duration": 78,
    "start_time": "2023-08-29T20:27:39.621Z"
   },
   {
    "duration": 83,
    "start_time": "2023-08-29T20:27:39.701Z"
   },
   {
    "duration": 68,
    "start_time": "2023-08-29T20:27:39.786Z"
   },
   {
    "duration": 6,
    "start_time": "2023-08-29T20:27:39.856Z"
   },
   {
    "duration": 32,
    "start_time": "2023-08-29T20:27:39.864Z"
   },
   {
    "duration": 42,
    "start_time": "2023-08-29T20:27:39.898Z"
   },
   {
    "duration": 34,
    "start_time": "2023-08-29T20:27:39.941Z"
   },
   {
    "duration": 33,
    "start_time": "2023-08-29T20:27:39.978Z"
   },
   {
    "duration": 23,
    "start_time": "2023-08-29T20:27:40.013Z"
   },
   {
    "duration": 31,
    "start_time": "2023-08-29T20:27:40.039Z"
   },
   {
    "duration": 189,
    "start_time": "2023-08-29T20:27:40.072Z"
   },
   {
    "duration": 21,
    "start_time": "2023-08-29T20:27:40.263Z"
   },
   {
    "duration": 30,
    "start_time": "2023-08-29T20:27:40.286Z"
   },
   {
    "duration": 45,
    "start_time": "2023-08-29T20:27:40.318Z"
   },
   {
    "duration": 32,
    "start_time": "2023-08-29T20:27:40.365Z"
   },
   {
    "duration": 28,
    "start_time": "2023-08-29T20:27:40.399Z"
   },
   {
    "duration": 30,
    "start_time": "2023-08-29T20:27:40.429Z"
   },
   {
    "duration": 34,
    "start_time": "2023-08-29T20:27:40.460Z"
   },
   {
    "duration": 96,
    "start_time": "2023-08-29T20:27:40.496Z"
   },
   {
    "duration": 9,
    "start_time": "2023-08-29T20:27:40.593Z"
   },
   {
    "duration": 35,
    "start_time": "2023-08-29T20:27:40.604Z"
   },
   {
    "duration": 41,
    "start_time": "2023-08-29T20:27:40.640Z"
   },
   {
    "duration": 90,
    "start_time": "2023-08-29T20:27:40.683Z"
   },
   {
    "duration": 0,
    "start_time": "2023-08-29T20:27:40.775Z"
   },
   {
    "duration": 0,
    "start_time": "2023-08-29T20:27:40.775Z"
   },
   {
    "duration": 0,
    "start_time": "2023-08-29T20:27:40.777Z"
   },
   {
    "duration": 0,
    "start_time": "2023-08-29T20:27:40.778Z"
   },
   {
    "duration": 3,
    "start_time": "2023-08-29T20:27:45.680Z"
   },
   {
    "duration": 805,
    "start_time": "2023-08-29T20:27:45.685Z"
   },
   {
    "duration": 98,
    "start_time": "2023-08-29T20:27:46.491Z"
   },
   {
    "duration": 52,
    "start_time": "2023-08-29T20:27:46.591Z"
   },
   {
    "duration": 44,
    "start_time": "2023-08-29T20:27:46.645Z"
   },
   {
    "duration": 46,
    "start_time": "2023-08-29T20:27:46.691Z"
   },
   {
    "duration": 98,
    "start_time": "2023-08-29T20:27:46.739Z"
   },
   {
    "duration": 5,
    "start_time": "2023-08-29T20:27:46.839Z"
   },
   {
    "duration": 12,
    "start_time": "2023-08-29T20:27:46.846Z"
   },
   {
    "duration": 8,
    "start_time": "2023-08-29T20:27:46.860Z"
   },
   {
    "duration": 10,
    "start_time": "2023-08-29T20:27:46.870Z"
   },
   {
    "duration": 7,
    "start_time": "2023-08-29T20:27:46.882Z"
   },
   {
    "duration": 33,
    "start_time": "2023-08-29T20:27:46.891Z"
   },
   {
    "duration": 8,
    "start_time": "2023-08-29T20:27:46.928Z"
   },
   {
    "duration": 165,
    "start_time": "2023-08-29T20:27:46.938Z"
   },
   {
    "duration": 30,
    "start_time": "2023-08-29T20:27:47.105Z"
   },
   {
    "duration": 9,
    "start_time": "2023-08-29T20:27:47.136Z"
   },
   {
    "duration": 25,
    "start_time": "2023-08-29T20:27:47.146Z"
   },
   {
    "duration": 31,
    "start_time": "2023-08-29T20:27:47.173Z"
   },
   {
    "duration": 19,
    "start_time": "2023-08-29T20:27:47.207Z"
   },
   {
    "duration": 24,
    "start_time": "2023-08-29T20:27:47.228Z"
   },
   {
    "duration": 15,
    "start_time": "2023-08-29T20:27:47.254Z"
   },
   {
    "duration": 64,
    "start_time": "2023-08-29T20:27:47.271Z"
   },
   {
    "duration": 9,
    "start_time": "2023-08-29T20:27:47.337Z"
   },
   {
    "duration": 28,
    "start_time": "2023-08-29T20:27:47.348Z"
   },
   {
    "duration": 14,
    "start_time": "2023-08-29T20:27:47.378Z"
   },
   {
    "duration": 69,
    "start_time": "2023-08-29T20:27:47.394Z"
   },
   {
    "duration": 6,
    "start_time": "2023-08-29T20:27:47.465Z"
   },
   {
    "duration": 31,
    "start_time": "2023-08-29T20:27:47.473Z"
   },
   {
    "duration": 21,
    "start_time": "2023-08-29T20:27:47.507Z"
   },
   {
    "duration": 4,
    "start_time": "2023-08-29T20:28:39.014Z"
   },
   {
    "duration": 741,
    "start_time": "2023-08-29T20:28:39.022Z"
   },
   {
    "duration": 97,
    "start_time": "2023-08-29T20:28:39.764Z"
   },
   {
    "duration": 42,
    "start_time": "2023-08-29T20:28:39.863Z"
   },
   {
    "duration": 34,
    "start_time": "2023-08-29T20:28:39.907Z"
   },
   {
    "duration": 25,
    "start_time": "2023-08-29T20:28:39.942Z"
   },
   {
    "duration": 69,
    "start_time": "2023-08-29T20:28:39.969Z"
   },
   {
    "duration": 4,
    "start_time": "2023-08-29T20:28:40.040Z"
   },
   {
    "duration": 15,
    "start_time": "2023-08-29T20:28:40.045Z"
   },
   {
    "duration": 5,
    "start_time": "2023-08-29T20:28:40.062Z"
   },
   {
    "duration": 8,
    "start_time": "2023-08-29T20:28:40.069Z"
   },
   {
    "duration": 16,
    "start_time": "2023-08-29T20:28:40.079Z"
   },
   {
    "duration": 17,
    "start_time": "2023-08-29T20:28:40.097Z"
   },
   {
    "duration": 5,
    "start_time": "2023-08-29T20:28:40.117Z"
   },
   {
    "duration": 143,
    "start_time": "2023-08-29T20:28:40.124Z"
   },
   {
    "duration": 20,
    "start_time": "2023-08-29T20:28:40.269Z"
   },
   {
    "duration": 10,
    "start_time": "2023-08-29T20:28:40.300Z"
   },
   {
    "duration": 13,
    "start_time": "2023-08-29T20:28:40.312Z"
   },
   {
    "duration": 25,
    "start_time": "2023-08-29T20:28:40.328Z"
   },
   {
    "duration": 18,
    "start_time": "2023-08-29T20:28:40.354Z"
   },
   {
    "duration": 36,
    "start_time": "2023-08-29T20:28:40.374Z"
   },
   {
    "duration": 16,
    "start_time": "2023-08-29T20:28:40.412Z"
   },
   {
    "duration": 71,
    "start_time": "2023-08-29T20:28:40.430Z"
   },
   {
    "duration": 9,
    "start_time": "2023-08-29T20:28:40.503Z"
   },
   {
    "duration": 8,
    "start_time": "2023-08-29T20:28:40.514Z"
   },
   {
    "duration": 21,
    "start_time": "2023-08-29T20:28:40.524Z"
   },
   {
    "duration": 83,
    "start_time": "2023-08-29T20:28:40.547Z"
   },
   {
    "duration": 5,
    "start_time": "2023-08-29T20:28:40.633Z"
   },
   {
    "duration": 33,
    "start_time": "2023-08-29T20:28:40.640Z"
   },
   {
    "duration": 8,
    "start_time": "2023-08-29T20:28:40.674Z"
   },
   {
    "duration": 259,
    "start_time": "2023-08-29T20:28:40.684Z"
   },
   {
    "duration": 5,
    "start_time": "2023-08-29T20:28:40.945Z"
   },
   {
    "duration": 40,
    "start_time": "2023-08-29T20:28:40.951Z"
   },
   {
    "duration": 16,
    "start_time": "2023-08-29T20:28:41.005Z"
   },
   {
    "duration": 75,
    "start_time": "2023-08-29T20:28:41.024Z"
   },
   {
    "duration": 125,
    "start_time": "2023-08-29T20:29:27.728Z"
   },
   {
    "duration": 9,
    "start_time": "2023-08-29T20:31:56.191Z"
   },
   {
    "duration": 10,
    "start_time": "2023-08-29T20:31:57.116Z"
   },
   {
    "duration": 5,
    "start_time": "2023-08-29T20:33:49.695Z"
   },
   {
    "duration": 10,
    "start_time": "2023-08-29T20:33:58.735Z"
   },
   {
    "duration": 3,
    "start_time": "2023-08-29T20:34:11.981Z"
   },
   {
    "duration": 1478,
    "start_time": "2023-08-29T20:34:11.990Z"
   },
   {
    "duration": 99,
    "start_time": "2023-08-29T20:34:13.471Z"
   },
   {
    "duration": 40,
    "start_time": "2023-08-29T20:34:13.572Z"
   },
   {
    "duration": 44,
    "start_time": "2023-08-29T20:34:13.614Z"
   },
   {
    "duration": 28,
    "start_time": "2023-08-29T20:34:13.660Z"
   },
   {
    "duration": 68,
    "start_time": "2023-08-29T20:34:13.690Z"
   },
   {
    "duration": 5,
    "start_time": "2023-08-29T20:34:13.760Z"
   },
   {
    "duration": 7,
    "start_time": "2023-08-29T20:34:13.767Z"
   },
   {
    "duration": 12,
    "start_time": "2023-08-29T20:34:13.776Z"
   },
   {
    "duration": 15,
    "start_time": "2023-08-29T20:34:13.791Z"
   },
   {
    "duration": 16,
    "start_time": "2023-08-29T20:34:13.807Z"
   },
   {
    "duration": 26,
    "start_time": "2023-08-29T20:34:13.825Z"
   },
   {
    "duration": 23,
    "start_time": "2023-08-29T20:34:13.853Z"
   },
   {
    "duration": 170,
    "start_time": "2023-08-29T20:34:13.878Z"
   },
   {
    "duration": 21,
    "start_time": "2023-08-29T20:34:14.050Z"
   },
   {
    "duration": 7,
    "start_time": "2023-08-29T20:34:14.073Z"
   },
   {
    "duration": 34,
    "start_time": "2023-08-29T20:34:14.082Z"
   },
   {
    "duration": 23,
    "start_time": "2023-08-29T20:34:14.118Z"
   },
   {
    "duration": 11,
    "start_time": "2023-08-29T20:34:14.143Z"
   },
   {
    "duration": 30,
    "start_time": "2023-08-29T20:34:14.156Z"
   },
   {
    "duration": 16,
    "start_time": "2023-08-29T20:34:14.188Z"
   },
   {
    "duration": 82,
    "start_time": "2023-08-29T20:34:14.207Z"
   },
   {
    "duration": 7,
    "start_time": "2023-08-29T20:34:14.291Z"
   },
   {
    "duration": 11,
    "start_time": "2023-08-29T20:34:14.300Z"
   },
   {
    "duration": 8,
    "start_time": "2023-08-29T20:34:14.316Z"
   },
   {
    "duration": 64,
    "start_time": "2023-08-29T20:34:14.326Z"
   },
   {
    "duration": 16,
    "start_time": "2023-08-29T20:34:14.392Z"
   },
   {
    "duration": 21,
    "start_time": "2023-08-29T20:34:14.413Z"
   },
   {
    "duration": 8,
    "start_time": "2023-08-29T20:34:14.436Z"
   },
   {
    "duration": 318,
    "start_time": "2023-08-29T20:34:14.445Z"
   },
   {
    "duration": 7,
    "start_time": "2023-08-29T20:34:14.766Z"
   },
   {
    "duration": 62,
    "start_time": "2023-08-29T20:34:14.775Z"
   },
   {
    "duration": 12,
    "start_time": "2023-08-29T20:34:14.839Z"
   },
   {
    "duration": 149,
    "start_time": "2023-08-29T20:34:14.853Z"
   },
   {
    "duration": 12,
    "start_time": "2023-08-29T20:34:15.004Z"
   },
   {
    "duration": 139,
    "start_time": "2023-08-29T20:34:15.018Z"
   },
   {
    "duration": 133,
    "start_time": "2023-08-29T20:34:15.158Z"
   },
   {
    "duration": 10,
    "start_time": "2023-08-29T20:34:15.293Z"
   },
   {
    "duration": 13,
    "start_time": "2023-08-29T20:34:15.305Z"
   },
   {
    "duration": 4,
    "start_time": "2023-08-29T20:39:05.632Z"
   },
   {
    "duration": 696,
    "start_time": "2023-08-29T20:39:05.638Z"
   },
   {
    "duration": 105,
    "start_time": "2023-08-29T20:39:06.335Z"
   },
   {
    "duration": 33,
    "start_time": "2023-08-29T20:39:06.442Z"
   },
   {
    "duration": 46,
    "start_time": "2023-08-29T20:39:06.477Z"
   },
   {
    "duration": 36,
    "start_time": "2023-08-29T20:39:06.525Z"
   },
   {
    "duration": 57,
    "start_time": "2023-08-29T20:39:06.563Z"
   },
   {
    "duration": 5,
    "start_time": "2023-08-29T20:39:06.623Z"
   },
   {
    "duration": 10,
    "start_time": "2023-08-29T20:39:06.631Z"
   },
   {
    "duration": 21,
    "start_time": "2023-08-29T20:39:06.643Z"
   },
   {
    "duration": 19,
    "start_time": "2023-08-29T20:39:06.666Z"
   },
   {
    "duration": 38,
    "start_time": "2023-08-29T20:39:06.686Z"
   },
   {
    "duration": 21,
    "start_time": "2023-08-29T20:39:06.726Z"
   },
   {
    "duration": 10,
    "start_time": "2023-08-29T20:39:06.749Z"
   },
   {
    "duration": 158,
    "start_time": "2023-08-29T20:39:06.761Z"
   },
   {
    "duration": 22,
    "start_time": "2023-08-29T20:39:06.922Z"
   },
   {
    "duration": 8,
    "start_time": "2023-08-29T20:39:06.945Z"
   },
   {
    "duration": 13,
    "start_time": "2023-08-29T20:39:06.954Z"
   },
   {
    "duration": 14,
    "start_time": "2023-08-29T20:39:06.970Z"
   },
   {
    "duration": 28,
    "start_time": "2023-08-29T20:39:06.986Z"
   },
   {
    "duration": 17,
    "start_time": "2023-08-29T20:39:07.016Z"
   },
   {
    "duration": 13,
    "start_time": "2023-08-29T20:39:07.034Z"
   },
   {
    "duration": 76,
    "start_time": "2023-08-29T20:39:07.050Z"
   },
   {
    "duration": 8,
    "start_time": "2023-08-29T20:39:07.131Z"
   },
   {
    "duration": 26,
    "start_time": "2023-08-29T20:39:07.141Z"
   },
   {
    "duration": 14,
    "start_time": "2023-08-29T20:39:07.168Z"
   },
   {
    "duration": 80,
    "start_time": "2023-08-29T20:39:07.183Z"
   },
   {
    "duration": 6,
    "start_time": "2023-08-29T20:39:07.264Z"
   },
   {
    "duration": 33,
    "start_time": "2023-08-29T20:39:07.271Z"
   },
   {
    "duration": 13,
    "start_time": "2023-08-29T20:39:07.306Z"
   },
   {
    "duration": 300,
    "start_time": "2023-08-29T20:39:07.321Z"
   },
   {
    "duration": 7,
    "start_time": "2023-08-29T20:39:07.623Z"
   },
   {
    "duration": 40,
    "start_time": "2023-08-29T20:39:07.631Z"
   },
   {
    "duration": 37,
    "start_time": "2023-08-29T20:39:07.673Z"
   },
   {
    "duration": 122,
    "start_time": "2023-08-29T20:39:07.712Z"
   },
   {
    "duration": 9,
    "start_time": "2023-08-29T20:39:07.836Z"
   },
   {
    "duration": 23,
    "start_time": "2023-08-29T20:39:07.847Z"
   },
   {
    "duration": 161,
    "start_time": "2023-08-29T20:39:07.872Z"
   },
   {
    "duration": 6,
    "start_time": "2023-08-29T20:39:08.035Z"
   },
   {
    "duration": 26,
    "start_time": "2023-08-29T20:39:08.043Z"
   },
   {
    "duration": 19,
    "start_time": "2023-08-29T20:39:08.071Z"
   },
   {
    "duration": 16,
    "start_time": "2023-08-29T20:39:08.092Z"
   },
   {
    "duration": 14,
    "start_time": "2023-08-29T20:39:08.111Z"
   },
   {
    "duration": 7,
    "start_time": "2023-08-29T20:39:08.127Z"
   },
   {
    "duration": 12,
    "start_time": "2023-08-29T20:39:08.135Z"
   },
   {
    "duration": 29,
    "start_time": "2023-08-29T20:39:08.148Z"
   },
   {
    "duration": 10,
    "start_time": "2023-08-29T20:39:08.179Z"
   },
   {
    "duration": 21,
    "start_time": "2023-08-29T20:39:08.191Z"
   },
   {
    "duration": 11,
    "start_time": "2023-08-29T20:39:08.215Z"
   },
   {
    "duration": 3,
    "start_time": "2023-08-29T20:40:32.452Z"
   },
   {
    "duration": 815,
    "start_time": "2023-08-29T20:40:32.458Z"
   },
   {
    "duration": 103,
    "start_time": "2023-08-29T20:40:33.275Z"
   },
   {
    "duration": 56,
    "start_time": "2023-08-29T20:40:33.380Z"
   },
   {
    "duration": 62,
    "start_time": "2023-08-29T20:40:33.437Z"
   },
   {
    "duration": 51,
    "start_time": "2023-08-29T20:40:33.502Z"
   },
   {
    "duration": 100,
    "start_time": "2023-08-29T20:40:33.554Z"
   },
   {
    "duration": 30,
    "start_time": "2023-08-29T20:40:33.655Z"
   },
   {
    "duration": 27,
    "start_time": "2023-08-29T20:40:33.687Z"
   },
   {
    "duration": 54,
    "start_time": "2023-08-29T20:40:33.718Z"
   },
   {
    "duration": 33,
    "start_time": "2023-08-29T20:40:33.774Z"
   },
   {
    "duration": 17,
    "start_time": "2023-08-29T20:40:33.809Z"
   },
   {
    "duration": 25,
    "start_time": "2023-08-29T20:40:33.827Z"
   },
   {
    "duration": 30,
    "start_time": "2023-08-29T20:40:33.853Z"
   },
   {
    "duration": 169,
    "start_time": "2023-08-29T20:40:33.884Z"
   },
   {
    "duration": 20,
    "start_time": "2023-08-29T20:40:34.055Z"
   },
   {
    "duration": 23,
    "start_time": "2023-08-29T20:40:34.077Z"
   },
   {
    "duration": 16,
    "start_time": "2023-08-29T20:40:34.102Z"
   },
   {
    "duration": 21,
    "start_time": "2023-08-29T20:40:34.120Z"
   },
   {
    "duration": 69,
    "start_time": "2023-08-29T20:40:34.143Z"
   },
   {
    "duration": 12,
    "start_time": "2023-08-29T20:40:34.215Z"
   },
   {
    "duration": 14,
    "start_time": "2023-08-29T20:40:34.229Z"
   },
   {
    "duration": 78,
    "start_time": "2023-08-29T20:40:34.245Z"
   },
   {
    "duration": 10,
    "start_time": "2023-08-29T20:40:34.325Z"
   },
   {
    "duration": 6,
    "start_time": "2023-08-29T20:40:34.337Z"
   },
   {
    "duration": 8,
    "start_time": "2023-08-29T20:40:34.344Z"
   },
   {
    "duration": 89,
    "start_time": "2023-08-29T20:40:34.354Z"
   },
   {
    "duration": 6,
    "start_time": "2023-08-29T20:40:34.446Z"
   },
   {
    "duration": 19,
    "start_time": "2023-08-29T20:40:34.453Z"
   },
   {
    "duration": 11,
    "start_time": "2023-08-29T20:40:34.474Z"
   },
   {
    "duration": 291,
    "start_time": "2023-08-29T20:40:34.506Z"
   },
   {
    "duration": 7,
    "start_time": "2023-08-29T20:40:34.798Z"
   },
   {
    "duration": 43,
    "start_time": "2023-08-29T20:40:34.806Z"
   },
   {
    "duration": 11,
    "start_time": "2023-08-29T20:40:34.851Z"
   },
   {
    "duration": 147,
    "start_time": "2023-08-29T20:40:34.863Z"
   },
   {
    "duration": 12,
    "start_time": "2023-08-29T20:40:35.012Z"
   },
   {
    "duration": 21,
    "start_time": "2023-08-29T20:40:35.026Z"
   },
   {
    "duration": 154,
    "start_time": "2023-08-29T20:40:35.049Z"
   },
   {
    "duration": 7,
    "start_time": "2023-08-29T20:40:35.206Z"
   },
   {
    "duration": 30,
    "start_time": "2023-08-29T20:40:35.215Z"
   },
   {
    "duration": 65,
    "start_time": "2023-08-29T20:40:35.248Z"
   },
   {
    "duration": 54,
    "start_time": "2023-08-29T20:40:35.315Z"
   },
   {
    "duration": 25,
    "start_time": "2023-08-29T20:40:35.371Z"
   },
   {
    "duration": 24,
    "start_time": "2023-08-29T20:40:35.397Z"
   },
   {
    "duration": 25,
    "start_time": "2023-08-29T20:40:35.423Z"
   },
   {
    "duration": 34,
    "start_time": "2023-08-29T20:40:35.450Z"
   },
   {
    "duration": 39,
    "start_time": "2023-08-29T20:40:35.486Z"
   },
   {
    "duration": 45,
    "start_time": "2023-08-29T20:40:35.527Z"
   },
   {
    "duration": 39,
    "start_time": "2023-08-29T20:40:35.574Z"
   },
   {
    "duration": 20,
    "start_time": "2023-08-29T20:40:35.615Z"
   },
   {
    "duration": 61,
    "start_time": "2023-08-29T20:40:35.637Z"
   },
   {
    "duration": 4,
    "start_time": "2023-08-29T20:42:27.095Z"
   },
   {
    "duration": 774,
    "start_time": "2023-08-29T20:42:27.101Z"
   },
   {
    "duration": 100,
    "start_time": "2023-08-29T20:42:27.877Z"
   },
   {
    "duration": 59,
    "start_time": "2023-08-29T20:42:27.980Z"
   },
   {
    "duration": 62,
    "start_time": "2023-08-29T20:42:28.041Z"
   },
   {
    "duration": 56,
    "start_time": "2023-08-29T20:42:28.105Z"
   },
   {
    "duration": 76,
    "start_time": "2023-08-29T20:42:28.162Z"
   },
   {
    "duration": 13,
    "start_time": "2023-08-29T20:42:28.240Z"
   },
   {
    "duration": 28,
    "start_time": "2023-08-29T20:42:28.255Z"
   },
   {
    "duration": 35,
    "start_time": "2023-08-29T20:42:28.285Z"
   },
   {
    "duration": 16,
    "start_time": "2023-08-29T20:42:28.323Z"
   },
   {
    "duration": 20,
    "start_time": "2023-08-29T20:42:28.340Z"
   },
   {
    "duration": 28,
    "start_time": "2023-08-29T20:42:28.361Z"
   },
   {
    "duration": 11,
    "start_time": "2023-08-29T20:42:28.393Z"
   },
   {
    "duration": 183,
    "start_time": "2023-08-29T20:42:28.406Z"
   },
   {
    "duration": 23,
    "start_time": "2023-08-29T20:42:28.591Z"
   },
   {
    "duration": 23,
    "start_time": "2023-08-29T20:42:28.615Z"
   },
   {
    "duration": 16,
    "start_time": "2023-08-29T20:42:28.640Z"
   },
   {
    "duration": 30,
    "start_time": "2023-08-29T20:42:28.658Z"
   },
   {
    "duration": 16,
    "start_time": "2023-08-29T20:42:28.690Z"
   },
   {
    "duration": 27,
    "start_time": "2023-08-29T20:42:28.708Z"
   },
   {
    "duration": 15,
    "start_time": "2023-08-29T20:42:28.737Z"
   },
   {
    "duration": 73,
    "start_time": "2023-08-29T20:42:28.754Z"
   },
   {
    "duration": 7,
    "start_time": "2023-08-29T20:42:28.829Z"
   },
   {
    "duration": 15,
    "start_time": "2023-08-29T20:42:28.838Z"
   },
   {
    "duration": 11,
    "start_time": "2023-08-29T20:42:28.855Z"
   },
   {
    "duration": 96,
    "start_time": "2023-08-29T20:42:28.867Z"
   },
   {
    "duration": 5,
    "start_time": "2023-08-29T20:42:28.964Z"
   },
   {
    "duration": 31,
    "start_time": "2023-08-29T20:42:28.971Z"
   },
   {
    "duration": 20,
    "start_time": "2023-08-29T20:42:29.004Z"
   },
   {
    "duration": 259,
    "start_time": "2023-08-29T20:42:29.026Z"
   },
   {
    "duration": 14,
    "start_time": "2023-08-29T20:42:29.287Z"
   },
   {
    "duration": 37,
    "start_time": "2023-08-29T20:42:29.305Z"
   },
   {
    "duration": 11,
    "start_time": "2023-08-29T20:42:29.344Z"
   },
   {
    "duration": 122,
    "start_time": "2023-08-29T20:42:29.357Z"
   },
   {
    "duration": 26,
    "start_time": "2023-08-29T20:42:29.481Z"
   },
   {
    "duration": 30,
    "start_time": "2023-08-29T20:42:29.509Z"
   },
   {
    "duration": 138,
    "start_time": "2023-08-29T20:42:29.541Z"
   },
   {
    "duration": 6,
    "start_time": "2023-08-29T20:42:29.681Z"
   },
   {
    "duration": 16,
    "start_time": "2023-08-29T20:42:29.688Z"
   },
   {
    "duration": 9,
    "start_time": "2023-08-29T20:42:29.710Z"
   },
   {
    "duration": 7,
    "start_time": "2023-08-29T20:42:29.722Z"
   },
   {
    "duration": 14,
    "start_time": "2023-08-29T20:42:29.731Z"
   },
   {
    "duration": 8,
    "start_time": "2023-08-29T20:42:29.746Z"
   },
   {
    "duration": 8,
    "start_time": "2023-08-29T20:42:29.756Z"
   },
   {
    "duration": 43,
    "start_time": "2023-08-29T20:42:29.765Z"
   },
   {
    "duration": 14,
    "start_time": "2023-08-29T20:42:29.810Z"
   },
   {
    "duration": 9,
    "start_time": "2023-08-29T20:42:29.826Z"
   },
   {
    "duration": 8,
    "start_time": "2023-08-29T20:42:29.836Z"
   },
   {
    "duration": 32,
    "start_time": "2023-08-29T20:42:29.846Z"
   },
   {
    "duration": 57,
    "start_time": "2023-08-29T20:42:29.879Z"
   },
   {
    "duration": 20,
    "start_time": "2023-08-29T20:42:29.938Z"
   },
   {
    "duration": 21,
    "start_time": "2023-08-29T20:42:29.960Z"
   },
   {
    "duration": 160,
    "start_time": "2023-08-29T20:42:29.982Z"
   },
   {
    "duration": 114,
    "start_time": "2023-08-29T20:42:30.143Z"
   },
   {
    "duration": 364,
    "start_time": "2023-08-29T20:42:30.258Z"
   },
   {
    "duration": 4,
    "start_time": "2023-08-29T20:43:27.152Z"
   },
   {
    "duration": 794,
    "start_time": "2023-08-29T20:43:27.158Z"
   },
   {
    "duration": 105,
    "start_time": "2023-08-29T20:43:27.953Z"
   },
   {
    "duration": 44,
    "start_time": "2023-08-29T20:43:28.060Z"
   },
   {
    "duration": 40,
    "start_time": "2023-08-29T20:43:28.106Z"
   },
   {
    "duration": 35,
    "start_time": "2023-08-29T20:43:28.148Z"
   },
   {
    "duration": 53,
    "start_time": "2023-08-29T20:43:28.185Z"
   },
   {
    "duration": 5,
    "start_time": "2023-08-29T20:43:28.239Z"
   },
   {
    "duration": 21,
    "start_time": "2023-08-29T20:43:28.246Z"
   },
   {
    "duration": 33,
    "start_time": "2023-08-29T20:43:28.268Z"
   },
   {
    "duration": 19,
    "start_time": "2023-08-29T20:43:28.302Z"
   },
   {
    "duration": 33,
    "start_time": "2023-08-29T20:43:28.323Z"
   },
   {
    "duration": 22,
    "start_time": "2023-08-29T20:43:28.358Z"
   },
   {
    "duration": 17,
    "start_time": "2023-08-29T20:43:28.382Z"
   },
   {
    "duration": 162,
    "start_time": "2023-08-29T20:43:28.401Z"
   },
   {
    "duration": 25,
    "start_time": "2023-08-29T20:43:28.565Z"
   },
   {
    "duration": 21,
    "start_time": "2023-08-29T20:43:28.591Z"
   },
   {
    "duration": 17,
    "start_time": "2023-08-29T20:43:28.614Z"
   },
   {
    "duration": 13,
    "start_time": "2023-08-29T20:43:28.633Z"
   },
   {
    "duration": 6,
    "start_time": "2023-08-29T20:43:28.648Z"
   },
   {
    "duration": 15,
    "start_time": "2023-08-29T20:43:28.657Z"
   },
   {
    "duration": 17,
    "start_time": "2023-08-29T20:43:28.702Z"
   },
   {
    "duration": 65,
    "start_time": "2023-08-29T20:43:28.721Z"
   },
   {
    "duration": 7,
    "start_time": "2023-08-29T20:43:28.790Z"
   },
   {
    "duration": 17,
    "start_time": "2023-08-29T20:43:28.798Z"
   },
   {
    "duration": 10,
    "start_time": "2023-08-29T20:43:28.817Z"
   },
   {
    "duration": 59,
    "start_time": "2023-08-29T20:43:28.828Z"
   },
   {
    "duration": 17,
    "start_time": "2023-08-29T20:43:28.888Z"
   },
   {
    "duration": 25,
    "start_time": "2023-08-29T20:43:28.907Z"
   },
   {
    "duration": 11,
    "start_time": "2023-08-29T20:43:28.933Z"
   },
   {
    "duration": 252,
    "start_time": "2023-08-29T20:43:28.945Z"
   },
   {
    "duration": 6,
    "start_time": "2023-08-29T20:43:29.198Z"
   },
   {
    "duration": 45,
    "start_time": "2023-08-29T20:43:29.206Z"
   },
   {
    "duration": 11,
    "start_time": "2023-08-29T20:43:29.253Z"
   },
   {
    "duration": 136,
    "start_time": "2023-08-29T20:43:29.266Z"
   },
   {
    "duration": 13,
    "start_time": "2023-08-29T20:43:29.406Z"
   },
   {
    "duration": 20,
    "start_time": "2023-08-29T20:43:29.421Z"
   },
   {
    "duration": 132,
    "start_time": "2023-08-29T20:43:29.443Z"
   },
   {
    "duration": 5,
    "start_time": "2023-08-29T20:43:29.577Z"
   },
   {
    "duration": 35,
    "start_time": "2023-08-29T20:43:29.584Z"
   },
   {
    "duration": 57,
    "start_time": "2023-08-29T20:43:29.622Z"
   },
   {
    "duration": 70,
    "start_time": "2023-08-29T20:43:29.680Z"
   },
   {
    "duration": 10,
    "start_time": "2023-08-29T20:43:29.752Z"
   },
   {
    "duration": 11,
    "start_time": "2023-08-29T20:43:29.763Z"
   },
   {
    "duration": 9,
    "start_time": "2023-08-29T20:43:29.776Z"
   },
   {
    "duration": 9,
    "start_time": "2023-08-29T20:43:29.787Z"
   },
   {
    "duration": 22,
    "start_time": "2023-08-29T20:43:29.798Z"
   },
   {
    "duration": 8,
    "start_time": "2023-08-29T20:43:29.823Z"
   },
   {
    "duration": 12,
    "start_time": "2023-08-29T20:43:29.832Z"
   },
   {
    "duration": 15,
    "start_time": "2023-08-29T20:43:29.846Z"
   },
   {
    "duration": 47,
    "start_time": "2023-08-29T20:43:29.863Z"
   },
   {
    "duration": 23,
    "start_time": "2023-08-29T20:43:29.912Z"
   },
   {
    "duration": 21,
    "start_time": "2023-08-29T20:43:29.937Z"
   },
   {
    "duration": 160,
    "start_time": "2023-08-29T20:43:29.960Z"
   },
   {
    "duration": 116,
    "start_time": "2023-08-29T20:43:30.122Z"
   },
   {
    "duration": 314,
    "start_time": "2023-08-29T20:43:30.240Z"
   },
   {
    "duration": 158,
    "start_time": "2023-08-29T20:43:30.556Z"
   },
   {
    "duration": 3,
    "start_time": "2023-08-29T20:44:39.254Z"
   },
   {
    "duration": 840,
    "start_time": "2023-08-29T20:44:39.259Z"
   },
   {
    "duration": 100,
    "start_time": "2023-08-29T20:44:40.102Z"
   },
   {
    "duration": 40,
    "start_time": "2023-08-29T20:44:40.205Z"
   },
   {
    "duration": 32,
    "start_time": "2023-08-29T20:44:40.247Z"
   },
   {
    "duration": 52,
    "start_time": "2023-08-29T20:44:40.282Z"
   },
   {
    "duration": 44,
    "start_time": "2023-08-29T20:44:40.337Z"
   },
   {
    "duration": 4,
    "start_time": "2023-08-29T20:44:40.383Z"
   },
   {
    "duration": 8,
    "start_time": "2023-08-29T20:44:40.389Z"
   },
   {
    "duration": 6,
    "start_time": "2023-08-29T20:44:40.406Z"
   },
   {
    "duration": 12,
    "start_time": "2023-08-29T20:44:40.414Z"
   },
   {
    "duration": 7,
    "start_time": "2023-08-29T20:44:40.428Z"
   },
   {
    "duration": 6,
    "start_time": "2023-08-29T20:44:40.436Z"
   },
   {
    "duration": 17,
    "start_time": "2023-08-29T20:44:40.444Z"
   },
   {
    "duration": 190,
    "start_time": "2023-08-29T20:44:40.462Z"
   },
   {
    "duration": 21,
    "start_time": "2023-08-29T20:44:40.654Z"
   },
   {
    "duration": 9,
    "start_time": "2023-08-29T20:44:40.676Z"
   },
   {
    "duration": 12,
    "start_time": "2023-08-29T20:44:40.701Z"
   },
   {
    "duration": 22,
    "start_time": "2023-08-29T20:44:40.716Z"
   },
   {
    "duration": 11,
    "start_time": "2023-08-29T20:44:40.740Z"
   },
   {
    "duration": 10,
    "start_time": "2023-08-29T20:44:40.752Z"
   },
   {
    "duration": 13,
    "start_time": "2023-08-29T20:44:40.764Z"
   },
   {
    "duration": 87,
    "start_time": "2023-08-29T20:44:40.778Z"
   },
   {
    "duration": 7,
    "start_time": "2023-08-29T20:44:40.867Z"
   },
   {
    "duration": 5,
    "start_time": "2023-08-29T20:44:40.876Z"
   },
   {
    "duration": 10,
    "start_time": "2023-08-29T20:44:40.883Z"
   },
   {
    "duration": 61,
    "start_time": "2023-08-29T20:44:40.895Z"
   },
   {
    "duration": 6,
    "start_time": "2023-08-29T20:44:40.957Z"
   },
   {
    "duration": 27,
    "start_time": "2023-08-29T20:44:40.967Z"
   },
   {
    "duration": 18,
    "start_time": "2023-08-29T20:44:40.995Z"
   },
   {
    "duration": 271,
    "start_time": "2023-08-29T20:44:41.015Z"
   },
   {
    "duration": 20,
    "start_time": "2023-08-29T20:44:41.288Z"
   },
   {
    "duration": 36,
    "start_time": "2023-08-29T20:44:41.310Z"
   },
   {
    "duration": 10,
    "start_time": "2023-08-29T20:44:41.348Z"
   },
   {
    "duration": 132,
    "start_time": "2023-08-29T20:44:41.360Z"
   },
   {
    "duration": 20,
    "start_time": "2023-08-29T20:44:41.494Z"
   },
   {
    "duration": 28,
    "start_time": "2023-08-29T20:44:41.516Z"
   },
   {
    "duration": 159,
    "start_time": "2023-08-29T20:44:41.546Z"
   },
   {
    "duration": 9,
    "start_time": "2023-08-29T20:44:41.707Z"
   },
   {
    "duration": 14,
    "start_time": "2023-08-29T20:44:41.718Z"
   },
   {
    "duration": 20,
    "start_time": "2023-08-29T20:44:41.733Z"
   },
   {
    "duration": 6,
    "start_time": "2023-08-29T20:44:41.755Z"
   },
   {
    "duration": 28,
    "start_time": "2023-08-29T20:44:41.762Z"
   },
   {
    "duration": 21,
    "start_time": "2023-08-29T20:44:41.792Z"
   },
   {
    "duration": 32,
    "start_time": "2023-08-29T20:44:41.816Z"
   },
   {
    "duration": 11,
    "start_time": "2023-08-29T20:44:41.850Z"
   },
   {
    "duration": 12,
    "start_time": "2023-08-29T20:44:41.863Z"
   },
   {
    "duration": 22,
    "start_time": "2023-08-29T20:44:41.877Z"
   },
   {
    "duration": 24,
    "start_time": "2023-08-29T20:44:41.901Z"
   },
   {
    "duration": 14,
    "start_time": "2023-08-29T20:44:41.927Z"
   },
   {
    "duration": 47,
    "start_time": "2023-08-29T20:44:41.943Z"
   },
   {
    "duration": 24,
    "start_time": "2023-08-29T20:44:41.992Z"
   },
   {
    "duration": 26,
    "start_time": "2023-08-29T20:44:42.018Z"
   },
   {
    "duration": 125,
    "start_time": "2023-08-29T20:44:42.046Z"
   },
   {
    "duration": 106,
    "start_time": "2023-08-29T20:44:42.173Z"
   },
   {
    "duration": 308,
    "start_time": "2023-08-29T20:44:42.281Z"
   },
   {
    "duration": 137,
    "start_time": "2023-08-29T20:44:42.591Z"
   },
   {
    "duration": 28,
    "start_time": "2023-08-29T20:44:42.730Z"
   },
   {
    "duration": 15,
    "start_time": "2023-08-29T20:44:42.760Z"
   },
   {
    "duration": 4,
    "start_time": "2023-08-29T20:46:05.690Z"
   },
   {
    "duration": 1013,
    "start_time": "2023-08-29T20:46:05.696Z"
   },
   {
    "duration": 114,
    "start_time": "2023-08-29T20:46:06.711Z"
   },
   {
    "duration": 37,
    "start_time": "2023-08-29T20:46:06.827Z"
   },
   {
    "duration": 67,
    "start_time": "2023-08-29T20:46:06.866Z"
   },
   {
    "duration": 52,
    "start_time": "2023-08-29T20:46:06.935Z"
   },
   {
    "duration": 53,
    "start_time": "2023-08-29T20:46:06.988Z"
   },
   {
    "duration": 5,
    "start_time": "2023-08-29T20:46:07.042Z"
   },
   {
    "duration": 11,
    "start_time": "2023-08-29T20:46:07.048Z"
   },
   {
    "duration": 19,
    "start_time": "2023-08-29T20:46:07.061Z"
   },
   {
    "duration": 8,
    "start_time": "2023-08-29T20:46:07.082Z"
   },
   {
    "duration": 7,
    "start_time": "2023-08-29T20:46:07.092Z"
   },
   {
    "duration": 7,
    "start_time": "2023-08-29T20:46:07.102Z"
   },
   {
    "duration": 15,
    "start_time": "2023-08-29T20:46:07.188Z"
   },
   {
    "duration": 150,
    "start_time": "2023-08-29T20:46:07.205Z"
   },
   {
    "duration": 20,
    "start_time": "2023-08-29T20:46:07.356Z"
   },
   {
    "duration": 7,
    "start_time": "2023-08-29T20:46:07.378Z"
   },
   {
    "duration": 9,
    "start_time": "2023-08-29T20:46:07.401Z"
   },
   {
    "duration": 13,
    "start_time": "2023-08-29T20:46:07.412Z"
   },
   {
    "duration": 8,
    "start_time": "2023-08-29T20:46:07.427Z"
   },
   {
    "duration": 7,
    "start_time": "2023-08-29T20:46:07.436Z"
   },
   {
    "duration": 12,
    "start_time": "2023-08-29T20:46:07.445Z"
   },
   {
    "duration": 101,
    "start_time": "2023-08-29T20:46:07.458Z"
   },
   {
    "duration": 9,
    "start_time": "2023-08-29T20:46:07.561Z"
   },
   {
    "duration": 6,
    "start_time": "2023-08-29T20:46:07.572Z"
   },
   {
    "duration": 5,
    "start_time": "2023-08-29T20:46:07.580Z"
   },
   {
    "duration": 80,
    "start_time": "2023-08-29T20:46:07.587Z"
   },
   {
    "duration": 5,
    "start_time": "2023-08-29T20:46:07.669Z"
   },
   {
    "duration": 27,
    "start_time": "2023-08-29T20:46:07.676Z"
   },
   {
    "duration": 16,
    "start_time": "2023-08-29T20:46:07.706Z"
   },
   {
    "duration": 267,
    "start_time": "2023-08-29T20:46:07.725Z"
   },
   {
    "duration": 13,
    "start_time": "2023-08-29T20:46:07.993Z"
   },
   {
    "duration": 49,
    "start_time": "2023-08-29T20:46:08.008Z"
   },
   {
    "duration": 9,
    "start_time": "2023-08-29T20:46:08.059Z"
   },
   {
    "duration": 141,
    "start_time": "2023-08-29T20:46:08.070Z"
   },
   {
    "duration": 11,
    "start_time": "2023-08-29T20:46:08.214Z"
   },
   {
    "duration": 29,
    "start_time": "2023-08-29T20:46:08.227Z"
   },
   {
    "duration": 132,
    "start_time": "2023-08-29T20:46:08.258Z"
   },
   {
    "duration": 12,
    "start_time": "2023-08-29T20:46:08.392Z"
   },
   {
    "duration": 50,
    "start_time": "2023-08-29T20:46:08.407Z"
   },
   {
    "duration": 16,
    "start_time": "2023-08-29T20:46:08.461Z"
   },
   {
    "duration": 10,
    "start_time": "2023-08-29T20:46:08.478Z"
   },
   {
    "duration": 18,
    "start_time": "2023-08-29T20:46:08.489Z"
   },
   {
    "duration": 18,
    "start_time": "2023-08-29T20:46:08.509Z"
   },
   {
    "duration": 13,
    "start_time": "2023-08-29T20:46:08.529Z"
   },
   {
    "duration": 14,
    "start_time": "2023-08-29T20:46:08.544Z"
   },
   {
    "duration": 21,
    "start_time": "2023-08-29T20:46:08.560Z"
   },
   {
    "duration": 9,
    "start_time": "2023-08-29T20:46:08.583Z"
   },
   {
    "duration": 17,
    "start_time": "2023-08-29T20:46:08.593Z"
   },
   {
    "duration": 14,
    "start_time": "2023-08-29T20:46:08.613Z"
   },
   {
    "duration": 52,
    "start_time": "2023-08-29T20:46:08.629Z"
   },
   {
    "duration": 51,
    "start_time": "2023-08-29T20:46:08.683Z"
   },
   {
    "duration": 22,
    "start_time": "2023-08-29T20:46:08.736Z"
   },
   {
    "duration": 149,
    "start_time": "2023-08-29T20:46:08.759Z"
   },
   {
    "duration": 113,
    "start_time": "2023-08-29T20:46:08.910Z"
   },
   {
    "duration": 309,
    "start_time": "2023-08-29T20:46:09.025Z"
   },
   {
    "duration": 145,
    "start_time": "2023-08-29T20:46:09.335Z"
   },
   {
    "duration": 53,
    "start_time": "2023-08-29T20:46:09.481Z"
   },
   {
    "duration": 15,
    "start_time": "2023-08-29T20:46:09.537Z"
   },
   {
    "duration": 17,
    "start_time": "2023-08-29T20:46:09.554Z"
   },
   {
    "duration": 32,
    "start_time": "2023-08-29T20:46:09.573Z"
   },
   {
    "duration": 37,
    "start_time": "2023-08-29T20:46:09.607Z"
   },
   {
    "duration": 44,
    "start_time": "2023-08-29T20:46:09.646Z"
   },
   {
    "duration": 49,
    "start_time": "2023-08-29T20:46:09.692Z"
   },
   {
    "duration": 14,
    "start_time": "2023-08-29T20:46:09.743Z"
   },
   {
    "duration": 5,
    "start_time": "2023-08-29T20:46:36.606Z"
   },
   {
    "duration": 841,
    "start_time": "2023-08-29T20:46:36.614Z"
   },
   {
    "duration": 112,
    "start_time": "2023-08-29T20:46:37.457Z"
   },
   {
    "duration": 44,
    "start_time": "2023-08-29T20:46:37.573Z"
   },
   {
    "duration": 56,
    "start_time": "2023-08-29T20:46:37.619Z"
   },
   {
    "duration": 42,
    "start_time": "2023-08-29T20:46:37.677Z"
   },
   {
    "duration": 60,
    "start_time": "2023-08-29T20:46:37.722Z"
   },
   {
    "duration": 9,
    "start_time": "2023-08-29T20:46:37.783Z"
   },
   {
    "duration": 49,
    "start_time": "2023-08-29T20:46:37.794Z"
   },
   {
    "duration": 31,
    "start_time": "2023-08-29T20:46:37.846Z"
   },
   {
    "duration": 42,
    "start_time": "2023-08-29T20:46:37.879Z"
   },
   {
    "duration": 30,
    "start_time": "2023-08-29T20:46:37.923Z"
   },
   {
    "duration": 14,
    "start_time": "2023-08-29T20:46:37.955Z"
   },
   {
    "duration": 42,
    "start_time": "2023-08-29T20:46:37.970Z"
   },
   {
    "duration": 189,
    "start_time": "2023-08-29T20:46:38.014Z"
   },
   {
    "duration": 28,
    "start_time": "2023-08-29T20:46:38.205Z"
   },
   {
    "duration": 9,
    "start_time": "2023-08-29T20:46:38.235Z"
   },
   {
    "duration": 56,
    "start_time": "2023-08-29T20:46:38.245Z"
   },
   {
    "duration": 39,
    "start_time": "2023-08-29T20:46:38.303Z"
   },
   {
    "duration": 56,
    "start_time": "2023-08-29T20:46:38.344Z"
   },
   {
    "duration": 51,
    "start_time": "2023-08-29T20:46:38.402Z"
   },
   {
    "duration": 30,
    "start_time": "2023-08-29T20:46:38.456Z"
   },
   {
    "duration": 152,
    "start_time": "2023-08-29T20:46:38.489Z"
   },
   {
    "duration": 10,
    "start_time": "2023-08-29T20:46:38.644Z"
   },
   {
    "duration": 22,
    "start_time": "2023-08-29T20:46:38.655Z"
   },
   {
    "duration": 22,
    "start_time": "2023-08-29T20:46:38.679Z"
   },
   {
    "duration": 104,
    "start_time": "2023-08-29T20:46:38.703Z"
   },
   {
    "duration": 8,
    "start_time": "2023-08-29T20:46:38.813Z"
   },
   {
    "duration": 48,
    "start_time": "2023-08-29T20:46:38.823Z"
   },
   {
    "duration": 16,
    "start_time": "2023-08-29T20:46:38.873Z"
   },
   {
    "duration": 285,
    "start_time": "2023-08-29T20:46:38.890Z"
   },
   {
    "duration": 6,
    "start_time": "2023-08-29T20:46:39.177Z"
   },
   {
    "duration": 61,
    "start_time": "2023-08-29T20:46:39.185Z"
   },
   {
    "duration": 10,
    "start_time": "2023-08-29T20:46:39.248Z"
   },
   {
    "duration": 129,
    "start_time": "2023-08-29T20:46:39.260Z"
   },
   {
    "duration": 19,
    "start_time": "2023-08-29T20:46:39.391Z"
   },
   {
    "duration": 25,
    "start_time": "2023-08-29T20:46:39.412Z"
   },
   {
    "duration": 137,
    "start_time": "2023-08-29T20:46:39.439Z"
   },
   {
    "duration": 5,
    "start_time": "2023-08-29T20:46:39.578Z"
   },
   {
    "duration": 22,
    "start_time": "2023-08-29T20:46:39.585Z"
   },
   {
    "duration": 11,
    "start_time": "2023-08-29T20:46:39.609Z"
   },
   {
    "duration": 12,
    "start_time": "2023-08-29T20:46:39.622Z"
   },
   {
    "duration": 14,
    "start_time": "2023-08-29T20:46:39.635Z"
   },
   {
    "duration": 34,
    "start_time": "2023-08-29T20:46:39.650Z"
   },
   {
    "duration": 10,
    "start_time": "2023-08-29T20:46:39.686Z"
   },
   {
    "duration": 18,
    "start_time": "2023-08-29T20:46:39.698Z"
   },
   {
    "duration": 9,
    "start_time": "2023-08-29T20:46:39.718Z"
   },
   {
    "duration": 9,
    "start_time": "2023-08-29T20:46:39.729Z"
   },
   {
    "duration": 5,
    "start_time": "2023-08-29T20:46:39.739Z"
   },
   {
    "duration": 11,
    "start_time": "2023-08-29T20:46:39.745Z"
   },
   {
    "duration": 73,
    "start_time": "2023-08-29T20:46:39.758Z"
   },
   {
    "duration": 19,
    "start_time": "2023-08-29T20:46:39.833Z"
   },
   {
    "duration": 22,
    "start_time": "2023-08-29T20:46:39.854Z"
   },
   {
    "duration": 166,
    "start_time": "2023-08-29T20:46:39.877Z"
   },
   {
    "duration": 128,
    "start_time": "2023-08-29T20:46:40.045Z"
   },
   {
    "duration": 311,
    "start_time": "2023-08-29T20:46:40.175Z"
   },
   {
    "duration": 149,
    "start_time": "2023-08-29T20:46:40.488Z"
   },
   {
    "duration": 31,
    "start_time": "2023-08-29T20:46:40.638Z"
   },
   {
    "duration": 42,
    "start_time": "2023-08-29T20:46:40.671Z"
   },
   {
    "duration": 24,
    "start_time": "2023-08-29T20:46:40.715Z"
   },
   {
    "duration": 38,
    "start_time": "2023-08-29T20:46:40.741Z"
   },
   {
    "duration": 48,
    "start_time": "2023-08-29T20:46:40.780Z"
   },
   {
    "duration": 48,
    "start_time": "2023-08-29T20:46:40.830Z"
   },
   {
    "duration": 44,
    "start_time": "2023-08-29T20:46:40.880Z"
   },
   {
    "duration": 90,
    "start_time": "2023-08-29T20:46:40.926Z"
   },
   {
    "duration": 20,
    "start_time": "2023-08-29T20:46:41.018Z"
   },
   {
    "duration": 14,
    "start_time": "2023-08-29T20:47:18.759Z"
   },
   {
    "duration": 128,
    "start_time": "2023-08-29T20:47:36.377Z"
   },
   {
    "duration": 26,
    "start_time": "2023-08-29T20:50:12.549Z"
   },
   {
    "duration": 18,
    "start_time": "2023-08-29T20:50:25.334Z"
   },
   {
    "duration": 17,
    "start_time": "2023-08-29T20:51:41.903Z"
   },
   {
    "duration": 4,
    "start_time": "2023-08-29T20:55:31.958Z"
   },
   {
    "duration": 1045,
    "start_time": "2023-08-29T20:55:31.965Z"
   },
   {
    "duration": 115,
    "start_time": "2023-08-29T20:55:33.013Z"
   },
   {
    "duration": 45,
    "start_time": "2023-08-29T20:55:33.130Z"
   },
   {
    "duration": 61,
    "start_time": "2023-08-29T20:55:33.177Z"
   },
   {
    "duration": 39,
    "start_time": "2023-08-29T20:55:33.240Z"
   },
   {
    "duration": 69,
    "start_time": "2023-08-29T20:55:33.281Z"
   },
   {
    "duration": 5,
    "start_time": "2023-08-29T20:55:33.351Z"
   },
   {
    "duration": 21,
    "start_time": "2023-08-29T20:55:33.359Z"
   },
   {
    "duration": 11,
    "start_time": "2023-08-29T20:55:33.381Z"
   },
   {
    "duration": 18,
    "start_time": "2023-08-29T20:55:33.395Z"
   },
   {
    "duration": 20,
    "start_time": "2023-08-29T20:55:33.415Z"
   },
   {
    "duration": 21,
    "start_time": "2023-08-29T20:55:33.437Z"
   },
   {
    "duration": 14,
    "start_time": "2023-08-29T20:55:33.460Z"
   },
   {
    "duration": 176,
    "start_time": "2023-08-29T20:55:33.475Z"
   },
   {
    "duration": 22,
    "start_time": "2023-08-29T20:55:33.654Z"
   },
   {
    "duration": 28,
    "start_time": "2023-08-29T20:55:33.678Z"
   },
   {
    "duration": 14,
    "start_time": "2023-08-29T20:55:33.708Z"
   },
   {
    "duration": 24,
    "start_time": "2023-08-29T20:55:33.724Z"
   },
   {
    "duration": 14,
    "start_time": "2023-08-29T20:55:33.749Z"
   },
   {
    "duration": 16,
    "start_time": "2023-08-29T20:55:33.765Z"
   },
   {
    "duration": 30,
    "start_time": "2023-08-29T20:55:33.783Z"
   },
   {
    "duration": 85,
    "start_time": "2023-08-29T20:55:33.815Z"
   },
   {
    "duration": 15,
    "start_time": "2023-08-29T20:55:33.906Z"
   },
   {
    "duration": 22,
    "start_time": "2023-08-29T20:55:33.923Z"
   },
   {
    "duration": 21,
    "start_time": "2023-08-29T20:55:33.947Z"
   },
   {
    "duration": 84,
    "start_time": "2023-08-29T20:55:33.970Z"
   },
   {
    "duration": 5,
    "start_time": "2023-08-29T20:55:34.056Z"
   },
   {
    "duration": 37,
    "start_time": "2023-08-29T20:55:34.066Z"
   },
   {
    "duration": 21,
    "start_time": "2023-08-29T20:55:34.106Z"
   },
   {
    "duration": 310,
    "start_time": "2023-08-29T20:55:34.130Z"
   },
   {
    "duration": 6,
    "start_time": "2023-08-29T20:55:34.442Z"
   },
   {
    "duration": 59,
    "start_time": "2023-08-29T20:55:34.449Z"
   },
   {
    "duration": 16,
    "start_time": "2023-08-29T20:55:34.510Z"
   },
   {
    "duration": 145,
    "start_time": "2023-08-29T20:55:34.529Z"
   },
   {
    "duration": 31,
    "start_time": "2023-08-29T20:55:34.675Z"
   },
   {
    "duration": 29,
    "start_time": "2023-08-29T20:55:34.709Z"
   },
   {
    "duration": 147,
    "start_time": "2023-08-29T20:55:34.739Z"
   },
   {
    "duration": 8,
    "start_time": "2023-08-29T20:55:34.888Z"
   },
   {
    "duration": 28,
    "start_time": "2023-08-29T20:55:34.898Z"
   },
   {
    "duration": 12,
    "start_time": "2023-08-29T20:55:34.928Z"
   },
   {
    "duration": 26,
    "start_time": "2023-08-29T20:55:34.943Z"
   },
   {
    "duration": 17,
    "start_time": "2023-08-29T20:55:34.971Z"
   },
   {
    "duration": 32,
    "start_time": "2023-08-29T20:55:34.992Z"
   },
   {
    "duration": 29,
    "start_time": "2023-08-29T20:55:35.026Z"
   },
   {
    "duration": 21,
    "start_time": "2023-08-29T20:55:35.058Z"
   },
   {
    "duration": 21,
    "start_time": "2023-08-29T20:55:35.082Z"
   },
   {
    "duration": 15,
    "start_time": "2023-08-29T20:55:35.105Z"
   },
   {
    "duration": 8,
    "start_time": "2023-08-29T20:55:35.122Z"
   },
   {
    "duration": 23,
    "start_time": "2023-08-29T20:55:35.132Z"
   },
   {
    "duration": 65,
    "start_time": "2023-08-29T20:55:35.158Z"
   },
   {
    "duration": 22,
    "start_time": "2023-08-29T20:55:35.225Z"
   },
   {
    "duration": 32,
    "start_time": "2023-08-29T20:55:35.249Z"
   },
   {
    "duration": 138,
    "start_time": "2023-08-29T20:55:35.282Z"
   },
   {
    "duration": 112,
    "start_time": "2023-08-29T20:55:35.422Z"
   },
   {
    "duration": 312,
    "start_time": "2023-08-29T20:55:35.536Z"
   },
   {
    "duration": 176,
    "start_time": "2023-08-29T20:55:35.850Z"
   },
   {
    "duration": 34,
    "start_time": "2023-08-29T20:55:36.028Z"
   },
   {
    "duration": 42,
    "start_time": "2023-08-29T20:55:36.065Z"
   },
   {
    "duration": 23,
    "start_time": "2023-08-29T20:55:36.109Z"
   },
   {
    "duration": 13,
    "start_time": "2023-08-29T20:55:36.133Z"
   },
   {
    "duration": 38,
    "start_time": "2023-08-29T20:55:36.148Z"
   },
   {
    "duration": 63,
    "start_time": "2023-08-29T20:55:36.188Z"
   },
   {
    "duration": 73,
    "start_time": "2023-08-29T20:55:36.253Z"
   },
   {
    "duration": 38,
    "start_time": "2023-08-29T20:55:36.330Z"
   },
   {
    "duration": 34,
    "start_time": "2023-08-29T20:55:36.369Z"
   },
   {
    "duration": 20,
    "start_time": "2023-08-29T20:55:36.406Z"
   },
   {
    "duration": 185,
    "start_time": "2023-08-29T20:55:36.428Z"
   },
   {
    "duration": 10,
    "start_time": "2023-08-29T20:55:36.616Z"
   },
   {
    "duration": 49,
    "start_time": "2023-08-29T20:55:36.628Z"
   },
   {
    "duration": 18,
    "start_time": "2023-08-29T20:55:36.679Z"
   },
   {
    "duration": 70,
    "start_time": "2023-08-29T20:55:36.699Z"
   },
   {
    "duration": 20,
    "start_time": "2023-08-29T20:55:36.771Z"
   },
   {
    "duration": 22,
    "start_time": "2023-08-29T20:55:36.793Z"
   },
   {
    "duration": 26,
    "start_time": "2023-08-29T20:55:36.817Z"
   },
   {
    "duration": 17,
    "start_time": "2023-08-29T20:55:36.845Z"
   },
   {
    "duration": 316,
    "start_time": "2023-08-29T20:55:36.864Z"
   },
   {
    "duration": 29,
    "start_time": "2023-08-29T20:55:37.182Z"
   },
   {
    "duration": 16,
    "start_time": "2023-08-29T20:55:37.214Z"
   },
   {
    "duration": 17,
    "start_time": "2023-08-29T20:55:37.231Z"
   },
   {
    "duration": 17,
    "start_time": "2023-08-29T20:55:37.250Z"
   },
   {
    "duration": 35,
    "start_time": "2023-08-29T20:55:37.269Z"
   },
   {
    "duration": 278,
    "start_time": "2023-08-29T20:55:37.309Z"
   },
   {
    "duration": 30,
    "start_time": "2023-08-29T20:55:37.589Z"
   },
   {
    "duration": 19,
    "start_time": "2023-08-29T20:55:37.622Z"
   },
   {
    "duration": 22,
    "start_time": "2023-08-29T20:55:37.643Z"
   },
   {
    "duration": 560,
    "start_time": "2023-08-29T20:55:37.667Z"
   },
   {
    "duration": 3,
    "start_time": "2023-08-29T20:57:57.829Z"
   },
   {
    "duration": 1142,
    "start_time": "2023-08-29T20:57:57.834Z"
   },
   {
    "duration": 94,
    "start_time": "2023-08-29T20:57:58.977Z"
   },
   {
    "duration": 46,
    "start_time": "2023-08-29T20:57:59.073Z"
   },
   {
    "duration": 36,
    "start_time": "2023-08-29T20:57:59.121Z"
   },
   {
    "duration": 26,
    "start_time": "2023-08-29T20:57:59.158Z"
   },
   {
    "duration": 69,
    "start_time": "2023-08-29T20:57:59.207Z"
   },
   {
    "duration": 4,
    "start_time": "2023-08-29T20:57:59.278Z"
   },
   {
    "duration": 6,
    "start_time": "2023-08-29T20:57:59.285Z"
   },
   {
    "duration": 8,
    "start_time": "2023-08-29T20:57:59.293Z"
   },
   {
    "duration": 7,
    "start_time": "2023-08-29T20:57:59.303Z"
   },
   {
    "duration": 13,
    "start_time": "2023-08-29T20:57:59.312Z"
   },
   {
    "duration": 5,
    "start_time": "2023-08-29T20:57:59.328Z"
   },
   {
    "duration": 8,
    "start_time": "2023-08-29T20:57:59.335Z"
   },
   {
    "duration": 175,
    "start_time": "2023-08-29T20:57:59.344Z"
   },
   {
    "duration": 25,
    "start_time": "2023-08-29T20:57:59.521Z"
   },
   {
    "duration": 9,
    "start_time": "2023-08-29T20:57:59.549Z"
   },
   {
    "duration": 12,
    "start_time": "2023-08-29T20:57:59.560Z"
   },
   {
    "duration": 47,
    "start_time": "2023-08-29T20:57:59.574Z"
   },
   {
    "duration": 20,
    "start_time": "2023-08-29T20:57:59.623Z"
   },
   {
    "duration": 12,
    "start_time": "2023-08-29T20:57:59.646Z"
   },
   {
    "duration": 14,
    "start_time": "2023-08-29T20:57:59.659Z"
   },
   {
    "duration": 75,
    "start_time": "2023-08-29T20:57:59.675Z"
   },
   {
    "duration": 7,
    "start_time": "2023-08-29T20:57:59.753Z"
   },
   {
    "duration": 21,
    "start_time": "2023-08-29T20:57:59.762Z"
   },
   {
    "duration": 48,
    "start_time": "2023-08-29T20:57:59.784Z"
   },
   {
    "duration": 63,
    "start_time": "2023-08-29T20:57:59.834Z"
   },
   {
    "duration": 7,
    "start_time": "2023-08-29T20:57:59.898Z"
   },
   {
    "duration": 31,
    "start_time": "2023-08-29T20:57:59.906Z"
   },
   {
    "duration": 12,
    "start_time": "2023-08-29T20:57:59.938Z"
   },
   {
    "duration": 264,
    "start_time": "2023-08-29T20:57:59.951Z"
   },
   {
    "duration": 7,
    "start_time": "2023-08-29T20:58:00.217Z"
   },
   {
    "duration": 40,
    "start_time": "2023-08-29T20:58:00.226Z"
   },
   {
    "duration": 9,
    "start_time": "2023-08-29T20:58:00.268Z"
   },
   {
    "duration": 144,
    "start_time": "2023-08-29T20:58:00.279Z"
   },
   {
    "duration": 10,
    "start_time": "2023-08-29T20:58:00.425Z"
   },
   {
    "duration": 27,
    "start_time": "2023-08-29T20:58:00.437Z"
   },
   {
    "duration": 143,
    "start_time": "2023-08-29T20:58:00.466Z"
   },
   {
    "duration": 7,
    "start_time": "2023-08-29T20:58:00.611Z"
   },
   {
    "duration": 23,
    "start_time": "2023-08-29T20:58:00.620Z"
   },
   {
    "duration": 31,
    "start_time": "2023-08-29T20:58:00.645Z"
   },
   {
    "duration": 22,
    "start_time": "2023-08-29T20:58:00.678Z"
   },
   {
    "duration": 34,
    "start_time": "2023-08-29T20:58:00.702Z"
   },
   {
    "duration": 46,
    "start_time": "2023-08-29T20:58:00.738Z"
   },
   {
    "duration": 34,
    "start_time": "2023-08-29T20:58:00.786Z"
   },
   {
    "duration": 77,
    "start_time": "2023-08-29T20:58:00.823Z"
   },
   {
    "duration": 78,
    "start_time": "2023-08-29T20:58:00.902Z"
   },
   {
    "duration": 33,
    "start_time": "2023-08-29T20:58:00.981Z"
   },
   {
    "duration": 20,
    "start_time": "2023-08-29T20:58:01.015Z"
   },
   {
    "duration": 60,
    "start_time": "2023-08-29T20:58:01.037Z"
   },
   {
    "duration": 70,
    "start_time": "2023-08-29T20:58:01.099Z"
   },
   {
    "duration": 51,
    "start_time": "2023-08-29T20:58:01.171Z"
   },
   {
    "duration": 117,
    "start_time": "2023-08-29T20:58:01.225Z"
   },
   {
    "duration": 152,
    "start_time": "2023-08-29T20:58:01.344Z"
   },
   {
    "duration": 128,
    "start_time": "2023-08-29T20:58:01.498Z"
   },
   {
    "duration": 338,
    "start_time": "2023-08-29T20:58:01.628Z"
   },
   {
    "duration": 171,
    "start_time": "2023-08-29T20:58:01.968Z"
   },
   {
    "duration": 33,
    "start_time": "2023-08-29T20:58:02.141Z"
   },
   {
    "duration": 91,
    "start_time": "2023-08-29T20:58:02.176Z"
   },
   {
    "duration": 63,
    "start_time": "2023-08-29T20:58:02.268Z"
   },
   {
    "duration": 42,
    "start_time": "2023-08-29T20:58:02.334Z"
   },
   {
    "duration": 55,
    "start_time": "2023-08-29T20:58:02.378Z"
   },
   {
    "duration": 70,
    "start_time": "2023-08-29T20:58:02.435Z"
   },
   {
    "duration": 58,
    "start_time": "2023-08-29T20:58:02.508Z"
   },
   {
    "duration": 65,
    "start_time": "2023-08-29T20:58:02.569Z"
   },
   {
    "duration": 48,
    "start_time": "2023-08-29T20:58:02.635Z"
   },
   {
    "duration": 19,
    "start_time": "2023-08-29T20:58:02.685Z"
   },
   {
    "duration": 151,
    "start_time": "2023-08-29T20:58:02.706Z"
   },
   {
    "duration": 8,
    "start_time": "2023-08-29T20:58:02.862Z"
   },
   {
    "duration": 30,
    "start_time": "2023-08-29T20:58:02.872Z"
   },
   {
    "duration": 19,
    "start_time": "2023-08-29T20:58:02.904Z"
   },
   {
    "duration": 15,
    "start_time": "2023-08-29T20:58:02.926Z"
   },
   {
    "duration": 12,
    "start_time": "2023-08-29T20:58:02.943Z"
   },
   {
    "duration": 11,
    "start_time": "2023-08-29T20:58:02.957Z"
   },
   {
    "duration": 40,
    "start_time": "2023-08-29T20:58:02.969Z"
   },
   {
    "duration": 9,
    "start_time": "2023-08-29T20:58:03.011Z"
   },
   {
    "duration": 283,
    "start_time": "2023-08-29T20:58:03.022Z"
   },
   {
    "duration": 21,
    "start_time": "2023-08-29T20:58:03.307Z"
   },
   {
    "duration": 11,
    "start_time": "2023-08-29T20:58:03.330Z"
   },
   {
    "duration": 25,
    "start_time": "2023-08-29T20:58:03.342Z"
   },
   {
    "duration": 46,
    "start_time": "2023-08-29T20:58:03.369Z"
   },
   {
    "duration": 12,
    "start_time": "2023-08-29T20:58:03.418Z"
   },
   {
    "duration": 263,
    "start_time": "2023-08-29T20:58:03.432Z"
   },
   {
    "duration": 16,
    "start_time": "2023-08-29T20:58:03.697Z"
   },
   {
    "duration": 24,
    "start_time": "2023-08-29T20:58:03.715Z"
   },
   {
    "duration": 23,
    "start_time": "2023-08-29T20:58:03.741Z"
   },
   {
    "duration": 180,
    "start_time": "2023-08-29T20:58:03.766Z"
   },
   {
    "duration": 10,
    "start_time": "2023-08-29T20:58:03.948Z"
   },
   {
    "duration": 11,
    "start_time": "2023-08-29T20:58:03.960Z"
   },
   {
    "duration": 180,
    "start_time": "2023-08-29T20:58:03.972Z"
   },
   {
    "duration": 0,
    "start_time": "2023-08-29T20:58:04.154Z"
   },
   {
    "duration": 7,
    "start_time": "2023-08-29T20:59:22.940Z"
   },
   {
    "duration": 11,
    "start_time": "2023-08-29T21:03:14.077Z"
   },
   {
    "duration": 3,
    "start_time": "2023-08-29T21:05:34.065Z"
   },
   {
    "duration": 803,
    "start_time": "2023-08-29T21:05:34.070Z"
   },
   {
    "duration": 116,
    "start_time": "2023-08-29T21:05:34.874Z"
   },
   {
    "duration": 38,
    "start_time": "2023-08-29T21:05:35.002Z"
   },
   {
    "duration": 119,
    "start_time": "2023-08-29T21:05:35.042Z"
   },
   {
    "duration": 26,
    "start_time": "2023-08-29T21:05:35.164Z"
   },
   {
    "duration": 82,
    "start_time": "2023-08-29T21:05:35.192Z"
   },
   {
    "duration": 4,
    "start_time": "2023-08-29T21:05:35.276Z"
   },
   {
    "duration": 47,
    "start_time": "2023-08-29T21:05:35.283Z"
   },
   {
    "duration": 82,
    "start_time": "2023-08-29T21:05:35.332Z"
   },
   {
    "duration": 30,
    "start_time": "2023-08-29T21:05:35.416Z"
   },
   {
    "duration": 73,
    "start_time": "2023-08-29T21:05:35.448Z"
   },
   {
    "duration": 36,
    "start_time": "2023-08-29T21:05:35.523Z"
   },
   {
    "duration": 49,
    "start_time": "2023-08-29T21:05:35.560Z"
   },
   {
    "duration": 177,
    "start_time": "2023-08-29T21:05:35.612Z"
   },
   {
    "duration": 25,
    "start_time": "2023-08-29T21:05:35.791Z"
   },
   {
    "duration": 14,
    "start_time": "2023-08-29T21:05:35.819Z"
   },
   {
    "duration": 22,
    "start_time": "2023-08-29T21:05:35.834Z"
   },
   {
    "duration": 26,
    "start_time": "2023-08-29T21:05:35.858Z"
   },
   {
    "duration": 63,
    "start_time": "2023-08-29T21:05:35.886Z"
   },
   {
    "duration": 143,
    "start_time": "2023-08-29T21:05:35.951Z"
   },
   {
    "duration": 53,
    "start_time": "2023-08-29T21:05:36.096Z"
   },
   {
    "duration": 215,
    "start_time": "2023-08-29T21:05:36.151Z"
   },
   {
    "duration": 7,
    "start_time": "2023-08-29T21:05:36.370Z"
   },
   {
    "duration": 34,
    "start_time": "2023-08-29T21:05:36.379Z"
   },
   {
    "duration": 51,
    "start_time": "2023-08-29T21:05:36.416Z"
   },
   {
    "duration": 95,
    "start_time": "2023-08-29T21:05:36.469Z"
   },
   {
    "duration": 6,
    "start_time": "2023-08-29T21:05:36.566Z"
   },
   {
    "duration": 26,
    "start_time": "2023-08-29T21:05:36.573Z"
   },
   {
    "duration": 22,
    "start_time": "2023-08-29T21:05:36.602Z"
   },
   {
    "duration": 272,
    "start_time": "2023-08-29T21:05:36.626Z"
   },
   {
    "duration": 7,
    "start_time": "2023-08-29T21:05:36.900Z"
   },
   {
    "duration": 271,
    "start_time": "2023-08-29T21:05:36.909Z"
   },
   {
    "duration": 11,
    "start_time": "2023-08-29T21:05:37.182Z"
   },
   {
    "duration": 133,
    "start_time": "2023-08-29T21:05:37.195Z"
   },
   {
    "duration": 9,
    "start_time": "2023-08-29T21:05:37.330Z"
   },
   {
    "duration": 27,
    "start_time": "2023-08-29T21:05:37.341Z"
   },
   {
    "duration": 148,
    "start_time": "2023-08-29T21:05:37.370Z"
   },
   {
    "duration": 7,
    "start_time": "2023-08-29T21:05:37.520Z"
   },
   {
    "duration": 15,
    "start_time": "2023-08-29T21:05:37.529Z"
   },
   {
    "duration": 17,
    "start_time": "2023-08-29T21:05:37.546Z"
   },
   {
    "duration": 32,
    "start_time": "2023-08-29T21:05:37.565Z"
   },
   {
    "duration": 16,
    "start_time": "2023-08-29T21:05:37.598Z"
   },
   {
    "duration": 14,
    "start_time": "2023-08-29T21:05:37.616Z"
   },
   {
    "duration": 20,
    "start_time": "2023-08-29T21:05:37.632Z"
   },
   {
    "duration": 21,
    "start_time": "2023-08-29T21:05:37.654Z"
   },
   {
    "duration": 13,
    "start_time": "2023-08-29T21:05:37.677Z"
   },
   {
    "duration": 23,
    "start_time": "2023-08-29T21:05:37.692Z"
   },
   {
    "duration": 13,
    "start_time": "2023-08-29T21:05:37.717Z"
   },
   {
    "duration": 12,
    "start_time": "2023-08-29T21:05:37.732Z"
   },
   {
    "duration": 57,
    "start_time": "2023-08-29T21:05:37.746Z"
   },
   {
    "duration": 27,
    "start_time": "2023-08-29T21:05:37.806Z"
   },
   {
    "duration": 24,
    "start_time": "2023-08-29T21:05:37.835Z"
   },
   {
    "duration": 159,
    "start_time": "2023-08-29T21:05:37.861Z"
   },
   {
    "duration": 147,
    "start_time": "2023-08-29T21:05:38.023Z"
   },
   {
    "duration": 349,
    "start_time": "2023-08-29T21:05:38.172Z"
   },
   {
    "duration": 180,
    "start_time": "2023-08-29T21:05:38.523Z"
   },
   {
    "duration": 39,
    "start_time": "2023-08-29T21:05:38.705Z"
   },
   {
    "duration": 35,
    "start_time": "2023-08-29T21:05:38.746Z"
   },
   {
    "duration": 21,
    "start_time": "2023-08-29T21:05:38.783Z"
   },
   {
    "duration": 11,
    "start_time": "2023-08-29T21:05:38.807Z"
   },
   {
    "duration": 48,
    "start_time": "2023-08-29T21:05:38.821Z"
   },
   {
    "duration": 63,
    "start_time": "2023-08-29T21:05:38.871Z"
   },
   {
    "duration": 68,
    "start_time": "2023-08-29T21:05:38.935Z"
   },
   {
    "duration": 30,
    "start_time": "2023-08-29T21:05:39.005Z"
   },
   {
    "duration": 22,
    "start_time": "2023-08-29T21:05:39.037Z"
   },
   {
    "duration": 20,
    "start_time": "2023-08-29T21:05:39.060Z"
   },
   {
    "duration": 136,
    "start_time": "2023-08-29T21:05:39.082Z"
   },
   {
    "duration": 8,
    "start_time": "2023-08-29T21:05:39.225Z"
   },
   {
    "duration": 30,
    "start_time": "2023-08-29T21:05:39.235Z"
   },
   {
    "duration": 50,
    "start_time": "2023-08-29T21:05:39.267Z"
   },
   {
    "duration": 25,
    "start_time": "2023-08-29T21:05:39.319Z"
   },
   {
    "duration": 14,
    "start_time": "2023-08-29T21:05:39.346Z"
   },
   {
    "duration": 17,
    "start_time": "2023-08-29T21:05:39.362Z"
   },
   {
    "duration": 10,
    "start_time": "2023-08-29T21:05:39.380Z"
   },
   {
    "duration": 14,
    "start_time": "2023-08-29T21:05:39.391Z"
   },
   {
    "duration": 303,
    "start_time": "2023-08-29T21:05:39.407Z"
   },
   {
    "duration": 19,
    "start_time": "2023-08-29T21:05:39.712Z"
   },
   {
    "duration": 100,
    "start_time": "2023-08-29T21:05:39.733Z"
   },
   {
    "duration": 29,
    "start_time": "2023-08-29T21:05:39.835Z"
   },
   {
    "duration": 13,
    "start_time": "2023-08-29T21:05:39.866Z"
   },
   {
    "duration": 20,
    "start_time": "2023-08-29T21:05:39.882Z"
   },
   {
    "duration": 246,
    "start_time": "2023-08-29T21:05:39.904Z"
   },
   {
    "duration": 14,
    "start_time": "2023-08-29T21:05:40.152Z"
   },
   {
    "duration": 45,
    "start_time": "2023-08-29T21:05:40.168Z"
   },
   {
    "duration": 22,
    "start_time": "2023-08-29T21:05:40.215Z"
   },
   {
    "duration": 52,
    "start_time": "2023-08-29T21:05:40.239Z"
   },
   {
    "duration": 12,
    "start_time": "2023-08-29T21:05:40.293Z"
   },
   {
    "duration": 15,
    "start_time": "2023-08-29T21:05:40.306Z"
   },
   {
    "duration": 37,
    "start_time": "2023-08-29T21:05:40.323Z"
   },
   {
    "duration": 14,
    "start_time": "2023-08-29T21:05:54.798Z"
   },
   {
    "duration": 6,
    "start_time": "2023-08-29T21:05:56.405Z"
   },
   {
    "duration": 7,
    "start_time": "2023-08-29T21:06:07.745Z"
   },
   {
    "duration": 7,
    "start_time": "2023-08-29T21:06:52.061Z"
   },
   {
    "duration": 7,
    "start_time": "2023-08-29T21:08:58.566Z"
   },
   {
    "duration": 6,
    "start_time": "2023-08-29T21:10:57.780Z"
   },
   {
    "duration": 10,
    "start_time": "2023-08-29T21:11:35.920Z"
   },
   {
    "duration": 13,
    "start_time": "2023-08-29T21:11:47.600Z"
   },
   {
    "duration": 19,
    "start_time": "2023-08-29T21:14:57.005Z"
   },
   {
    "duration": 3,
    "start_time": "2023-08-29T21:15:39.846Z"
   },
   {
    "duration": 914,
    "start_time": "2023-08-29T21:15:39.852Z"
   },
   {
    "duration": 105,
    "start_time": "2023-08-29T21:15:40.768Z"
   },
   {
    "duration": 36,
    "start_time": "2023-08-29T21:15:40.874Z"
   },
   {
    "duration": 41,
    "start_time": "2023-08-29T21:15:40.912Z"
   },
   {
    "duration": 26,
    "start_time": "2023-08-29T21:15:40.954Z"
   },
   {
    "duration": 70,
    "start_time": "2023-08-29T21:15:40.982Z"
   },
   {
    "duration": 4,
    "start_time": "2023-08-29T21:15:41.054Z"
   },
   {
    "duration": 6,
    "start_time": "2023-08-29T21:15:41.060Z"
   },
   {
    "duration": 7,
    "start_time": "2023-08-29T21:15:41.068Z"
   },
   {
    "duration": 6,
    "start_time": "2023-08-29T21:15:41.077Z"
   },
   {
    "duration": 6,
    "start_time": "2023-08-29T21:15:41.085Z"
   },
   {
    "duration": 10,
    "start_time": "2023-08-29T21:15:41.093Z"
   },
   {
    "duration": 7,
    "start_time": "2023-08-29T21:15:41.107Z"
   },
   {
    "duration": 229,
    "start_time": "2023-08-29T21:15:41.115Z"
   },
   {
    "duration": 24,
    "start_time": "2023-08-29T21:15:41.345Z"
   },
   {
    "duration": 9,
    "start_time": "2023-08-29T21:15:41.371Z"
   },
   {
    "duration": 10,
    "start_time": "2023-08-29T21:15:41.402Z"
   },
   {
    "duration": 104,
    "start_time": "2023-08-29T21:15:41.414Z"
   },
   {
    "duration": 38,
    "start_time": "2023-08-29T21:15:41.521Z"
   },
   {
    "duration": 81,
    "start_time": "2023-08-29T21:15:41.560Z"
   },
   {
    "duration": 47,
    "start_time": "2023-08-29T21:15:41.643Z"
   },
   {
    "duration": 137,
    "start_time": "2023-08-29T21:15:41.692Z"
   },
   {
    "duration": 7,
    "start_time": "2023-08-29T21:15:41.831Z"
   },
   {
    "duration": 5,
    "start_time": "2023-08-29T21:15:41.839Z"
   },
   {
    "duration": 7,
    "start_time": "2023-08-29T21:15:41.845Z"
   },
   {
    "duration": 88,
    "start_time": "2023-08-29T21:15:41.853Z"
   },
   {
    "duration": 5,
    "start_time": "2023-08-29T21:15:41.943Z"
   },
   {
    "duration": 24,
    "start_time": "2023-08-29T21:15:41.950Z"
   },
   {
    "duration": 14,
    "start_time": "2023-08-29T21:15:41.975Z"
   },
   {
    "duration": 266,
    "start_time": "2023-08-29T21:15:42.001Z"
   },
   {
    "duration": 5,
    "start_time": "2023-08-29T21:15:42.269Z"
   },
   {
    "duration": 51,
    "start_time": "2023-08-29T21:15:42.276Z"
   },
   {
    "duration": 10,
    "start_time": "2023-08-29T21:15:42.329Z"
   },
   {
    "duration": 114,
    "start_time": "2023-08-29T21:15:42.340Z"
   },
   {
    "duration": 9,
    "start_time": "2023-08-29T21:15:42.455Z"
   },
   {
    "duration": 36,
    "start_time": "2023-08-29T21:15:42.465Z"
   },
   {
    "duration": 155,
    "start_time": "2023-08-29T21:15:42.503Z"
   },
   {
    "duration": 4,
    "start_time": "2023-08-29T21:15:42.660Z"
   },
   {
    "duration": 13,
    "start_time": "2023-08-29T21:15:42.666Z"
   },
   {
    "duration": 19,
    "start_time": "2023-08-29T21:15:42.683Z"
   },
   {
    "duration": 8,
    "start_time": "2023-08-29T21:15:42.705Z"
   },
   {
    "duration": 15,
    "start_time": "2023-08-29T21:15:42.715Z"
   },
   {
    "duration": 14,
    "start_time": "2023-08-29T21:15:42.732Z"
   },
   {
    "duration": 7,
    "start_time": "2023-08-29T21:15:42.748Z"
   },
   {
    "duration": 16,
    "start_time": "2023-08-29T21:15:42.757Z"
   },
   {
    "duration": 29,
    "start_time": "2023-08-29T21:15:42.774Z"
   },
   {
    "duration": 12,
    "start_time": "2023-08-29T21:15:42.805Z"
   },
   {
    "duration": 11,
    "start_time": "2023-08-29T21:15:42.819Z"
   },
   {
    "duration": 11,
    "start_time": "2023-08-29T21:15:42.832Z"
   },
   {
    "duration": 74,
    "start_time": "2023-08-29T21:15:42.845Z"
   },
   {
    "duration": 22,
    "start_time": "2023-08-29T21:15:42.921Z"
   },
   {
    "duration": 22,
    "start_time": "2023-08-29T21:15:42.944Z"
   },
   {
    "duration": 164,
    "start_time": "2023-08-29T21:15:42.967Z"
   },
   {
    "duration": 123,
    "start_time": "2023-08-29T21:15:43.133Z"
   },
   {
    "duration": 307,
    "start_time": "2023-08-29T21:15:43.258Z"
   },
   {
    "duration": 161,
    "start_time": "2023-08-29T21:15:43.567Z"
   },
   {
    "duration": 30,
    "start_time": "2023-08-29T21:15:43.730Z"
   },
   {
    "duration": 15,
    "start_time": "2023-08-29T21:15:43.762Z"
   },
   {
    "duration": 44,
    "start_time": "2023-08-29T21:15:43.779Z"
   },
   {
    "duration": 9,
    "start_time": "2023-08-29T21:15:43.826Z"
   },
   {
    "duration": 13,
    "start_time": "2023-08-29T21:15:43.836Z"
   },
   {
    "duration": 53,
    "start_time": "2023-08-29T21:15:43.851Z"
   },
   {
    "duration": 44,
    "start_time": "2023-08-29T21:15:43.906Z"
   },
   {
    "duration": 13,
    "start_time": "2023-08-29T21:15:43.952Z"
   },
   {
    "duration": 34,
    "start_time": "2023-08-29T21:15:43.967Z"
   },
   {
    "duration": 10,
    "start_time": "2023-08-29T21:15:44.003Z"
   },
   {
    "duration": 137,
    "start_time": "2023-08-29T21:15:44.015Z"
   },
   {
    "duration": 8,
    "start_time": "2023-08-29T21:15:44.154Z"
   },
   {
    "duration": 70,
    "start_time": "2023-08-29T21:15:44.163Z"
   },
   {
    "duration": 15,
    "start_time": "2023-08-29T21:15:44.235Z"
   },
   {
    "duration": 14,
    "start_time": "2023-08-29T21:15:44.252Z"
   },
   {
    "duration": 19,
    "start_time": "2023-08-29T21:15:44.268Z"
   },
   {
    "duration": 29,
    "start_time": "2023-08-29T21:15:44.289Z"
   },
   {
    "duration": 20,
    "start_time": "2023-08-29T21:15:44.320Z"
   },
   {
    "duration": 25,
    "start_time": "2023-08-29T21:15:44.342Z"
   },
   {
    "duration": 317,
    "start_time": "2023-08-29T21:15:44.369Z"
   },
   {
    "duration": 30,
    "start_time": "2023-08-29T21:15:44.689Z"
   },
   {
    "duration": 14,
    "start_time": "2023-08-29T21:15:44.722Z"
   },
   {
    "duration": 21,
    "start_time": "2023-08-29T21:15:44.738Z"
   },
   {
    "duration": 46,
    "start_time": "2023-08-29T21:15:44.761Z"
   },
   {
    "duration": 11,
    "start_time": "2023-08-29T21:15:44.809Z"
   },
   {
    "duration": 282,
    "start_time": "2023-08-29T21:15:44.822Z"
   },
   {
    "duration": 22,
    "start_time": "2023-08-29T21:15:45.106Z"
   },
   {
    "duration": 34,
    "start_time": "2023-08-29T21:15:45.130Z"
   },
   {
    "duration": 13,
    "start_time": "2023-08-29T21:15:45.166Z"
   },
   {
    "duration": 178,
    "start_time": "2023-08-29T21:15:45.181Z"
   },
   {
    "duration": 12,
    "start_time": "2023-08-29T21:15:45.361Z"
   },
   {
    "duration": 10,
    "start_time": "2023-08-29T21:15:45.375Z"
   },
   {
    "duration": 13,
    "start_time": "2023-08-29T21:15:45.402Z"
   },
   {
    "duration": 9,
    "start_time": "2023-08-29T21:15:45.417Z"
   },
   {
    "duration": 11,
    "start_time": "2023-08-29T21:15:45.427Z"
   },
   {
    "duration": 13,
    "start_time": "2023-08-29T21:15:45.439Z"
   },
   {
    "duration": 13,
    "start_time": "2023-08-29T21:15:49.313Z"
   },
   {
    "duration": 17,
    "start_time": "2023-08-29T21:15:51.145Z"
   },
   {
    "duration": 8,
    "start_time": "2023-08-29T21:16:45.736Z"
   },
   {
    "duration": 21,
    "start_time": "2023-08-29T21:19:43.163Z"
   },
   {
    "duration": 18,
    "start_time": "2023-08-29T21:20:46.739Z"
   },
   {
    "duration": 1264,
    "start_time": "2023-08-29T21:20:58.956Z"
   },
   {
    "duration": 874,
    "start_time": "2023-08-29T21:21:00.223Z"
   },
   {
    "duration": 141,
    "start_time": "2023-08-29T21:21:01.102Z"
   },
   {
    "duration": 33,
    "start_time": "2023-08-29T21:21:01.245Z"
   },
   {
    "duration": 81,
    "start_time": "2023-08-29T21:21:01.279Z"
   },
   {
    "duration": 86,
    "start_time": "2023-08-29T21:21:01.362Z"
   },
   {
    "duration": 105,
    "start_time": "2023-08-29T21:21:01.449Z"
   },
   {
    "duration": 4,
    "start_time": "2023-08-29T21:21:01.556Z"
   },
   {
    "duration": 69,
    "start_time": "2023-08-29T21:21:01.562Z"
   },
   {
    "duration": 72,
    "start_time": "2023-08-29T21:21:01.634Z"
   },
   {
    "duration": 53,
    "start_time": "2023-08-29T21:21:01.708Z"
   },
   {
    "duration": 38,
    "start_time": "2023-08-29T21:21:01.763Z"
   },
   {
    "duration": 50,
    "start_time": "2023-08-29T21:21:01.803Z"
   },
   {
    "duration": 57,
    "start_time": "2023-08-29T21:21:01.854Z"
   },
   {
    "duration": 219,
    "start_time": "2023-08-29T21:21:01.913Z"
   },
   {
    "duration": 23,
    "start_time": "2023-08-29T21:21:02.134Z"
   },
   {
    "duration": 44,
    "start_time": "2023-08-29T21:21:02.158Z"
   },
   {
    "duration": 81,
    "start_time": "2023-08-29T21:21:02.204Z"
   },
   {
    "duration": 92,
    "start_time": "2023-08-29T21:21:02.287Z"
   },
   {
    "duration": 49,
    "start_time": "2023-08-29T21:21:02.381Z"
   },
   {
    "duration": 35,
    "start_time": "2023-08-29T21:21:02.432Z"
   },
   {
    "duration": 57,
    "start_time": "2023-08-29T21:21:02.469Z"
   },
   {
    "duration": 97,
    "start_time": "2023-08-29T21:21:02.528Z"
   },
   {
    "duration": 7,
    "start_time": "2023-08-29T21:21:02.627Z"
   },
   {
    "duration": 14,
    "start_time": "2023-08-29T21:21:02.635Z"
   },
   {
    "duration": 7,
    "start_time": "2023-08-29T21:21:02.650Z"
   },
   {
    "duration": 73,
    "start_time": "2023-08-29T21:21:02.658Z"
   },
   {
    "duration": 5,
    "start_time": "2023-08-29T21:21:02.735Z"
   },
   {
    "duration": 22,
    "start_time": "2023-08-29T21:21:02.742Z"
   },
   {
    "duration": 12,
    "start_time": "2023-08-29T21:21:02.766Z"
   },
   {
    "duration": 293,
    "start_time": "2023-08-29T21:21:02.779Z"
   },
   {
    "duration": 6,
    "start_time": "2023-08-29T21:21:03.073Z"
   },
   {
    "duration": 69,
    "start_time": "2023-08-29T21:21:03.081Z"
   },
   {
    "duration": 10,
    "start_time": "2023-08-29T21:21:03.152Z"
   },
   {
    "duration": 156,
    "start_time": "2023-08-29T21:21:03.163Z"
   },
   {
    "duration": 9,
    "start_time": "2023-08-29T21:21:03.321Z"
   },
   {
    "duration": 47,
    "start_time": "2023-08-29T21:21:03.332Z"
   },
   {
    "duration": 156,
    "start_time": "2023-08-29T21:21:03.381Z"
   },
   {
    "duration": 5,
    "start_time": "2023-08-29T21:21:03.539Z"
   },
   {
    "duration": 21,
    "start_time": "2023-08-29T21:21:03.545Z"
   },
   {
    "duration": 25,
    "start_time": "2023-08-29T21:21:03.568Z"
   },
   {
    "duration": 13,
    "start_time": "2023-08-29T21:21:03.595Z"
   },
   {
    "duration": 154,
    "start_time": "2023-08-29T21:21:03.610Z"
   },
   {
    "duration": 43,
    "start_time": "2023-08-29T21:21:03.765Z"
   },
   {
    "duration": 43,
    "start_time": "2023-08-29T21:21:03.811Z"
   },
   {
    "duration": 33,
    "start_time": "2023-08-29T21:21:03.855Z"
   },
   {
    "duration": 40,
    "start_time": "2023-08-29T21:21:03.890Z"
   },
   {
    "duration": 30,
    "start_time": "2023-08-29T21:21:03.932Z"
   },
   {
    "duration": 42,
    "start_time": "2023-08-29T21:21:03.964Z"
   },
   {
    "duration": 49,
    "start_time": "2023-08-29T21:21:04.009Z"
   },
   {
    "duration": 60,
    "start_time": "2023-08-29T21:21:04.060Z"
   },
   {
    "duration": 33,
    "start_time": "2023-08-29T21:21:04.123Z"
   },
   {
    "duration": 30,
    "start_time": "2023-08-29T21:21:04.157Z"
   },
   {
    "duration": 138,
    "start_time": "2023-08-29T21:21:04.188Z"
   },
   {
    "duration": 108,
    "start_time": "2023-08-29T21:21:04.328Z"
   },
   {
    "duration": 344,
    "start_time": "2023-08-29T21:21:04.437Z"
   },
   {
    "duration": 141,
    "start_time": "2023-08-29T21:21:04.783Z"
   },
   {
    "duration": 29,
    "start_time": "2023-08-29T21:21:04.926Z"
   },
   {
    "duration": 28,
    "start_time": "2023-08-29T21:21:04.957Z"
   },
   {
    "duration": 90,
    "start_time": "2023-08-29T21:21:04.986Z"
   },
   {
    "duration": 10,
    "start_time": "2023-08-29T21:21:05.078Z"
   },
   {
    "duration": 48,
    "start_time": "2023-08-29T21:21:05.089Z"
   },
   {
    "duration": 34,
    "start_time": "2023-08-29T21:21:05.139Z"
   },
   {
    "duration": 42,
    "start_time": "2023-08-29T21:21:05.175Z"
   },
   {
    "duration": 13,
    "start_time": "2023-08-29T21:21:05.219Z"
   },
   {
    "duration": 23,
    "start_time": "2023-08-29T21:21:05.233Z"
   },
   {
    "duration": 9,
    "start_time": "2023-08-29T21:21:05.258Z"
   },
   {
    "duration": 138,
    "start_time": "2023-08-29T21:21:05.269Z"
   },
   {
    "duration": 10,
    "start_time": "2023-08-29T21:21:05.409Z"
   },
   {
    "duration": 84,
    "start_time": "2023-08-29T21:21:05.421Z"
   },
   {
    "duration": 40,
    "start_time": "2023-08-29T21:21:05.507Z"
   },
   {
    "duration": 24,
    "start_time": "2023-08-29T21:21:05.549Z"
   },
   {
    "duration": 35,
    "start_time": "2023-08-29T21:21:05.574Z"
   },
   {
    "duration": 30,
    "start_time": "2023-08-29T21:21:05.610Z"
   },
   {
    "duration": 19,
    "start_time": "2023-08-29T21:21:05.642Z"
   },
   {
    "duration": 44,
    "start_time": "2023-08-29T21:21:05.663Z"
   },
   {
    "duration": 276,
    "start_time": "2023-08-29T21:21:05.709Z"
   },
   {
    "duration": 32,
    "start_time": "2023-08-29T21:21:05.987Z"
   },
   {
    "duration": 33,
    "start_time": "2023-08-29T21:21:06.021Z"
   },
   {
    "duration": 21,
    "start_time": "2023-08-29T21:21:06.055Z"
   },
   {
    "duration": 34,
    "start_time": "2023-08-29T21:21:06.077Z"
   },
   {
    "duration": 9,
    "start_time": "2023-08-29T21:21:06.119Z"
   },
   {
    "duration": 272,
    "start_time": "2023-08-29T21:21:06.129Z"
   },
   {
    "duration": 22,
    "start_time": "2023-08-29T21:21:06.404Z"
   },
   {
    "duration": 91,
    "start_time": "2023-08-29T21:21:06.428Z"
   },
   {
    "duration": 117,
    "start_time": "2023-08-29T21:21:06.521Z"
   },
   {
    "duration": 552,
    "start_time": "2023-08-29T21:21:06.640Z"
   },
   {
    "duration": 13,
    "start_time": "2023-08-29T21:21:07.194Z"
   },
   {
    "duration": 29,
    "start_time": "2023-08-29T21:21:07.209Z"
   },
   {
    "duration": 68,
    "start_time": "2023-08-29T21:21:07.240Z"
   },
   {
    "duration": 14,
    "start_time": "2023-08-29T21:21:07.311Z"
   },
   {
    "duration": 9,
    "start_time": "2023-08-29T21:21:07.327Z"
   },
   {
    "duration": 22,
    "start_time": "2023-08-29T21:21:07.338Z"
   },
   {
    "duration": 181,
    "start_time": "2023-08-29T21:21:07.361Z"
   },
   {
    "duration": 0,
    "start_time": "2023-08-29T21:21:07.544Z"
   },
   {
    "duration": 271,
    "start_time": "2023-08-29T21:22:22.262Z"
   },
   {
    "duration": 3,
    "start_time": "2023-08-29T21:24:56.562Z"
   },
   {
    "duration": 909,
    "start_time": "2023-08-29T21:24:56.567Z"
   },
   {
    "duration": 98,
    "start_time": "2023-08-29T21:24:57.477Z"
   },
   {
    "duration": 40,
    "start_time": "2023-08-29T21:24:57.577Z"
   },
   {
    "duration": 85,
    "start_time": "2023-08-29T21:24:57.620Z"
   },
   {
    "duration": 42,
    "start_time": "2023-08-29T21:24:57.707Z"
   },
   {
    "duration": 65,
    "start_time": "2023-08-29T21:24:57.751Z"
   },
   {
    "duration": 5,
    "start_time": "2023-08-29T21:24:57.818Z"
   },
   {
    "duration": 26,
    "start_time": "2023-08-29T21:24:57.825Z"
   },
   {
    "duration": 55,
    "start_time": "2023-08-29T21:24:57.853Z"
   },
   {
    "duration": 31,
    "start_time": "2023-08-29T21:24:57.910Z"
   },
   {
    "duration": 27,
    "start_time": "2023-08-29T21:24:57.943Z"
   },
   {
    "duration": 30,
    "start_time": "2023-08-29T21:24:57.972Z"
   },
   {
    "duration": 23,
    "start_time": "2023-08-29T21:24:58.007Z"
   },
   {
    "duration": 218,
    "start_time": "2023-08-29T21:24:58.031Z"
   },
   {
    "duration": 20,
    "start_time": "2023-08-29T21:24:58.250Z"
   },
   {
    "duration": 21,
    "start_time": "2023-08-29T21:24:58.272Z"
   },
   {
    "duration": 46,
    "start_time": "2023-08-29T21:24:58.294Z"
   },
   {
    "duration": 34,
    "start_time": "2023-08-29T21:24:58.342Z"
   },
   {
    "duration": 39,
    "start_time": "2023-08-29T21:24:58.378Z"
   },
   {
    "duration": 45,
    "start_time": "2023-08-29T21:24:58.419Z"
   },
   {
    "duration": 48,
    "start_time": "2023-08-29T21:24:58.466Z"
   },
   {
    "duration": 133,
    "start_time": "2023-08-29T21:24:58.516Z"
   },
   {
    "duration": 9,
    "start_time": "2023-08-29T21:24:58.650Z"
   },
   {
    "duration": 24,
    "start_time": "2023-08-29T21:24:58.661Z"
   },
   {
    "duration": 41,
    "start_time": "2023-08-29T21:24:58.687Z"
   },
   {
    "duration": 87,
    "start_time": "2023-08-29T21:24:58.729Z"
   },
   {
    "duration": 8,
    "start_time": "2023-08-29T21:24:58.819Z"
   },
   {
    "duration": 54,
    "start_time": "2023-08-29T21:24:58.829Z"
   },
   {
    "duration": 18,
    "start_time": "2023-08-29T21:24:58.885Z"
   },
   {
    "duration": 283,
    "start_time": "2023-08-29T21:24:58.905Z"
   },
   {
    "duration": 12,
    "start_time": "2023-08-29T21:24:59.190Z"
   },
   {
    "duration": 35,
    "start_time": "2023-08-29T21:24:59.204Z"
   },
   {
    "duration": 10,
    "start_time": "2023-08-29T21:24:59.241Z"
   },
   {
    "duration": 129,
    "start_time": "2023-08-29T21:24:59.253Z"
   },
   {
    "duration": 8,
    "start_time": "2023-08-29T21:24:59.384Z"
   },
   {
    "duration": 39,
    "start_time": "2023-08-29T21:24:59.393Z"
   },
   {
    "duration": 131,
    "start_time": "2023-08-29T21:24:59.434Z"
   },
   {
    "duration": 5,
    "start_time": "2023-08-29T21:24:59.567Z"
   },
   {
    "duration": 37,
    "start_time": "2023-08-29T21:24:59.574Z"
   },
   {
    "duration": 29,
    "start_time": "2023-08-29T21:24:59.619Z"
   },
   {
    "duration": 13,
    "start_time": "2023-08-29T21:24:59.649Z"
   },
   {
    "duration": 29,
    "start_time": "2023-08-29T21:24:59.663Z"
   },
   {
    "duration": 26,
    "start_time": "2023-08-29T21:24:59.694Z"
   },
   {
    "duration": 23,
    "start_time": "2023-08-29T21:24:59.722Z"
   },
   {
    "duration": 16,
    "start_time": "2023-08-29T21:24:59.747Z"
   },
   {
    "duration": 16,
    "start_time": "2023-08-29T21:24:59.765Z"
   },
   {
    "duration": 8,
    "start_time": "2023-08-29T21:24:59.782Z"
   },
   {
    "duration": 6,
    "start_time": "2023-08-29T21:24:59.791Z"
   },
   {
    "duration": 21,
    "start_time": "2023-08-29T21:24:59.799Z"
   },
   {
    "duration": 49,
    "start_time": "2023-08-29T21:24:59.822Z"
   },
   {
    "duration": 19,
    "start_time": "2023-08-29T21:24:59.872Z"
   },
   {
    "duration": 37,
    "start_time": "2023-08-29T21:24:59.893Z"
   },
   {
    "duration": 143,
    "start_time": "2023-08-29T21:24:59.932Z"
   },
   {
    "duration": 129,
    "start_time": "2023-08-29T21:25:00.077Z"
   },
   {
    "duration": 331,
    "start_time": "2023-08-29T21:25:00.209Z"
   },
   {
    "duration": 165,
    "start_time": "2023-08-29T21:25:00.543Z"
   },
   {
    "duration": 42,
    "start_time": "2023-08-29T21:25:00.711Z"
   },
   {
    "duration": 26,
    "start_time": "2023-08-29T21:25:00.755Z"
   },
   {
    "duration": 107,
    "start_time": "2023-08-29T21:25:00.782Z"
   },
   {
    "duration": 38,
    "start_time": "2023-08-29T21:25:00.891Z"
   },
   {
    "duration": 234,
    "start_time": "2023-08-29T21:25:00.930Z"
   },
   {
    "duration": 62,
    "start_time": "2023-08-29T21:25:01.166Z"
   },
   {
    "duration": 49,
    "start_time": "2023-08-29T21:25:01.232Z"
   },
   {
    "duration": 49,
    "start_time": "2023-08-29T21:25:01.283Z"
   },
   {
    "duration": 70,
    "start_time": "2023-08-29T21:25:01.334Z"
   },
   {
    "duration": 17,
    "start_time": "2023-08-29T21:25:01.406Z"
   },
   {
    "duration": 284,
    "start_time": "2023-08-29T21:25:01.425Z"
   },
   {
    "duration": 12,
    "start_time": "2023-08-29T21:25:01.711Z"
   },
   {
    "duration": 68,
    "start_time": "2023-08-29T21:25:01.725Z"
   },
   {
    "duration": 32,
    "start_time": "2023-08-29T21:25:01.795Z"
   },
   {
    "duration": 57,
    "start_time": "2023-08-29T21:25:01.829Z"
   },
   {
    "duration": 116,
    "start_time": "2023-08-29T21:25:01.888Z"
   },
   {
    "duration": 123,
    "start_time": "2023-08-29T21:25:02.007Z"
   },
   {
    "duration": 64,
    "start_time": "2023-08-29T21:25:02.131Z"
   },
   {
    "duration": 126,
    "start_time": "2023-08-29T21:25:02.197Z"
   },
   {
    "duration": 454,
    "start_time": "2023-08-29T21:25:02.325Z"
   },
   {
    "duration": 33,
    "start_time": "2023-08-29T21:25:02.781Z"
   },
   {
    "duration": 33,
    "start_time": "2023-08-29T21:25:02.815Z"
   },
   {
    "duration": 53,
    "start_time": "2023-08-29T21:25:02.850Z"
   },
   {
    "duration": 51,
    "start_time": "2023-08-29T21:25:02.907Z"
   },
   {
    "duration": 14,
    "start_time": "2023-08-29T21:25:02.960Z"
   },
   {
    "duration": 299,
    "start_time": "2023-08-29T21:25:02.976Z"
   },
   {
    "duration": 28,
    "start_time": "2023-08-29T21:25:03.277Z"
   },
   {
    "duration": 15,
    "start_time": "2023-08-29T21:25:03.307Z"
   },
   {
    "duration": 23,
    "start_time": "2023-08-29T21:25:03.324Z"
   },
   {
    "duration": 65,
    "start_time": "2023-08-29T21:25:03.349Z"
   },
   {
    "duration": 13,
    "start_time": "2023-08-29T21:25:03.416Z"
   },
   {
    "duration": 34,
    "start_time": "2023-08-29T21:25:03.431Z"
   },
   {
    "duration": 37,
    "start_time": "2023-08-29T21:25:03.467Z"
   },
   {
    "duration": 46,
    "start_time": "2023-08-29T21:25:03.507Z"
   },
   {
    "duration": 12,
    "start_time": "2023-08-29T21:25:03.555Z"
   },
   {
    "duration": 31,
    "start_time": "2023-08-29T21:25:03.569Z"
   },
   {
    "duration": 31,
    "start_time": "2023-08-29T21:25:03.603Z"
   },
   {
    "duration": 0,
    "start_time": "2023-08-29T21:25:03.636Z"
   },
   {
    "duration": 274,
    "start_time": "2023-08-29T21:25:40.906Z"
   },
   {
    "duration": 225,
    "start_time": "2023-08-29T21:25:59.106Z"
   },
   {
    "duration": 268,
    "start_time": "2023-08-29T21:26:02.963Z"
   },
   {
    "duration": 218,
    "start_time": "2023-08-29T21:26:06.127Z"
   },
   {
    "duration": 256,
    "start_time": "2023-08-29T21:26:09.426Z"
   },
   {
    "duration": 195,
    "start_time": "2023-08-29T21:27:03.123Z"
   },
   {
    "duration": 269,
    "start_time": "2023-08-29T21:27:14.015Z"
   },
   {
    "duration": 25,
    "start_time": "2023-08-29T21:27:31.707Z"
   },
   {
    "duration": 1402,
    "start_time": "2023-08-29T21:57:53.489Z"
   },
   {
    "duration": 961,
    "start_time": "2023-08-29T21:57:54.893Z"
   },
   {
    "duration": 126,
    "start_time": "2023-08-29T21:57:55.856Z"
   },
   {
    "duration": 61,
    "start_time": "2023-08-29T21:57:55.985Z"
   },
   {
    "duration": 31,
    "start_time": "2023-08-29T21:57:56.048Z"
   },
   {
    "duration": 54,
    "start_time": "2023-08-29T21:57:56.081Z"
   },
   {
    "duration": 121,
    "start_time": "2023-08-29T21:57:56.136Z"
   },
   {
    "duration": 3,
    "start_time": "2023-08-29T21:57:56.259Z"
   },
   {
    "duration": 28,
    "start_time": "2023-08-29T21:57:56.264Z"
   },
   {
    "duration": 36,
    "start_time": "2023-08-29T21:57:56.295Z"
   },
   {
    "duration": 27,
    "start_time": "2023-08-29T21:57:56.332Z"
   },
   {
    "duration": 20,
    "start_time": "2023-08-29T21:57:56.361Z"
   },
   {
    "duration": 30,
    "start_time": "2023-08-29T21:57:56.383Z"
   },
   {
    "duration": 26,
    "start_time": "2023-08-29T21:57:56.414Z"
   },
   {
    "duration": 229,
    "start_time": "2023-08-29T21:57:56.442Z"
   },
   {
    "duration": 21,
    "start_time": "2023-08-29T21:57:56.673Z"
   },
   {
    "duration": 35,
    "start_time": "2023-08-29T21:57:56.700Z"
   },
   {
    "duration": 29,
    "start_time": "2023-08-29T21:57:56.737Z"
   },
   {
    "duration": 18,
    "start_time": "2023-08-29T21:57:56.768Z"
   },
   {
    "duration": 32,
    "start_time": "2023-08-29T21:57:56.788Z"
   },
   {
    "duration": 30,
    "start_time": "2023-08-29T21:57:56.822Z"
   },
   {
    "duration": 51,
    "start_time": "2023-08-29T21:57:56.854Z"
   },
   {
    "duration": 79,
    "start_time": "2023-08-29T21:57:56.907Z"
   },
   {
    "duration": 8,
    "start_time": "2023-08-29T21:57:56.988Z"
   },
   {
    "duration": 33,
    "start_time": "2023-08-29T21:57:56.998Z"
   },
   {
    "duration": 23,
    "start_time": "2023-08-29T21:57:57.033Z"
   },
   {
    "duration": 92,
    "start_time": "2023-08-29T21:57:57.058Z"
   },
   {
    "duration": 5,
    "start_time": "2023-08-29T21:57:57.155Z"
   },
   {
    "duration": 28,
    "start_time": "2023-08-29T21:57:57.161Z"
   },
   {
    "duration": 25,
    "start_time": "2023-08-29T21:57:57.191Z"
   },
   {
    "duration": 313,
    "start_time": "2023-08-29T21:57:57.218Z"
   },
   {
    "duration": 6,
    "start_time": "2023-08-29T21:57:57.532Z"
   },
   {
    "duration": 54,
    "start_time": "2023-08-29T21:57:57.539Z"
   },
   {
    "duration": 16,
    "start_time": "2023-08-29T21:57:57.603Z"
   },
   {
    "duration": 125,
    "start_time": "2023-08-29T21:57:57.621Z"
   },
   {
    "duration": 8,
    "start_time": "2023-08-29T21:57:57.748Z"
   },
   {
    "duration": 34,
    "start_time": "2023-08-29T21:57:57.757Z"
   },
   {
    "duration": 128,
    "start_time": "2023-08-29T21:57:57.792Z"
   },
   {
    "duration": 6,
    "start_time": "2023-08-29T21:57:57.922Z"
   },
   {
    "duration": 43,
    "start_time": "2023-08-29T21:57:57.930Z"
   },
   {
    "duration": 49,
    "start_time": "2023-08-29T21:57:57.975Z"
   },
   {
    "duration": 34,
    "start_time": "2023-08-29T21:57:58.025Z"
   },
   {
    "duration": 31,
    "start_time": "2023-08-29T21:57:58.061Z"
   },
   {
    "duration": 30,
    "start_time": "2023-08-29T21:57:58.094Z"
   },
   {
    "duration": 40,
    "start_time": "2023-08-29T21:57:58.126Z"
   },
   {
    "duration": 16,
    "start_time": "2023-08-29T21:57:58.167Z"
   },
   {
    "duration": 43,
    "start_time": "2023-08-29T21:57:58.185Z"
   },
   {
    "duration": 8,
    "start_time": "2023-08-29T21:57:58.230Z"
   },
   {
    "duration": 22,
    "start_time": "2023-08-29T21:57:58.240Z"
   },
   {
    "duration": 23,
    "start_time": "2023-08-29T21:57:58.263Z"
   },
   {
    "duration": 61,
    "start_time": "2023-08-29T21:57:58.288Z"
   },
   {
    "duration": 20,
    "start_time": "2023-08-29T21:57:58.350Z"
   },
   {
    "duration": 52,
    "start_time": "2023-08-29T21:57:58.372Z"
   },
   {
    "duration": 173,
    "start_time": "2023-08-29T21:57:58.426Z"
   },
   {
    "duration": 116,
    "start_time": "2023-08-29T21:57:58.601Z"
   },
   {
    "duration": 316,
    "start_time": "2023-08-29T21:57:58.719Z"
   },
   {
    "duration": 166,
    "start_time": "2023-08-29T21:57:59.037Z"
   },
   {
    "duration": 38,
    "start_time": "2023-08-29T21:57:59.210Z"
   },
   {
    "duration": 38,
    "start_time": "2023-08-29T21:57:59.250Z"
   },
   {
    "duration": 44,
    "start_time": "2023-08-29T21:57:59.290Z"
   },
   {
    "duration": 9,
    "start_time": "2023-08-29T21:57:59.336Z"
   },
   {
    "duration": 36,
    "start_time": "2023-08-29T21:57:59.347Z"
   },
   {
    "duration": 61,
    "start_time": "2023-08-29T21:57:59.385Z"
   },
   {
    "duration": 48,
    "start_time": "2023-08-29T21:57:59.448Z"
   },
   {
    "duration": 50,
    "start_time": "2023-08-29T21:57:59.498Z"
   },
   {
    "duration": 46,
    "start_time": "2023-08-29T21:57:59.549Z"
   },
   {
    "duration": 37,
    "start_time": "2023-08-29T21:57:59.597Z"
   },
   {
    "duration": 146,
    "start_time": "2023-08-29T21:57:59.636Z"
   },
   {
    "duration": 6,
    "start_time": "2023-08-29T21:57:59.783Z"
   },
   {
    "duration": 44,
    "start_time": "2023-08-29T21:57:59.791Z"
   },
   {
    "duration": 34,
    "start_time": "2023-08-29T21:57:59.837Z"
   },
   {
    "duration": 26,
    "start_time": "2023-08-29T21:57:59.873Z"
   },
   {
    "duration": 36,
    "start_time": "2023-08-29T21:57:59.901Z"
   },
   {
    "duration": 29,
    "start_time": "2023-08-29T21:57:59.939Z"
   },
   {
    "duration": 27,
    "start_time": "2023-08-29T21:57:59.970Z"
   },
   {
    "duration": 24,
    "start_time": "2023-08-29T21:57:59.999Z"
   },
   {
    "duration": 324,
    "start_time": "2023-08-29T21:58:00.026Z"
   },
   {
    "duration": 15,
    "start_time": "2023-08-29T21:58:00.352Z"
   },
   {
    "duration": 69,
    "start_time": "2023-08-29T21:58:00.369Z"
   },
   {
    "duration": 99,
    "start_time": "2023-08-29T21:58:00.440Z"
   },
   {
    "duration": 86,
    "start_time": "2023-08-29T21:58:00.540Z"
   },
   {
    "duration": 291,
    "start_time": "2023-08-29T21:58:00.634Z"
   },
   {
    "duration": 299,
    "start_time": "2023-08-29T21:58:00.927Z"
   },
   {
    "duration": 17,
    "start_time": "2023-08-29T21:58:01.227Z"
   },
   {
    "duration": 47,
    "start_time": "2023-08-29T21:58:01.246Z"
   },
   {
    "duration": 52,
    "start_time": "2023-08-29T21:58:01.295Z"
   },
   {
    "duration": 530,
    "start_time": "2023-08-29T21:58:01.349Z"
   },
   {
    "duration": 12,
    "start_time": "2023-08-29T21:58:01.880Z"
   },
   {
    "duration": 56,
    "start_time": "2023-08-29T21:58:01.894Z"
   },
   {
    "duration": 89,
    "start_time": "2023-08-29T21:58:01.951Z"
   },
   {
    "duration": 45,
    "start_time": "2023-08-29T21:58:02.042Z"
   },
   {
    "duration": 261,
    "start_time": "2023-08-29T21:58:02.089Z"
   },
   {
    "duration": 35,
    "start_time": "2023-08-29T21:58:02.352Z"
   },
   {
    "duration": 233,
    "start_time": "2023-08-29T21:58:02.389Z"
   },
   {
    "duration": 0,
    "start_time": "2023-08-29T21:58:02.626Z"
   },
   {
    "duration": 356,
    "start_time": "2023-08-29T21:58:44.117Z"
   },
   {
    "duration": 246,
    "start_time": "2023-08-29T22:02:16.241Z"
   },
   {
    "duration": 1309,
    "start_time": "2023-08-29T22:02:26.742Z"
   },
   {
    "duration": 926,
    "start_time": "2023-08-29T22:02:28.053Z"
   },
   {
    "duration": 111,
    "start_time": "2023-08-29T22:02:28.981Z"
   },
   {
    "duration": 42,
    "start_time": "2023-08-29T22:02:29.106Z"
   },
   {
    "duration": 43,
    "start_time": "2023-08-29T22:02:29.150Z"
   },
   {
    "duration": 48,
    "start_time": "2023-08-29T22:02:29.195Z"
   },
   {
    "duration": 47,
    "start_time": "2023-08-29T22:02:29.245Z"
   },
   {
    "duration": 4,
    "start_time": "2023-08-29T22:02:29.294Z"
   },
   {
    "duration": 22,
    "start_time": "2023-08-29T22:02:29.300Z"
   },
   {
    "duration": 5,
    "start_time": "2023-08-29T22:02:29.327Z"
   },
   {
    "duration": 6,
    "start_time": "2023-08-29T22:02:29.334Z"
   },
   {
    "duration": 11,
    "start_time": "2023-08-29T22:02:29.341Z"
   },
   {
    "duration": 13,
    "start_time": "2023-08-29T22:02:29.354Z"
   },
   {
    "duration": 10,
    "start_time": "2023-08-29T22:02:29.369Z"
   },
   {
    "duration": 252,
    "start_time": "2023-08-29T22:02:29.381Z"
   },
   {
    "duration": 22,
    "start_time": "2023-08-29T22:02:29.635Z"
   },
   {
    "duration": 27,
    "start_time": "2023-08-29T22:02:29.659Z"
   },
   {
    "duration": 14,
    "start_time": "2023-08-29T22:02:29.688Z"
   },
   {
    "duration": 28,
    "start_time": "2023-08-29T22:02:29.704Z"
   },
   {
    "duration": 7,
    "start_time": "2023-08-29T22:02:29.735Z"
   },
   {
    "duration": 19,
    "start_time": "2023-08-29T22:02:29.743Z"
   },
   {
    "duration": 11,
    "start_time": "2023-08-29T22:02:29.763Z"
   },
   {
    "duration": 107,
    "start_time": "2023-08-29T22:02:29.776Z"
   },
   {
    "duration": 7,
    "start_time": "2023-08-29T22:02:29.886Z"
   },
   {
    "duration": 8,
    "start_time": "2023-08-29T22:02:29.895Z"
   },
   {
    "duration": 18,
    "start_time": "2023-08-29T22:02:29.904Z"
   },
   {
    "duration": 63,
    "start_time": "2023-08-29T22:02:29.924Z"
   },
   {
    "duration": 6,
    "start_time": "2023-08-29T22:02:29.991Z"
   },
   {
    "duration": 49,
    "start_time": "2023-08-29T22:02:30.012Z"
   },
   {
    "duration": 19,
    "start_time": "2023-08-29T22:02:30.063Z"
   },
   {
    "duration": 305,
    "start_time": "2023-08-29T22:02:30.084Z"
   },
   {
    "duration": 17,
    "start_time": "2023-08-29T22:02:30.391Z"
   },
   {
    "duration": 61,
    "start_time": "2023-08-29T22:02:30.410Z"
   },
   {
    "duration": 10,
    "start_time": "2023-08-29T22:02:30.473Z"
   },
   {
    "duration": 161,
    "start_time": "2023-08-29T22:02:30.485Z"
   },
   {
    "duration": 9,
    "start_time": "2023-08-29T22:02:30.648Z"
   },
   {
    "duration": 38,
    "start_time": "2023-08-29T22:02:30.658Z"
   },
   {
    "duration": 250,
    "start_time": "2023-08-29T22:02:30.698Z"
   },
   {
    "duration": 5,
    "start_time": "2023-08-29T22:02:30.950Z"
   },
   {
    "duration": 40,
    "start_time": "2023-08-29T22:02:30.956Z"
   },
   {
    "duration": 51,
    "start_time": "2023-08-29T22:02:30.998Z"
   },
   {
    "duration": 73,
    "start_time": "2023-08-29T22:02:31.051Z"
   },
   {
    "duration": 62,
    "start_time": "2023-08-29T22:02:31.127Z"
   },
   {
    "duration": 40,
    "start_time": "2023-08-29T22:02:31.191Z"
   },
   {
    "duration": 147,
    "start_time": "2023-08-29T22:02:31.233Z"
   },
   {
    "duration": 47,
    "start_time": "2023-08-29T22:02:31.382Z"
   },
   {
    "duration": 52,
    "start_time": "2023-08-29T22:02:31.431Z"
   },
   {
    "duration": 41,
    "start_time": "2023-08-29T22:02:31.484Z"
   },
   {
    "duration": 43,
    "start_time": "2023-08-29T22:02:31.527Z"
   },
   {
    "duration": 57,
    "start_time": "2023-08-29T22:02:31.572Z"
   },
   {
    "duration": 166,
    "start_time": "2023-08-29T22:02:31.631Z"
   },
   {
    "duration": 49,
    "start_time": "2023-08-29T22:02:31.799Z"
   },
   {
    "duration": 76,
    "start_time": "2023-08-29T22:02:31.850Z"
   },
   {
    "duration": 143,
    "start_time": "2023-08-29T22:02:31.928Z"
   },
   {
    "duration": 110,
    "start_time": "2023-08-29T22:02:32.073Z"
   },
   {
    "duration": 340,
    "start_time": "2023-08-29T22:02:32.185Z"
   },
   {
    "duration": 151,
    "start_time": "2023-08-29T22:02:32.530Z"
   },
   {
    "duration": 48,
    "start_time": "2023-08-29T22:02:32.683Z"
   },
   {
    "duration": 23,
    "start_time": "2023-08-29T22:02:32.732Z"
   },
   {
    "duration": 19,
    "start_time": "2023-08-29T22:02:32.756Z"
   },
   {
    "duration": 9,
    "start_time": "2023-08-29T22:02:32.777Z"
   },
   {
    "duration": 43,
    "start_time": "2023-08-29T22:02:32.787Z"
   },
   {
    "duration": 67,
    "start_time": "2023-08-29T22:02:32.832Z"
   },
   {
    "duration": 53,
    "start_time": "2023-08-29T22:02:32.903Z"
   },
   {
    "duration": 8,
    "start_time": "2023-08-29T22:02:32.958Z"
   },
   {
    "duration": 24,
    "start_time": "2023-08-29T22:02:32.968Z"
   },
   {
    "duration": 32,
    "start_time": "2023-08-29T22:02:32.994Z"
   },
   {
    "duration": 155,
    "start_time": "2023-08-29T22:02:33.028Z"
   },
   {
    "duration": 7,
    "start_time": "2023-08-29T22:02:33.184Z"
   },
   {
    "duration": 40,
    "start_time": "2023-08-29T22:02:33.192Z"
   },
   {
    "duration": 20,
    "start_time": "2023-08-29T22:02:33.233Z"
   },
   {
    "duration": 16,
    "start_time": "2023-08-29T22:02:33.254Z"
   },
   {
    "duration": 22,
    "start_time": "2023-08-29T22:02:33.272Z"
   },
   {
    "duration": 25,
    "start_time": "2023-08-29T22:02:33.296Z"
   },
   {
    "duration": 256,
    "start_time": "2023-08-29T22:02:33.323Z"
   },
   {
    "duration": 70,
    "start_time": "2023-08-29T22:02:33.580Z"
   },
   {
    "duration": 302,
    "start_time": "2023-08-29T22:02:33.652Z"
   },
   {
    "duration": 15,
    "start_time": "2023-08-29T22:02:33.956Z"
   },
   {
    "duration": 53,
    "start_time": "2023-08-29T22:02:33.973Z"
   },
   {
    "duration": 31,
    "start_time": "2023-08-29T22:02:34.028Z"
   },
   {
    "duration": 35,
    "start_time": "2023-08-29T22:02:34.061Z"
   },
   {
    "duration": 16,
    "start_time": "2023-08-29T22:02:34.102Z"
   },
   {
    "duration": 335,
    "start_time": "2023-08-29T22:02:34.120Z"
   },
   {
    "duration": 14,
    "start_time": "2023-08-29T22:02:34.457Z"
   },
   {
    "duration": 45,
    "start_time": "2023-08-29T22:02:34.472Z"
   },
   {
    "duration": 52,
    "start_time": "2023-08-29T22:02:34.522Z"
   },
   {
    "duration": 594,
    "start_time": "2023-08-29T22:02:34.576Z"
   },
   {
    "duration": 11,
    "start_time": "2023-08-29T22:02:35.172Z"
   },
   {
    "duration": 28,
    "start_time": "2023-08-29T22:02:35.185Z"
   },
   {
    "duration": 39,
    "start_time": "2023-08-29T22:02:35.215Z"
   },
   {
    "duration": 25,
    "start_time": "2023-08-29T22:02:35.257Z"
   },
   {
    "duration": 38,
    "start_time": "2023-08-29T22:02:35.284Z"
   },
   {
    "duration": 19,
    "start_time": "2023-08-29T22:02:35.326Z"
   },
   {
    "duration": 212,
    "start_time": "2023-08-29T22:02:35.347Z"
   },
   {
    "duration": 0,
    "start_time": "2023-08-29T22:02:35.561Z"
   },
   {
    "duration": 202,
    "start_time": "2023-08-29T22:04:39.275Z"
   },
   {
    "duration": 208,
    "start_time": "2023-08-29T22:04:47.435Z"
   },
   {
    "duration": 268,
    "start_time": "2023-08-29T22:05:15.749Z"
   },
   {
    "duration": 277,
    "start_time": "2023-08-29T22:06:00.790Z"
   },
   {
    "duration": 351,
    "start_time": "2023-08-29T22:07:09.585Z"
   },
   {
    "duration": 245,
    "start_time": "2023-08-29T22:08:05.147Z"
   },
   {
    "duration": 248,
    "start_time": "2023-08-29T22:08:25.322Z"
   },
   {
    "duration": 1343,
    "start_time": "2023-08-29T22:09:05.520Z"
   },
   {
    "duration": 941,
    "start_time": "2023-08-29T22:09:06.865Z"
   },
   {
    "duration": 134,
    "start_time": "2023-08-29T22:09:07.808Z"
   },
   {
    "duration": 39,
    "start_time": "2023-08-29T22:09:07.943Z"
   },
   {
    "duration": 60,
    "start_time": "2023-08-29T22:09:07.984Z"
   },
   {
    "duration": 27,
    "start_time": "2023-08-29T22:09:08.046Z"
   },
   {
    "duration": 137,
    "start_time": "2023-08-29T22:09:08.075Z"
   },
   {
    "duration": 7,
    "start_time": "2023-08-29T22:09:08.218Z"
   },
   {
    "duration": 12,
    "start_time": "2023-08-29T22:09:08.226Z"
   },
   {
    "duration": 30,
    "start_time": "2023-08-29T22:09:08.239Z"
   },
   {
    "duration": 21,
    "start_time": "2023-08-29T22:09:08.270Z"
   },
   {
    "duration": 34,
    "start_time": "2023-08-29T22:09:08.293Z"
   },
   {
    "duration": 11,
    "start_time": "2023-08-29T22:09:08.329Z"
   },
   {
    "duration": 5,
    "start_time": "2023-08-29T22:09:08.343Z"
   },
   {
    "duration": 176,
    "start_time": "2023-08-29T22:09:08.349Z"
   },
   {
    "duration": 22,
    "start_time": "2023-08-29T22:09:08.529Z"
   },
   {
    "duration": 11,
    "start_time": "2023-08-29T22:09:08.552Z"
   },
   {
    "duration": 17,
    "start_time": "2023-08-29T22:09:08.565Z"
   },
   {
    "duration": 39,
    "start_time": "2023-08-29T22:09:08.584Z"
   },
   {
    "duration": 18,
    "start_time": "2023-08-29T22:09:08.625Z"
   },
   {
    "duration": 34,
    "start_time": "2023-08-29T22:09:08.645Z"
   },
   {
    "duration": 39,
    "start_time": "2023-08-29T22:09:08.681Z"
   },
   {
    "duration": 74,
    "start_time": "2023-08-29T22:09:08.722Z"
   },
   {
    "duration": 17,
    "start_time": "2023-08-29T22:09:08.798Z"
   },
   {
    "duration": 6,
    "start_time": "2023-08-29T22:09:08.822Z"
   },
   {
    "duration": 11,
    "start_time": "2023-08-29T22:09:08.832Z"
   },
   {
    "duration": 75,
    "start_time": "2023-08-29T22:09:08.844Z"
   },
   {
    "duration": 7,
    "start_time": "2023-08-29T22:09:08.925Z"
   },
   {
    "duration": 56,
    "start_time": "2023-08-29T22:09:08.933Z"
   },
   {
    "duration": 13,
    "start_time": "2023-08-29T22:09:08.990Z"
   },
   {
    "duration": 316,
    "start_time": "2023-08-29T22:09:09.004Z"
   },
   {
    "duration": 7,
    "start_time": "2023-08-29T22:09:09.330Z"
   },
   {
    "duration": 45,
    "start_time": "2023-08-29T22:09:09.338Z"
   },
   {
    "duration": 9,
    "start_time": "2023-08-29T22:09:09.385Z"
   },
   {
    "duration": 135,
    "start_time": "2023-08-29T22:09:09.395Z"
   },
   {
    "duration": 9,
    "start_time": "2023-08-29T22:09:09.533Z"
   },
   {
    "duration": 39,
    "start_time": "2023-08-29T22:09:09.543Z"
   },
   {
    "duration": 235,
    "start_time": "2023-08-29T22:09:09.584Z"
   },
   {
    "duration": 7,
    "start_time": "2023-08-29T22:09:09.823Z"
   },
   {
    "duration": 15,
    "start_time": "2023-08-29T22:09:09.831Z"
   },
   {
    "duration": 7,
    "start_time": "2023-08-29T22:09:09.851Z"
   },
   {
    "duration": 11,
    "start_time": "2023-08-29T22:09:09.860Z"
   },
   {
    "duration": 14,
    "start_time": "2023-08-29T22:09:09.872Z"
   },
   {
    "duration": 19,
    "start_time": "2023-08-29T22:09:09.888Z"
   },
   {
    "duration": 26,
    "start_time": "2023-08-29T22:09:09.909Z"
   },
   {
    "duration": 24,
    "start_time": "2023-08-29T22:09:09.937Z"
   },
   {
    "duration": 9,
    "start_time": "2023-08-29T22:09:09.962Z"
   },
   {
    "duration": 9,
    "start_time": "2023-08-29T22:09:09.972Z"
   },
   {
    "duration": 11,
    "start_time": "2023-08-29T22:09:09.983Z"
   },
   {
    "duration": 26,
    "start_time": "2023-08-29T22:09:09.995Z"
   },
   {
    "duration": 50,
    "start_time": "2023-08-29T22:09:10.024Z"
   },
   {
    "duration": 21,
    "start_time": "2023-08-29T22:09:10.076Z"
   },
   {
    "duration": 32,
    "start_time": "2023-08-29T22:09:10.099Z"
   },
   {
    "duration": 140,
    "start_time": "2023-08-29T22:09:10.133Z"
   },
   {
    "duration": 115,
    "start_time": "2023-08-29T22:09:10.275Z"
   },
   {
    "duration": 338,
    "start_time": "2023-08-29T22:09:10.392Z"
   },
   {
    "duration": 150,
    "start_time": "2023-08-29T22:09:10.732Z"
   },
   {
    "duration": 99,
    "start_time": "2023-08-29T22:09:10.884Z"
   },
   {
    "duration": 16,
    "start_time": "2023-08-29T22:09:10.985Z"
   },
   {
    "duration": 27,
    "start_time": "2023-08-29T22:09:11.014Z"
   },
   {
    "duration": 9,
    "start_time": "2023-08-29T22:09:11.042Z"
   },
   {
    "duration": 17,
    "start_time": "2023-08-29T22:09:11.052Z"
   },
   {
    "duration": 29,
    "start_time": "2023-08-29T22:09:11.070Z"
   },
   {
    "duration": 49,
    "start_time": "2023-08-29T22:09:11.100Z"
   },
   {
    "duration": 14,
    "start_time": "2023-08-29T22:09:11.151Z"
   },
   {
    "duration": 18,
    "start_time": "2023-08-29T22:09:11.167Z"
   },
   {
    "duration": 36,
    "start_time": "2023-08-29T22:09:11.188Z"
   },
   {
    "duration": 147,
    "start_time": "2023-08-29T22:09:11.229Z"
   },
   {
    "duration": 7,
    "start_time": "2023-08-29T22:09:11.377Z"
   },
   {
    "duration": 44,
    "start_time": "2023-08-29T22:09:11.386Z"
   },
   {
    "duration": 16,
    "start_time": "2023-08-29T22:09:11.432Z"
   },
   {
    "duration": 19,
    "start_time": "2023-08-29T22:09:11.449Z"
   },
   {
    "duration": 19,
    "start_time": "2023-08-29T22:09:11.470Z"
   },
   {
    "duration": 23,
    "start_time": "2023-08-29T22:09:11.491Z"
   },
   {
    "duration": 17,
    "start_time": "2023-08-29T22:09:11.516Z"
   },
   {
    "duration": 21,
    "start_time": "2023-08-29T22:09:11.535Z"
   },
   {
    "duration": 285,
    "start_time": "2023-08-29T22:09:11.558Z"
   },
   {
    "duration": 14,
    "start_time": "2023-08-29T22:09:11.845Z"
   },
   {
    "duration": 21,
    "start_time": "2023-08-29T22:09:11.861Z"
   },
   {
    "duration": 39,
    "start_time": "2023-08-29T22:09:11.884Z"
   },
   {
    "duration": 17,
    "start_time": "2023-08-29T22:09:11.925Z"
   },
   {
    "duration": 9,
    "start_time": "2023-08-29T22:09:11.944Z"
   },
   {
    "duration": 285,
    "start_time": "2023-08-29T22:09:11.955Z"
   },
   {
    "duration": 14,
    "start_time": "2023-08-29T22:09:12.241Z"
   },
   {
    "duration": 31,
    "start_time": "2023-08-29T22:09:12.257Z"
   },
   {
    "duration": 29,
    "start_time": "2023-08-29T22:09:12.290Z"
   },
   {
    "duration": 480,
    "start_time": "2023-08-29T22:09:12.320Z"
   },
   {
    "duration": 26,
    "start_time": "2023-08-29T22:09:12.808Z"
   },
   {
    "duration": 22,
    "start_time": "2023-08-29T22:09:12.836Z"
   },
   {
    "duration": 49,
    "start_time": "2023-08-29T22:09:12.860Z"
   },
   {
    "duration": 12,
    "start_time": "2023-08-29T22:09:12.911Z"
   },
   {
    "duration": 10,
    "start_time": "2023-08-29T22:09:12.930Z"
   },
   {
    "duration": 23,
    "start_time": "2023-08-29T22:09:12.942Z"
   },
   {
    "duration": 207,
    "start_time": "2023-08-29T22:09:12.967Z"
   },
   {
    "duration": 0,
    "start_time": "2023-08-29T22:09:13.176Z"
   },
   {
    "duration": 209,
    "start_time": "2023-08-29T22:13:11.153Z"
   },
   {
    "duration": 202,
    "start_time": "2023-08-29T22:13:48.394Z"
   },
   {
    "duration": 211,
    "start_time": "2023-08-29T22:14:04.236Z"
   },
   {
    "duration": 239,
    "start_time": "2023-08-29T22:14:26.485Z"
   },
   {
    "duration": 272,
    "start_time": "2023-08-29T22:14:34.067Z"
   },
   {
    "duration": 376,
    "start_time": "2023-08-29T22:14:50.842Z"
   },
   {
    "duration": 265,
    "start_time": "2023-08-29T22:14:56.786Z"
   },
   {
    "duration": 2437,
    "start_time": "2023-08-29T22:15:06.054Z"
   },
   {
    "duration": 7981,
    "start_time": "2023-08-29T22:15:43.554Z"
   },
   {
    "duration": 211,
    "start_time": "2023-08-29T22:16:09.195Z"
   },
   {
    "duration": 209,
    "start_time": "2023-08-29T22:20:07.545Z"
   },
   {
    "duration": 209,
    "start_time": "2023-08-29T22:20:31.133Z"
   },
   {
    "duration": 302,
    "start_time": "2023-08-29T22:21:02.591Z"
   },
   {
    "duration": 280,
    "start_time": "2023-08-29T22:25:24.668Z"
   },
   {
    "duration": 290,
    "start_time": "2023-08-29T22:26:08.477Z"
   },
   {
    "duration": 268,
    "start_time": "2023-08-29T22:26:20.605Z"
   },
   {
    "duration": 220,
    "start_time": "2023-08-29T22:26:26.201Z"
   },
   {
    "duration": 7962,
    "start_time": "2023-08-29T22:27:50.989Z"
   },
   {
    "duration": 297,
    "start_time": "2023-08-29T22:29:14.370Z"
   },
   {
    "duration": 254,
    "start_time": "2023-08-29T22:31:50.262Z"
   },
   {
    "duration": 263,
    "start_time": "2023-08-29T22:31:56.562Z"
   },
   {
    "duration": 272,
    "start_time": "2023-08-29T22:32:58.993Z"
   },
   {
    "duration": 266,
    "start_time": "2023-08-29T22:33:10.315Z"
   },
   {
    "duration": 638,
    "start_time": "2023-08-29T22:33:39.594Z"
   },
   {
    "duration": 261,
    "start_time": "2023-08-29T22:33:51.011Z"
   },
   {
    "duration": 234,
    "start_time": "2023-08-29T22:36:48.470Z"
   },
   {
    "duration": 231,
    "start_time": "2023-08-29T22:36:55.665Z"
   },
   {
    "duration": 198,
    "start_time": "2023-08-29T22:37:11.670Z"
   },
   {
    "duration": 244,
    "start_time": "2023-08-29T22:38:35.258Z"
   },
   {
    "duration": 284,
    "start_time": "2023-08-29T22:39:58.025Z"
   },
   {
    "duration": 275,
    "start_time": "2023-08-29T22:40:10.695Z"
   },
   {
    "duration": 279,
    "start_time": "2023-08-29T22:40:39.081Z"
   },
   {
    "duration": 406,
    "start_time": "2023-08-29T22:41:06.471Z"
   },
   {
    "duration": 256,
    "start_time": "2023-08-29T22:41:20.977Z"
   },
   {
    "duration": 210,
    "start_time": "2023-08-29T22:41:30.061Z"
   },
   {
    "duration": 256,
    "start_time": "2023-08-29T22:41:51.094Z"
   },
   {
    "duration": 244,
    "start_time": "2023-08-29T22:42:02.593Z"
   },
   {
    "duration": 229,
    "start_time": "2023-08-29T22:42:16.921Z"
   },
   {
    "duration": 230,
    "start_time": "2023-08-29T22:42:26.554Z"
   },
   {
    "duration": 259,
    "start_time": "2023-08-29T22:42:35.629Z"
   },
   {
    "duration": 241,
    "start_time": "2023-08-29T22:43:34.938Z"
   },
   {
    "duration": 77,
    "start_time": "2023-08-29T22:43:48.762Z"
   },
   {
    "duration": 212,
    "start_time": "2023-08-29T22:43:53.165Z"
   },
   {
    "duration": 411,
    "start_time": "2023-08-29T22:44:10.594Z"
   },
   {
    "duration": 84,
    "start_time": "2023-08-29T22:44:46.151Z"
   },
   {
    "duration": 256,
    "start_time": "2023-08-29T22:45:07.810Z"
   },
   {
    "duration": 224,
    "start_time": "2023-08-29T22:45:31.567Z"
   },
   {
    "duration": 220,
    "start_time": "2023-08-29T22:45:43.867Z"
   },
   {
    "duration": 227,
    "start_time": "2023-08-29T22:46:08.074Z"
   },
   {
    "duration": 255,
    "start_time": "2023-08-29T22:47:48.738Z"
   },
   {
    "duration": 190,
    "start_time": "2023-08-29T22:49:59.484Z"
   },
   {
    "duration": 208,
    "start_time": "2023-08-29T22:50:21.484Z"
   },
   {
    "duration": 178,
    "start_time": "2023-08-29T22:50:37.181Z"
   },
   {
    "duration": 199,
    "start_time": "2023-08-29T22:50:58.179Z"
   },
   {
    "duration": 16,
    "start_time": "2023-08-29T22:51:10.080Z"
   },
   {
    "duration": 86,
    "start_time": "2023-08-29T22:51:29.524Z"
   },
   {
    "duration": 190,
    "start_time": "2023-08-29T22:51:42.747Z"
   },
   {
    "duration": 387,
    "start_time": "2023-08-29T22:54:54.893Z"
   },
   {
    "duration": 2368,
    "start_time": "2023-08-29T22:55:00.514Z"
   },
   {
    "duration": 215,
    "start_time": "2023-08-29T22:55:21.096Z"
   },
   {
    "duration": 249,
    "start_time": "2023-08-29T22:56:07.181Z"
   },
   {
    "duration": 256,
    "start_time": "2023-08-29T22:56:23.214Z"
   },
   {
    "duration": 249,
    "start_time": "2023-08-29T22:57:07.189Z"
   },
   {
    "duration": 239,
    "start_time": "2023-08-29T22:57:21.335Z"
   },
   {
    "duration": 273,
    "start_time": "2023-08-29T22:57:31.565Z"
   },
   {
    "duration": 218,
    "start_time": "2023-08-29T22:57:49.184Z"
   },
   {
    "duration": 249,
    "start_time": "2023-08-29T22:58:00.140Z"
   },
   {
    "duration": 254,
    "start_time": "2023-08-29T22:58:24.779Z"
   },
   {
    "duration": 506,
    "start_time": "2023-08-29T22:58:55.795Z"
   },
   {
    "duration": 294,
    "start_time": "2023-08-29T22:59:14.432Z"
   },
   {
    "duration": 242,
    "start_time": "2023-08-29T22:59:38.911Z"
   },
   {
    "duration": 239,
    "start_time": "2023-08-29T22:59:48.468Z"
   },
   {
    "duration": 265,
    "start_time": "2023-08-29T23:00:03.891Z"
   },
   {
    "duration": 284,
    "start_time": "2023-08-29T23:00:09.143Z"
   },
   {
    "duration": 107,
    "start_time": "2023-08-29T23:00:14.779Z"
   },
   {
    "duration": 254,
    "start_time": "2023-08-29T23:00:21.116Z"
   },
   {
    "duration": 242,
    "start_time": "2023-08-29T23:01:41.335Z"
   },
   {
    "duration": 248,
    "start_time": "2023-08-29T23:01:53.543Z"
   },
   {
    "duration": 259,
    "start_time": "2023-08-29T23:02:02.002Z"
   },
   {
    "duration": 274,
    "start_time": "2023-08-29T23:02:09.358Z"
   },
   {
    "duration": 408,
    "start_time": "2023-08-29T23:02:18.868Z"
   },
   {
    "duration": 253,
    "start_time": "2023-08-29T23:02:39.083Z"
   },
   {
    "duration": 422,
    "start_time": "2023-08-29T23:02:46.611Z"
   },
   {
    "duration": 237,
    "start_time": "2023-08-29T23:02:55.156Z"
   },
   {
    "duration": 271,
    "start_time": "2023-08-29T23:03:07.943Z"
   },
   {
    "duration": 79,
    "start_time": "2023-08-29T23:03:15.262Z"
   },
   {
    "duration": 82,
    "start_time": "2023-08-29T23:03:26.403Z"
   },
   {
    "duration": 260,
    "start_time": "2023-08-29T23:03:31.647Z"
   },
   {
    "duration": 224,
    "start_time": "2023-08-29T23:03:36.786Z"
   },
   {
    "duration": 193,
    "start_time": "2023-08-29T23:03:49.313Z"
   },
   {
    "duration": 264,
    "start_time": "2023-08-29T23:04:01.223Z"
   },
   {
    "duration": 6,
    "start_time": "2023-08-29T23:04:49.523Z"
   },
   {
    "duration": 9,
    "start_time": "2023-08-29T23:05:01.310Z"
   },
   {
    "duration": 6,
    "start_time": "2023-08-29T23:05:16.111Z"
   },
   {
    "duration": 5,
    "start_time": "2023-08-29T23:05:26.467Z"
   },
   {
    "duration": 19,
    "start_time": "2023-08-29T23:05:58.810Z"
   },
   {
    "duration": 25,
    "start_time": "2023-08-29T23:06:04.323Z"
   },
   {
    "duration": 1352,
    "start_time": "2023-08-29T23:06:20.663Z"
   },
   {
    "duration": 814,
    "start_time": "2023-08-29T23:06:22.018Z"
   },
   {
    "duration": 121,
    "start_time": "2023-08-29T23:06:22.833Z"
   },
   {
    "duration": 47,
    "start_time": "2023-08-29T23:06:22.956Z"
   },
   {
    "duration": 42,
    "start_time": "2023-08-29T23:06:23.005Z"
   },
   {
    "duration": 31,
    "start_time": "2023-08-29T23:06:23.049Z"
   },
   {
    "duration": 73,
    "start_time": "2023-08-29T23:06:23.101Z"
   },
   {
    "duration": 5,
    "start_time": "2023-08-29T23:06:23.176Z"
   },
   {
    "duration": 31,
    "start_time": "2023-08-29T23:06:23.182Z"
   },
   {
    "duration": 27,
    "start_time": "2023-08-29T23:06:23.217Z"
   },
   {
    "duration": 6,
    "start_time": "2023-08-29T23:06:23.247Z"
   },
   {
    "duration": 21,
    "start_time": "2023-08-29T23:06:23.255Z"
   },
   {
    "duration": 6,
    "start_time": "2023-08-29T23:06:23.278Z"
   },
   {
    "duration": 11,
    "start_time": "2023-08-29T23:06:23.286Z"
   },
   {
    "duration": 164,
    "start_time": "2023-08-29T23:06:23.299Z"
   },
   {
    "duration": 19,
    "start_time": "2023-08-29T23:06:23.464Z"
   },
   {
    "duration": 24,
    "start_time": "2023-08-29T23:06:23.485Z"
   },
   {
    "duration": 16,
    "start_time": "2023-08-29T23:06:23.514Z"
   },
   {
    "duration": 14,
    "start_time": "2023-08-29T23:06:23.532Z"
   },
   {
    "duration": 15,
    "start_time": "2023-08-29T23:06:23.547Z"
   },
   {
    "duration": 18,
    "start_time": "2023-08-29T23:06:23.563Z"
   },
   {
    "duration": 25,
    "start_time": "2023-08-29T23:06:23.583Z"
   },
   {
    "duration": 75,
    "start_time": "2023-08-29T23:06:23.611Z"
   },
   {
    "duration": 7,
    "start_time": "2023-08-29T23:06:23.688Z"
   },
   {
    "duration": 13,
    "start_time": "2023-08-29T23:06:23.697Z"
   },
   {
    "duration": 14,
    "start_time": "2023-08-29T23:06:23.712Z"
   },
   {
    "duration": 64,
    "start_time": "2023-08-29T23:06:23.728Z"
   },
   {
    "duration": 12,
    "start_time": "2023-08-29T23:06:23.801Z"
   },
   {
    "duration": 20,
    "start_time": "2023-08-29T23:06:23.815Z"
   },
   {
    "duration": 10,
    "start_time": "2023-08-29T23:06:23.837Z"
   },
   {
    "duration": 319,
    "start_time": "2023-08-29T23:06:23.849Z"
   },
   {
    "duration": 6,
    "start_time": "2023-08-29T23:06:24.170Z"
   },
   {
    "duration": 61,
    "start_time": "2023-08-29T23:06:24.177Z"
   },
   {
    "duration": 11,
    "start_time": "2023-08-29T23:06:24.240Z"
   },
   {
    "duration": 166,
    "start_time": "2023-08-29T23:06:24.253Z"
   },
   {
    "duration": 9,
    "start_time": "2023-08-29T23:06:24.421Z"
   },
   {
    "duration": 31,
    "start_time": "2023-08-29T23:06:24.432Z"
   },
   {
    "duration": 178,
    "start_time": "2023-08-29T23:06:24.465Z"
   },
   {
    "duration": 6,
    "start_time": "2023-08-29T23:06:24.644Z"
   },
   {
    "duration": 35,
    "start_time": "2023-08-29T23:06:24.653Z"
   },
   {
    "duration": 80,
    "start_time": "2023-08-29T23:06:24.690Z"
   },
   {
    "duration": 12,
    "start_time": "2023-08-29T23:06:24.773Z"
   },
   {
    "duration": 17,
    "start_time": "2023-08-29T23:06:24.787Z"
   },
   {
    "duration": 23,
    "start_time": "2023-08-29T23:06:24.806Z"
   },
   {
    "duration": 294,
    "start_time": "2023-08-29T23:06:24.831Z"
   },
   {
    "duration": 68,
    "start_time": "2023-08-29T23:06:25.127Z"
   },
   {
    "duration": 31,
    "start_time": "2023-08-29T23:06:25.197Z"
   },
   {
    "duration": 44,
    "start_time": "2023-08-29T23:06:25.230Z"
   },
   {
    "duration": 22,
    "start_time": "2023-08-29T23:06:25.276Z"
   },
   {
    "duration": 30,
    "start_time": "2023-08-29T23:06:25.300Z"
   },
   {
    "duration": 88,
    "start_time": "2023-08-29T23:06:25.333Z"
   },
   {
    "duration": 20,
    "start_time": "2023-08-29T23:06:25.423Z"
   },
   {
    "duration": 24,
    "start_time": "2023-08-29T23:06:25.445Z"
   },
   {
    "duration": 196,
    "start_time": "2023-08-29T23:06:25.470Z"
   },
   {
    "duration": 115,
    "start_time": "2023-08-29T23:06:25.667Z"
   },
   {
    "duration": 314,
    "start_time": "2023-08-29T23:06:25.783Z"
   },
   {
    "duration": 167,
    "start_time": "2023-08-29T23:06:26.101Z"
   },
   {
    "duration": 42,
    "start_time": "2023-08-29T23:06:26.270Z"
   },
   {
    "duration": 20,
    "start_time": "2023-08-29T23:06:26.314Z"
   },
   {
    "duration": 45,
    "start_time": "2023-08-29T23:06:26.335Z"
   },
   {
    "duration": 19,
    "start_time": "2023-08-29T23:06:26.382Z"
   },
   {
    "duration": 40,
    "start_time": "2023-08-29T23:06:26.403Z"
   },
   {
    "duration": 31,
    "start_time": "2023-08-29T23:06:26.445Z"
   },
   {
    "duration": 58,
    "start_time": "2023-08-29T23:06:26.478Z"
   },
   {
    "duration": 36,
    "start_time": "2023-08-29T23:06:26.538Z"
   },
   {
    "duration": 54,
    "start_time": "2023-08-29T23:06:26.575Z"
   },
   {
    "duration": 14,
    "start_time": "2023-08-29T23:06:26.632Z"
   },
   {
    "duration": 137,
    "start_time": "2023-08-29T23:06:26.648Z"
   },
   {
    "duration": 17,
    "start_time": "2023-08-29T23:06:26.787Z"
   },
   {
    "duration": 27,
    "start_time": "2023-08-29T23:06:26.807Z"
   },
   {
    "duration": 15,
    "start_time": "2023-08-29T23:06:26.836Z"
   },
   {
    "duration": 36,
    "start_time": "2023-08-29T23:06:26.853Z"
   },
   {
    "duration": 28,
    "start_time": "2023-08-29T23:06:26.892Z"
   },
   {
    "duration": 13,
    "start_time": "2023-08-29T23:06:26.922Z"
   },
   {
    "duration": 35,
    "start_time": "2023-08-29T23:06:26.938Z"
   },
   {
    "duration": 12,
    "start_time": "2023-08-29T23:06:26.975Z"
   },
   {
    "duration": 299,
    "start_time": "2023-08-29T23:06:26.989Z"
   },
   {
    "duration": 22,
    "start_time": "2023-08-29T23:06:27.289Z"
   },
   {
    "duration": 30,
    "start_time": "2023-08-29T23:06:27.314Z"
   },
   {
    "duration": 25,
    "start_time": "2023-08-29T23:06:27.346Z"
   },
   {
    "duration": 23,
    "start_time": "2023-08-29T23:06:27.372Z"
   },
   {
    "duration": 11,
    "start_time": "2023-08-29T23:06:27.401Z"
   },
   {
    "duration": 292,
    "start_time": "2023-08-29T23:06:27.414Z"
   },
   {
    "duration": 20,
    "start_time": "2023-08-29T23:06:27.711Z"
   },
   {
    "duration": 34,
    "start_time": "2023-08-29T23:06:27.732Z"
   },
   {
    "duration": 86,
    "start_time": "2023-08-29T23:06:27.768Z"
   },
   {
    "duration": 492,
    "start_time": "2023-08-29T23:06:27.856Z"
   },
   {
    "duration": 10,
    "start_time": "2023-08-29T23:06:28.350Z"
   },
   {
    "duration": 13,
    "start_time": "2023-08-29T23:06:28.362Z"
   },
   {
    "duration": 43,
    "start_time": "2023-08-29T23:06:28.377Z"
   },
   {
    "duration": 25,
    "start_time": "2023-08-29T23:06:28.422Z"
   },
   {
    "duration": 22,
    "start_time": "2023-08-29T23:06:28.449Z"
   },
   {
    "duration": 14,
    "start_time": "2023-08-29T23:06:28.503Z"
   },
   {
    "duration": 207,
    "start_time": "2023-08-29T23:06:28.519Z"
   },
   {
    "duration": 0,
    "start_time": "2023-08-29T23:06:28.728Z"
   },
   {
    "duration": 1496,
    "start_time": "2023-08-29T23:11:33.340Z"
   },
   {
    "duration": 1158,
    "start_time": "2023-08-29T23:11:34.839Z"
   },
   {
    "duration": 147,
    "start_time": "2023-08-29T23:11:36.001Z"
   },
   {
    "duration": 35,
    "start_time": "2023-08-29T23:11:36.150Z"
   },
   {
    "duration": 54,
    "start_time": "2023-08-29T23:11:36.187Z"
   },
   {
    "duration": 27,
    "start_time": "2023-08-29T23:11:36.243Z"
   },
   {
    "duration": 74,
    "start_time": "2023-08-29T23:11:36.272Z"
   },
   {
    "duration": 5,
    "start_time": "2023-08-29T23:11:36.347Z"
   },
   {
    "duration": 10,
    "start_time": "2023-08-29T23:11:36.354Z"
   },
   {
    "duration": 20,
    "start_time": "2023-08-29T23:11:36.367Z"
   },
   {
    "duration": 12,
    "start_time": "2023-08-29T23:11:36.388Z"
   },
   {
    "duration": 49,
    "start_time": "2023-08-29T23:11:36.406Z"
   },
   {
    "duration": 32,
    "start_time": "2023-08-29T23:11:36.457Z"
   },
   {
    "duration": 5,
    "start_time": "2023-08-29T23:11:36.491Z"
   },
   {
    "duration": 179,
    "start_time": "2023-08-29T23:11:36.497Z"
   },
   {
    "duration": 27,
    "start_time": "2023-08-29T23:11:36.678Z"
   },
   {
    "duration": 23,
    "start_time": "2023-08-29T23:11:36.707Z"
   },
   {
    "duration": 26,
    "start_time": "2023-08-29T23:11:36.731Z"
   },
   {
    "duration": 21,
    "start_time": "2023-08-29T23:11:36.759Z"
   },
   {
    "duration": 40,
    "start_time": "2023-08-29T23:11:36.782Z"
   },
   {
    "duration": 9,
    "start_time": "2023-08-29T23:11:36.824Z"
   },
   {
    "duration": 20,
    "start_time": "2023-08-29T23:11:36.835Z"
   },
   {
    "duration": 80,
    "start_time": "2023-08-29T23:11:36.858Z"
   },
   {
    "duration": 12,
    "start_time": "2023-08-29T23:11:36.940Z"
   },
   {
    "duration": 7,
    "start_time": "2023-08-29T23:11:36.954Z"
   },
   {
    "duration": 12,
    "start_time": "2023-08-29T23:11:36.963Z"
   },
   {
    "duration": 91,
    "start_time": "2023-08-29T23:11:36.977Z"
   },
   {
    "duration": 6,
    "start_time": "2023-08-29T23:11:37.074Z"
   },
   {
    "duration": 45,
    "start_time": "2023-08-29T23:11:37.083Z"
   },
   {
    "duration": 22,
    "start_time": "2023-08-29T23:11:37.129Z"
   },
   {
    "duration": 313,
    "start_time": "2023-08-29T23:11:37.154Z"
   },
   {
    "duration": 6,
    "start_time": "2023-08-29T23:11:37.469Z"
   },
   {
    "duration": 67,
    "start_time": "2023-08-29T23:11:37.477Z"
   },
   {
    "duration": 13,
    "start_time": "2023-08-29T23:11:37.546Z"
   },
   {
    "duration": 149,
    "start_time": "2023-08-29T23:11:37.561Z"
   },
   {
    "duration": 12,
    "start_time": "2023-08-29T23:11:37.714Z"
   },
   {
    "duration": 25,
    "start_time": "2023-08-29T23:11:37.729Z"
   },
   {
    "duration": 215,
    "start_time": "2023-08-29T23:11:37.756Z"
   },
   {
    "duration": 7,
    "start_time": "2023-08-29T23:11:37.973Z"
   },
   {
    "duration": 37,
    "start_time": "2023-08-29T23:11:37.982Z"
   },
   {
    "duration": 21,
    "start_time": "2023-08-29T23:11:38.021Z"
   },
   {
    "duration": 15,
    "start_time": "2023-08-29T23:11:38.044Z"
   },
   {
    "duration": 78,
    "start_time": "2023-08-29T23:11:38.061Z"
   },
   {
    "duration": 50,
    "start_time": "2023-08-29T23:11:38.142Z"
   },
   {
    "duration": 33,
    "start_time": "2023-08-29T23:11:38.195Z"
   },
   {
    "duration": 15,
    "start_time": "2023-08-29T23:11:38.230Z"
   },
   {
    "duration": 31,
    "start_time": "2023-08-29T23:11:38.247Z"
   },
   {
    "duration": 17,
    "start_time": "2023-08-29T23:11:38.281Z"
   },
   {
    "duration": 26,
    "start_time": "2023-08-29T23:11:38.299Z"
   },
   {
    "duration": 53,
    "start_time": "2023-08-29T23:11:38.327Z"
   },
   {
    "duration": 117,
    "start_time": "2023-08-29T23:11:38.382Z"
   },
   {
    "duration": 31,
    "start_time": "2023-08-29T23:11:38.501Z"
   },
   {
    "duration": 43,
    "start_time": "2023-08-29T23:11:38.534Z"
   },
   {
    "duration": 184,
    "start_time": "2023-08-29T23:11:38.579Z"
   },
   {
    "duration": 129,
    "start_time": "2023-08-29T23:11:38.765Z"
   },
   {
    "duration": 336,
    "start_time": "2023-08-29T23:11:38.896Z"
   },
   {
    "duration": 161,
    "start_time": "2023-08-29T23:11:39.234Z"
   },
   {
    "duration": 39,
    "start_time": "2023-08-29T23:11:39.397Z"
   },
   {
    "duration": 28,
    "start_time": "2023-08-29T23:11:39.437Z"
   },
   {
    "duration": 50,
    "start_time": "2023-08-29T23:11:39.467Z"
   },
   {
    "duration": 10,
    "start_time": "2023-08-29T23:11:39.520Z"
   },
   {
    "duration": 34,
    "start_time": "2023-08-29T23:11:39.532Z"
   },
   {
    "duration": 29,
    "start_time": "2023-08-29T23:11:39.567Z"
   },
   {
    "duration": 52,
    "start_time": "2023-08-29T23:11:39.598Z"
   },
   {
    "duration": 15,
    "start_time": "2023-08-29T23:11:39.652Z"
   },
   {
    "duration": 28,
    "start_time": "2023-08-29T23:11:39.669Z"
   },
   {
    "duration": 13,
    "start_time": "2023-08-29T23:11:39.699Z"
   },
   {
    "duration": 130,
    "start_time": "2023-08-29T23:11:39.714Z"
   },
   {
    "duration": 7,
    "start_time": "2023-08-29T23:11:39.846Z"
   },
   {
    "duration": 17,
    "start_time": "2023-08-29T23:11:39.854Z"
   },
   {
    "duration": 40,
    "start_time": "2023-08-29T23:11:39.873Z"
   },
   {
    "duration": 22,
    "start_time": "2023-08-29T23:11:39.916Z"
   },
   {
    "duration": 19,
    "start_time": "2023-08-29T23:11:39.939Z"
   },
   {
    "duration": 17,
    "start_time": "2023-08-29T23:11:39.960Z"
   },
   {
    "duration": 26,
    "start_time": "2023-08-29T23:11:39.979Z"
   },
   {
    "duration": 47,
    "start_time": "2023-08-29T23:11:40.010Z"
   },
   {
    "duration": 296,
    "start_time": "2023-08-29T23:11:40.059Z"
   },
   {
    "duration": 14,
    "start_time": "2023-08-29T23:11:40.357Z"
   },
   {
    "duration": 13,
    "start_time": "2023-08-29T23:11:40.373Z"
   },
   {
    "duration": 17,
    "start_time": "2023-08-29T23:11:40.403Z"
   },
   {
    "duration": 36,
    "start_time": "2023-08-29T23:11:40.422Z"
   },
   {
    "duration": 12,
    "start_time": "2023-08-29T23:11:40.463Z"
   },
   {
    "duration": 256,
    "start_time": "2023-08-29T23:11:40.477Z"
   },
   {
    "duration": 14,
    "start_time": "2023-08-29T23:11:40.735Z"
   },
   {
    "duration": 21,
    "start_time": "2023-08-29T23:11:40.751Z"
   },
   {
    "duration": 7,
    "start_time": "2023-08-29T23:11:40.774Z"
   },
   {
    "duration": 464,
    "start_time": "2023-08-29T23:11:40.783Z"
   },
   {
    "duration": 11,
    "start_time": "2023-08-29T23:11:41.249Z"
   },
   {
    "duration": 5,
    "start_time": "2023-08-29T23:11:41.262Z"
   },
   {
    "duration": 46,
    "start_time": "2023-08-29T23:11:41.268Z"
   },
   {
    "duration": 10,
    "start_time": "2023-08-29T23:11:41.316Z"
   },
   {
    "duration": 7,
    "start_time": "2023-08-29T23:11:41.328Z"
   },
   {
    "duration": 13,
    "start_time": "2023-08-29T23:11:41.337Z"
   },
   {
    "duration": 56,
    "start_time": "2023-08-29T23:11:41.351Z"
   },
   {
    "duration": 50,
    "start_time": "2023-08-29T23:25:02.215Z"
   },
   {
    "duration": 50,
    "start_time": "2023-08-29T23:25:12.072Z"
   },
   {
    "duration": 253,
    "start_time": "2023-08-29T23:26:04.101Z"
   },
   {
    "duration": 49,
    "start_time": "2023-08-29T23:26:30.423Z"
   },
   {
    "duration": 55,
    "start_time": "2023-08-29T23:26:37.416Z"
   },
   {
    "duration": 32,
    "start_time": "2023-08-29T23:26:47.949Z"
   },
   {
    "duration": 14,
    "start_time": "2023-08-29T23:27:05.650Z"
   },
   {
    "duration": 10,
    "start_time": "2023-08-29T23:27:09.749Z"
   },
   {
    "duration": 1830,
    "start_time": "2023-08-30T00:05:24.067Z"
   },
   {
    "duration": 1297,
    "start_time": "2023-08-30T00:05:25.899Z"
   },
   {
    "duration": 158,
    "start_time": "2023-08-30T00:05:27.201Z"
   },
   {
    "duration": 33,
    "start_time": "2023-08-30T00:05:27.361Z"
   },
   {
    "duration": 80,
    "start_time": "2023-08-30T00:05:27.395Z"
   },
   {
    "duration": 95,
    "start_time": "2023-08-30T00:05:27.477Z"
   },
   {
    "duration": 136,
    "start_time": "2023-08-30T00:05:27.574Z"
   },
   {
    "duration": 5,
    "start_time": "2023-08-30T00:05:27.712Z"
   },
   {
    "duration": 9,
    "start_time": "2023-08-30T00:05:27.719Z"
   },
   {
    "duration": 12,
    "start_time": "2023-08-30T00:05:27.731Z"
   },
   {
    "duration": 16,
    "start_time": "2023-08-30T00:05:27.745Z"
   },
   {
    "duration": 8,
    "start_time": "2023-08-30T00:05:27.764Z"
   },
   {
    "duration": 7,
    "start_time": "2023-08-30T00:05:27.773Z"
   },
   {
    "duration": 7,
    "start_time": "2023-08-30T00:05:27.781Z"
   },
   {
    "duration": 292,
    "start_time": "2023-08-30T00:05:27.789Z"
   },
   {
    "duration": 24,
    "start_time": "2023-08-30T00:05:28.083Z"
   },
   {
    "duration": 21,
    "start_time": "2023-08-30T00:05:28.109Z"
   },
   {
    "duration": 28,
    "start_time": "2023-08-30T00:05:28.131Z"
   },
   {
    "duration": 17,
    "start_time": "2023-08-30T00:05:28.161Z"
   },
   {
    "duration": 18,
    "start_time": "2023-08-30T00:05:28.180Z"
   },
   {
    "duration": 10,
    "start_time": "2023-08-30T00:05:28.204Z"
   },
   {
    "duration": 28,
    "start_time": "2023-08-30T00:05:28.216Z"
   },
   {
    "duration": 150,
    "start_time": "2023-08-30T00:05:28.247Z"
   },
   {
    "duration": 10,
    "start_time": "2023-08-30T00:05:28.398Z"
   },
   {
    "duration": 43,
    "start_time": "2023-08-30T00:05:28.410Z"
   },
   {
    "duration": 13,
    "start_time": "2023-08-30T00:05:28.459Z"
   },
   {
    "duration": 120,
    "start_time": "2023-08-30T00:05:28.474Z"
   },
   {
    "duration": 8,
    "start_time": "2023-08-30T00:05:28.601Z"
   },
   {
    "duration": 46,
    "start_time": "2023-08-30T00:05:28.613Z"
   },
   {
    "duration": 13,
    "start_time": "2023-08-30T00:05:28.663Z"
   },
   {
    "duration": 435,
    "start_time": "2023-08-30T00:05:28.678Z"
   },
   {
    "duration": 7,
    "start_time": "2023-08-30T00:05:29.114Z"
   },
   {
    "duration": 119,
    "start_time": "2023-08-30T00:05:29.123Z"
   },
   {
    "duration": 74,
    "start_time": "2023-08-30T00:05:29.244Z"
   },
   {
    "duration": 179,
    "start_time": "2023-08-30T00:05:29.320Z"
   },
   {
    "duration": 18,
    "start_time": "2023-08-30T00:05:29.502Z"
   },
   {
    "duration": 31,
    "start_time": "2023-08-30T00:05:29.522Z"
   },
   {
    "duration": 207,
    "start_time": "2023-08-30T00:05:29.555Z"
   },
   {
    "duration": 7,
    "start_time": "2023-08-30T00:05:29.765Z"
   },
   {
    "duration": 33,
    "start_time": "2023-08-30T00:05:29.774Z"
   },
   {
    "duration": 68,
    "start_time": "2023-08-30T00:05:29.808Z"
   },
   {
    "duration": 7,
    "start_time": "2023-08-30T00:05:29.877Z"
   },
   {
    "duration": 24,
    "start_time": "2023-08-30T00:05:29.886Z"
   },
   {
    "duration": 29,
    "start_time": "2023-08-30T00:05:29.912Z"
   },
   {
    "duration": 8,
    "start_time": "2023-08-30T00:05:29.955Z"
   },
   {
    "duration": 18,
    "start_time": "2023-08-30T00:05:29.965Z"
   },
   {
    "duration": 105,
    "start_time": "2023-08-30T00:05:29.985Z"
   },
   {
    "duration": 79,
    "start_time": "2023-08-30T00:05:30.092Z"
   },
   {
    "duration": 42,
    "start_time": "2023-08-30T00:05:30.173Z"
   },
   {
    "duration": 30,
    "start_time": "2023-08-30T00:05:30.217Z"
   },
   {
    "duration": 25,
    "start_time": "2023-08-30T00:05:30.249Z"
   },
   {
    "duration": 89,
    "start_time": "2023-08-30T00:05:30.276Z"
   },
   {
    "duration": 19,
    "start_time": "2023-08-30T00:05:30.367Z"
   },
   {
    "duration": 44,
    "start_time": "2023-08-30T00:05:30.389Z"
   },
   {
    "duration": 243,
    "start_time": "2023-08-30T00:05:30.435Z"
   },
   {
    "duration": 124,
    "start_time": "2023-08-30T00:05:30.679Z"
   },
   {
    "duration": 429,
    "start_time": "2023-08-30T00:05:30.805Z"
   },
   {
    "duration": 194,
    "start_time": "2023-08-30T00:05:31.257Z"
   },
   {
    "duration": 64,
    "start_time": "2023-08-30T00:05:31.453Z"
   },
   {
    "duration": 58,
    "start_time": "2023-08-30T00:05:31.519Z"
   },
   {
    "duration": 82,
    "start_time": "2023-08-30T00:05:31.579Z"
   },
   {
    "duration": 24,
    "start_time": "2023-08-30T00:05:31.663Z"
   },
   {
    "duration": 50,
    "start_time": "2023-08-30T00:05:31.689Z"
   },
   {
    "duration": 108,
    "start_time": "2023-08-30T00:05:31.741Z"
   },
   {
    "duration": 59,
    "start_time": "2023-08-30T00:05:31.851Z"
   },
   {
    "duration": 12,
    "start_time": "2023-08-30T00:05:31.912Z"
   },
   {
    "duration": 53,
    "start_time": "2023-08-30T00:05:31.927Z"
   },
   {
    "duration": 107,
    "start_time": "2023-08-30T00:05:31.982Z"
   },
   {
    "duration": 598,
    "start_time": "2023-08-30T00:05:32.091Z"
   },
   {
    "duration": 46,
    "start_time": "2023-08-30T00:05:32.691Z"
   },
   {
    "duration": 29,
    "start_time": "2023-08-30T00:05:32.741Z"
   },
   {
    "duration": 13,
    "start_time": "2023-08-30T00:05:32.773Z"
   },
   {
    "duration": 76,
    "start_time": "2023-08-30T00:05:32.787Z"
   },
   {
    "duration": 12,
    "start_time": "2023-08-30T00:05:32.865Z"
   },
   {
    "duration": 33,
    "start_time": "2023-08-30T00:05:32.878Z"
   },
   {
    "duration": 29,
    "start_time": "2023-08-30T00:05:32.913Z"
   },
   {
    "duration": 15,
    "start_time": "2023-08-30T00:05:32.948Z"
   },
   {
    "duration": 348,
    "start_time": "2023-08-30T00:05:32.965Z"
   },
   {
    "duration": 23,
    "start_time": "2023-08-30T00:05:33.315Z"
   },
   {
    "duration": 16,
    "start_time": "2023-08-30T00:05:33.341Z"
   },
   {
    "duration": 28,
    "start_time": "2023-08-30T00:05:33.359Z"
   },
   {
    "duration": 43,
    "start_time": "2023-08-30T00:05:33.392Z"
   },
   {
    "duration": 13,
    "start_time": "2023-08-30T00:05:33.438Z"
   },
   {
    "duration": 380,
    "start_time": "2023-08-30T00:05:33.460Z"
   },
   {
    "duration": 24,
    "start_time": "2023-08-30T00:05:33.845Z"
   },
   {
    "duration": 19,
    "start_time": "2023-08-30T00:05:33.870Z"
   },
   {
    "duration": 30,
    "start_time": "2023-08-30T00:05:33.891Z"
   },
   {
    "duration": 782,
    "start_time": "2023-08-30T00:05:33.923Z"
   },
   {
    "duration": 46,
    "start_time": "2023-08-30T00:05:34.708Z"
   },
   {
    "duration": 55,
    "start_time": "2023-08-30T00:05:34.757Z"
   },
   {
    "duration": 100,
    "start_time": "2023-08-30T00:05:34.815Z"
   },
   {
    "duration": 15,
    "start_time": "2023-08-30T00:05:34.917Z"
   },
   {
    "duration": 24,
    "start_time": "2023-08-30T00:05:34.934Z"
   },
   {
    "duration": 37,
    "start_time": "2023-08-30T00:05:34.960Z"
   },
   {
    "duration": 19,
    "start_time": "2023-08-30T00:05:35.000Z"
   },
   {
    "duration": 165,
    "start_time": "2023-08-30T00:05:35.022Z"
   },
   {
    "duration": 1551,
    "start_time": "2023-08-30T00:06:07.084Z"
   },
   {
    "duration": 1292,
    "start_time": "2023-08-30T00:06:08.658Z"
   },
   {
    "duration": 1517,
    "start_time": "2023-08-30T05:28:34.008Z"
   },
   {
    "duration": 1050,
    "start_time": "2023-08-30T05:28:35.527Z"
   },
   {
    "duration": 138,
    "start_time": "2023-08-30T05:28:36.578Z"
   },
   {
    "duration": 35,
    "start_time": "2023-08-30T05:28:36.723Z"
   },
   {
    "duration": 69,
    "start_time": "2023-08-30T05:28:36.760Z"
   },
   {
    "duration": 43,
    "start_time": "2023-08-30T05:28:36.831Z"
   },
   {
    "duration": 79,
    "start_time": "2023-08-30T05:28:36.875Z"
   },
   {
    "duration": 5,
    "start_time": "2023-08-30T05:28:36.955Z"
   },
   {
    "duration": 11,
    "start_time": "2023-08-30T05:28:36.962Z"
   },
   {
    "duration": 4,
    "start_time": "2023-08-30T05:28:36.976Z"
   },
   {
    "duration": 14,
    "start_time": "2023-08-30T05:28:36.982Z"
   },
   {
    "duration": 20,
    "start_time": "2023-08-30T05:28:36.998Z"
   },
   {
    "duration": 20,
    "start_time": "2023-08-30T05:28:37.025Z"
   },
   {
    "duration": 16,
    "start_time": "2023-08-30T05:28:37.046Z"
   },
   {
    "duration": 175,
    "start_time": "2023-08-30T05:28:37.064Z"
   },
   {
    "duration": 21,
    "start_time": "2023-08-30T05:28:37.241Z"
   },
   {
    "duration": 12,
    "start_time": "2023-08-30T05:28:37.263Z"
   },
   {
    "duration": 29,
    "start_time": "2023-08-30T05:28:37.277Z"
   },
   {
    "duration": 16,
    "start_time": "2023-08-30T05:28:37.313Z"
   },
   {
    "duration": 21,
    "start_time": "2023-08-30T05:28:37.331Z"
   },
   {
    "duration": 17,
    "start_time": "2023-08-30T05:28:37.354Z"
   },
   {
    "duration": 23,
    "start_time": "2023-08-30T05:28:37.373Z"
   },
   {
    "duration": 78,
    "start_time": "2023-08-30T05:28:37.398Z"
   },
   {
    "duration": 8,
    "start_time": "2023-08-30T05:28:37.478Z"
   },
   {
    "duration": 24,
    "start_time": "2023-08-30T05:28:37.487Z"
   },
   {
    "duration": 19,
    "start_time": "2023-08-30T05:28:37.514Z"
   },
   {
    "duration": 62,
    "start_time": "2023-08-30T05:28:37.535Z"
   },
   {
    "duration": 27,
    "start_time": "2023-08-30T05:28:37.601Z"
   },
   {
    "duration": 17,
    "start_time": "2023-08-30T05:28:37.630Z"
   },
   {
    "duration": 11,
    "start_time": "2023-08-30T05:28:37.650Z"
   },
   {
    "duration": 323,
    "start_time": "2023-08-30T05:28:37.662Z"
   },
   {
    "duration": 6,
    "start_time": "2023-08-30T05:28:37.987Z"
   },
   {
    "duration": 53,
    "start_time": "2023-08-30T05:28:37.994Z"
   },
   {
    "duration": 9,
    "start_time": "2023-08-30T05:28:38.049Z"
   },
   {
    "duration": 156,
    "start_time": "2023-08-30T05:28:38.060Z"
   },
   {
    "duration": 14,
    "start_time": "2023-08-30T05:28:38.218Z"
   },
   {
    "duration": 25,
    "start_time": "2023-08-30T05:28:38.234Z"
   },
   {
    "duration": 168,
    "start_time": "2023-08-30T05:28:38.261Z"
   },
   {
    "duration": 5,
    "start_time": "2023-08-30T05:28:38.433Z"
   },
   {
    "duration": 17,
    "start_time": "2023-08-30T05:28:38.440Z"
   },
   {
    "duration": 30,
    "start_time": "2023-08-30T05:28:38.459Z"
   },
   {
    "duration": 22,
    "start_time": "2023-08-30T05:28:38.490Z"
   },
   {
    "duration": 42,
    "start_time": "2023-08-30T05:28:38.513Z"
   },
   {
    "duration": 10,
    "start_time": "2023-08-30T05:28:38.557Z"
   },
   {
    "duration": 7,
    "start_time": "2023-08-30T05:28:38.569Z"
   },
   {
    "duration": 13,
    "start_time": "2023-08-30T05:28:38.578Z"
   },
   {
    "duration": 15,
    "start_time": "2023-08-30T05:28:38.593Z"
   },
   {
    "duration": 32,
    "start_time": "2023-08-30T05:28:38.610Z"
   },
   {
    "duration": 28,
    "start_time": "2023-08-30T05:28:38.644Z"
   },
   {
    "duration": 118,
    "start_time": "2023-08-30T05:28:38.674Z"
   },
   {
    "duration": 42,
    "start_time": "2023-08-30T05:28:38.793Z"
   },
   {
    "duration": 62,
    "start_time": "2023-08-30T05:28:38.837Z"
   },
   {
    "duration": 34,
    "start_time": "2023-08-30T05:28:38.901Z"
   },
   {
    "duration": 29,
    "start_time": "2023-08-30T05:28:38.937Z"
   },
   {
    "duration": 166,
    "start_time": "2023-08-30T05:28:38.968Z"
   },
   {
    "duration": 116,
    "start_time": "2023-08-30T05:28:39.136Z"
   },
   {
    "duration": 342,
    "start_time": "2023-08-30T05:28:39.254Z"
   },
   {
    "duration": 161,
    "start_time": "2023-08-30T05:28:39.604Z"
   },
   {
    "duration": 43,
    "start_time": "2023-08-30T05:28:39.766Z"
   },
   {
    "duration": 25,
    "start_time": "2023-08-30T05:28:39.811Z"
   },
   {
    "duration": 86,
    "start_time": "2023-08-30T05:28:39.839Z"
   },
   {
    "duration": 86,
    "start_time": "2023-08-30T05:28:39.928Z"
   },
   {
    "duration": 20,
    "start_time": "2023-08-30T05:28:40.016Z"
   },
   {
    "duration": 60,
    "start_time": "2023-08-30T05:28:40.038Z"
   },
   {
    "duration": 59,
    "start_time": "2023-08-30T05:28:40.100Z"
   },
   {
    "duration": 93,
    "start_time": "2023-08-30T05:28:40.161Z"
   },
   {
    "duration": 26,
    "start_time": "2023-08-30T05:28:40.257Z"
   },
   {
    "duration": 13,
    "start_time": "2023-08-30T05:28:40.285Z"
   },
   {
    "duration": 142,
    "start_time": "2023-08-30T05:28:40.301Z"
   },
   {
    "duration": 9,
    "start_time": "2023-08-30T05:28:40.445Z"
   },
   {
    "duration": 28,
    "start_time": "2023-08-30T05:28:40.455Z"
   },
   {
    "duration": 36,
    "start_time": "2023-08-30T05:28:40.485Z"
   },
   {
    "duration": 20,
    "start_time": "2023-08-30T05:28:40.523Z"
   },
   {
    "duration": 13,
    "start_time": "2023-08-30T05:28:40.546Z"
   },
   {
    "duration": 14,
    "start_time": "2023-08-30T05:28:40.561Z"
   },
   {
    "duration": 19,
    "start_time": "2023-08-30T05:28:40.577Z"
   },
   {
    "duration": 18,
    "start_time": "2023-08-30T05:28:40.597Z"
   },
   {
    "duration": 305,
    "start_time": "2023-08-30T05:28:40.620Z"
   },
   {
    "duration": 16,
    "start_time": "2023-08-30T05:28:40.928Z"
   },
   {
    "duration": 13,
    "start_time": "2023-08-30T05:28:40.945Z"
   },
   {
    "duration": 45,
    "start_time": "2023-08-30T05:28:40.960Z"
   },
   {
    "duration": 22,
    "start_time": "2023-08-30T05:28:41.013Z"
   },
   {
    "duration": 7,
    "start_time": "2023-08-30T05:28:41.037Z"
   },
   {
    "duration": 271,
    "start_time": "2023-08-30T05:28:41.046Z"
   },
   {
    "duration": 16,
    "start_time": "2023-08-30T05:28:41.322Z"
   },
   {
    "duration": 12,
    "start_time": "2023-08-30T05:28:41.340Z"
   },
   {
    "duration": 36,
    "start_time": "2023-08-30T05:28:41.353Z"
   },
   {
    "duration": 915,
    "start_time": "2023-08-30T05:28:41.390Z"
   },
   {
    "duration": 17,
    "start_time": "2023-08-30T05:28:42.307Z"
   },
   {
    "duration": 13,
    "start_time": "2023-08-30T05:28:42.331Z"
   },
   {
    "duration": 78,
    "start_time": "2023-08-30T05:28:42.346Z"
   },
   {
    "duration": 8,
    "start_time": "2023-08-30T05:28:42.427Z"
   },
   {
    "duration": 10,
    "start_time": "2023-08-30T05:28:42.437Z"
   },
   {
    "duration": 27,
    "start_time": "2023-08-30T05:28:42.449Z"
   },
   {
    "duration": 32,
    "start_time": "2023-08-30T05:28:42.478Z"
   },
   {
    "duration": 10,
    "start_time": "2023-08-30T05:33:27.598Z"
   },
   {
    "duration": 25,
    "start_time": "2023-08-30T05:33:33.297Z"
   },
   {
    "duration": 8,
    "start_time": "2023-08-30T05:36:51.055Z"
   },
   {
    "duration": 5,
    "start_time": "2023-08-30T05:36:56.266Z"
   },
   {
    "duration": 12,
    "start_time": "2023-08-30T05:45:48.005Z"
   },
   {
    "duration": 4,
    "start_time": "2023-08-30T05:45:54.886Z"
   },
   {
    "duration": 9,
    "start_time": "2023-08-30T05:46:02.653Z"
   },
   {
    "duration": 9,
    "start_time": "2023-08-30T05:46:08.270Z"
   },
   {
    "duration": 53,
    "start_time": "2023-08-30T14:24:32.610Z"
   },
   {
    "duration": 1389,
    "start_time": "2023-08-30T14:24:36.680Z"
   },
   {
    "duration": 929,
    "start_time": "2023-08-30T14:24:46.120Z"
   },
   {
    "duration": 70,
    "start_time": "2023-08-30T14:32:56.706Z"
   },
   {
    "duration": 6,
    "start_time": "2023-08-30T14:33:00.849Z"
   },
   {
    "duration": 925,
    "start_time": "2023-08-30T14:33:00.865Z"
   },
   {
    "duration": 98,
    "start_time": "2023-08-30T14:33:01.792Z"
   },
   {
    "duration": 31,
    "start_time": "2023-08-30T14:33:01.892Z"
   },
   {
    "duration": 61,
    "start_time": "2023-08-30T14:33:01.925Z"
   },
   {
    "duration": 50,
    "start_time": "2023-08-30T14:33:01.989Z"
   },
   {
    "duration": 131,
    "start_time": "2023-08-30T14:33:02.040Z"
   },
   {
    "duration": 6,
    "start_time": "2023-08-30T14:33:02.173Z"
   },
   {
    "duration": 9,
    "start_time": "2023-08-30T14:33:02.181Z"
   },
   {
    "duration": 26,
    "start_time": "2023-08-30T14:33:02.193Z"
   },
   {
    "duration": 39,
    "start_time": "2023-08-30T14:33:02.221Z"
   },
   {
    "duration": 34,
    "start_time": "2023-08-30T14:33:02.271Z"
   },
   {
    "duration": 23,
    "start_time": "2023-08-30T14:33:02.307Z"
   },
   {
    "duration": 26,
    "start_time": "2023-08-30T14:33:02.332Z"
   },
   {
    "duration": 201,
    "start_time": "2023-08-30T14:33:02.361Z"
   },
   {
    "duration": 24,
    "start_time": "2023-08-30T14:33:02.565Z"
   },
   {
    "duration": 9,
    "start_time": "2023-08-30T14:33:02.591Z"
   },
   {
    "duration": 13,
    "start_time": "2023-08-30T14:33:02.604Z"
   },
   {
    "duration": 23,
    "start_time": "2023-08-30T14:33:02.618Z"
   },
   {
    "duration": 16,
    "start_time": "2023-08-30T14:33:02.643Z"
   },
   {
    "duration": 18,
    "start_time": "2023-08-30T14:33:02.660Z"
   },
   {
    "duration": 17,
    "start_time": "2023-08-30T14:33:02.680Z"
   },
   {
    "duration": 78,
    "start_time": "2023-08-30T14:33:02.699Z"
   },
   {
    "duration": 7,
    "start_time": "2023-08-30T14:33:02.779Z"
   },
   {
    "duration": 9,
    "start_time": "2023-08-30T14:33:02.788Z"
   },
   {
    "duration": 10,
    "start_time": "2023-08-30T14:33:02.798Z"
   },
   {
    "duration": 103,
    "start_time": "2023-08-30T14:33:02.809Z"
   },
   {
    "duration": 6,
    "start_time": "2023-08-30T14:33:02.913Z"
   },
   {
    "duration": 37,
    "start_time": "2023-08-30T14:33:02.920Z"
   },
   {
    "duration": 17,
    "start_time": "2023-08-30T14:33:02.958Z"
   },
   {
    "duration": 247,
    "start_time": "2023-08-30T14:33:02.977Z"
   },
   {
    "duration": 5,
    "start_time": "2023-08-30T14:33:03.226Z"
   },
   {
    "duration": 58,
    "start_time": "2023-08-30T14:33:03.233Z"
   },
   {
    "duration": 10,
    "start_time": "2023-08-30T14:33:03.293Z"
   },
   {
    "duration": 124,
    "start_time": "2023-08-30T14:33:03.305Z"
   },
   {
    "duration": 8,
    "start_time": "2023-08-30T14:33:03.431Z"
   },
   {
    "duration": 42,
    "start_time": "2023-08-30T14:33:03.440Z"
   },
   {
    "duration": 115,
    "start_time": "2023-08-30T14:33:03.484Z"
   },
   {
    "duration": 5,
    "start_time": "2023-08-30T14:33:03.601Z"
   },
   {
    "duration": 11,
    "start_time": "2023-08-30T14:33:03.607Z"
   },
   {
    "duration": 60,
    "start_time": "2023-08-30T14:33:03.619Z"
   },
   {
    "duration": 9,
    "start_time": "2023-08-30T14:33:03.684Z"
   },
   {
    "duration": 15,
    "start_time": "2023-08-30T14:33:03.695Z"
   },
   {
    "duration": 11,
    "start_time": "2023-08-30T14:33:03.711Z"
   },
   {
    "duration": 6,
    "start_time": "2023-08-30T14:33:03.723Z"
   },
   {
    "duration": 8,
    "start_time": "2023-08-30T14:33:03.730Z"
   },
   {
    "duration": 22,
    "start_time": "2023-08-30T14:33:03.751Z"
   },
   {
    "duration": 10,
    "start_time": "2023-08-30T14:33:03.776Z"
   },
   {
    "duration": 14,
    "start_time": "2023-08-30T14:33:03.788Z"
   },
   {
    "duration": 6,
    "start_time": "2023-08-30T14:33:03.804Z"
   },
   {
    "duration": 9,
    "start_time": "2023-08-30T14:33:03.812Z"
   },
   {
    "duration": 61,
    "start_time": "2023-08-30T14:33:03.822Z"
   },
   {
    "duration": 20,
    "start_time": "2023-08-30T14:33:03.885Z"
   },
   {
    "duration": 16,
    "start_time": "2023-08-30T14:33:14.203Z"
   },
   {
    "duration": 24,
    "start_time": "2023-08-30T14:33:14.884Z"
   },
   {
    "duration": 14,
    "start_time": "2023-08-30T14:33:32.532Z"
   },
   {
    "duration": 13,
    "start_time": "2023-08-30T14:34:36.246Z"
   },
   {
    "duration": 29,
    "start_time": "2023-08-30T14:36:25.349Z"
   },
   {
    "duration": 19,
    "start_time": "2023-08-30T14:36:26.274Z"
   },
   {
    "duration": 17,
    "start_time": "2023-08-30T14:38:18.569Z"
   },
   {
    "duration": 17,
    "start_time": "2023-08-30T14:42:52.617Z"
   },
   {
    "duration": 14,
    "start_time": "2023-08-30T14:42:53.701Z"
   },
   {
    "duration": 9,
    "start_time": "2023-08-30T14:44:49.987Z"
   },
   {
    "duration": 10,
    "start_time": "2023-08-30T14:44:59.874Z"
   },
   {
    "duration": 4,
    "start_time": "2023-08-30T14:45:04.798Z"
   },
   {
    "duration": 999,
    "start_time": "2023-08-30T14:45:04.804Z"
   },
   {
    "duration": 94,
    "start_time": "2023-08-30T14:45:05.805Z"
   },
   {
    "duration": 30,
    "start_time": "2023-08-30T14:45:05.900Z"
   },
   {
    "duration": 70,
    "start_time": "2023-08-30T14:45:05.931Z"
   },
   {
    "duration": 77,
    "start_time": "2023-08-30T14:45:06.002Z"
   },
   {
    "duration": 62,
    "start_time": "2023-08-30T14:45:06.081Z"
   },
   {
    "duration": 5,
    "start_time": "2023-08-30T14:45:06.145Z"
   },
   {
    "duration": 33,
    "start_time": "2023-08-30T14:45:06.154Z"
   },
   {
    "duration": 16,
    "start_time": "2023-08-30T14:45:06.192Z"
   },
   {
    "duration": 54,
    "start_time": "2023-08-30T14:45:06.212Z"
   },
   {
    "duration": 21,
    "start_time": "2023-08-30T14:45:06.270Z"
   },
   {
    "duration": 7,
    "start_time": "2023-08-30T14:45:06.295Z"
   },
   {
    "duration": 20,
    "start_time": "2023-08-30T14:45:06.304Z"
   },
   {
    "duration": 216,
    "start_time": "2023-08-30T14:45:06.326Z"
   },
   {
    "duration": 28,
    "start_time": "2023-08-30T14:45:06.544Z"
   },
   {
    "duration": 15,
    "start_time": "2023-08-30T14:45:06.574Z"
   },
   {
    "duration": 18,
    "start_time": "2023-08-30T14:45:06.591Z"
   },
   {
    "duration": 19,
    "start_time": "2023-08-30T14:45:06.610Z"
   },
   {
    "duration": 18,
    "start_time": "2023-08-30T14:45:06.630Z"
   },
   {
    "duration": 28,
    "start_time": "2023-08-30T14:45:06.653Z"
   },
   {
    "duration": 32,
    "start_time": "2023-08-30T14:45:06.683Z"
   },
   {
    "duration": 86,
    "start_time": "2023-08-30T14:45:06.716Z"
   },
   {
    "duration": 6,
    "start_time": "2023-08-30T14:45:06.804Z"
   },
   {
    "duration": 16,
    "start_time": "2023-08-30T14:45:06.812Z"
   },
   {
    "duration": 17,
    "start_time": "2023-08-30T14:45:06.829Z"
   },
   {
    "duration": 79,
    "start_time": "2023-08-30T14:45:06.848Z"
   },
   {
    "duration": 5,
    "start_time": "2023-08-30T14:45:06.928Z"
   },
   {
    "duration": 30,
    "start_time": "2023-08-30T14:45:06.936Z"
   },
   {
    "duration": 22,
    "start_time": "2023-08-30T14:45:06.969Z"
   },
   {
    "duration": 241,
    "start_time": "2023-08-30T14:45:06.992Z"
   },
   {
    "duration": 14,
    "start_time": "2023-08-30T14:45:07.235Z"
   },
   {
    "duration": 37,
    "start_time": "2023-08-30T14:45:07.251Z"
   },
   {
    "duration": 8,
    "start_time": "2023-08-30T14:45:07.290Z"
   },
   {
    "duration": 128,
    "start_time": "2023-08-30T14:45:07.299Z"
   },
   {
    "duration": 7,
    "start_time": "2023-08-30T14:45:07.429Z"
   },
   {
    "duration": 39,
    "start_time": "2023-08-30T14:45:07.437Z"
   },
   {
    "duration": 119,
    "start_time": "2023-08-30T14:45:07.478Z"
   },
   {
    "duration": 4,
    "start_time": "2023-08-30T14:45:07.599Z"
   },
   {
    "duration": 21,
    "start_time": "2023-08-30T14:45:07.605Z"
   },
   {
    "duration": 48,
    "start_time": "2023-08-30T14:45:07.628Z"
   },
   {
    "duration": 7,
    "start_time": "2023-08-30T14:45:07.678Z"
   },
   {
    "duration": 13,
    "start_time": "2023-08-30T14:45:07.687Z"
   },
   {
    "duration": 15,
    "start_time": "2023-08-30T14:45:07.702Z"
   },
   {
    "duration": 15,
    "start_time": "2023-08-30T14:45:07.718Z"
   },
   {
    "duration": 43,
    "start_time": "2023-08-30T14:45:07.735Z"
   },
   {
    "duration": 14,
    "start_time": "2023-08-30T14:45:07.780Z"
   },
   {
    "duration": 11,
    "start_time": "2023-08-30T14:45:07.797Z"
   },
   {
    "duration": 14,
    "start_time": "2023-08-30T14:45:07.809Z"
   },
   {
    "duration": 16,
    "start_time": "2023-08-30T14:45:07.824Z"
   },
   {
    "duration": 24,
    "start_time": "2023-08-30T14:45:07.841Z"
   },
   {
    "duration": 48,
    "start_time": "2023-08-30T14:45:07.867Z"
   },
   {
    "duration": 15,
    "start_time": "2023-08-30T14:45:07.916Z"
   },
   {
    "duration": 33,
    "start_time": "2023-08-30T14:45:07.933Z"
   },
   {
    "duration": 127,
    "start_time": "2023-08-30T14:45:07.970Z"
   },
   {
    "duration": 105,
    "start_time": "2023-08-30T14:45:08.099Z"
   },
   {
    "duration": 70,
    "start_time": "2023-08-30T14:45:11.050Z"
   },
   {
    "duration": 318,
    "start_time": "2023-08-30T14:45:12.294Z"
   },
   {
    "duration": 257,
    "start_time": "2023-08-30T14:45:38.566Z"
   },
   {
    "duration": 29,
    "start_time": "2023-08-30T14:45:51.898Z"
   },
   {
    "duration": 300,
    "start_time": "2023-08-30T14:45:59.101Z"
   },
   {
    "duration": 3,
    "start_time": "2023-08-30T14:52:23.934Z"
   },
   {
    "duration": 1027,
    "start_time": "2023-08-30T14:52:23.941Z"
   },
   {
    "duration": 84,
    "start_time": "2023-08-30T14:52:24.970Z"
   },
   {
    "duration": 35,
    "start_time": "2023-08-30T14:52:25.055Z"
   },
   {
    "duration": 35,
    "start_time": "2023-08-30T14:52:25.091Z"
   },
   {
    "duration": 35,
    "start_time": "2023-08-30T14:52:25.128Z"
   },
   {
    "duration": 45,
    "start_time": "2023-08-30T14:52:25.164Z"
   },
   {
    "duration": 5,
    "start_time": "2023-08-30T14:52:25.211Z"
   },
   {
    "duration": 8,
    "start_time": "2023-08-30T14:52:25.218Z"
   },
   {
    "duration": 4,
    "start_time": "2023-08-30T14:52:25.228Z"
   },
   {
    "duration": 5,
    "start_time": "2023-08-30T14:52:25.234Z"
   },
   {
    "duration": 14,
    "start_time": "2023-08-30T14:52:25.240Z"
   },
   {
    "duration": 6,
    "start_time": "2023-08-30T14:52:25.260Z"
   },
   {
    "duration": 4,
    "start_time": "2023-08-30T14:52:25.267Z"
   },
   {
    "duration": 173,
    "start_time": "2023-08-30T14:52:25.274Z"
   },
   {
    "duration": 30,
    "start_time": "2023-08-30T14:52:25.448Z"
   },
   {
    "duration": 7,
    "start_time": "2023-08-30T14:52:25.479Z"
   },
   {
    "duration": 8,
    "start_time": "2023-08-30T14:52:25.488Z"
   },
   {
    "duration": 10,
    "start_time": "2023-08-30T14:52:25.497Z"
   },
   {
    "duration": 6,
    "start_time": "2023-08-30T14:52:25.509Z"
   },
   {
    "duration": 6,
    "start_time": "2023-08-30T14:52:25.516Z"
   },
   {
    "duration": 13,
    "start_time": "2023-08-30T14:52:25.553Z"
   },
   {
    "duration": 67,
    "start_time": "2023-08-30T14:52:25.568Z"
   },
   {
    "duration": 7,
    "start_time": "2023-08-30T14:52:25.636Z"
   },
   {
    "duration": 4,
    "start_time": "2023-08-30T14:52:25.645Z"
   },
   {
    "duration": 11,
    "start_time": "2023-08-30T14:52:25.655Z"
   },
   {
    "duration": 57,
    "start_time": "2023-08-30T14:52:25.667Z"
   },
   {
    "duration": 5,
    "start_time": "2023-08-30T14:52:25.725Z"
   },
   {
    "duration": 34,
    "start_time": "2023-08-30T14:52:25.732Z"
   },
   {
    "duration": 8,
    "start_time": "2023-08-30T14:52:25.768Z"
   },
   {
    "duration": 248,
    "start_time": "2023-08-30T14:52:25.778Z"
   },
   {
    "duration": 6,
    "start_time": "2023-08-30T14:52:26.029Z"
   },
   {
    "duration": 65,
    "start_time": "2023-08-30T14:52:26.037Z"
   },
   {
    "duration": 11,
    "start_time": "2023-08-30T14:52:26.104Z"
   },
   {
    "duration": 168,
    "start_time": "2023-08-30T14:52:26.117Z"
   },
   {
    "duration": 9,
    "start_time": "2023-08-30T14:52:26.287Z"
   },
   {
    "duration": 22,
    "start_time": "2023-08-30T14:52:26.298Z"
   },
   {
    "duration": 150,
    "start_time": "2023-08-30T14:52:26.321Z"
   },
   {
    "duration": 5,
    "start_time": "2023-08-30T14:52:26.472Z"
   },
   {
    "duration": 17,
    "start_time": "2023-08-30T14:52:26.478Z"
   },
   {
    "duration": 43,
    "start_time": "2023-08-30T14:52:26.496Z"
   },
   {
    "duration": 6,
    "start_time": "2023-08-30T14:52:26.542Z"
   },
   {
    "duration": 8,
    "start_time": "2023-08-30T14:52:26.557Z"
   },
   {
    "duration": 12,
    "start_time": "2023-08-30T14:52:26.567Z"
   },
   {
    "duration": 17,
    "start_time": "2023-08-30T14:52:26.580Z"
   },
   {
    "duration": 11,
    "start_time": "2023-08-30T14:52:26.599Z"
   },
   {
    "duration": 9,
    "start_time": "2023-08-30T14:52:26.611Z"
   },
   {
    "duration": 13,
    "start_time": "2023-08-30T14:52:26.621Z"
   },
   {
    "duration": 8,
    "start_time": "2023-08-30T14:52:26.636Z"
   },
   {
    "duration": 11,
    "start_time": "2023-08-30T14:52:26.646Z"
   },
   {
    "duration": 19,
    "start_time": "2023-08-30T14:52:26.658Z"
   },
   {
    "duration": 51,
    "start_time": "2023-08-30T14:52:26.678Z"
   },
   {
    "duration": 35,
    "start_time": "2023-08-30T14:52:26.730Z"
   },
   {
    "duration": 14,
    "start_time": "2023-08-30T14:52:26.768Z"
   },
   {
    "duration": 126,
    "start_time": "2023-08-30T14:52:26.784Z"
   },
   {
    "duration": 102,
    "start_time": "2023-08-30T14:52:26.912Z"
   },
   {
    "duration": 333,
    "start_time": "2023-08-30T14:52:27.016Z"
   },
   {
    "duration": 126,
    "start_time": "2023-08-30T14:52:27.351Z"
   },
   {
    "duration": 25,
    "start_time": "2023-08-30T14:52:27.479Z"
   },
   {
    "duration": 19,
    "start_time": "2023-08-30T14:52:27.506Z"
   },
   {
    "duration": 39,
    "start_time": "2023-08-30T14:52:27.527Z"
   },
   {
    "duration": 11,
    "start_time": "2023-08-30T14:52:27.568Z"
   },
   {
    "duration": 16,
    "start_time": "2023-08-30T14:52:27.581Z"
   },
   {
    "duration": 26,
    "start_time": "2023-08-30T14:52:27.599Z"
   },
   {
    "duration": 49,
    "start_time": "2023-08-30T14:52:27.626Z"
   },
   {
    "duration": 23,
    "start_time": "2023-08-30T14:52:27.677Z"
   },
   {
    "duration": 19,
    "start_time": "2023-08-30T14:52:27.702Z"
   },
   {
    "duration": 10,
    "start_time": "2023-08-30T14:52:27.722Z"
   },
   {
    "duration": 116,
    "start_time": "2023-08-30T14:52:27.734Z"
   },
   {
    "duration": 17,
    "start_time": "2023-08-30T14:52:27.852Z"
   },
   {
    "duration": 21,
    "start_time": "2023-08-30T14:52:27.870Z"
   },
   {
    "duration": 11,
    "start_time": "2023-08-30T14:52:27.892Z"
   },
   {
    "duration": 13,
    "start_time": "2023-08-30T14:52:27.904Z"
   },
   {
    "duration": 10,
    "start_time": "2023-08-30T14:52:27.918Z"
   },
   {
    "duration": 32,
    "start_time": "2023-08-30T14:52:27.929Z"
   },
   {
    "duration": 11,
    "start_time": "2023-08-30T14:52:27.964Z"
   },
   {
    "duration": 18,
    "start_time": "2023-08-30T14:52:27.976Z"
   },
   {
    "duration": 247,
    "start_time": "2023-08-30T14:52:27.995Z"
   },
   {
    "duration": 27,
    "start_time": "2023-08-30T14:52:28.244Z"
   },
   {
    "duration": 14,
    "start_time": "2023-08-30T14:52:28.273Z"
   },
   {
    "duration": 16,
    "start_time": "2023-08-30T14:52:43.365Z"
   },
   {
    "duration": 18,
    "start_time": "2023-08-30T14:52:50.491Z"
   },
   {
    "duration": 15,
    "start_time": "2023-08-30T14:52:52.185Z"
   },
   {
    "duration": 14,
    "start_time": "2023-08-30T14:53:03.021Z"
   },
   {
    "duration": 7,
    "start_time": "2023-08-30T14:53:04.969Z"
   },
   {
    "duration": 3,
    "start_time": "2023-08-30T14:56:20.093Z"
   },
   {
    "duration": 797,
    "start_time": "2023-08-30T14:56:20.100Z"
   },
   {
    "duration": 96,
    "start_time": "2023-08-30T14:56:20.899Z"
   },
   {
    "duration": 31,
    "start_time": "2023-08-30T14:56:20.997Z"
   },
   {
    "duration": 138,
    "start_time": "2023-08-30T14:56:21.030Z"
   },
   {
    "duration": 49,
    "start_time": "2023-08-30T14:56:21.169Z"
   },
   {
    "duration": 60,
    "start_time": "2023-08-30T14:56:21.220Z"
   },
   {
    "duration": 4,
    "start_time": "2023-08-30T14:56:21.281Z"
   },
   {
    "duration": 14,
    "start_time": "2023-08-30T14:56:21.287Z"
   },
   {
    "duration": 16,
    "start_time": "2023-08-30T14:56:21.303Z"
   },
   {
    "duration": 44,
    "start_time": "2023-08-30T14:56:21.321Z"
   },
   {
    "duration": 13,
    "start_time": "2023-08-30T14:56:21.367Z"
   },
   {
    "duration": 18,
    "start_time": "2023-08-30T14:56:21.381Z"
   },
   {
    "duration": 5,
    "start_time": "2023-08-30T14:56:21.400Z"
   },
   {
    "duration": 131,
    "start_time": "2023-08-30T14:56:21.407Z"
   },
   {
    "duration": 28,
    "start_time": "2023-08-30T14:56:21.539Z"
   },
   {
    "duration": 7,
    "start_time": "2023-08-30T14:56:21.569Z"
   },
   {
    "duration": 26,
    "start_time": "2023-08-30T14:56:21.577Z"
   },
   {
    "duration": 15,
    "start_time": "2023-08-30T14:56:21.605Z"
   },
   {
    "duration": 6,
    "start_time": "2023-08-30T14:56:21.622Z"
   },
   {
    "duration": 11,
    "start_time": "2023-08-30T14:56:21.629Z"
   },
   {
    "duration": 25,
    "start_time": "2023-08-30T14:56:21.641Z"
   },
   {
    "duration": 64,
    "start_time": "2023-08-30T14:56:21.668Z"
   },
   {
    "duration": 9,
    "start_time": "2023-08-30T14:56:21.734Z"
   },
   {
    "duration": 9,
    "start_time": "2023-08-30T14:56:21.744Z"
   },
   {
    "duration": 18,
    "start_time": "2023-08-30T14:56:21.755Z"
   },
   {
    "duration": 61,
    "start_time": "2023-08-30T14:56:21.775Z"
   },
   {
    "duration": 4,
    "start_time": "2023-08-30T14:56:21.838Z"
   },
   {
    "duration": 22,
    "start_time": "2023-08-30T14:56:21.846Z"
   },
   {
    "duration": 10,
    "start_time": "2023-08-30T14:56:21.870Z"
   },
   {
    "duration": 247,
    "start_time": "2023-08-30T14:56:21.881Z"
   },
   {
    "duration": 5,
    "start_time": "2023-08-30T14:56:22.130Z"
   },
   {
    "duration": 44,
    "start_time": "2023-08-30T14:56:22.137Z"
   },
   {
    "duration": 9,
    "start_time": "2023-08-30T14:56:22.183Z"
   },
   {
    "duration": 117,
    "start_time": "2023-08-30T14:56:22.194Z"
   },
   {
    "duration": 7,
    "start_time": "2023-08-30T14:56:22.312Z"
   },
   {
    "duration": 34,
    "start_time": "2023-08-30T14:56:22.320Z"
   },
   {
    "duration": 124,
    "start_time": "2023-08-30T14:56:22.358Z"
   },
   {
    "duration": 5,
    "start_time": "2023-08-30T14:56:22.484Z"
   },
   {
    "duration": 12,
    "start_time": "2023-08-30T14:56:22.491Z"
   },
   {
    "duration": 55,
    "start_time": "2023-08-30T14:56:22.505Z"
   },
   {
    "duration": 8,
    "start_time": "2023-08-30T14:56:22.562Z"
   },
   {
    "duration": 6,
    "start_time": "2023-08-30T14:56:22.571Z"
   },
   {
    "duration": 15,
    "start_time": "2023-08-30T14:56:22.578Z"
   },
   {
    "duration": 10,
    "start_time": "2023-08-30T14:56:22.595Z"
   },
   {
    "duration": 13,
    "start_time": "2023-08-30T14:56:22.606Z"
   },
   {
    "duration": 19,
    "start_time": "2023-08-30T14:56:22.620Z"
   },
   {
    "duration": 9,
    "start_time": "2023-08-30T14:56:22.640Z"
   },
   {
    "duration": 13,
    "start_time": "2023-08-30T14:56:22.655Z"
   },
   {
    "duration": 10,
    "start_time": "2023-08-30T14:56:22.670Z"
   },
   {
    "duration": 22,
    "start_time": "2023-08-30T14:56:22.681Z"
   },
   {
    "duration": 56,
    "start_time": "2023-08-30T14:56:22.704Z"
   },
   {
    "duration": 25,
    "start_time": "2023-08-30T14:56:22.765Z"
   },
   {
    "duration": 13,
    "start_time": "2023-08-30T14:56:22.792Z"
   },
   {
    "duration": 115,
    "start_time": "2023-08-30T14:56:22.807Z"
   },
   {
    "duration": 100,
    "start_time": "2023-08-30T14:56:22.924Z"
   },
   {
    "duration": 290,
    "start_time": "2023-08-30T14:56:23.026Z"
   },
   {
    "duration": 133,
    "start_time": "2023-08-30T14:56:23.318Z"
   },
   {
    "duration": 32,
    "start_time": "2023-08-30T14:56:23.454Z"
   },
   {
    "duration": 14,
    "start_time": "2023-08-30T14:56:23.488Z"
   },
   {
    "duration": 19,
    "start_time": "2023-08-30T14:56:23.503Z"
   },
   {
    "duration": 33,
    "start_time": "2023-08-30T14:56:23.523Z"
   },
   {
    "duration": 22,
    "start_time": "2023-08-30T14:56:23.563Z"
   },
   {
    "duration": 38,
    "start_time": "2023-08-30T14:56:23.587Z"
   },
   {
    "duration": 43,
    "start_time": "2023-08-30T14:56:23.626Z"
   },
   {
    "duration": 14,
    "start_time": "2023-08-30T14:56:23.670Z"
   },
   {
    "duration": 14,
    "start_time": "2023-08-30T14:56:23.686Z"
   },
   {
    "duration": 8,
    "start_time": "2023-08-30T14:56:23.702Z"
   },
   {
    "duration": 123,
    "start_time": "2023-08-30T14:56:23.711Z"
   },
   {
    "duration": 18,
    "start_time": "2023-08-30T14:56:23.836Z"
   },
   {
    "duration": 25,
    "start_time": "2023-08-30T14:56:23.864Z"
   },
   {
    "duration": 13,
    "start_time": "2023-08-30T14:56:23.890Z"
   },
   {
    "duration": 18,
    "start_time": "2023-08-30T14:56:23.905Z"
   },
   {
    "duration": 38,
    "start_time": "2023-08-30T14:56:23.925Z"
   },
   {
    "duration": 15,
    "start_time": "2023-08-30T14:56:23.965Z"
   },
   {
    "duration": 8,
    "start_time": "2023-08-30T14:56:23.982Z"
   },
   {
    "duration": 16,
    "start_time": "2023-08-30T14:56:23.992Z"
   },
   {
    "duration": 230,
    "start_time": "2023-08-30T14:56:24.009Z"
   },
   {
    "duration": 19,
    "start_time": "2023-08-30T14:56:24.241Z"
   },
   {
    "duration": 13,
    "start_time": "2023-08-30T14:56:24.261Z"
   },
   {
    "duration": 31,
    "start_time": "2023-08-30T14:56:30.533Z"
   },
   {
    "duration": 16,
    "start_time": "2023-08-30T14:56:52.616Z"
   },
   {
    "duration": 16,
    "start_time": "2023-08-30T14:57:08.519Z"
   },
   {
    "duration": 19,
    "start_time": "2023-08-30T14:57:28.961Z"
   },
   {
    "duration": 1488,
    "start_time": "2023-08-30T18:33:13.844Z"
   },
   {
    "duration": 1005,
    "start_time": "2023-08-30T18:33:15.335Z"
   },
   {
    "duration": 101,
    "start_time": "2023-08-30T18:33:16.342Z"
   },
   {
    "duration": 31,
    "start_time": "2023-08-30T18:33:16.445Z"
   },
   {
    "duration": 48,
    "start_time": "2023-08-30T18:33:16.478Z"
   },
   {
    "duration": 48,
    "start_time": "2023-08-30T18:33:16.528Z"
   },
   {
    "duration": 80,
    "start_time": "2023-08-30T18:33:16.578Z"
   },
   {
    "duration": 4,
    "start_time": "2023-08-30T18:33:16.660Z"
   },
   {
    "duration": 17,
    "start_time": "2023-08-30T18:33:16.666Z"
   },
   {
    "duration": 14,
    "start_time": "2023-08-30T18:33:16.686Z"
   },
   {
    "duration": 6,
    "start_time": "2023-08-30T18:33:16.701Z"
   },
   {
    "duration": 9,
    "start_time": "2023-08-30T18:33:16.709Z"
   },
   {
    "duration": 17,
    "start_time": "2023-08-30T18:33:16.720Z"
   },
   {
    "duration": 22,
    "start_time": "2023-08-30T18:33:16.738Z"
   },
   {
    "duration": 247,
    "start_time": "2023-08-30T18:33:16.762Z"
   },
   {
    "duration": 20,
    "start_time": "2023-08-30T18:33:17.010Z"
   },
   {
    "duration": 7,
    "start_time": "2023-08-30T18:33:17.032Z"
   },
   {
    "duration": 11,
    "start_time": "2023-08-30T18:33:17.042Z"
   },
   {
    "duration": 15,
    "start_time": "2023-08-30T18:33:17.055Z"
   },
   {
    "duration": 9,
    "start_time": "2023-08-30T18:33:17.072Z"
   },
   {
    "duration": 7,
    "start_time": "2023-08-30T18:33:17.101Z"
   },
   {
    "duration": 15,
    "start_time": "2023-08-30T18:33:17.109Z"
   },
   {
    "duration": 101,
    "start_time": "2023-08-30T18:33:17.126Z"
   },
   {
    "duration": 8,
    "start_time": "2023-08-30T18:33:17.229Z"
   },
   {
    "duration": 13,
    "start_time": "2023-08-30T18:33:17.238Z"
   },
   {
    "duration": 9,
    "start_time": "2023-08-30T18:33:17.253Z"
   },
   {
    "duration": 72,
    "start_time": "2023-08-30T18:33:17.264Z"
   },
   {
    "duration": 5,
    "start_time": "2023-08-30T18:33:17.341Z"
   },
   {
    "duration": 17,
    "start_time": "2023-08-30T18:33:17.347Z"
   },
   {
    "duration": 12,
    "start_time": "2023-08-30T18:33:17.366Z"
   },
   {
    "duration": 283,
    "start_time": "2023-08-30T18:33:17.380Z"
   },
   {
    "duration": 5,
    "start_time": "2023-08-30T18:33:17.664Z"
   },
   {
    "duration": 46,
    "start_time": "2023-08-30T18:33:17.671Z"
   },
   {
    "duration": 9,
    "start_time": "2023-08-30T18:33:17.718Z"
   },
   {
    "duration": 120,
    "start_time": "2023-08-30T18:33:17.729Z"
   },
   {
    "duration": 9,
    "start_time": "2023-08-30T18:33:17.850Z"
   },
   {
    "duration": 105,
    "start_time": "2023-08-30T18:33:17.861Z"
   },
   {
    "duration": 199,
    "start_time": "2023-08-30T18:33:17.968Z"
   },
   {
    "duration": 5,
    "start_time": "2023-08-30T18:33:18.169Z"
   },
   {
    "duration": 23,
    "start_time": "2023-08-30T18:33:18.176Z"
   },
   {
    "duration": 53,
    "start_time": "2023-08-30T18:33:18.201Z"
   },
   {
    "duration": 7,
    "start_time": "2023-08-30T18:33:18.256Z"
   },
   {
    "duration": 16,
    "start_time": "2023-08-30T18:33:18.264Z"
   },
   {
    "duration": 13,
    "start_time": "2023-08-30T18:33:18.282Z"
   },
   {
    "duration": 60,
    "start_time": "2023-08-30T18:33:18.296Z"
   },
   {
    "duration": 50,
    "start_time": "2023-08-30T18:33:18.358Z"
   },
   {
    "duration": 26,
    "start_time": "2023-08-30T18:33:18.410Z"
   },
   {
    "duration": 20,
    "start_time": "2023-08-30T18:33:18.438Z"
   },
   {
    "duration": 17,
    "start_time": "2023-08-30T18:33:18.460Z"
   },
   {
    "duration": 19,
    "start_time": "2023-08-30T18:33:18.479Z"
   },
   {
    "duration": 41,
    "start_time": "2023-08-30T18:33:18.500Z"
   },
   {
    "duration": 126,
    "start_time": "2023-08-30T18:33:18.543Z"
   },
   {
    "duration": 38,
    "start_time": "2023-08-30T18:33:18.671Z"
   },
   {
    "duration": 19,
    "start_time": "2023-08-30T18:33:18.711Z"
   },
   {
    "duration": 149,
    "start_time": "2023-08-30T18:33:18.731Z"
   },
   {
    "duration": 108,
    "start_time": "2023-08-30T18:33:18.882Z"
   },
   {
    "duration": 309,
    "start_time": "2023-08-30T18:33:18.992Z"
   },
   {
    "duration": 129,
    "start_time": "2023-08-30T18:33:19.303Z"
   },
   {
    "duration": 30,
    "start_time": "2023-08-30T18:33:19.433Z"
   },
   {
    "duration": 16,
    "start_time": "2023-08-30T18:33:19.465Z"
   },
   {
    "duration": 20,
    "start_time": "2023-08-30T18:33:19.501Z"
   },
   {
    "duration": 9,
    "start_time": "2023-08-30T18:33:19.522Z"
   },
   {
    "duration": 32,
    "start_time": "2023-08-30T18:33:19.533Z"
   },
   {
    "duration": 35,
    "start_time": "2023-08-30T18:33:19.567Z"
   },
   {
    "duration": 46,
    "start_time": "2023-08-30T18:33:19.604Z"
   },
   {
    "duration": 64,
    "start_time": "2023-08-30T18:33:19.652Z"
   },
   {
    "duration": 19,
    "start_time": "2023-08-30T18:33:19.718Z"
   },
   {
    "duration": 10,
    "start_time": "2023-08-30T18:33:19.740Z"
   },
   {
    "duration": 133,
    "start_time": "2023-08-30T18:33:19.752Z"
   },
   {
    "duration": 14,
    "start_time": "2023-08-30T18:33:19.887Z"
   },
   {
    "duration": 19,
    "start_time": "2023-08-30T18:33:19.903Z"
   },
   {
    "duration": 12,
    "start_time": "2023-08-30T18:33:19.924Z"
   },
   {
    "duration": 15,
    "start_time": "2023-08-30T18:33:19.938Z"
   },
   {
    "duration": 12,
    "start_time": "2023-08-30T18:33:19.955Z"
   },
   {
    "duration": 42,
    "start_time": "2023-08-30T18:33:19.968Z"
   },
   {
    "duration": 8,
    "start_time": "2023-08-30T18:33:20.012Z"
   },
   {
    "duration": 15,
    "start_time": "2023-08-30T18:33:20.022Z"
   },
   {
    "duration": 287,
    "start_time": "2023-08-30T18:33:20.039Z"
   },
   {
    "duration": 15,
    "start_time": "2023-08-30T18:33:20.328Z"
   },
   {
    "duration": 46,
    "start_time": "2023-08-30T18:33:20.344Z"
   },
   {
    "duration": 19,
    "start_time": "2023-08-30T18:33:26.602Z"
   },
   {
    "duration": 4,
    "start_time": "2023-08-30T18:33:44.592Z"
   },
   {
    "duration": 1018,
    "start_time": "2023-08-30T18:33:44.598Z"
   },
   {
    "duration": 102,
    "start_time": "2023-08-30T18:33:45.618Z"
   },
   {
    "duration": 32,
    "start_time": "2023-08-30T18:33:45.723Z"
   },
   {
    "duration": 49,
    "start_time": "2023-08-30T18:33:45.757Z"
   },
   {
    "duration": 44,
    "start_time": "2023-08-30T18:33:45.807Z"
   },
   {
    "duration": 101,
    "start_time": "2023-08-30T18:33:45.853Z"
   },
   {
    "duration": 5,
    "start_time": "2023-08-30T18:33:45.957Z"
   },
   {
    "duration": 29,
    "start_time": "2023-08-30T18:33:45.966Z"
   },
   {
    "duration": 47,
    "start_time": "2023-08-30T18:33:45.997Z"
   },
   {
    "duration": 39,
    "start_time": "2023-08-30T18:33:46.047Z"
   },
   {
    "duration": 27,
    "start_time": "2023-08-30T18:33:46.088Z"
   },
   {
    "duration": 20,
    "start_time": "2023-08-30T18:33:46.117Z"
   },
   {
    "duration": 17,
    "start_time": "2023-08-30T18:33:46.139Z"
   },
   {
    "duration": 156,
    "start_time": "2023-08-30T18:33:46.157Z"
   },
   {
    "duration": 20,
    "start_time": "2023-08-30T18:33:46.315Z"
   },
   {
    "duration": 7,
    "start_time": "2023-08-30T18:33:46.337Z"
   },
   {
    "duration": 10,
    "start_time": "2023-08-30T18:33:46.346Z"
   },
   {
    "duration": 20,
    "start_time": "2023-08-30T18:33:46.358Z"
   },
   {
    "duration": 23,
    "start_time": "2023-08-30T18:33:46.380Z"
   },
   {
    "duration": 7,
    "start_time": "2023-08-30T18:33:46.404Z"
   },
   {
    "duration": 14,
    "start_time": "2023-08-30T18:33:46.412Z"
   },
   {
    "duration": 113,
    "start_time": "2023-08-30T18:33:46.428Z"
   },
   {
    "duration": 15,
    "start_time": "2023-08-30T18:33:46.546Z"
   },
   {
    "duration": 9,
    "start_time": "2023-08-30T18:33:46.563Z"
   },
   {
    "duration": 6,
    "start_time": "2023-08-30T18:33:46.574Z"
   },
   {
    "duration": 70,
    "start_time": "2023-08-30T18:33:46.582Z"
   },
   {
    "duration": 5,
    "start_time": "2023-08-30T18:33:46.654Z"
   },
   {
    "duration": 24,
    "start_time": "2023-08-30T18:33:46.661Z"
   },
   {
    "duration": 18,
    "start_time": "2023-08-30T18:33:46.686Z"
   },
   {
    "duration": 262,
    "start_time": "2023-08-30T18:33:46.706Z"
   },
   {
    "duration": 6,
    "start_time": "2023-08-30T18:33:46.970Z"
   },
   {
    "duration": 49,
    "start_time": "2023-08-30T18:33:46.977Z"
   },
   {
    "duration": 10,
    "start_time": "2023-08-30T18:33:47.027Z"
   },
   {
    "duration": 112,
    "start_time": "2023-08-30T18:33:47.038Z"
   },
   {
    "duration": 8,
    "start_time": "2023-08-30T18:33:47.152Z"
   },
   {
    "duration": 22,
    "start_time": "2023-08-30T18:33:47.161Z"
   },
   {
    "duration": 130,
    "start_time": "2023-08-30T18:33:47.201Z"
   },
   {
    "duration": 6,
    "start_time": "2023-08-30T18:33:47.333Z"
   },
   {
    "duration": 12,
    "start_time": "2023-08-30T18:33:47.341Z"
   },
   {
    "duration": 31,
    "start_time": "2023-08-30T18:33:47.354Z"
   },
   {
    "duration": 18,
    "start_time": "2023-08-30T18:33:47.388Z"
   },
   {
    "duration": 9,
    "start_time": "2023-08-30T18:33:47.408Z"
   },
   {
    "duration": 8,
    "start_time": "2023-08-30T18:33:47.419Z"
   },
   {
    "duration": 12,
    "start_time": "2023-08-30T18:33:47.429Z"
   },
   {
    "duration": 18,
    "start_time": "2023-08-30T18:33:47.442Z"
   },
   {
    "duration": 10,
    "start_time": "2023-08-30T18:33:47.462Z"
   },
   {
    "duration": 29,
    "start_time": "2023-08-30T18:33:47.474Z"
   },
   {
    "duration": 9,
    "start_time": "2023-08-30T18:33:47.505Z"
   },
   {
    "duration": 5,
    "start_time": "2023-08-30T18:33:47.516Z"
   },
   {
    "duration": 12,
    "start_time": "2023-08-30T18:33:47.523Z"
   },
   {
    "duration": 71,
    "start_time": "2023-08-30T18:33:47.537Z"
   },
   {
    "duration": 21,
    "start_time": "2023-08-30T18:33:47.610Z"
   },
   {
    "duration": 15,
    "start_time": "2023-08-30T18:33:47.633Z"
   },
   {
    "duration": 135,
    "start_time": "2023-08-30T18:33:47.650Z"
   },
   {
    "duration": 175,
    "start_time": "2023-08-30T18:33:47.787Z"
   },
   {
    "duration": 289,
    "start_time": "2023-08-30T18:33:47.964Z"
   },
   {
    "duration": 153,
    "start_time": "2023-08-30T18:33:48.255Z"
   },
   {
    "duration": 28,
    "start_time": "2023-08-30T18:33:48.410Z"
   },
   {
    "duration": 18,
    "start_time": "2023-08-30T18:33:48.440Z"
   },
   {
    "duration": 29,
    "start_time": "2023-08-30T18:33:48.460Z"
   },
   {
    "duration": 18,
    "start_time": "2023-08-30T18:33:48.491Z"
   },
   {
    "duration": 32,
    "start_time": "2023-08-30T18:33:48.510Z"
   },
   {
    "duration": 47,
    "start_time": "2023-08-30T18:33:48.544Z"
   },
   {
    "duration": 45,
    "start_time": "2023-08-30T18:33:48.593Z"
   },
   {
    "duration": 48,
    "start_time": "2023-08-30T18:33:48.640Z"
   },
   {
    "duration": 21,
    "start_time": "2023-08-30T18:33:48.689Z"
   },
   {
    "duration": 9,
    "start_time": "2023-08-30T18:33:48.712Z"
   },
   {
    "duration": 205,
    "start_time": "2023-08-30T18:33:48.726Z"
   },
   {
    "duration": 7,
    "start_time": "2023-08-30T18:33:48.933Z"
   },
   {
    "duration": 30,
    "start_time": "2023-08-30T18:33:48.941Z"
   },
   {
    "duration": 13,
    "start_time": "2023-08-30T18:33:48.973Z"
   },
   {
    "duration": 26,
    "start_time": "2023-08-30T18:33:48.987Z"
   },
   {
    "duration": 19,
    "start_time": "2023-08-30T18:33:49.015Z"
   },
   {
    "duration": 15,
    "start_time": "2023-08-30T18:33:49.035Z"
   },
   {
    "duration": 9,
    "start_time": "2023-08-30T18:33:49.052Z"
   },
   {
    "duration": 62,
    "start_time": "2023-08-30T18:33:49.062Z"
   },
   {
    "duration": 292,
    "start_time": "2023-08-30T18:33:49.126Z"
   },
   {
    "duration": 14,
    "start_time": "2023-08-30T18:33:49.420Z"
   },
   {
    "duration": 14,
    "start_time": "2023-08-30T18:33:49.436Z"
   },
   {
    "duration": 22,
    "start_time": "2023-08-30T18:33:54.251Z"
   },
   {
    "duration": 113,
    "start_time": "2023-08-30T18:34:42.997Z"
   },
   {
    "duration": 21,
    "start_time": "2023-08-30T18:34:56.988Z"
   },
   {
    "duration": 19,
    "start_time": "2023-08-30T18:36:05.589Z"
   },
   {
    "duration": 21,
    "start_time": "2023-08-30T18:36:15.360Z"
   },
   {
    "duration": 4,
    "start_time": "2023-08-30T18:36:22.397Z"
   },
   {
    "duration": 776,
    "start_time": "2023-08-30T18:36:22.404Z"
   },
   {
    "duration": 93,
    "start_time": "2023-08-30T18:36:23.182Z"
   },
   {
    "duration": 41,
    "start_time": "2023-08-30T18:36:23.276Z"
   },
   {
    "duration": 33,
    "start_time": "2023-08-30T18:36:23.318Z"
   },
   {
    "duration": 46,
    "start_time": "2023-08-30T18:36:23.354Z"
   },
   {
    "duration": 52,
    "start_time": "2023-08-30T18:36:23.402Z"
   },
   {
    "duration": 4,
    "start_time": "2023-08-30T18:36:23.455Z"
   },
   {
    "duration": 12,
    "start_time": "2023-08-30T18:36:23.461Z"
   },
   {
    "duration": 11,
    "start_time": "2023-08-30T18:36:23.475Z"
   },
   {
    "duration": 25,
    "start_time": "2023-08-30T18:36:23.487Z"
   },
   {
    "duration": 6,
    "start_time": "2023-08-30T18:36:23.514Z"
   },
   {
    "duration": 6,
    "start_time": "2023-08-30T18:36:23.521Z"
   },
   {
    "duration": 12,
    "start_time": "2023-08-30T18:36:23.529Z"
   },
   {
    "duration": 156,
    "start_time": "2023-08-30T18:36:23.543Z"
   },
   {
    "duration": 26,
    "start_time": "2023-08-30T18:36:23.701Z"
   },
   {
    "duration": 9,
    "start_time": "2023-08-30T18:36:23.729Z"
   },
   {
    "duration": 11,
    "start_time": "2023-08-30T18:36:23.740Z"
   },
   {
    "duration": 14,
    "start_time": "2023-08-30T18:36:23.754Z"
   },
   {
    "duration": 37,
    "start_time": "2023-08-30T18:36:23.770Z"
   },
   {
    "duration": 11,
    "start_time": "2023-08-30T18:36:23.809Z"
   },
   {
    "duration": 10,
    "start_time": "2023-08-30T18:36:23.822Z"
   },
   {
    "duration": 84,
    "start_time": "2023-08-30T18:36:23.834Z"
   },
   {
    "duration": 7,
    "start_time": "2023-08-30T18:36:23.920Z"
   },
   {
    "duration": 8,
    "start_time": "2023-08-30T18:36:23.929Z"
   },
   {
    "duration": 26,
    "start_time": "2023-08-30T18:36:23.939Z"
   },
   {
    "duration": 100,
    "start_time": "2023-08-30T18:36:23.967Z"
   },
   {
    "duration": 7,
    "start_time": "2023-08-30T18:36:24.069Z"
   },
   {
    "duration": 39,
    "start_time": "2023-08-30T18:36:24.078Z"
   },
   {
    "duration": 20,
    "start_time": "2023-08-30T18:36:24.119Z"
   },
   {
    "duration": 271,
    "start_time": "2023-08-30T18:36:24.141Z"
   },
   {
    "duration": 6,
    "start_time": "2023-08-30T18:36:24.414Z"
   },
   {
    "duration": 44,
    "start_time": "2023-08-30T18:36:24.422Z"
   },
   {
    "duration": 10,
    "start_time": "2023-08-30T18:36:24.467Z"
   },
   {
    "duration": 194,
    "start_time": "2023-08-30T18:36:24.478Z"
   },
   {
    "duration": 53,
    "start_time": "2023-08-30T18:36:24.675Z"
   },
   {
    "duration": 49,
    "start_time": "2023-08-30T18:36:24.730Z"
   },
   {
    "duration": 146,
    "start_time": "2023-08-30T18:36:24.781Z"
   },
   {
    "duration": 5,
    "start_time": "2023-08-30T18:36:24.929Z"
   },
   {
    "duration": 171,
    "start_time": "2023-08-30T18:36:24.936Z"
   },
   {
    "duration": 40,
    "start_time": "2023-08-30T18:36:25.109Z"
   },
   {
    "duration": 11,
    "start_time": "2023-08-30T18:36:25.154Z"
   },
   {
    "duration": 142,
    "start_time": "2023-08-30T18:36:25.166Z"
   },
   {
    "duration": 30,
    "start_time": "2023-08-30T18:36:25.310Z"
   },
   {
    "duration": 23,
    "start_time": "2023-08-30T18:36:25.342Z"
   },
   {
    "duration": 28,
    "start_time": "2023-08-30T18:36:25.367Z"
   },
   {
    "duration": 15,
    "start_time": "2023-08-30T18:36:25.397Z"
   },
   {
    "duration": 19,
    "start_time": "2023-08-30T18:36:25.414Z"
   },
   {
    "duration": 28,
    "start_time": "2023-08-30T18:36:25.435Z"
   },
   {
    "duration": 29,
    "start_time": "2023-08-30T18:36:25.465Z"
   },
   {
    "duration": 34,
    "start_time": "2023-08-30T18:36:25.496Z"
   },
   {
    "duration": 44,
    "start_time": "2023-08-30T18:36:25.532Z"
   },
   {
    "duration": 19,
    "start_time": "2023-08-30T18:36:25.578Z"
   },
   {
    "duration": 41,
    "start_time": "2023-08-30T18:36:25.598Z"
   },
   {
    "duration": 134,
    "start_time": "2023-08-30T18:36:25.641Z"
   },
   {
    "duration": 104,
    "start_time": "2023-08-30T18:36:25.777Z"
   },
   {
    "duration": 282,
    "start_time": "2023-08-30T18:36:25.883Z"
   },
   {
    "duration": 147,
    "start_time": "2023-08-30T18:36:26.167Z"
   },
   {
    "duration": 33,
    "start_time": "2023-08-30T18:36:26.315Z"
   },
   {
    "duration": 16,
    "start_time": "2023-08-30T18:36:26.349Z"
   },
   {
    "duration": 41,
    "start_time": "2023-08-30T18:36:26.367Z"
   },
   {
    "duration": 9,
    "start_time": "2023-08-30T18:36:26.410Z"
   },
   {
    "duration": 13,
    "start_time": "2023-08-30T18:36:26.421Z"
   },
   {
    "duration": 34,
    "start_time": "2023-08-30T18:36:26.436Z"
   },
   {
    "duration": 70,
    "start_time": "2023-08-30T18:36:26.471Z"
   },
   {
    "duration": 18,
    "start_time": "2023-08-30T18:36:26.543Z"
   },
   {
    "duration": 22,
    "start_time": "2023-08-30T18:36:26.564Z"
   },
   {
    "duration": 19,
    "start_time": "2023-08-30T18:36:26.589Z"
   },
   {
    "duration": 166,
    "start_time": "2023-08-30T18:36:26.610Z"
   },
   {
    "duration": 8,
    "start_time": "2023-08-30T18:36:26.778Z"
   },
   {
    "duration": 29,
    "start_time": "2023-08-30T18:36:26.788Z"
   },
   {
    "duration": 17,
    "start_time": "2023-08-30T18:36:26.819Z"
   },
   {
    "duration": 16,
    "start_time": "2023-08-30T18:36:26.838Z"
   },
   {
    "duration": 17,
    "start_time": "2023-08-30T18:36:26.856Z"
   },
   {
    "duration": 36,
    "start_time": "2023-08-30T18:36:26.875Z"
   },
   {
    "duration": 16,
    "start_time": "2023-08-30T18:36:26.913Z"
   },
   {
    "duration": 6,
    "start_time": "2023-08-30T18:36:26.931Z"
   },
   {
    "duration": 273,
    "start_time": "2023-08-30T18:36:26.939Z"
   },
   {
    "duration": 15,
    "start_time": "2023-08-30T18:36:27.214Z"
   },
   {
    "duration": 12,
    "start_time": "2023-08-30T18:36:27.231Z"
   },
   {
    "duration": 20,
    "start_time": "2023-08-30T18:36:29.811Z"
   },
   {
    "duration": 1303,
    "start_time": "2023-08-30T18:36:43.623Z"
   },
   {
    "duration": 1032,
    "start_time": "2023-08-30T18:36:44.929Z"
   },
   {
    "duration": 112,
    "start_time": "2023-08-30T18:36:45.963Z"
   },
   {
    "duration": 42,
    "start_time": "2023-08-30T18:36:46.077Z"
   },
   {
    "duration": 97,
    "start_time": "2023-08-30T18:36:46.121Z"
   },
   {
    "duration": 95,
    "start_time": "2023-08-30T18:36:46.221Z"
   },
   {
    "duration": 111,
    "start_time": "2023-08-30T18:36:46.318Z"
   },
   {
    "duration": 5,
    "start_time": "2023-08-30T18:36:46.431Z"
   },
   {
    "duration": 6,
    "start_time": "2023-08-30T18:36:46.438Z"
   },
   {
    "duration": 11,
    "start_time": "2023-08-30T18:36:46.447Z"
   },
   {
    "duration": 8,
    "start_time": "2023-08-30T18:36:46.460Z"
   },
   {
    "duration": 14,
    "start_time": "2023-08-30T18:36:46.470Z"
   },
   {
    "duration": 5,
    "start_time": "2023-08-30T18:36:46.486Z"
   },
   {
    "duration": 11,
    "start_time": "2023-08-30T18:36:46.493Z"
   },
   {
    "duration": 159,
    "start_time": "2023-08-30T18:36:46.506Z"
   },
   {
    "duration": 22,
    "start_time": "2023-08-30T18:36:46.667Z"
   },
   {
    "duration": 16,
    "start_time": "2023-08-30T18:36:46.690Z"
   },
   {
    "duration": 25,
    "start_time": "2023-08-30T18:36:46.707Z"
   },
   {
    "duration": 21,
    "start_time": "2023-08-30T18:36:46.734Z"
   },
   {
    "duration": 35,
    "start_time": "2023-08-30T18:36:46.756Z"
   },
   {
    "duration": 12,
    "start_time": "2023-08-30T18:36:46.793Z"
   },
   {
    "duration": 13,
    "start_time": "2023-08-30T18:36:46.807Z"
   },
   {
    "duration": 80,
    "start_time": "2023-08-30T18:36:46.822Z"
   },
   {
    "duration": 7,
    "start_time": "2023-08-30T18:36:46.904Z"
   },
   {
    "duration": 20,
    "start_time": "2023-08-30T18:36:46.913Z"
   },
   {
    "duration": 17,
    "start_time": "2023-08-30T18:36:46.935Z"
   },
   {
    "duration": 65,
    "start_time": "2023-08-30T18:36:46.954Z"
   },
   {
    "duration": 6,
    "start_time": "2023-08-30T18:36:47.024Z"
   },
   {
    "duration": 35,
    "start_time": "2023-08-30T18:36:47.031Z"
   },
   {
    "duration": 27,
    "start_time": "2023-08-30T18:36:47.068Z"
   },
   {
    "duration": 274,
    "start_time": "2023-08-30T18:36:47.097Z"
   },
   {
    "duration": 6,
    "start_time": "2023-08-30T18:36:47.373Z"
   },
   {
    "duration": 46,
    "start_time": "2023-08-30T18:36:47.381Z"
   },
   {
    "duration": 10,
    "start_time": "2023-08-30T18:36:47.429Z"
   },
   {
    "duration": 123,
    "start_time": "2023-08-30T18:36:47.441Z"
   },
   {
    "duration": 9,
    "start_time": "2023-08-30T18:36:47.566Z"
   },
   {
    "duration": 37,
    "start_time": "2023-08-30T18:36:47.577Z"
   },
   {
    "duration": 131,
    "start_time": "2023-08-30T18:36:47.616Z"
   },
   {
    "duration": 4,
    "start_time": "2023-08-30T18:36:47.749Z"
   },
   {
    "duration": 22,
    "start_time": "2023-08-30T18:36:47.755Z"
   },
   {
    "duration": 44,
    "start_time": "2023-08-30T18:36:47.779Z"
   },
   {
    "duration": 7,
    "start_time": "2023-08-30T18:36:47.825Z"
   },
   {
    "duration": 10,
    "start_time": "2023-08-30T18:36:47.834Z"
   },
   {
    "duration": 9,
    "start_time": "2023-08-30T18:36:47.846Z"
   },
   {
    "duration": 10,
    "start_time": "2023-08-30T18:36:47.856Z"
   },
   {
    "duration": 40,
    "start_time": "2023-08-30T18:36:47.868Z"
   },
   {
    "duration": 12,
    "start_time": "2023-08-30T18:36:47.910Z"
   },
   {
    "duration": 9,
    "start_time": "2023-08-30T18:36:47.925Z"
   },
   {
    "duration": 10,
    "start_time": "2023-08-30T18:36:47.935Z"
   },
   {
    "duration": 11,
    "start_time": "2023-08-30T18:36:47.946Z"
   },
   {
    "duration": 32,
    "start_time": "2023-08-30T18:36:47.959Z"
   },
   {
    "duration": 63,
    "start_time": "2023-08-30T18:36:47.993Z"
   },
   {
    "duration": 21,
    "start_time": "2023-08-30T18:36:48.058Z"
   },
   {
    "duration": 35,
    "start_time": "2023-08-30T18:36:48.080Z"
   },
   {
    "duration": 137,
    "start_time": "2023-08-30T18:36:48.117Z"
   },
   {
    "duration": 129,
    "start_time": "2023-08-30T18:36:48.256Z"
   },
   {
    "duration": 321,
    "start_time": "2023-08-30T18:36:48.387Z"
   },
   {
    "duration": 150,
    "start_time": "2023-08-30T18:36:48.710Z"
   },
   {
    "duration": 38,
    "start_time": "2023-08-30T18:36:48.863Z"
   },
   {
    "duration": 15,
    "start_time": "2023-08-30T18:36:48.903Z"
   },
   {
    "duration": 27,
    "start_time": "2023-08-30T18:36:48.920Z"
   },
   {
    "duration": 41,
    "start_time": "2023-08-30T18:36:48.950Z"
   },
   {
    "duration": 39,
    "start_time": "2023-08-30T18:36:48.992Z"
   },
   {
    "duration": 43,
    "start_time": "2023-08-30T18:36:49.033Z"
   },
   {
    "duration": 43,
    "start_time": "2023-08-30T18:36:49.078Z"
   },
   {
    "duration": 14,
    "start_time": "2023-08-30T18:36:49.123Z"
   },
   {
    "duration": 16,
    "start_time": "2023-08-30T18:36:49.138Z"
   },
   {
    "duration": 12,
    "start_time": "2023-08-30T18:36:49.155Z"
   },
   {
    "duration": 149,
    "start_time": "2023-08-30T18:36:49.170Z"
   },
   {
    "duration": 9,
    "start_time": "2023-08-30T18:36:49.321Z"
   },
   {
    "duration": 24,
    "start_time": "2023-08-30T18:36:49.333Z"
   },
   {
    "duration": 15,
    "start_time": "2023-08-30T18:36:49.359Z"
   },
   {
    "duration": 48,
    "start_time": "2023-08-30T18:36:49.376Z"
   },
   {
    "duration": 19,
    "start_time": "2023-08-30T18:36:49.425Z"
   },
   {
    "duration": 20,
    "start_time": "2023-08-30T18:36:49.446Z"
   },
   {
    "duration": 9,
    "start_time": "2023-08-30T18:36:49.468Z"
   },
   {
    "duration": 15,
    "start_time": "2023-08-30T18:36:49.478Z"
   },
   {
    "duration": 291,
    "start_time": "2023-08-30T18:36:49.494Z"
   },
   {
    "duration": 19,
    "start_time": "2023-08-30T18:36:49.787Z"
   },
   {
    "duration": 27,
    "start_time": "2023-08-30T18:36:49.808Z"
   },
   {
    "duration": 37,
    "start_time": "2023-08-30T18:36:49.836Z"
   },
   {
    "duration": 19,
    "start_time": "2023-08-30T18:36:49.878Z"
   },
   {
    "duration": 137,
    "start_time": "2023-08-30T18:36:49.899Z"
   },
   {
    "duration": 0,
    "start_time": "2023-08-30T18:36:50.038Z"
   },
   {
    "duration": 0,
    "start_time": "2023-08-30T18:36:50.040Z"
   },
   {
    "duration": 0,
    "start_time": "2023-08-30T18:36:50.041Z"
   },
   {
    "duration": 0,
    "start_time": "2023-08-30T18:36:50.042Z"
   },
   {
    "duration": 0,
    "start_time": "2023-08-30T18:36:50.043Z"
   },
   {
    "duration": 0,
    "start_time": "2023-08-30T18:36:50.044Z"
   },
   {
    "duration": 0,
    "start_time": "2023-08-30T18:36:50.045Z"
   },
   {
    "duration": 0,
    "start_time": "2023-08-30T18:36:50.046Z"
   },
   {
    "duration": 0,
    "start_time": "2023-08-30T18:36:50.047Z"
   },
   {
    "duration": 0,
    "start_time": "2023-08-30T18:36:50.048Z"
   },
   {
    "duration": 0,
    "start_time": "2023-08-30T18:36:50.049Z"
   },
   {
    "duration": 0,
    "start_time": "2023-08-30T18:36:50.051Z"
   },
   {
    "duration": 20,
    "start_time": "2023-08-30T18:37:26.324Z"
   },
   {
    "duration": 4,
    "start_time": "2023-08-30T18:38:19.900Z"
   },
   {
    "duration": 764,
    "start_time": "2023-08-30T18:38:19.908Z"
   },
   {
    "duration": 89,
    "start_time": "2023-08-30T18:38:20.675Z"
   },
   {
    "duration": 38,
    "start_time": "2023-08-30T18:38:20.766Z"
   },
   {
    "duration": 41,
    "start_time": "2023-08-30T18:38:20.806Z"
   },
   {
    "duration": 28,
    "start_time": "2023-08-30T18:38:20.849Z"
   },
   {
    "duration": 76,
    "start_time": "2023-08-30T18:38:20.879Z"
   },
   {
    "duration": 3,
    "start_time": "2023-08-30T18:38:20.957Z"
   },
   {
    "duration": 32,
    "start_time": "2023-08-30T18:38:20.962Z"
   },
   {
    "duration": 11,
    "start_time": "2023-08-30T18:38:20.996Z"
   },
   {
    "duration": 24,
    "start_time": "2023-08-30T18:38:21.010Z"
   },
   {
    "duration": 12,
    "start_time": "2023-08-30T18:38:21.036Z"
   },
   {
    "duration": 16,
    "start_time": "2023-08-30T18:38:21.050Z"
   },
   {
    "duration": 16,
    "start_time": "2023-08-30T18:38:21.068Z"
   },
   {
    "duration": 166,
    "start_time": "2023-08-30T18:38:21.086Z"
   },
   {
    "duration": 20,
    "start_time": "2023-08-30T18:38:21.254Z"
   },
   {
    "duration": 7,
    "start_time": "2023-08-30T18:38:21.276Z"
   },
   {
    "duration": 23,
    "start_time": "2023-08-30T18:38:21.285Z"
   },
   {
    "duration": 23,
    "start_time": "2023-08-30T18:38:21.310Z"
   },
   {
    "duration": 27,
    "start_time": "2023-08-30T18:38:21.335Z"
   },
   {
    "duration": 23,
    "start_time": "2023-08-30T18:38:21.364Z"
   },
   {
    "duration": 52,
    "start_time": "2023-08-30T18:38:21.389Z"
   },
   {
    "duration": 60,
    "start_time": "2023-08-30T18:38:21.443Z"
   },
   {
    "duration": 9,
    "start_time": "2023-08-30T18:38:21.505Z"
   },
   {
    "duration": 8,
    "start_time": "2023-08-30T18:38:21.516Z"
   },
   {
    "duration": 6,
    "start_time": "2023-08-30T18:38:21.525Z"
   },
   {
    "duration": 84,
    "start_time": "2023-08-30T18:38:21.533Z"
   },
   {
    "duration": 5,
    "start_time": "2023-08-30T18:38:21.619Z"
   },
   {
    "duration": 17,
    "start_time": "2023-08-30T18:38:21.628Z"
   },
   {
    "duration": 10,
    "start_time": "2023-08-30T18:38:21.647Z"
   },
   {
    "duration": 262,
    "start_time": "2023-08-30T18:38:21.658Z"
   },
   {
    "duration": 5,
    "start_time": "2023-08-30T18:38:21.922Z"
   },
   {
    "duration": 49,
    "start_time": "2023-08-30T18:38:21.929Z"
   },
   {
    "duration": 9,
    "start_time": "2023-08-30T18:38:21.980Z"
   },
   {
    "duration": 113,
    "start_time": "2023-08-30T18:38:21.991Z"
   },
   {
    "duration": 8,
    "start_time": "2023-08-30T18:38:22.106Z"
   },
   {
    "duration": 36,
    "start_time": "2023-08-30T18:38:22.115Z"
   },
   {
    "duration": 137,
    "start_time": "2023-08-30T18:38:22.153Z"
   },
   {
    "duration": 10,
    "start_time": "2023-08-30T18:38:22.291Z"
   },
   {
    "duration": 8,
    "start_time": "2023-08-30T18:38:22.303Z"
   },
   {
    "duration": 34,
    "start_time": "2023-08-30T18:38:22.313Z"
   },
   {
    "duration": 7,
    "start_time": "2023-08-30T18:38:22.348Z"
   },
   {
    "duration": 9,
    "start_time": "2023-08-30T18:38:22.357Z"
   },
   {
    "duration": 9,
    "start_time": "2023-08-30T18:38:22.368Z"
   },
   {
    "duration": 7,
    "start_time": "2023-08-30T18:38:22.402Z"
   },
   {
    "duration": 22,
    "start_time": "2023-08-30T18:38:22.410Z"
   },
   {
    "duration": 10,
    "start_time": "2023-08-30T18:38:22.434Z"
   },
   {
    "duration": 10,
    "start_time": "2023-08-30T18:38:22.445Z"
   },
   {
    "duration": 11,
    "start_time": "2023-08-30T18:38:22.456Z"
   },
   {
    "duration": 7,
    "start_time": "2023-08-30T18:38:22.469Z"
   },
   {
    "duration": 27,
    "start_time": "2023-08-30T18:38:22.478Z"
   },
   {
    "duration": 44,
    "start_time": "2023-08-30T18:38:22.507Z"
   },
   {
    "duration": 19,
    "start_time": "2023-08-30T18:38:22.554Z"
   },
   {
    "duration": 37,
    "start_time": "2023-08-30T18:38:22.575Z"
   },
   {
    "duration": 131,
    "start_time": "2023-08-30T18:38:22.614Z"
   },
   {
    "duration": 118,
    "start_time": "2023-08-30T18:38:22.747Z"
   },
   {
    "duration": 281,
    "start_time": "2023-08-30T18:38:22.866Z"
   },
   {
    "duration": 135,
    "start_time": "2023-08-30T18:38:23.149Z"
   },
   {
    "duration": 37,
    "start_time": "2023-08-30T18:38:23.286Z"
   },
   {
    "duration": 15,
    "start_time": "2023-08-30T18:38:23.324Z"
   },
   {
    "duration": 17,
    "start_time": "2023-08-30T18:38:23.340Z"
   },
   {
    "duration": 9,
    "start_time": "2023-08-30T18:38:23.359Z"
   },
   {
    "duration": 40,
    "start_time": "2023-08-30T18:38:23.369Z"
   },
   {
    "duration": 37,
    "start_time": "2023-08-30T18:38:23.411Z"
   },
   {
    "duration": 58,
    "start_time": "2023-08-30T18:38:23.450Z"
   },
   {
    "duration": 20,
    "start_time": "2023-08-30T18:38:23.510Z"
   },
   {
    "duration": 24,
    "start_time": "2023-08-30T18:38:23.532Z"
   },
   {
    "duration": 10,
    "start_time": "2023-08-30T18:38:23.557Z"
   },
   {
    "duration": 208,
    "start_time": "2023-08-30T18:38:23.568Z"
   },
   {
    "duration": 7,
    "start_time": "2023-08-30T18:38:23.778Z"
   },
   {
    "duration": 34,
    "start_time": "2023-08-30T18:38:23.786Z"
   },
   {
    "duration": 13,
    "start_time": "2023-08-30T18:38:23.821Z"
   },
   {
    "duration": 21,
    "start_time": "2023-08-30T18:38:23.835Z"
   },
   {
    "duration": 11,
    "start_time": "2023-08-30T18:38:23.858Z"
   },
   {
    "duration": 30,
    "start_time": "2023-08-30T18:38:23.871Z"
   },
   {
    "duration": 10,
    "start_time": "2023-08-30T18:38:23.903Z"
   },
   {
    "duration": 14,
    "start_time": "2023-08-30T18:38:23.915Z"
   },
   {
    "duration": 258,
    "start_time": "2023-08-30T18:38:23.931Z"
   },
   {
    "duration": 19,
    "start_time": "2023-08-30T18:38:24.192Z"
   },
   {
    "duration": 13,
    "start_time": "2023-08-30T18:38:24.213Z"
   },
   {
    "duration": 27,
    "start_time": "2023-08-30T18:38:27.263Z"
   },
   {
    "duration": 16,
    "start_time": "2023-08-30T18:38:58.861Z"
   },
   {
    "duration": 15,
    "start_time": "2023-08-30T18:39:15.961Z"
   },
   {
    "duration": 17,
    "start_time": "2023-08-30T18:39:32.153Z"
   },
   {
    "duration": 24,
    "start_time": "2023-08-30T18:41:19.003Z"
   },
   {
    "duration": 19,
    "start_time": "2023-08-30T18:41:43.844Z"
   },
   {
    "duration": 15,
    "start_time": "2023-08-30T18:41:59.692Z"
   },
   {
    "duration": 19,
    "start_time": "2023-08-30T18:42:06.903Z"
   },
   {
    "duration": 17,
    "start_time": "2023-08-30T18:42:41.823Z"
   },
   {
    "duration": 7,
    "start_time": "2023-08-30T18:42:53.287Z"
   },
   {
    "duration": 18,
    "start_time": "2023-08-30T18:43:45.814Z"
   },
   {
    "duration": 9,
    "start_time": "2023-08-30T18:43:48.495Z"
   },
   {
    "duration": 240,
    "start_time": "2023-08-30T18:43:53.902Z"
   },
   {
    "duration": 15,
    "start_time": "2023-08-30T18:44:33.512Z"
   },
   {
    "duration": 9,
    "start_time": "2023-08-30T18:44:34.131Z"
   },
   {
    "duration": 260,
    "start_time": "2023-08-30T18:44:34.719Z"
   },
   {
    "duration": 22,
    "start_time": "2023-08-30T18:45:16.716Z"
   },
   {
    "duration": 15,
    "start_time": "2023-08-30T18:45:25.143Z"
   },
   {
    "duration": 6,
    "start_time": "2023-08-30T18:45:32.148Z"
   },
   {
    "duration": 440,
    "start_time": "2023-08-30T18:45:33.011Z"
   },
   {
    "duration": 5,
    "start_time": "2023-08-30T18:47:27.101Z"
   },
   {
    "duration": 54,
    "start_time": "2023-08-30T18:47:27.695Z"
   },
   {
    "duration": 15,
    "start_time": "2023-08-30T18:52:35.129Z"
   },
   {
    "duration": 18,
    "start_time": "2023-08-30T18:52:43.274Z"
   },
   {
    "duration": 14,
    "start_time": "2023-08-30T18:52:43.996Z"
   },
   {
    "duration": 7,
    "start_time": "2023-08-30T18:52:47.895Z"
   },
   {
    "duration": 49,
    "start_time": "2023-08-30T18:52:54.563Z"
   },
   {
    "duration": 20,
    "start_time": "2023-08-30T18:53:31.387Z"
   },
   {
    "duration": 19,
    "start_time": "2023-08-30T18:53:32.295Z"
   },
   {
    "duration": 6,
    "start_time": "2023-08-30T18:53:36.420Z"
   },
   {
    "duration": 153,
    "start_time": "2023-08-30T18:53:38.586Z"
   },
   {
    "duration": 31,
    "start_time": "2023-08-30T18:59:25.768Z"
   },
   {
    "duration": 12,
    "start_time": "2023-08-30T18:59:39.696Z"
   },
   {
    "duration": 127,
    "start_time": "2023-08-30T19:00:24.174Z"
   },
   {
    "duration": 116,
    "start_time": "2023-08-30T19:01:27.875Z"
   },
   {
    "duration": 12,
    "start_time": "2023-08-30T19:04:57.090Z"
   },
   {
    "duration": 27,
    "start_time": "2023-08-30T19:06:40.393Z"
   },
   {
    "duration": 11,
    "start_time": "2023-08-30T19:06:41.495Z"
   },
   {
    "duration": 127,
    "start_time": "2023-08-30T19:06:47.898Z"
   },
   {
    "duration": 5,
    "start_time": "2023-08-30T19:11:04.101Z"
   },
   {
    "duration": 61,
    "start_time": "2023-08-30T19:11:53.532Z"
   },
   {
    "duration": 10,
    "start_time": "2023-08-30T19:13:53.258Z"
   },
   {
    "duration": 67,
    "start_time": "2023-08-30T19:15:49.119Z"
   },
   {
    "duration": 26,
    "start_time": "2023-08-30T19:16:11.100Z"
   },
   {
    "duration": 129,
    "start_time": "2023-08-30T19:16:11.887Z"
   },
   {
    "duration": 17,
    "start_time": "2023-08-30T19:18:34.103Z"
   },
   {
    "duration": 69,
    "start_time": "2023-08-30T19:19:05.034Z"
   },
   {
    "duration": 73,
    "start_time": "2023-08-30T19:19:12.981Z"
   },
   {
    "duration": 134,
    "start_time": "2023-08-30T19:20:45.779Z"
   },
   {
    "duration": 10,
    "start_time": "2023-08-30T19:32:20.462Z"
   },
   {
    "duration": 13,
    "start_time": "2023-08-30T19:34:45.433Z"
   },
   {
    "duration": 4,
    "start_time": "2023-08-30T19:34:50.532Z"
   },
   {
    "duration": 1015,
    "start_time": "2023-08-30T19:34:50.538Z"
   },
   {
    "duration": 101,
    "start_time": "2023-08-30T19:34:51.555Z"
   },
   {
    "duration": 46,
    "start_time": "2023-08-30T19:34:51.659Z"
   },
   {
    "duration": 36,
    "start_time": "2023-08-30T19:34:51.707Z"
   },
   {
    "duration": 38,
    "start_time": "2023-08-30T19:34:51.745Z"
   },
   {
    "duration": 101,
    "start_time": "2023-08-30T19:34:51.785Z"
   },
   {
    "duration": 5,
    "start_time": "2023-08-30T19:34:51.888Z"
   },
   {
    "duration": 95,
    "start_time": "2023-08-30T19:34:51.896Z"
   },
   {
    "duration": 12,
    "start_time": "2023-08-30T19:34:51.992Z"
   },
   {
    "duration": 145,
    "start_time": "2023-08-30T19:34:52.006Z"
   },
   {
    "duration": 62,
    "start_time": "2023-08-30T19:34:52.153Z"
   },
   {
    "duration": 31,
    "start_time": "2023-08-30T19:34:52.217Z"
   },
   {
    "duration": 36,
    "start_time": "2023-08-30T19:34:52.251Z"
   },
   {
    "duration": 218,
    "start_time": "2023-08-30T19:34:52.291Z"
   },
   {
    "duration": 32,
    "start_time": "2023-08-30T19:34:52.511Z"
   },
   {
    "duration": 17,
    "start_time": "2023-08-30T19:34:52.545Z"
   },
   {
    "duration": 25,
    "start_time": "2023-08-30T19:34:52.564Z"
   },
   {
    "duration": 26,
    "start_time": "2023-08-30T19:34:52.592Z"
   },
   {
    "duration": 10,
    "start_time": "2023-08-30T19:34:52.620Z"
   },
   {
    "duration": 15,
    "start_time": "2023-08-30T19:34:52.632Z"
   },
   {
    "duration": 29,
    "start_time": "2023-08-30T19:34:52.649Z"
   },
   {
    "duration": 135,
    "start_time": "2023-08-30T19:34:52.680Z"
   },
   {
    "duration": 8,
    "start_time": "2023-08-30T19:34:52.819Z"
   },
   {
    "duration": 28,
    "start_time": "2023-08-30T19:34:52.829Z"
   },
   {
    "duration": 19,
    "start_time": "2023-08-30T19:34:52.860Z"
   },
   {
    "duration": 79,
    "start_time": "2023-08-30T19:34:52.880Z"
   },
   {
    "duration": 7,
    "start_time": "2023-08-30T19:34:52.961Z"
   },
   {
    "duration": 37,
    "start_time": "2023-08-30T19:34:52.970Z"
   },
   {
    "duration": 33,
    "start_time": "2023-08-30T19:34:53.010Z"
   },
   {
    "duration": 274,
    "start_time": "2023-08-30T19:34:53.045Z"
   },
   {
    "duration": 5,
    "start_time": "2023-08-30T19:34:53.321Z"
   },
   {
    "duration": 72,
    "start_time": "2023-08-30T19:34:53.328Z"
   },
   {
    "duration": 10,
    "start_time": "2023-08-30T19:34:53.402Z"
   },
   {
    "duration": 129,
    "start_time": "2023-08-30T19:34:53.413Z"
   },
   {
    "duration": 10,
    "start_time": "2023-08-30T19:34:53.543Z"
   },
   {
    "duration": 29,
    "start_time": "2023-08-30T19:34:53.554Z"
   },
   {
    "duration": 151,
    "start_time": "2023-08-30T19:34:53.585Z"
   },
   {
    "duration": 5,
    "start_time": "2023-08-30T19:34:53.738Z"
   },
   {
    "duration": 35,
    "start_time": "2023-08-30T19:34:53.745Z"
   },
   {
    "duration": 35,
    "start_time": "2023-08-30T19:34:53.782Z"
   },
   {
    "duration": 15,
    "start_time": "2023-08-30T19:34:53.818Z"
   },
   {
    "duration": 21,
    "start_time": "2023-08-30T19:34:53.834Z"
   },
   {
    "duration": 9,
    "start_time": "2023-08-30T19:34:53.857Z"
   },
   {
    "duration": 11,
    "start_time": "2023-08-30T19:34:53.867Z"
   },
   {
    "duration": 8,
    "start_time": "2023-08-30T19:34:53.880Z"
   },
   {
    "duration": 17,
    "start_time": "2023-08-30T19:34:53.890Z"
   },
   {
    "duration": 22,
    "start_time": "2023-08-30T19:34:53.909Z"
   },
   {
    "duration": 38,
    "start_time": "2023-08-30T19:34:53.933Z"
   },
   {
    "duration": 18,
    "start_time": "2023-08-30T19:34:53.973Z"
   },
   {
    "duration": 43,
    "start_time": "2023-08-30T19:34:53.993Z"
   },
   {
    "duration": 45,
    "start_time": "2023-08-30T19:34:54.038Z"
   },
   {
    "duration": 21,
    "start_time": "2023-08-30T19:34:54.085Z"
   },
   {
    "duration": 21,
    "start_time": "2023-08-30T19:34:54.107Z"
   },
   {
    "duration": 123,
    "start_time": "2023-08-30T19:34:54.130Z"
   },
   {
    "duration": 135,
    "start_time": "2023-08-30T19:34:54.255Z"
   },
   {
    "duration": 301,
    "start_time": "2023-08-30T19:34:54.392Z"
   },
   {
    "duration": 191,
    "start_time": "2023-08-30T19:34:54.695Z"
   },
   {
    "duration": 38,
    "start_time": "2023-08-30T19:34:54.888Z"
   },
   {
    "duration": 15,
    "start_time": "2023-08-30T19:34:54.929Z"
   },
   {
    "duration": 30,
    "start_time": "2023-08-30T19:34:54.946Z"
   },
   {
    "duration": 33,
    "start_time": "2023-08-30T19:34:54.978Z"
   },
   {
    "duration": 44,
    "start_time": "2023-08-30T19:34:55.014Z"
   },
   {
    "duration": 36,
    "start_time": "2023-08-30T19:34:55.061Z"
   },
   {
    "duration": 42,
    "start_time": "2023-08-30T19:34:55.099Z"
   },
   {
    "duration": 28,
    "start_time": "2023-08-30T19:34:55.143Z"
   },
   {
    "duration": 17,
    "start_time": "2023-08-30T19:34:55.173Z"
   },
   {
    "duration": 11,
    "start_time": "2023-08-30T19:34:55.192Z"
   },
   {
    "duration": 127,
    "start_time": "2023-08-30T19:34:55.209Z"
   },
   {
    "duration": 8,
    "start_time": "2023-08-30T19:34:55.338Z"
   },
   {
    "duration": 20,
    "start_time": "2023-08-30T19:34:55.348Z"
   },
   {
    "duration": 38,
    "start_time": "2023-08-30T19:34:55.370Z"
   },
   {
    "duration": 15,
    "start_time": "2023-08-30T19:34:55.410Z"
   },
   {
    "duration": 25,
    "start_time": "2023-08-30T19:34:55.427Z"
   },
   {
    "duration": 32,
    "start_time": "2023-08-30T19:34:55.453Z"
   },
   {
    "duration": 17,
    "start_time": "2023-08-30T19:34:55.487Z"
   },
   {
    "duration": 47,
    "start_time": "2023-08-30T19:34:55.506Z"
   },
   {
    "duration": 264,
    "start_time": "2023-08-30T19:34:55.555Z"
   },
   {
    "duration": 15,
    "start_time": "2023-08-30T19:34:55.822Z"
   },
   {
    "duration": 25,
    "start_time": "2023-08-30T19:34:55.839Z"
   },
   {
    "duration": 51,
    "start_time": "2023-08-30T19:34:55.866Z"
   },
   {
    "duration": 15,
    "start_time": "2023-08-30T19:34:55.919Z"
   },
   {
    "duration": 8,
    "start_time": "2023-08-30T19:34:55.936Z"
   },
   {
    "duration": 270,
    "start_time": "2023-08-30T19:34:55.946Z"
   },
   {
    "duration": 16,
    "start_time": "2023-08-30T19:34:56.218Z"
   },
   {
    "duration": 13,
    "start_time": "2023-08-30T19:34:56.236Z"
   },
   {
    "duration": 6,
    "start_time": "2023-08-30T19:34:56.251Z"
   },
   {
    "duration": 181,
    "start_time": "2023-08-30T19:34:56.258Z"
   },
   {
    "duration": 29,
    "start_time": "2023-08-30T19:34:56.441Z"
   },
   {
    "duration": 142,
    "start_time": "2023-08-30T19:34:56.472Z"
   },
   {
    "duration": 10,
    "start_time": "2023-08-30T19:34:56.616Z"
   },
   {
    "duration": 8,
    "start_time": "2023-08-30T19:34:56.629Z"
   },
   {
    "duration": 15,
    "start_time": "2023-08-30T19:34:56.638Z"
   },
   {
    "duration": 6,
    "start_time": "2023-08-30T19:34:59.821Z"
   },
   {
    "duration": 7,
    "start_time": "2023-08-30T19:35:02.380Z"
   },
   {
    "duration": 9,
    "start_time": "2023-08-30T19:35:04.800Z"
   },
   {
    "duration": 8,
    "start_time": "2023-08-30T19:35:34.266Z"
   },
   {
    "duration": 3027,
    "start_time": "2023-08-30T19:40:18.974Z"
   },
   {
    "duration": 1129,
    "start_time": "2023-08-30T19:40:22.004Z"
   },
   {
    "duration": 111,
    "start_time": "2023-08-30T19:40:23.135Z"
   },
   {
    "duration": 34,
    "start_time": "2023-08-30T19:40:23.248Z"
   },
   {
    "duration": 33,
    "start_time": "2023-08-30T19:40:23.301Z"
   },
   {
    "duration": 32,
    "start_time": "2023-08-30T19:40:23.336Z"
   },
   {
    "duration": 54,
    "start_time": "2023-08-30T19:40:23.370Z"
   },
   {
    "duration": 4,
    "start_time": "2023-08-30T19:40:23.426Z"
   },
   {
    "duration": 9,
    "start_time": "2023-08-30T19:40:23.432Z"
   },
   {
    "duration": 7,
    "start_time": "2023-08-30T19:40:23.442Z"
   },
   {
    "duration": 12,
    "start_time": "2023-08-30T19:40:23.450Z"
   },
   {
    "duration": 13,
    "start_time": "2023-08-30T19:40:23.464Z"
   },
   {
    "duration": 14,
    "start_time": "2023-08-30T19:40:23.479Z"
   },
   {
    "duration": 6,
    "start_time": "2023-08-30T19:40:23.497Z"
   },
   {
    "duration": 152,
    "start_time": "2023-08-30T19:40:23.505Z"
   },
   {
    "duration": 20,
    "start_time": "2023-08-30T19:40:23.658Z"
   },
   {
    "duration": 9,
    "start_time": "2023-08-30T19:40:23.679Z"
   },
   {
    "duration": 7,
    "start_time": "2023-08-30T19:40:23.701Z"
   },
   {
    "duration": 14,
    "start_time": "2023-08-30T19:40:23.710Z"
   },
   {
    "duration": 6,
    "start_time": "2023-08-30T19:40:23.726Z"
   },
   {
    "duration": 12,
    "start_time": "2023-08-30T19:40:23.734Z"
   },
   {
    "duration": 29,
    "start_time": "2023-08-30T19:40:23.748Z"
   },
   {
    "duration": 70,
    "start_time": "2023-08-30T19:40:23.779Z"
   },
   {
    "duration": 7,
    "start_time": "2023-08-30T19:40:23.851Z"
   },
   {
    "duration": 5,
    "start_time": "2023-08-30T19:40:23.860Z"
   },
   {
    "duration": 10,
    "start_time": "2023-08-30T19:40:23.867Z"
   },
   {
    "duration": 67,
    "start_time": "2023-08-30T19:40:23.879Z"
   },
   {
    "duration": 5,
    "start_time": "2023-08-30T19:40:23.948Z"
   },
   {
    "duration": 19,
    "start_time": "2023-08-30T19:40:23.955Z"
   },
   {
    "duration": 27,
    "start_time": "2023-08-30T19:40:23.975Z"
   },
   {
    "duration": 322,
    "start_time": "2023-08-30T19:40:24.004Z"
   },
   {
    "duration": 6,
    "start_time": "2023-08-30T19:40:24.327Z"
   },
   {
    "duration": 39,
    "start_time": "2023-08-30T19:40:24.334Z"
   },
   {
    "duration": 31,
    "start_time": "2023-08-30T19:40:24.375Z"
   },
   {
    "duration": 117,
    "start_time": "2023-08-30T19:40:24.409Z"
   },
   {
    "duration": 20,
    "start_time": "2023-08-30T19:40:24.528Z"
   },
   {
    "duration": 37,
    "start_time": "2023-08-30T19:40:24.550Z"
   },
   {
    "duration": 157,
    "start_time": "2023-08-30T19:40:24.590Z"
   },
   {
    "duration": 8,
    "start_time": "2023-08-30T19:40:24.749Z"
   },
   {
    "duration": 14,
    "start_time": "2023-08-30T19:40:24.760Z"
   },
   {
    "duration": 55,
    "start_time": "2023-08-30T19:40:24.781Z"
   },
   {
    "duration": 8,
    "start_time": "2023-08-30T19:40:24.837Z"
   },
   {
    "duration": 15,
    "start_time": "2023-08-30T19:40:24.846Z"
   },
   {
    "duration": 8,
    "start_time": "2023-08-30T19:40:24.862Z"
   },
   {
    "duration": 13,
    "start_time": "2023-08-30T19:40:24.871Z"
   },
   {
    "duration": 17,
    "start_time": "2023-08-30T19:40:24.885Z"
   },
   {
    "duration": 8,
    "start_time": "2023-08-30T19:40:24.904Z"
   },
   {
    "duration": 13,
    "start_time": "2023-08-30T19:40:24.914Z"
   },
   {
    "duration": 15,
    "start_time": "2023-08-30T19:40:24.929Z"
   },
   {
    "duration": 8,
    "start_time": "2023-08-30T19:40:24.946Z"
   },
   {
    "duration": 25,
    "start_time": "2023-08-30T19:40:24.956Z"
   },
   {
    "duration": 56,
    "start_time": "2023-08-30T19:40:24.983Z"
   },
   {
    "duration": 21,
    "start_time": "2023-08-30T19:40:25.040Z"
   },
   {
    "duration": 19,
    "start_time": "2023-08-30T19:40:25.063Z"
   },
   {
    "duration": 142,
    "start_time": "2023-08-30T19:40:25.084Z"
   },
   {
    "duration": 106,
    "start_time": "2023-08-30T19:40:25.228Z"
   },
   {
    "duration": 319,
    "start_time": "2023-08-30T19:40:25.336Z"
   },
   {
    "duration": 165,
    "start_time": "2023-08-30T19:40:25.657Z"
   },
   {
    "duration": 32,
    "start_time": "2023-08-30T19:40:25.824Z"
   },
   {
    "duration": 27,
    "start_time": "2023-08-30T19:40:25.858Z"
   },
   {
    "duration": 29,
    "start_time": "2023-08-30T19:40:25.887Z"
   },
   {
    "duration": 22,
    "start_time": "2023-08-30T19:40:25.918Z"
   },
   {
    "duration": 26,
    "start_time": "2023-08-30T19:40:25.942Z"
   },
   {
    "duration": 32,
    "start_time": "2023-08-30T19:40:25.970Z"
   },
   {
    "duration": 43,
    "start_time": "2023-08-30T19:40:26.004Z"
   },
   {
    "duration": 34,
    "start_time": "2023-08-30T19:40:26.049Z"
   },
   {
    "duration": 20,
    "start_time": "2023-08-30T19:40:26.085Z"
   },
   {
    "duration": 10,
    "start_time": "2023-08-30T19:40:26.107Z"
   },
   {
    "duration": 133,
    "start_time": "2023-08-30T19:40:26.119Z"
   },
   {
    "duration": 7,
    "start_time": "2023-08-30T19:40:26.254Z"
   },
   {
    "duration": 72,
    "start_time": "2023-08-30T19:40:26.262Z"
   },
   {
    "duration": 15,
    "start_time": "2023-08-30T19:40:26.336Z"
   },
   {
    "duration": 15,
    "start_time": "2023-08-30T19:40:26.353Z"
   },
   {
    "duration": 45,
    "start_time": "2023-08-30T19:40:26.371Z"
   },
   {
    "duration": 45,
    "start_time": "2023-08-30T19:40:26.418Z"
   },
   {
    "duration": 28,
    "start_time": "2023-08-30T19:40:26.465Z"
   },
   {
    "duration": 15,
    "start_time": "2023-08-30T19:40:26.495Z"
   },
   {
    "duration": 274,
    "start_time": "2023-08-30T19:40:26.512Z"
   },
   {
    "duration": 26,
    "start_time": "2023-08-30T19:40:26.788Z"
   },
   {
    "duration": 24,
    "start_time": "2023-08-30T19:40:26.815Z"
   },
   {
    "duration": 18,
    "start_time": "2023-08-30T19:40:26.841Z"
   },
   {
    "duration": 16,
    "start_time": "2023-08-30T19:40:26.860Z"
   },
   {
    "duration": 24,
    "start_time": "2023-08-30T19:40:26.877Z"
   },
   {
    "duration": 261,
    "start_time": "2023-08-30T19:40:26.903Z"
   },
   {
    "duration": 17,
    "start_time": "2023-08-30T19:40:27.166Z"
   },
   {
    "duration": 24,
    "start_time": "2023-08-30T19:40:27.185Z"
   },
   {
    "duration": 16,
    "start_time": "2023-08-30T19:40:27.211Z"
   },
   {
    "duration": 1209,
    "start_time": "2023-08-30T19:40:27.228Z"
   },
   {
    "duration": 24,
    "start_time": "2023-08-30T19:40:28.438Z"
   },
   {
    "duration": 305,
    "start_time": "2023-08-30T19:40:28.464Z"
   },
   {
    "duration": 11,
    "start_time": "2023-08-30T19:40:28.771Z"
   },
   {
    "duration": 21,
    "start_time": "2023-08-30T19:40:28.784Z"
   },
   {
    "duration": 27,
    "start_time": "2023-08-30T19:40:28.807Z"
   },
   {
    "duration": 12,
    "start_time": "2023-08-30T19:40:28.835Z"
   },
   {
    "duration": 81,
    "start_time": "2023-08-30T19:40:28.849Z"
   },
   {
    "duration": 4,
    "start_time": "2023-08-30T19:40:41.985Z"
   },
   {
    "duration": 862,
    "start_time": "2023-08-30T19:40:41.991Z"
   },
   {
    "duration": 99,
    "start_time": "2023-08-30T19:40:42.855Z"
   },
   {
    "duration": 45,
    "start_time": "2023-08-30T19:40:42.956Z"
   },
   {
    "duration": 34,
    "start_time": "2023-08-30T19:40:43.004Z"
   },
   {
    "duration": 25,
    "start_time": "2023-08-30T19:40:43.041Z"
   },
   {
    "duration": 75,
    "start_time": "2023-08-30T19:40:43.068Z"
   },
   {
    "duration": 5,
    "start_time": "2023-08-30T19:40:43.145Z"
   },
   {
    "duration": 5,
    "start_time": "2023-08-30T19:40:43.152Z"
   },
   {
    "duration": 21,
    "start_time": "2023-08-30T19:40:43.159Z"
   },
   {
    "duration": 15,
    "start_time": "2023-08-30T19:40:43.182Z"
   },
   {
    "duration": 6,
    "start_time": "2023-08-30T19:40:43.200Z"
   },
   {
    "duration": 9,
    "start_time": "2023-08-30T19:40:43.208Z"
   },
   {
    "duration": 13,
    "start_time": "2023-08-30T19:40:43.220Z"
   },
   {
    "duration": 116,
    "start_time": "2023-08-30T19:40:43.235Z"
   },
   {
    "duration": 20,
    "start_time": "2023-08-30T19:40:43.353Z"
   },
   {
    "duration": 8,
    "start_time": "2023-08-30T19:40:43.374Z"
   },
   {
    "duration": 21,
    "start_time": "2023-08-30T19:40:43.384Z"
   },
   {
    "duration": 20,
    "start_time": "2023-08-30T19:40:43.406Z"
   },
   {
    "duration": 6,
    "start_time": "2023-08-30T19:40:43.428Z"
   },
   {
    "duration": 7,
    "start_time": "2023-08-30T19:40:43.436Z"
   },
   {
    "duration": 20,
    "start_time": "2023-08-30T19:40:43.445Z"
   },
   {
    "duration": 70,
    "start_time": "2023-08-30T19:40:43.467Z"
   },
   {
    "duration": 8,
    "start_time": "2023-08-30T19:40:43.538Z"
   },
   {
    "duration": 7,
    "start_time": "2023-08-30T19:40:43.548Z"
   },
   {
    "duration": 9,
    "start_time": "2023-08-30T19:40:43.557Z"
   },
   {
    "duration": 99,
    "start_time": "2023-08-30T19:40:43.568Z"
   },
   {
    "duration": 7,
    "start_time": "2023-08-30T19:40:43.668Z"
   },
   {
    "duration": 37,
    "start_time": "2023-08-30T19:40:43.677Z"
   },
   {
    "duration": 13,
    "start_time": "2023-08-30T19:40:43.716Z"
   },
   {
    "duration": 274,
    "start_time": "2023-08-30T19:40:43.732Z"
   },
   {
    "duration": 5,
    "start_time": "2023-08-30T19:40:44.008Z"
   },
   {
    "duration": 57,
    "start_time": "2023-08-30T19:40:44.014Z"
   },
   {
    "duration": 10,
    "start_time": "2023-08-30T19:40:44.073Z"
   },
   {
    "duration": 130,
    "start_time": "2023-08-30T19:40:44.084Z"
   },
   {
    "duration": 9,
    "start_time": "2023-08-30T19:40:44.217Z"
   },
   {
    "duration": 23,
    "start_time": "2023-08-30T19:40:44.228Z"
   },
   {
    "duration": 150,
    "start_time": "2023-08-30T19:40:44.254Z"
   },
   {
    "duration": 5,
    "start_time": "2023-08-30T19:40:44.406Z"
   },
   {
    "duration": 22,
    "start_time": "2023-08-30T19:40:44.413Z"
   },
   {
    "duration": 28,
    "start_time": "2023-08-30T19:40:44.440Z"
   },
   {
    "duration": 6,
    "start_time": "2023-08-30T19:40:44.470Z"
   },
   {
    "duration": 27,
    "start_time": "2023-08-30T19:40:44.478Z"
   },
   {
    "duration": 12,
    "start_time": "2023-08-30T19:40:44.506Z"
   },
   {
    "duration": 10,
    "start_time": "2023-08-30T19:40:44.519Z"
   },
   {
    "duration": 7,
    "start_time": "2023-08-30T19:40:44.531Z"
   },
   {
    "duration": 11,
    "start_time": "2023-08-30T19:40:44.540Z"
   },
   {
    "duration": 10,
    "start_time": "2023-08-30T19:40:44.553Z"
   },
   {
    "duration": 28,
    "start_time": "2023-08-30T19:40:44.565Z"
   },
   {
    "duration": 17,
    "start_time": "2023-08-30T19:40:44.602Z"
   },
   {
    "duration": 23,
    "start_time": "2023-08-30T19:40:44.621Z"
   },
   {
    "duration": 50,
    "start_time": "2023-08-30T19:40:44.645Z"
   },
   {
    "duration": 21,
    "start_time": "2023-08-30T19:40:44.696Z"
   },
   {
    "duration": 20,
    "start_time": "2023-08-30T19:40:44.720Z"
   },
   {
    "duration": 172,
    "start_time": "2023-08-30T19:40:44.743Z"
   },
   {
    "duration": 122,
    "start_time": "2023-08-30T19:40:44.917Z"
   },
   {
    "duration": 284,
    "start_time": "2023-08-30T19:40:45.040Z"
   },
   {
    "duration": 154,
    "start_time": "2023-08-30T19:40:45.326Z"
   },
   {
    "duration": 35,
    "start_time": "2023-08-30T19:40:45.482Z"
   },
   {
    "duration": 16,
    "start_time": "2023-08-30T19:40:45.518Z"
   },
   {
    "duration": 25,
    "start_time": "2023-08-30T19:40:45.536Z"
   },
   {
    "duration": 9,
    "start_time": "2023-08-30T19:40:45.562Z"
   },
   {
    "duration": 56,
    "start_time": "2023-08-30T19:40:45.572Z"
   },
   {
    "duration": 39,
    "start_time": "2023-08-30T19:40:45.630Z"
   },
   {
    "duration": 43,
    "start_time": "2023-08-30T19:40:45.671Z"
   },
   {
    "duration": 28,
    "start_time": "2023-08-30T19:40:45.715Z"
   },
   {
    "duration": 26,
    "start_time": "2023-08-30T19:40:45.745Z"
   },
   {
    "duration": 28,
    "start_time": "2023-08-30T19:40:45.773Z"
   },
   {
    "duration": 117,
    "start_time": "2023-08-30T19:40:45.802Z"
   },
   {
    "duration": 7,
    "start_time": "2023-08-30T19:40:45.921Z"
   },
   {
    "duration": 17,
    "start_time": "2023-08-30T19:40:45.929Z"
   },
   {
    "duration": 13,
    "start_time": "2023-08-30T19:40:45.947Z"
   },
   {
    "duration": 43,
    "start_time": "2023-08-30T19:40:45.961Z"
   },
   {
    "duration": 11,
    "start_time": "2023-08-30T19:40:46.006Z"
   },
   {
    "duration": 56,
    "start_time": "2023-08-30T19:40:46.019Z"
   },
   {
    "duration": 16,
    "start_time": "2023-08-30T19:40:46.078Z"
   },
   {
    "duration": 21,
    "start_time": "2023-08-30T19:40:46.096Z"
   },
   {
    "duration": 271,
    "start_time": "2023-08-30T19:40:46.119Z"
   },
   {
    "duration": 21,
    "start_time": "2023-08-30T19:40:46.392Z"
   },
   {
    "duration": 17,
    "start_time": "2023-08-30T19:40:46.415Z"
   },
   {
    "duration": 18,
    "start_time": "2023-08-30T19:40:46.434Z"
   },
   {
    "duration": 20,
    "start_time": "2023-08-30T19:40:46.454Z"
   },
   {
    "duration": 29,
    "start_time": "2023-08-30T19:40:46.476Z"
   },
   {
    "duration": 240,
    "start_time": "2023-08-30T19:40:46.507Z"
   },
   {
    "duration": 18,
    "start_time": "2023-08-30T19:40:46.748Z"
   },
   {
    "duration": 59,
    "start_time": "2023-08-30T19:40:46.768Z"
   },
   {
    "duration": 42,
    "start_time": "2023-08-30T19:40:46.829Z"
   },
   {
    "duration": 164,
    "start_time": "2023-08-30T19:40:46.873Z"
   },
   {
    "duration": 27,
    "start_time": "2023-08-30T19:40:47.039Z"
   },
   {
    "duration": 139,
    "start_time": "2023-08-30T19:40:47.068Z"
   },
   {
    "duration": 11,
    "start_time": "2023-08-30T19:40:47.209Z"
   },
   {
    "duration": 20,
    "start_time": "2023-08-30T19:40:47.221Z"
   },
   {
    "duration": 22,
    "start_time": "2023-08-30T19:40:47.242Z"
   },
   {
    "duration": 9,
    "start_time": "2023-08-30T19:40:47.266Z"
   },
   {
    "duration": 11,
    "start_time": "2023-08-30T19:40:47.276Z"
   },
   {
    "duration": 114,
    "start_time": "2023-08-30T19:45:26.338Z"
   },
   {
    "duration": 129,
    "start_time": "2023-08-30T19:45:35.992Z"
   },
   {
    "duration": 112,
    "start_time": "2023-08-30T19:45:46.649Z"
   },
   {
    "duration": 8,
    "start_time": "2023-08-30T19:47:20.616Z"
   },
   {
    "duration": 9,
    "start_time": "2023-08-30T19:47:50.451Z"
   },
   {
    "duration": 18,
    "start_time": "2023-08-30T19:48:35.117Z"
   },
   {
    "duration": 15,
    "start_time": "2023-08-30T19:52:13.388Z"
   },
   {
    "duration": 15,
    "start_time": "2023-08-30T19:52:23.282Z"
   },
   {
    "duration": 18,
    "start_time": "2023-08-30T19:53:19.993Z"
   },
   {
    "duration": 15,
    "start_time": "2023-08-30T19:53:22.078Z"
   },
   {
    "duration": 145,
    "start_time": "2023-08-30T19:55:19.635Z"
   },
   {
    "duration": 170,
    "start_time": "2023-08-30T19:55:28.683Z"
   },
   {
    "duration": 170,
    "start_time": "2023-08-30T19:56:48.427Z"
   },
   {
    "duration": 1340,
    "start_time": "2023-08-30T20:00:06.592Z"
   },
   {
    "duration": 848,
    "start_time": "2023-08-30T20:00:07.934Z"
   },
   {
    "duration": 117,
    "start_time": "2023-08-30T20:00:08.784Z"
   },
   {
    "duration": 34,
    "start_time": "2023-08-30T20:00:08.903Z"
   },
   {
    "duration": 42,
    "start_time": "2023-08-30T20:00:08.938Z"
   },
   {
    "duration": 89,
    "start_time": "2023-08-30T20:00:08.982Z"
   },
   {
    "duration": 100,
    "start_time": "2023-08-30T20:00:09.073Z"
   },
   {
    "duration": 4,
    "start_time": "2023-08-30T20:00:09.175Z"
   },
   {
    "duration": 30,
    "start_time": "2023-08-30T20:00:09.181Z"
   },
   {
    "duration": 31,
    "start_time": "2023-08-30T20:00:09.213Z"
   },
   {
    "duration": 64,
    "start_time": "2023-08-30T20:00:09.246Z"
   },
   {
    "duration": 29,
    "start_time": "2023-08-30T20:00:09.311Z"
   },
   {
    "duration": 28,
    "start_time": "2023-08-30T20:00:09.342Z"
   },
   {
    "duration": 38,
    "start_time": "2023-08-30T20:00:09.372Z"
   },
   {
    "duration": 168,
    "start_time": "2023-08-30T20:00:09.412Z"
   },
   {
    "duration": 20,
    "start_time": "2023-08-30T20:00:09.582Z"
   },
   {
    "duration": 48,
    "start_time": "2023-08-30T20:00:09.603Z"
   },
   {
    "duration": 28,
    "start_time": "2023-08-30T20:00:09.653Z"
   },
   {
    "duration": 31,
    "start_time": "2023-08-30T20:00:09.683Z"
   },
   {
    "duration": 92,
    "start_time": "2023-08-30T20:00:09.715Z"
   },
   {
    "duration": 26,
    "start_time": "2023-08-30T20:00:09.809Z"
   },
   {
    "duration": 32,
    "start_time": "2023-08-30T20:00:09.836Z"
   },
   {
    "duration": 91,
    "start_time": "2023-08-30T20:00:09.869Z"
   },
   {
    "duration": 8,
    "start_time": "2023-08-30T20:00:09.962Z"
   },
   {
    "duration": 27,
    "start_time": "2023-08-30T20:00:09.971Z"
   },
   {
    "duration": 31,
    "start_time": "2023-08-30T20:00:10.000Z"
   },
   {
    "duration": 74,
    "start_time": "2023-08-30T20:00:10.033Z"
   },
   {
    "duration": 5,
    "start_time": "2023-08-30T20:00:10.111Z"
   },
   {
    "duration": 33,
    "start_time": "2023-08-30T20:00:10.118Z"
   },
   {
    "duration": 28,
    "start_time": "2023-08-30T20:00:10.153Z"
   },
   {
    "duration": 288,
    "start_time": "2023-08-30T20:00:10.182Z"
   },
   {
    "duration": 6,
    "start_time": "2023-08-30T20:00:10.472Z"
   },
   {
    "duration": 56,
    "start_time": "2023-08-30T20:00:10.479Z"
   },
   {
    "duration": 11,
    "start_time": "2023-08-30T20:00:10.537Z"
   },
   {
    "duration": 134,
    "start_time": "2023-08-30T20:00:10.550Z"
   },
   {
    "duration": 9,
    "start_time": "2023-08-30T20:00:10.686Z"
   },
   {
    "duration": 44,
    "start_time": "2023-08-30T20:00:10.700Z"
   },
   {
    "duration": 129,
    "start_time": "2023-08-30T20:00:10.746Z"
   },
   {
    "duration": 5,
    "start_time": "2023-08-30T20:00:10.877Z"
   },
   {
    "duration": 55,
    "start_time": "2023-08-30T20:00:10.884Z"
   },
   {
    "duration": 96,
    "start_time": "2023-08-30T20:00:10.941Z"
   },
   {
    "duration": 11,
    "start_time": "2023-08-30T20:00:11.039Z"
   },
   {
    "duration": 45,
    "start_time": "2023-08-30T20:00:11.051Z"
   },
   {
    "duration": 45,
    "start_time": "2023-08-30T20:00:11.098Z"
   },
   {
    "duration": 26,
    "start_time": "2023-08-30T20:00:11.145Z"
   },
   {
    "duration": 56,
    "start_time": "2023-08-30T20:00:11.173Z"
   },
   {
    "duration": 53,
    "start_time": "2023-08-30T20:00:11.231Z"
   },
   {
    "duration": 99,
    "start_time": "2023-08-30T20:00:11.286Z"
   },
   {
    "duration": 75,
    "start_time": "2023-08-30T20:00:11.387Z"
   },
   {
    "duration": 98,
    "start_time": "2023-08-30T20:00:11.463Z"
   },
   {
    "duration": 220,
    "start_time": "2023-08-30T20:00:11.563Z"
   },
   {
    "duration": 75,
    "start_time": "2023-08-30T20:00:11.785Z"
   },
   {
    "duration": 20,
    "start_time": "2023-08-30T20:00:11.861Z"
   },
   {
    "duration": 64,
    "start_time": "2023-08-30T20:00:11.883Z"
   },
   {
    "duration": 151,
    "start_time": "2023-08-30T20:00:11.949Z"
   },
   {
    "duration": 103,
    "start_time": "2023-08-30T20:00:12.101Z"
   },
   {
    "duration": 293,
    "start_time": "2023-08-30T20:00:12.206Z"
   },
   {
    "duration": 163,
    "start_time": "2023-08-30T20:00:12.501Z"
   },
   {
    "duration": 43,
    "start_time": "2023-08-30T20:00:12.666Z"
   },
   {
    "duration": 16,
    "start_time": "2023-08-30T20:00:12.711Z"
   },
   {
    "duration": 46,
    "start_time": "2023-08-30T20:00:12.729Z"
   },
   {
    "duration": 36,
    "start_time": "2023-08-30T20:00:12.777Z"
   },
   {
    "duration": 52,
    "start_time": "2023-08-30T20:00:12.815Z"
   },
   {
    "duration": 81,
    "start_time": "2023-08-30T20:00:12.870Z"
   },
   {
    "duration": 62,
    "start_time": "2023-08-30T20:00:12.953Z"
   },
   {
    "duration": 39,
    "start_time": "2023-08-30T20:00:13.017Z"
   },
   {
    "duration": 28,
    "start_time": "2023-08-30T20:00:13.058Z"
   },
   {
    "duration": 28,
    "start_time": "2023-08-30T20:00:13.088Z"
   },
   {
    "duration": 196,
    "start_time": "2023-08-30T20:00:13.118Z"
   },
   {
    "duration": 8,
    "start_time": "2023-08-30T20:00:13.317Z"
   },
   {
    "duration": 43,
    "start_time": "2023-08-30T20:00:13.327Z"
   },
   {
    "duration": 30,
    "start_time": "2023-08-30T20:00:13.373Z"
   },
   {
    "duration": 35,
    "start_time": "2023-08-30T20:00:13.405Z"
   },
   {
    "duration": 15,
    "start_time": "2023-08-30T20:00:13.442Z"
   },
   {
    "duration": 199,
    "start_time": "2023-08-30T20:00:13.460Z"
   },
   {
    "duration": 12,
    "start_time": "2023-08-30T20:00:13.661Z"
   },
   {
    "duration": 44,
    "start_time": "2023-08-30T20:00:13.675Z"
   },
   {
    "duration": 34,
    "start_time": "2023-08-30T20:00:13.721Z"
   },
   {
    "duration": 288,
    "start_time": "2023-08-30T20:00:13.757Z"
   },
   {
    "duration": 16,
    "start_time": "2023-08-30T20:00:14.047Z"
   },
   {
    "duration": 23,
    "start_time": "2023-08-30T20:00:14.065Z"
   },
   {
    "duration": 36,
    "start_time": "2023-08-30T20:00:14.102Z"
   },
   {
    "duration": 26,
    "start_time": "2023-08-30T20:00:14.140Z"
   },
   {
    "duration": 16,
    "start_time": "2023-08-30T20:00:14.168Z"
   },
   {
    "duration": 329,
    "start_time": "2023-08-30T20:00:14.186Z"
   },
   {
    "duration": 18,
    "start_time": "2023-08-30T20:00:14.517Z"
   },
   {
    "duration": 35,
    "start_time": "2023-08-30T20:00:14.537Z"
   },
   {
    "duration": 85,
    "start_time": "2023-08-30T20:00:14.574Z"
   },
   {
    "duration": 534,
    "start_time": "2023-08-30T20:00:14.661Z"
   },
   {
    "duration": 23,
    "start_time": "2023-08-30T20:00:15.197Z"
   },
   {
    "duration": 197,
    "start_time": "2023-08-30T20:00:15.222Z"
   },
   {
    "duration": 11,
    "start_time": "2023-08-30T20:00:15.421Z"
   },
   {
    "duration": 83,
    "start_time": "2023-08-30T20:00:15.433Z"
   },
   {
    "duration": 56,
    "start_time": "2023-08-30T20:00:15.518Z"
   },
   {
    "duration": 72,
    "start_time": "2023-08-30T20:00:15.576Z"
   },
   {
    "duration": 71,
    "start_time": "2023-08-30T20:00:15.650Z"
   },
   {
    "duration": 3,
    "start_time": "2023-08-30T20:00:21.672Z"
   },
   {
    "duration": 799,
    "start_time": "2023-08-30T20:00:21.677Z"
   },
   {
    "duration": 105,
    "start_time": "2023-08-30T20:00:22.478Z"
   },
   {
    "duration": 43,
    "start_time": "2023-08-30T20:00:22.585Z"
   },
   {
    "duration": 47,
    "start_time": "2023-08-30T20:00:22.631Z"
   },
   {
    "duration": 35,
    "start_time": "2023-08-30T20:00:22.680Z"
   },
   {
    "duration": 77,
    "start_time": "2023-08-30T20:00:22.717Z"
   },
   {
    "duration": 4,
    "start_time": "2023-08-30T20:00:22.796Z"
   },
   {
    "duration": 16,
    "start_time": "2023-08-30T20:00:22.802Z"
   },
   {
    "duration": 15,
    "start_time": "2023-08-30T20:00:22.820Z"
   },
   {
    "duration": 5,
    "start_time": "2023-08-30T20:00:22.837Z"
   },
   {
    "duration": 6,
    "start_time": "2023-08-30T20:00:22.844Z"
   },
   {
    "duration": 9,
    "start_time": "2023-08-30T20:00:22.852Z"
   },
   {
    "duration": 20,
    "start_time": "2023-08-30T20:00:22.864Z"
   },
   {
    "duration": 151,
    "start_time": "2023-08-30T20:00:22.886Z"
   },
   {
    "duration": 23,
    "start_time": "2023-08-30T20:00:23.038Z"
   },
   {
    "duration": 10,
    "start_time": "2023-08-30T20:00:23.062Z"
   },
   {
    "duration": 28,
    "start_time": "2023-08-30T20:00:23.074Z"
   },
   {
    "duration": 23,
    "start_time": "2023-08-30T20:00:23.104Z"
   },
   {
    "duration": 18,
    "start_time": "2023-08-30T20:00:23.129Z"
   },
   {
    "duration": 8,
    "start_time": "2023-08-30T20:00:23.149Z"
   },
   {
    "duration": 19,
    "start_time": "2023-08-30T20:00:23.159Z"
   },
   {
    "duration": 87,
    "start_time": "2023-08-30T20:00:23.180Z"
   },
   {
    "duration": 8,
    "start_time": "2023-08-30T20:00:23.268Z"
   },
   {
    "duration": 11,
    "start_time": "2023-08-30T20:00:23.278Z"
   },
   {
    "duration": 9,
    "start_time": "2023-08-30T20:00:23.291Z"
   },
   {
    "duration": 59,
    "start_time": "2023-08-30T20:00:23.301Z"
   },
   {
    "duration": 5,
    "start_time": "2023-08-30T20:00:23.362Z"
   },
   {
    "duration": 32,
    "start_time": "2023-08-30T20:00:23.369Z"
   },
   {
    "duration": 8,
    "start_time": "2023-08-30T20:00:23.403Z"
   },
   {
    "duration": 283,
    "start_time": "2023-08-30T20:00:23.413Z"
   },
   {
    "duration": 6,
    "start_time": "2023-08-30T20:00:23.701Z"
   },
   {
    "duration": 41,
    "start_time": "2023-08-30T20:00:23.709Z"
   },
   {
    "duration": 12,
    "start_time": "2023-08-30T20:00:23.751Z"
   },
   {
    "duration": 124,
    "start_time": "2023-08-30T20:00:23.764Z"
   },
   {
    "duration": 16,
    "start_time": "2023-08-30T20:00:23.890Z"
   },
   {
    "duration": 28,
    "start_time": "2023-08-30T20:00:23.908Z"
   },
   {
    "duration": 137,
    "start_time": "2023-08-30T20:00:23.938Z"
   },
   {
    "duration": 5,
    "start_time": "2023-08-30T20:00:24.076Z"
   },
   {
    "duration": 24,
    "start_time": "2023-08-30T20:00:24.082Z"
   },
   {
    "duration": 35,
    "start_time": "2023-08-30T20:00:24.112Z"
   },
   {
    "duration": 9,
    "start_time": "2023-08-30T20:00:24.149Z"
   },
   {
    "duration": 28,
    "start_time": "2023-08-30T20:00:24.160Z"
   },
   {
    "duration": 13,
    "start_time": "2023-08-30T20:00:24.190Z"
   },
   {
    "duration": 35,
    "start_time": "2023-08-30T20:00:24.204Z"
   },
   {
    "duration": 17,
    "start_time": "2023-08-30T20:00:24.241Z"
   },
   {
    "duration": 46,
    "start_time": "2023-08-30T20:00:24.260Z"
   },
   {
    "duration": 23,
    "start_time": "2023-08-30T20:00:24.308Z"
   },
   {
    "duration": 21,
    "start_time": "2023-08-30T20:00:24.333Z"
   },
   {
    "duration": 22,
    "start_time": "2023-08-30T20:00:24.356Z"
   },
   {
    "duration": 44,
    "start_time": "2023-08-30T20:00:24.380Z"
   },
   {
    "duration": 75,
    "start_time": "2023-08-30T20:00:24.426Z"
   },
   {
    "duration": 23,
    "start_time": "2023-08-30T20:00:24.502Z"
   },
   {
    "duration": 33,
    "start_time": "2023-08-30T20:00:24.527Z"
   },
   {
    "duration": 160,
    "start_time": "2023-08-30T20:00:24.562Z"
   },
   {
    "duration": 121,
    "start_time": "2023-08-30T20:00:24.725Z"
   },
   {
    "duration": 293,
    "start_time": "2023-08-30T20:00:24.848Z"
   },
   {
    "duration": 159,
    "start_time": "2023-08-30T20:00:25.142Z"
   },
   {
    "duration": 31,
    "start_time": "2023-08-30T20:00:25.303Z"
   },
   {
    "duration": 19,
    "start_time": "2023-08-30T20:00:25.336Z"
   },
   {
    "duration": 24,
    "start_time": "2023-08-30T20:00:25.356Z"
   },
   {
    "duration": 20,
    "start_time": "2023-08-30T20:00:25.382Z"
   },
   {
    "duration": 19,
    "start_time": "2023-08-30T20:00:25.404Z"
   },
   {
    "duration": 36,
    "start_time": "2023-08-30T20:00:25.425Z"
   },
   {
    "duration": 54,
    "start_time": "2023-08-30T20:00:25.462Z"
   },
   {
    "duration": 16,
    "start_time": "2023-08-30T20:00:25.518Z"
   },
   {
    "duration": 16,
    "start_time": "2023-08-30T20:00:25.536Z"
   },
   {
    "duration": 11,
    "start_time": "2023-08-30T20:00:25.554Z"
   },
   {
    "duration": 138,
    "start_time": "2023-08-30T20:00:25.567Z"
   },
   {
    "duration": 7,
    "start_time": "2023-08-30T20:00:25.708Z"
   },
   {
    "duration": 26,
    "start_time": "2023-08-30T20:00:25.717Z"
   },
   {
    "duration": 14,
    "start_time": "2023-08-30T20:00:25.745Z"
   },
   {
    "duration": 44,
    "start_time": "2023-08-30T20:00:25.760Z"
   },
   {
    "duration": 15,
    "start_time": "2023-08-30T20:00:25.806Z"
   },
   {
    "duration": 199,
    "start_time": "2023-08-30T20:00:25.823Z"
   },
   {
    "duration": 12,
    "start_time": "2023-08-30T20:00:26.024Z"
   },
   {
    "duration": 18,
    "start_time": "2023-08-30T20:00:26.038Z"
   },
   {
    "duration": 9,
    "start_time": "2023-08-30T20:00:26.058Z"
   },
   {
    "duration": 371,
    "start_time": "2023-08-30T20:00:26.068Z"
   },
   {
    "duration": 17,
    "start_time": "2023-08-30T20:00:26.441Z"
   },
   {
    "duration": 14,
    "start_time": "2023-08-30T20:00:26.459Z"
   },
   {
    "duration": 42,
    "start_time": "2023-08-30T20:00:26.475Z"
   },
   {
    "duration": 16,
    "start_time": "2023-08-30T20:00:26.519Z"
   },
   {
    "duration": 7,
    "start_time": "2023-08-30T20:00:26.537Z"
   },
   {
    "duration": 256,
    "start_time": "2023-08-30T20:00:26.546Z"
   },
   {
    "duration": 18,
    "start_time": "2023-08-30T20:00:26.805Z"
   },
   {
    "duration": 27,
    "start_time": "2023-08-30T20:00:26.826Z"
   },
   {
    "duration": 9,
    "start_time": "2023-08-30T20:00:26.854Z"
   },
   {
    "duration": 68,
    "start_time": "2023-08-30T20:00:26.864Z"
   },
   {
    "duration": 27,
    "start_time": "2023-08-30T20:00:26.934Z"
   },
   {
    "duration": 143,
    "start_time": "2023-08-30T20:00:26.963Z"
   },
   {
    "duration": 13,
    "start_time": "2023-08-30T20:00:27.108Z"
   },
   {
    "duration": 8,
    "start_time": "2023-08-30T20:00:27.123Z"
   },
   {
    "duration": 33,
    "start_time": "2023-08-30T20:00:27.133Z"
   },
   {
    "duration": 27,
    "start_time": "2023-08-30T20:00:27.167Z"
   },
   {
    "duration": 22,
    "start_time": "2023-08-30T20:00:27.196Z"
   },
   {
    "duration": 1359,
    "start_time": "2023-08-31T03:56:56.365Z"
   },
   {
    "duration": 913,
    "start_time": "2023-08-31T03:56:57.726Z"
   },
   {
    "duration": 83,
    "start_time": "2023-08-31T03:56:58.641Z"
   },
   {
    "duration": 42,
    "start_time": "2023-08-31T03:56:58.726Z"
   },
   {
    "duration": 35,
    "start_time": "2023-08-31T03:56:58.770Z"
   },
   {
    "duration": 29,
    "start_time": "2023-08-31T03:56:58.806Z"
   },
   {
    "duration": 160,
    "start_time": "2023-08-31T03:56:58.837Z"
   },
   {
    "duration": 4,
    "start_time": "2023-08-31T03:56:58.999Z"
   },
   {
    "duration": 8,
    "start_time": "2023-08-31T03:56:59.004Z"
   },
   {
    "duration": 4,
    "start_time": "2023-08-31T03:56:59.014Z"
   },
   {
    "duration": 21,
    "start_time": "2023-08-31T03:56:59.020Z"
   },
   {
    "duration": 16,
    "start_time": "2023-08-31T03:56:59.043Z"
   },
   {
    "duration": 10,
    "start_time": "2023-08-31T03:56:59.060Z"
   },
   {
    "duration": 4,
    "start_time": "2023-08-31T03:56:59.072Z"
   },
   {
    "duration": 177,
    "start_time": "2023-08-31T03:56:59.078Z"
   },
   {
    "duration": 17,
    "start_time": "2023-08-31T03:56:59.256Z"
   },
   {
    "duration": 7,
    "start_time": "2023-08-31T03:56:59.274Z"
   },
   {
    "duration": 7,
    "start_time": "2023-08-31T03:56:59.283Z"
   },
   {
    "duration": 11,
    "start_time": "2023-08-31T03:56:59.292Z"
   },
   {
    "duration": 6,
    "start_time": "2023-08-31T03:56:59.305Z"
   },
   {
    "duration": 6,
    "start_time": "2023-08-31T03:56:59.313Z"
   },
   {
    "duration": 9,
    "start_time": "2023-08-31T03:56:59.350Z"
   },
   {
    "duration": 141,
    "start_time": "2023-08-31T03:56:59.361Z"
   },
   {
    "duration": 8,
    "start_time": "2023-08-31T03:56:59.504Z"
   },
   {
    "duration": 5,
    "start_time": "2023-08-31T03:56:59.513Z"
   },
   {
    "duration": 6,
    "start_time": "2023-08-31T03:56:59.520Z"
   },
   {
    "duration": 57,
    "start_time": "2023-08-31T03:56:59.528Z"
   },
   {
    "duration": 5,
    "start_time": "2023-08-31T03:56:59.589Z"
   },
   {
    "duration": 35,
    "start_time": "2023-08-31T03:56:59.596Z"
   },
   {
    "duration": 10,
    "start_time": "2023-08-31T03:56:59.633Z"
   },
   {
    "duration": 221,
    "start_time": "2023-08-31T03:56:59.645Z"
   },
   {
    "duration": 6,
    "start_time": "2023-08-31T03:56:59.868Z"
   },
   {
    "duration": 28,
    "start_time": "2023-08-31T03:56:59.876Z"
   },
   {
    "duration": 8,
    "start_time": "2023-08-31T03:56:59.906Z"
   },
   {
    "duration": 127,
    "start_time": "2023-08-31T03:56:59.915Z"
   },
   {
    "duration": 14,
    "start_time": "2023-08-31T03:57:00.043Z"
   },
   {
    "duration": 43,
    "start_time": "2023-08-31T03:57:00.059Z"
   },
   {
    "duration": 142,
    "start_time": "2023-08-31T03:57:00.103Z"
   },
   {
    "duration": 4,
    "start_time": "2023-08-31T03:57:00.247Z"
   },
   {
    "duration": 16,
    "start_time": "2023-08-31T03:57:00.253Z"
   },
   {
    "duration": 60,
    "start_time": "2023-08-31T03:57:00.271Z"
   },
   {
    "duration": 6,
    "start_time": "2023-08-31T03:57:00.332Z"
   },
   {
    "duration": 41,
    "start_time": "2023-08-31T03:57:00.339Z"
   },
   {
    "duration": 29,
    "start_time": "2023-08-31T03:57:00.381Z"
   },
   {
    "duration": 22,
    "start_time": "2023-08-31T03:57:00.411Z"
   },
   {
    "duration": 35,
    "start_time": "2023-08-31T03:57:00.434Z"
   },
   {
    "duration": 53,
    "start_time": "2023-08-31T03:57:00.471Z"
   },
   {
    "duration": 31,
    "start_time": "2023-08-31T03:57:00.526Z"
   },
   {
    "duration": 46,
    "start_time": "2023-08-31T03:57:00.558Z"
   },
   {
    "duration": 42,
    "start_time": "2023-08-31T03:57:00.606Z"
   },
   {
    "duration": 48,
    "start_time": "2023-08-31T03:57:00.650Z"
   },
   {
    "duration": 62,
    "start_time": "2023-08-31T03:57:00.700Z"
   },
   {
    "duration": 20,
    "start_time": "2023-08-31T03:57:00.763Z"
   },
   {
    "duration": 23,
    "start_time": "2023-08-31T03:57:00.785Z"
   },
   {
    "duration": 138,
    "start_time": "2023-08-31T03:57:00.810Z"
   },
   {
    "duration": 86,
    "start_time": "2023-08-31T03:57:00.950Z"
   },
   {
    "duration": 251,
    "start_time": "2023-08-31T03:57:01.037Z"
   },
   {
    "duration": 118,
    "start_time": "2023-08-31T03:57:01.290Z"
   },
   {
    "duration": 26,
    "start_time": "2023-08-31T03:57:01.410Z"
   },
   {
    "duration": 63,
    "start_time": "2023-08-31T03:57:01.437Z"
   },
   {
    "duration": 58,
    "start_time": "2023-08-31T03:57:01.502Z"
   },
   {
    "duration": 19,
    "start_time": "2023-08-31T03:57:01.562Z"
   },
   {
    "duration": 33,
    "start_time": "2023-08-31T03:57:01.583Z"
   },
   {
    "duration": 53,
    "start_time": "2023-08-31T03:57:01.618Z"
   },
   {
    "duration": 44,
    "start_time": "2023-08-31T03:57:01.673Z"
   },
   {
    "duration": 38,
    "start_time": "2023-08-31T03:57:01.719Z"
   },
   {
    "duration": 37,
    "start_time": "2023-08-31T03:57:01.759Z"
   },
   {
    "duration": 30,
    "start_time": "2023-08-31T03:57:01.798Z"
   },
   {
    "duration": 132,
    "start_time": "2023-08-31T03:57:01.829Z"
   },
   {
    "duration": 7,
    "start_time": "2023-08-31T03:57:01.963Z"
   },
   {
    "duration": 42,
    "start_time": "2023-08-31T03:57:01.972Z"
   },
   {
    "duration": 17,
    "start_time": "2023-08-31T03:57:02.016Z"
   },
   {
    "duration": 68,
    "start_time": "2023-08-31T03:57:02.035Z"
   },
   {
    "duration": 25,
    "start_time": "2023-08-31T03:57:02.104Z"
   },
   {
    "duration": 168,
    "start_time": "2023-08-31T03:57:02.131Z"
   },
   {
    "duration": 15,
    "start_time": "2023-08-31T03:57:02.301Z"
   },
   {
    "duration": 24,
    "start_time": "2023-08-31T03:57:02.318Z"
   },
   {
    "duration": 9,
    "start_time": "2023-08-31T03:57:02.344Z"
   },
   {
    "duration": 243,
    "start_time": "2023-08-31T03:57:02.355Z"
   },
   {
    "duration": 12,
    "start_time": "2023-08-31T03:57:02.599Z"
   },
   {
    "duration": 18,
    "start_time": "2023-08-31T03:57:02.613Z"
   },
   {
    "duration": 30,
    "start_time": "2023-08-31T03:57:02.635Z"
   },
   {
    "duration": 15,
    "start_time": "2023-08-31T03:57:02.667Z"
   },
   {
    "duration": 7,
    "start_time": "2023-08-31T03:57:02.684Z"
   },
   {
    "duration": 229,
    "start_time": "2023-08-31T03:57:02.692Z"
   },
   {
    "duration": 15,
    "start_time": "2023-08-31T03:57:02.922Z"
   },
   {
    "duration": 21,
    "start_time": "2023-08-31T03:57:02.952Z"
   },
   {
    "duration": 12,
    "start_time": "2023-08-31T03:57:02.975Z"
   },
   {
    "duration": 807,
    "start_time": "2023-08-31T03:57:02.989Z"
   },
   {
    "duration": 20,
    "start_time": "2023-08-31T03:57:03.797Z"
   },
   {
    "duration": 174,
    "start_time": "2023-08-31T03:57:03.818Z"
   },
   {
    "duration": 10,
    "start_time": "2023-08-31T03:57:03.993Z"
   },
   {
    "duration": 7,
    "start_time": "2023-08-31T03:57:04.004Z"
   },
   {
    "duration": 12,
    "start_time": "2023-08-31T03:57:04.012Z"
   },
   {
    "duration": 7,
    "start_time": "2023-08-31T03:57:04.025Z"
   },
   {
    "duration": 6,
    "start_time": "2023-08-31T03:57:04.049Z"
   },
   {
    "duration": 4,
    "start_time": "2023-08-31T04:00:05.521Z"
   },
   {
    "duration": 8,
    "start_time": "2023-08-31T04:00:10.521Z"
   },
   {
    "duration": 8,
    "start_time": "2023-08-31T04:00:18.929Z"
   },
   {
    "duration": 1690,
    "start_time": "2023-08-31T17:01:41.244Z"
   },
   {
    "duration": 1138,
    "start_time": "2023-08-31T17:01:42.937Z"
   },
   {
    "duration": 115,
    "start_time": "2023-08-31T17:01:44.076Z"
   },
   {
    "duration": 47,
    "start_time": "2023-08-31T17:01:44.193Z"
   },
   {
    "duration": 38,
    "start_time": "2023-08-31T17:01:44.242Z"
   },
   {
    "duration": 52,
    "start_time": "2023-08-31T17:01:44.282Z"
   },
   {
    "duration": 97,
    "start_time": "2023-08-31T17:01:44.336Z"
   },
   {
    "duration": 5,
    "start_time": "2023-08-31T17:01:44.434Z"
   },
   {
    "duration": 7,
    "start_time": "2023-08-31T17:01:44.441Z"
   },
   {
    "duration": 6,
    "start_time": "2023-08-31T17:01:44.449Z"
   },
   {
    "duration": 7,
    "start_time": "2023-08-31T17:01:44.456Z"
   },
   {
    "duration": 6,
    "start_time": "2023-08-31T17:01:44.465Z"
   },
   {
    "duration": 5,
    "start_time": "2023-08-31T17:01:44.473Z"
   },
   {
    "duration": 4,
    "start_time": "2023-08-31T17:01:44.481Z"
   },
   {
    "duration": 206,
    "start_time": "2023-08-31T17:01:44.515Z"
   },
   {
    "duration": 21,
    "start_time": "2023-08-31T17:01:44.724Z"
   },
   {
    "duration": 9,
    "start_time": "2023-08-31T17:01:44.747Z"
   },
   {
    "duration": 10,
    "start_time": "2023-08-31T17:01:44.757Z"
   },
   {
    "duration": 11,
    "start_time": "2023-08-31T17:01:44.768Z"
   },
   {
    "duration": 9,
    "start_time": "2023-08-31T17:01:44.817Z"
   },
   {
    "duration": 7,
    "start_time": "2023-08-31T17:01:44.828Z"
   },
   {
    "duration": 11,
    "start_time": "2023-08-31T17:01:44.836Z"
   },
   {
    "duration": 112,
    "start_time": "2023-08-31T17:01:44.848Z"
   },
   {
    "duration": 7,
    "start_time": "2023-08-31T17:01:44.962Z"
   },
   {
    "duration": 18,
    "start_time": "2023-08-31T17:01:44.971Z"
   },
   {
    "duration": 113,
    "start_time": "2023-08-31T17:01:44.990Z"
   },
   {
    "duration": 78,
    "start_time": "2023-08-31T17:01:45.104Z"
   },
   {
    "duration": 5,
    "start_time": "2023-08-31T17:01:45.184Z"
   },
   {
    "duration": 36,
    "start_time": "2023-08-31T17:01:45.191Z"
   },
   {
    "duration": 23,
    "start_time": "2023-08-31T17:01:45.230Z"
   },
   {
    "duration": 319,
    "start_time": "2023-08-31T17:01:45.256Z"
   },
   {
    "duration": 6,
    "start_time": "2023-08-31T17:01:45.577Z"
   },
   {
    "duration": 52,
    "start_time": "2023-08-31T17:01:45.584Z"
   },
   {
    "duration": 10,
    "start_time": "2023-08-31T17:01:45.638Z"
   },
   {
    "duration": 131,
    "start_time": "2023-08-31T17:01:45.650Z"
   },
   {
    "duration": 10,
    "start_time": "2023-08-31T17:01:45.783Z"
   },
   {
    "duration": 42,
    "start_time": "2023-08-31T17:01:45.795Z"
   },
   {
    "duration": 140,
    "start_time": "2023-08-31T17:01:45.839Z"
   },
   {
    "duration": 5,
    "start_time": "2023-08-31T17:01:45.981Z"
   },
   {
    "duration": 35,
    "start_time": "2023-08-31T17:01:45.988Z"
   },
   {
    "duration": 57,
    "start_time": "2023-08-31T17:01:46.030Z"
   },
   {
    "duration": 7,
    "start_time": "2023-08-31T17:01:46.088Z"
   },
   {
    "duration": 6,
    "start_time": "2023-08-31T17:01:46.097Z"
   },
   {
    "duration": 23,
    "start_time": "2023-08-31T17:01:46.105Z"
   },
   {
    "duration": 30,
    "start_time": "2023-08-31T17:01:46.131Z"
   },
   {
    "duration": 9,
    "start_time": "2023-08-31T17:01:46.163Z"
   },
   {
    "duration": 9,
    "start_time": "2023-08-31T17:01:46.175Z"
   },
   {
    "duration": 8,
    "start_time": "2023-08-31T17:01:46.186Z"
   },
   {
    "duration": 8,
    "start_time": "2023-08-31T17:01:46.195Z"
   },
   {
    "duration": 21,
    "start_time": "2023-08-31T17:01:46.204Z"
   },
   {
    "duration": 20,
    "start_time": "2023-08-31T17:01:46.227Z"
   },
   {
    "duration": 58,
    "start_time": "2023-08-31T17:01:46.249Z"
   },
   {
    "duration": 29,
    "start_time": "2023-08-31T17:01:46.308Z"
   },
   {
    "duration": 16,
    "start_time": "2023-08-31T17:01:46.338Z"
   },
   {
    "duration": 149,
    "start_time": "2023-08-31T17:01:46.355Z"
   },
   {
    "duration": 123,
    "start_time": "2023-08-31T17:01:46.506Z"
   },
   {
    "duration": 339,
    "start_time": "2023-08-31T17:01:46.631Z"
   },
   {
    "duration": 155,
    "start_time": "2023-08-31T17:01:46.972Z"
   },
   {
    "duration": 32,
    "start_time": "2023-08-31T17:01:47.129Z"
   },
   {
    "duration": 15,
    "start_time": "2023-08-31T17:01:47.163Z"
   },
   {
    "duration": 48,
    "start_time": "2023-08-31T17:01:47.179Z"
   },
   {
    "duration": 10,
    "start_time": "2023-08-31T17:01:47.229Z"
   },
   {
    "duration": 52,
    "start_time": "2023-08-31T17:01:47.240Z"
   },
   {
    "duration": 40,
    "start_time": "2023-08-31T17:01:47.294Z"
   },
   {
    "duration": 59,
    "start_time": "2023-08-31T17:01:47.336Z"
   },
   {
    "duration": 25,
    "start_time": "2023-08-31T17:01:47.397Z"
   },
   {
    "duration": 17,
    "start_time": "2023-08-31T17:01:47.424Z"
   },
   {
    "duration": 10,
    "start_time": "2023-08-31T17:01:47.443Z"
   },
   {
    "duration": 135,
    "start_time": "2023-08-31T17:01:47.455Z"
   },
   {
    "duration": 7,
    "start_time": "2023-08-31T17:01:47.592Z"
   },
   {
    "duration": 26,
    "start_time": "2023-08-31T17:01:47.611Z"
   },
   {
    "duration": 12,
    "start_time": "2023-08-31T17:01:47.639Z"
   },
   {
    "duration": 18,
    "start_time": "2023-08-31T17:01:47.653Z"
   },
   {
    "duration": 14,
    "start_time": "2023-08-31T17:01:47.672Z"
   },
   {
    "duration": 215,
    "start_time": "2023-08-31T17:01:47.710Z"
   },
   {
    "duration": 11,
    "start_time": "2023-08-31T17:01:47.927Z"
   },
   {
    "duration": 10,
    "start_time": "2023-08-31T17:01:47.940Z"
   },
   {
    "duration": 8,
    "start_time": "2023-08-31T17:01:47.952Z"
   },
   {
    "duration": 278,
    "start_time": "2023-08-31T17:01:47.961Z"
   },
   {
    "duration": 14,
    "start_time": "2023-08-31T17:01:48.241Z"
   },
   {
    "duration": 12,
    "start_time": "2023-08-31T17:01:48.257Z"
   },
   {
    "duration": 48,
    "start_time": "2023-08-31T17:01:48.270Z"
   },
   {
    "duration": 19,
    "start_time": "2023-08-31T17:01:48.320Z"
   },
   {
    "duration": 8,
    "start_time": "2023-08-31T17:01:48.341Z"
   },
   {
    "duration": 287,
    "start_time": "2023-08-31T17:01:48.351Z"
   },
   {
    "duration": 18,
    "start_time": "2023-08-31T17:01:48.640Z"
   },
   {
    "duration": 15,
    "start_time": "2023-08-31T17:01:48.660Z"
   },
   {
    "duration": 25,
    "start_time": "2023-08-31T17:01:48.677Z"
   },
   {
    "duration": 515,
    "start_time": "2023-08-31T17:01:48.709Z"
   },
   {
    "duration": 23,
    "start_time": "2023-08-31T17:01:49.226Z"
   },
   {
    "duration": 217,
    "start_time": "2023-08-31T17:01:49.251Z"
   },
   {
    "duration": 10,
    "start_time": "2023-08-31T17:01:49.470Z"
   },
   {
    "duration": 12,
    "start_time": "2023-08-31T17:01:49.482Z"
   },
   {
    "duration": 33,
    "start_time": "2023-08-31T17:01:49.496Z"
   },
   {
    "duration": 15,
    "start_time": "2023-08-31T17:01:49.531Z"
   },
   {
    "duration": 16,
    "start_time": "2023-08-31T17:01:49.548Z"
   },
   {
    "duration": 1529,
    "start_time": "2023-09-13T13:33:01.021Z"
   },
   {
    "duration": 2015,
    "start_time": "2023-09-13T13:33:02.552Z"
   },
   {
    "duration": 121,
    "start_time": "2023-09-13T13:33:04.569Z"
   },
   {
    "duration": 40,
    "start_time": "2023-09-13T13:33:04.692Z"
   },
   {
    "duration": 49,
    "start_time": "2023-09-13T13:33:04.734Z"
   },
   {
    "duration": 29,
    "start_time": "2023-09-13T13:33:04.785Z"
   },
   {
    "duration": 62,
    "start_time": "2023-09-13T13:33:04.816Z"
   },
   {
    "duration": 4,
    "start_time": "2023-09-13T13:33:04.880Z"
   },
   {
    "duration": 5,
    "start_time": "2023-09-13T13:33:04.886Z"
   },
   {
    "duration": 5,
    "start_time": "2023-09-13T13:33:04.894Z"
   },
   {
    "duration": 8,
    "start_time": "2023-09-13T13:33:04.901Z"
   },
   {
    "duration": 25,
    "start_time": "2023-09-13T13:33:04.910Z"
   },
   {
    "duration": 33,
    "start_time": "2023-09-13T13:33:04.936Z"
   },
   {
    "duration": 7,
    "start_time": "2023-09-13T13:33:04.970Z"
   },
   {
    "duration": 182,
    "start_time": "2023-09-13T13:33:04.978Z"
   },
   {
    "duration": 22,
    "start_time": "2023-09-13T13:33:05.162Z"
   },
   {
    "duration": 9,
    "start_time": "2023-09-13T13:33:05.186Z"
   },
   {
    "duration": 13,
    "start_time": "2023-09-13T13:33:05.197Z"
   },
   {
    "duration": 22,
    "start_time": "2023-09-13T13:33:05.211Z"
   },
   {
    "duration": 19,
    "start_time": "2023-09-13T13:33:05.234Z"
   },
   {
    "duration": 15,
    "start_time": "2023-09-13T13:33:05.254Z"
   },
   {
    "duration": 29,
    "start_time": "2023-09-13T13:33:05.271Z"
   },
   {
    "duration": 137,
    "start_time": "2023-09-13T13:33:05.302Z"
   },
   {
    "duration": 8,
    "start_time": "2023-09-13T13:33:05.440Z"
   },
   {
    "duration": 25,
    "start_time": "2023-09-13T13:33:05.449Z"
   },
   {
    "duration": 34,
    "start_time": "2023-09-13T13:33:05.476Z"
   },
   {
    "duration": 192,
    "start_time": "2023-09-13T13:33:05.512Z"
   },
   {
    "duration": 6,
    "start_time": "2023-09-13T13:33:05.708Z"
   },
   {
    "duration": 32,
    "start_time": "2023-09-13T13:33:05.716Z"
   },
   {
    "duration": 18,
    "start_time": "2023-09-13T13:33:05.749Z"
   },
   {
    "duration": 304,
    "start_time": "2023-09-13T13:33:05.769Z"
   },
   {
    "duration": 6,
    "start_time": "2023-09-13T13:33:06.076Z"
   },
   {
    "duration": 92,
    "start_time": "2023-09-13T13:33:06.084Z"
   },
   {
    "duration": 16,
    "start_time": "2023-09-13T13:33:06.178Z"
   },
   {
    "duration": 143,
    "start_time": "2023-09-13T13:33:06.196Z"
   },
   {
    "duration": 44,
    "start_time": "2023-09-13T13:33:06.341Z"
   },
   {
    "duration": 32,
    "start_time": "2023-09-13T13:33:06.386Z"
   },
   {
    "duration": 131,
    "start_time": "2023-09-13T13:33:06.420Z"
   },
   {
    "duration": 6,
    "start_time": "2023-09-13T13:33:06.552Z"
   },
   {
    "duration": 67,
    "start_time": "2023-09-13T13:33:06.566Z"
   },
   {
    "duration": 85,
    "start_time": "2023-09-13T13:33:06.634Z"
   },
   {
    "duration": 7,
    "start_time": "2023-09-13T13:33:06.721Z"
   },
   {
    "duration": 12,
    "start_time": "2023-09-13T13:33:06.729Z"
   },
   {
    "duration": 27,
    "start_time": "2023-09-13T13:33:06.743Z"
   },
   {
    "duration": 29,
    "start_time": "2023-09-13T13:33:06.771Z"
   },
   {
    "duration": 31,
    "start_time": "2023-09-13T13:33:06.802Z"
   },
   {
    "duration": 30,
    "start_time": "2023-09-13T13:33:06.834Z"
   },
   {
    "duration": 14,
    "start_time": "2023-09-13T13:33:06.865Z"
   },
   {
    "duration": 8,
    "start_time": "2023-09-13T13:33:06.880Z"
   },
   {
    "duration": 43,
    "start_time": "2023-09-13T13:33:06.889Z"
   },
   {
    "duration": 28,
    "start_time": "2023-09-13T13:33:06.934Z"
   },
   {
    "duration": 52,
    "start_time": "2023-09-13T13:33:06.964Z"
   },
   {
    "duration": 20,
    "start_time": "2023-09-13T13:33:07.017Z"
   },
   {
    "duration": 15,
    "start_time": "2023-09-13T13:33:07.038Z"
   },
   {
    "duration": 144,
    "start_time": "2023-09-13T13:33:07.055Z"
   },
   {
    "duration": 119,
    "start_time": "2023-09-13T13:33:07.201Z"
   },
   {
    "duration": 293,
    "start_time": "2023-09-13T13:33:07.321Z"
   },
   {
    "duration": 147,
    "start_time": "2023-09-13T13:33:07.615Z"
   },
   {
    "duration": 34,
    "start_time": "2023-09-13T13:33:07.767Z"
   },
   {
    "duration": 17,
    "start_time": "2023-09-13T13:33:07.803Z"
   },
   {
    "duration": 37,
    "start_time": "2023-09-13T13:33:07.821Z"
   },
   {
    "duration": 32,
    "start_time": "2023-09-13T13:33:07.860Z"
   },
   {
    "duration": 47,
    "start_time": "2023-09-13T13:33:07.893Z"
   },
   {
    "duration": 43,
    "start_time": "2023-09-13T13:33:07.941Z"
   },
   {
    "duration": 46,
    "start_time": "2023-09-13T13:33:07.985Z"
   },
   {
    "duration": 20,
    "start_time": "2023-09-13T13:33:08.032Z"
   },
   {
    "duration": 22,
    "start_time": "2023-09-13T13:33:08.053Z"
   },
   {
    "duration": 10,
    "start_time": "2023-09-13T13:33:08.077Z"
   },
   {
    "duration": 133,
    "start_time": "2023-09-13T13:33:08.088Z"
   },
   {
    "duration": 8,
    "start_time": "2023-09-13T13:33:08.223Z"
   },
   {
    "duration": 28,
    "start_time": "2023-09-13T13:33:08.232Z"
   },
   {
    "duration": 42,
    "start_time": "2023-09-13T13:33:08.267Z"
   },
   {
    "duration": 49,
    "start_time": "2023-09-13T13:33:08.311Z"
   },
   {
    "duration": 22,
    "start_time": "2023-09-13T13:33:08.361Z"
   },
   {
    "duration": 171,
    "start_time": "2023-09-13T13:33:08.385Z"
   },
   {
    "duration": 18,
    "start_time": "2023-09-13T13:33:08.558Z"
   },
   {
    "duration": 19,
    "start_time": "2023-09-13T13:33:08.578Z"
   },
   {
    "duration": 42,
    "start_time": "2023-09-13T13:33:08.598Z"
   },
   {
    "duration": 268,
    "start_time": "2023-09-13T13:33:08.642Z"
   },
   {
    "duration": 15,
    "start_time": "2023-09-13T13:33:08.912Z"
   },
   {
    "duration": 27,
    "start_time": "2023-09-13T13:33:08.928Z"
   },
   {
    "duration": 32,
    "start_time": "2023-09-13T13:33:08.966Z"
   },
   {
    "duration": 42,
    "start_time": "2023-09-13T13:33:08.999Z"
   },
   {
    "duration": 11,
    "start_time": "2023-09-13T13:33:09.043Z"
   },
   {
    "duration": 265,
    "start_time": "2023-09-13T13:33:09.056Z"
   },
   {
    "duration": 18,
    "start_time": "2023-09-13T13:33:09.322Z"
   },
   {
    "duration": 28,
    "start_time": "2023-09-13T13:33:09.342Z"
   },
   {
    "duration": 6,
    "start_time": "2023-09-13T13:33:09.372Z"
   },
   {
    "duration": 502,
    "start_time": "2023-09-13T13:33:09.380Z"
   },
   {
    "duration": 25,
    "start_time": "2023-09-13T13:33:09.884Z"
   },
   {
    "duration": 231,
    "start_time": "2023-09-13T13:33:09.911Z"
   },
   {
    "duration": 29,
    "start_time": "2023-09-13T13:33:10.144Z"
   },
   {
    "duration": 19,
    "start_time": "2023-09-13T13:33:10.174Z"
   },
   {
    "duration": 46,
    "start_time": "2023-09-13T13:33:10.195Z"
   },
   {
    "duration": 29,
    "start_time": "2023-09-13T13:33:10.242Z"
   },
   {
    "duration": 36,
    "start_time": "2023-09-13T13:33:10.272Z"
   },
   {
    "duration": 1352,
    "start_time": "2023-09-13T13:34:02.978Z"
   },
   {
    "duration": 915,
    "start_time": "2023-09-13T13:34:04.332Z"
   },
   {
    "duration": 106,
    "start_time": "2023-09-13T13:34:05.249Z"
   },
   {
    "duration": 43,
    "start_time": "2023-09-13T13:34:05.357Z"
   },
   {
    "duration": 99,
    "start_time": "2023-09-13T13:34:05.401Z"
   },
   {
    "duration": 50,
    "start_time": "2023-09-13T13:34:05.502Z"
   },
   {
    "duration": 89,
    "start_time": "2023-09-13T13:34:05.554Z"
   },
   {
    "duration": 4,
    "start_time": "2023-09-13T13:34:05.644Z"
   },
   {
    "duration": 31,
    "start_time": "2023-09-13T13:34:05.650Z"
   },
   {
    "duration": 27,
    "start_time": "2023-09-13T13:34:05.684Z"
   },
   {
    "duration": 68,
    "start_time": "2023-09-13T13:34:05.713Z"
   },
   {
    "duration": 22,
    "start_time": "2023-09-13T13:34:05.783Z"
   },
   {
    "duration": 24,
    "start_time": "2023-09-13T13:34:05.807Z"
   },
   {
    "duration": 21,
    "start_time": "2023-09-13T13:34:05.833Z"
   },
   {
    "duration": 176,
    "start_time": "2023-09-13T13:34:05.856Z"
   },
   {
    "duration": 20,
    "start_time": "2023-09-13T13:34:06.033Z"
   },
   {
    "duration": 21,
    "start_time": "2023-09-13T13:34:06.066Z"
   },
   {
    "duration": 23,
    "start_time": "2023-09-13T13:34:06.089Z"
   },
   {
    "duration": 48,
    "start_time": "2023-09-13T13:34:06.113Z"
   },
   {
    "duration": 74,
    "start_time": "2023-09-13T13:34:06.163Z"
   },
   {
    "duration": 20,
    "start_time": "2023-09-13T13:34:06.239Z"
   },
   {
    "duration": 47,
    "start_time": "2023-09-13T13:34:06.260Z"
   },
   {
    "duration": 84,
    "start_time": "2023-09-13T13:34:06.308Z"
   },
   {
    "duration": 7,
    "start_time": "2023-09-13T13:34:06.394Z"
   },
   {
    "duration": 29,
    "start_time": "2023-09-13T13:34:06.402Z"
   },
   {
    "duration": 46,
    "start_time": "2023-09-13T13:34:06.433Z"
   },
   {
    "duration": 71,
    "start_time": "2023-09-13T13:34:06.481Z"
   },
   {
    "duration": 6,
    "start_time": "2023-09-13T13:34:06.556Z"
   },
   {
    "duration": 48,
    "start_time": "2023-09-13T13:34:06.564Z"
   },
   {
    "duration": 34,
    "start_time": "2023-09-13T13:34:06.614Z"
   },
   {
    "duration": 301,
    "start_time": "2023-09-13T13:34:06.650Z"
   },
   {
    "duration": 6,
    "start_time": "2023-09-13T13:34:06.952Z"
   },
   {
    "duration": 32,
    "start_time": "2023-09-13T13:34:06.967Z"
   },
   {
    "duration": 10,
    "start_time": "2023-09-13T13:34:07.001Z"
   },
   {
    "duration": 135,
    "start_time": "2023-09-13T13:34:07.013Z"
   },
   {
    "duration": 27,
    "start_time": "2023-09-13T13:34:07.150Z"
   },
   {
    "duration": 31,
    "start_time": "2023-09-13T13:34:07.179Z"
   },
   {
    "duration": 118,
    "start_time": "2023-09-13T13:34:07.211Z"
   },
   {
    "duration": 5,
    "start_time": "2023-09-13T13:34:07.331Z"
   },
   {
    "duration": 30,
    "start_time": "2023-09-13T13:34:07.337Z"
   },
   {
    "duration": 42,
    "start_time": "2023-09-13T13:34:07.369Z"
   },
   {
    "duration": 7,
    "start_time": "2023-09-13T13:34:07.413Z"
   },
   {
    "duration": 11,
    "start_time": "2023-09-13T13:34:07.422Z"
   },
   {
    "duration": 10,
    "start_time": "2023-09-13T13:34:07.435Z"
   },
   {
    "duration": 21,
    "start_time": "2023-09-13T13:34:07.447Z"
   },
   {
    "duration": 24,
    "start_time": "2023-09-13T13:34:07.470Z"
   },
   {
    "duration": 18,
    "start_time": "2023-09-13T13:34:07.496Z"
   },
   {
    "duration": 15,
    "start_time": "2023-09-13T13:34:07.516Z"
   },
   {
    "duration": 13,
    "start_time": "2023-09-13T13:34:07.533Z"
   },
   {
    "duration": 23,
    "start_time": "2023-09-13T13:34:07.548Z"
   },
   {
    "duration": 45,
    "start_time": "2023-09-13T13:34:07.573Z"
   },
   {
    "duration": 41,
    "start_time": "2023-09-13T13:34:07.620Z"
   },
   {
    "duration": 19,
    "start_time": "2023-09-13T13:34:07.663Z"
   },
   {
    "duration": 19,
    "start_time": "2023-09-13T13:34:07.683Z"
   },
   {
    "duration": 141,
    "start_time": "2023-09-13T13:34:07.703Z"
   },
   {
    "duration": 116,
    "start_time": "2023-09-13T13:34:07.847Z"
   },
   {
    "duration": 302,
    "start_time": "2023-09-13T13:34:07.967Z"
   },
   {
    "duration": 150,
    "start_time": "2023-09-13T13:34:08.271Z"
   },
   {
    "duration": 29,
    "start_time": "2023-09-13T13:34:08.423Z"
   },
   {
    "duration": 26,
    "start_time": "2023-09-13T13:34:08.454Z"
   },
   {
    "duration": 28,
    "start_time": "2023-09-13T13:34:08.481Z"
   },
   {
    "duration": 9,
    "start_time": "2023-09-13T13:34:08.511Z"
   },
   {
    "duration": 28,
    "start_time": "2023-09-13T13:34:08.522Z"
   },
   {
    "duration": 61,
    "start_time": "2023-09-13T13:34:08.552Z"
   },
   {
    "duration": 62,
    "start_time": "2023-09-13T13:34:08.616Z"
   },
   {
    "duration": 29,
    "start_time": "2023-09-13T13:34:08.680Z"
   },
   {
    "duration": 55,
    "start_time": "2023-09-13T13:34:08.712Z"
   },
   {
    "duration": 14,
    "start_time": "2023-09-13T13:34:08.769Z"
   },
   {
    "duration": 129,
    "start_time": "2023-09-13T13:34:08.785Z"
   },
   {
    "duration": 8,
    "start_time": "2023-09-13T13:34:08.915Z"
   },
   {
    "duration": 24,
    "start_time": "2023-09-13T13:34:08.925Z"
   },
   {
    "duration": 26,
    "start_time": "2023-09-13T13:34:08.951Z"
   },
   {
    "duration": 29,
    "start_time": "2023-09-13T13:34:08.979Z"
   },
   {
    "duration": 15,
    "start_time": "2023-09-13T13:34:09.010Z"
   },
   {
    "duration": 194,
    "start_time": "2023-09-13T13:34:09.027Z"
   },
   {
    "duration": 12,
    "start_time": "2023-09-13T13:34:09.223Z"
   },
   {
    "duration": 22,
    "start_time": "2023-09-13T13:34:09.237Z"
   },
   {
    "duration": 20,
    "start_time": "2023-09-13T13:34:09.261Z"
   },
   {
    "duration": 272,
    "start_time": "2023-09-13T13:34:09.283Z"
   },
   {
    "duration": 18,
    "start_time": "2023-09-13T13:34:09.556Z"
   },
   {
    "duration": 17,
    "start_time": "2023-09-13T13:34:09.575Z"
   },
   {
    "duration": 18,
    "start_time": "2023-09-13T13:34:09.597Z"
   },
   {
    "duration": 33,
    "start_time": "2023-09-13T13:34:09.616Z"
   },
   {
    "duration": 17,
    "start_time": "2023-09-13T13:34:09.650Z"
   },
   {
    "duration": 259,
    "start_time": "2023-09-13T13:34:09.669Z"
   },
   {
    "duration": 18,
    "start_time": "2023-09-13T13:34:09.930Z"
   },
   {
    "duration": 31,
    "start_time": "2023-09-13T13:34:09.949Z"
   },
   {
    "duration": 43,
    "start_time": "2023-09-13T13:34:09.981Z"
   },
   {
    "duration": 481,
    "start_time": "2023-09-13T13:34:10.026Z"
   },
   {
    "duration": 23,
    "start_time": "2023-09-13T13:34:10.509Z"
   },
   {
    "duration": 188,
    "start_time": "2023-09-13T13:34:10.534Z"
   },
   {
    "duration": 10,
    "start_time": "2023-09-13T13:34:10.724Z"
   },
   {
    "duration": 13,
    "start_time": "2023-09-13T13:34:10.736Z"
   },
   {
    "duration": 17,
    "start_time": "2023-09-13T13:34:10.751Z"
   },
   {
    "duration": 7,
    "start_time": "2023-09-13T13:34:10.769Z"
   },
   {
    "duration": 9,
    "start_time": "2023-09-13T13:34:10.778Z"
   },
   {
    "duration": 3,
    "start_time": "2023-09-13T13:55:54.695Z"
   },
   {
    "duration": 1159,
    "start_time": "2023-09-13T13:55:54.700Z"
   },
   {
    "duration": 89,
    "start_time": "2023-09-13T13:55:55.861Z"
   },
   {
    "duration": 38,
    "start_time": "2023-09-13T13:55:55.966Z"
   },
   {
    "duration": 40,
    "start_time": "2023-09-13T13:55:56.007Z"
   },
   {
    "duration": 27,
    "start_time": "2023-09-13T13:55:56.067Z"
   },
   {
    "duration": 67,
    "start_time": "2023-09-13T13:55:56.095Z"
   },
   {
    "duration": 5,
    "start_time": "2023-09-13T13:55:56.163Z"
   },
   {
    "duration": 11,
    "start_time": "2023-09-13T13:55:56.169Z"
   },
   {
    "duration": 14,
    "start_time": "2023-09-13T13:55:56.181Z"
   },
   {
    "duration": 9,
    "start_time": "2023-09-13T13:55:56.196Z"
   },
   {
    "duration": 22,
    "start_time": "2023-09-13T13:55:56.207Z"
   },
   {
    "duration": 12,
    "start_time": "2023-09-13T13:55:56.231Z"
   },
   {
    "duration": 13,
    "start_time": "2023-09-13T13:55:56.247Z"
   },
   {
    "duration": 177,
    "start_time": "2023-09-13T13:55:56.262Z"
   },
   {
    "duration": 27,
    "start_time": "2023-09-13T13:55:56.441Z"
   },
   {
    "duration": 9,
    "start_time": "2023-09-13T13:55:56.469Z"
   },
   {
    "duration": 25,
    "start_time": "2023-09-13T13:55:56.480Z"
   },
   {
    "duration": 15,
    "start_time": "2023-09-13T13:55:56.507Z"
   },
   {
    "duration": 9,
    "start_time": "2023-09-13T13:55:56.524Z"
   },
   {
    "duration": 19,
    "start_time": "2023-09-13T13:55:56.535Z"
   },
   {
    "duration": 24,
    "start_time": "2023-09-13T13:55:56.555Z"
   },
   {
    "duration": 96,
    "start_time": "2023-09-13T13:55:56.580Z"
   },
   {
    "duration": 8,
    "start_time": "2023-09-13T13:55:56.677Z"
   },
   {
    "duration": 25,
    "start_time": "2023-09-13T13:55:56.686Z"
   },
   {
    "duration": 18,
    "start_time": "2023-09-13T13:55:56.712Z"
   },
   {
    "duration": 78,
    "start_time": "2023-09-13T13:55:56.731Z"
   },
   {
    "duration": 5,
    "start_time": "2023-09-13T13:55:56.811Z"
   },
   {
    "duration": 29,
    "start_time": "2023-09-13T13:55:56.817Z"
   },
   {
    "duration": 24,
    "start_time": "2023-09-13T13:55:56.848Z"
   },
   {
    "duration": 275,
    "start_time": "2023-09-13T13:55:56.874Z"
   },
   {
    "duration": 6,
    "start_time": "2023-09-13T13:55:57.151Z"
   },
   {
    "duration": 39,
    "start_time": "2023-09-13T13:55:57.167Z"
   },
   {
    "duration": 11,
    "start_time": "2023-09-13T13:55:57.209Z"
   },
   {
    "duration": 130,
    "start_time": "2023-09-13T13:55:57.222Z"
   },
   {
    "duration": 12,
    "start_time": "2023-09-13T13:55:57.354Z"
   },
   {
    "duration": 25,
    "start_time": "2023-09-13T13:55:57.368Z"
   },
   {
    "duration": 156,
    "start_time": "2023-09-13T13:55:57.394Z"
   },
   {
    "duration": 5,
    "start_time": "2023-09-13T13:55:57.551Z"
   },
   {
    "duration": 74,
    "start_time": "2023-09-13T13:55:57.567Z"
   },
   {
    "duration": 110,
    "start_time": "2023-09-13T13:55:57.646Z"
   },
   {
    "duration": 10,
    "start_time": "2023-09-13T13:55:57.758Z"
   },
   {
    "duration": 33,
    "start_time": "2023-09-13T13:55:57.769Z"
   },
   {
    "duration": 49,
    "start_time": "2023-09-13T13:55:57.804Z"
   },
   {
    "duration": 30,
    "start_time": "2023-09-13T13:55:57.854Z"
   },
   {
    "duration": 12,
    "start_time": "2023-09-13T13:55:57.885Z"
   },
   {
    "duration": 66,
    "start_time": "2023-09-13T13:55:57.898Z"
   },
   {
    "duration": 19,
    "start_time": "2023-09-13T13:55:57.965Z"
   },
   {
    "duration": 8,
    "start_time": "2023-09-13T13:55:57.985Z"
   },
   {
    "duration": 20,
    "start_time": "2023-09-13T13:55:57.995Z"
   },
   {
    "duration": 27,
    "start_time": "2023-09-13T13:55:58.017Z"
   },
   {
    "duration": 72,
    "start_time": "2023-09-13T13:55:58.046Z"
   },
   {
    "duration": 19,
    "start_time": "2023-09-13T13:55:58.120Z"
   },
   {
    "duration": 16,
    "start_time": "2023-09-13T13:55:58.141Z"
   },
   {
    "duration": 138,
    "start_time": "2023-09-13T13:55:58.158Z"
   },
   {
    "duration": 106,
    "start_time": "2023-09-13T13:55:58.298Z"
   },
   {
    "duration": 372,
    "start_time": "2023-09-13T13:55:58.406Z"
   },
   {
    "duration": 199,
    "start_time": "2023-09-13T13:55:58.780Z"
   },
   {
    "duration": 88,
    "start_time": "2023-09-13T13:55:58.980Z"
   },
   {
    "duration": 17,
    "start_time": "2023-09-13T13:55:59.070Z"
   },
   {
    "duration": 28,
    "start_time": "2023-09-13T13:55:59.089Z"
   },
   {
    "duration": 18,
    "start_time": "2023-09-13T13:55:59.119Z"
   },
   {
    "duration": 32,
    "start_time": "2023-09-13T13:55:59.139Z"
   },
   {
    "duration": 39,
    "start_time": "2023-09-13T13:55:59.174Z"
   },
   {
    "duration": 55,
    "start_time": "2023-09-13T13:55:59.214Z"
   },
   {
    "duration": 15,
    "start_time": "2023-09-13T13:55:59.271Z"
   },
   {
    "duration": 19,
    "start_time": "2023-09-13T13:55:59.288Z"
   },
   {
    "duration": 9,
    "start_time": "2023-09-13T13:55:59.309Z"
   },
   {
    "duration": 131,
    "start_time": "2023-09-13T13:55:59.320Z"
   },
   {
    "duration": 15,
    "start_time": "2023-09-13T13:55:59.452Z"
   },
   {
    "duration": 19,
    "start_time": "2023-09-13T13:55:59.469Z"
   },
   {
    "duration": 13,
    "start_time": "2023-09-13T13:55:59.490Z"
   },
   {
    "duration": 39,
    "start_time": "2023-09-13T13:55:59.505Z"
   },
   {
    "duration": 24,
    "start_time": "2023-09-13T13:55:59.547Z"
   },
   {
    "duration": 196,
    "start_time": "2023-09-13T13:55:59.573Z"
   },
   {
    "duration": 14,
    "start_time": "2023-09-13T13:55:59.772Z"
   },
   {
    "duration": 11,
    "start_time": "2023-09-13T13:55:59.788Z"
   },
   {
    "duration": 20,
    "start_time": "2023-09-13T13:55:59.801Z"
   },
   {
    "duration": 389,
    "start_time": "2023-09-13T13:55:59.823Z"
   },
   {
    "duration": 17,
    "start_time": "2023-09-13T13:56:00.214Z"
   },
   {
    "duration": 47,
    "start_time": "2023-09-13T13:56:00.233Z"
   },
   {
    "duration": 46,
    "start_time": "2023-09-13T13:56:00.282Z"
   },
   {
    "duration": 19,
    "start_time": "2023-09-13T13:56:00.331Z"
   },
   {
    "duration": 30,
    "start_time": "2023-09-13T13:56:00.352Z"
   },
   {
    "duration": 268,
    "start_time": "2023-09-13T13:56:00.384Z"
   },
   {
    "duration": 19,
    "start_time": "2023-09-13T13:56:00.654Z"
   },
   {
    "duration": 41,
    "start_time": "2023-09-13T13:56:00.675Z"
   },
   {
    "duration": 65,
    "start_time": "2023-09-13T13:56:00.718Z"
   },
   {
    "duration": 108,
    "start_time": "2023-09-13T13:56:00.785Z"
   },
   {
    "duration": 59,
    "start_time": "2023-09-13T13:56:00.895Z"
   },
   {
    "duration": 140,
    "start_time": "2023-09-13T13:56:00.956Z"
   },
   {
    "duration": 11,
    "start_time": "2023-09-13T13:56:01.098Z"
   },
   {
    "duration": 38,
    "start_time": "2023-09-13T13:56:01.111Z"
   },
   {
    "duration": 49,
    "start_time": "2023-09-13T13:56:01.151Z"
   },
   {
    "duration": 35,
    "start_time": "2023-09-13T13:56:01.202Z"
   },
   {
    "duration": 35,
    "start_time": "2023-09-13T13:56:01.239Z"
   },
   {
    "duration": 4,
    "start_time": "2023-09-13T14:19:38.204Z"
   },
   {
    "duration": 991,
    "start_time": "2023-09-13T14:19:38.223Z"
   },
   {
    "duration": 101,
    "start_time": "2023-09-13T14:19:39.216Z"
   },
   {
    "duration": 49,
    "start_time": "2023-09-13T14:19:39.320Z"
   },
   {
    "duration": 79,
    "start_time": "2023-09-13T14:19:39.371Z"
   },
   {
    "duration": 47,
    "start_time": "2023-09-13T14:19:39.452Z"
   },
   {
    "duration": 78,
    "start_time": "2023-09-13T14:19:39.501Z"
   },
   {
    "duration": 4,
    "start_time": "2023-09-13T14:19:39.581Z"
   },
   {
    "duration": 23,
    "start_time": "2023-09-13T14:19:39.587Z"
   },
   {
    "duration": 17,
    "start_time": "2023-09-13T14:19:39.611Z"
   },
   {
    "duration": 35,
    "start_time": "2023-09-13T14:19:39.629Z"
   },
   {
    "duration": 7,
    "start_time": "2023-09-13T14:19:39.666Z"
   },
   {
    "duration": 33,
    "start_time": "2023-09-13T14:19:39.675Z"
   },
   {
    "duration": 21,
    "start_time": "2023-09-13T14:19:39.709Z"
   },
   {
    "duration": 197,
    "start_time": "2023-09-13T14:19:39.733Z"
   },
   {
    "duration": 36,
    "start_time": "2023-09-13T14:19:39.932Z"
   },
   {
    "duration": 10,
    "start_time": "2023-09-13T14:19:39.970Z"
   },
   {
    "duration": 48,
    "start_time": "2023-09-13T14:19:39.982Z"
   },
   {
    "duration": 61,
    "start_time": "2023-09-13T14:19:40.032Z"
   },
   {
    "duration": 25,
    "start_time": "2023-09-13T14:19:40.095Z"
   },
   {
    "duration": 36,
    "start_time": "2023-09-13T14:19:40.122Z"
   },
   {
    "duration": 23,
    "start_time": "2023-09-13T14:19:40.160Z"
   },
   {
    "duration": 79,
    "start_time": "2023-09-13T14:19:40.185Z"
   },
   {
    "duration": 7,
    "start_time": "2023-09-13T14:19:40.266Z"
   },
   {
    "duration": 24,
    "start_time": "2023-09-13T14:19:40.275Z"
   },
   {
    "duration": 55,
    "start_time": "2023-09-13T14:19:40.301Z"
   },
   {
    "duration": 91,
    "start_time": "2023-09-13T14:19:40.358Z"
   },
   {
    "duration": 6,
    "start_time": "2023-09-13T14:19:40.451Z"
   },
   {
    "duration": 41,
    "start_time": "2023-09-13T14:19:40.458Z"
   },
   {
    "duration": 46,
    "start_time": "2023-09-13T14:19:40.501Z"
   },
   {
    "duration": 323,
    "start_time": "2023-09-13T14:19:40.549Z"
   },
   {
    "duration": 6,
    "start_time": "2023-09-13T14:19:40.874Z"
   },
   {
    "duration": 49,
    "start_time": "2023-09-13T14:19:40.882Z"
   },
   {
    "duration": 15,
    "start_time": "2023-09-13T14:19:40.933Z"
   },
   {
    "duration": 202,
    "start_time": "2023-09-13T14:19:40.950Z"
   },
   {
    "duration": 35,
    "start_time": "2023-09-13T14:19:41.154Z"
   },
   {
    "duration": 48,
    "start_time": "2023-09-13T14:19:41.192Z"
   },
   {
    "duration": 135,
    "start_time": "2023-09-13T14:19:41.242Z"
   },
   {
    "duration": 6,
    "start_time": "2023-09-13T14:19:41.379Z"
   },
   {
    "duration": 284,
    "start_time": "2023-09-13T14:19:41.386Z"
   },
   {
    "duration": 59,
    "start_time": "2023-09-13T14:19:41.672Z"
   },
   {
    "duration": 14,
    "start_time": "2023-09-13T14:19:41.736Z"
   },
   {
    "duration": 35,
    "start_time": "2023-09-13T14:19:41.752Z"
   },
   {
    "duration": 87,
    "start_time": "2023-09-13T14:19:41.789Z"
   },
   {
    "duration": 11,
    "start_time": "2023-09-13T14:19:41.878Z"
   },
   {
    "duration": 22,
    "start_time": "2023-09-13T14:19:41.891Z"
   },
   {
    "duration": 63,
    "start_time": "2023-09-13T14:19:41.915Z"
   },
   {
    "duration": 21,
    "start_time": "2023-09-13T14:19:41.980Z"
   },
   {
    "duration": 23,
    "start_time": "2023-09-13T14:19:42.003Z"
   },
   {
    "duration": 44,
    "start_time": "2023-09-13T14:19:42.027Z"
   },
   {
    "duration": 45,
    "start_time": "2023-09-13T14:19:42.072Z"
   },
   {
    "duration": 48,
    "start_time": "2023-09-13T14:19:42.119Z"
   },
   {
    "duration": 23,
    "start_time": "2023-09-13T14:19:42.168Z"
   },
   {
    "duration": 39,
    "start_time": "2023-09-13T14:19:42.193Z"
   },
   {
    "duration": 201,
    "start_time": "2023-09-13T14:19:42.234Z"
   },
   {
    "duration": 116,
    "start_time": "2023-09-13T14:19:42.437Z"
   },
   {
    "duration": 295,
    "start_time": "2023-09-13T14:19:42.555Z"
   },
   {
    "duration": 151,
    "start_time": "2023-09-13T14:19:42.852Z"
   },
   {
    "duration": 33,
    "start_time": "2023-09-13T14:19:43.005Z"
   },
   {
    "duration": 34,
    "start_time": "2023-09-13T14:19:43.040Z"
   },
   {
    "duration": 25,
    "start_time": "2023-09-13T14:19:43.075Z"
   },
   {
    "duration": 10,
    "start_time": "2023-09-13T14:19:43.102Z"
   },
   {
    "duration": 22,
    "start_time": "2023-09-13T14:19:43.114Z"
   },
   {
    "duration": 50,
    "start_time": "2023-09-13T14:19:43.138Z"
   },
   {
    "duration": 48,
    "start_time": "2023-09-13T14:19:43.190Z"
   },
   {
    "duration": 31,
    "start_time": "2023-09-13T14:19:43.240Z"
   },
   {
    "duration": 19,
    "start_time": "2023-09-13T14:19:43.273Z"
   },
   {
    "duration": 10,
    "start_time": "2023-09-13T14:19:43.294Z"
   },
   {
    "duration": 143,
    "start_time": "2023-09-13T14:19:43.307Z"
   },
   {
    "duration": 15,
    "start_time": "2023-09-13T14:19:43.453Z"
   },
   {
    "duration": 22,
    "start_time": "2023-09-13T14:19:43.470Z"
   },
   {
    "duration": 34,
    "start_time": "2023-09-13T14:19:43.494Z"
   },
   {
    "duration": 20,
    "start_time": "2023-09-13T14:19:43.530Z"
   },
   {
    "duration": 16,
    "start_time": "2023-09-13T14:19:43.566Z"
   },
   {
    "duration": 201,
    "start_time": "2023-09-13T14:19:43.584Z"
   },
   {
    "duration": 14,
    "start_time": "2023-09-13T14:19:43.787Z"
   },
   {
    "duration": 27,
    "start_time": "2023-09-13T14:19:43.803Z"
   },
   {
    "duration": 8,
    "start_time": "2023-09-13T14:19:43.832Z"
   },
   {
    "duration": 323,
    "start_time": "2023-09-13T14:19:43.841Z"
   },
   {
    "duration": 15,
    "start_time": "2023-09-13T14:19:44.167Z"
   },
   {
    "duration": 12,
    "start_time": "2023-09-13T14:19:44.183Z"
   },
   {
    "duration": 20,
    "start_time": "2023-09-13T14:19:44.197Z"
   },
   {
    "duration": 49,
    "start_time": "2023-09-13T14:19:44.219Z"
   },
   {
    "duration": 9,
    "start_time": "2023-09-13T14:19:44.270Z"
   },
   {
    "duration": 259,
    "start_time": "2023-09-13T14:19:44.281Z"
   },
   {
    "duration": 33,
    "start_time": "2023-09-13T14:19:44.542Z"
   },
   {
    "duration": 14,
    "start_time": "2023-09-13T14:19:44.577Z"
   },
   {
    "duration": 16,
    "start_time": "2023-09-13T14:19:44.593Z"
   },
   {
    "duration": 49,
    "start_time": "2023-09-13T14:19:44.611Z"
   },
   {
    "duration": 28,
    "start_time": "2023-09-13T14:19:44.666Z"
   },
   {
    "duration": 141,
    "start_time": "2023-09-13T14:19:44.695Z"
   },
   {
    "duration": 32,
    "start_time": "2023-09-13T14:19:44.838Z"
   },
   {
    "duration": 5,
    "start_time": "2023-09-13T14:19:44.872Z"
   },
   {
    "duration": 24,
    "start_time": "2023-09-13T14:19:44.879Z"
   },
   {
    "duration": 10,
    "start_time": "2023-09-13T14:19:44.905Z"
   },
   {
    "duration": 30,
    "start_time": "2023-09-13T14:19:44.917Z"
   }
  ],
  "kernelspec": {
   "display_name": "Python 3 (ipykernel)",
   "language": "python",
   "name": "python3"
  },
  "language_info": {
   "codemirror_mode": {
    "name": "ipython",
    "version": 3
   },
   "file_extension": ".py",
   "mimetype": "text/x-python",
   "name": "python",
   "nbconvert_exporter": "python",
   "pygments_lexer": "ipython3",
   "version": "3.9.5"
  },
  "toc": {
   "base_numbering": 1,
   "nav_menu": {},
   "number_sections": true,
   "sideBar": true,
   "skip_h1_title": true,
   "title_cell": "Содержание",
   "title_sidebar": "Contents",
   "toc_cell": false,
   "toc_position": {},
   "toc_section_display": true,
   "toc_window_display": true
  }
 },
 "nbformat": 4,
 "nbformat_minor": 2
}
